{
 "cells": [
  {
   "cell_type": "code",
   "execution_count": 50,
   "metadata": {},
   "outputs": [
    {
     "data": {
      "text/plain": [
       "'it_IT'"
      ]
     },
     "execution_count": 50,
     "metadata": {},
     "output_type": "execute_result"
    }
   ],
   "source": [
    "\n",
    "import pandas as pd\n",
    "pd.set_option(\"max_colwidth\", None)\n",
    "import pandas as pd\n",
    "import pytorch_lightning as pl\n",
    "from pytorch_lightning.callbacks import EarlyStopping, LearningRateMonitor\n",
    "import torch\n",
    "from pytorch_forecasting import Baseline, TemporalFusionTransformer, TimeSeriesDataSet, NaNLabelEncoder\n",
    "from pytorch_forecasting.data import GroupNormalizer\n",
    "from pytorch_forecasting.metrics import SMAPE, QuantileLoss, MAPE\n",
    "import locale\n",
    "import pickle\n",
    "locale.setlocale(locale.LC_ALL, 'it_IT')\n"
   ]
  },
  {
   "cell_type": "code",
   "execution_count": 51,
   "metadata": {},
   "outputs": [],
   "source": [
    "df_settimanale = pd.read_csv(\"processed_data/first_dataset.csv\")\n",
    "df_settimanale[\"time_idx\"] = df_settimanale[\"time_idx\"].astype(int)\n",
    "df_settimanale[\"azoto_oraria_max\"] = df_settimanale[\"azoto_oraria_max\"].astype(float)\n",
    "df_settimanale[\"zolfo_giornaliera\"] = df_settimanale[\"zolfo_giornaliera\"].astype(float)\n",
    "df_settimanale[\"ozono_8h_max\"] = df_settimanale[\"ozono_8h_max\"].astype(float)\n",
    "df_settimanale[\"pm2dot5_giornaliera\"] = df_settimanale[\"pm2dot5_giornaliera\"].astype(float)\n",
    "df_settimanale[\"pm10_giornaliera\"] = df_settimanale[\"pm10_giornaliera\"].astype(float)\n",
    "df_settimanale[\"provincia\"] = df_settimanale[\"provincia\"].astype(str)\n"
   ]
  },
  {
   "cell_type": "code",
   "execution_count": 52,
   "metadata": {},
   "outputs": [
    {
     "data": {
      "text/html": [
       "<div>\n",
       "<style scoped>\n",
       "    .dataframe tbody tr th:only-of-type {\n",
       "        vertical-align: middle;\n",
       "    }\n",
       "\n",
       "    .dataframe tbody tr th {\n",
       "        vertical-align: top;\n",
       "    }\n",
       "\n",
       "    .dataframe thead th {\n",
       "        text-align: right;\n",
       "    }\n",
       "</style>\n",
       "<table border=\"1\" class=\"dataframe\">\n",
       "  <thead>\n",
       "    <tr style=\"text-align: right;\">\n",
       "      <th></th>\n",
       "      <th>provincia</th>\n",
       "      <th>time_idx</th>\n",
       "      <th>azoto_oraria_max</th>\n",
       "      <th>zolfo_giornaliera</th>\n",
       "      <th>ozono_8h_max</th>\n",
       "      <th>pm2dot5_giornaliera</th>\n",
       "      <th>pm10_giornaliera</th>\n",
       "      <th>relative_time_w</th>\n",
       "      <th>relative_time_y</th>\n",
       "      <th>relative_time_m</th>\n",
       "    </tr>\n",
       "  </thead>\n",
       "  <tbody>\n",
       "    <tr>\n",
       "      <th>0</th>\n",
       "      <td>Gorizia</td>\n",
       "      <td>0</td>\n",
       "      <td>28.006272</td>\n",
       "      <td>3.661250</td>\n",
       "      <td>53.649062</td>\n",
       "      <td>16.647083</td>\n",
       "      <td>18.015583</td>\n",
       "      <td>1.0</td>\n",
       "      <td>2014.0</td>\n",
       "      <td>5.125000</td>\n",
       "    </tr>\n",
       "    <tr>\n",
       "      <th>1</th>\n",
       "      <td>Gorizia</td>\n",
       "      <td>1</td>\n",
       "      <td>45.018673</td>\n",
       "      <td>5.331905</td>\n",
       "      <td>13.312857</td>\n",
       "      <td>40.959762</td>\n",
       "      <td>49.991549</td>\n",
       "      <td>2.0</td>\n",
       "      <td>2014.0</td>\n",
       "      <td>1.000000</td>\n",
       "    </tr>\n",
       "    <tr>\n",
       "      <th>2</th>\n",
       "      <td>Gorizia</td>\n",
       "      <td>2</td>\n",
       "      <td>45.632117</td>\n",
       "      <td>4.936048</td>\n",
       "      <td>40.546714</td>\n",
       "      <td>22.282857</td>\n",
       "      <td>29.161928</td>\n",
       "      <td>3.0</td>\n",
       "      <td>2014.0</td>\n",
       "      <td>1.000000</td>\n",
       "    </tr>\n",
       "    <tr>\n",
       "      <th>3</th>\n",
       "      <td>Gorizia</td>\n",
       "      <td>3</td>\n",
       "      <td>44.446463</td>\n",
       "      <td>5.484762</td>\n",
       "      <td>32.052524</td>\n",
       "      <td>14.080952</td>\n",
       "      <td>17.742073</td>\n",
       "      <td>4.0</td>\n",
       "      <td>2014.0</td>\n",
       "      <td>1.000000</td>\n",
       "    </tr>\n",
       "    <tr>\n",
       "      <th>4</th>\n",
       "      <td>Gorizia</td>\n",
       "      <td>4</td>\n",
       "      <td>30.148980</td>\n",
       "      <td>4.187143</td>\n",
       "      <td>57.219524</td>\n",
       "      <td>14.944286</td>\n",
       "      <td>17.136072</td>\n",
       "      <td>5.0</td>\n",
       "      <td>2014.0</td>\n",
       "      <td>1.285714</td>\n",
       "    </tr>\n",
       "    <tr>\n",
       "      <th>...</th>\n",
       "      <td>...</td>\n",
       "      <td>...</td>\n",
       "      <td>...</td>\n",
       "      <td>...</td>\n",
       "      <td>...</td>\n",
       "      <td>...</td>\n",
       "      <td>...</td>\n",
       "      <td>...</td>\n",
       "      <td>...</td>\n",
       "      <td>...</td>\n",
       "    </tr>\n",
       "    <tr>\n",
       "      <th>1431</th>\n",
       "      <td>Udine</td>\n",
       "      <td>354</td>\n",
       "      <td>32.206987</td>\n",
       "      <td>3.108571</td>\n",
       "      <td>64.327466</td>\n",
       "      <td>29.528571</td>\n",
       "      <td>32.824346</td>\n",
       "      <td>43.0</td>\n",
       "      <td>2020.0</td>\n",
       "      <td>10.000000</td>\n",
       "    </tr>\n",
       "    <tr>\n",
       "      <th>1432</th>\n",
       "      <td>Udine</td>\n",
       "      <td>355</td>\n",
       "      <td>35.572812</td>\n",
       "      <td>2.835714</td>\n",
       "      <td>49.331905</td>\n",
       "      <td>16.853571</td>\n",
       "      <td>19.789032</td>\n",
       "      <td>44.0</td>\n",
       "      <td>2020.0</td>\n",
       "      <td>10.142857</td>\n",
       "    </tr>\n",
       "    <tr>\n",
       "      <th>1433</th>\n",
       "      <td>Udine</td>\n",
       "      <td>356</td>\n",
       "      <td>39.426567</td>\n",
       "      <td>1.990000</td>\n",
       "      <td>43.992847</td>\n",
       "      <td>20.578049</td>\n",
       "      <td>24.522095</td>\n",
       "      <td>45.0</td>\n",
       "      <td>2020.0</td>\n",
       "      <td>11.000000</td>\n",
       "    </tr>\n",
       "    <tr>\n",
       "      <th>1434</th>\n",
       "      <td>Udine</td>\n",
       "      <td>357</td>\n",
       "      <td>41.356416</td>\n",
       "      <td>2.164286</td>\n",
       "      <td>43.834728</td>\n",
       "      <td>22.157143</td>\n",
       "      <td>22.998696</td>\n",
       "      <td>46.0</td>\n",
       "      <td>2020.0</td>\n",
       "      <td>11.000000</td>\n",
       "    </tr>\n",
       "    <tr>\n",
       "      <th>1435</th>\n",
       "      <td>Udine</td>\n",
       "      <td>358</td>\n",
       "      <td>40.933810</td>\n",
       "      <td>2.143333</td>\n",
       "      <td>47.374286</td>\n",
       "      <td>16.708333</td>\n",
       "      <td>18.144671</td>\n",
       "      <td>47.0</td>\n",
       "      <td>2020.0</td>\n",
       "      <td>11.000000</td>\n",
       "    </tr>\n",
       "  </tbody>\n",
       "</table>\n",
       "<p>1436 rows × 10 columns</p>\n",
       "</div>"
      ],
      "text/plain": [
       "     provincia  time_idx  azoto_oraria_max  zolfo_giornaliera  ozono_8h_max  \\\n",
       "0      Gorizia         0         28.006272           3.661250     53.649062   \n",
       "1      Gorizia         1         45.018673           5.331905     13.312857   \n",
       "2      Gorizia         2         45.632117           4.936048     40.546714   \n",
       "3      Gorizia         3         44.446463           5.484762     32.052524   \n",
       "4      Gorizia         4         30.148980           4.187143     57.219524   \n",
       "...        ...       ...               ...                ...           ...   \n",
       "1431     Udine       354         32.206987           3.108571     64.327466   \n",
       "1432     Udine       355         35.572812           2.835714     49.331905   \n",
       "1433     Udine       356         39.426567           1.990000     43.992847   \n",
       "1434     Udine       357         41.356416           2.164286     43.834728   \n",
       "1435     Udine       358         40.933810           2.143333     47.374286   \n",
       "\n",
       "      pm2dot5_giornaliera  pm10_giornaliera  relative_time_w  relative_time_y  \\\n",
       "0               16.647083         18.015583              1.0           2014.0   \n",
       "1               40.959762         49.991549              2.0           2014.0   \n",
       "2               22.282857         29.161928              3.0           2014.0   \n",
       "3               14.080952         17.742073              4.0           2014.0   \n",
       "4               14.944286         17.136072              5.0           2014.0   \n",
       "...                   ...               ...              ...              ...   \n",
       "1431            29.528571         32.824346             43.0           2020.0   \n",
       "1432            16.853571         19.789032             44.0           2020.0   \n",
       "1433            20.578049         24.522095             45.0           2020.0   \n",
       "1434            22.157143         22.998696             46.0           2020.0   \n",
       "1435            16.708333         18.144671             47.0           2020.0   \n",
       "\n",
       "      relative_time_m  \n",
       "0            5.125000  \n",
       "1            1.000000  \n",
       "2            1.000000  \n",
       "3            1.000000  \n",
       "4            1.285714  \n",
       "...               ...  \n",
       "1431        10.000000  \n",
       "1432        10.142857  \n",
       "1433        11.000000  \n",
       "1434        11.000000  \n",
       "1435        11.000000  \n",
       "\n",
       "[1436 rows x 10 columns]"
      ]
     },
     "execution_count": 52,
     "metadata": {},
     "output_type": "execute_result"
    }
   ],
   "source": [
    "df_settimanale=df_settimanale.drop([\"Unnamed: 0\"], axis=1)\n",
    "df_settimanale"
   ]
  },
  {
   "cell_type": "code",
   "execution_count": 53,
   "metadata": {},
   "outputs": [],
   "source": [
    "max_prediction_length = 4\n",
    "max_encoder_length = 16\n",
    "training_cutoff = df_settimanale[\"time_idx\"].max() - max_prediction_length\n",
    "\n",
    "training = TimeSeriesDataSet(\n",
    "    df_settimanale[lambda x: x.time_idx <= training_cutoff],\n",
    "    time_idx=\"time_idx\",\n",
    "    target=\"pm10_giornaliera\",\n",
    "    group_ids=[\"provincia\"],\n",
    "    min_encoder_length=max_encoder_length, \n",
    "    max_encoder_length=max_encoder_length,\n",
    "    min_prediction_length=max_prediction_length,\n",
    "    max_prediction_length=max_prediction_length,\n",
    "    static_categoricals=[\"provincia\"],\n",
    "    time_varying_known_reals=[\"time_idx\",\"relative_time_w\",\"relative_time_y\",\"relative_time_m\"],\n",
    "    time_varying_unknown_reals=[\n",
    "        \"azoto_oraria_max\",\"zolfo_giornaliera\",\n",
    "        \"ozono_8h_max\",\"pm2dot5_giornaliera\",\"pm10_giornaliera\"\n",
    "    ],\n",
    "    target_normalizer=GroupNormalizer(\n",
    "        groups=[\"provincia\"], transformation=\"relu\", scale_by_group=True\n",
    "    ),\n",
    "    add_relative_time_idx=True,\n",
    "    add_target_scales=True,\n",
    "    add_encoder_length=True,\n",
    ")"
   ]
  },
  {
   "cell_type": "code",
   "execution_count": 54,
   "metadata": {},
   "outputs": [],
   "source": [
    "validation = TimeSeriesDataSet.from_dataset(training, df_settimanale, predict=True, stop_randomization=True)\n",
    "\n",
    "batch_size = 64\n",
    "train_dataloader = training.to_dataloader(train=True, batch_size=batch_size, num_workers=0)\n",
    "val_dataloader = validation.to_dataloader(train=False, batch_size=batch_size, num_workers=0)"
   ]
  },
  {
   "cell_type": "markdown",
   "metadata": {},
   "source": [
    "Calcolo delle performance della baseline, utili per verificare i risultati dell'algoritmo"
   ]
  },
  {
   "cell_type": "code",
   "execution_count": 55,
   "metadata": {},
   "outputs": [
    {
     "data": {
      "text/plain": [
       "0.31406358"
      ]
     },
     "execution_count": 55,
     "metadata": {},
     "output_type": "execute_result"
    }
   ],
   "source": [
    "from sklearn.metrics import mean_absolute_percentage_error\n",
    "\n",
    "actuals = torch.cat([y for x, (y, weight) in iter(val_dataloader)])\n",
    "baseline_model = Baseline()\n",
    "baseline_predictions = baseline_model.predict(val_dataloader)\n",
    "maPe = mean_absolute_percentage_error(actuals.sum(1), baseline_predictions.sum(1))\n",
    "maPe"
   ]
  },
  {
   "cell_type": "markdown",
   "metadata": {},
   "source": [
    "## Training"
   ]
  },
  {
   "cell_type": "code",
   "execution_count": 56,
   "metadata": {},
   "outputs": [
    {
     "name": "stderr",
     "output_type": "stream",
     "text": [
      "GPU available: False, used: False\n",
      "TPU available: False, using: 0 TPU cores\n",
      "IPU available: False, using: 0 IPUs\n"
     ]
    },
    {
     "name": "stdout",
     "output_type": "stream",
     "text": [
      "Number of parameters in network: 25.4k\n"
     ]
    }
   ],
   "source": [
    "# configure network and trainer\n",
    "early_stop_callback = EarlyStopping(monitor=\"val_loss\", min_delta=1e-4, patience=15, verbose=False, mode=\"min\")\n",
    "lr_logger = LearningRateMonitor()  # log the learning rate\n",
    "\n",
    "trainer = pl.Trainer(\n",
    "    max_epochs=100,\n",
    "    gpus=0,\n",
    "    weights_summary=\"top\",\n",
    "    gradient_clip_val=0.2,\n",
    "    callbacks=[lr_logger],\n",
    ")\n",
    "\n",
    "tft = TemporalFusionTransformer.from_dataset(\n",
    "    training,\n",
    "    learning_rate=0.015,\n",
    "    hidden_size=16,  # most important hyperparameter apart from learning rate\n",
    "    attention_head_size=2,# number of attention heads. Set to up to 4 for large datasets\n",
    "    dropout=0.2,  # between 0.1 and 0.3 are good values\n",
    "    hidden_continuous_size=8,  # set to <= hidden_size\n",
    "    output_size=7,  \n",
    "    loss=QuantileLoss(),\n",
    "    reduce_on_plateau_patience=50,\n",
    ")\n",
    "print(f\"Number of parameters in network: {tft.size()/1e3:.1f}k\")"
   ]
  },
  {
   "cell_type": "code",
   "execution_count": 57,
   "metadata": {},
   "outputs": [
    {
     "name": "stderr",
     "output_type": "stream",
     "text": [
      "C:\\RoboDK\\Python37\\lib\\site-packages\\pytorch_lightning\\trainer\\trainer.py:733: LightningDeprecationWarning: `trainer.fit(train_dataloader)` is deprecated in v1.4 and will be removed in v1.6. Use `trainer.fit(train_dataloaders)` instead. HINT: added 's'\n",
      "  \"`trainer.fit(train_dataloader)` is deprecated in v1.4 and will be removed in v1.6.\"\n",
      "\n",
      "   | Name                               | Type                            | Params\n",
      "----------------------------------------------------------------------------------------\n",
      "0  | loss                               | QuantileLoss                    | 0     \n",
      "1  | logging_metrics                    | ModuleList                      | 0     \n",
      "2  | input_embeddings                   | MultiEmbedding                  | 12    \n",
      "3  | prescalers                         | ModuleDict                      | 208   \n",
      "4  | static_variable_selection          | VariableSelectionNetwork        | 1.8 K \n",
      "5  | encoder_variable_selection         | VariableSelectionNetwork        | 6.6 K \n",
      "6  | decoder_variable_selection         | VariableSelectionNetwork        | 3.0 K \n",
      "7  | static_context_variable_selection  | GatedResidualNetwork            | 1.1 K \n",
      "8  | static_context_initial_hidden_lstm | GatedResidualNetwork            | 1.1 K \n",
      "9  | static_context_initial_cell_lstm   | GatedResidualNetwork            | 1.1 K \n",
      "10 | static_context_enrichment          | GatedResidualNetwork            | 1.1 K \n",
      "11 | lstm_encoder                       | LSTM                            | 2.2 K \n",
      "12 | lstm_decoder                       | LSTM                            | 2.2 K \n",
      "13 | post_lstm_gate_encoder             | GatedLinearUnit                 | 544   \n",
      "14 | post_lstm_add_norm_encoder         | AddNorm                         | 32    \n",
      "15 | static_enrichment                  | GatedResidualNetwork            | 1.4 K \n",
      "16 | multihead_attn                     | InterpretableMultiHeadAttention | 808   \n",
      "17 | post_attn_gate_norm                | GateAddNorm                     | 576   \n",
      "18 | pos_wise_ff                        | GatedResidualNetwork            | 1.1 K \n",
      "19 | pre_output_gate_norm               | GateAddNorm                     | 576   \n",
      "20 | output_layer                       | Linear                          | 119   \n",
      "----------------------------------------------------------------------------------------\n",
      "25.4 K    Trainable params\n",
      "0         Non-trainable params\n",
      "25.4 K    Total params\n",
      "0.102     Total estimated model params size (MB)\n"
     ]
    },
    {
     "name": "stdout",
     "output_type": "stream",
     "text": [
      "                                                              "
     ]
    },
    {
     "name": "stderr",
     "output_type": "stream",
     "text": [
      "C:\\RoboDK\\Python37\\lib\\site-packages\\pytorch_lightning\\trainer\\data_loading.py:117: UserWarning: The dataloader, val_dataloader 0, does not have many workers which may be a bottleneck. Consider increasing the value of the `num_workers` argument` (try 8 which is the number of cpus on this machine) in the `DataLoader` init to improve performance.\n",
      "  f\"The dataloader, {name}, does not have many workers which may be a bottleneck.\"\n",
      "C:\\RoboDK\\Python37\\lib\\site-packages\\pytorch_lightning\\trainer\\data_loading.py:117: UserWarning: The dataloader, train_dataloader, does not have many workers which may be a bottleneck. Consider increasing the value of the `num_workers` argument` (try 8 which is the number of cpus on this machine) in the `DataLoader` init to improve performance.\n",
      "  f\"The dataloader, {name}, does not have many workers which may be a bottleneck.\"\n",
      "C:\\RoboDK\\Python37\\lib\\site-packages\\pytorch_lightning\\trainer\\data_loading.py:413: UserWarning: The number of training samples (21) is smaller than the logging interval Trainer(log_every_n_steps=50). Set a lower value for log_every_n_steps if you want to see logs for the training epoch.\n",
      "  f\"The number of training samples ({self.num_training_batches}) is smaller than the logging interval\"\n"
     ]
    },
    {
     "name": "stdout",
     "output_type": "stream",
     "text": [
      "Epoch 5: 100%|██████████| 22/22 [02:03<00:00,  5.63s/it, loss=1.8, v_num=1, train_loss_step=1.900, val_loss=2.160, train_loss_epoch=1.930]] \n",
      "Epoch 99: 100%|██████████| 22/22 [00:04<00:00,  5.46it/s, loss=0.875, v_num=0, train_loss_step=0.966, val_loss=3.310, train_loss_epoch=0.881]\n"
     ]
    }
   ],
   "source": [
    "# fit network\n",
    "tft.learning_rate=0.05\n",
    "trainer.fit(\n",
    "    tft,\n",
    "    train_dataloader=train_dataloader,\n",
    "    val_dataloaders=val_dataloader,\n",
    "    \n",
    ")"
   ]
  },
  {
   "cell_type": "markdown",
   "metadata": {},
   "source": [
    "## Valutazione del modello"
   ]
  },
  {
   "cell_type": "code",
   "execution_count": 58,
   "metadata": {},
   "outputs": [],
   "source": [
    "# load the best model according to the validation loss\n",
    "# (given that we use early stopping, this is not necessarily the last epoch)\n",
    "best_model_path = trainer.checkpoint_callback.best_model_path\n",
    "best_tft = TemporalFusionTransformer.load_from_checkpoint(best_model_path)"
   ]
  },
  {
   "cell_type": "code",
   "execution_count": 59,
   "metadata": {},
   "outputs": [
    {
     "data": {
      "text/plain": [
       "0.29297045"
      ]
     },
     "execution_count": 59,
     "metadata": {},
     "output_type": "execute_result"
    }
   ],
   "source": [
    "# calcualte mean absolute error on validation set\n",
    "actuals = torch.cat([y[0] for x, y in iter(val_dataloader)])\n",
    "predictions = best_tft.predict(val_dataloader)\n",
    "\n",
    "maPe = mean_absolute_percentage_error(actuals.sum(1), predictions.sum(1))\n",
    "maPe"
   ]
  },
  {
   "cell_type": "code",
   "execution_count": 61,
   "metadata": {},
   "outputs": [
    {
     "data": {
      "image/png": "[encoded data removed]",
      "text/plain": [
       "<Figure size 432x288 with 2 Axes>"
      ]
     },
     "metadata": {
      "needs_background": "light"
     },
     "output_type": "display_data"
    },
    {
     "data": {
      "image/png": "[encoded data removed]",
      "text/plain": [
       "<Figure size 432x288 with 2 Axes>"
      ]
     },
     "metadata": {
      "needs_background": "light"
     },
     "output_type": "display_data"
    },
    {
     "data": {
      "image/png": "[encoded data removed]",
      "text/plain": [
       "<Figure size 432x288 with 2 Axes>"
      ]
     },
     "metadata": {
      "needs_background": "light"
     },
     "output_type": "display_data"
    },
    {
     "data": {
      "image/png": "[encoded data removed]",
      "text/plain": [
       "<Figure size 432x288 with 2 Axes>"
      ]
     },
     "metadata": {
      "needs_background": "light"
     },
     "output_type": "display_data"
    }
   ],
   "source": [
    "# raw predictions are a dictionary from which all kind of information including quantiles can be extracted\n",
    "raw_predictions, x = best_tft.predict(val_dataloader, mode=\"raw\", return_x=True)\n",
    "\n",
    "\n",
    "for idx in range(4):\n",
    "    best_tft.plot_prediction(x, raw_predictions, idx=idx, add_loss_to_title=True)"
   ]
  },
  {
   "cell_type": "code",
   "execution_count": 62,
   "metadata": {},
   "outputs": [
    {
     "data": {
      "text/plain": [
       "{'encoder_length': <Figure size 720x360 with 2 Axes>,\n",
       " 'pm10_giornaliera_center': <Figure size 720x360 with 2 Axes>,\n",
       " 'pm10_giornaliera_scale': <Figure size 720x360 with 2 Axes>,\n",
       " 'time_idx': <Figure size 720x360 with 2 Axes>,\n",
       " 'relative_time_w': <Figure size 720x360 with 2 Axes>,\n",
       " 'relative_time_y': <Figure size 720x360 with 2 Axes>,\n",
       " 'relative_time_m': <Figure size 720x360 with 2 Axes>,\n",
       " 'relative_time_idx': <Figure size 720x360 with 2 Axes>,\n",
       " 'azoto_oraria_max': <Figure size 720x360 with 2 Axes>,\n",
       " 'zolfo_giornaliera': <Figure size 720x360 with 2 Axes>,\n",
       " 'ozono_8h_max': <Figure size 720x360 with 2 Axes>,\n",
       " 'pm2dot5_giornaliera': <Figure size 720x360 with 2 Axes>,\n",
       " 'pm10_giornaliera': <Figure size 720x360 with 2 Axes>,\n",
       " 'provincia': <Figure size 432x288 with 2 Axes>}"
      ]
     },
     "execution_count": 62,
     "metadata": {},
     "output_type": "execute_result"
    },
    {
     "data": {
      "image/png": "[encoded data removed]",
      "text/plain": [
       "<Figure size 720x360 with 2 Axes>"
      ]
     },
     "metadata": {
      "needs_background": "light"
     },
     "output_type": "display_data"
    },
    {
     "data": {
      "image/png": "[encoded data removed]",
      "text/plain": [
       "<Figure size 720x360 with 2 Axes>"
      ]
     },
     "metadata": {
      "needs_background": "light"
     },
     "output_type": "display_data"
    },
    {
     "data": {
      "image/png": "[encoded data removed]",
      "text/plain": [
       "<Figure size 720x360 with 2 Axes>"
      ]
     },
     "metadata": {
      "needs_background": "light"
     },
     "output_type": "display_data"
    },
    {
     "data": {
      "image/png": "[encoded data removed]",
      "text/plain": [
       "<Figure size 720x360 with 2 Axes>"
      ]
     },
     "metadata": {
      "needs_background": "light"
     },
     "output_type": "display_data"
    },
    {
     "data": {
      "image/png": "[encoded data removed]",
      "text/plain": [
       "<Figure size 720x360 with 2 Axes>"
      ]
     },
     "metadata": {
      "needs_background": "light"
     },
     "output_type": "display_data"
    },
    {
     "data": {
      "image/png": "[encoded data removed]",
      "text/plain": [
       "<Figure size 720x360 with 2 Axes>"
      ]
     },
     "metadata": {
      "needs_background": "light"
     },
     "output_type": "display_data"
    },
    {
     "data": {
      "image/png": "[encoded data removed]",
      "text/plain": [
       "<Figure size 720x360 with 2 Axes>"
      ]
     },
     "metadata": {
      "needs_background": "light"
     },
     "output_type": "display_data"
    },
    {
     "data": {
      "image/png": "[encoded data removed]",
      "text/plain": [
       "<Figure size 720x360 with 2 Axes>"
      ]
     },
     "metadata": {
      "needs_background": "light"
     },
     "output_type": "display_data"
    },
    {
     "data": {
      "image/png": "[encoded data removed]",
      "text/plain": [
       "<Figure size 720x360 with 2 Axes>"
      ]
     },
     "metadata": {
      "needs_background": "light"
     },
     "output_type": "display_data"
    },
    {
     "data": {
      "image/png": "[encoded data removed]",
      "text/plain": [
       "<Figure size 720x360 with 2 Axes>"
      ]
     },
     "metadata": {
      "needs_background": "light"
     },
     "output_type": "display_data"
    },
    {
     "data": {
      "image/png": "[encoded data removed]",
      "text/plain": [
       "<Figure size 720x360 with 2 Axes>"
      ]
     },
     "metadata": {
      "needs_background": "light"
     },
     "output_type": "display_data"
    },
    {
     "data": {
      "image/png": "[encoded data removed]",
      "text/plain": [
       "<Figure size 720x360 with 2 Axes>"
      ]
     },
     "metadata": {
      "needs_background": "light"
     },
     "output_type": "display_data"
    },
    {
     "data": {
      "image/png": "[encoded data removed]",
      "text/plain": [
       "<Figure size 720x360 with 2 Axes>"
      ]
     },
     "metadata": {
      "needs_background": "light"
     },
     "output_type": "display_data"
    },
    {
     "data": {
      "image/png": "[encoded data removed]",
      "text/plain": [
       "<Figure size 432x288 with 2 Axes>"
      ]
     },
     "metadata": {
      "needs_background": "light"
     },
     "output_type": "display_data"
    }
   ],
   "source": [
    "predictions, x = best_tft.predict(val_dataloader, return_x=True)\n",
    "predictions_vs_actuals = best_tft.calculate_prediction_actual_by_variable(x, predictions)\n",
    "best_tft.plot_prediction_actual_by_variable(predictions_vs_actuals)"
   ]
  },
  {
   "cell_type": "code",
   "execution_count": 63,
   "metadata": {},
   "outputs": [
    {
     "data": {
      "text/plain": [
       "{'attention': <Figure size 432x288 with 1 Axes>,\n",
       " 'static_variables': <Figure size 504x216 with 1 Axes>,\n",
       " 'encoder_variables': <Figure size 504x324 with 1 Axes>,\n",
       " 'decoder_variables': <Figure size 504x234 with 1 Axes>}"
      ]
     },
     "execution_count": 63,
     "metadata": {},
     "output_type": "execute_result"
    },
    {
     "data": {
      "image/png": "[encoded data removed]",
      "text/plain": [
       "<Figure size 432x288 with 1 Axes>"
      ]
     },
     "metadata": {
      "needs_background": "light"
     },
     "output_type": "display_data"
    },
    {
     "data": {
      "image/png": "[encoded data removed]",
      "text/plain": [
       "<Figure size 504x216 with 1 Axes>"
      ]
     },
     "metadata": {
      "needs_background": "light"
     },
     "output_type": "display_data"
    },
    {
     "data": {
      "image/png": "[encoded data removed]",
      "text/plain": [
       "<Figure size 504x324 with 1 Axes>"
      ]
     },
     "metadata": {
      "needs_background": "light"
     },
     "output_type": "display_data"
    },
    {
     "data": {
      "image/png": "[encoded data removed]",
      "text/plain": [
       "<Figure size 504x234 with 1 Axes>"
      ]
     },
     "metadata": {
      "needs_background": "light"
     },
     "output_type": "display_data"
    }
   ],
   "source": [
    "interpretation = best_tft.interpret_output(raw_predictions, reduction=\"sum\")\n",
    "best_tft.plot_interpretation(interpretation)"
   ]
  },
  {
   "cell_type": "markdown",
   "metadata": {},
   "source": [
    "## Grafici"
   ]
  },
  {
   "cell_type": "code",
   "execution_count": 64,
   "metadata": {},
   "outputs": [],
   "source": [
    "import plotly.graph_objects as go"
   ]
  },
  {
   "cell_type": "code",
   "execution_count": 65,
   "metadata": {},
   "outputs": [
    {
     "data": {
      "application/vnd.plotly.v1+json": {
       "config": {
        "plotlyServerURL": "https://plot.ly"
       },
       "data": [
        {
         "mode": "lines+markers",
         "name": "Realtà",
         "type": "scatter",
         "x": [
          0,
          1,
          2,
          3,
          4,
          5,
          6,
          7,
          8,
          9,
          10,
          11,
          12,
          13,
          14,
          15,
          16,
          17,
          18,
          19,
          20,
          21,
          22,
          23,
          24,
          25,
          26,
          27,
          28,
          29,
          30,
          31,
          32,
          33,
          34,
          35,
          36,
          37,
          38,
          39,
          40,
          41,
          42,
          43,
          44,
          45,
          46,
          47,
          48,
          49,
          50,
          51,
          52,
          53,
          54,
          55,
          56,
          57,
          58,
          59,
          60,
          61,
          62,
          63,
          64,
          65,
          66,
          67,
          68,
          69,
          70,
          71,
          72,
          73,
          74,
          75,
          76,
          77,
          78,
          79,
          80,
          81,
          82,
          83,
          84,
          85,
          86,
          87,
          88,
          89,
          90,
          91,
          92,
          93,
          94,
          95,
          96,
          97,
          98,
          99,
          100,
          101,
          102,
          103,
          104,
          105,
          106,
          107,
          108,
          109,
          110,
          111,
          112,
          113,
          114,
          115,
          116,
          117,
          118,
          119,
          120,
          121,
          122,
          123,
          124,
          125,
          126,
          127,
          128,
          129,
          130,
          131,
          132,
          133,
          134,
          135,
          136,
          137,
          138,
          139,
          140,
          141,
          142,
          143,
          144,
          145,
          146,
          147,
          148,
          149,
          150,
          151,
          152,
          153,
          154,
          155,
          156,
          157,
          158,
          159,
          160,
          161,
          162,
          163,
          164,
          165,
          166,
          167,
          168,
          169,
          170,
          171,
          172,
          173,
          174,
          175,
          176,
          177,
          178,
          179,
          180,
          181,
          182,
          183,
          184,
          185,
          186,
          187,
          188,
          189,
          190,
          191,
          192,
          193,
          194,
          195,
          196,
          197,
          198,
          199,
          200,
          201,
          202,
          203,
          204,
          205,
          206,
          207,
          208,
          209,
          210,
          211,
          212,
          213,
          214,
          215,
          216,
          217,
          218,
          219,
          220,
          221,
          222,
          223,
          224,
          225,
          226,
          227,
          228,
          229,
          230,
          231,
          232,
          233,
          234,
          235,
          236,
          237,
          238,
          239,
          240,
          241,
          242,
          243,
          244,
          245,
          246,
          247,
          248,
          249,
          250,
          251,
          252,
          253,
          254,
          255,
          256,
          257,
          258,
          259,
          260,
          261,
          262,
          263,
          264,
          265,
          266,
          267,
          268,
          269,
          270,
          271,
          272,
          273,
          274,
          275,
          276,
          277,
          278,
          279,
          280,
          281,
          282,
          283,
          284,
          285,
          286,
          287,
          288,
          289,
          290,
          291,
          292,
          293,
          294,
          295,
          296,
          297,
          298,
          299,
          300,
          301,
          302,
          303,
          304,
          305,
          306,
          307,
          308,
          309,
          310,
          311,
          312,
          313,
          314,
          315,
          316,
          317,
          318,
          319,
          320,
          321,
          322,
          323,
          324,
          325,
          326,
          327,
          328,
          329,
          330,
          331,
          332,
          333,
          334,
          335,
          336,
          337,
          338,
          339,
          340,
          341,
          342,
          343,
          344,
          345,
          346,
          347,
          348,
          349,
          350,
          351,
          352,
          353,
          354,
          355,
          356,
          357,
          358
         ],
         "y": [
          20.310690625,
          58.22371428571429,
          32.90814976190476,
          17.141516666666668,
          17.83608738095238,
          18.41736133333333,
          16.984608095238094,
          23.938982142857142,
          18.59887080952381,
          22.626585523809524,
          40.49975785714286,
          40.58296104761905,
          17.503190714285715,
          36.09635819047619,
          16.351266190476192,
          11.711953571428571,
          14.845209523809524,
          16.349246904761905,
          16.42476723809524,
          8.067846857142857,
          21.15940942857143,
          13.54156776190476,
          21.16240995238095,
          19.916744857142856,
          16.611769095238095,
          17.55875957142857,
          15.213638285714286,
          13.894543285714288,
          16.38724357142857,
          13.899224333333333,
          11.43827019047619,
          13.071317,
          12.575150285714289,
          10.873188809523809,
          11.842745952380952,
          14.30059238095238,
          14.83711657142857,
          20.27975602380952,
          18.04422357142857,
          20.518333809523806,
          25.095426190476196,
          23.145602285714286,
          16.573679428571428,
          19.92513119047619,
          24.58348357142857,
          21.212280095238096,
          20.469860285714283,
          29.44874661904762,
          9.161624333333334,
          26.640598333333333,
          32.86380785714286,
          41.42484466666667,
          29.970075416666667,
          45.88523214285715,
          33.58009104761905,
          15.097140476190477,
          10.435440857142856,
          12.7048095,
          28.99480285714286,
          35.769326428571425,
          14.902119523809525,
          14.04321523809524,
          24.462458095238095,
          34.99960473809524,
          28.42356604761905,
          16.365360428571428,
          20.317834285714287,
          19.53550095238095,
          28.593824,
          18.475727142857146,
          21.895349619047614,
          16.38930033333333,
          17.53924119047619,
          15.223945,
          26.280640714285717,
          29.59782333333333,
          14.218013333333332,
          12.761775095238097,
          25.73412533333333,
          26.218029285714287,
          27.038733095238094,
          26.27502619047619,
          15.77479976190476,
          31.319581238095235,
          35.14500523809524,
          15.950824547619048,
          27.85829095238095,
          19.148443714285715,
          13.93814119047619,
          31.33140966666667,
          11.183465428571427,
          14.114230857142855,
          13.032283333333334,
          12.752253904761904,
          13.06558476190476,
          22.09536261904762,
          45.11141921428571,
          51.26273195238095,
          37.10714671428571,
          15.124054714285714,
          47.13308630952381,
          33.9350194047619,
          40.21128852380952,
          63.38156923809523,
          28.465339272727277,
          18.868913428571428,
          27.064662,
          94.27005742857143,
          39.63903273809524,
          20.873274047619045,
          16.864640285714284,
          17.875143952380956,
          13.355425952380951,
          12.572110142857143,
          27.54846719047619,
          18.956392952380952,
          24.882664353741497,
          24.679889115646255,
          18.860097040816328,
          15.829930204081633,
          11.76679857142857,
          12.219685544217686,
          14.380084217687074,
          11.219576088435376,
          15.74638217687075,
          13.31450019897959,
          15.802367210884354,
          15.617845926870746,
          23.23790071428571,
          16.00946336734694,
          14.844536428571429,
          18.282489761904763,
          20.866369591836733,
          16.72668642857143,
          13.173790408163264,
          12.841486734693875,
          14.390594081632653,
          16.264480510204084,
          19.432895877551022,
          20.155324070294785,
          27.46952863945578,
          12.778071746031744,
          21.184346394557824,
          8.967288262471655,
          16.186013843537417,
          12.250822063492064,
          18.144962281746032,
          21.722647876984126,
          11.550314909297052,
          27.728133052721088,
          24.838936635487528,
          19.843920790816327,
          35.388485918367344,
          25.75540676020408,
          19.714424285714284,
          17.17317357142857,
          22.48765033333333,
          24.74228712585034,
          16.387129214285714,
          29.429577523809524,
          43.45628452380952,
          17.323410170068026,
          38.99827697278912,
          45.79658765306122,
          20.72783612244898,
          13.136552857142858,
          46.616544653061226,
          33.87840919047619,
          25.702387755102045,
          20.29461568027211,
          16.822040068027214,
          10.967498163265306,
          18.473448673469388,
          13.15977214285714,
          17.455142591836736,
          14.16349044217687,
          17.31982057823129,
          21.07242614965986,
          14.904729666666666,
          18.839254285714283,
          25.4858724744898,
          17.004527857142858,
          18.77744010884354,
          14.03621731292517,
          24.34451586734694,
          14.83523275510204,
          30.14660716836735,
          19.332937168367348,
          15.51303086734694,
          19.976289285714284,
          13.69389612244898,
          11.109114668367347,
          11.69564448979592,
          12.464732380952382,
          18.52219954931973,
          22.21113375,
          28.0451125255102,
          42.63337644557823,
          17.31467205272109,
          15.047393979591837,
          14.989486122448978,
          9.297087020408162,
          33.19669793367347,
          8.92137943877551,
          28.992480034013607,
          12.36523738095238,
          19.702323095238093,
          22.92618494642857,
          22.86820458333333,
          13.734754081632651,
          20.329386122448977,
          28.806380680272103,
          24.22030701360544,
          16.18116367346939,
          19.586105306122448,
          13.56357037414966,
          28.276339693877556,
          23.457371020408164,
          13.54817411564626,
          17.38887425170068,
          23.721711598639452,
          16.824990190476193,
          19.837483142857145,
          25.53935136054422,
          27.558080714285715,
          23.311473503401363,
          18.68555853741497,
          10.915533027210884,
          18.448918129251695,
          29.163419013605445,
          21.164898095238097,
          15.23797588435374,
          13.552309353741496,
          11.9498993877551,
          18.077760612244894,
          15.622560442176871,
          18.596753605442174,
          19.79083799319728,
          20.920898571428573,
          23.454774585034013,
          15.558297176870749,
          21.25322236734694,
          12.499617020408165,
          16.65798260544218,
          23.46882265306122,
          22.96444819727891,
          11.130910204081632,
          12.91174731292517,
          30.89562261904762,
          31.10317192857143,
          18.5598925170068,
          18.42207693877551,
          19.6067006122449,
          17.697308945578232,
          10.106023707482994,
          15.432458013605444,
          25.28062994557823,
          14.68847057142857,
          23.750535809523807,
          28.63888742857143,
          14.888720714285714,
          17.714626,
          18.556566047619047,
          19.76024764285714,
          9.392243666666667,
          16.33589119047619,
          29.224536357142856,
          58.2543555170068,
          38.11809836734694,
          32.15547870748299,
          16.43907306122449,
          14.71890401360544,
          16.529670340136054,
          19.406168367346936,
          16.643585918367346,
          21.488627210884356,
          32.82944578231292,
          10.599304761904762,
          10.710688979591836,
          7.533569387755102,
          14.453085850340136,
          11.742112959183672,
          22.07179857142857,
          33.347027414965986,
          19.133886190476197,
          20.256761632653063,
          20.38309029931973,
          11.797605727891156,
          16.485236972789117,
          21.527615027210885,
          17.061898523809525,
          20.92251980952381,
          12.372043210884357,
          17.137529455782314,
          27.49460607142857,
          11.495906520408164,
          12.086993673469388,
          13.673337346938776,
          13.134475102040817,
          11.859395176870748,
          17.150833523809524,
          25.45167523129252,
          27.61712036734694,
          14.768317789115644,
          10.37452156462585,
          10.459034741496598,
          11.381994421768708,
          15.204197142857142,
          18.958714285714283,
          13.474603265306124,
          19.59365421768708,
          11.325951700680273,
          24.12048628571429,
          21.26414448979592,
          30.257807755102043,
          23.40242428571429,
          49.03236404761905,
          28.74464955102041,
          26.309529591836736,
          11.66362102040816,
          12.299732857142857,
          9.427855986394558,
          18.50703693877551,
          20.21723237414966,
          60.6786824829932,
          16.37708,
          22.369015782312925,
          16.162446394557822,
          16.997148163265305,
          9.700361551020409,
          10.633339761904764,
          16.55494386734694,
          12.7417771292517,
          7.934199591836735,
          11.189185918367349,
          8.446223707482993,
          9.841179591836736,
          13.28874055782313,
          10.838407952380951,
          11.351909166666667,
          8.749039166666666,
          11.817462,
          19.698189714285714,
          14.673750071428572,
          17.185188571428572,
          12.091210214285717,
          13.666955071428571,
          9.212591857142856,
          16.661690142857143,
          17.486159965986396,
          10.560221857142858,
          13.649443142857145,
          12.858505034013604,
          6.7676411632653055,
          18.82375268707483,
          18.627227585034014,
          20.83309265306122,
          19.33299884353741,
          10.994018333333337
         ]
        },
        {
         "mode": "lines+markers",
         "name": "Baseline",
         "type": "scatter",
         "x": [
          16,
          17,
          18,
          19,
          20,
          21,
          22,
          23,
          24,
          25,
          26,
          27,
          28,
          29,
          30,
          31,
          32,
          33,
          34,
          35,
          36,
          37,
          38,
          39,
          40,
          41,
          42,
          43,
          44,
          45,
          46,
          47,
          48,
          49,
          50,
          51,
          52,
          53,
          54,
          55,
          56,
          57,
          58,
          59,
          60,
          61,
          62,
          63,
          64,
          65,
          66,
          67,
          68,
          69,
          70,
          71,
          72,
          73,
          74,
          75,
          76,
          77,
          78,
          79,
          80,
          81,
          82,
          83,
          84,
          85,
          86,
          87,
          88,
          89,
          90,
          91,
          92,
          93,
          94,
          95,
          96,
          97,
          98,
          99,
          100,
          101,
          102,
          103,
          104,
          105,
          106,
          107,
          108,
          109,
          110,
          111,
          112,
          113,
          114,
          115,
          116,
          117,
          118,
          119,
          120,
          121,
          122,
          123,
          124,
          125,
          126,
          127,
          128,
          129,
          130,
          131,
          132,
          133,
          134,
          135,
          136,
          137,
          138,
          139,
          140,
          141,
          142,
          143,
          144,
          145,
          146,
          147,
          148,
          149,
          150,
          151,
          152,
          153,
          154,
          155,
          156,
          157,
          158,
          159,
          160,
          161,
          162,
          163,
          164,
          165,
          166,
          167,
          168,
          169,
          170,
          171,
          172,
          173,
          174,
          175,
          176,
          177,
          178,
          179,
          180,
          181,
          182,
          183,
          184,
          185,
          186,
          187,
          188,
          189,
          190,
          191,
          192,
          193,
          194,
          195,
          196,
          197,
          198,
          199,
          200,
          201,
          202,
          203,
          204,
          205,
          206,
          207,
          208,
          209,
          210,
          211,
          212,
          213,
          214,
          215,
          216,
          217,
          218,
          219,
          220,
          221,
          222,
          223,
          224,
          225,
          226,
          227,
          228,
          229,
          230,
          231,
          232,
          233,
          234,
          235,
          236,
          237,
          238,
          239,
          240,
          241,
          242,
          243,
          244,
          245,
          246,
          247,
          248,
          249,
          250,
          251,
          252,
          253,
          254,
          255,
          256,
          257,
          258,
          259,
          260,
          261,
          262,
          263,
          264,
          265,
          266,
          267,
          268,
          269,
          270,
          271,
          272,
          273,
          274,
          275,
          276,
          277,
          278,
          279,
          280,
          281,
          282,
          283,
          284,
          285,
          286,
          287,
          288,
          289,
          290,
          291,
          292,
          293,
          294,
          295,
          296,
          297,
          298,
          299,
          300,
          301,
          302,
          303,
          304,
          305,
          306,
          307,
          308,
          309,
          310,
          311,
          312,
          313,
          314,
          315,
          316,
          317,
          318,
          319,
          320,
          321,
          322,
          323,
          324,
          325,
          326,
          327,
          328,
          329,
          330,
          331,
          332,
          333,
          334,
          335,
          336,
          337,
          338,
          339,
          340,
          341,
          342,
          343,
          344,
          345,
          346,
          347,
          348,
          349,
          350,
          351
         ],
         "y": [
          11.711953163146973,
          11.711953163146973,
          11.711953163146973,
          11.711953163146973,
          8.06784725189209,
          8.06784725189209,
          8.06784725189209,
          8.06784725189209,
          19.916744232177734,
          19.916744232177734,
          19.916744232177734,
          19.916744232177734,
          13.894543647766113,
          13.894543647766113,
          13.894543647766113,
          13.894543647766113,
          13.071316719055176,
          13.071316719055176,
          13.071316719055176,
          13.071316719055176,
          14.300592422485352,
          14.300592422485352,
          14.300592422485352,
          14.300592422485352,
          20.518333435058594,
          20.518333435058594,
          20.518333435058594,
          20.518333435058594,
          19.92513084411621,
          19.92513084411621,
          19.92513084411621,
          19.92513084411621,
          29.448745727539062,
          29.448745727539062,
          29.448745727539062,
          29.448745727539062,
          41.424842834472656,
          41.424842834472656,
          41.424842834472656,
          41.424842834472656,
          15.097140312194824,
          15.097140312194824,
          15.097140312194824,
          15.097140312194824,
          35.769325256347656,
          35.769325256347656,
          35.769325256347656,
          35.769325256347656,
          34.999603271484375,
          34.999603271484375,
          34.999603271484375,
          34.999603271484375,
          19.53550148010254,
          19.53550148010254,
          19.53550148010254,
          19.53550148010254,
          16.389299392700195,
          16.389299392700195,
          16.389299392700195,
          16.389299392700195,
          29.597824096679688,
          29.597824096679688,
          29.597824096679688,
          29.597824096679688,
          26.218029022216797,
          26.218029022216797,
          26.218029022216797,
          26.218029022216797,
          31.319581985473633,
          31.319581985473633,
          31.319581985473633,
          31.319581985473633,
          19.1484432220459,
          19.1484432220459,
          19.1484432220459,
          19.1484432220459,
          14.11423110961914,
          14.11423110961914,
          14.11423110961914,
          14.11423110961914,
          22.095361709594727,
          22.095361709594727,
          22.095361709594727,
          22.095361709594727,
          15.124054908752441,
          15.124054908752441,
          15.124054908752441,
          15.124054908752441,
          63.381568908691406,
          63.381568908691406,
          63.381568908691406,
          63.381568908691406,
          94.27005767822266,
          94.27005767822266,
          94.27005767822266,
          94.27005767822266,
          17.87514305114746,
          17.87514305114746,
          17.87514305114746,
          17.87514305114746,
          18.956392288208008,
          18.956392288208008,
          18.956392288208008,
          18.956392288208008,
          15.829930305480957,
          15.829930305480957,
          15.829930305480957,
          15.829930305480957,
          11.219575881958008,
          11.219575881958008,
          11.219575881958008,
          11.219575881958008,
          15.61784553527832,
          15.61784553527832,
          15.61784553527832,
          15.61784553527832,
          18.282489776611328,
          18.282489776611328,
          18.282489776611328,
          18.282489776611328,
          12.841486930847168,
          12.841486930847168,
          12.841486930847168,
          12.841486930847168,
          20.155324935913086,
          20.155324935913086,
          20.155324935913086,
          20.155324935913086,
          8.96728801727295,
          8.96728801727295,
          8.96728801727295,
          8.96728801727295,
          21.72264862060547,
          21.72264862060547,
          21.72264862060547,
          21.72264862060547,
          19.843921661376953,
          19.843921661376953,
          19.843921661376953,
          19.843921661376953,
          17.173173904418945,
          17.173173904418945,
          17.173173904418945,
          17.173173904418945,
          29.429576873779297,
          29.429576873779297,
          29.429576873779297,
          29.429576873779297,
          45.79658889770508,
          45.79658889770508,
          45.79658889770508,
          45.79658889770508,
          33.87841033935547,
          33.87841033935547,
          33.87841033935547,
          33.87841033935547,
          10.967497825622559,
          10.967497825622559,
          10.967497825622559,
          10.967497825622559,
          14.163490295410156,
          14.163490295410156,
          14.163490295410156,
          14.163490295410156,
          18.83925437927246,
          18.83925437927246,
          18.83925437927246,
          18.83925437927246,
          14.03621768951416,
          14.03621768951416,
          14.03621768951416,
          14.03621768951416,
          19.332937240600586,
          19.332937240600586,
          19.332937240600586,
          19.332937240600586,
          11.109114646911621,
          11.109114646911621,
          11.109114646911621,
          11.109114646911621,
          22.21113395690918,
          22.21113395690918,
          22.21113395690918,
          22.21113395690918,
          15.047393798828125,
          15.047393798828125,
          15.047393798828125,
          15.047393798828125,
          8.921379089355469,
          8.921379089355469,
          8.921379089355469,
          8.921379089355469,
          22.926185607910156,
          22.926185607910156,
          22.926185607910156,
          22.926185607910156,
          28.806381225585938,
          28.806381225585938,
          28.806381225585938,
          28.806381225585938,
          13.563570022583008,
          13.563570022583008,
          13.563570022583008,
          13.563570022583008,
          17.388874053955078,
          17.388874053955078,
          17.388874053955078,
          17.388874053955078,
          25.539350509643555,
          25.539350509643555,
          25.539350509643555,
          25.539350509643555,
          10.915533065795898,
          10.915533065795898,
          10.915533065795898,
          10.915533065795898,
          15.23797607421875,
          15.23797607421875,
          15.23797607421875,
          15.23797607421875,
          15.622560501098633,
          15.622560501098633,
          15.622560501098633,
          15.622560501098633,
          23.454774856567383,
          23.454774856567383,
          23.454774856567383,
          23.454774856567383,
          16.657981872558594,
          16.657981872558594,
          16.657981872558594,
          16.657981872558594,
          12.911746978759766,
          12.911746978759766,
          12.911746978759766,
          12.911746978759766,
          18.422077178955078,
          18.422077178955078,
          18.422077178955078,
          18.422077178955078,
          15.43245792388916,
          15.43245792388916,
          15.43245792388916,
          15.43245792388916,
          28.638887405395508,
          28.638887405395508,
          28.638887405395508,
          28.638887405395508,
          19.7602481842041,
          19.7602481842041,
          19.7602481842041,
          19.7602481842041,
          58.254356384277344,
          58.254356384277344,
          58.254356384277344,
          58.254356384277344,
          14.718903541564941,
          14.718903541564941,
          14.718903541564941,
          14.718903541564941,
          21.48862648010254,
          21.48862648010254,
          21.48862648010254,
          21.48862648010254,
          7.5335693359375,
          7.5335693359375,
          7.5335693359375,
          7.5335693359375,
          33.34702682495117,
          33.34702682495117,
          33.34702682495117,
          33.34702682495117,
          11.797605514526367,
          11.797605514526367,
          11.797605514526367,
          11.797605514526367,
          20.92251968383789,
          20.92251968383789,
          20.92251968383789,
          20.92251968383789,
          11.495906829833984,
          11.495906829833984,
          11.495906829833984,
          11.495906829833984,
          11.859395027160645,
          11.859395027160645,
          11.859395027160645,
          11.859395027160645,
          14.768318176269531,
          14.768318176269531,
          14.768318176269531,
          14.768318176269531,
          15.20419692993164,
          15.20419692993164,
          15.20419692993164,
          15.20419692993164,
          11.32595157623291,
          11.32595157623291,
          11.32595157623291,
          11.32595157623291,
          23.402423858642578,
          23.402423858642578,
          23.402423858642578,
          23.402423858642578,
          11.663620948791504,
          11.663620948791504,
          11.663620948791504,
          11.663620948791504,
          20.21723175048828,
          20.21723175048828,
          20.21723175048828,
          20.21723175048828,
          16.162446975708008,
          16.162446975708008,
          16.162446975708008,
          16.162446975708008,
          16.554943084716797,
          16.554943084716797,
          16.554943084716797,
          16.554943084716797,
          8.446223258972168,
          8.446223258972168,
          8.446223258972168,
          8.446223258972168,
          11.351909637451172,
          11.351909637451172,
          11.351909637451172,
          11.351909637451172,
          14.673749923706055,
          14.673749923706055,
          14.673749923706055,
          14.673749923706055,
          9.212592124938965,
          9.212592124938965,
          9.212592124938965,
          9.212592124938965
         ]
        },
        {
         "mode": "lines+markers",
         "name": "Predizione",
         "type": "scatter",
         "x": [
          16,
          17,
          18,
          19,
          20,
          21,
          22,
          23,
          24,
          25,
          26,
          27,
          28,
          29,
          30,
          31,
          32,
          33,
          34,
          35,
          36,
          37,
          38,
          39,
          40,
          41,
          42,
          43,
          44,
          45,
          46,
          47,
          48,
          49,
          50,
          51,
          52,
          53,
          54,
          55,
          56,
          57,
          58,
          59,
          60,
          61,
          62,
          63,
          64,
          65,
          66,
          67,
          68,
          69,
          70,
          71,
          72,
          73,
          74,
          75,
          76,
          77,
          78,
          79,
          80,
          81,
          82,
          83,
          84,
          85,
          86,
          87,
          88,
          89,
          90,
          91,
          92,
          93,
          94,
          95,
          96,
          97,
          98,
          99,
          100,
          101,
          102,
          103,
          104,
          105,
          106,
          107,
          108,
          109,
          110,
          111,
          112,
          113,
          114,
          115,
          116,
          117,
          118,
          119,
          120,
          121,
          122,
          123,
          124,
          125,
          126,
          127,
          128,
          129,
          130,
          131,
          132,
          133,
          134,
          135,
          136,
          137,
          138,
          139,
          140,
          141,
          142,
          143,
          144,
          145,
          146,
          147,
          148,
          149,
          150,
          151,
          152,
          153,
          154,
          155,
          156,
          157,
          158,
          159,
          160,
          161,
          162,
          163,
          164,
          165,
          166,
          167,
          168,
          169,
          170,
          171,
          172,
          173,
          174,
          175,
          176,
          177,
          178,
          179,
          180,
          181,
          182,
          183,
          184,
          185,
          186,
          187,
          188,
          189,
          190,
          191,
          192,
          193,
          194,
          195,
          196,
          197,
          198,
          199,
          200,
          201,
          202,
          203,
          204,
          205,
          206,
          207,
          208,
          209,
          210,
          211,
          212,
          213,
          214,
          215,
          216,
          217,
          218,
          219,
          220,
          221,
          222,
          223,
          224,
          225,
          226,
          227,
          228,
          229,
          230,
          231,
          232,
          233,
          234,
          235,
          236,
          237,
          238,
          239,
          240,
          241,
          242,
          243,
          244,
          245,
          246,
          247,
          248,
          249,
          250,
          251,
          252,
          253,
          254,
          255,
          256,
          257,
          258,
          259,
          260,
          261,
          262,
          263,
          264,
          265,
          266,
          267,
          268,
          269,
          270,
          271,
          272,
          273,
          274,
          275,
          276,
          277,
          278,
          279,
          280,
          281,
          282,
          283,
          284,
          285,
          286,
          287,
          288,
          289,
          290,
          291,
          292,
          293,
          294,
          295,
          296,
          297,
          298,
          299,
          300,
          301,
          302,
          303,
          304,
          305,
          306,
          307,
          308,
          309,
          310,
          311,
          312,
          313,
          314,
          315,
          316,
          317,
          318,
          319,
          320,
          321,
          322,
          323,
          324,
          325,
          326,
          327,
          328,
          329,
          330,
          331,
          332,
          333,
          334,
          335,
          336,
          337,
          338,
          339,
          340,
          341,
          342,
          343,
          344,
          345,
          346,
          347,
          348,
          349,
          350,
          351
         ],
         "y": [
          17.783050537109375,
          17.447141647338867,
          16.648345947265625,
          14.151031494140625,
          15.500237464904785,
          15.69825553894043,
          16.863962173461914,
          18.409841537475586,
          18.487655639648438,
          17.083337783813477,
          16.948596954345703,
          15.958312034606934,
          13.094612121582031,
          13.161394119262695,
          12.835428237915039,
          12.777610778808594,
          12.663276672363281,
          12.960899353027344,
          13.094722747802734,
          14.285540580749512,
          15.883329391479492,
          17.01731300354004,
          18.329858779907227,
          21.482044219970703,
          21.549558639526367,
          21.196043014526367,
          20.167171478271484,
          19.586780548095703,
          20.582496643066406,
          20.084312438964844,
          21.254056930541992,
          22.349895477294922,
          17.084632873535156,
          25.651599884033203,
          34.60738754272461,
          38.66339874267578,
          25.552509307861328,
          48.158111572265625,
          35.36520767211914,
          18.047687530517578,
          15.552082061767578,
          16.276948928833008,
          29.86258316040039,
          38.65718078613281,
          17.813058853149414,
          12.527837753295898,
          20.505138397216797,
          32.788822174072266,
          27.802888870239258,
          21.814491271972656,
          20.848697662353516,
          20.646196365356445,
          22.9898681640625,
          20.729379653930664,
          18.57224464416504,
          15.776504516601562,
          17.28243064880371,
          17.687620162963867,
          22.332292556762695,
          24.419254302978516,
          18.004175186157227,
          18.592287063598633,
          23.80055046081543,
          25.283214569091797,
          20.186765670776367,
          21.506696701049805,
          24.70348358154297,
          24.4982852935791,
          23.563467025756836,
          24.719181060791016,
          24.540653228759766,
          23.506084442138672,
          22.97184944152832,
          20.00697898864746,
          16.729045867919922,
          15.513181686401367,
          12.57476806640625,
          12.276398658752441,
          13.547691345214844,
          17.89154815673828,
          44.23210906982422,
          46.30487823486328,
          36.473419189453125,
          22.735258102416992,
          48.86347961425781,
          48.7276611328125,
          48.34642028808594,
          48.14122772216797,
          26.27944564819336,
          20.408966064453125,
          25.601781845092773,
          83.27911376953125,
          40.632843017578125,
          20.06588363647461,
          15.429740905761719,
          15.936026573181152,
          13.9881591796875,
          16.088027954101562,
          27.470558166503906,
          27.68547248840332,
          25.23332977294922,
          21.816984176635742,
          18.818376541137695,
          15.271153450012207,
          12.659561157226562,
          12.662981033325195,
          12.702103614807129,
          12.848281860351562,
          14.492011070251465,
          15.013790130615234,
          15.858148574829102,
          16.501941680908203,
          21.566850662231445,
          20.66456413269043,
          17.460113525390625,
          15.876533508300781,
          15.652735710144043,
          14.109668731689453,
          13.186485290527344,
          12.910619735717773,
          13.52786636352539,
          13.615961074829102,
          15.16530990600586,
          20.51415252685547,
          17.97408676147461,
          16.66705322265625,
          15.235345840454102,
          14.577669143676758,
          15.74283504486084,
          14.703543663024902,
          16.24604606628418,
          19.752702713012695,
          20.068830490112305,
          20.532155990600586,
          22.163881301879883,
          26.98891830444336,
          32.474281311035156,
          24.368593215942383,
          20.37430191040039,
          18.987863540649414,
          23.036998748779297,
          23.875782012939453,
          22.922550201416016,
          21.585193634033203,
          37.12096405029297,
          31.11819076538086,
          33.97063064575195,
          38.284706115722656,
          18.279672622680664,
          18.317548751831055,
          47.947364807128906,
          36.911521911621094,
          22.21935272216797,
          18.831684112548828,
          16.21076774597168,
          13.316804885864258,
          13.826176643371582,
          13.601807594299316,
          14.043242454528809,
          14.905877113342285,
          18.039085388183594,
          17.942821502685547,
          18.13812828063965,
          17.989099502563477,
          18.92843246459961,
          19.491193771362305,
          19.791213989257812,
          18.693649291992188,
          21.81586456298828,
          22.581636428833008,
          19.888145446777344,
          17.426254272460938,
          15.390434265136719,
          14.324552536010742,
          13.70670223236084,
          13.177897453308105,
          12.389492988586426,
          13.23597526550293,
          16.008148193359375,
          23.742279052734375,
          32.63927459716797,
          33.437225341796875,
          21.16853904724121,
          16.379451751708984,
          17.322246551513672,
          16.91377067565918,
          22.060806274414062,
          23.402360916137695,
          21.89025115966797,
          19.835710525512695,
          19.477962493896484,
          22.45448112487793,
          21.32199478149414,
          21.148849487304688,
          21.572734832763672,
          20.747560501098633,
          20.243709564208984,
          18.985748291015625,
          18.668893814086914,
          17.57052230834961,
          25.32675552368164,
          20.575035095214844,
          14.742321968078613,
          13.862347602844238,
          20.373491287231445,
          16.46917724609375,
          19.62028694152832,
          22.3985652923584,
          25.952438354492188,
          22.08582305908203,
          17.21666145324707,
          14.781938552856445,
          18.764741897583008,
          24.501123428344727,
          23.13257598876953,
          16.561025619506836,
          13.660768508911133,
          13.90089225769043,
          14.542854309082031,
          17.50459861755371,
          15.896957397460938,
          19.61957359313965,
          23.076269149780273,
          19.638063430786133,
          15.98322868347168,
          16.69904899597168,
          15.706631660461426,
          15.997566223144531,
          15.031024932861328,
          15.96881103515625,
          15.73094367980957,
          16.676057815551758,
          30.850629806518555,
          29.749191284179688,
          18.896556854248047,
          14.421894073486328,
          16.06603240966797,
          16.539968490600586,
          16.005626678466797,
          16.90134620666504,
          18.860872268676758,
          16.03945541381836,
          18.657148361206055,
          27.012432098388672,
          14.9306058883667,
          16.54770851135254,
          16.193626403808594,
          14.859432220458984,
          12.962470054626465,
          17.883018493652344,
          33.295143127441406,
          56.759910583496094,
          34.24269485473633,
          28.23528289794922,
          16.778953552246094,
          12.535314559936523,
          16.387531280517578,
          17.488271713256836,
          19.09672737121582,
          20.398813247680664,
          24.105579376220703,
          12.950729370117188,
          10.606222152709961,
          10.727639198303223,
          12.60028076171875,
          13.634594917297363,
          23.825218200683594,
          25.046775817871094,
          22.95024871826172,
          21.676523208618164,
          19.11885643005371,
          15.59078311920166,
          17.521427154541016,
          17.472637176513672,
          16.661182403564453,
          16.88432502746582,
          15.751975059509277,
          20.77530288696289,
          23.374279022216797,
          13.538277626037598,
          11.812638282775879,
          12.945632934570312,
          13.520087242126465,
          13.917221069335938,
          17.48504638671875,
          27.956501007080078,
          22.475221633911133,
          12.683891296386719,
          11.253935813903809,
          11.711752891540527,
          13.003755569458008,
          14.460138320922852,
          17.088106155395508,
          16.47154426574707,
          16.238178253173828,
          16.075469970703125,
          21.769390106201172,
          25.78589630126953,
          31.65859603881836,
          34.809425354003906,
          41.99745178222656,
          33.3592529296875,
          24.190826416015625,
          18.781660079956055,
          15.004881858825684,
          12.380289077758789,
          13.708860397338867,
          17.330013275146484,
          58.22949981689453,
          21.234146118164062,
          19.93233299255371,
          18.48354721069336,
          12.00042724609375,
          11.289094924926758,
          11.460655212402344,
          12.929630279541016,
          11.672762870788574,
          11.531805992126465,
          11.389860153198242,
          11.505125045776367,
          11.498120307922363,
          11.453560829162598,
          11.519403457641602,
          11.659687995910645,
          12.758041381835938,
          12.979491233825684,
          13.474069595336914,
          13.978063583374023,
          12.554353713989258,
          12.787806510925293,
          12.969964027404785,
          14.311426162719727,
          14.89317512512207,
          17.12918472290039,
          12.80865478515625,
          11.81435489654541
         ]
        }
       ],
       "layout": {
        "template": {
         "data": {
          "bar": [
           {
            "error_x": {
             "color": "#2a3f5f"
            },
            "error_y": {
             "color": "#2a3f5f"
            },
            "marker": {
             "line": {
              "color": "#E5ECF6",
              "width": 0.5
             },
             "pattern": {
              "fillmode": "overlay",
              "size": 10,
              "solidity": 0.2
             }
            },
            "type": "bar"
           }
          ],
          "barpolar": [
           {
            "marker": {
             "line": {
              "color": "#E5ECF6",
              "width": 0.5
             },
             "pattern": {
              "fillmode": "overlay",
              "size": 10,
              "solidity": 0.2
             }
            },
            "type": "barpolar"
           }
          ],
          "carpet": [
           {
            "aaxis": {
             "endlinecolor": "#2a3f5f",
             "gridcolor": "white",
             "linecolor": "white",
             "minorgridcolor": "white",
             "startlinecolor": "#2a3f5f"
            },
            "baxis": {
             "endlinecolor": "#2a3f5f",
             "gridcolor": "white",
             "linecolor": "white",
             "minorgridcolor": "white",
             "startlinecolor": "#2a3f5f"
            },
            "type": "carpet"
           }
          ],
          "choropleth": [
           {
            "colorbar": {
             "outlinewidth": 0,
             "ticks": ""
            },
            "type": "choropleth"
           }
          ],
          "contour": [
           {
            "colorbar": {
             "outlinewidth": 0,
             "ticks": ""
            },
            "colorscale": [
             [
              0,
              "#0d0887"
             ],
             [
              0.1111111111111111,
              "#46039f"
             ],
             [
              0.2222222222222222,
              "#7201a8"
             ],
             [
              0.3333333333333333,
              "#9c179e"
             ],
             [
              0.4444444444444444,
              "#bd3786"
             ],
             [
              0.5555555555555556,
              "#d8576b"
             ],
             [
              0.6666666666666666,
              "#ed7953"
             ],
             [
              0.7777777777777778,
              "#fb9f3a"
             ],
             [
              0.8888888888888888,
              "#fdca26"
             ],
             [
              1,
              "#f0f921"
             ]
            ],
            "type": "contour"
           }
          ],
          "contourcarpet": [
           {
            "colorbar": {
             "outlinewidth": 0,
             "ticks": ""
            },
            "type": "contourcarpet"
           }
          ],
          "heatmap": [
           {
            "colorbar": {
             "outlinewidth": 0,
             "ticks": ""
            },
            "colorscale": [
             [
              0,
              "#0d0887"
             ],
             [
              0.1111111111111111,
              "#46039f"
             ],
             [
              0.2222222222222222,
              "#7201a8"
             ],
             [
              0.3333333333333333,
              "#9c179e"
             ],
             [
              0.4444444444444444,
              "#bd3786"
             ],
             [
              0.5555555555555556,
              "#d8576b"
             ],
             [
              0.6666666666666666,
              "#ed7953"
             ],
             [
              0.7777777777777778,
              "#fb9f3a"
             ],
             [
              0.8888888888888888,
              "#fdca26"
             ],
             [
              1,
              "#f0f921"
             ]
            ],
            "type": "heatmap"
           }
          ],
          "heatmapgl": [
           {
            "colorbar": {
             "outlinewidth": 0,
             "ticks": ""
            },
            "colorscale": [
             [
              0,
              "#0d0887"
             ],
             [
              0.1111111111111111,
              "#46039f"
             ],
             [
              0.2222222222222222,
              "#7201a8"
             ],
             [
              0.3333333333333333,
              "#9c179e"
             ],
             [
              0.4444444444444444,
              "#bd3786"
             ],
             [
              0.5555555555555556,
              "#d8576b"
             ],
             [
              0.6666666666666666,
              "#ed7953"
             ],
             [
              0.7777777777777778,
              "#fb9f3a"
             ],
             [
              0.8888888888888888,
              "#fdca26"
             ],
             [
              1,
              "#f0f921"
             ]
            ],
            "type": "heatmapgl"
           }
          ],
          "histogram": [
           {
            "marker": {
             "pattern": {
              "fillmode": "overlay",
              "size": 10,
              "solidity": 0.2
             }
            },
            "type": "histogram"
           }
          ],
          "histogram2d": [
           {
            "colorbar": {
             "outlinewidth": 0,
             "ticks": ""
            },
            "colorscale": [
             [
              0,
              "#0d0887"
             ],
             [
              0.1111111111111111,
              "#46039f"
             ],
             [
              0.2222222222222222,
              "#7201a8"
             ],
             [
              0.3333333333333333,
              "#9c179e"
             ],
             [
              0.4444444444444444,
              "#bd3786"
             ],
             [
              0.5555555555555556,
              "#d8576b"
             ],
             [
              0.6666666666666666,
              "#ed7953"
             ],
             [
              0.7777777777777778,
              "#fb9f3a"
             ],
             [
              0.8888888888888888,
              "#fdca26"
             ],
             [
              1,
              "#f0f921"
             ]
            ],
            "type": "histogram2d"
           }
          ],
          "histogram2dcontour": [
           {
            "colorbar": {
             "outlinewidth": 0,
             "ticks": ""
            },
            "colorscale": [
             [
              0,
              "#0d0887"
             ],
             [
              0.1111111111111111,
              "#46039f"
             ],
             [
              0.2222222222222222,
              "#7201a8"
             ],
             [
              0.3333333333333333,
              "#9c179e"
             ],
             [
              0.4444444444444444,
              "#bd3786"
             ],
             [
              0.5555555555555556,
              "#d8576b"
             ],
             [
              0.6666666666666666,
              "#ed7953"
             ],
             [
              0.7777777777777778,
              "#fb9f3a"
             ],
             [
              0.8888888888888888,
              "#fdca26"
             ],
             [
              1,
              "#f0f921"
             ]
            ],
            "type": "histogram2dcontour"
           }
          ],
          "mesh3d": [
           {
            "colorbar": {
             "outlinewidth": 0,
             "ticks": ""
            },
            "type": "mesh3d"
           }
          ],
          "parcoords": [
           {
            "line": {
             "colorbar": {
              "outlinewidth": 0,
              "ticks": ""
             }
            },
            "type": "parcoords"
           }
          ],
          "pie": [
           {
            "automargin": true,
            "type": "pie"
           }
          ],
          "scatter": [
           {
            "marker": {
             "colorbar": {
              "outlinewidth": 0,
              "ticks": ""
             }
            },
            "type": "scatter"
           }
          ],
          "scatter3d": [
           {
            "line": {
             "colorbar": {
              "outlinewidth": 0,
              "ticks": ""
             }
            },
            "marker": {
             "colorbar": {
              "outlinewidth": 0,
              "ticks": ""
             }
            },
            "type": "scatter3d"
           }
          ],
          "scattercarpet": [
           {
            "marker": {
             "colorbar": {
              "outlinewidth": 0,
              "ticks": ""
             }
            },
            "type": "scattercarpet"
           }
          ],
          "scattergeo": [
           {
            "marker": {
             "colorbar": {
              "outlinewidth": 0,
              "ticks": ""
             }
            },
            "type": "scattergeo"
           }
          ],
          "scattergl": [
           {
            "marker": {
             "colorbar": {
              "outlinewidth": 0,
              "ticks": ""
             }
            },
            "type": "scattergl"
           }
          ],
          "scattermapbox": [
           {
            "marker": {
             "colorbar": {
              "outlinewidth": 0,
              "ticks": ""
             }
            },
            "type": "scattermapbox"
           }
          ],
          "scatterpolar": [
           {
            "marker": {
             "colorbar": {
              "outlinewidth": 0,
              "ticks": ""
             }
            },
            "type": "scatterpolar"
           }
          ],
          "scatterpolargl": [
           {
            "marker": {
             "colorbar": {
              "outlinewidth": 0,
              "ticks": ""
             }
            },
            "type": "scatterpolargl"
           }
          ],
          "scatterternary": [
           {
            "marker": {
             "colorbar": {
              "outlinewidth": 0,
              "ticks": ""
             }
            },
            "type": "scatterternary"
           }
          ],
          "surface": [
           {
            "colorbar": {
             "outlinewidth": 0,
             "ticks": ""
            },
            "colorscale": [
             [
              0,
              "#0d0887"
             ],
             [
              0.1111111111111111,
              "#46039f"
             ],
             [
              0.2222222222222222,
              "#7201a8"
             ],
             [
              0.3333333333333333,
              "#9c179e"
             ],
             [
              0.4444444444444444,
              "#bd3786"
             ],
             [
              0.5555555555555556,
              "#d8576b"
             ],
             [
              0.6666666666666666,
              "#ed7953"
             ],
             [
              0.7777777777777778,
              "#fb9f3a"
             ],
             [
              0.8888888888888888,
              "#fdca26"
             ],
             [
              1,
              "#f0f921"
             ]
            ],
            "type": "surface"
           }
          ],
          "table": [
           {
            "cells": {
             "fill": {
              "color": "#EBF0F8"
             },
             "line": {
              "color": "white"
             }
            },
            "header": {
             "fill": {
              "color": "#C8D4E3"
             },
             "line": {
              "color": "white"
             }
            },
            "type": "table"
           }
          ]
         },
         "layout": {
          "annotationdefaults": {
           "arrowcolor": "#2a3f5f",
           "arrowhead": 0,
           "arrowwidth": 1
          },
          "autotypenumbers": "strict",
          "coloraxis": {
           "colorbar": {
            "outlinewidth": 0,
            "ticks": ""
           }
          },
          "colorscale": {
           "diverging": [
            [
             0,
             "#8e0152"
            ],
            [
             0.1,
             "#c51b7d"
            ],
            [
             0.2,
             "#de77ae"
            ],
            [
             0.3,
             "#f1b6da"
            ],
            [
             0.4,
             "#fde0ef"
            ],
            [
             0.5,
             "#f7f7f7"
            ],
            [
             0.6,
             "#e6f5d0"
            ],
            [
             0.7,
             "#b8e186"
            ],
            [
             0.8,
             "#7fbc41"
            ],
            [
             0.9,
             "#4d9221"
            ],
            [
             1,
             "#276419"
            ]
           ],
           "sequential": [
            [
             0,
             "#0d0887"
            ],
            [
             0.1111111111111111,
             "#46039f"
            ],
            [
             0.2222222222222222,
             "#7201a8"
            ],
            [
             0.3333333333333333,
             "#9c179e"
            ],
            [
             0.4444444444444444,
             "#bd3786"
            ],
            [
             0.5555555555555556,
             "#d8576b"
            ],
            [
             0.6666666666666666,
             "#ed7953"
            ],
            [
             0.7777777777777778,
             "#fb9f3a"
            ],
            [
             0.8888888888888888,
             "#fdca26"
            ],
            [
             1,
             "#f0f921"
            ]
           ],
           "sequentialminus": [
            [
             0,
             "#0d0887"
            ],
            [
             0.1111111111111111,
             "#46039f"
            ],
            [
             0.2222222222222222,
             "#7201a8"
            ],
            [
             0.3333333333333333,
             "#9c179e"
            ],
            [
             0.4444444444444444,
             "#bd3786"
            ],
            [
             0.5555555555555556,
             "#d8576b"
            ],
            [
             0.6666666666666666,
             "#ed7953"
            ],
            [
             0.7777777777777778,
             "#fb9f3a"
            ],
            [
             0.8888888888888888,
             "#fdca26"
            ],
            [
             1,
             "#f0f921"
            ]
           ]
          },
          "colorway": [
           "#636efa",
           "#EF553B",
           "#00cc96",
           "#ab63fa",
           "#FFA15A",
           "#19d3f3",
           "#FF6692",
           "#B6E880",
           "#FF97FF",
           "#FECB52"
          ],
          "font": {
           "color": "#2a3f5f"
          },
          "geo": {
           "bgcolor": "white",
           "lakecolor": "white",
           "landcolor": "#E5ECF6",
           "showlakes": true,
           "showland": true,
           "subunitcolor": "white"
          },
          "hoverlabel": {
           "align": "left"
          },
          "hovermode": "closest",
          "mapbox": {
           "style": "light"
          },
          "paper_bgcolor": "white",
          "plot_bgcolor": "#E5ECF6",
          "polar": {
           "angularaxis": {
            "gridcolor": "white",
            "linecolor": "white",
            "ticks": ""
           },
           "bgcolor": "#E5ECF6",
           "radialaxis": {
            "gridcolor": "white",
            "linecolor": "white",
            "ticks": ""
           }
          },
          "scene": {
           "xaxis": {
            "backgroundcolor": "#E5ECF6",
            "gridcolor": "white",
            "gridwidth": 2,
            "linecolor": "white",
            "showbackground": true,
            "ticks": "",
            "zerolinecolor": "white"
           },
           "yaxis": {
            "backgroundcolor": "#E5ECF6",
            "gridcolor": "white",
            "gridwidth": 2,
            "linecolor": "white",
            "showbackground": true,
            "ticks": "",
            "zerolinecolor": "white"
           },
           "zaxis": {
            "backgroundcolor": "#E5ECF6",
            "gridcolor": "white",
            "gridwidth": 2,
            "linecolor": "white",
            "showbackground": true,
            "ticks": "",
            "zerolinecolor": "white"
           }
          },
          "shapedefaults": {
           "line": {
            "color": "#2a3f5f"
           }
          },
          "ternary": {
           "aaxis": {
            "gridcolor": "white",
            "linecolor": "white",
            "ticks": ""
           },
           "baxis": {
            "gridcolor": "white",
            "linecolor": "white",
            "ticks": ""
           },
           "bgcolor": "#E5ECF6",
           "caxis": {
            "gridcolor": "white",
            "linecolor": "white",
            "ticks": ""
           }
          },
          "title": {
           "x": 0.05
          },
          "xaxis": {
           "automargin": true,
           "gridcolor": "white",
           "linecolor": "white",
           "ticks": "",
           "title": {
            "standoff": 15
           },
           "zerolinecolor": "white",
           "zerolinewidth": 2
          },
          "yaxis": {
           "automargin": true,
           "gridcolor": "white",
           "linecolor": "white",
           "ticks": "",
           "title": {
            "standoff": 15
           },
           "zerolinecolor": "white",
           "zerolinewidth": 2
          }
         }
        }
       }
      }
     },
     "metadata": {},
     "output_type": "display_data"
    }
   ],
   "source": [
    "provincia = \"Trieste\"\n",
    "\n",
    "raw_prediction, xraw = best_tft.predict(\n",
    "    training.filter(lambda x: (x.provincia == provincia)),\n",
    "    mode=\"prediction\",\n",
    "    return_x=True,\n",
    ")\n",
    "baseline_predictions = Baseline().predict(training.filter(lambda x: (x.provincia == provincia)),\n",
    "    mode=\"prediction\",\n",
    "    return_x=False)\n",
    "\n",
    "predicted_df = pd.DataFrame([],columns=[\"time_idx\",\"values\",\"baseline_values\"])\n",
    "i=0\n",
    "while i < len(raw_prediction):\n",
    "    for x in range(0,len(raw_prediction[i])):\n",
    "        predicted_df = predicted_df.append({\"time_idx\":xraw[\"decoder_time_idx\"][i][x],\"values\":raw_prediction[i][x].numpy(),\"baseline_values\":baseline_predictions[i][x].numpy()},ignore_index=True)\n",
    "    i += len(raw_prediction[i])\n",
    "predicted_df[\"values\"] = predicted_df[\"values\"].astype(float)\n",
    "predicted_df[\"baseline_values\"] = predicted_df[\"baseline_values\"].astype(float)\n",
    "predicted_df = predicted_df.groupby(by=\"time_idx\").mean().reset_index()\n",
    "target = df_settimanale[df_settimanale[\"provincia\"]==provincia]\n",
    "fig = go.Figure()\n",
    "fig.add_trace(go.Scatter(x=target[\"time_idx\"], y=target[\"pm10_giornaliera\"],mode='lines+markers',name=\"Realtà\"))\n",
    "fig.add_trace(go.Scatter(x=predicted_df[\"time_idx\"], y=predicted_df[\"baseline_values\"],mode='lines+markers',name=\"Baseline\"))\n",
    "fig.add_trace(go.Scatter(x=predicted_df[\"time_idx\"], y=predicted_df[\"values\"],mode='lines+markers',name=\"Predizione\"))\n",
    "fig.show()"
   ]
  },
  {
   "cell_type": "code",
   "execution_count": 66,
   "metadata": {},
   "outputs": [
    {
     "data": {
      "application/vnd.plotly.v1+json": {
       "config": {
        "plotlyServerURL": "https://plot.ly"
       },
       "data": [
        {
         "mode": "lines+markers",
         "name": "Realtà",
         "type": "scatter",
         "x": [
          0,
          1,
          2,
          3,
          4,
          5,
          6,
          7,
          8,
          9,
          10,
          11,
          12,
          13,
          14,
          15,
          16,
          17,
          18,
          19,
          20,
          21,
          22,
          23,
          24,
          25,
          26,
          27,
          28,
          29,
          30,
          31,
          32,
          33,
          34,
          35,
          36,
          37,
          38,
          39,
          40,
          41,
          42,
          43,
          44,
          45,
          46,
          47,
          48,
          49,
          50,
          51,
          52,
          53,
          54,
          55,
          56,
          57,
          58,
          59,
          60,
          61,
          62,
          63,
          64,
          65,
          66,
          67,
          68,
          69,
          70,
          71,
          72,
          73,
          74,
          75,
          76,
          77,
          78,
          79,
          80,
          81,
          82,
          83,
          84,
          85,
          86,
          87,
          88,
          89,
          90,
          91,
          92,
          93,
          94,
          95,
          96,
          97,
          98,
          99,
          100,
          101,
          102,
          103,
          104,
          105,
          106,
          107,
          108,
          109,
          110,
          111,
          112,
          113,
          114,
          115,
          116,
          117,
          118,
          119,
          120,
          121,
          122,
          123,
          124,
          125,
          126,
          127,
          128,
          129,
          130,
          131,
          132,
          133,
          134,
          135,
          136,
          137,
          138,
          139,
          140,
          141,
          142,
          143,
          144,
          145,
          146,
          147,
          148,
          149,
          150,
          151,
          152,
          153,
          154,
          155,
          156,
          157,
          158,
          159,
          160,
          161,
          162,
          163,
          164,
          165,
          166,
          167,
          168,
          169,
          170,
          171,
          172,
          173,
          174,
          175,
          176,
          177,
          178,
          179,
          180,
          181,
          182,
          183,
          184,
          185,
          186,
          187,
          188,
          189,
          190,
          191,
          192,
          193,
          194,
          195,
          196,
          197,
          198,
          199,
          200,
          201,
          202,
          203,
          204,
          205,
          206,
          207,
          208,
          209,
          210,
          211,
          212,
          213,
          214,
          215,
          216,
          217,
          218,
          219,
          220,
          221,
          222,
          223,
          224,
          225,
          226,
          227,
          228,
          229,
          230,
          231,
          232,
          233,
          234,
          235,
          236,
          237,
          238,
          239,
          240,
          241,
          242,
          243,
          244,
          245,
          246,
          247,
          248,
          249,
          250,
          251,
          252,
          253,
          254,
          255,
          256,
          257,
          258,
          259,
          260,
          261,
          262,
          263,
          264,
          265,
          266,
          267,
          268,
          269,
          270,
          271,
          272,
          273,
          274,
          275,
          276,
          277,
          278,
          279,
          280,
          281,
          282,
          283,
          284,
          285,
          286,
          287,
          288,
          289,
          290,
          291,
          292,
          293,
          294,
          295,
          296,
          297,
          298,
          299,
          300,
          301,
          302,
          303,
          304,
          305,
          306,
          307,
          308,
          309,
          310,
          311,
          312,
          313,
          314,
          315,
          316,
          317,
          318,
          319,
          320,
          321,
          322,
          323,
          324,
          325,
          326,
          327,
          328,
          329,
          330,
          331,
          332,
          333,
          334,
          335,
          336,
          337,
          338,
          339,
          340,
          341,
          342,
          343,
          344,
          345,
          346,
          347,
          348,
          349,
          350,
          351,
          352,
          353,
          354,
          355,
          356,
          357,
          358
         ],
         "y": [
          20.310690625,
          58.22371428571429,
          32.90814976190476,
          17.141516666666668,
          17.83608738095238,
          18.41736133333333,
          16.984608095238094,
          23.938982142857142,
          18.59887080952381,
          22.626585523809524,
          40.49975785714286,
          40.58296104761905,
          17.503190714285715,
          36.09635819047619,
          16.351266190476192,
          11.711953571428571,
          14.845209523809524,
          16.349246904761905,
          16.42476723809524,
          8.067846857142857,
          21.15940942857143,
          13.54156776190476,
          21.16240995238095,
          19.916744857142856,
          16.611769095238095,
          17.55875957142857,
          15.213638285714286,
          13.894543285714288,
          16.38724357142857,
          13.899224333333333,
          11.43827019047619,
          13.071317,
          12.575150285714289,
          10.873188809523809,
          11.842745952380952,
          14.30059238095238,
          14.83711657142857,
          20.27975602380952,
          18.04422357142857,
          20.518333809523806,
          25.095426190476196,
          23.145602285714286,
          16.573679428571428,
          19.92513119047619,
          24.58348357142857,
          21.212280095238096,
          20.469860285714283,
          29.44874661904762,
          9.161624333333334,
          26.640598333333333,
          32.86380785714286,
          41.42484466666667,
          29.970075416666667,
          45.88523214285715,
          33.58009104761905,
          15.097140476190477,
          10.435440857142856,
          12.7048095,
          28.99480285714286,
          35.769326428571425,
          14.902119523809525,
          14.04321523809524,
          24.462458095238095,
          34.99960473809524,
          28.42356604761905,
          16.365360428571428,
          20.317834285714287,
          19.53550095238095,
          28.593824,
          18.475727142857146,
          21.895349619047614,
          16.38930033333333,
          17.53924119047619,
          15.223945,
          26.280640714285717,
          29.59782333333333,
          14.218013333333332,
          12.761775095238097,
          25.73412533333333,
          26.218029285714287,
          27.038733095238094,
          26.27502619047619,
          15.77479976190476,
          31.319581238095235,
          35.14500523809524,
          15.950824547619048,
          27.85829095238095,
          19.148443714285715,
          13.93814119047619,
          31.33140966666667,
          11.183465428571427,
          14.114230857142855,
          13.032283333333334,
          12.752253904761904,
          13.06558476190476,
          22.09536261904762,
          45.11141921428571,
          51.26273195238095,
          37.10714671428571,
          15.124054714285714,
          47.13308630952381,
          33.9350194047619,
          40.21128852380952,
          63.38156923809523,
          28.465339272727277,
          18.868913428571428,
          27.064662,
          94.27005742857143,
          39.63903273809524,
          20.873274047619045,
          16.864640285714284,
          17.875143952380956,
          13.355425952380951,
          12.572110142857143,
          27.54846719047619,
          18.956392952380952,
          24.882664353741497,
          24.679889115646255,
          18.860097040816328,
          15.829930204081633,
          11.76679857142857,
          12.219685544217686,
          14.380084217687074,
          11.219576088435376,
          15.74638217687075,
          13.31450019897959,
          15.802367210884354,
          15.617845926870746,
          23.23790071428571,
          16.00946336734694,
          14.844536428571429,
          18.282489761904763,
          20.866369591836733,
          16.72668642857143,
          13.173790408163264,
          12.841486734693875,
          14.390594081632653,
          16.264480510204084,
          19.432895877551022,
          20.155324070294785,
          27.46952863945578,
          12.778071746031744,
          21.184346394557824,
          8.967288262471655,
          16.186013843537417,
          12.250822063492064,
          18.144962281746032,
          21.722647876984126,
          11.550314909297052,
          27.728133052721088,
          24.838936635487528,
          19.843920790816327,
          35.388485918367344,
          25.75540676020408,
          19.714424285714284,
          17.17317357142857,
          22.48765033333333,
          24.74228712585034,
          16.387129214285714,
          29.429577523809524,
          43.45628452380952,
          17.323410170068026,
          38.99827697278912,
          45.79658765306122,
          20.72783612244898,
          13.136552857142858,
          46.616544653061226,
          33.87840919047619,
          25.702387755102045,
          20.29461568027211,
          16.822040068027214,
          10.967498163265306,
          18.473448673469388,
          13.15977214285714,
          17.455142591836736,
          14.16349044217687,
          17.31982057823129,
          21.07242614965986,
          14.904729666666666,
          18.839254285714283,
          25.4858724744898,
          17.004527857142858,
          18.77744010884354,
          14.03621731292517,
          24.34451586734694,
          14.83523275510204,
          30.14660716836735,
          19.332937168367348,
          15.51303086734694,
          19.976289285714284,
          13.69389612244898,
          11.109114668367347,
          11.69564448979592,
          12.464732380952382,
          18.52219954931973,
          22.21113375,
          28.0451125255102,
          42.63337644557823,
          17.31467205272109,
          15.047393979591837,
          14.989486122448978,
          9.297087020408162,
          33.19669793367347,
          8.92137943877551,
          28.992480034013607,
          12.36523738095238,
          19.702323095238093,
          22.92618494642857,
          22.86820458333333,
          13.734754081632651,
          20.329386122448977,
          28.806380680272103,
          24.22030701360544,
          16.18116367346939,
          19.586105306122448,
          13.56357037414966,
          28.276339693877556,
          23.457371020408164,
          13.54817411564626,
          17.38887425170068,
          23.721711598639452,
          16.824990190476193,
          19.837483142857145,
          25.53935136054422,
          27.558080714285715,
          23.311473503401363,
          18.68555853741497,
          10.915533027210884,
          18.448918129251695,
          29.163419013605445,
          21.164898095238097,
          15.23797588435374,
          13.552309353741496,
          11.9498993877551,
          18.077760612244894,
          15.622560442176871,
          18.596753605442174,
          19.79083799319728,
          20.920898571428573,
          23.454774585034013,
          15.558297176870749,
          21.25322236734694,
          12.499617020408165,
          16.65798260544218,
          23.46882265306122,
          22.96444819727891,
          11.130910204081632,
          12.91174731292517,
          30.89562261904762,
          31.10317192857143,
          18.5598925170068,
          18.42207693877551,
          19.6067006122449,
          17.697308945578232,
          10.106023707482994,
          15.432458013605444,
          25.28062994557823,
          14.68847057142857,
          23.750535809523807,
          28.63888742857143,
          14.888720714285714,
          17.714626,
          18.556566047619047,
          19.76024764285714,
          9.392243666666667,
          16.33589119047619,
          29.224536357142856,
          58.2543555170068,
          38.11809836734694,
          32.15547870748299,
          16.43907306122449,
          14.71890401360544,
          16.529670340136054,
          19.406168367346936,
          16.643585918367346,
          21.488627210884356,
          32.82944578231292,
          10.599304761904762,
          10.710688979591836,
          7.533569387755102,
          14.453085850340136,
          11.742112959183672,
          22.07179857142857,
          33.347027414965986,
          19.133886190476197,
          20.256761632653063,
          20.38309029931973,
          11.797605727891156,
          16.485236972789117,
          21.527615027210885,
          17.061898523809525,
          20.92251980952381,
          12.372043210884357,
          17.137529455782314,
          27.49460607142857,
          11.495906520408164,
          12.086993673469388,
          13.673337346938776,
          13.134475102040817,
          11.859395176870748,
          17.150833523809524,
          25.45167523129252,
          27.61712036734694,
          14.768317789115644,
          10.37452156462585,
          10.459034741496598,
          11.381994421768708,
          15.204197142857142,
          18.958714285714283,
          13.474603265306124,
          19.59365421768708,
          11.325951700680273,
          24.12048628571429,
          21.26414448979592,
          30.257807755102043,
          23.40242428571429,
          49.03236404761905,
          28.74464955102041,
          26.309529591836736,
          11.66362102040816,
          12.299732857142857,
          9.427855986394558,
          18.50703693877551,
          20.21723237414966,
          60.6786824829932,
          16.37708,
          22.369015782312925,
          16.162446394557822,
          16.997148163265305,
          9.700361551020409,
          10.633339761904764,
          16.55494386734694,
          12.7417771292517,
          7.934199591836735,
          11.189185918367349,
          8.446223707482993,
          9.841179591836736,
          13.28874055782313,
          10.838407952380951,
          11.351909166666667,
          8.749039166666666,
          11.817462,
          19.698189714285714,
          14.673750071428572,
          17.185188571428572,
          12.091210214285717,
          13.666955071428571,
          9.212591857142856,
          16.661690142857143,
          17.486159965986396,
          10.560221857142858,
          13.649443142857145,
          12.858505034013604,
          6.7676411632653055,
          18.82375268707483,
          18.627227585034014,
          20.83309265306122,
          19.33299884353741,
          10.994018333333337
         ]
        },
        {
         "mode": "lines+markers",
         "name": "Predizione",
         "type": "scatter",
         "x": [
          355,
          356,
          357,
          358
         ],
         "y": [
          23.30965805053711,
          17.667234420776367,
          11.998754501342773,
          10.701507568359375
         ]
        }
       ],
       "layout": {
        "template": {
         "data": {
          "bar": [
           {
            "error_x": {
             "color": "#2a3f5f"
            },
            "error_y": {
             "color": "#2a3f5f"
            },
            "marker": {
             "line": {
              "color": "#E5ECF6",
              "width": 0.5
             },
             "pattern": {
              "fillmode": "overlay",
              "size": 10,
              "solidity": 0.2
             }
            },
            "type": "bar"
           }
          ],
          "barpolar": [
           {
            "marker": {
             "line": {
              "color": "#E5ECF6",
              "width": 0.5
             },
             "pattern": {
              "fillmode": "overlay",
              "size": 10,
              "solidity": 0.2
             }
            },
            "type": "barpolar"
           }
          ],
          "carpet": [
           {
            "aaxis": {
             "endlinecolor": "#2a3f5f",
             "gridcolor": "white",
             "linecolor": "white",
             "minorgridcolor": "white",
             "startlinecolor": "#2a3f5f"
            },
            "baxis": {
             "endlinecolor": "#2a3f5f",
             "gridcolor": "white",
             "linecolor": "white",
             "minorgridcolor": "white",
             "startlinecolor": "#2a3f5f"
            },
            "type": "carpet"
           }
          ],
          "choropleth": [
           {
            "colorbar": {
             "outlinewidth": 0,
             "ticks": ""
            },
            "type": "choropleth"
           }
          ],
          "contour": [
           {
            "colorbar": {
             "outlinewidth": 0,
             "ticks": ""
            },
            "colorscale": [
             [
              0,
              "#0d0887"
             ],
             [
              0.1111111111111111,
              "#46039f"
             ],
             [
              0.2222222222222222,
              "#7201a8"
             ],
             [
              0.3333333333333333,
              "#9c179e"
             ],
             [
              0.4444444444444444,
              "#bd3786"
             ],
             [
              0.5555555555555556,
              "#d8576b"
             ],
             [
              0.6666666666666666,
              "#ed7953"
             ],
             [
              0.7777777777777778,
              "#fb9f3a"
             ],
             [
              0.8888888888888888,
              "#fdca26"
             ],
             [
              1,
              "#f0f921"
             ]
            ],
            "type": "contour"
           }
          ],
          "contourcarpet": [
           {
            "colorbar": {
             "outlinewidth": 0,
             "ticks": ""
            },
            "type": "contourcarpet"
           }
          ],
          "heatmap": [
           {
            "colorbar": {
             "outlinewidth": 0,
             "ticks": ""
            },
            "colorscale": [
             [
              0,
              "#0d0887"
             ],
             [
              0.1111111111111111,
              "#46039f"
             ],
             [
              0.2222222222222222,
              "#7201a8"
             ],
             [
              0.3333333333333333,
              "#9c179e"
             ],
             [
              0.4444444444444444,
              "#bd3786"
             ],
             [
              0.5555555555555556,
              "#d8576b"
             ],
             [
              0.6666666666666666,
              "#ed7953"
             ],
             [
              0.7777777777777778,
              "#fb9f3a"
             ],
             [
              0.8888888888888888,
              "#fdca26"
             ],
             [
              1,
              "#f0f921"
             ]
            ],
            "type": "heatmap"
           }
          ],
          "heatmapgl": [
           {
            "colorbar": {
             "outlinewidth": 0,
             "ticks": ""
            },
            "colorscale": [
             [
              0,
              "#0d0887"
             ],
             [
              0.1111111111111111,
              "#46039f"
             ],
             [
              0.2222222222222222,
              "#7201a8"
             ],
             [
              0.3333333333333333,
              "#9c179e"
             ],
             [
              0.4444444444444444,
              "#bd3786"
             ],
             [
              0.5555555555555556,
              "#d8576b"
             ],
             [
              0.6666666666666666,
              "#ed7953"
             ],
             [
              0.7777777777777778,
              "#fb9f3a"
             ],
             [
              0.8888888888888888,
              "#fdca26"
             ],
             [
              1,
              "#f0f921"
             ]
            ],
            "type": "heatmapgl"
           }
          ],
          "histogram": [
           {
            "marker": {
             "pattern": {
              "fillmode": "overlay",
              "size": 10,
              "solidity": 0.2
             }
            },
            "type": "histogram"
           }
          ],
          "histogram2d": [
           {
            "colorbar": {
             "outlinewidth": 0,
             "ticks": ""
            },
            "colorscale": [
             [
              0,
              "#0d0887"
             ],
             [
              0.1111111111111111,
              "#46039f"
             ],
             [
              0.2222222222222222,
              "#7201a8"
             ],
             [
              0.3333333333333333,
              "#9c179e"
             ],
             [
              0.4444444444444444,
              "#bd3786"
             ],
             [
              0.5555555555555556,
              "#d8576b"
             ],
             [
              0.6666666666666666,
              "#ed7953"
             ],
             [
              0.7777777777777778,
              "#fb9f3a"
             ],
             [
              0.8888888888888888,
              "#fdca26"
             ],
             [
              1,
              "#f0f921"
             ]
            ],
            "type": "histogram2d"
           }
          ],
          "histogram2dcontour": [
           {
            "colorbar": {
             "outlinewidth": 0,
             "ticks": ""
            },
            "colorscale": [
             [
              0,
              "#0d0887"
             ],
             [
              0.1111111111111111,
              "#46039f"
             ],
             [
              0.2222222222222222,
              "#7201a8"
             ],
             [
              0.3333333333333333,
              "#9c179e"
             ],
             [
              0.4444444444444444,
              "#bd3786"
             ],
             [
              0.5555555555555556,
              "#d8576b"
             ],
             [
              0.6666666666666666,
              "#ed7953"
             ],
             [
              0.7777777777777778,
              "#fb9f3a"
             ],
             [
              0.8888888888888888,
              "#fdca26"
             ],
             [
              1,
              "#f0f921"
             ]
            ],
            "type": "histogram2dcontour"
           }
          ],
          "mesh3d": [
           {
            "colorbar": {
             "outlinewidth": 0,
             "ticks": ""
            },
            "type": "mesh3d"
           }
          ],
          "parcoords": [
           {
            "line": {
             "colorbar": {
              "outlinewidth": 0,
              "ticks": ""
             }
            },
            "type": "parcoords"
           }
          ],
          "pie": [
           {
            "automargin": true,
            "type": "pie"
           }
          ],
          "scatter": [
           {
            "marker": {
             "colorbar": {
              "outlinewidth": 0,
              "ticks": ""
             }
            },
            "type": "scatter"
           }
          ],
          "scatter3d": [
           {
            "line": {
             "colorbar": {
              "outlinewidth": 0,
              "ticks": ""
             }
            },
            "marker": {
             "colorbar": {
              "outlinewidth": 0,
              "ticks": ""
             }
            },
            "type": "scatter3d"
           }
          ],
          "scattercarpet": [
           {
            "marker": {
             "colorbar": {
              "outlinewidth": 0,
              "ticks": ""
             }
            },
            "type": "scattercarpet"
           }
          ],
          "scattergeo": [
           {
            "marker": {
             "colorbar": {
              "outlinewidth": 0,
              "ticks": ""
             }
            },
            "type": "scattergeo"
           }
          ],
          "scattergl": [
           {
            "marker": {
             "colorbar": {
              "outlinewidth": 0,
              "ticks": ""
             }
            },
            "type": "scattergl"
           }
          ],
          "scattermapbox": [
           {
            "marker": {
             "colorbar": {
              "outlinewidth": 0,
              "ticks": ""
             }
            },
            "type": "scattermapbox"
           }
          ],
          "scatterpolar": [
           {
            "marker": {
             "colorbar": {
              "outlinewidth": 0,
              "ticks": ""
             }
            },
            "type": "scatterpolar"
           }
          ],
          "scatterpolargl": [
           {
            "marker": {
             "colorbar": {
              "outlinewidth": 0,
              "ticks": ""
             }
            },
            "type": "scatterpolargl"
           }
          ],
          "scatterternary": [
           {
            "marker": {
             "colorbar": {
              "outlinewidth": 0,
              "ticks": ""
             }
            },
            "type": "scatterternary"
           }
          ],
          "surface": [
           {
            "colorbar": {
             "outlinewidth": 0,
             "ticks": ""
            },
            "colorscale": [
             [
              0,
              "#0d0887"
             ],
             [
              0.1111111111111111,
              "#46039f"
             ],
             [
              0.2222222222222222,
              "#7201a8"
             ],
             [
              0.3333333333333333,
              "#9c179e"
             ],
             [
              0.4444444444444444,
              "#bd3786"
             ],
             [
              0.5555555555555556,
              "#d8576b"
             ],
             [
              0.6666666666666666,
              "#ed7953"
             ],
             [
              0.7777777777777778,
              "#fb9f3a"
             ],
             [
              0.8888888888888888,
              "#fdca26"
             ],
             [
              1,
              "#f0f921"
             ]
            ],
            "type": "surface"
           }
          ],
          "table": [
           {
            "cells": {
             "fill": {
              "color": "#EBF0F8"
             },
             "line": {
              "color": "white"
             }
            },
            "header": {
             "fill": {
              "color": "#C8D4E3"
             },
             "line": {
              "color": "white"
             }
            },
            "type": "table"
           }
          ]
         },
         "layout": {
          "annotationdefaults": {
           "arrowcolor": "#2a3f5f",
           "arrowhead": 0,
           "arrowwidth": 1
          },
          "autotypenumbers": "strict",
          "coloraxis": {
           "colorbar": {
            "outlinewidth": 0,
            "ticks": ""
           }
          },
          "colorscale": {
           "diverging": [
            [
             0,
             "#8e0152"
            ],
            [
             0.1,
             "#c51b7d"
            ],
            [
             0.2,
             "#de77ae"
            ],
            [
             0.3,
             "#f1b6da"
            ],
            [
             0.4,
             "#fde0ef"
            ],
            [
             0.5,
             "#f7f7f7"
            ],
            [
             0.6,
             "#e6f5d0"
            ],
            [
             0.7,
             "#b8e186"
            ],
            [
             0.8,
             "#7fbc41"
            ],
            [
             0.9,
             "#4d9221"
            ],
            [
             1,
             "#276419"
            ]
           ],
           "sequential": [
            [
             0,
             "#0d0887"
            ],
            [
             0.1111111111111111,
             "#46039f"
            ],
            [
             0.2222222222222222,
             "#7201a8"
            ],
            [
             0.3333333333333333,
             "#9c179e"
            ],
            [
             0.4444444444444444,
             "#bd3786"
            ],
            [
             0.5555555555555556,
             "#d8576b"
            ],
            [
             0.6666666666666666,
             "#ed7953"
            ],
            [
             0.7777777777777778,
             "#fb9f3a"
            ],
            [
             0.8888888888888888,
             "#fdca26"
            ],
            [
             1,
             "#f0f921"
            ]
           ],
           "sequentialminus": [
            [
             0,
             "#0d0887"
            ],
            [
             0.1111111111111111,
             "#46039f"
            ],
            [
             0.2222222222222222,
             "#7201a8"
            ],
            [
             0.3333333333333333,
             "#9c179e"
            ],
            [
             0.4444444444444444,
             "#bd3786"
            ],
            [
             0.5555555555555556,
             "#d8576b"
            ],
            [
             0.6666666666666666,
             "#ed7953"
            ],
            [
             0.7777777777777778,
             "#fb9f3a"
            ],
            [
             0.8888888888888888,
             "#fdca26"
            ],
            [
             1,
             "#f0f921"
            ]
           ]
          },
          "colorway": [
           "#636efa",
           "#EF553B",
           "#00cc96",
           "#ab63fa",
           "#FFA15A",
           "#19d3f3",
           "#FF6692",
           "#B6E880",
           "#FF97FF",
           "#FECB52"
          ],
          "font": {
           "color": "#2a3f5f"
          },
          "geo": {
           "bgcolor": "white",
           "lakecolor": "white",
           "landcolor": "#E5ECF6",
           "showlakes": true,
           "showland": true,
           "subunitcolor": "white"
          },
          "hoverlabel": {
           "align": "left"
          },
          "hovermode": "closest",
          "mapbox": {
           "style": "light"
          },
          "paper_bgcolor": "white",
          "plot_bgcolor": "#E5ECF6",
          "polar": {
           "angularaxis": {
            "gridcolor": "white",
            "linecolor": "white",
            "ticks": ""
           },
           "bgcolor": "#E5ECF6",
           "radialaxis": {
            "gridcolor": "white",
            "linecolor": "white",
            "ticks": ""
           }
          },
          "scene": {
           "xaxis": {
            "backgroundcolor": "#E5ECF6",
            "gridcolor": "white",
            "gridwidth": 2,
            "linecolor": "white",
            "showbackground": true,
            "ticks": "",
            "zerolinecolor": "white"
           },
           "yaxis": {
            "backgroundcolor": "#E5ECF6",
            "gridcolor": "white",
            "gridwidth": 2,
            "linecolor": "white",
            "showbackground": true,
            "ticks": "",
            "zerolinecolor": "white"
           },
           "zaxis": {
            "backgroundcolor": "#E5ECF6",
            "gridcolor": "white",
            "gridwidth": 2,
            "linecolor": "white",
            "showbackground": true,
            "ticks": "",
            "zerolinecolor": "white"
           }
          },
          "shapedefaults": {
           "line": {
            "color": "#2a3f5f"
           }
          },
          "ternary": {
           "aaxis": {
            "gridcolor": "white",
            "linecolor": "white",
            "ticks": ""
           },
           "baxis": {
            "gridcolor": "white",
            "linecolor": "white",
            "ticks": ""
           },
           "bgcolor": "#E5ECF6",
           "caxis": {
            "gridcolor": "white",
            "linecolor": "white",
            "ticks": ""
           }
          },
          "title": {
           "x": 0.05
          },
          "xaxis": {
           "automargin": true,
           "gridcolor": "white",
           "linecolor": "white",
           "ticks": "",
           "title": {
            "standoff": 15
           },
           "zerolinecolor": "white",
           "zerolinewidth": 2
          },
          "yaxis": {
           "automargin": true,
           "gridcolor": "white",
           "linecolor": "white",
           "ticks": "",
           "title": {
            "standoff": 15
           },
           "zerolinecolor": "white",
           "zerolinewidth": 2
          }
         }
        }
       }
      }
     },
     "metadata": {},
     "output_type": "display_data"
    }
   ],
   "source": [
    "provincia = \"Trieste\"\n",
    "raw_prediction, xraw = best_tft.predict(\n",
    "    validation.filter(lambda x: (x.provincia == provincia)),\n",
    "    mode=\"prediction\",\n",
    "    return_x=True,\n",
    ")\n",
    "predicted_df = pd.DataFrame([],columns=[\"time_idx\",\"values\"])\n",
    "i=0\n",
    "while i < len(raw_prediction):\n",
    "    for x in range(0,len(raw_prediction[i])):\n",
    "        predicted_df = predicted_df.append({\"time_idx\":xraw[\"decoder_time_idx\"][i][x],\"values\":raw_prediction[i][x].numpy()},ignore_index=True)\n",
    "    i += len(raw_prediction[i])\n",
    "predicted_df[\"values\"] = predicted_df[\"values\"].astype(float)\n",
    "target = df_settimanale[df_settimanale[\"provincia\"]==provincia]\n",
    "fig = go.Figure()\n",
    "fig.add_trace(go.Scatter(x=target[\"time_idx\"], y=target[\"pm10_giornaliera\"],mode='lines+markers',name=\"Realtà\"))\n",
    "fig.add_trace(go.Scatter(x=predicted_df[\"time_idx\"], y=predicted_df[\"values\"],mode='lines+markers',name=\"Predizione\"))\n",
    "fig.show()"
   ]
  }
 ],
 "metadata": {
  "interpreter": {
   "hash": "3e8ba394dfecf69ab3b214a23e7e279956d3407d86cf3cc4fe5cfb6d1f0e6e68"
  },
  "kernelspec": {
   "display_name": "Python 3.7.3 64-bit",
   "language": "python",
   "name": "python3"
  },
  "language_info": {
   "codemirror_mode": {
    "name": "ipython",
    "version": 3
   },
   "file_extension": ".py",
   "mimetype": "text/x-python",
   "name": "python",
   "nbconvert_exporter": "python",
   "pygments_lexer": "ipython3",
   "version": "3.7.3"
  },
  "orig_nbformat": 4
 },
 "nbformat": 4,
 "nbformat_minor": 2
}

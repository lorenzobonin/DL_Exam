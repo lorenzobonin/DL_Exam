{
 "cells": [
  {
   "cell_type": "code",
   "execution_count": 1,
   "metadata": {},
   "outputs": [],
   "source": [
    "import numpy as np\n",
    "import pandas as pd\n",
    "pd.set_option(\"max_colwidth\", None)\n",
    "import os"
   ]
  },
  {
   "cell_type": "markdown",
   "metadata": {},
   "source": [
    "# CARICAMENTO DATI"
   ]
  },
  {
   "cell_type": "markdown",
   "metadata": {},
   "source": [
    "## Dati aria"
   ]
  },
  {
   "cell_type": "code",
   "execution_count": 2,
   "metadata": {},
   "outputs": [
    {
     "name": "stderr",
     "output_type": "stream",
     "text": [
      "/usr/lib/python3.8/site-packages/IPython/core/interactiveshell.py:3457: DtypeWarning: Columns (1,2,4,9) have mixed types.Specify dtype option on import or set low_memory=False.\n",
      "  exec(code_obj, self.user_global_ns, self.user_ns)\n",
      "/usr/lib/python3.8/site-packages/IPython/core/interactiveshell.py:3457: DtypeWarning: Columns (9) have mixed types.Specify dtype option on import or set low_memory=False.\n",
      "  exec(code_obj, self.user_global_ns, self.user_ns)\n",
      "/usr/lib/python3.8/site-packages/IPython/core/interactiveshell.py:3457: DtypeWarning: Columns (1,2,4,9,18) have mixed types.Specify dtype option on import or set low_memory=False.\n",
      "  exec(code_obj, self.user_global_ns, self.user_ns)\n",
      "/usr/lib/python3.8/site-packages/IPython/core/interactiveshell.py:3457: DtypeWarning: Columns (1,2,4) have mixed types.Specify dtype option on import or set low_memory=False.\n",
      "  exec(code_obj, self.user_global_ns, self.user_ns)\n"
     ]
    }
   ],
   "source": [
    "path_data = \"Data/\"\n",
    "\n",
    "biossido_azoto_df = pd.read_csv(os.path.join(path_data, \"Aria_-_Biossido_d_Azoto.csv\"), sep=\";\", decimal=',')\n",
    "biossido_zolfo_df = pd.read_csv(os.path.join(path_data, \"Aria_-_Biossido_di_Zolfo.csv\"), sep=\";\", decimal=',')\n",
    "monossido_carbonio_df = pd.read_csv(os.path.join(path_data, \"Aria_-_Monossido_di_Carbonio.csv\"), sep=\";\", decimal=',')\n",
    "ozono_df = pd.read_csv(os.path.join(path_data, \"Aria_-_Ozono.csv\"), sep=\";\", decimal=',')\n",
    "pm2dot5_df = pd.read_csv(os.path.join(path_data, \"Aria_-_Particelle_Sospese_PM2.5.csv\"), sep=\";\", decimal=',')\n",
    "pm10_df = pd.read_csv(os.path.join(path_data, \"Aria_-_Particelle_Sospese_PM10.csv\"), sep=\";\", decimal=',')\n",
    "pts_df = pd.read_csv(os.path.join(path_data, \"Aria_-_Particolato_Totale_Sospeso.csv\"), sep=\";\", decimal=',')\n",
    "pollini_df = pd.read_csv(os.path.join(path_data, \"Aria_-_Pollini.csv\"), sep=\";\", decimal=',')\n"
   ]
  },
  {
   "cell_type": "markdown",
   "metadata": {},
   "source": [
    "## Altri dati"
   ]
  },
  {
   "cell_type": "code",
   "execution_count": 3,
   "metadata": {},
   "outputs": [],
   "source": [
    "siti_inquinati_df = pd.read_csv(os.path.join(path_data, \"Censimento_dei_siti_inquinati.csv\"), sep=\";\", decimal=',')\n",
    "trattamento_rifiuti_df = pd.read_csv(os.path.join(path_data, \"Impianti_attivi_trattamento_rifiuti.csv\"))"
   ]
  },
  {
   "cell_type": "markdown",
   "metadata": {},
   "source": [
    "## Analisi preliminare\n",
    "Controllo che non vi siano errori nei dati dei campi di interesse"
   ]
  },
  {
   "cell_type": "markdown",
   "metadata": {},
   "source": [
    "### Biossido di Azoto"
   ]
  },
  {
   "cell_type": "code",
   "execution_count": 4,
   "metadata": {},
   "outputs": [
    {
     "name": "stdout",
     "output_type": "stream",
     "text": [
      "274327\n",
      "['ug/m3']\n",
      "['Udine' 'Trieste' 'Gorizia' 'Pordenone']\n",
      "['True' 'False' 'Vero' 'Falso' nan]\n",
      "['Edison Torviscosa' 'Via Carpineto' 'A2A Via Natisone' \"A2A Doberdo'\"\n",
      " 'piazza Carlo Alberto' 'Gorizia' 'Ugovizza' 'Castions' 'Porcia'\n",
      " 'Area verde' 'Pordenone Centro 1' 'A2A Vermegliano' 'A2A Fossalon'\n",
      " 'Malisana' 'Via S.Daniele' 'Sacile' 'A2A Papariano' 'V.Cairoli'\n",
      " 'Via del Ponticello' 'p.le Rosmini' 'Osoppo' 'via Pitacco-ARPA'\n",
      " 'S.Giovanni al Natisone' 'piazza Volontari Giuliani' 'Brugnera' 'Claut'\n",
      " \"Doberdo'\" 'Lignano Sabbiadoro' 'Lucinico' 'M.te Zoncolan' 'Monfalcone'\n",
      " 'Monte S. Pantaleone' 'Muggia' 'Morsano' \"P.le D'Annunzio\" 'P.le Osoppo'\n",
      " 'P.le XXVI Luglio' 'S.Osvaldo' 'P.zza Liberta' 'P.zza Vico'\n",
      " 'Pordenone Centro' 'Prata di Pordenone' 'S.Giorgio di Nogaro' 'Tolmezzo'\n",
      " 'Torviscosa' 'V.Manzoni' 'Via Pitacco' 'Via San Sabba' 'Via Svevo'\n",
      " 'Via Tor Bandena']\n"
     ]
    }
   ],
   "source": [
    "dim = len(biossido_azoto_df.index)\n",
    "um = biossido_azoto_df[\"UNITA' MISURA\"].unique()\n",
    "città = biossido_azoto_df[\"RETE\"].unique()\n",
    "biossido_azoto_df[\"DATI INSUFF.\"] = biossido_zolfo_df[\"DATI INSUFF.\"].astype(str)\n",
    "dati_insuff = biossido_azoto_df[\"DATI INSUFF.\"].unique()\n",
    "ubicazioni = biossido_azoto_df[\"UBICAZIONE\"].unique()\n",
    "\n",
    "print(dim)\n",
    "print(um)\n",
    "print(città)\n",
    "print(dati_insuff)\n",
    "print(ubicazioni)"
   ]
  },
  {
   "cell_type": "markdown",
   "metadata": {},
   "source": [
    "### Biossido di Zolfo"
   ]
  },
  {
   "cell_type": "code",
   "execution_count": 5,
   "metadata": {},
   "outputs": [
    {
     "name": "stdout",
     "output_type": "stream",
     "text": [
      "159873\n",
      "['ug/m3']\n",
      "['Trieste' 'Udine' 'Gorizia' 'Pordenone']\n",
      "['True' 'False' 'Vero' 'Falso']\n",
      "['Via del Ponticello' 'Edison Torviscosa' 'A2A Fossalon' 'Malisana'\n",
      " 'A2A Papariano' 'Via Carpineto' 'Tolmezzo' 'A2A Via Natisone'\n",
      " 'A2A Vermegliano' 'via Pitacco-ARPA' 'p.le Rosmini' \"A2A Doberdo'\"\n",
      " 'Castions' 'Brugnera' 'Caneva' 'Claut' \"Doberdo'\" 'Fanna'\n",
      " 'Lignano Sabbiadoro' 'Lucinico' 'M.te Zoncolan' 'Monfalcone'\n",
      " 'Monte S. Pantaleone' 'Muggia' 'Osoppo' \"P.le D'Annunzio\" 'P.le Osoppo'\n",
      " 'P.le XXVI Luglio' 'P.zza Liberta' 'P.zza Vico' 'Pordenone Centro'\n",
      " 'Prata di Pordenone' 'S.Giorgio di Nogaro' 'S.Giovanni al Natisone'\n",
      " 'Sequals' 'Tarvisio' 'Torviscosa' 'Tribil Inferiore' 'Tugliezzo'\n",
      " 'Ugovizza' 'V.Cairoli' 'Via Battisti' 'Via Pitacco' 'Via San Sabba'\n",
      " 'Via Svevo']\n"
     ]
    }
   ],
   "source": [
    "dim = len(biossido_zolfo_df.index)\n",
    "um = biossido_zolfo_df[\"UNITA' MISURA\"].unique()\n",
    "città = biossido_zolfo_df[\"RETE\"].unique()\n",
    "biossido_zolfo_df[\"DATI INSUFF.\"] = biossido_zolfo_df[\"DATI INSUFF.\"].astype(str)\n",
    "dati_insuff = biossido_zolfo_df[\"DATI INSUFF.\"].unique()\n",
    "ubicazioni = biossido_zolfo_df[\"UBICAZIONE\"].unique()\n",
    "\n",
    "print(dim)\n",
    "print(um)\n",
    "print(città)\n",
    "print(dati_insuff)\n",
    "print(ubicazioni)"
   ]
  },
  {
   "cell_type": "markdown",
   "metadata": {},
   "source": [
    "### Monossido di Carbonio"
   ]
  },
  {
   "cell_type": "code",
   "execution_count": 6,
   "metadata": {},
   "outputs": [
    {
     "name": "stdout",
     "output_type": "stream",
     "text": [
      "95092\n",
      "['mg/m3']\n",
      "['Udine' 'Trieste' 'Pordenone' 'Gorizia']\n",
      "['True' 'False' 'Vero' 'Falso']\n",
      "['Malisana' 'Edison Torviscosa' 'piazza Volontari Giuliani'\n",
      " 'Via Carpineto' 'Castions' 'Via del Ponticello' 'via Pitacco-ARPA'\n",
      " 'Brugnera' 'Gorizia' 'Monfalcone' 'Muggia' 'Monte S. Pantaleone'\n",
      " 'P.le Osoppo' 'P.le XXVI Luglio' 'P.zza Liberta' 'P.zza Vico'\n",
      " 'Pordenone Centro' 'Via Svevo' 'Pordenone Centro 1' 'Prata di Pordenone'\n",
      " 'V.Cairoli' 'V.Manzoni' 'Via Battisti' 'Via Pitacco' 'Via S.Daniele'\n",
      " 'Via San Sabba' 'Via Tor Bandena']\n"
     ]
    }
   ],
   "source": [
    "dim = len(monossido_carbonio_df.index)\n",
    "um = monossido_carbonio_df[\"UNITA' MISURA\"].unique()\n",
    "città = monossido_carbonio_df[\"RETE\"].unique()\n",
    "monossido_carbonio_df[\"DATI INSUFF.\"] = biossido_zolfo_df[\"DATI INSUFF.\"].astype(str)\n",
    "dati_insuff = monossido_carbonio_df[\"DATI INSUFF.\"].unique()\n",
    "ubicazioni = monossido_carbonio_df[\"UBICAZIONE\"].unique()\n",
    "\n",
    "print(dim)\n",
    "print(um)\n",
    "print(città)\n",
    "print(dati_insuff)\n",
    "print(ubicazioni)"
   ]
  },
  {
   "cell_type": "markdown",
   "metadata": {},
   "source": [
    "### Ozono"
   ]
  },
  {
   "cell_type": "code",
   "execution_count": 7,
   "metadata": {},
   "outputs": [
    {
     "name": "stdout",
     "output_type": "stream",
     "text": [
      "224750\n",
      "['ug/m3']\n",
      "['Pordenone' 'Trieste' 'Udine' 'Gorizia']\n",
      "['False' 'True' 'Vero' 'Falso']\n",
      "['Porcia' 'Basovizza' 'Castions' 'A2A Papariano' 'S.Giovanni al Natisone'\n",
      " 'V.Cairoli' 'Ugovizza' 'A2A Via Natisone' 'Via Carpineto' 'Malisana'\n",
      " 'Edison Torviscosa' \"A2A Doberdo'\" 'A2A Fossalon' 'Tolmezzo' 'Brugnera'\n",
      " 'Morsano' 'Area verde' 'A2A Vermegliano' 'S.Osvaldo' 'Claut' \"Doberdo'\"\n",
      " 'M.te Zoncolan' 'Gorizia' 'Lucinico' 'Lignano Sabbiadoro' 'Monfalcone'\n",
      " 'Monte S. Pantaleone' 'Osoppo' 'P.zza Liberta' 'Pordenone Centro'\n",
      " 'Punta Sdobba' 'S.Giorgio di Nogaro' 'Tarvisio' 'Torviscosa'\n",
      " 'Tribil Inferiore' 'Tugliezzo' 'V.Manzoni' 'Via Battisti']\n"
     ]
    }
   ],
   "source": [
    "dim = len(ozono_df.index)\n",
    "um = ozono_df[\"UNITA' MISURA\"].unique()\n",
    "città = ozono_df[\"RETE\"].unique()\n",
    "ozono_df[\"DATI INSUFF.\"] = ozono_df[\"DATI INSUFF.\"].astype(str)\n",
    "dati_insuff = ozono_df[\"DATI INSUFF.\"].unique()\n",
    "ubicazioni = ozono_df[\"UBICAZIONE\"].unique()\n",
    "\n",
    "print(dim)\n",
    "print(um)\n",
    "print(città)\n",
    "print(dati_insuff)\n",
    "print(ubicazioni)"
   ]
  },
  {
   "cell_type": "markdown",
   "metadata": {},
   "source": [
    "### PM2.5"
   ]
  },
  {
   "cell_type": "code",
   "execution_count": 8,
   "metadata": {},
   "outputs": [
    {
     "name": "stdout",
     "output_type": "stream",
     "text": [
      "77227\n",
      "['ug/m3']\n",
      "['Gorizia' 'Udine' 'Pordenone' 'Trieste']\n",
      "['False' 'True' 'Falso' 'Vero']\n",
      "['Gorizia' 'A2A Via Natisone' 'V.Cairoli' 'A2A Fossalon'\n",
      " 'Pordenone Centro 1' 'p.le Rosmini' 'Via del Ponticello'\n",
      " 'via Pitacco-ARPA' 'P.zza Liberta' 'Pordenone Centro' 'Castions'\n",
      " 'Edison Torviscosa' 'Malisana']\n"
     ]
    }
   ],
   "source": [
    "dim = len(pm2dot5_df.index)\n",
    "um = pm2dot5_df[\"UNITA' MISURA\"].unique()\n",
    "città = pm2dot5_df[\"RETE\"].unique()\n",
    "pm2dot5_df[\"DATI INSUFF.\"] = pm2dot5_df[\"DATI INSUFF.\"].astype(str)\n",
    "dati_insuff = pm2dot5_df[\"DATI INSUFF.\"].unique()\n",
    "ubicazioni = pm2dot5_df[\"UBICAZIONE\"].unique()\n",
    "\n",
    "print(dim)\n",
    "print(um)\n",
    "print(città)\n",
    "print(dati_insuff)\n",
    "print(ubicazioni)"
   ]
  },
  {
   "cell_type": "markdown",
   "metadata": {},
   "source": [
    "### PM10"
   ]
  },
  {
   "cell_type": "code",
   "execution_count": 9,
   "metadata": {},
   "outputs": [
    {
     "name": "stdout",
     "output_type": "stream",
     "text": [
      "146793\n",
      "['ug/m3']\n",
      "['Udine' 'Gorizia' 'Pordenone' 'Trieste']\n",
      "['False' 'Falso' 'Vero' 'True']\n",
      "['Tolmezzo' 'Malisana' 'Edison Torviscosa' 'Castions'\n",
      " 'S.Giovanni al Natisone' 'Gorizia' 'Porcia' 'Brugnera' 'V.Cairoli'\n",
      " 'S.Osvaldo' 'Osoppo' 'Morsano' 'A2A Fossalon' \"A2A Doberdo'\"\n",
      " 'A2A Papariano' 'Via S.Daniele' 'Ugovizza' 'Sacile' 'Pordenone Centro 1'\n",
      " 'A2A Via Natisone' 'A2A Vermegliano' 'piazza Carlo Alberto' 'Basovizza'\n",
      " 'piazza Volontari Giuliani' 'Via del Ponticello' 'via Pitacco-ARPA'\n",
      " 'p.le Rosmini' 'Via Carpineto' 'Area verde' 'Caneva' 'Claut' \"Doberdo'\"\n",
      " 'Fanna' 'Lucinico' 'P.le Osoppo' 'Pordenone Centro' 'Prata di Pordenone'\n",
      " 'Sequals' 'Torviscosa' 'V.Manzoni' 'Monfalcone' 'Muggia' 'P.zza Liberta'\n",
      " 'Via Tor Bandena' 'Via Svevo' 'Via Pitacco']\n"
     ]
    }
   ],
   "source": [
    "dim = len(pm10_df.index)\n",
    "um = pm10_df[\"UNITA' MISURA\"].unique()\n",
    "città = pm10_df[\"RETE\"].unique()\n",
    "pm10_df[\"DATI INSUFF.\"] = pm10_df[\"DATI INSUFF.\"].astype(str)\n",
    "dati_insuff = pm10_df[\"DATI INSUFF.\"].unique()\n",
    "ubicazioni = pm10_df[\"UBICAZIONE\"].unique()\n",
    "\n",
    "print(dim)\n",
    "print(um)\n",
    "print(città)\n",
    "print(dati_insuff)\n",
    "print(ubicazioni)\n"
   ]
  },
  {
   "cell_type": "markdown",
   "metadata": {},
   "source": [
    "### Particolato totale sospeso\n",
    "Tutto il materiale non gassoso presente nell'aria (anche pollini, ecc...). Non viene quindi preso in considerazione dal momento che consideriamo PM10 come indice per l'inquinamento."
   ]
  },
  {
   "cell_type": "code",
   "execution_count": 10,
   "metadata": {},
   "outputs": [
    {
     "name": "stdout",
     "output_type": "stream",
     "text": [
      "20343\n",
      "['ug/m3']\n",
      "['Trieste' 'Pordenone']\n",
      "['Vero' 'Falso']\n",
      "['Muggia' 'Brugnera' 'Caneva' 'Fanna' 'Porcia' 'Pordenone Centro'\n",
      " 'Via Svevo' 'Prata di Pordenone' 'Sequals' 'Via Pitacco']\n"
     ]
    }
   ],
   "source": [
    "dim = len(pts_df.index)\n",
    "um = pts_df[\"UNITA' MISURA\"].unique()\n",
    "città = pts_df[\"RETE\"].unique()\n",
    "pts_df[\"DATI INSUFF.\"] = pts_df[\"DATI INSUFF.\"].astype(str)\n",
    "dati_insuff = pts_df[\"DATI INSUFF.\"].unique()\n",
    "ubicazioni = pts_df[\"UBICAZIONE\"].unique()\n",
    "\n",
    "print(dim)\n",
    "print(um)\n",
    "print(città)\n",
    "print(dati_insuff)\n",
    "print(ubicazioni)"
   ]
  },
  {
   "cell_type": "markdown",
   "metadata": {},
   "source": [
    "### Pollini"
   ]
  },
  {
   "cell_type": "markdown",
   "metadata": {},
   "source": [
    "Difficile gestione del campo relativo alla data, per ora questo dataset viene trascurato."
   ]
  },
  {
   "cell_type": "code",
   "execution_count": 11,
   "metadata": {},
   "outputs": [
    {
     "name": "stdout",
     "output_type": "stream",
     "text": [
      "118560\n",
      "['ug/m3']\n",
      "['Trieste' 'Pordenone' 'Udine']\n",
      "['Vero' 'Falso']\n",
      "['Muggia' 'Brugnera' 'Caneva' 'Fanna' 'Porcia' 'Pordenone Centro'\n",
      " 'Via Svevo' 'Prata di Pordenone' 'Sequals' 'Via Pitacco']\n"
     ]
    }
   ],
   "source": [
    "dim = len(pollini_df.index)\n",
    "genere = pollini_df[\"GENERE\"].unique()\n",
    "famiglia = pollini_df[\"FAMIGLIA\"].unique()\n",
    "città = pollini_df[\"PROVINCIA\"].unique()\n",
    "\n",
    "print(dim)\n",
    "print(um)\n",
    "print(città)\n",
    "print(dati_insuff)\n",
    "print(ubicazioni)\n"
   ]
  },
  {
   "cell_type": "markdown",
   "metadata": {},
   "source": [
    "# Elaborazione dei dati"
   ]
  },
  {
   "cell_type": "markdown",
   "metadata": {},
   "source": [
    "Selezione dei campi di interesse e filtraggio per dati sufficienti"
   ]
  },
  {
   "cell_type": "code",
   "execution_count": 12,
   "metadata": {},
   "outputs": [],
   "source": [
    "biossido_azoto_df = biossido_azoto_df[(biossido_azoto_df[\"DATI INSUFF.\"] == 'Falso') | (biossido_azoto_df[\"DATI INSUFF.\"] == 'False')][[\"DATA MISURA\", \"RETE\", \"MEDIA ORARIA MAX\"]]\n",
    "biossido_zolfo_df = biossido_zolfo_df[(biossido_zolfo_df[\"DATI INSUFF.\"] == 'Falso') | (biossido_zolfo_df[\"DATI INSUFF.\"] == 'False')][[\"DATA MISURA\", \"RETE\", \"MEDIA GIORNALIERA\"]]\n",
    "monossido_carbonio_df = monossido_carbonio_df[(monossido_carbonio_df[\"DATI INSUFF.\"] == 'Falso') | (monossido_carbonio_df[\"DATI INSUFF.\"] == 'False')][[\"DATA MISURA\", \"RETE\", \"MEDIA MOBILE 8h MAX\"]]\n",
    "ozono_df = ozono_df[(ozono_df[\"DATI INSUFF.\"] == 'Falso') | (ozono_df[\"DATI INSUFF.\"] == 'False')][[\"DATA MISURA\", \"RETE\", \"MEDIA MOBILE 8h MAX\"]]\n",
    "pm2dot5_df = pm2dot5_df[(pm2dot5_df[\"DATI INSUFF.\"] == 'Falso') | (pm2dot5_df[\"DATI INSUFF.\"] == 'False')][[\"DATA MISURA\", \"RETE\", \"MEDIA GIORNALIERA\"]]\n",
    "pm10_df = pm10_df[(pm10_df[\"DATI INSUFF.\"] == 'Falso') | (pm10_df[\"DATI INSUFF.\"] == 'False')][[\"DATA MISURA\", \"RETE\", \"MEDIA GIORNALIERA\"]]\n"
   ]
  },
  {
   "cell_type": "markdown",
   "metadata": {},
   "source": [
    "Selezione dell'intervallo di tempo e creazione dell'indice temporale. Sono presenti dati nei seguenti range temporali:\n",
    "- biossido di azoto:  2005-01-01 ---> 2020-11-18\n",
    "- biossido di zolfo:  2005-01-01 ---> 2021-10-18\n",
    "- monossido di carbonio:  2005-01-01 ---> 2021-11-18\n",
    "- ozono:  2005-01-01 ---> 2021-10-18\n",
    "- pm2.5:  2012-11-18 --->2021-10-18\n",
    "- pm10:  2005-01-01 --->2021-10-18"
   ]
  },
  {
   "cell_type": "code",
   "execution_count": 13,
   "metadata": {},
   "outputs": [],
   "source": [
    "biossido_azoto_df['DATA MISURA']= pd.to_datetime(biossido_azoto_df['DATA MISURA'],dayfirst=True)\n",
    "biossido_azoto_df = biossido_azoto_df[biossido_azoto_df['DATA MISURA'].notna()]\n",
    "biossido_zolfo_df['DATA MISURA']= pd.to_datetime(biossido_zolfo_df['DATA MISURA'],dayfirst=True)\n",
    "biossido_zolfo_df = biossido_zolfo_df[biossido_zolfo_df['DATA MISURA'].notna()]\n",
    "monossido_carbonio_df['DATA MISURA']= pd.to_datetime(monossido_carbonio_df['DATA MISURA'],dayfirst=True)\n",
    "monossido_carbonio_df = monossido_carbonio_df[monossido_carbonio_df['DATA MISURA'].notna()]\n",
    "ozono_df['DATA MISURA']= pd.to_datetime(ozono_df['DATA MISURA'],dayfirst=True)\n",
    "ozono_df = ozono_df[ozono_df['DATA MISURA'].notna()]\n",
    "pm2dot5_df['DATA MISURA']= pd.to_datetime(pm2dot5_df['DATA MISURA'],dayfirst=True)\n",
    "pm2dot5_df = pm2dot5_df[pm2dot5_df['DATA MISURA'].notna()]\n",
    "pm10_df['DATA MISURA']= pd.to_datetime(pm10_df['DATA MISURA'],dayfirst=True)\n",
    "pm10_df = pm10_df[pm10_df['DATA MISURA'].notna()]"
   ]
  },
  {
   "cell_type": "code",
   "execution_count": 14,
   "metadata": {},
   "outputs": [],
   "source": [
    "biossido_azoto_df=biossido_azoto_df.sort_values(by='DATA MISURA')\n",
    "biossido_zolfo_df=biossido_zolfo_df.sort_values(by='DATA MISURA')\n",
    "monossido_carbonio_df=monossido_carbonio_df.sort_values(by='DATA MISURA')\n",
    "ozono_df=ozono_df.sort_values(by='DATA MISURA')\n",
    "pm2dot5_df=pm2dot5_df.sort_values(by='DATA MISURA')\n",
    "pm10_df=pm10_df.sort_values(by='DATA MISURA')"
   ]
  },
  {
   "cell_type": "code",
   "execution_count": 15,
   "metadata": {},
   "outputs": [
    {
     "data": {
      "text/plain": [
       "95495    2005-01-01\n",
       "70009    2005-01-01\n",
       "102683   2005-01-01\n",
       "92393    2005-01-01\n",
       "141788   2005-01-01\n",
       "            ...    \n",
       "58284    2020-11-18\n",
       "58278    2020-11-18\n",
       "58244    2020-11-18\n",
       "58464    2020-11-18\n",
       "58365    2020-11-18\n",
       "Name: DATA MISURA, Length: 148874, dtype: datetime64[ns]"
      ]
     },
     "execution_count": 15,
     "metadata": {},
     "output_type": "execute_result"
    }
   ],
   "source": [
    "biossido_azoto_df[\"DATA MISURA\"]"
   ]
  },
  {
   "cell_type": "markdown",
   "metadata": {},
   "source": [
    "Selezione del range temporale in cui ho tutti i dati (01/01/2014 - 18/11/2020)"
   ]
  },
  {
   "cell_type": "code",
   "execution_count": 16,
   "metadata": {},
   "outputs": [],
   "source": [
    "biossido_azoto_df=biossido_azoto_df[(biossido_azoto_df['DATA MISURA'] >= '2014-01-01') & (biossido_azoto_df['DATA MISURA'] <= biossido_azoto_df['DATA MISURA'].max())]\n",
    "biossido_zolfo_df=biossido_zolfo_df[(biossido_zolfo_df['DATA MISURA'] >=  '2014-01-01') & (biossido_zolfo_df['DATA MISURA'] <= biossido_azoto_df['DATA MISURA'].max())]\n",
    "monossido_carbonio_df=monossido_carbonio_df[(monossido_carbonio_df['DATA MISURA'] >=  '2014-01-01') & (monossido_carbonio_df['DATA MISURA'] <= biossido_azoto_df['DATA MISURA'].max())]\n",
    "ozono_df=ozono_df[(ozono_df['DATA MISURA'] >= '2014-01-01') & (ozono_df['DATA MISURA'] <= biossido_azoto_df['DATA MISURA'].max())]\n",
    "pm2dot5_df=pm2dot5_df[(pm2dot5_df['DATA MISURA'] >= '2014-01-01') & (pm2dot5_df['DATA MISURA'] <= biossido_azoto_df['DATA MISURA'].max())]\n",
    "pm10_df=pm10_df[(pm10_df['DATA MISURA'] >= '2014-01-01') & (pm10_df['DATA MISURA'] <= biossido_azoto_df['DATA MISURA'].max())]"
   ]
  },
  {
   "cell_type": "markdown",
   "metadata": {},
   "source": [
    "Rinomina dei campi"
   ]
  },
  {
   "cell_type": "code",
   "execution_count": 17,
   "metadata": {},
   "outputs": [],
   "source": [
    "biossido_azoto_df = biossido_azoto_df.rename(columns={\n",
    "    'DATA MISURA': 'data',\n",
    "    'RETE': 'provincia',\n",
    "    'MEDIA ORARIA MAX': 'azoto_oraria_max'\n",
    "})\n",
    "biossido_zolfo_df = biossido_zolfo_df.rename(columns={\n",
    "    'DATA MISURA': 'data',\n",
    "    'RETE': 'provincia',\n",
    "    'MEDIA GIORNALIERA': 'zolfo_giornaliera'\n",
    "})\n",
    "monossido_carbonio_df = monossido_carbonio_df.rename(columns={\n",
    "    'DATA MISURA': 'data',\n",
    "    'RETE': 'provincia',\n",
    "    'MEDIA MOBILE 8h MAX': 'carbonio_8h_max'\n",
    "})\n",
    "ozono_df = ozono_df.rename(columns={\n",
    "    'DATA MISURA': 'data',\n",
    "    'RETE': 'provincia',\n",
    "    'MEDIA MOBILE 8h MAX': 'ozono_8h_max'\n",
    "})\n",
    "pm2dot5_df = pm2dot5_df.rename(columns={\n",
    "    'DATA MISURA': 'data',\n",
    "    'RETE': 'provincia',\n",
    "    'MEDIA GIORNALIERA': 'pm2dot5_giornaliera'\n",
    "})\n",
    "pm10_df = pm10_df.rename(columns={\n",
    "    'DATA MISURA': 'data',\n",
    "    'RETE': 'provincia',\n",
    "    'MEDIA GIORNALIERA': 'pm10_giornaliera'\n",
    "})\n",
    "\n",
    "biossido_azoto_df['azoto_oraria_max']=biossido_azoto_df['azoto_oraria_max'].astype(float)\n",
    "biossido_zolfo_df['zolfo_giornaliera']=biossido_zolfo_df['zolfo_giornaliera'].astype(float)\n",
    "monossido_carbonio_df['carbonio_8h_max']=monossido_carbonio_df['carbonio_8h_max'].astype(float)\n",
    "ozono_df['ozono_8h_max']=ozono_df['ozono_8h_max'].astype(float)\n",
    "pm2dot5_df['pm2dot5_giornaliera']=pm2dot5_df['pm2dot5_giornaliera'].astype(float)\n",
    "pm10_df['pm10_giornaliera']=pm10_df['pm10_giornaliera'].astype(float)\n"
   ]
  },
  {
   "cell_type": "markdown",
   "metadata": {},
   "source": [
    "Aggregazione dati per provincia e data"
   ]
  },
  {
   "cell_type": "code",
   "execution_count": 18,
   "metadata": {},
   "outputs": [],
   "source": [
    "biossido_azoto_df=biossido_azoto_df.groupby(by=['data', 'provincia']).agg({\"azoto_oraria_max\":\"mean\"})\n",
    "biossido_zolfo_df=biossido_zolfo_df.groupby(by=['data', 'provincia']).agg({\"zolfo_giornaliera\":\"mean\"})\n",
    "monossido_carbonio_df=monossido_carbonio_df.groupby(by=['data', 'provincia']).agg({\"carbonio_8h_max\":\"mean\"})\n",
    "ozono_df=ozono_df.groupby(by=['data', 'provincia']).agg({\"ozono_8h_max\":\"mean\"})\n",
    "pm2dot5_df=pm2dot5_df.groupby(by=['data', 'provincia']).agg({\"pm2dot5_giornaliera\":\"mean\"})\n",
    "pm10_df=pm10_df.groupby(by=['data', 'provincia']).agg({\"pm10_giornaliera\":\"mean\"})"
   ]
  },
  {
   "cell_type": "markdown",
   "metadata": {},
   "source": [
    "Unione dei datasets"
   ]
  },
  {
   "cell_type": "code",
   "execution_count": 19,
   "metadata": {},
   "outputs": [],
   "source": [
    "df = pd.merge(biossido_azoto_df, biossido_zolfo_df, how='outer', on=[\"data\", \"provincia\"]).sort_values(['data', 'provincia'])\n",
    "df = pd.merge(df, monossido_carbonio_df, how='outer', on=[\"data\", \"provincia\"]).sort_values(['data', 'provincia'])\n",
    "df = pd.merge(df, ozono_df, how='outer', on=[\"data\", \"provincia\"]).sort_values(['data', 'provincia'])\n",
    "df = pd.merge(df, pm2dot5_df, how='outer', on=[\"data\", \"provincia\"]).sort_values(['data', 'provincia'])\n",
    "df = pd.merge(df, pm10_df, how='outer', on=[\"data\", \"provincia\"]).sort_values(['data', 'provincia'])\n",
    "\n",
    "df=df.reset_index()"
   ]
  },
  {
   "cell_type": "markdown",
   "metadata": {},
   "source": [
    "Creazione degli indici temporali"
   ]
  },
  {
   "cell_type": "code",
   "execution_count": 20,
   "metadata": {},
   "outputs": [],
   "source": [
    "df_new = df.copy()\n",
    "df_new[\"time_idx\"] = (df_new['data'].dt.year * 52) + df_new['data'].dt.isocalendar().week\n",
    "df_new[\"relative_time_w\"] = df_new['data'].dt.isocalendar().week\n",
    "df_new[\"relative_time_m\"] = df_new['data'].dt.month\n",
    "df_new[\"relative_time_y\"] = df_new['data'].dt.year\n",
    "df_new[\"time_idx\"] -= df_new[\"time_idx\"].min()\n",
    "df_new[\"time_idx\"] = df_new[\"time_idx\"].astype(int)\n",
    "\n",
    "df_new=df_new.drop(\"data\", axis=1)"
   ]
  },
  {
   "cell_type": "code",
   "execution_count": 21,
   "metadata": {},
   "outputs": [
    {
     "data": {
      "text/html": [
       "<div>\n",
       "<style scoped>\n",
       "    .dataframe tbody tr th:only-of-type {\n",
       "        vertical-align: middle;\n",
       "    }\n",
       "\n",
       "    .dataframe tbody tr th {\n",
       "        vertical-align: top;\n",
       "    }\n",
       "\n",
       "    .dataframe thead th {\n",
       "        text-align: right;\n",
       "    }\n",
       "</style>\n",
       "<table border=\"1\" class=\"dataframe\">\n",
       "  <thead>\n",
       "    <tr style=\"text-align: right;\">\n",
       "      <th></th>\n",
       "      <th>provincia</th>\n",
       "      <th>azoto_oraria_max</th>\n",
       "      <th>zolfo_giornaliera</th>\n",
       "      <th>carbonio_8h_max</th>\n",
       "      <th>ozono_8h_max</th>\n",
       "      <th>pm2dot5_giornaliera</th>\n",
       "      <th>pm10_giornaliera</th>\n",
       "      <th>time_idx</th>\n",
       "      <th>relative_time_w</th>\n",
       "      <th>relative_time_m</th>\n",
       "      <th>relative_time_y</th>\n",
       "    </tr>\n",
       "  </thead>\n",
       "  <tbody>\n",
       "    <tr>\n",
       "      <th>0</th>\n",
       "      <td>Gorizia</td>\n",
       "      <td>18.503750</td>\n",
       "      <td>2.750000</td>\n",
       "      <td>0.785000</td>\n",
       "      <td>38.347500</td>\n",
       "      <td>25.370000</td>\n",
       "      <td>18.639382</td>\n",
       "      <td>0</td>\n",
       "      <td>1</td>\n",
       "      <td>1</td>\n",
       "      <td>2014</td>\n",
       "    </tr>\n",
       "    <tr>\n",
       "      <th>1</th>\n",
       "      <td>Pordenone</td>\n",
       "      <td>41.975000</td>\n",
       "      <td>NaN</td>\n",
       "      <td>0.980000</td>\n",
       "      <td>31.745000</td>\n",
       "      <td>29.500000</td>\n",
       "      <td>39.683924</td>\n",
       "      <td>0</td>\n",
       "      <td>1</td>\n",
       "      <td>1</td>\n",
       "      <td>2014</td>\n",
       "    </tr>\n",
       "    <tr>\n",
       "      <th>2</th>\n",
       "      <td>Trieste</td>\n",
       "      <td>48.715000</td>\n",
       "      <td>2.183333</td>\n",
       "      <td>0.991667</td>\n",
       "      <td>36.680000</td>\n",
       "      <td>18.450000</td>\n",
       "      <td>25.244995</td>\n",
       "      <td>0</td>\n",
       "      <td>1</td>\n",
       "      <td>1</td>\n",
       "      <td>2014</td>\n",
       "    </tr>\n",
       "    <tr>\n",
       "      <th>3</th>\n",
       "      <td>Udine</td>\n",
       "      <td>27.880000</td>\n",
       "      <td>3.910000</td>\n",
       "      <td>0.172500</td>\n",
       "      <td>35.511667</td>\n",
       "      <td>30.480000</td>\n",
       "      <td>30.783784</td>\n",
       "      <td>0</td>\n",
       "      <td>1</td>\n",
       "      <td>1</td>\n",
       "      <td>2014</td>\n",
       "    </tr>\n",
       "    <tr>\n",
       "      <th>4</th>\n",
       "      <td>Gorizia</td>\n",
       "      <td>15.446250</td>\n",
       "      <td>2.590000</td>\n",
       "      <td>0.835000</td>\n",
       "      <td>33.486667</td>\n",
       "      <td>30.710000</td>\n",
       "      <td>26.760813</td>\n",
       "      <td>0</td>\n",
       "      <td>1</td>\n",
       "      <td>1</td>\n",
       "      <td>2014</td>\n",
       "    </tr>\n",
       "    <tr>\n",
       "      <th>...</th>\n",
       "      <td>...</td>\n",
       "      <td>...</td>\n",
       "      <td>...</td>\n",
       "      <td>...</td>\n",
       "      <td>...</td>\n",
       "      <td>...</td>\n",
       "      <td>...</td>\n",
       "      <td>...</td>\n",
       "      <td>...</td>\n",
       "      <td>...</td>\n",
       "      <td>...</td>\n",
       "    </tr>\n",
       "    <tr>\n",
       "      <th>10047</th>\n",
       "      <td>Udine</td>\n",
       "      <td>41.568571</td>\n",
       "      <td>2.280000</td>\n",
       "      <td>NaN</td>\n",
       "      <td>53.242857</td>\n",
       "      <td>9.925000</td>\n",
       "      <td>12.539724</td>\n",
       "      <td>358</td>\n",
       "      <td>47</td>\n",
       "      <td>11</td>\n",
       "      <td>2020</td>\n",
       "    </tr>\n",
       "    <tr>\n",
       "      <th>10048</th>\n",
       "      <td>Gorizia</td>\n",
       "      <td>40.177143</td>\n",
       "      <td>0.618148</td>\n",
       "      <td>NaN</td>\n",
       "      <td>50.605077</td>\n",
       "      <td>10.066667</td>\n",
       "      <td>12.463332</td>\n",
       "      <td>358</td>\n",
       "      <td>47</td>\n",
       "      <td>11</td>\n",
       "      <td>2020</td>\n",
       "    </tr>\n",
       "    <tr>\n",
       "      <th>10049</th>\n",
       "      <td>Pordenone</td>\n",
       "      <td>80.826667</td>\n",
       "      <td>NaN</td>\n",
       "      <td>NaN</td>\n",
       "      <td>33.066667</td>\n",
       "      <td>16.900000</td>\n",
       "      <td>26.134642</td>\n",
       "      <td>358</td>\n",
       "      <td>47</td>\n",
       "      <td>11</td>\n",
       "      <td>2020</td>\n",
       "    </tr>\n",
       "    <tr>\n",
       "      <th>10050</th>\n",
       "      <td>Trieste</td>\n",
       "      <td>42.383333</td>\n",
       "      <td>1.330000</td>\n",
       "      <td>0.717619</td>\n",
       "      <td>64.585000</td>\n",
       "      <td>7.250000</td>\n",
       "      <td>10.613188</td>\n",
       "      <td>358</td>\n",
       "      <td>47</td>\n",
       "      <td>11</td>\n",
       "      <td>2020</td>\n",
       "    </tr>\n",
       "    <tr>\n",
       "      <th>10051</th>\n",
       "      <td>Udine</td>\n",
       "      <td>46.611429</td>\n",
       "      <td>2.350000</td>\n",
       "      <td>NaN</td>\n",
       "      <td>45.295000</td>\n",
       "      <td>14.550000</td>\n",
       "      <td>15.740373</td>\n",
       "      <td>358</td>\n",
       "      <td>47</td>\n",
       "      <td>11</td>\n",
       "      <td>2020</td>\n",
       "    </tr>\n",
       "  </tbody>\n",
       "</table>\n",
       "<p>10052 rows × 11 columns</p>\n",
       "</div>"
      ],
      "text/plain": [
       "       provincia  azoto_oraria_max  zolfo_giornaliera  carbonio_8h_max  \\\n",
       "0        Gorizia         18.503750           2.750000         0.785000   \n",
       "1      Pordenone         41.975000                NaN         0.980000   \n",
       "2        Trieste         48.715000           2.183333         0.991667   \n",
       "3          Udine         27.880000           3.910000         0.172500   \n",
       "4        Gorizia         15.446250           2.590000         0.835000   \n",
       "...          ...               ...                ...              ...   \n",
       "10047      Udine         41.568571           2.280000              NaN   \n",
       "10048    Gorizia         40.177143           0.618148              NaN   \n",
       "10049  Pordenone         80.826667                NaN              NaN   \n",
       "10050    Trieste         42.383333           1.330000         0.717619   \n",
       "10051      Udine         46.611429           2.350000              NaN   \n",
       "\n",
       "       ozono_8h_max  pm2dot5_giornaliera  pm10_giornaliera  time_idx  \\\n",
       "0         38.347500            25.370000         18.639382         0   \n",
       "1         31.745000            29.500000         39.683924         0   \n",
       "2         36.680000            18.450000         25.244995         0   \n",
       "3         35.511667            30.480000         30.783784         0   \n",
       "4         33.486667            30.710000         26.760813         0   \n",
       "...             ...                  ...               ...       ...   \n",
       "10047     53.242857             9.925000         12.539724       358   \n",
       "10048     50.605077            10.066667         12.463332       358   \n",
       "10049     33.066667            16.900000         26.134642       358   \n",
       "10050     64.585000             7.250000         10.613188       358   \n",
       "10051     45.295000            14.550000         15.740373       358   \n",
       "\n",
       "       relative_time_w  relative_time_m  relative_time_y  \n",
       "0                    1                1             2014  \n",
       "1                    1                1             2014  \n",
       "2                    1                1             2014  \n",
       "3                    1                1             2014  \n",
       "4                    1                1             2014  \n",
       "...                ...              ...              ...  \n",
       "10047               47               11             2020  \n",
       "10048               47               11             2020  \n",
       "10049               47               11             2020  \n",
       "10050               47               11             2020  \n",
       "10051               47               11             2020  \n",
       "\n",
       "[10052 rows x 11 columns]"
      ]
     },
     "execution_count": 21,
     "metadata": {},
     "output_type": "execute_result"
    }
   ],
   "source": [
    "df_new"
   ]
  },
  {
   "cell_type": "markdown",
   "metadata": {},
   "source": [
    "Fill settimanale dei dati"
   ]
  },
  {
   "cell_type": "code",
   "execution_count": 22,
   "metadata": {},
   "outputs": [
    {
     "data": {
      "text/html": [
       "<div>\n",
       "<style scoped>\n",
       "    .dataframe tbody tr th:only-of-type {\n",
       "        vertical-align: middle;\n",
       "    }\n",
       "\n",
       "    .dataframe tbody tr th {\n",
       "        vertical-align: top;\n",
       "    }\n",
       "\n",
       "    .dataframe thead th {\n",
       "        text-align: right;\n",
       "    }\n",
       "</style>\n",
       "<table border=\"1\" class=\"dataframe\">\n",
       "  <thead>\n",
       "    <tr style=\"text-align: right;\">\n",
       "      <th></th>\n",
       "      <th>time_idx</th>\n",
       "      <th>provincia</th>\n",
       "      <th>azoto_oraria_max</th>\n",
       "      <th>zolfo_giornaliera</th>\n",
       "      <th>carbonio_8h_max</th>\n",
       "      <th>ozono_8h_max</th>\n",
       "      <th>pm2dot5_giornaliera</th>\n",
       "      <th>pm10_giornaliera</th>\n",
       "      <th>relative_time_w</th>\n",
       "      <th>relative_time_m</th>\n",
       "      <th>relative_time_y</th>\n",
       "    </tr>\n",
       "  </thead>\n",
       "  <tbody>\n",
       "    <tr>\n",
       "      <th>0</th>\n",
       "      <td>0.0</td>\n",
       "      <td>Gorizia</td>\n",
       "      <td>18.503750</td>\n",
       "      <td>2.75</td>\n",
       "      <td>0.785</td>\n",
       "      <td>38.347500</td>\n",
       "      <td>25.370</td>\n",
       "      <td>18.639382</td>\n",
       "      <td>1</td>\n",
       "      <td>1</td>\n",
       "      <td>2014</td>\n",
       "    </tr>\n",
       "    <tr>\n",
       "      <th>1</th>\n",
       "      <td>0.0</td>\n",
       "      <td>Gorizia</td>\n",
       "      <td>15.446250</td>\n",
       "      <td>2.59</td>\n",
       "      <td>0.835</td>\n",
       "      <td>33.486667</td>\n",
       "      <td>30.710</td>\n",
       "      <td>26.760813</td>\n",
       "      <td>1</td>\n",
       "      <td>1</td>\n",
       "      <td>2014</td>\n",
       "    </tr>\n",
       "    <tr>\n",
       "      <th>2</th>\n",
       "      <td>0.0</td>\n",
       "      <td>Gorizia</td>\n",
       "      <td>20.942500</td>\n",
       "      <td>1.89</td>\n",
       "      <td>0.790</td>\n",
       "      <td>37.553333</td>\n",
       "      <td>21.460</td>\n",
       "      <td>22.278735</td>\n",
       "      <td>1</td>\n",
       "      <td>1</td>\n",
       "      <td>2014</td>\n",
       "    </tr>\n",
       "    <tr>\n",
       "      <th>3</th>\n",
       "      <td>0.0</td>\n",
       "      <td>Gorizia</td>\n",
       "      <td>12.376250</td>\n",
       "      <td>1.89</td>\n",
       "      <td>0.690</td>\n",
       "      <td>54.515000</td>\n",
       "      <td>20.840</td>\n",
       "      <td>27.319113</td>\n",
       "      <td>1</td>\n",
       "      <td>1</td>\n",
       "      <td>2014</td>\n",
       "    </tr>\n",
       "    <tr>\n",
       "      <th>4</th>\n",
       "      <td>0.0</td>\n",
       "      <td>Gorizia</td>\n",
       "      <td>16.200000</td>\n",
       "      <td>1.89</td>\n",
       "      <td>0.555</td>\n",
       "      <td>64.625000</td>\n",
       "      <td>9.800</td>\n",
       "      <td>12.666150</td>\n",
       "      <td>1</td>\n",
       "      <td>1</td>\n",
       "      <td>2014</td>\n",
       "    </tr>\n",
       "    <tr>\n",
       "      <th>...</th>\n",
       "      <td>...</td>\n",
       "      <td>...</td>\n",
       "      <td>...</td>\n",
       "      <td>...</td>\n",
       "      <td>...</td>\n",
       "      <td>...</td>\n",
       "      <td>...</td>\n",
       "      <td>...</td>\n",
       "      <td>...</td>\n",
       "      <td>...</td>\n",
       "      <td>...</td>\n",
       "    </tr>\n",
       "    <tr>\n",
       "      <th>10038</th>\n",
       "      <td>357.0</td>\n",
       "      <td>Udine</td>\n",
       "      <td>48.022857</td>\n",
       "      <td>1.89</td>\n",
       "      <td>0.000</td>\n",
       "      <td>45.683750</td>\n",
       "      <td>33.525</td>\n",
       "      <td>30.451372</td>\n",
       "      <td>46</td>\n",
       "      <td>11</td>\n",
       "      <td>2020</td>\n",
       "    </tr>\n",
       "    <tr>\n",
       "      <th>10039</th>\n",
       "      <td>357.0</td>\n",
       "      <td>Udine</td>\n",
       "      <td>27.022593</td>\n",
       "      <td>2.41</td>\n",
       "      <td>0.000</td>\n",
       "      <td>52.964286</td>\n",
       "      <td>27.275</td>\n",
       "      <td>25.652133</td>\n",
       "      <td>46</td>\n",
       "      <td>11</td>\n",
       "      <td>2020</td>\n",
       "    </tr>\n",
       "    <tr>\n",
       "      <th>10049</th>\n",
       "      <td>358.0</td>\n",
       "      <td>Udine</td>\n",
       "      <td>34.621429</td>\n",
       "      <td>1.80</td>\n",
       "      <td>0.000</td>\n",
       "      <td>43.585000</td>\n",
       "      <td>25.650</td>\n",
       "      <td>26.153915</td>\n",
       "      <td>47</td>\n",
       "      <td>11</td>\n",
       "      <td>2020</td>\n",
       "    </tr>\n",
       "    <tr>\n",
       "      <th>10050</th>\n",
       "      <td>358.0</td>\n",
       "      <td>Udine</td>\n",
       "      <td>41.568571</td>\n",
       "      <td>2.28</td>\n",
       "      <td>0.000</td>\n",
       "      <td>53.242857</td>\n",
       "      <td>9.925</td>\n",
       "      <td>12.539724</td>\n",
       "      <td>47</td>\n",
       "      <td>11</td>\n",
       "      <td>2020</td>\n",
       "    </tr>\n",
       "    <tr>\n",
       "      <th>10051</th>\n",
       "      <td>358.0</td>\n",
       "      <td>Udine</td>\n",
       "      <td>46.611429</td>\n",
       "      <td>2.35</td>\n",
       "      <td>0.000</td>\n",
       "      <td>45.295000</td>\n",
       "      <td>14.550</td>\n",
       "      <td>15.740373</td>\n",
       "      <td>47</td>\n",
       "      <td>11</td>\n",
       "      <td>2020</td>\n",
       "    </tr>\n",
       "  </tbody>\n",
       "</table>\n",
       "<p>10052 rows × 11 columns</p>\n",
       "</div>"
      ],
      "text/plain": [
       "       time_idx provincia  azoto_oraria_max  zolfo_giornaliera  \\\n",
       "0           0.0   Gorizia         18.503750               2.75   \n",
       "1           0.0   Gorizia         15.446250               2.59   \n",
       "2           0.0   Gorizia         20.942500               1.89   \n",
       "3           0.0   Gorizia         12.376250               1.89   \n",
       "4           0.0   Gorizia         16.200000               1.89   \n",
       "...         ...       ...               ...                ...   \n",
       "10038     357.0     Udine         48.022857               1.89   \n",
       "10039     357.0     Udine         27.022593               2.41   \n",
       "10049     358.0     Udine         34.621429               1.80   \n",
       "10050     358.0     Udine         41.568571               2.28   \n",
       "10051     358.0     Udine         46.611429               2.35   \n",
       "\n",
       "       carbonio_8h_max  ozono_8h_max  pm2dot5_giornaliera  pm10_giornaliera  \\\n",
       "0                0.785     38.347500               25.370         18.639382   \n",
       "1                0.835     33.486667               30.710         26.760813   \n",
       "2                0.790     37.553333               21.460         22.278735   \n",
       "3                0.690     54.515000               20.840         27.319113   \n",
       "4                0.555     64.625000                9.800         12.666150   \n",
       "...                ...           ...                  ...               ...   \n",
       "10038            0.000     45.683750               33.525         30.451372   \n",
       "10039            0.000     52.964286               27.275         25.652133   \n",
       "10049            0.000     43.585000               25.650         26.153915   \n",
       "10050            0.000     53.242857                9.925         12.539724   \n",
       "10051            0.000     45.295000               14.550         15.740373   \n",
       "\n",
       "       relative_time_w  relative_time_m  relative_time_y  \n",
       "0                    1                1             2014  \n",
       "1                    1                1             2014  \n",
       "2                    1                1             2014  \n",
       "3                    1                1             2014  \n",
       "4                    1                1             2014  \n",
       "...                ...              ...              ...  \n",
       "10038               46               11             2020  \n",
       "10039               46               11             2020  \n",
       "10049               47               11             2020  \n",
       "10050               47               11             2020  \n",
       "10051               47               11             2020  \n",
       "\n",
       "[10052 rows x 11 columns]"
      ]
     },
     "execution_count": 22,
     "metadata": {},
     "output_type": "execute_result"
    }
   ],
   "source": [
    "dense_df = pd.DataFrame()\n",
    "for time in range(df_new[\"time_idx\"].min(),df_new[\"time_idx\"].max()+1):\n",
    "    dense_df = dense_df.append({\"time_idx\":time,\"provincia\":df_new[\"provincia\"].unique()},ignore_index=True)\n",
    "    dense_df = dense_df.explode(\"provincia\")\n",
    "dense_df = dense_df.set_index([\"time_idx\",\"provincia\"]).join(df_new.set_index([\"time_idx\",\"provincia\"]),how='outer')\n",
    "dense_df = dense_df.reset_index()\n",
    "dense_df = dense_df.sort_values(by=[\"provincia\",\"time_idx\",\"relative_time_w\"])\n",
    "dense_df = dense_df.ffill()\n",
    "dense_df"
   ]
  },
  {
   "cell_type": "markdown",
   "metadata": {},
   "source": [
    "Raggruppamento settimanale dei dati"
   ]
  },
  {
   "cell_type": "code",
   "execution_count": 23,
   "metadata": {},
   "outputs": [
    {
     "data": {
      "text/html": [
       "<div>\n",
       "<style scoped>\n",
       "    .dataframe tbody tr th:only-of-type {\n",
       "        vertical-align: middle;\n",
       "    }\n",
       "\n",
       "    .dataframe tbody tr th {\n",
       "        vertical-align: top;\n",
       "    }\n",
       "\n",
       "    .dataframe thead th {\n",
       "        text-align: right;\n",
       "    }\n",
       "</style>\n",
       "<table border=\"1\" class=\"dataframe\">\n",
       "  <thead>\n",
       "    <tr style=\"text-align: right;\">\n",
       "      <th></th>\n",
       "      <th>provincia</th>\n",
       "      <th>time_idx</th>\n",
       "      <th>azoto_oraria_max</th>\n",
       "      <th>zolfo_giornaliera</th>\n",
       "      <th>carbonio_8h_max</th>\n",
       "      <th>ozono_8h_max</th>\n",
       "      <th>pm2dot5_giornaliera</th>\n",
       "      <th>pm10_giornaliera</th>\n",
       "      <th>relative_time_w</th>\n",
       "      <th>relative_time_y</th>\n",
       "      <th>relative_time_m</th>\n",
       "    </tr>\n",
       "  </thead>\n",
       "  <tbody>\n",
       "    <tr>\n",
       "      <th>0</th>\n",
       "      <td>Gorizia</td>\n",
       "      <td>0.0</td>\n",
       "      <td>28.006272</td>\n",
       "      <td>3.661250</td>\n",
       "      <td>0.651250</td>\n",
       "      <td>53.649062</td>\n",
       "      <td>16.647083</td>\n",
       "      <td>18.015583</td>\n",
       "      <td>1.0</td>\n",
       "      <td>2014.0</td>\n",
       "      <td>5.125000</td>\n",
       "    </tr>\n",
       "    <tr>\n",
       "      <th>1</th>\n",
       "      <td>Gorizia</td>\n",
       "      <td>1.0</td>\n",
       "      <td>45.018673</td>\n",
       "      <td>5.331905</td>\n",
       "      <td>0.845714</td>\n",
       "      <td>13.312857</td>\n",
       "      <td>40.959762</td>\n",
       "      <td>49.991549</td>\n",
       "      <td>2.0</td>\n",
       "      <td>2014.0</td>\n",
       "      <td>1.000000</td>\n",
       "    </tr>\n",
       "    <tr>\n",
       "      <th>2</th>\n",
       "      <td>Gorizia</td>\n",
       "      <td>2.0</td>\n",
       "      <td>45.632117</td>\n",
       "      <td>4.936048</td>\n",
       "      <td>0.648571</td>\n",
       "      <td>40.546714</td>\n",
       "      <td>22.282857</td>\n",
       "      <td>29.161928</td>\n",
       "      <td>3.0</td>\n",
       "      <td>2014.0</td>\n",
       "      <td>1.000000</td>\n",
       "    </tr>\n",
       "    <tr>\n",
       "      <th>3</th>\n",
       "      <td>Gorizia</td>\n",
       "      <td>3.0</td>\n",
       "      <td>44.446463</td>\n",
       "      <td>5.484762</td>\n",
       "      <td>0.679286</td>\n",
       "      <td>32.052524</td>\n",
       "      <td>14.080952</td>\n",
       "      <td>17.742073</td>\n",
       "      <td>4.0</td>\n",
       "      <td>2014.0</td>\n",
       "      <td>1.000000</td>\n",
       "    </tr>\n",
       "    <tr>\n",
       "      <th>4</th>\n",
       "      <td>Gorizia</td>\n",
       "      <td>4.0</td>\n",
       "      <td>30.148980</td>\n",
       "      <td>4.187143</td>\n",
       "      <td>0.526429</td>\n",
       "      <td>57.219524</td>\n",
       "      <td>14.944286</td>\n",
       "      <td>17.136072</td>\n",
       "      <td>5.0</td>\n",
       "      <td>2014.0</td>\n",
       "      <td>1.285714</td>\n",
       "    </tr>\n",
       "    <tr>\n",
       "      <th>...</th>\n",
       "      <td>...</td>\n",
       "      <td>...</td>\n",
       "      <td>...</td>\n",
       "      <td>...</td>\n",
       "      <td>...</td>\n",
       "      <td>...</td>\n",
       "      <td>...</td>\n",
       "      <td>...</td>\n",
       "      <td>...</td>\n",
       "      <td>...</td>\n",
       "      <td>...</td>\n",
       "    </tr>\n",
       "    <tr>\n",
       "      <th>1431</th>\n",
       "      <td>Udine</td>\n",
       "      <td>354.0</td>\n",
       "      <td>32.206987</td>\n",
       "      <td>3.108571</td>\n",
       "      <td>0.000000</td>\n",
       "      <td>64.327466</td>\n",
       "      <td>29.528571</td>\n",
       "      <td>32.824346</td>\n",
       "      <td>43.0</td>\n",
       "      <td>2020.0</td>\n",
       "      <td>10.000000</td>\n",
       "    </tr>\n",
       "    <tr>\n",
       "      <th>1432</th>\n",
       "      <td>Udine</td>\n",
       "      <td>355.0</td>\n",
       "      <td>35.572812</td>\n",
       "      <td>2.835714</td>\n",
       "      <td>0.000000</td>\n",
       "      <td>49.331905</td>\n",
       "      <td>16.853571</td>\n",
       "      <td>19.789032</td>\n",
       "      <td>44.0</td>\n",
       "      <td>2020.0</td>\n",
       "      <td>10.142857</td>\n",
       "    </tr>\n",
       "    <tr>\n",
       "      <th>1433</th>\n",
       "      <td>Udine</td>\n",
       "      <td>356.0</td>\n",
       "      <td>39.426567</td>\n",
       "      <td>1.990000</td>\n",
       "      <td>0.000000</td>\n",
       "      <td>43.992847</td>\n",
       "      <td>20.578049</td>\n",
       "      <td>24.522095</td>\n",
       "      <td>45.0</td>\n",
       "      <td>2020.0</td>\n",
       "      <td>11.000000</td>\n",
       "    </tr>\n",
       "    <tr>\n",
       "      <th>1434</th>\n",
       "      <td>Udine</td>\n",
       "      <td>357.0</td>\n",
       "      <td>41.356416</td>\n",
       "      <td>2.164286</td>\n",
       "      <td>0.000000</td>\n",
       "      <td>43.834728</td>\n",
       "      <td>22.157143</td>\n",
       "      <td>22.998696</td>\n",
       "      <td>46.0</td>\n",
       "      <td>2020.0</td>\n",
       "      <td>11.000000</td>\n",
       "    </tr>\n",
       "    <tr>\n",
       "      <th>1435</th>\n",
       "      <td>Udine</td>\n",
       "      <td>358.0</td>\n",
       "      <td>40.933810</td>\n",
       "      <td>2.143333</td>\n",
       "      <td>0.000000</td>\n",
       "      <td>47.374286</td>\n",
       "      <td>16.708333</td>\n",
       "      <td>18.144671</td>\n",
       "      <td>47.0</td>\n",
       "      <td>2020.0</td>\n",
       "      <td>11.000000</td>\n",
       "    </tr>\n",
       "  </tbody>\n",
       "</table>\n",
       "<p>1436 rows × 11 columns</p>\n",
       "</div>"
      ],
      "text/plain": [
       "     provincia  time_idx  azoto_oraria_max  zolfo_giornaliera  \\\n",
       "0      Gorizia       0.0         28.006272           3.661250   \n",
       "1      Gorizia       1.0         45.018673           5.331905   \n",
       "2      Gorizia       2.0         45.632117           4.936048   \n",
       "3      Gorizia       3.0         44.446463           5.484762   \n",
       "4      Gorizia       4.0         30.148980           4.187143   \n",
       "...        ...       ...               ...                ...   \n",
       "1431     Udine     354.0         32.206987           3.108571   \n",
       "1432     Udine     355.0         35.572812           2.835714   \n",
       "1433     Udine     356.0         39.426567           1.990000   \n",
       "1434     Udine     357.0         41.356416           2.164286   \n",
       "1435     Udine     358.0         40.933810           2.143333   \n",
       "\n",
       "      carbonio_8h_max  ozono_8h_max  pm2dot5_giornaliera  pm10_giornaliera  \\\n",
       "0            0.651250     53.649062            16.647083         18.015583   \n",
       "1            0.845714     13.312857            40.959762         49.991549   \n",
       "2            0.648571     40.546714            22.282857         29.161928   \n",
       "3            0.679286     32.052524            14.080952         17.742073   \n",
       "4            0.526429     57.219524            14.944286         17.136072   \n",
       "...               ...           ...                  ...               ...   \n",
       "1431         0.000000     64.327466            29.528571         32.824346   \n",
       "1432         0.000000     49.331905            16.853571         19.789032   \n",
       "1433         0.000000     43.992847            20.578049         24.522095   \n",
       "1434         0.000000     43.834728            22.157143         22.998696   \n",
       "1435         0.000000     47.374286            16.708333         18.144671   \n",
       "\n",
       "      relative_time_w  relative_time_y  relative_time_m  \n",
       "0                 1.0           2014.0         5.125000  \n",
       "1                 2.0           2014.0         1.000000  \n",
       "2                 3.0           2014.0         1.000000  \n",
       "3                 4.0           2014.0         1.000000  \n",
       "4                 5.0           2014.0         1.285714  \n",
       "...               ...              ...              ...  \n",
       "1431             43.0           2020.0        10.000000  \n",
       "1432             44.0           2020.0        10.142857  \n",
       "1433             45.0           2020.0        11.000000  \n",
       "1434             46.0           2020.0        11.000000  \n",
       "1435             47.0           2020.0        11.000000  \n",
       "\n",
       "[1436 rows x 11 columns]"
      ]
     },
     "execution_count": 23,
     "metadata": {},
     "output_type": "execute_result"
    }
   ],
   "source": [
    "df_settimanale = dense_df.groupby(by=[\"provincia\",\"time_idx\"]).agg({\"azoto_oraria_max\":\"mean\", \"zolfo_giornaliera\":\"mean\", \"carbonio_8h_max\":\"mean\", \"ozono_8h_max\":\"mean\", \"pm2dot5_giornaliera\":\"mean\", \"pm10_giornaliera\":\"mean\", \"relative_time_w\":\"mean\",\"relative_time_y\":\"mean\", \"relative_time_m\":\"mean\"})\n",
    "df_settimanale = df_settimanale.reset_index()\n",
    "df_settimanale"
   ]
  },
  {
   "cell_type": "markdown",
   "metadata": {},
   "source": [
    "## Visualizzazione delle serie temporali"
   ]
  },
  {
   "cell_type": "code",
   "execution_count": 24,
   "metadata": {},
   "outputs": [
    {
     "ename": "ModuleNotFoundError",
     "evalue": "No module named 'plotly'",
     "output_type": "error",
     "traceback": [
      "\u001b[0;31m---------------------------------------------------------------------------\u001b[0m",
      "\u001b[0;31mModuleNotFoundError\u001b[0m                       Traceback (most recent call last)",
      "\u001b[0;32m/tmp/ipykernel_20467/3438343701.py\u001b[0m in \u001b[0;36m<module>\u001b[0;34m\u001b[0m\n\u001b[0;32m----> 1\u001b[0;31m \u001b[0;32mimport\u001b[0m \u001b[0mplotly\u001b[0m\u001b[0;34m.\u001b[0m\u001b[0mexpress\u001b[0m \u001b[0;32mas\u001b[0m \u001b[0mpx\u001b[0m\u001b[0;34m\u001b[0m\u001b[0;34m\u001b[0m\u001b[0m\n\u001b[0m\u001b[1;32m      2\u001b[0m \u001b[0;32mfor\u001b[0m \u001b[0mprovincia\u001b[0m \u001b[0;32min\u001b[0m \u001b[0mlist\u001b[0m\u001b[0;34m(\u001b[0m\u001b[0mdf_settimanale\u001b[0m\u001b[0;34m[\u001b[0m\u001b[0;34m\"provincia\"\u001b[0m\u001b[0;34m]\u001b[0m\u001b[0;34m.\u001b[0m\u001b[0munique\u001b[0m\u001b[0;34m(\u001b[0m\u001b[0;34m)\u001b[0m\u001b[0;34m)\u001b[0m\u001b[0;34m:\u001b[0m\u001b[0;34m\u001b[0m\u001b[0;34m\u001b[0m\u001b[0m\n\u001b[1;32m      3\u001b[0m     \u001b[0mplot_df\u001b[0m \u001b[0;34m=\u001b[0m \u001b[0mdf_settimanale\u001b[0m\u001b[0;34m[\u001b[0m\u001b[0mdf_settimanale\u001b[0m\u001b[0;34m[\u001b[0m\u001b[0;34m\"provincia\"\u001b[0m\u001b[0;34m]\u001b[0m\u001b[0;34m==\u001b[0m\u001b[0mprovincia\u001b[0m\u001b[0;34m]\u001b[0m\u001b[0;34m[\u001b[0m\u001b[0;34m[\u001b[0m\u001b[0;34m\"time_idx\"\u001b[0m\u001b[0;34m,\u001b[0m\u001b[0;34m\"pm10_giornaliera\"\u001b[0m\u001b[0;34m]\u001b[0m\u001b[0;34m]\u001b[0m\u001b[0;34m\u001b[0m\u001b[0;34m\u001b[0m\u001b[0m\n\u001b[1;32m      4\u001b[0m     \u001b[0mfig\u001b[0m \u001b[0;34m=\u001b[0m \u001b[0mpx\u001b[0m\u001b[0;34m.\u001b[0m\u001b[0mline\u001b[0m\u001b[0;34m(\u001b[0m\u001b[0mplot_df\u001b[0m\u001b[0;34m,\u001b[0m \u001b[0mx\u001b[0m\u001b[0;34m=\u001b[0m\u001b[0;34m\"time_idx\"\u001b[0m\u001b[0;34m,\u001b[0m\u001b[0my\u001b[0m\u001b[0;34m=\u001b[0m\u001b[0;34m\"pm10_giornaliera\"\u001b[0m\u001b[0;34m,\u001b[0m \u001b[0mtitle\u001b[0m\u001b[0;34m=\u001b[0m\u001b[0;34m\"Provincia: {}\"\u001b[0m\u001b[0;34m.\u001b[0m\u001b[0mformat\u001b[0m\u001b[0;34m(\u001b[0m\u001b[0mprovincia\u001b[0m\u001b[0;34m)\u001b[0m\u001b[0;34m)\u001b[0m\u001b[0;34m\u001b[0m\u001b[0;34m\u001b[0m\u001b[0m\n\u001b[1;32m      5\u001b[0m     \u001b[0mfig\u001b[0m\u001b[0;34m.\u001b[0m\u001b[0mshow\u001b[0m\u001b[0;34m(\u001b[0m\u001b[0;34m)\u001b[0m\u001b[0;34m\u001b[0m\u001b[0;34m\u001b[0m\u001b[0m\n",
      "\u001b[0;31mModuleNotFoundError\u001b[0m: No module named 'plotly'"
     ]
    }
   ],
   "source": [
    "import plotly.express as px\n",
    "for provincia in list(df_settimanale[\"provincia\"].unique()):\n",
    "    plot_df = df_settimanale[df_settimanale[\"provincia\"]==provincia][[\"time_idx\",\"pm10_giornaliera\"]]\n",
    "    fig = px.line(plot_df, x=\"time_idx\",y=\"pm10_giornaliera\", title=\"Provincia: {}\".format(provincia))\n",
    "    fig.show()"
   ]
  },
  {
   "cell_type": "code",
   "execution_count": null,
   "metadata": {},
   "outputs": [],
   "source": [
    "import plotly.express as px\n",
    "for provincia in list(df_settimanale[\"provincia\"].unique()):\n",
    "    plot_df = df_settimanale[df_settimanale[\"provincia\"]==provincia][[\"time_idx\",\"pm2dot5_giornaliera\"]]\n",
    "    fig = px.line(plot_df, x=\"time_idx\",y=\"pm2dot5_giornaliera\", title=\"Provincia: {}\".format(provincia))\n",
    "    fig.show()"
   ]
  },
  {
   "cell_type": "code",
   "execution_count": null,
   "metadata": {},
   "outputs": [],
   "source": [
    "import plotly.express as px\n",
    "for provincia in list(df_settimanale[\"provincia\"].unique()):\n",
    "    plot_df = df_settimanale[df_settimanale[\"provincia\"]==provincia][[\"time_idx\",\"carbonio_8h_max\"]]\n",
    "    fig = px.line(plot_df, x=\"time_idx\",y=\"carbonio_8h_max\", title=\"Provincia: {}\".format(provincia))\n",
    "    fig.show()"
   ]
  },
  {
   "cell_type": "code",
   "execution_count": null,
   "metadata": {},
   "outputs": [],
   "source": [
    "import plotly.express as px\n",
    "for provincia in list(df_settimanale[\"provincia\"].unique()):\n",
    "    plot_df = df_settimanale[df_settimanale[\"provincia\"]==provincia][[\"time_idx\",\"azoto_oraria_max\"]]\n",
    "    fig = px.line(plot_df, x=\"time_idx\",y=\"azoto_oraria_max\", title=\"Provincia: {}\".format(provincia))\n",
    "    fig.show()"
   ]
  },
  {
   "cell_type": "code",
   "execution_count": null,
   "metadata": {},
   "outputs": [],
   "source": [
    "import plotly.express as px\n",
    "for provincia in list(df_settimanale[\"provincia\"].unique()):\n",
    "    plot_df = df_settimanale[df_settimanale[\"provincia\"]==provincia][[\"time_idx\",\"zolfo_giornaliera\"]]\n",
    "    fig = px.line(plot_df, x=\"time_idx\",y=\"zolfo_giornaliera\", title=\"Provincia: {}\".format(provincia))\n",
    "    fig.show()"
   ]
  },
  {
   "cell_type": "code",
   "execution_count": null,
   "metadata": {},
   "outputs": [],
   "source": [
    "import plotly.express as px\n",
    "for provincia in list(df_settimanale[\"provincia\"].unique()):\n",
    "    plot_df = df_settimanale[df_settimanale[\"provincia\"]==provincia][[\"time_idx\",\"ozono_8h_max\"]]\n",
    "    fig = px.line(plot_df, x=\"time_idx\",y=\"ozono_8h_max\", title=\"Provincia: {}\".format(provincia))\n",
    "    fig.show()"
   ]
  },
  {
   "cell_type": "markdown",
   "metadata": {},
   "source": [
    "Tolgo i dati relativi al carbonio che sembrano essere danneggiati per Gorizia e Pordenone. Anche i dati relativi allo zolfo non sono validi per Pordenone, ma essendo un valore costante non dovrebbe danneggiare il training, se non ci mettiamo a predire proprio lo zolfo."
   ]
  },
  {
   "cell_type": "code",
   "execution_count": null,
   "metadata": {},
   "outputs": [],
   "source": [
    "df_settimanale=df_settimanale.drop(columns=[\"carbonio_8h_max\"])"
   ]
  },
  {
   "cell_type": "code",
   "execution_count": null,
   "metadata": {},
   "outputs": [],
   "source": [
    "df_settimanale"
   ]
  },
  {
   "cell_type": "markdown",
   "metadata": {},
   "source": [
    "## Integrazione dati impianti di trattamento rifiuti\n",
    "\n",
    "Semplice idea: aggiungo ad ogni riga un campo contenente il numero di impianti ubicati nella provincia di ciascuna rilevazione (colonna non in forma normale: è un problema?"
   ]
  },
  {
   "cell_type": "code",
   "execution_count": null,
   "metadata": {},
   "outputs": [],
   "source": [
    "def getProvinceInitials(province):\n",
    "    if province == \"Trieste\":\n",
    "        return \"TS\"\n",
    "    elif province == \"Udine\":\n",
    "        return \"UD\"\n",
    "    elif province == \"Pordenone\":\n",
    "        return \"PN\"\n",
    "    elif province == \"Gorizia\":\n",
    "        return \"GO\"\n",
    "    else:\n",
    "        raise Exception(\"Invalid input: {}\".format(province))\n",
    "\n",
    "# Rimuovo tutte le colonne, tranne la sigla della provincia, e la rinomino\n",
    "trattamento_rifiuti_solo_prov_df = trattamento_rifiuti_df\n",
    "for col in trattamento_rifiuti_solo_prov_df:\n",
    "    if col != \"Prov.\":\n",
    "        trattamento_rifiuti_solo_prov_df.drop(columns=col, inplace=True)\n",
    "\n",
    "trattamento_rifiuti_solo_prov_df = trattamento_rifiuti_solo_prov_df.rename(columns={'Prov.': 'sigla_provincia'})\n",
    "\n",
    "# Sicuramente esiste un modo più intelligente per fare ciò che segue :)\n",
    "# Aggiungo una colonna di soli '1'\n",
    "trattamento_rifiuti_solo_prov_df[\"numero\"] = 1\n",
    "# Riduzione della colonna contando le comparse di ciascuna sigla\n",
    "trattamento_rifiuti_per_prov_df = trattamento_rifiuti_solo_prov_df.groupby(by=\"sigla_provincia\").agg({\"numero\":\"sum\"})\n",
    "\n",
    "# Aggiungo la relativa colonna al df_settimanale\n",
    "df_settimanale = df_settimanale.assign(impianti_rifiuti=[trattamento_rifiuti_per_prov_df.loc[getProvinceInitials(line[\"provincia\"])].numero for line in df_settimanale.iloc])\n",
    "#df_settimanale[\"impianti_rifiuti\"] = df_settimanale.apply(lambda row: trattamento_rifiuti_per_prov_df.loc[getProvinceInitials(row[\"provincia\"])].numero, axis=1)\n",
    "\n",
    "df_settimanale"
   ]
  },
  {
   "cell_type": "markdown",
   "metadata": {},
   "source": [
    "## Integrazione dati siti inquinati"
   ]
  },
  {
   "cell_type": "code",
   "execution_count": null,
   "metadata": {},
   "outputs": [],
   "source": [
    "# Rimuovo tutte le colonne, tranne la sigla della provincia, e la rinomino\n",
    "siti_inquinati_stripped_df = siti_inquinati_df\n",
    "for col in siti_inquinati_stripped_df:\n",
    "    if col != \"SIGLAPRO\" and col != \"STATO_PRATICA_DIZ\":\n",
    "        siti_inquinati_stripped_df.drop(columns=col, inplace=True)\n",
    "\n",
    "siti_inquinati_stripped_df = siti_inquinati_stripped_df.rename(columns={'SIGLAPRO': 'sigla_provincia',\n",
    "                                                                         'STATO_PRATICA_DIZ': 'stato'})\n",
    "\n",
    "\n",
    "siti_inquinati_stripped_df[\"totali\"] = 1\n",
    "siti_inquinati_stripped_df[\"attivi\"] = [1 if line[\"stato\"] != \"Archiviata\" else 0 for line in siti_inquinati_stripped_df.iloc]\n",
    "siti_inquinati_stripped_df = siti_inquinati_stripped_df.groupby(by=\"sigla_provincia\").agg({\"totali\":\"sum\",\n",
    "                                                                                          \"attivi\":\"sum\"})\n",
    "approccio = 1\n",
    "# Aggiungo la relativa colonna al df_settimanale\n",
    "if approccio == 1:\n",
    "    # Aggiungo la colonna \"totali\" al df_settimanale\n",
    "    df_settimanale = df_settimanale.assign(siti_inquinati=[siti_inquinati_stripped_df.loc[getProvinceInitials(line[\"provincia\"])].totali for line in df_settimanale.iloc])\n",
    "else: # approccio = 2\n",
    "    df_settimanale = df_settimanale.assign(siti_inquinati=[siti_inquinati_stripped_df.loc[getProvinceInitials(line[\"provincia\"])].attivi for line in df_settimanale.iloc])\n",
    "df_settimanale"
   ]
  },
  {
   "cell_type": "markdown",
   "metadata": {},
   "source": [
    "## Salvataggio dati"
   ]
  },
  {
   "cell_type": "code",
   "execution_count": null,
   "metadata": {},
   "outputs": [],
   "source": [
    "df_settimanale.to_csv(\"processed_data/first_dataset.csv\")"
   ]
  }
 ],
 "metadata": {
  "interpreter": {
   "hash": "3e8ba394dfecf69ab3b214a23e7e279956d3407d86cf3cc4fe5cfb6d1f0e6e68"
  },
  "kernelspec": {
   "display_name": "Python 3 (ipykernel)",
   "language": "python",
   "name": "python3"
  },
  "language_info": {
   "codemirror_mode": {
    "name": "ipython",
    "version": 3
   },
   "file_extension": ".py",
   "mimetype": "text/x-python",
   "name": "python",
   "nbconvert_exporter": "python",
   "pygments_lexer": "ipython3",
   "version": "3.8.12"
  }
 },
 "nbformat": 4,
 "nbformat_minor": 2
}

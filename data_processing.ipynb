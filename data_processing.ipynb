{
 "cells": [
  {
   "cell_type": "code",
   "execution_count": 2,
   "metadata": {},
   "outputs": [],
   "source": [
    "import numpy as np\n",
    "import pandas as pd\n",
    "pd.set_option(\"max_colwidth\", None)\n",
    "import os"
   ]
  },
  {
   "cell_type": "markdown",
   "metadata": {},
   "source": [
    "# CARICAMENTO DATI"
   ]
  },
  {
   "cell_type": "markdown",
   "metadata": {},
   "source": [
    "## Dati aria"
   ]
  },
  {
   "cell_type": "code",
   "execution_count": 3,
   "metadata": {},
   "outputs": [
    {
     "name": "stderr",
     "output_type": "stream",
     "text": [
      "C:\\RoboDK\\Python37\\lib\\site-packages\\IPython\\core\\interactiveshell.py:3457: DtypeWarning: Columns (1,2,4,9) have mixed types.Specify dtype option on import or set low_memory=False.\n",
      "  exec(code_obj, self.user_global_ns, self.user_ns)\n",
      "C:\\RoboDK\\Python37\\lib\\site-packages\\IPython\\core\\interactiveshell.py:3457: DtypeWarning: Columns (9) have mixed types.Specify dtype option on import or set low_memory=False.\n",
      "  exec(code_obj, self.user_global_ns, self.user_ns)\n",
      "C:\\RoboDK\\Python37\\lib\\site-packages\\IPython\\core\\interactiveshell.py:3457: DtypeWarning: Columns (1,2,4,9,18) have mixed types.Specify dtype option on import or set low_memory=False.\n",
      "  exec(code_obj, self.user_global_ns, self.user_ns)\n",
      "C:\\RoboDK\\Python37\\lib\\site-packages\\IPython\\core\\interactiveshell.py:3457: DtypeWarning: Columns (1,2,4) have mixed types.Specify dtype option on import or set low_memory=False.\n",
      "  exec(code_obj, self.user_global_ns, self.user_ns)\n"
     ]
    }
   ],
   "source": [
    "path_data = \"Data/\"\n",
    "\n",
    "biossido_azoto_df = pd.read_csv(os.path.join(path_data,\"Aria_-_Biossido_d_Azoto.csv\"),sep=\";\",decimal=',')\n",
    "biossido_zolfo_df = pd.read_csv(os.path.join(path_data,\"Aria_-_Biossido_di_Zolfo.csv\"),sep=\";\",decimal=',')\n",
    "monossido_carbonio_df = pd.read_csv(os.path.join(path_data,\"Aria_-_Monossido_di_Carbonio.csv\"),sep=\";\",decimal=',')\n",
    "ozono_df = pd.read_csv(os.path.join(path_data,\"Aria_-_Ozono.csv\"),sep=\";\",decimal=',')\n",
    "pm2dot5_df = pd.read_csv(os.path.join(path_data,\"Aria_-_Particelle_Sospese_PM2.5.csv\"),sep=\";\",decimal=',')\n",
    "pm10_df = pd.read_csv(os.path.join(path_data,\"Aria_-_Particelle_Sospese_PM10.csv\"),sep=\";\",decimal=',')\n",
    "pts_df = pd.read_csv(os.path.join(path_data,\"Aria_-_Particolato_Totale_Sospeso.csv\"),sep=\";\",decimal=',')\n",
    "pollini_df = pd.read_csv(os.path.join(path_data,\"Aria_-_Pollini.csv\"),sep=\";\",decimal=',')\n"
   ]
  },
  {
   "cell_type": "markdown",
   "metadata": {},
   "source": [
    "## Altri dati"
   ]
  },
  {
   "cell_type": "code",
   "execution_count": 4,
   "metadata": {},
   "outputs": [],
   "source": [
    "siti_inquinanti_df = pd.read_csv(os.path.join(path_data,\"Censimento_dei_siti_inquinati.csv\"),sep=\";\",decimal=',')\n",
    "trattamento_rifiuti_df = pd.read_csv(os.path.join(path_data,\"Impianti_attivi_trattamento_rifiuti.csv\"),sep=\";\",decimal=',')"
   ]
  },
  {
   "cell_type": "markdown",
   "metadata": {},
   "source": [
    "## Analisi preliminare\n",
    "Controllo che non vi siano errori nei dati dei campi di interesse"
   ]
  },
  {
   "cell_type": "markdown",
   "metadata": {},
   "source": [
    "### Biossido di Azoto"
   ]
  },
  {
   "cell_type": "code",
   "execution_count": 5,
   "metadata": {},
   "outputs": [
    {
     "name": "stdout",
     "output_type": "stream",
     "text": [
      "274327\n",
      "['ug/m3']\n",
      "['Udine' 'Trieste' 'Gorizia' 'Pordenone']\n",
      "['True' 'False' 'Vero' 'Falso' nan]\n",
      "['Edison Torviscosa' 'Via Carpineto' 'A2A Via Natisone' \"A2A Doberdo'\"\n",
      " 'piazza Carlo Alberto' 'Gorizia' 'Ugovizza' 'Castions' 'Porcia'\n",
      " 'Area verde' 'Pordenone Centro 1' 'A2A Vermegliano' 'A2A Fossalon'\n",
      " 'Malisana' 'Via S.Daniele' 'Sacile' 'A2A Papariano' 'V.Cairoli'\n",
      " 'Via del Ponticello' 'p.le Rosmini' 'Osoppo' 'via Pitacco-ARPA'\n",
      " 'S.Giovanni al Natisone' 'piazza Volontari Giuliani' 'Brugnera' 'Claut'\n",
      " \"Doberdo'\" 'Lignano Sabbiadoro' 'Lucinico' 'M.te Zoncolan' 'Monfalcone'\n",
      " 'Monte S. Pantaleone' 'Muggia' 'Morsano' \"P.le D'Annunzio\" 'P.le Osoppo'\n",
      " 'P.le XXVI Luglio' 'S.Osvaldo' 'P.zza Liberta' 'P.zza Vico'\n",
      " 'Pordenone Centro' 'Prata di Pordenone' 'S.Giorgio di Nogaro' 'Tolmezzo'\n",
      " 'Torviscosa' 'V.Manzoni' 'Via Pitacco' 'Via San Sabba' 'Via Svevo'\n",
      " 'Via Tor Bandena']\n"
     ]
    }
   ],
   "source": [
    "dim = len(biossido_azoto_df.index)\n",
    "um = biossido_azoto_df[\"UNITA' MISURA\"].unique()\n",
    "città = biossido_azoto_df[\"RETE\"].unique()\n",
    "biossido_azoto_df[\"DATI INSUFF.\"] = biossido_zolfo_df[\"DATI INSUFF.\"].astype(str)\n",
    "dati_insuff = biossido_azoto_df[\"DATI INSUFF.\"].unique()\n",
    "ubicazioni = biossido_azoto_df[\"UBICAZIONE\"].unique()\n",
    "\n",
    "print(dim)\n",
    "print(um)\n",
    "print(città)\n",
    "print(dati_insuff)\n",
    "print(ubicazioni)"
   ]
  },
  {
   "cell_type": "markdown",
   "metadata": {},
   "source": [
    "### Biossido di Zolfo"
   ]
  },
  {
   "cell_type": "code",
   "execution_count": 6,
   "metadata": {},
   "outputs": [
    {
     "name": "stdout",
     "output_type": "stream",
     "text": [
      "159873\n",
      "['ug/m3']\n",
      "['Trieste' 'Udine' 'Gorizia' 'Pordenone']\n",
      "['True' 'False' 'Vero' 'Falso']\n",
      "['Via del Ponticello' 'Edison Torviscosa' 'A2A Fossalon' 'Malisana'\n",
      " 'A2A Papariano' 'Via Carpineto' 'Tolmezzo' 'A2A Via Natisone'\n",
      " 'A2A Vermegliano' 'via Pitacco-ARPA' 'p.le Rosmini' \"A2A Doberdo'\"\n",
      " 'Castions' 'Brugnera' 'Caneva' 'Claut' \"Doberdo'\" 'Fanna'\n",
      " 'Lignano Sabbiadoro' 'Lucinico' 'M.te Zoncolan' 'Monfalcone'\n",
      " 'Monte S. Pantaleone' 'Muggia' 'Osoppo' \"P.le D'Annunzio\" 'P.le Osoppo'\n",
      " 'P.le XXVI Luglio' 'P.zza Liberta' 'P.zza Vico' 'Pordenone Centro'\n",
      " 'Prata di Pordenone' 'S.Giorgio di Nogaro' 'S.Giovanni al Natisone'\n",
      " 'Sequals' 'Tarvisio' 'Torviscosa' 'Tribil Inferiore' 'Tugliezzo'\n",
      " 'Ugovizza' 'V.Cairoli' 'Via Battisti' 'Via Pitacco' 'Via San Sabba'\n",
      " 'Via Svevo']\n"
     ]
    }
   ],
   "source": [
    "dim = len(biossido_zolfo_df.index)\n",
    "um = biossido_zolfo_df[\"UNITA' MISURA\"].unique()\n",
    "città = biossido_zolfo_df[\"RETE\"].unique()\n",
    "biossido_zolfo_df[\"DATI INSUFF.\"] = biossido_zolfo_df[\"DATI INSUFF.\"].astype(str)\n",
    "dati_insuff = biossido_zolfo_df[\"DATI INSUFF.\"].unique()\n",
    "ubicazioni = biossido_zolfo_df[\"UBICAZIONE\"].unique()\n",
    "\n",
    "print(dim)\n",
    "print(um)\n",
    "print(città)\n",
    "print(dati_insuff)\n",
    "print(ubicazioni)"
   ]
  },
  {
   "cell_type": "markdown",
   "metadata": {},
   "source": [
    "### Monossido di Carbonio"
   ]
  },
  {
   "cell_type": "code",
   "execution_count": 7,
   "metadata": {},
   "outputs": [
    {
     "name": "stdout",
     "output_type": "stream",
     "text": [
      "95092\n",
      "['mg/m3']\n",
      "['Udine' 'Trieste' 'Pordenone' 'Gorizia']\n",
      "['True' 'False' 'Vero' 'Falso']\n",
      "['Malisana' 'Edison Torviscosa' 'piazza Volontari Giuliani'\n",
      " 'Via Carpineto' 'Castions' 'Via del Ponticello' 'via Pitacco-ARPA'\n",
      " 'Brugnera' 'Gorizia' 'Monfalcone' 'Muggia' 'Monte S. Pantaleone'\n",
      " 'P.le Osoppo' 'P.le XXVI Luglio' 'P.zza Liberta' 'P.zza Vico'\n",
      " 'Pordenone Centro' 'Via Svevo' 'Pordenone Centro 1' 'Prata di Pordenone'\n",
      " 'V.Cairoli' 'V.Manzoni' 'Via Battisti' 'Via Pitacco' 'Via S.Daniele'\n",
      " 'Via San Sabba' 'Via Tor Bandena']\n"
     ]
    }
   ],
   "source": [
    "dim = len(monossido_carbonio_df.index)\n",
    "um = monossido_carbonio_df[\"UNITA' MISURA\"].unique()\n",
    "città = monossido_carbonio_df[\"RETE\"].unique()\n",
    "monossido_carbonio_df[\"DATI INSUFF.\"] = biossido_zolfo_df[\"DATI INSUFF.\"].astype(str)\n",
    "dati_insuff = monossido_carbonio_df[\"DATI INSUFF.\"].unique()\n",
    "ubicazioni = monossido_carbonio_df[\"UBICAZIONE\"].unique()\n",
    "\n",
    "print(dim)\n",
    "print(um)\n",
    "print(città)\n",
    "print(dati_insuff)\n",
    "print(ubicazioni)"
   ]
  },
  {
   "cell_type": "markdown",
   "metadata": {},
   "source": [
    "### Ozono"
   ]
  },
  {
   "cell_type": "code",
   "execution_count": 8,
   "metadata": {},
   "outputs": [
    {
     "name": "stdout",
     "output_type": "stream",
     "text": [
      "224750\n",
      "['ug/m3']\n",
      "['Pordenone' 'Trieste' 'Udine' 'Gorizia']\n",
      "['False' 'True' 'Vero' 'Falso']\n",
      "['Porcia' 'Basovizza' 'Castions' 'A2A Papariano' 'S.Giovanni al Natisone'\n",
      " 'V.Cairoli' 'Ugovizza' 'A2A Via Natisone' 'Via Carpineto' 'Malisana'\n",
      " 'Edison Torviscosa' \"A2A Doberdo'\" 'A2A Fossalon' 'Tolmezzo' 'Brugnera'\n",
      " 'Morsano' 'Area verde' 'A2A Vermegliano' 'S.Osvaldo' 'Claut' \"Doberdo'\"\n",
      " 'M.te Zoncolan' 'Gorizia' 'Lucinico' 'Lignano Sabbiadoro' 'Monfalcone'\n",
      " 'Monte S. Pantaleone' 'Osoppo' 'P.zza Liberta' 'Pordenone Centro'\n",
      " 'Punta Sdobba' 'S.Giorgio di Nogaro' 'Tarvisio' 'Torviscosa'\n",
      " 'Tribil Inferiore' 'Tugliezzo' 'V.Manzoni' 'Via Battisti']\n"
     ]
    }
   ],
   "source": [
    "dim = len(ozono_df.index)\n",
    "um = ozono_df[\"UNITA' MISURA\"].unique()\n",
    "città = ozono_df[\"RETE\"].unique()\n",
    "ozono_df[\"DATI INSUFF.\"] = ozono_df[\"DATI INSUFF.\"].astype(str)\n",
    "dati_insuff = ozono_df[\"DATI INSUFF.\"].unique()\n",
    "ubicazioni = ozono_df[\"UBICAZIONE\"].unique()\n",
    "\n",
    "print(dim)\n",
    "print(um)\n",
    "print(città)\n",
    "print(dati_insuff)\n",
    "print(ubicazioni)"
   ]
  },
  {
   "cell_type": "markdown",
   "metadata": {},
   "source": [
    "### PM2.5"
   ]
  },
  {
   "cell_type": "code",
   "execution_count": 9,
   "metadata": {},
   "outputs": [
    {
     "name": "stdout",
     "output_type": "stream",
     "text": [
      "77227\n",
      "['ug/m3']\n",
      "['Gorizia' 'Udine' 'Pordenone' 'Trieste']\n",
      "['False' 'True' 'Falso' 'Vero']\n",
      "['Gorizia' 'A2A Via Natisone' 'V.Cairoli' 'A2A Fossalon'\n",
      " 'Pordenone Centro 1' 'p.le Rosmini' 'Via del Ponticello'\n",
      " 'via Pitacco-ARPA' 'P.zza Liberta' 'Pordenone Centro' 'Castions'\n",
      " 'Edison Torviscosa' 'Malisana']\n"
     ]
    }
   ],
   "source": [
    "dim = len(pm2dot5_df.index)\n",
    "um = pm2dot5_df[\"UNITA' MISURA\"].unique()\n",
    "città = pm2dot5_df[\"RETE\"].unique()\n",
    "pm2dot5_df[\"DATI INSUFF.\"] = pm2dot5_df[\"DATI INSUFF.\"].astype(str)\n",
    "dati_insuff = pm2dot5_df[\"DATI INSUFF.\"].unique()\n",
    "ubicazioni = pm2dot5_df[\"UBICAZIONE\"].unique()\n",
    "\n",
    "print(dim)\n",
    "print(um)\n",
    "print(città)\n",
    "print(dati_insuff)\n",
    "print(ubicazioni)"
   ]
  },
  {
   "cell_type": "markdown",
   "metadata": {},
   "source": [
    "### PM10"
   ]
  },
  {
   "cell_type": "code",
   "execution_count": 10,
   "metadata": {},
   "outputs": [
    {
     "name": "stdout",
     "output_type": "stream",
     "text": [
      "146793\n",
      "['ug/m3']\n",
      "['Udine' 'Gorizia' 'Pordenone' 'Trieste']\n",
      "['False' 'Falso' 'Vero' 'True']\n",
      "['Tolmezzo' 'Malisana' 'Edison Torviscosa' 'Castions'\n",
      " 'S.Giovanni al Natisone' 'Gorizia' 'Porcia' 'Brugnera' 'V.Cairoli'\n",
      " 'S.Osvaldo' 'Osoppo' 'Morsano' 'A2A Fossalon' \"A2A Doberdo'\"\n",
      " 'A2A Papariano' 'Via S.Daniele' 'Ugovizza' 'Sacile' 'Pordenone Centro 1'\n",
      " 'A2A Via Natisone' 'A2A Vermegliano' 'piazza Carlo Alberto' 'Basovizza'\n",
      " 'piazza Volontari Giuliani' 'Via del Ponticello' 'via Pitacco-ARPA'\n",
      " 'p.le Rosmini' 'Via Carpineto' 'Area verde' 'Caneva' 'Claut' \"Doberdo'\"\n",
      " 'Fanna' 'Lucinico' 'P.le Osoppo' 'Pordenone Centro' 'Prata di Pordenone'\n",
      " 'Sequals' 'Torviscosa' 'V.Manzoni' 'Monfalcone' 'Muggia' 'P.zza Liberta'\n",
      " 'Via Tor Bandena' 'Via Svevo' 'Via Pitacco']\n"
     ]
    }
   ],
   "source": [
    "dim = len(pm10_df.index)\n",
    "um = pm10_df[\"UNITA' MISURA\"].unique()\n",
    "città = pm10_df[\"RETE\"].unique()\n",
    "pm10_df[\"DATI INSUFF.\"] = pm10_df[\"DATI INSUFF.\"].astype(str)\n",
    "dati_insuff = pm10_df[\"DATI INSUFF.\"].unique()\n",
    "ubicazioni = pm10_df[\"UBICAZIONE\"].unique()\n",
    "\n",
    "print(dim)\n",
    "print(um)\n",
    "print(città)\n",
    "print(dati_insuff)\n",
    "print(ubicazioni)\n"
   ]
  },
  {
   "cell_type": "markdown",
   "metadata": {},
   "source": [
    "### Particolato totale sospeso\n",
    "Tutto il materiale non gassoso presente nell'aria (anche pollini, ecc...). Non viene quindi preso in considerazione dal momento che consideriamo PM10 come indice per l'inquinamento."
   ]
  },
  {
   "cell_type": "code",
   "execution_count": 11,
   "metadata": {},
   "outputs": [
    {
     "name": "stdout",
     "output_type": "stream",
     "text": [
      "20343\n",
      "['ug/m3']\n",
      "['Trieste' 'Pordenone']\n",
      "['Vero' 'Falso']\n",
      "['Muggia' 'Brugnera' 'Caneva' 'Fanna' 'Porcia' 'Pordenone Centro'\n",
      " 'Via Svevo' 'Prata di Pordenone' 'Sequals' 'Via Pitacco']\n"
     ]
    }
   ],
   "source": [
    "dim = len(pts_df.index)\n",
    "um = pts_df[\"UNITA' MISURA\"].unique()\n",
    "città = pts_df[\"RETE\"].unique()\n",
    "pts_df[\"DATI INSUFF.\"] = pts_df[\"DATI INSUFF.\"].astype(str)\n",
    "dati_insuff = pts_df[\"DATI INSUFF.\"].unique()\n",
    "ubicazioni = pts_df[\"UBICAZIONE\"].unique()\n",
    "\n",
    "print(dim)\n",
    "print(um)\n",
    "print(città)\n",
    "print(dati_insuff)\n",
    "print(ubicazioni)"
   ]
  },
  {
   "cell_type": "markdown",
   "metadata": {},
   "source": [
    "### Pollini"
   ]
  },
  {
   "cell_type": "markdown",
   "metadata": {},
   "source": [
    "Difficile gestione del campo relativo alla data, per ora questo dataset viene trascurato."
   ]
  },
  {
   "cell_type": "code",
   "execution_count": 12,
   "metadata": {},
   "outputs": [
    {
     "name": "stdout",
     "output_type": "stream",
     "text": [
      "118560\n",
      "['ug/m3']\n",
      "['Trieste' 'Pordenone' 'Udine']\n",
      "['Vero' 'Falso']\n",
      "['Muggia' 'Brugnera' 'Caneva' 'Fanna' 'Porcia' 'Pordenone Centro'\n",
      " 'Via Svevo' 'Prata di Pordenone' 'Sequals' 'Via Pitacco']\n"
     ]
    }
   ],
   "source": [
    "dim = len(pollini_df.index)\n",
    "genere = pollini_df[\"GENERE\"].unique()\n",
    "famiglia = pollini_df[\"FAMIGLIA\"].unique()\n",
    "città = pollini_df[\"PROVINCIA\"].unique()\n",
    "\n",
    "print(dim)\n",
    "print(um)\n",
    "print(città)\n",
    "print(dati_insuff)\n",
    "print(ubicazioni)\n"
   ]
  },
  {
   "cell_type": "markdown",
   "metadata": {},
   "source": [
    "# Elaborazione dei dati"
   ]
  },
  {
   "cell_type": "markdown",
   "metadata": {},
   "source": [
    "Selezione dei campi di interesse e filtraggio per dati sufficienti"
   ]
  },
  {
   "cell_type": "code",
   "execution_count": 13,
   "metadata": {},
   "outputs": [],
   "source": [
    "biossido_azoto_df = biossido_azoto_df[(biossido_azoto_df[\"DATI INSUFF.\"] == 'Falso') | (biossido_azoto_df[\"DATI INSUFF.\"] == 'False')][[\"DATA MISURA\", \"RETE\", \"MEDIA ORARIA MAX\"]]\n",
    "biossido_zolfo_df = biossido_zolfo_df[(biossido_zolfo_df[\"DATI INSUFF.\"] == 'Falso') | (biossido_zolfo_df[\"DATI INSUFF.\"] == 'False')][[\"DATA MISURA\", \"RETE\", \"MEDIA GIORNALIERA\"]]\n",
    "monossido_carbonio_df = monossido_carbonio_df[(monossido_carbonio_df[\"DATI INSUFF.\"] == 'Falso') | (monossido_carbonio_df[\"DATI INSUFF.\"] == 'False')][[\"DATA MISURA\", \"RETE\", \"MEDIA MOBILE 8h MAX\"]]\n",
    "ozono_df = ozono_df[(ozono_df[\"DATI INSUFF.\"] == 'Falso') | (ozono_df[\"DATI INSUFF.\"] == 'False')][[\"DATA MISURA\", \"RETE\", \"MEDIA MOBILE 8h MAX\"]]\n",
    "pm2dot5_df = pm2dot5_df[(pm2dot5_df[\"DATI INSUFF.\"] == 'Falso') | (pm2dot5_df[\"DATI INSUFF.\"] == 'False')][[\"DATA MISURA\", \"RETE\", \"MEDIA GIORNALIERA\"]]\n",
    "pm10_df = pm10_df[(pm10_df[\"DATI INSUFF.\"] == 'Falso') | (pm10_df[\"DATI INSUFF.\"] == 'False')][[\"DATA MISURA\", \"RETE\", \"MEDIA GIORNALIERA\"]]\n"
   ]
  },
  {
   "cell_type": "markdown",
   "metadata": {},
   "source": [
    "Selezione dell'intervallo di tempo e creazione dell'indice temporale. Sono presenti dati nei seguenti range temporali:\n",
    "- biossido di azoto:  2005-01-01 ---> 2020-11-18\n",
    "- biossido di zolfo:  2005-01-01 ---> 2021-10-18\n",
    "- monossido di carbonio:  2005-01-01 ---> 2021-11-18\n",
    "- ozono:  2005-01-01 ---> 2021-10-18\n",
    "- pm2.5:  2012-11-18 --->2021-10-18\n",
    "- pm10:  2005-01-01 --->2021-10-18"
   ]
  },
  {
   "cell_type": "code",
   "execution_count": 14,
   "metadata": {},
   "outputs": [],
   "source": [
    "biossido_azoto_df['DATA MISURA']= pd.to_datetime(biossido_azoto_df['DATA MISURA'],dayfirst=True)\n",
    "biossido_azoto_df = biossido_azoto_df[biossido_azoto_df['DATA MISURA'].notna()]\n",
    "biossido_zolfo_df['DATA MISURA']= pd.to_datetime(biossido_zolfo_df['DATA MISURA'],dayfirst=True)\n",
    "biossido_zolfo_df = biossido_zolfo_df[biossido_zolfo_df['DATA MISURA'].notna()]\n",
    "monossido_carbonio_df['DATA MISURA']= pd.to_datetime(monossido_carbonio_df['DATA MISURA'],dayfirst=True)\n",
    "monossido_carbonio_df = monossido_carbonio_df[monossido_carbonio_df['DATA MISURA'].notna()]\n",
    "ozono_df['DATA MISURA']= pd.to_datetime(ozono_df['DATA MISURA'],dayfirst=True)\n",
    "ozono_df = ozono_df[ozono_df['DATA MISURA'].notna()]\n",
    "pm2dot5_df['DATA MISURA']= pd.to_datetime(pm2dot5_df['DATA MISURA'],dayfirst=True)\n",
    "pm2dot5_df = pm2dot5_df[pm2dot5_df['DATA MISURA'].notna()]\n",
    "pm10_df['DATA MISURA']= pd.to_datetime(pm10_df['DATA MISURA'],dayfirst=True)\n",
    "pm10_df = pm10_df[pm10_df['DATA MISURA'].notna()]"
   ]
  },
  {
   "cell_type": "code",
   "execution_count": 15,
   "metadata": {},
   "outputs": [],
   "source": [
    "biossido_azoto_df=biossido_azoto_df.sort_values(by='DATA MISURA')\n",
    "biossido_zolfo_df=biossido_zolfo_df.sort_values(by='DATA MISURA')\n",
    "monossido_carbonio_df=monossido_carbonio_df.sort_values(by='DATA MISURA')\n",
    "ozono_df=ozono_df.sort_values(by='DATA MISURA')\n",
    "pm2dot5_df=pm2dot5_df.sort_values(by='DATA MISURA')\n",
    "pm10_df=pm10_df.sort_values(by='DATA MISURA')"
   ]
  },
  {
   "cell_type": "code",
   "execution_count": 16,
   "metadata": {},
   "outputs": [
    {
     "data": {
      "text/plain": [
       "95495    2005-01-01\n",
       "70009    2005-01-01\n",
       "102683   2005-01-01\n",
       "92393    2005-01-01\n",
       "141788   2005-01-01\n",
       "            ...    \n",
       "58284    2020-11-18\n",
       "58278    2020-11-18\n",
       "58244    2020-11-18\n",
       "58464    2020-11-18\n",
       "58365    2020-11-18\n",
       "Name: DATA MISURA, Length: 148874, dtype: datetime64[ns]"
      ]
     },
     "execution_count": 16,
     "metadata": {},
     "output_type": "execute_result"
    }
   ],
   "source": [
    "biossido_azoto_df[\"DATA MISURA\"]"
   ]
  },
  {
   "cell_type": "markdown",
   "metadata": {},
   "source": [
    "Selezione del range temporale in cui ho tutti i dati (01/01/2014 - 18/11/2020)"
   ]
  },
  {
   "cell_type": "code",
   "execution_count": 17,
   "metadata": {},
   "outputs": [],
   "source": [
    "biossido_azoto_df=biossido_azoto_df[(biossido_azoto_df['DATA MISURA'] >= '2014-01-01') & (biossido_azoto_df['DATA MISURA'] <= biossido_azoto_df['DATA MISURA'].max())]\n",
    "biossido_zolfo_df=biossido_zolfo_df[(biossido_zolfo_df['DATA MISURA'] >=  '2014-01-01') & (biossido_zolfo_df['DATA MISURA'] <= biossido_azoto_df['DATA MISURA'].max())]\n",
    "monossido_carbonio_df=monossido_carbonio_df[(monossido_carbonio_df['DATA MISURA'] >=  '2014-01-01') & (monossido_carbonio_df['DATA MISURA'] <= biossido_azoto_df['DATA MISURA'].max())]\n",
    "ozono_df=ozono_df[(ozono_df['DATA MISURA'] >= '2014-01-01') & (ozono_df['DATA MISURA'] <= biossido_azoto_df['DATA MISURA'].max())]\n",
    "pm2dot5_df=pm2dot5_df[(pm2dot5_df['DATA MISURA'] >= '2014-01-01') & (pm2dot5_df['DATA MISURA'] <= biossido_azoto_df['DATA MISURA'].max())]\n",
    "pm10_df=pm10_df[(pm10_df['DATA MISURA'] >= '2014-01-01') & (pm10_df['DATA MISURA'] <= biossido_azoto_df['DATA MISURA'].max())]"
   ]
  },
  {
   "cell_type": "markdown",
   "metadata": {},
   "source": [
    "Rinomina dei campi"
   ]
  },
  {
   "cell_type": "code",
   "execution_count": 18,
   "metadata": {},
   "outputs": [],
   "source": [
    "biossido_azoto_df = biossido_azoto_df.rename(columns={\n",
    "    'DATA MISURA': 'data',\n",
    "    'RETE': 'provincia',\n",
    "    'MEDIA ORARIA MAX': 'azoto_oraria_max'\n",
    "})\n",
    "biossido_zolfo_df = biossido_zolfo_df.rename(columns={\n",
    "    'DATA MISURA': 'data',\n",
    "    'RETE': 'provincia',\n",
    "    'MEDIA GIORNALIERA': 'zolfo_giornaliera'\n",
    "})\n",
    "monossido_carbonio_df = monossido_carbonio_df.rename(columns={\n",
    "    'DATA MISURA': 'data',\n",
    "    'RETE': 'provincia',\n",
    "    'MEDIA MOBILE 8h MAX': 'carbonio_8h_max'\n",
    "})\n",
    "ozono_df = ozono_df.rename(columns={\n",
    "    'DATA MISURA': 'data',\n",
    "    'RETE': 'provincia',\n",
    "    'MEDIA MOBILE 8h MAX': 'ozono_8h_max'\n",
    "})\n",
    "pm2dot5_df = pm2dot5_df.rename(columns={\n",
    "    'DATA MISURA': 'data',\n",
    "    'RETE': 'provincia',\n",
    "    'MEDIA GIORNALIERA': 'pm2dot5_giornaliera'\n",
    "})\n",
    "pm10_df = pm10_df.rename(columns={\n",
    "    'DATA MISURA': 'data',\n",
    "    'RETE': 'provincia',\n",
    "    'MEDIA GIORNALIERA': 'pm10_giornaliera'\n",
    "})\n",
    "\n",
    "biossido_azoto_df['azoto_oraria_max']=biossido_azoto_df['azoto_oraria_max'].astype(float)\n",
    "biossido_zolfo_df['zolfo_giornaliera']=biossido_zolfo_df['zolfo_giornaliera'].astype(float)\n",
    "monossido_carbonio_df['carbonio_8h_max']=monossido_carbonio_df['carbonio_8h_max'].astype(float)\n",
    "ozono_df['ozono_8h_max']=ozono_df['ozono_8h_max'].astype(float)\n",
    "pm2dot5_df['pm2dot5_giornaliera']=pm2dot5_df['pm2dot5_giornaliera'].astype(float)\n",
    "pm10_df['pm10_giornaliera']=pm10_df['pm10_giornaliera'].astype(float)\n"
   ]
  },
  {
   "cell_type": "markdown",
   "metadata": {},
   "source": [
    "Aggregazione dati per provincia e data"
   ]
  },
  {
   "cell_type": "code",
   "execution_count": 19,
   "metadata": {},
   "outputs": [],
   "source": [
    "biossido_azoto_df=biossido_azoto_df.groupby(by=['data', 'provincia']).agg({\"azoto_oraria_max\":\"mean\"})\n",
    "biossido_zolfo_df=biossido_zolfo_df.groupby(by=['data', 'provincia']).agg({\"zolfo_giornaliera\":\"mean\"})\n",
    "monossido_carbonio_df=monossido_carbonio_df.groupby(by=['data', 'provincia']).agg({\"carbonio_8h_max\":\"mean\"})\n",
    "ozono_df=ozono_df.groupby(by=['data', 'provincia']).agg({\"ozono_8h_max\":\"mean\"})\n",
    "pm2dot5_df=pm2dot5_df.groupby(by=['data', 'provincia']).agg({\"pm2dot5_giornaliera\":\"mean\"})\n",
    "pm10_df=pm10_df.groupby(by=['data', 'provincia']).agg({\"pm10_giornaliera\":\"mean\"})"
   ]
  },
  {
   "cell_type": "markdown",
   "metadata": {},
   "source": [
    "Unione dei datasets"
   ]
  },
  {
   "cell_type": "code",
   "execution_count": 20,
   "metadata": {},
   "outputs": [],
   "source": [
    "df = pd.merge(biossido_azoto_df, biossido_zolfo_df, how='outer', on=[\"data\", \"provincia\"]).sort_values(['data', 'provincia'])\n",
    "df = pd.merge(df, monossido_carbonio_df, how='outer', on=[\"data\", \"provincia\"]).sort_values(['data', 'provincia'])\n",
    "df = pd.merge(df, ozono_df, how='outer', on=[\"data\", \"provincia\"]).sort_values(['data', 'provincia'])\n",
    "df = pd.merge(df, pm2dot5_df, how='outer', on=[\"data\", \"provincia\"]).sort_values(['data', 'provincia'])\n",
    "df = pd.merge(df, pm10_df, how='outer', on=[\"data\", \"provincia\"]).sort_values(['data', 'provincia'])\n",
    "\n",
    "df=df.reset_index()"
   ]
  },
  {
   "cell_type": "markdown",
   "metadata": {},
   "source": [
    "Creazione degli indici temporali"
   ]
  },
  {
   "cell_type": "code",
   "execution_count": 21,
   "metadata": {},
   "outputs": [],
   "source": [
    "df_new = df.copy()\n",
    "df_new[\"time_idx\"] = (df_new['data'].dt.year * 52) + df_new['data'].dt.isocalendar().week\n",
    "df_new[\"relative_time_w\"] = df_new['data'].dt.isocalendar().week\n",
    "df_new[\"relative_time_m\"] = df_new['data'].dt.month\n",
    "df_new[\"relative_time_y\"] = df_new['data'].dt.year\n",
    "df_new[\"time_idx\"] -= df_new[\"time_idx\"].min()\n",
    "df_new[\"time_idx\"] = df_new[\"time_idx\"].astype(int)\n",
    "\n",
    "df_new=df_new.drop(\"data\", axis=1)"
   ]
  },
  {
   "cell_type": "code",
   "execution_count": 22,
   "metadata": {},
   "outputs": [
    {
     "data": {
      "text/html": [
       "<div>\n",
       "<style scoped>\n",
       "    .dataframe tbody tr th:only-of-type {\n",
       "        vertical-align: middle;\n",
       "    }\n",
       "\n",
       "    .dataframe tbody tr th {\n",
       "        vertical-align: top;\n",
       "    }\n",
       "\n",
       "    .dataframe thead th {\n",
       "        text-align: right;\n",
       "    }\n",
       "</style>\n",
       "<table border=\"1\" class=\"dataframe\">\n",
       "  <thead>\n",
       "    <tr style=\"text-align: right;\">\n",
       "      <th></th>\n",
       "      <th>provincia</th>\n",
       "      <th>azoto_oraria_max</th>\n",
       "      <th>zolfo_giornaliera</th>\n",
       "      <th>carbonio_8h_max</th>\n",
       "      <th>ozono_8h_max</th>\n",
       "      <th>pm2dot5_giornaliera</th>\n",
       "      <th>pm10_giornaliera</th>\n",
       "      <th>time_idx</th>\n",
       "      <th>relative_time_w</th>\n",
       "      <th>relative_time_m</th>\n",
       "      <th>relative_time_y</th>\n",
       "    </tr>\n",
       "  </thead>\n",
       "  <tbody>\n",
       "    <tr>\n",
       "      <th>0</th>\n",
       "      <td>Gorizia</td>\n",
       "      <td>18.503750</td>\n",
       "      <td>2.750000</td>\n",
       "      <td>0.785000</td>\n",
       "      <td>38.347500</td>\n",
       "      <td>25.370000</td>\n",
       "      <td>18.639382</td>\n",
       "      <td>0</td>\n",
       "      <td>1</td>\n",
       "      <td>1</td>\n",
       "      <td>2014</td>\n",
       "    </tr>\n",
       "    <tr>\n",
       "      <th>1</th>\n",
       "      <td>Pordenone</td>\n",
       "      <td>41.975000</td>\n",
       "      <td>NaN</td>\n",
       "      <td>0.980000</td>\n",
       "      <td>31.745000</td>\n",
       "      <td>29.500000</td>\n",
       "      <td>39.683924</td>\n",
       "      <td>0</td>\n",
       "      <td>1</td>\n",
       "      <td>1</td>\n",
       "      <td>2014</td>\n",
       "    </tr>\n",
       "    <tr>\n",
       "      <th>2</th>\n",
       "      <td>Trieste</td>\n",
       "      <td>48.715000</td>\n",
       "      <td>2.183333</td>\n",
       "      <td>0.991667</td>\n",
       "      <td>36.680000</td>\n",
       "      <td>18.450000</td>\n",
       "      <td>25.244995</td>\n",
       "      <td>0</td>\n",
       "      <td>1</td>\n",
       "      <td>1</td>\n",
       "      <td>2014</td>\n",
       "    </tr>\n",
       "    <tr>\n",
       "      <th>3</th>\n",
       "      <td>Udine</td>\n",
       "      <td>27.880000</td>\n",
       "      <td>3.910000</td>\n",
       "      <td>0.172500</td>\n",
       "      <td>35.511667</td>\n",
       "      <td>30.480000</td>\n",
       "      <td>30.783784</td>\n",
       "      <td>0</td>\n",
       "      <td>1</td>\n",
       "      <td>1</td>\n",
       "      <td>2014</td>\n",
       "    </tr>\n",
       "    <tr>\n",
       "      <th>4</th>\n",
       "      <td>Gorizia</td>\n",
       "      <td>15.446250</td>\n",
       "      <td>2.590000</td>\n",
       "      <td>0.835000</td>\n",
       "      <td>33.486667</td>\n",
       "      <td>30.710000</td>\n",
       "      <td>26.760813</td>\n",
       "      <td>0</td>\n",
       "      <td>1</td>\n",
       "      <td>1</td>\n",
       "      <td>2014</td>\n",
       "    </tr>\n",
       "    <tr>\n",
       "      <th>...</th>\n",
       "      <td>...</td>\n",
       "      <td>...</td>\n",
       "      <td>...</td>\n",
       "      <td>...</td>\n",
       "      <td>...</td>\n",
       "      <td>...</td>\n",
       "      <td>...</td>\n",
       "      <td>...</td>\n",
       "      <td>...</td>\n",
       "      <td>...</td>\n",
       "      <td>...</td>\n",
       "    </tr>\n",
       "    <tr>\n",
       "      <th>10047</th>\n",
       "      <td>Udine</td>\n",
       "      <td>41.568571</td>\n",
       "      <td>2.280000</td>\n",
       "      <td>NaN</td>\n",
       "      <td>53.242857</td>\n",
       "      <td>9.925000</td>\n",
       "      <td>12.539724</td>\n",
       "      <td>358</td>\n",
       "      <td>47</td>\n",
       "      <td>11</td>\n",
       "      <td>2020</td>\n",
       "    </tr>\n",
       "    <tr>\n",
       "      <th>10048</th>\n",
       "      <td>Gorizia</td>\n",
       "      <td>40.177143</td>\n",
       "      <td>0.618148</td>\n",
       "      <td>NaN</td>\n",
       "      <td>50.605077</td>\n",
       "      <td>10.066667</td>\n",
       "      <td>12.463332</td>\n",
       "      <td>358</td>\n",
       "      <td>47</td>\n",
       "      <td>11</td>\n",
       "      <td>2020</td>\n",
       "    </tr>\n",
       "    <tr>\n",
       "      <th>10049</th>\n",
       "      <td>Pordenone</td>\n",
       "      <td>80.826667</td>\n",
       "      <td>NaN</td>\n",
       "      <td>NaN</td>\n",
       "      <td>33.066667</td>\n",
       "      <td>16.900000</td>\n",
       "      <td>26.134642</td>\n",
       "      <td>358</td>\n",
       "      <td>47</td>\n",
       "      <td>11</td>\n",
       "      <td>2020</td>\n",
       "    </tr>\n",
       "    <tr>\n",
       "      <th>10050</th>\n",
       "      <td>Trieste</td>\n",
       "      <td>42.383333</td>\n",
       "      <td>1.330000</td>\n",
       "      <td>0.717619</td>\n",
       "      <td>64.585000</td>\n",
       "      <td>7.250000</td>\n",
       "      <td>10.613188</td>\n",
       "      <td>358</td>\n",
       "      <td>47</td>\n",
       "      <td>11</td>\n",
       "      <td>2020</td>\n",
       "    </tr>\n",
       "    <tr>\n",
       "      <th>10051</th>\n",
       "      <td>Udine</td>\n",
       "      <td>46.611429</td>\n",
       "      <td>2.350000</td>\n",
       "      <td>NaN</td>\n",
       "      <td>45.295000</td>\n",
       "      <td>14.550000</td>\n",
       "      <td>15.740373</td>\n",
       "      <td>358</td>\n",
       "      <td>47</td>\n",
       "      <td>11</td>\n",
       "      <td>2020</td>\n",
       "    </tr>\n",
       "  </tbody>\n",
       "</table>\n",
       "<p>10052 rows × 11 columns</p>\n",
       "</div>"
      ],
      "text/plain": [
       "       provincia  azoto_oraria_max  zolfo_giornaliera  carbonio_8h_max  \\\n",
       "0        Gorizia         18.503750           2.750000         0.785000   \n",
       "1      Pordenone         41.975000                NaN         0.980000   \n",
       "2        Trieste         48.715000           2.183333         0.991667   \n",
       "3          Udine         27.880000           3.910000         0.172500   \n",
       "4        Gorizia         15.446250           2.590000         0.835000   \n",
       "...          ...               ...                ...              ...   \n",
       "10047      Udine         41.568571           2.280000              NaN   \n",
       "10048    Gorizia         40.177143           0.618148              NaN   \n",
       "10049  Pordenone         80.826667                NaN              NaN   \n",
       "10050    Trieste         42.383333           1.330000         0.717619   \n",
       "10051      Udine         46.611429           2.350000              NaN   \n",
       "\n",
       "       ozono_8h_max  pm2dot5_giornaliera  pm10_giornaliera  time_idx  \\\n",
       "0         38.347500            25.370000         18.639382         0   \n",
       "1         31.745000            29.500000         39.683924         0   \n",
       "2         36.680000            18.450000         25.244995         0   \n",
       "3         35.511667            30.480000         30.783784         0   \n",
       "4         33.486667            30.710000         26.760813         0   \n",
       "...             ...                  ...               ...       ...   \n",
       "10047     53.242857             9.925000         12.539724       358   \n",
       "10048     50.605077            10.066667         12.463332       358   \n",
       "10049     33.066667            16.900000         26.134642       358   \n",
       "10050     64.585000             7.250000         10.613188       358   \n",
       "10051     45.295000            14.550000         15.740373       358   \n",
       "\n",
       "       relative_time_w  relative_time_m  relative_time_y  \n",
       "0                    1                1             2014  \n",
       "1                    1                1             2014  \n",
       "2                    1                1             2014  \n",
       "3                    1                1             2014  \n",
       "4                    1                1             2014  \n",
       "...                ...              ...              ...  \n",
       "10047               47               11             2020  \n",
       "10048               47               11             2020  \n",
       "10049               47               11             2020  \n",
       "10050               47               11             2020  \n",
       "10051               47               11             2020  \n",
       "\n",
       "[10052 rows x 11 columns]"
      ]
     },
     "execution_count": 22,
     "metadata": {},
     "output_type": "execute_result"
    }
   ],
   "source": [
    "df_new"
   ]
  },
  {
   "cell_type": "markdown",
   "metadata": {},
   "source": [
    "Fill settimanale dei dati"
   ]
  },
  {
   "cell_type": "code",
   "execution_count": 23,
   "metadata": {},
   "outputs": [
    {
     "data": {
      "text/html": [
       "<div>\n",
       "<style scoped>\n",
       "    .dataframe tbody tr th:only-of-type {\n",
       "        vertical-align: middle;\n",
       "    }\n",
       "\n",
       "    .dataframe tbody tr th {\n",
       "        vertical-align: top;\n",
       "    }\n",
       "\n",
       "    .dataframe thead th {\n",
       "        text-align: right;\n",
       "    }\n",
       "</style>\n",
       "<table border=\"1\" class=\"dataframe\">\n",
       "  <thead>\n",
       "    <tr style=\"text-align: right;\">\n",
       "      <th></th>\n",
       "      <th>time_idx</th>\n",
       "      <th>provincia</th>\n",
       "      <th>azoto_oraria_max</th>\n",
       "      <th>zolfo_giornaliera</th>\n",
       "      <th>carbonio_8h_max</th>\n",
       "      <th>ozono_8h_max</th>\n",
       "      <th>pm2dot5_giornaliera</th>\n",
       "      <th>pm10_giornaliera</th>\n",
       "      <th>relative_time_w</th>\n",
       "      <th>relative_time_m</th>\n",
       "      <th>relative_time_y</th>\n",
       "    </tr>\n",
       "  </thead>\n",
       "  <tbody>\n",
       "    <tr>\n",
       "      <th>0</th>\n",
       "      <td>0.0</td>\n",
       "      <td>Gorizia</td>\n",
       "      <td>18.503750</td>\n",
       "      <td>2.75</td>\n",
       "      <td>0.785</td>\n",
       "      <td>38.347500</td>\n",
       "      <td>25.370</td>\n",
       "      <td>18.639382</td>\n",
       "      <td>1</td>\n",
       "      <td>1</td>\n",
       "      <td>2014</td>\n",
       "    </tr>\n",
       "    <tr>\n",
       "      <th>1</th>\n",
       "      <td>0.0</td>\n",
       "      <td>Gorizia</td>\n",
       "      <td>15.446250</td>\n",
       "      <td>2.59</td>\n",
       "      <td>0.835</td>\n",
       "      <td>33.486667</td>\n",
       "      <td>30.710</td>\n",
       "      <td>26.760813</td>\n",
       "      <td>1</td>\n",
       "      <td>1</td>\n",
       "      <td>2014</td>\n",
       "    </tr>\n",
       "    <tr>\n",
       "      <th>2</th>\n",
       "      <td>0.0</td>\n",
       "      <td>Gorizia</td>\n",
       "      <td>20.942500</td>\n",
       "      <td>1.89</td>\n",
       "      <td>0.790</td>\n",
       "      <td>37.553333</td>\n",
       "      <td>21.460</td>\n",
       "      <td>22.278735</td>\n",
       "      <td>1</td>\n",
       "      <td>1</td>\n",
       "      <td>2014</td>\n",
       "    </tr>\n",
       "    <tr>\n",
       "      <th>3</th>\n",
       "      <td>0.0</td>\n",
       "      <td>Gorizia</td>\n",
       "      <td>12.376250</td>\n",
       "      <td>1.89</td>\n",
       "      <td>0.690</td>\n",
       "      <td>54.515000</td>\n",
       "      <td>20.840</td>\n",
       "      <td>27.319113</td>\n",
       "      <td>1</td>\n",
       "      <td>1</td>\n",
       "      <td>2014</td>\n",
       "    </tr>\n",
       "    <tr>\n",
       "      <th>4</th>\n",
       "      <td>0.0</td>\n",
       "      <td>Gorizia</td>\n",
       "      <td>16.200000</td>\n",
       "      <td>1.89</td>\n",
       "      <td>0.555</td>\n",
       "      <td>64.625000</td>\n",
       "      <td>9.800</td>\n",
       "      <td>12.666150</td>\n",
       "      <td>1</td>\n",
       "      <td>1</td>\n",
       "      <td>2014</td>\n",
       "    </tr>\n",
       "    <tr>\n",
       "      <th>...</th>\n",
       "      <td>...</td>\n",
       "      <td>...</td>\n",
       "      <td>...</td>\n",
       "      <td>...</td>\n",
       "      <td>...</td>\n",
       "      <td>...</td>\n",
       "      <td>...</td>\n",
       "      <td>...</td>\n",
       "      <td>...</td>\n",
       "      <td>...</td>\n",
       "      <td>...</td>\n",
       "    </tr>\n",
       "    <tr>\n",
       "      <th>10038</th>\n",
       "      <td>357.0</td>\n",
       "      <td>Udine</td>\n",
       "      <td>48.022857</td>\n",
       "      <td>1.89</td>\n",
       "      <td>0.000</td>\n",
       "      <td>45.683750</td>\n",
       "      <td>33.525</td>\n",
       "      <td>30.451372</td>\n",
       "      <td>46</td>\n",
       "      <td>11</td>\n",
       "      <td>2020</td>\n",
       "    </tr>\n",
       "    <tr>\n",
       "      <th>10039</th>\n",
       "      <td>357.0</td>\n",
       "      <td>Udine</td>\n",
       "      <td>27.022593</td>\n",
       "      <td>2.41</td>\n",
       "      <td>0.000</td>\n",
       "      <td>52.964286</td>\n",
       "      <td>27.275</td>\n",
       "      <td>25.652133</td>\n",
       "      <td>46</td>\n",
       "      <td>11</td>\n",
       "      <td>2020</td>\n",
       "    </tr>\n",
       "    <tr>\n",
       "      <th>10049</th>\n",
       "      <td>358.0</td>\n",
       "      <td>Udine</td>\n",
       "      <td>34.621429</td>\n",
       "      <td>1.80</td>\n",
       "      <td>0.000</td>\n",
       "      <td>43.585000</td>\n",
       "      <td>25.650</td>\n",
       "      <td>26.153915</td>\n",
       "      <td>47</td>\n",
       "      <td>11</td>\n",
       "      <td>2020</td>\n",
       "    </tr>\n",
       "    <tr>\n",
       "      <th>10050</th>\n",
       "      <td>358.0</td>\n",
       "      <td>Udine</td>\n",
       "      <td>41.568571</td>\n",
       "      <td>2.28</td>\n",
       "      <td>0.000</td>\n",
       "      <td>53.242857</td>\n",
       "      <td>9.925</td>\n",
       "      <td>12.539724</td>\n",
       "      <td>47</td>\n",
       "      <td>11</td>\n",
       "      <td>2020</td>\n",
       "    </tr>\n",
       "    <tr>\n",
       "      <th>10051</th>\n",
       "      <td>358.0</td>\n",
       "      <td>Udine</td>\n",
       "      <td>46.611429</td>\n",
       "      <td>2.35</td>\n",
       "      <td>0.000</td>\n",
       "      <td>45.295000</td>\n",
       "      <td>14.550</td>\n",
       "      <td>15.740373</td>\n",
       "      <td>47</td>\n",
       "      <td>11</td>\n",
       "      <td>2020</td>\n",
       "    </tr>\n",
       "  </tbody>\n",
       "</table>\n",
       "<p>10052 rows × 11 columns</p>\n",
       "</div>"
      ],
      "text/plain": [
       "       time_idx provincia  azoto_oraria_max  zolfo_giornaliera  \\\n",
       "0           0.0   Gorizia         18.503750               2.75   \n",
       "1           0.0   Gorizia         15.446250               2.59   \n",
       "2           0.0   Gorizia         20.942500               1.89   \n",
       "3           0.0   Gorizia         12.376250               1.89   \n",
       "4           0.0   Gorizia         16.200000               1.89   \n",
       "...         ...       ...               ...                ...   \n",
       "10038     357.0     Udine         48.022857               1.89   \n",
       "10039     357.0     Udine         27.022593               2.41   \n",
       "10049     358.0     Udine         34.621429               1.80   \n",
       "10050     358.0     Udine         41.568571               2.28   \n",
       "10051     358.0     Udine         46.611429               2.35   \n",
       "\n",
       "       carbonio_8h_max  ozono_8h_max  pm2dot5_giornaliera  pm10_giornaliera  \\\n",
       "0                0.785     38.347500               25.370         18.639382   \n",
       "1                0.835     33.486667               30.710         26.760813   \n",
       "2                0.790     37.553333               21.460         22.278735   \n",
       "3                0.690     54.515000               20.840         27.319113   \n",
       "4                0.555     64.625000                9.800         12.666150   \n",
       "...                ...           ...                  ...               ...   \n",
       "10038            0.000     45.683750               33.525         30.451372   \n",
       "10039            0.000     52.964286               27.275         25.652133   \n",
       "10049            0.000     43.585000               25.650         26.153915   \n",
       "10050            0.000     53.242857                9.925         12.539724   \n",
       "10051            0.000     45.295000               14.550         15.740373   \n",
       "\n",
       "       relative_time_w  relative_time_m  relative_time_y  \n",
       "0                    1                1             2014  \n",
       "1                    1                1             2014  \n",
       "2                    1                1             2014  \n",
       "3                    1                1             2014  \n",
       "4                    1                1             2014  \n",
       "...                ...              ...              ...  \n",
       "10038               46               11             2020  \n",
       "10039               46               11             2020  \n",
       "10049               47               11             2020  \n",
       "10050               47               11             2020  \n",
       "10051               47               11             2020  \n",
       "\n",
       "[10052 rows x 11 columns]"
      ]
     },
     "execution_count": 23,
     "metadata": {},
     "output_type": "execute_result"
    }
   ],
   "source": [
    "dense_df = pd.DataFrame()\n",
    "for time in range(df_new[\"time_idx\"].min(),df_new[\"time_idx\"].max()+1):\n",
    "    dense_df = dense_df.append({\"time_idx\":time,\"provincia\":df_new[\"provincia\"].unique()},ignore_index=True)\n",
    "    dense_df = dense_df.explode(\"provincia\")\n",
    "dense_df = dense_df.set_index([\"time_idx\",\"provincia\"]).join(df_new.set_index([\"time_idx\",\"provincia\"]),how='outer')\n",
    "dense_df = dense_df.reset_index()\n",
    "dense_df = dense_df.sort_values(by=[\"provincia\",\"time_idx\",\"relative_time_w\"])\n",
    "dense_df = dense_df.ffill()\n",
    "dense_df"
   ]
  },
  {
   "cell_type": "markdown",
   "metadata": {},
   "source": [
    "Raggruppamento settimanale dei dati"
   ]
  },
  {
   "cell_type": "code",
   "execution_count": 24,
   "metadata": {},
   "outputs": [
    {
     "data": {
      "text/html": [
       "<div>\n",
       "<style scoped>\n",
       "    .dataframe tbody tr th:only-of-type {\n",
       "        vertical-align: middle;\n",
       "    }\n",
       "\n",
       "    .dataframe tbody tr th {\n",
       "        vertical-align: top;\n",
       "    }\n",
       "\n",
       "    .dataframe thead th {\n",
       "        text-align: right;\n",
       "    }\n",
       "</style>\n",
       "<table border=\"1\" class=\"dataframe\">\n",
       "  <thead>\n",
       "    <tr style=\"text-align: right;\">\n",
       "      <th></th>\n",
       "      <th>provincia</th>\n",
       "      <th>time_idx</th>\n",
       "      <th>azoto_oraria_max</th>\n",
       "      <th>zolfo_giornaliera</th>\n",
       "      <th>carbonio_8h_max</th>\n",
       "      <th>ozono_8h_max</th>\n",
       "      <th>pm2dot5_giornaliera</th>\n",
       "      <th>pm10_giornaliera</th>\n",
       "      <th>relative_time_w</th>\n",
       "      <th>relative_time_y</th>\n",
       "      <th>relative_time_m</th>\n",
       "    </tr>\n",
       "  </thead>\n",
       "  <tbody>\n",
       "    <tr>\n",
       "      <th>0</th>\n",
       "      <td>Gorizia</td>\n",
       "      <td>0.0</td>\n",
       "      <td>28.006272</td>\n",
       "      <td>3.661250</td>\n",
       "      <td>0.651250</td>\n",
       "      <td>53.649062</td>\n",
       "      <td>16.647083</td>\n",
       "      <td>18.015583</td>\n",
       "      <td>1.0</td>\n",
       "      <td>2014.0</td>\n",
       "      <td>5.125000</td>\n",
       "    </tr>\n",
       "    <tr>\n",
       "      <th>1</th>\n",
       "      <td>Gorizia</td>\n",
       "      <td>1.0</td>\n",
       "      <td>45.018673</td>\n",
       "      <td>5.331905</td>\n",
       "      <td>0.845714</td>\n",
       "      <td>13.312857</td>\n",
       "      <td>40.959762</td>\n",
       "      <td>49.991549</td>\n",
       "      <td>2.0</td>\n",
       "      <td>2014.0</td>\n",
       "      <td>1.000000</td>\n",
       "    </tr>\n",
       "    <tr>\n",
       "      <th>2</th>\n",
       "      <td>Gorizia</td>\n",
       "      <td>2.0</td>\n",
       "      <td>45.632117</td>\n",
       "      <td>4.936048</td>\n",
       "      <td>0.648571</td>\n",
       "      <td>40.546714</td>\n",
       "      <td>22.282857</td>\n",
       "      <td>29.161928</td>\n",
       "      <td>3.0</td>\n",
       "      <td>2014.0</td>\n",
       "      <td>1.000000</td>\n",
       "    </tr>\n",
       "    <tr>\n",
       "      <th>3</th>\n",
       "      <td>Gorizia</td>\n",
       "      <td>3.0</td>\n",
       "      <td>44.446463</td>\n",
       "      <td>5.484762</td>\n",
       "      <td>0.679286</td>\n",
       "      <td>32.052524</td>\n",
       "      <td>14.080952</td>\n",
       "      <td>17.742073</td>\n",
       "      <td>4.0</td>\n",
       "      <td>2014.0</td>\n",
       "      <td>1.000000</td>\n",
       "    </tr>\n",
       "    <tr>\n",
       "      <th>4</th>\n",
       "      <td>Gorizia</td>\n",
       "      <td>4.0</td>\n",
       "      <td>30.148980</td>\n",
       "      <td>4.187143</td>\n",
       "      <td>0.526429</td>\n",
       "      <td>57.219524</td>\n",
       "      <td>14.944286</td>\n",
       "      <td>17.136072</td>\n",
       "      <td>5.0</td>\n",
       "      <td>2014.0</td>\n",
       "      <td>1.285714</td>\n",
       "    </tr>\n",
       "    <tr>\n",
       "      <th>...</th>\n",
       "      <td>...</td>\n",
       "      <td>...</td>\n",
       "      <td>...</td>\n",
       "      <td>...</td>\n",
       "      <td>...</td>\n",
       "      <td>...</td>\n",
       "      <td>...</td>\n",
       "      <td>...</td>\n",
       "      <td>...</td>\n",
       "      <td>...</td>\n",
       "      <td>...</td>\n",
       "    </tr>\n",
       "    <tr>\n",
       "      <th>1431</th>\n",
       "      <td>Udine</td>\n",
       "      <td>354.0</td>\n",
       "      <td>32.206987</td>\n",
       "      <td>3.108571</td>\n",
       "      <td>0.000000</td>\n",
       "      <td>64.327466</td>\n",
       "      <td>29.528571</td>\n",
       "      <td>32.824346</td>\n",
       "      <td>43.0</td>\n",
       "      <td>2020.0</td>\n",
       "      <td>10.000000</td>\n",
       "    </tr>\n",
       "    <tr>\n",
       "      <th>1432</th>\n",
       "      <td>Udine</td>\n",
       "      <td>355.0</td>\n",
       "      <td>35.572812</td>\n",
       "      <td>2.835714</td>\n",
       "      <td>0.000000</td>\n",
       "      <td>49.331905</td>\n",
       "      <td>16.853571</td>\n",
       "      <td>19.789032</td>\n",
       "      <td>44.0</td>\n",
       "      <td>2020.0</td>\n",
       "      <td>10.142857</td>\n",
       "    </tr>\n",
       "    <tr>\n",
       "      <th>1433</th>\n",
       "      <td>Udine</td>\n",
       "      <td>356.0</td>\n",
       "      <td>39.426567</td>\n",
       "      <td>1.990000</td>\n",
       "      <td>0.000000</td>\n",
       "      <td>43.992847</td>\n",
       "      <td>20.578049</td>\n",
       "      <td>24.522095</td>\n",
       "      <td>45.0</td>\n",
       "      <td>2020.0</td>\n",
       "      <td>11.000000</td>\n",
       "    </tr>\n",
       "    <tr>\n",
       "      <th>1434</th>\n",
       "      <td>Udine</td>\n",
       "      <td>357.0</td>\n",
       "      <td>41.356416</td>\n",
       "      <td>2.164286</td>\n",
       "      <td>0.000000</td>\n",
       "      <td>43.834728</td>\n",
       "      <td>22.157143</td>\n",
       "      <td>22.998696</td>\n",
       "      <td>46.0</td>\n",
       "      <td>2020.0</td>\n",
       "      <td>11.000000</td>\n",
       "    </tr>\n",
       "    <tr>\n",
       "      <th>1435</th>\n",
       "      <td>Udine</td>\n",
       "      <td>358.0</td>\n",
       "      <td>40.933810</td>\n",
       "      <td>2.143333</td>\n",
       "      <td>0.000000</td>\n",
       "      <td>47.374286</td>\n",
       "      <td>16.708333</td>\n",
       "      <td>18.144671</td>\n",
       "      <td>47.0</td>\n",
       "      <td>2020.0</td>\n",
       "      <td>11.000000</td>\n",
       "    </tr>\n",
       "  </tbody>\n",
       "</table>\n",
       "<p>1436 rows × 11 columns</p>\n",
       "</div>"
      ],
      "text/plain": [
       "     provincia  time_idx  azoto_oraria_max  zolfo_giornaliera  \\\n",
       "0      Gorizia       0.0         28.006272           3.661250   \n",
       "1      Gorizia       1.0         45.018673           5.331905   \n",
       "2      Gorizia       2.0         45.632117           4.936048   \n",
       "3      Gorizia       3.0         44.446463           5.484762   \n",
       "4      Gorizia       4.0         30.148980           4.187143   \n",
       "...        ...       ...               ...                ...   \n",
       "1431     Udine     354.0         32.206987           3.108571   \n",
       "1432     Udine     355.0         35.572812           2.835714   \n",
       "1433     Udine     356.0         39.426567           1.990000   \n",
       "1434     Udine     357.0         41.356416           2.164286   \n",
       "1435     Udine     358.0         40.933810           2.143333   \n",
       "\n",
       "      carbonio_8h_max  ozono_8h_max  pm2dot5_giornaliera  pm10_giornaliera  \\\n",
       "0            0.651250     53.649062            16.647083         18.015583   \n",
       "1            0.845714     13.312857            40.959762         49.991549   \n",
       "2            0.648571     40.546714            22.282857         29.161928   \n",
       "3            0.679286     32.052524            14.080952         17.742073   \n",
       "4            0.526429     57.219524            14.944286         17.136072   \n",
       "...               ...           ...                  ...               ...   \n",
       "1431         0.000000     64.327466            29.528571         32.824346   \n",
       "1432         0.000000     49.331905            16.853571         19.789032   \n",
       "1433         0.000000     43.992847            20.578049         24.522095   \n",
       "1434         0.000000     43.834728            22.157143         22.998696   \n",
       "1435         0.000000     47.374286            16.708333         18.144671   \n",
       "\n",
       "      relative_time_w  relative_time_y  relative_time_m  \n",
       "0                 1.0           2014.0         5.125000  \n",
       "1                 2.0           2014.0         1.000000  \n",
       "2                 3.0           2014.0         1.000000  \n",
       "3                 4.0           2014.0         1.000000  \n",
       "4                 5.0           2014.0         1.285714  \n",
       "...               ...              ...              ...  \n",
       "1431             43.0           2020.0        10.000000  \n",
       "1432             44.0           2020.0        10.142857  \n",
       "1433             45.0           2020.0        11.000000  \n",
       "1434             46.0           2020.0        11.000000  \n",
       "1435             47.0           2020.0        11.000000  \n",
       "\n",
       "[1436 rows x 11 columns]"
      ]
     },
     "execution_count": 24,
     "metadata": {},
     "output_type": "execute_result"
    }
   ],
   "source": [
    "df_settimanale = dense_df.groupby(by=[\"provincia\",\"time_idx\"]).agg({\"azoto_oraria_max\":\"mean\", \"zolfo_giornaliera\":\"mean\", \"carbonio_8h_max\":\"mean\", \"ozono_8h_max\":\"mean\", \"pm2dot5_giornaliera\":\"mean\", \"pm10_giornaliera\":\"mean\", \"relative_time_w\":\"mean\",\"relative_time_y\":\"mean\", \"relative_time_m\":\"mean\"})\n",
    "df_settimanale = df_settimanale.reset_index()\n",
    "df_settimanale"
   ]
  },
  {
   "cell_type": "markdown",
   "metadata": {},
   "source": [
    "## Visualizzazione delle serie temporali"
   ]
  },
  {
   "cell_type": "code",
   "execution_count": 25,
   "metadata": {},
   "outputs": [
    {
     "data": {
      "application/vnd.plotly.v1+json": {
       "config": {
        "plotlyServerURL": "https://plot.ly"
       },
       "data": [
        {
         "hovertemplate": "time_idx=%{x}<br>pm10_giornaliera=%{y}<extra></extra>",
         "legendgroup": "",
         "line": {
          "color": "#636efa",
          "dash": "solid"
         },
         "marker": {
          "symbol": "circle"
         },
         "mode": "lines",
         "name": "",
         "orientation": "v",
         "showlegend": false,
         "type": "scatter",
         "x": [
          0,
          1,
          2,
          3,
          4,
          5,
          6,
          7,
          8,
          9,
          10,
          11,
          12,
          13,
          14,
          15,
          16,
          17,
          18,
          19,
          20,
          21,
          22,
          23,
          24,
          25,
          26,
          27,
          28,
          29,
          30,
          31,
          32,
          33,
          34,
          35,
          36,
          37,
          38,
          39,
          40,
          41,
          42,
          43,
          44,
          45,
          46,
          47,
          48,
          49,
          50,
          51,
          52,
          53,
          54,
          55,
          56,
          57,
          58,
          59,
          60,
          61,
          62,
          63,
          64,
          65,
          66,
          67,
          68,
          69,
          70,
          71,
          72,
          73,
          74,
          75,
          76,
          77,
          78,
          79,
          80,
          81,
          82,
          83,
          84,
          85,
          86,
          87,
          88,
          89,
          90,
          91,
          92,
          93,
          94,
          95,
          96,
          97,
          98,
          99,
          100,
          101,
          102,
          103,
          104,
          105,
          106,
          107,
          108,
          109,
          110,
          111,
          112,
          113,
          114,
          115,
          116,
          117,
          118,
          119,
          120,
          121,
          122,
          123,
          124,
          125,
          126,
          127,
          128,
          129,
          130,
          131,
          132,
          133,
          134,
          135,
          136,
          137,
          138,
          139,
          140,
          141,
          142,
          143,
          144,
          145,
          146,
          147,
          148,
          149,
          150,
          151,
          152,
          153,
          154,
          155,
          156,
          157,
          158,
          159,
          160,
          161,
          162,
          163,
          164,
          165,
          166,
          167,
          168,
          169,
          170,
          171,
          172,
          173,
          174,
          175,
          176,
          177,
          178,
          179,
          180,
          181,
          182,
          183,
          184,
          185,
          186,
          187,
          188,
          189,
          190,
          191,
          192,
          193,
          194,
          195,
          196,
          197,
          198,
          199,
          200,
          201,
          202,
          203,
          204,
          205,
          206,
          207,
          208,
          209,
          210,
          211,
          212,
          213,
          214,
          215,
          216,
          217,
          218,
          219,
          220,
          221,
          222,
          223,
          224,
          225,
          226,
          227,
          228,
          229,
          230,
          231,
          232,
          233,
          234,
          235,
          236,
          237,
          238,
          239,
          240,
          241,
          242,
          243,
          244,
          245,
          246,
          247,
          248,
          249,
          250,
          251,
          252,
          253,
          254,
          255,
          256,
          257,
          258,
          259,
          260,
          261,
          262,
          263,
          264,
          265,
          266,
          267,
          268,
          269,
          270,
          271,
          272,
          273,
          274,
          275,
          276,
          277,
          278,
          279,
          280,
          281,
          282,
          283,
          284,
          285,
          286,
          287,
          288,
          289,
          290,
          291,
          292,
          293,
          294,
          295,
          296,
          297,
          298,
          299,
          300,
          301,
          302,
          303,
          304,
          305,
          306,
          307,
          308,
          309,
          310,
          311,
          312,
          313,
          314,
          315,
          316,
          317,
          318,
          319,
          320,
          321,
          322,
          323,
          324,
          325,
          326,
          327,
          328,
          329,
          330,
          331,
          332,
          333,
          334,
          335,
          336,
          337,
          338,
          339,
          340,
          341,
          342,
          343,
          344,
          345,
          346,
          347,
          348,
          349,
          350,
          351,
          352,
          353,
          354,
          355,
          356,
          357,
          358
         ],
         "xaxis": "x",
         "y": [
          18.015583095238096,
          49.991548849206346,
          29.16192816326531,
          17.742073341836736,
          17.136072244897957,
          15.285696096938777,
          13.221038214285715,
          16.79493066326531,
          17.094622704081633,
          20.821675,
          37.51484989795919,
          36.05528147959184,
          14.351835663265307,
          29.75786656462585,
          13.273109659863946,
          9.372385340136054,
          10.417772210884353,
          12.157357040816326,
          10.861536489795919,
          6.136168775510204,
          17.678624727891158,
          9.029625891156462,
          13.536007006802722,
          15.08207738095238,
          12.640167721088435,
          12.604860510204082,
          9.758923265306123,
          8.62561081632653,
          13.586683061224491,
          11.747966734693877,
          11.269542231292517,
          12.256903877551022,
          10.353641972789116,
          8.252009659863946,
          10.117856326530612,
          14.679966734693878,
          13.43999431972789,
          17.139229149659865,
          13.879804238095238,
          16.229753265306123,
          21.660663367346938,
          17.27029308163265,
          14.216808741496598,
          18.47151431972789,
          18.41434530612245,
          18.039957346938774,
          14.934661836734694,
          20.539001040816327,
          8.512181632653062,
          27.499677755102038,
          30.61862180272109,
          34.295165408163264,
          29.242677166666667,
          40.653299387755105,
          35.06737262244898,
          16.43801142857143,
          15.418028333333334,
          14.273855204081633,
          26.004084068027215,
          35.804989047619046,
          14.88941755102041,
          10.541170986394558,
          24.718438741496602,
          31.571561496598637,
          21.60596210884354,
          11.702964238095237,
          17.113874591836737,
          17.289519965986393,
          18.530526578231292,
          14.131849591836735,
          13.785144285714287,
          11.637264081632653,
          11.337315102040815,
          10.655216653061226,
          18.281171020408163,
          23.083265836734693,
          10.74032404761905,
          8.36839319727891,
          16.46973680272109,
          17.770176836734695,
          19.74327469387755,
          19.992886496598636,
          10.005698979591838,
          25.937860782312924,
          24.54483551020408,
          12.007685272108843,
          14.828016142857141,
          14.154836285714286,
          11.0355926292517,
          22.801073333333335,
          9.280132959183675,
          10.671802176870747,
          7.3242128809523805,
          8.414835523809524,
          12.143702517006803,
          18.446699591836733,
          36.381724142857145,
          36.50853081632653,
          33.55005850340136,
          16.89132999319728,
          52.711422346938775,
          36.04391800680272,
          41.431636292517005,
          50.51882573469387,
          25.90102668831169,
          19.24763931972789,
          29.030458724489794,
          95.42508445578231,
          35.20480448979592,
          15.650714387755102,
          14.390015646258503,
          14.889365047619048,
          11.184854081632652,
          11.104806727891157,
          23.231189285714283,
          16.896866836734695,
          19.591411292517005,
          19.050213979591835,
          14.308836428571428,
          13.686795918367347,
          8.124785823129253,
          10.250294523809524,
          9.886541904761904,
          9.423877959183674,
          13.441527265306123,
          8.770451163265307,
          11.36984548979592,
          9.575377748299319,
          20.157118707482994,
          11.77447238095238,
          12.232381904761905,
          13.752625476190476,
          14.15236676190476,
          11.483910722222221,
          8.637402047619048,
          9.26779836734694,
          10.375700306122448,
          12.479625476190478,
          14.862016360544219,
          16.473666408163265,
          20.42335930952381,
          9.865235459183674,
          16.28623918367347,
          6.880120367346939,
          10.64048612244898,
          9.383840714285713,
          14.218204795918368,
          20.23380714285714,
          10.891803843537415,
          26.968783673469385,
          21.62138972789116,
          18.484926367346937,
          34.54361380952381,
          26.97210551020408,
          19.315815680272106,
          18.80480765873016,
          22.05120414285714,
          25.118555714285716,
          13.369516340136057,
          30.141861462585037,
          36.19708265306123,
          14.04527469387755,
          29.42734836734694,
          32.86788568027211,
          15.588124285714285,
          9.553220408163266,
          35.22055367346939,
          21.50918442176871,
          15.889049551020408,
          13.506990272108842,
          10.219828163265305,
          7.818204285714286,
          13.565396836734694,
          7.830420510204081,
          12.87502448979592,
          10.353351020408164,
          11.876593265306123,
          17.196499591836734,
          9.660195544217686,
          14.338456972789116,
          17.187095340136054,
          9.407836013605444,
          11.89606700680272,
          9.690135,
          16.21979979591837,
          9.42090581632653,
          22.36138336734694,
          11.951377068027211,
          11.324549166666667,
          15.369811265306122,
          11.262669693877552,
          8.198633557823129,
          7.579632040816327,
          9.7331031292517,
          18.653410204081634,
          21.42455107482993,
          20.72094843537415,
          40.115717687074834,
          16.809367210884353,
          16.54368425170068,
          15.76965838095238,
          9.86712268707483,
          36.903768163265305,
          9.697275510204081,
          31.386954897959185,
          12.671642346938777,
          23.30447418367347,
          28.16454625,
          26.40657830357143,
          13.431741258503402,
          21.34097404761905,
          30.480739972789113,
          22.154517517006802,
          16.006503816326532,
          20.707145340136055,
          12.261293265306122,
          27.769463265306122,
          18.935768965986394,
          9.16886149659864,
          15.328361448979592,
          18.22799486394558,
          11.514370340136054,
          14.794386666666668,
          20.18651186394558,
          19.97043527210884,
          16.643692891156462,
          14.207926040816327,
          8.878354285714286,
          15.282081673469389,
          21.506890408163265,
          16.523296040816327,
          13.834329877551019,
          11.109013979591836,
          9.0404457414966,
          12.430036564625851,
          10.590905510204081,
          13.76803081632653,
          13.774894013605442,
          17.42649493197279,
          18.230562904761904,
          11.996790238095238,
          15.9637768707483,
          9.18602393537415,
          12.139893795918367,
          18.709303265306122,
          19.062833469387755,
          10.670876408163265,
          11.217445,
          29.08829775510204,
          30.1819399659864,
          17.30395095238095,
          15.28210100340136,
          17.59314387755102,
          15.926464897959184,
          10.636562340136054,
          16.678012578231293,
          23.910953149659864,
          16.22049856462585,
          25.06684332653061,
          26.466780816326526,
          20.865619232142855,
          23.394940238095238,
          20.026495918367345,
          21.025054285714283,
          11.333629727891156,
          21.263650510204084,
          24.95190561904762,
          56.03696537414966,
          33.655603367346934,
          27.389144795918366,
          15.368625714285713,
          12.923313843537414,
          12.576380108843537,
          15.82590393877551,
          14.757305714285716,
          15.906072585034014,
          26.652428278911565,
          9.376502707482993,
          7.4243652380952385,
          7.0761730952380955,
          10.209508503401361,
          7.480442210884354,
          17.294060605442176,
          27.17933897959184,
          15.518465326530613,
          18.329070557823133,
          16.185739285714284,
          9.236464646258502,
          13.122217074829933,
          16.21183457142857,
          11.385585333333335,
          18.141131857142856,
          9.284461190476192,
          14.87387638095238,
          24.33077104761905,
          9.604194918367346,
          10.300676394557824,
          11.50408824489796,
          10.755630612244898,
          9.177373006802721,
          15.882085149659863,
          22.65311919047619,
          22.960593775510205,
          12.986542653061225,
          8.898480204081633,
          8.077718163265306,
          11.846770408163266,
          14.592452680272109,
          22.22924917687075,
          15.791241768707481,
          20.992263095238094,
          13.30604637414966,
          27.309892952380956,
          29.974049387755098,
          35.71124551020408,
          27.503294659863943,
          47.99603734693877,
          30.293909591836734,
          28.038510952380953,
          20.17259132653061,
          18.081362653061227,
          9.433685,
          17.605994336734692,
          17.419233095238095,
          60.11177326530612,
          15.337683673469387,
          21.08970306122449,
          15.605733469387756,
          17.628835918367347,
          8.249368911564627,
          10.09482861904762,
          14.410258571428571,
          11.743318843537415,
          7.65497037414966,
          9.382599115646258,
          7.3823072142857145,
          9.28341788435374,
          12.824783578231292,
          11.03059425170068,
          11.242356632653062,
          8.33864925170068,
          10.6613631292517,
          17.500227278911563,
          13.112879217687075,
          16.359817,
          10.943411857142857,
          13.689184353741497,
          9.064584857142858,
          16.226274571428572,
          19.30015836734694,
          9.554000408163265,
          12.48857081632653,
          11.380059047619048,
          7.332381020408164,
          24.242814081632652,
          19.55139489795918,
          24.21218823809524,
          21.852483673469386,
          13.160392111111113
         ],
         "yaxis": "y"
        }
       ],
       "layout": {
        "legend": {
         "tracegroupgap": 0
        },
        "template": {
         "data": {
          "bar": [
           {
            "error_x": {
             "color": "#2a3f5f"
            },
            "error_y": {
             "color": "#2a3f5f"
            },
            "marker": {
             "line": {
              "color": "#E5ECF6",
              "width": 0.5
             },
             "pattern": {
              "fillmode": "overlay",
              "size": 10,
              "solidity": 0.2
             }
            },
            "type": "bar"
           }
          ],
          "barpolar": [
           {
            "marker": {
             "line": {
              "color": "#E5ECF6",
              "width": 0.5
             },
             "pattern": {
              "fillmode": "overlay",
              "size": 10,
              "solidity": 0.2
             }
            },
            "type": "barpolar"
           }
          ],
          "carpet": [
           {
            "aaxis": {
             "endlinecolor": "#2a3f5f",
             "gridcolor": "white",
             "linecolor": "white",
             "minorgridcolor": "white",
             "startlinecolor": "#2a3f5f"
            },
            "baxis": {
             "endlinecolor": "#2a3f5f",
             "gridcolor": "white",
             "linecolor": "white",
             "minorgridcolor": "white",
             "startlinecolor": "#2a3f5f"
            },
            "type": "carpet"
           }
          ],
          "choropleth": [
           {
            "colorbar": {
             "outlinewidth": 0,
             "ticks": ""
            },
            "type": "choropleth"
           }
          ],
          "contour": [
           {
            "colorbar": {
             "outlinewidth": 0,
             "ticks": ""
            },
            "colorscale": [
             [
              0,
              "#0d0887"
             ],
             [
              0.1111111111111111,
              "#46039f"
             ],
             [
              0.2222222222222222,
              "#7201a8"
             ],
             [
              0.3333333333333333,
              "#9c179e"
             ],
             [
              0.4444444444444444,
              "#bd3786"
             ],
             [
              0.5555555555555556,
              "#d8576b"
             ],
             [
              0.6666666666666666,
              "#ed7953"
             ],
             [
              0.7777777777777778,
              "#fb9f3a"
             ],
             [
              0.8888888888888888,
              "#fdca26"
             ],
             [
              1,
              "#f0f921"
             ]
            ],
            "type": "contour"
           }
          ],
          "contourcarpet": [
           {
            "colorbar": {
             "outlinewidth": 0,
             "ticks": ""
            },
            "type": "contourcarpet"
           }
          ],
          "heatmap": [
           {
            "colorbar": {
             "outlinewidth": 0,
             "ticks": ""
            },
            "colorscale": [
             [
              0,
              "#0d0887"
             ],
             [
              0.1111111111111111,
              "#46039f"
             ],
             [
              0.2222222222222222,
              "#7201a8"
             ],
             [
              0.3333333333333333,
              "#9c179e"
             ],
             [
              0.4444444444444444,
              "#bd3786"
             ],
             [
              0.5555555555555556,
              "#d8576b"
             ],
             [
              0.6666666666666666,
              "#ed7953"
             ],
             [
              0.7777777777777778,
              "#fb9f3a"
             ],
             [
              0.8888888888888888,
              "#fdca26"
             ],
             [
              1,
              "#f0f921"
             ]
            ],
            "type": "heatmap"
           }
          ],
          "heatmapgl": [
           {
            "colorbar": {
             "outlinewidth": 0,
             "ticks": ""
            },
            "colorscale": [
             [
              0,
              "#0d0887"
             ],
             [
              0.1111111111111111,
              "#46039f"
             ],
             [
              0.2222222222222222,
              "#7201a8"
             ],
             [
              0.3333333333333333,
              "#9c179e"
             ],
             [
              0.4444444444444444,
              "#bd3786"
             ],
             [
              0.5555555555555556,
              "#d8576b"
             ],
             [
              0.6666666666666666,
              "#ed7953"
             ],
             [
              0.7777777777777778,
              "#fb9f3a"
             ],
             [
              0.8888888888888888,
              "#fdca26"
             ],
             [
              1,
              "#f0f921"
             ]
            ],
            "type": "heatmapgl"
           }
          ],
          "histogram": [
           {
            "marker": {
             "pattern": {
              "fillmode": "overlay",
              "size": 10,
              "solidity": 0.2
             }
            },
            "type": "histogram"
           }
          ],
          "histogram2d": [
           {
            "colorbar": {
             "outlinewidth": 0,
             "ticks": ""
            },
            "colorscale": [
             [
              0,
              "#0d0887"
             ],
             [
              0.1111111111111111,
              "#46039f"
             ],
             [
              0.2222222222222222,
              "#7201a8"
             ],
             [
              0.3333333333333333,
              "#9c179e"
             ],
             [
              0.4444444444444444,
              "#bd3786"
             ],
             [
              0.5555555555555556,
              "#d8576b"
             ],
             [
              0.6666666666666666,
              "#ed7953"
             ],
             [
              0.7777777777777778,
              "#fb9f3a"
             ],
             [
              0.8888888888888888,
              "#fdca26"
             ],
             [
              1,
              "#f0f921"
             ]
            ],
            "type": "histogram2d"
           }
          ],
          "histogram2dcontour": [
           {
            "colorbar": {
             "outlinewidth": 0,
             "ticks": ""
            },
            "colorscale": [
             [
              0,
              "#0d0887"
             ],
             [
              0.1111111111111111,
              "#46039f"
             ],
             [
              0.2222222222222222,
              "#7201a8"
             ],
             [
              0.3333333333333333,
              "#9c179e"
             ],
             [
              0.4444444444444444,
              "#bd3786"
             ],
             [
              0.5555555555555556,
              "#d8576b"
             ],
             [
              0.6666666666666666,
              "#ed7953"
             ],
             [
              0.7777777777777778,
              "#fb9f3a"
             ],
             [
              0.8888888888888888,
              "#fdca26"
             ],
             [
              1,
              "#f0f921"
             ]
            ],
            "type": "histogram2dcontour"
           }
          ],
          "mesh3d": [
           {
            "colorbar": {
             "outlinewidth": 0,
             "ticks": ""
            },
            "type": "mesh3d"
           }
          ],
          "parcoords": [
           {
            "line": {
             "colorbar": {
              "outlinewidth": 0,
              "ticks": ""
             }
            },
            "type": "parcoords"
           }
          ],
          "pie": [
           {
            "automargin": true,
            "type": "pie"
           }
          ],
          "scatter": [
           {
            "marker": {
             "colorbar": {
              "outlinewidth": 0,
              "ticks": ""
             }
            },
            "type": "scatter"
           }
          ],
          "scatter3d": [
           {
            "line": {
             "colorbar": {
              "outlinewidth": 0,
              "ticks": ""
             }
            },
            "marker": {
             "colorbar": {
              "outlinewidth": 0,
              "ticks": ""
             }
            },
            "type": "scatter3d"
           }
          ],
          "scattercarpet": [
           {
            "marker": {
             "colorbar": {
              "outlinewidth": 0,
              "ticks": ""
             }
            },
            "type": "scattercarpet"
           }
          ],
          "scattergeo": [
           {
            "marker": {
             "colorbar": {
              "outlinewidth": 0,
              "ticks": ""
             }
            },
            "type": "scattergeo"
           }
          ],
          "scattergl": [
           {
            "marker": {
             "colorbar": {
              "outlinewidth": 0,
              "ticks": ""
             }
            },
            "type": "scattergl"
           }
          ],
          "scattermapbox": [
           {
            "marker": {
             "colorbar": {
              "outlinewidth": 0,
              "ticks": ""
             }
            },
            "type": "scattermapbox"
           }
          ],
          "scatterpolar": [
           {
            "marker": {
             "colorbar": {
              "outlinewidth": 0,
              "ticks": ""
             }
            },
            "type": "scatterpolar"
           }
          ],
          "scatterpolargl": [
           {
            "marker": {
             "colorbar": {
              "outlinewidth": 0,
              "ticks": ""
             }
            },
            "type": "scatterpolargl"
           }
          ],
          "scatterternary": [
           {
            "marker": {
             "colorbar": {
              "outlinewidth": 0,
              "ticks": ""
             }
            },
            "type": "scatterternary"
           }
          ],
          "surface": [
           {
            "colorbar": {
             "outlinewidth": 0,
             "ticks": ""
            },
            "colorscale": [
             [
              0,
              "#0d0887"
             ],
             [
              0.1111111111111111,
              "#46039f"
             ],
             [
              0.2222222222222222,
              "#7201a8"
             ],
             [
              0.3333333333333333,
              "#9c179e"
             ],
             [
              0.4444444444444444,
              "#bd3786"
             ],
             [
              0.5555555555555556,
              "#d8576b"
             ],
             [
              0.6666666666666666,
              "#ed7953"
             ],
             [
              0.7777777777777778,
              "#fb9f3a"
             ],
             [
              0.8888888888888888,
              "#fdca26"
             ],
             [
              1,
              "#f0f921"
             ]
            ],
            "type": "surface"
           }
          ],
          "table": [
           {
            "cells": {
             "fill": {
              "color": "#EBF0F8"
             },
             "line": {
              "color": "white"
             }
            },
            "header": {
             "fill": {
              "color": "#C8D4E3"
             },
             "line": {
              "color": "white"
             }
            },
            "type": "table"
           }
          ]
         },
         "layout": {
          "annotationdefaults": {
           "arrowcolor": "#2a3f5f",
           "arrowhead": 0,
           "arrowwidth": 1
          },
          "autotypenumbers": "strict",
          "coloraxis": {
           "colorbar": {
            "outlinewidth": 0,
            "ticks": ""
           }
          },
          "colorscale": {
           "diverging": [
            [
             0,
             "#8e0152"
            ],
            [
             0.1,
             "#c51b7d"
            ],
            [
             0.2,
             "#de77ae"
            ],
            [
             0.3,
             "#f1b6da"
            ],
            [
             0.4,
             "#fde0ef"
            ],
            [
             0.5,
             "#f7f7f7"
            ],
            [
             0.6,
             "#e6f5d0"
            ],
            [
             0.7,
             "#b8e186"
            ],
            [
             0.8,
             "#7fbc41"
            ],
            [
             0.9,
             "#4d9221"
            ],
            [
             1,
             "#276419"
            ]
           ],
           "sequential": [
            [
             0,
             "#0d0887"
            ],
            [
             0.1111111111111111,
             "#46039f"
            ],
            [
             0.2222222222222222,
             "#7201a8"
            ],
            [
             0.3333333333333333,
             "#9c179e"
            ],
            [
             0.4444444444444444,
             "#bd3786"
            ],
            [
             0.5555555555555556,
             "#d8576b"
            ],
            [
             0.6666666666666666,
             "#ed7953"
            ],
            [
             0.7777777777777778,
             "#fb9f3a"
            ],
            [
             0.8888888888888888,
             "#fdca26"
            ],
            [
             1,
             "#f0f921"
            ]
           ],
           "sequentialminus": [
            [
             0,
             "#0d0887"
            ],
            [
             0.1111111111111111,
             "#46039f"
            ],
            [
             0.2222222222222222,
             "#7201a8"
            ],
            [
             0.3333333333333333,
             "#9c179e"
            ],
            [
             0.4444444444444444,
             "#bd3786"
            ],
            [
             0.5555555555555556,
             "#d8576b"
            ],
            [
             0.6666666666666666,
             "#ed7953"
            ],
            [
             0.7777777777777778,
             "#fb9f3a"
            ],
            [
             0.8888888888888888,
             "#fdca26"
            ],
            [
             1,
             "#f0f921"
            ]
           ]
          },
          "colorway": [
           "#636efa",
           "#EF553B",
           "#00cc96",
           "#ab63fa",
           "#FFA15A",
           "#19d3f3",
           "#FF6692",
           "#B6E880",
           "#FF97FF",
           "#FECB52"
          ],
          "font": {
           "color": "#2a3f5f"
          },
          "geo": {
           "bgcolor": "white",
           "lakecolor": "white",
           "landcolor": "#E5ECF6",
           "showlakes": true,
           "showland": true,
           "subunitcolor": "white"
          },
          "hoverlabel": {
           "align": "left"
          },
          "hovermode": "closest",
          "mapbox": {
           "style": "light"
          },
          "paper_bgcolor": "white",
          "plot_bgcolor": "#E5ECF6",
          "polar": {
           "angularaxis": {
            "gridcolor": "white",
            "linecolor": "white",
            "ticks": ""
           },
           "bgcolor": "#E5ECF6",
           "radialaxis": {
            "gridcolor": "white",
            "linecolor": "white",
            "ticks": ""
           }
          },
          "scene": {
           "xaxis": {
            "backgroundcolor": "#E5ECF6",
            "gridcolor": "white",
            "gridwidth": 2,
            "linecolor": "white",
            "showbackground": true,
            "ticks": "",
            "zerolinecolor": "white"
           },
           "yaxis": {
            "backgroundcolor": "#E5ECF6",
            "gridcolor": "white",
            "gridwidth": 2,
            "linecolor": "white",
            "showbackground": true,
            "ticks": "",
            "zerolinecolor": "white"
           },
           "zaxis": {
            "backgroundcolor": "#E5ECF6",
            "gridcolor": "white",
            "gridwidth": 2,
            "linecolor": "white",
            "showbackground": true,
            "ticks": "",
            "zerolinecolor": "white"
           }
          },
          "shapedefaults": {
           "line": {
            "color": "#2a3f5f"
           }
          },
          "ternary": {
           "aaxis": {
            "gridcolor": "white",
            "linecolor": "white",
            "ticks": ""
           },
           "baxis": {
            "gridcolor": "white",
            "linecolor": "white",
            "ticks": ""
           },
           "bgcolor": "#E5ECF6",
           "caxis": {
            "gridcolor": "white",
            "linecolor": "white",
            "ticks": ""
           }
          },
          "title": {
           "x": 0.05
          },
          "xaxis": {
           "automargin": true,
           "gridcolor": "white",
           "linecolor": "white",
           "ticks": "",
           "title": {
            "standoff": 15
           },
           "zerolinecolor": "white",
           "zerolinewidth": 2
          },
          "yaxis": {
           "automargin": true,
           "gridcolor": "white",
           "linecolor": "white",
           "ticks": "",
           "title": {
            "standoff": 15
           },
           "zerolinecolor": "white",
           "zerolinewidth": 2
          }
         }
        },
        "title": {
         "text": "Provincia: Gorizia"
        },
        "xaxis": {
         "anchor": "y",
         "domain": [
          0,
          1
         ],
         "title": {
          "text": "time_idx"
         }
        },
        "yaxis": {
         "anchor": "x",
         "domain": [
          0,
          1
         ],
         "title": {
          "text": "pm10_giornaliera"
         }
        }
       }
      }
     },
     "metadata": {},
     "output_type": "display_data"
    },
    {
     "data": {
      "application/vnd.plotly.v1+json": {
       "config": {
        "plotlyServerURL": "https://plot.ly"
       },
       "data": [
        {
         "hovertemplate": "time_idx=%{x}<br>pm10_giornaliera=%{y}<extra></extra>",
         "legendgroup": "",
         "line": {
          "color": "#636efa",
          "dash": "solid"
         },
         "marker": {
          "symbol": "circle"
         },
         "mode": "lines",
         "name": "",
         "orientation": "v",
         "showlegend": false,
         "type": "scatter",
         "x": [
          0,
          1,
          2,
          3,
          4,
          5,
          6,
          7,
          8,
          9,
          10,
          11,
          12,
          13,
          14,
          15,
          16,
          17,
          18,
          19,
          20,
          21,
          22,
          23,
          24,
          25,
          26,
          27,
          28,
          29,
          30,
          31,
          32,
          33,
          34,
          35,
          36,
          37,
          38,
          39,
          40,
          41,
          42,
          43,
          44,
          45,
          46,
          47,
          48,
          49,
          50,
          51,
          52,
          53,
          54,
          55,
          56,
          57,
          58,
          59,
          60,
          61,
          62,
          63,
          64,
          65,
          66,
          67,
          68,
          69,
          70,
          71,
          72,
          73,
          74,
          75,
          76,
          77,
          78,
          79,
          80,
          81,
          82,
          83,
          84,
          85,
          86,
          87,
          88,
          89,
          90,
          91,
          92,
          93,
          94,
          95,
          96,
          97,
          98,
          99,
          100,
          101,
          102,
          103,
          104,
          105,
          106,
          107,
          108,
          109,
          110,
          111,
          112,
          113,
          114,
          115,
          116,
          117,
          118,
          119,
          120,
          121,
          122,
          123,
          124,
          125,
          126,
          127,
          128,
          129,
          130,
          131,
          132,
          133,
          134,
          135,
          136,
          137,
          138,
          139,
          140,
          141,
          142,
          143,
          144,
          145,
          146,
          147,
          148,
          149,
          150,
          151,
          152,
          153,
          154,
          155,
          156,
          157,
          158,
          159,
          160,
          161,
          162,
          163,
          164,
          165,
          166,
          167,
          168,
          169,
          170,
          171,
          172,
          173,
          174,
          175,
          176,
          177,
          178,
          179,
          180,
          181,
          182,
          183,
          184,
          185,
          186,
          187,
          188,
          189,
          190,
          191,
          192,
          193,
          194,
          195,
          196,
          197,
          198,
          199,
          200,
          201,
          202,
          203,
          204,
          205,
          206,
          207,
          208,
          209,
          210,
          211,
          212,
          213,
          214,
          215,
          216,
          217,
          218,
          219,
          220,
          221,
          222,
          223,
          224,
          225,
          226,
          227,
          228,
          229,
          230,
          231,
          232,
          233,
          234,
          235,
          236,
          237,
          238,
          239,
          240,
          241,
          242,
          243,
          244,
          245,
          246,
          247,
          248,
          249,
          250,
          251,
          252,
          253,
          254,
          255,
          256,
          257,
          258,
          259,
          260,
          261,
          262,
          263,
          264,
          265,
          266,
          267,
          268,
          269,
          270,
          271,
          272,
          273,
          274,
          275,
          276,
          277,
          278,
          279,
          280,
          281,
          282,
          283,
          284,
          285,
          286,
          287,
          288,
          289,
          290,
          291,
          292,
          293,
          294,
          295,
          296,
          297,
          298,
          299,
          300,
          301,
          302,
          303,
          304,
          305,
          306,
          307,
          308,
          309,
          310,
          311,
          312,
          313,
          314,
          315,
          316,
          317,
          318,
          319,
          320,
          321,
          322,
          323,
          324,
          325,
          326,
          327,
          328,
          329,
          330,
          331,
          332,
          333,
          334,
          335,
          336,
          337,
          338,
          339,
          340,
          341,
          342,
          343,
          344,
          345,
          346,
          347,
          348,
          349,
          350,
          351,
          352,
          353,
          354,
          355,
          356,
          357,
          358
         ],
         "xaxis": "x",
         "y": [
          28.248136458333335,
          61.991488476190476,
          33.73083704761905,
          26.79890019047619,
          18.917716095238095,
          19.187346666666667,
          21.52714542857143,
          18.93293614285714,
          22.582055,
          28.034736904761903,
          47.51966119047619,
          48.372769285714284,
          15.875268333333334,
          35.93951152380952,
          19.91128580952381,
          13.528160714285715,
          14.207879285714286,
          12.183530285714285,
          16.070177761904763,
          8.205986571428571,
          18.072279238095238,
          11.334761095238095,
          17.700615142857142,
          15.388079428571428,
          12.35927180952381,
          11.807239214285714,
          9.605887142857142,
          9.000648214285714,
          12.301728928571427,
          10.966707142857144,
          11.334806642857144,
          13.961134285714285,
          9.208891142857142,
          8.404312,
          10.10158057142857,
          14.16693542857143,
          13.183927642857142,
          22.11873514285714,
          18.942991142857142,
          20.934990285714285,
          26.597939142857143,
          29.77047207142857,
          29.864229714285717,
          31.943665785714284,
          27.995759857142854,
          17.532145142857143,
          27.369221285714286,
          31.105679642857144,
          14.376573714285716,
          41.81865142857142,
          41.37411542857143,
          43.383073214285716,
          45.7725785,
          62.917848285714285,
          47.02793035714286,
          33.39711114285714,
          32.969959714285714,
          28.410596857142856,
          41.13852742857143,
          51.36661371428572,
          26.984502285714285,
          26.282290857142858,
          37.84087771428572,
          37.95192142857143,
          21.286205714285718,
          18.526095142857145,
          28.578126285714287,
          24.867665142857142,
          25.383621714285713,
          15.523194571428572,
          17.061277999999998,
          13.84182742857143,
          13.928626,
          15.3938995,
          23.817494285714286,
          25.587006285714285,
          12.836752357142856,
          11.197263214285714,
          20.29631792857143,
          20.607297642857144,
          25.561932285714285,
          22.957879571428574,
          11.788475928571428,
          22.861249714285716,
          25.581119047619048,
          11.4773615,
          17.241784285714285,
          18.39764057142857,
          15.709466857142857,
          25.124341214285714,
          13.615835714285714,
          12.734789642857143,
          12.876323214285716,
          11.173730714285714,
          24.34277321428571,
          24.607570833333334,
          51.14146952380952,
          48.494905714285714,
          48.897462857142855,
          33.39701,
          74.25847999999999,
          61.65537428571429,
          72.16101007142858,
          65.191974,
          56.081925999999996,
          34.82528114285714,
          55.511875999999994,
          120.58482571428571,
          54.370418571428566,
          23.92557464285714,
          19.952052285714284,
          27.595145142857145,
          15.537067238095236,
          16.7297745,
          35.87619685714286,
          29.538914000000002,
          31.080108,
          25.210118571428573,
          20.856821928571428,
          18.663206714285714,
          10.305885714285713,
          13.35434657142857,
          12.976220571428572,
          12.101346642857143,
          19.99515021428571,
          10.945045642857142,
          15.045398857142857,
          13.4140565,
          23.359077142857142,
          15.757174285714285,
          16.034682571428572,
          15.904712,
          20.634244,
          14.286702666666665,
          12.122762428571429,
          11.527218857142858,
          13.285059428571428,
          15.866000857142856,
          20.42605514285714,
          19.633438857142856,
          25.25035557142857,
          14.719525785714286,
          25.544180857142855,
          12.364852857142859,
          17.995225714285716,
          16.576801904761904,
          24.780109500000002,
          30.18333907142857,
          21.10057857142857,
          41.664447142857135,
          31.008059142857146,
          33.68670485714286,
          60.03788600000001,
          54.01058085714286,
          50.04372371428571,
          46.499236499999995,
          47.7490112,
          41.93641485714286,
          25.408451714285714,
          53.875417142857145,
          67.573583,
          26.025637142857143,
          48.19637,
          50.482366000000006,
          27.528164071428574,
          19.718831428571427,
          58.274346571428566,
          36.905338500000006,
          25.994328285714285,
          22.109004285714285,
          16.811434,
          13.810457142857143,
          17.317137142857142,
          11.94318142857143,
          17.21411619047619,
          13.45310142857143,
          16.964984285714287,
          22.232683357142857,
          13.816811,
          22.076366285714283,
          25.563863785714286,
          11.214472642857142,
          14.502994000000001,
          12.748915738095237,
          22.751228357142857,
          11.596919714285715,
          23.547120857142858,
          13.740242357142858,
          13.07272942857143,
          18.594098738095237,
          14.652141428571428,
          11.347204571428572,
          8.85368707142857,
          14.25358507142857,
          22.34763607142857,
          36.74574914285715,
          40.007262000000004,
          55.501982428571424,
          29.284240571428573,
          34.48919178571428,
          21.601593714285713,
          21.773312857142855,
          51.872816857142865,
          22.240277142857142,
          52.65040114285714,
          27.524370857142856,
          49.95155657142857,
          38.9214874375,
          48.5554355625,
          24.739415714285713,
          35.96076519047619,
          59.83397478571429,
          36.76854607142857,
          31.441401857142857,
          38.20728514285714,
          21.094150928571427,
          43.13984742857143,
          33.34092614285714,
          15.982951428571427,
          27.243204357142854,
          30.74900442857143,
          18.86582064285714,
          15.845380857142857,
          26.902582142857145,
          27.153622285714285,
          19.687666500000002,
          17.114072214285716,
          11.226094,
          15.386377428571427,
          26.27397085714286,
          21.861468,
          16.14845257142857,
          14.99767857142857,
          13.543345595238096,
          14.503133,
          12.871797428571428,
          14.156301928571427,
          18.349531285714285,
          23.833155357142857,
          22.50236335714286,
          13.779725428571428,
          19.345515357142858,
          12.272323285714288,
          14.762176857142858,
          25.713882571428574,
          23.493916285714285,
          15.595937857142857,
          12.574666142857142,
          31.347200571428573,
          33.577003857142856,
          28.96301107142857,
          16.999310285714284,
          24.763769071428573,
          29.477858547619046,
          22.351855285714286,
          33.31519114285714,
          39.162586,
          35.12994114285714,
          44.01245290476191,
          54.32435007142857,
          49.984175,
          50.954299428571424,
          35.559501714285716,
          35.0518265,
          23.028792000000003,
          41.44461742857142,
          47.280803999999996,
          82.6536504047619,
          59.940339571428574,
          41.88048285714286,
          33.1892945,
          21.468372,
          21.734015357142855,
          23.554053214285716,
          20.84796057142857,
          21.609173714285713,
          25.048921428571425,
          10.936438857142857,
          12.174934214285715,
          9.224504571428572,
          13.720302571428572,
          9.329633714285714,
          25.175266285714287,
          34.39943342857143,
          20.277276285714287,
          27.240966285714286,
          21.559496285714285,
          12.196126571428573,
          16.200339142857143,
          19.730031142857143,
          13.977612904761903,
          18.804502000000003,
          12.106988333333334,
          17.139135785714284,
          26.250340214285718,
          12.956490857142857,
          13.039305285714287,
          18.42174,
          14.683345142857144,
          15.205028214285715,
          26.175919785714285,
          40.695985071428574,
          30.66609342857143,
          18.157623714285712,
          15.305075142857143,
          11.02317257142857,
          18.719968714285717,
          25.630515142857142,
          34.41402828571429,
          31.388102214285713,
          25.10966942857143,
          32.08502071428571,
          56.987131,
          65.949533,
          50.023255999999996,
          46.581320285714284,
          61.674296000000005,
          48.144208,
          50.12039047619048,
          35.59442083333334,
          39.145553428571425,
          14.148627714285713,
          33.291224285714286,
          28.077161999999998,
          50.82399542857143,
          22.022218285714285,
          25.63107857142857,
          21.73645392857143,
          21.86525685714286,
          11.280670357142856,
          15.179532499999999,
          14.628837214285713,
          16.626282571428572,
          10.586524571428571,
          11.66730242857143,
          9.850689714285712,
          10.843134857142857,
          16.728438285714287,
          13.043967714285714,
          15.533682785714287,
          11.197235642857143,
          13.333138857142858,
          21.344565499999998,
          14.986597928571427,
          17.71503004761905,
          13.032651142857143,
          13.688676642857143,
          12.197259714285712,
          19.202512857142857,
          25.382360714285713,
          12.732784642857142,
          17.33577238095238,
          17.618382500000003,
          13.91450942857143,
          48.864752571428575,
          31.331327714285717,
          35.00999628571429,
          37.96357999999999,
          34.3277315
         ],
         "yaxis": "y"
        }
       ],
       "layout": {
        "legend": {
         "tracegroupgap": 0
        },
        "template": {
         "data": {
          "bar": [
           {
            "error_x": {
             "color": "#2a3f5f"
            },
            "error_y": {
             "color": "#2a3f5f"
            },
            "marker": {
             "line": {
              "color": "#E5ECF6",
              "width": 0.5
             },
             "pattern": {
              "fillmode": "overlay",
              "size": 10,
              "solidity": 0.2
             }
            },
            "type": "bar"
           }
          ],
          "barpolar": [
           {
            "marker": {
             "line": {
              "color": "#E5ECF6",
              "width": 0.5
             },
             "pattern": {
              "fillmode": "overlay",
              "size": 10,
              "solidity": 0.2
             }
            },
            "type": "barpolar"
           }
          ],
          "carpet": [
           {
            "aaxis": {
             "endlinecolor": "#2a3f5f",
             "gridcolor": "white",
             "linecolor": "white",
             "minorgridcolor": "white",
             "startlinecolor": "#2a3f5f"
            },
            "baxis": {
             "endlinecolor": "#2a3f5f",
             "gridcolor": "white",
             "linecolor": "white",
             "minorgridcolor": "white",
             "startlinecolor": "#2a3f5f"
            },
            "type": "carpet"
           }
          ],
          "choropleth": [
           {
            "colorbar": {
             "outlinewidth": 0,
             "ticks": ""
            },
            "type": "choropleth"
           }
          ],
          "contour": [
           {
            "colorbar": {
             "outlinewidth": 0,
             "ticks": ""
            },
            "colorscale": [
             [
              0,
              "#0d0887"
             ],
             [
              0.1111111111111111,
              "#46039f"
             ],
             [
              0.2222222222222222,
              "#7201a8"
             ],
             [
              0.3333333333333333,
              "#9c179e"
             ],
             [
              0.4444444444444444,
              "#bd3786"
             ],
             [
              0.5555555555555556,
              "#d8576b"
             ],
             [
              0.6666666666666666,
              "#ed7953"
             ],
             [
              0.7777777777777778,
              "#fb9f3a"
             ],
             [
              0.8888888888888888,
              "#fdca26"
             ],
             [
              1,
              "#f0f921"
             ]
            ],
            "type": "contour"
           }
          ],
          "contourcarpet": [
           {
            "colorbar": {
             "outlinewidth": 0,
             "ticks": ""
            },
            "type": "contourcarpet"
           }
          ],
          "heatmap": [
           {
            "colorbar": {
             "outlinewidth": 0,
             "ticks": ""
            },
            "colorscale": [
             [
              0,
              "#0d0887"
             ],
             [
              0.1111111111111111,
              "#46039f"
             ],
             [
              0.2222222222222222,
              "#7201a8"
             ],
             [
              0.3333333333333333,
              "#9c179e"
             ],
             [
              0.4444444444444444,
              "#bd3786"
             ],
             [
              0.5555555555555556,
              "#d8576b"
             ],
             [
              0.6666666666666666,
              "#ed7953"
             ],
             [
              0.7777777777777778,
              "#fb9f3a"
             ],
             [
              0.8888888888888888,
              "#fdca26"
             ],
             [
              1,
              "#f0f921"
             ]
            ],
            "type": "heatmap"
           }
          ],
          "heatmapgl": [
           {
            "colorbar": {
             "outlinewidth": 0,
             "ticks": ""
            },
            "colorscale": [
             [
              0,
              "#0d0887"
             ],
             [
              0.1111111111111111,
              "#46039f"
             ],
             [
              0.2222222222222222,
              "#7201a8"
             ],
             [
              0.3333333333333333,
              "#9c179e"
             ],
             [
              0.4444444444444444,
              "#bd3786"
             ],
             [
              0.5555555555555556,
              "#d8576b"
             ],
             [
              0.6666666666666666,
              "#ed7953"
             ],
             [
              0.7777777777777778,
              "#fb9f3a"
             ],
             [
              0.8888888888888888,
              "#fdca26"
             ],
             [
              1,
              "#f0f921"
             ]
            ],
            "type": "heatmapgl"
           }
          ],
          "histogram": [
           {
            "marker": {
             "pattern": {
              "fillmode": "overlay",
              "size": 10,
              "solidity": 0.2
             }
            },
            "type": "histogram"
           }
          ],
          "histogram2d": [
           {
            "colorbar": {
             "outlinewidth": 0,
             "ticks": ""
            },
            "colorscale": [
             [
              0,
              "#0d0887"
             ],
             [
              0.1111111111111111,
              "#46039f"
             ],
             [
              0.2222222222222222,
              "#7201a8"
             ],
             [
              0.3333333333333333,
              "#9c179e"
             ],
             [
              0.4444444444444444,
              "#bd3786"
             ],
             [
              0.5555555555555556,
              "#d8576b"
             ],
             [
              0.6666666666666666,
              "#ed7953"
             ],
             [
              0.7777777777777778,
              "#fb9f3a"
             ],
             [
              0.8888888888888888,
              "#fdca26"
             ],
             [
              1,
              "#f0f921"
             ]
            ],
            "type": "histogram2d"
           }
          ],
          "histogram2dcontour": [
           {
            "colorbar": {
             "outlinewidth": 0,
             "ticks": ""
            },
            "colorscale": [
             [
              0,
              "#0d0887"
             ],
             [
              0.1111111111111111,
              "#46039f"
             ],
             [
              0.2222222222222222,
              "#7201a8"
             ],
             [
              0.3333333333333333,
              "#9c179e"
             ],
             [
              0.4444444444444444,
              "#bd3786"
             ],
             [
              0.5555555555555556,
              "#d8576b"
             ],
             [
              0.6666666666666666,
              "#ed7953"
             ],
             [
              0.7777777777777778,
              "#fb9f3a"
             ],
             [
              0.8888888888888888,
              "#fdca26"
             ],
             [
              1,
              "#f0f921"
             ]
            ],
            "type": "histogram2dcontour"
           }
          ],
          "mesh3d": [
           {
            "colorbar": {
             "outlinewidth": 0,
             "ticks": ""
            },
            "type": "mesh3d"
           }
          ],
          "parcoords": [
           {
            "line": {
             "colorbar": {
              "outlinewidth": 0,
              "ticks": ""
             }
            },
            "type": "parcoords"
           }
          ],
          "pie": [
           {
            "automargin": true,
            "type": "pie"
           }
          ],
          "scatter": [
           {
            "marker": {
             "colorbar": {
              "outlinewidth": 0,
              "ticks": ""
             }
            },
            "type": "scatter"
           }
          ],
          "scatter3d": [
           {
            "line": {
             "colorbar": {
              "outlinewidth": 0,
              "ticks": ""
             }
            },
            "marker": {
             "colorbar": {
              "outlinewidth": 0,
              "ticks": ""
             }
            },
            "type": "scatter3d"
           }
          ],
          "scattercarpet": [
           {
            "marker": {
             "colorbar": {
              "outlinewidth": 0,
              "ticks": ""
             }
            },
            "type": "scattercarpet"
           }
          ],
          "scattergeo": [
           {
            "marker": {
             "colorbar": {
              "outlinewidth": 0,
              "ticks": ""
             }
            },
            "type": "scattergeo"
           }
          ],
          "scattergl": [
           {
            "marker": {
             "colorbar": {
              "outlinewidth": 0,
              "ticks": ""
             }
            },
            "type": "scattergl"
           }
          ],
          "scattermapbox": [
           {
            "marker": {
             "colorbar": {
              "outlinewidth": 0,
              "ticks": ""
             }
            },
            "type": "scattermapbox"
           }
          ],
          "scatterpolar": [
           {
            "marker": {
             "colorbar": {
              "outlinewidth": 0,
              "ticks": ""
             }
            },
            "type": "scatterpolar"
           }
          ],
          "scatterpolargl": [
           {
            "marker": {
             "colorbar": {
              "outlinewidth": 0,
              "ticks": ""
             }
            },
            "type": "scatterpolargl"
           }
          ],
          "scatterternary": [
           {
            "marker": {
             "colorbar": {
              "outlinewidth": 0,
              "ticks": ""
             }
            },
            "type": "scatterternary"
           }
          ],
          "surface": [
           {
            "colorbar": {
             "outlinewidth": 0,
             "ticks": ""
            },
            "colorscale": [
             [
              0,
              "#0d0887"
             ],
             [
              0.1111111111111111,
              "#46039f"
             ],
             [
              0.2222222222222222,
              "#7201a8"
             ],
             [
              0.3333333333333333,
              "#9c179e"
             ],
             [
              0.4444444444444444,
              "#bd3786"
             ],
             [
              0.5555555555555556,
              "#d8576b"
             ],
             [
              0.6666666666666666,
              "#ed7953"
             ],
             [
              0.7777777777777778,
              "#fb9f3a"
             ],
             [
              0.8888888888888888,
              "#fdca26"
             ],
             [
              1,
              "#f0f921"
             ]
            ],
            "type": "surface"
           }
          ],
          "table": [
           {
            "cells": {
             "fill": {
              "color": "#EBF0F8"
             },
             "line": {
              "color": "white"
             }
            },
            "header": {
             "fill": {
              "color": "#C8D4E3"
             },
             "line": {
              "color": "white"
             }
            },
            "type": "table"
           }
          ]
         },
         "layout": {
          "annotationdefaults": {
           "arrowcolor": "#2a3f5f",
           "arrowhead": 0,
           "arrowwidth": 1
          },
          "autotypenumbers": "strict",
          "coloraxis": {
           "colorbar": {
            "outlinewidth": 0,
            "ticks": ""
           }
          },
          "colorscale": {
           "diverging": [
            [
             0,
             "#8e0152"
            ],
            [
             0.1,
             "#c51b7d"
            ],
            [
             0.2,
             "#de77ae"
            ],
            [
             0.3,
             "#f1b6da"
            ],
            [
             0.4,
             "#fde0ef"
            ],
            [
             0.5,
             "#f7f7f7"
            ],
            [
             0.6,
             "#e6f5d0"
            ],
            [
             0.7,
             "#b8e186"
            ],
            [
             0.8,
             "#7fbc41"
            ],
            [
             0.9,
             "#4d9221"
            ],
            [
             1,
             "#276419"
            ]
           ],
           "sequential": [
            [
             0,
             "#0d0887"
            ],
            [
             0.1111111111111111,
             "#46039f"
            ],
            [
             0.2222222222222222,
             "#7201a8"
            ],
            [
             0.3333333333333333,
             "#9c179e"
            ],
            [
             0.4444444444444444,
             "#bd3786"
            ],
            [
             0.5555555555555556,
             "#d8576b"
            ],
            [
             0.6666666666666666,
             "#ed7953"
            ],
            [
             0.7777777777777778,
             "#fb9f3a"
            ],
            [
             0.8888888888888888,
             "#fdca26"
            ],
            [
             1,
             "#f0f921"
            ]
           ],
           "sequentialminus": [
            [
             0,
             "#0d0887"
            ],
            [
             0.1111111111111111,
             "#46039f"
            ],
            [
             0.2222222222222222,
             "#7201a8"
            ],
            [
             0.3333333333333333,
             "#9c179e"
            ],
            [
             0.4444444444444444,
             "#bd3786"
            ],
            [
             0.5555555555555556,
             "#d8576b"
            ],
            [
             0.6666666666666666,
             "#ed7953"
            ],
            [
             0.7777777777777778,
             "#fb9f3a"
            ],
            [
             0.8888888888888888,
             "#fdca26"
            ],
            [
             1,
             "#f0f921"
            ]
           ]
          },
          "colorway": [
           "#636efa",
           "#EF553B",
           "#00cc96",
           "#ab63fa",
           "#FFA15A",
           "#19d3f3",
           "#FF6692",
           "#B6E880",
           "#FF97FF",
           "#FECB52"
          ],
          "font": {
           "color": "#2a3f5f"
          },
          "geo": {
           "bgcolor": "white",
           "lakecolor": "white",
           "landcolor": "#E5ECF6",
           "showlakes": true,
           "showland": true,
           "subunitcolor": "white"
          },
          "hoverlabel": {
           "align": "left"
          },
          "hovermode": "closest",
          "mapbox": {
           "style": "light"
          },
          "paper_bgcolor": "white",
          "plot_bgcolor": "#E5ECF6",
          "polar": {
           "angularaxis": {
            "gridcolor": "white",
            "linecolor": "white",
            "ticks": ""
           },
           "bgcolor": "#E5ECF6",
           "radialaxis": {
            "gridcolor": "white",
            "linecolor": "white",
            "ticks": ""
           }
          },
          "scene": {
           "xaxis": {
            "backgroundcolor": "#E5ECF6",
            "gridcolor": "white",
            "gridwidth": 2,
            "linecolor": "white",
            "showbackground": true,
            "ticks": "",
            "zerolinecolor": "white"
           },
           "yaxis": {
            "backgroundcolor": "#E5ECF6",
            "gridcolor": "white",
            "gridwidth": 2,
            "linecolor": "white",
            "showbackground": true,
            "ticks": "",
            "zerolinecolor": "white"
           },
           "zaxis": {
            "backgroundcolor": "#E5ECF6",
            "gridcolor": "white",
            "gridwidth": 2,
            "linecolor": "white",
            "showbackground": true,
            "ticks": "",
            "zerolinecolor": "white"
           }
          },
          "shapedefaults": {
           "line": {
            "color": "#2a3f5f"
           }
          },
          "ternary": {
           "aaxis": {
            "gridcolor": "white",
            "linecolor": "white",
            "ticks": ""
           },
           "baxis": {
            "gridcolor": "white",
            "linecolor": "white",
            "ticks": ""
           },
           "bgcolor": "#E5ECF6",
           "caxis": {
            "gridcolor": "white",
            "linecolor": "white",
            "ticks": ""
           }
          },
          "title": {
           "x": 0.05
          },
          "xaxis": {
           "automargin": true,
           "gridcolor": "white",
           "linecolor": "white",
           "ticks": "",
           "title": {
            "standoff": 15
           },
           "zerolinecolor": "white",
           "zerolinewidth": 2
          },
          "yaxis": {
           "automargin": true,
           "gridcolor": "white",
           "linecolor": "white",
           "ticks": "",
           "title": {
            "standoff": 15
           },
           "zerolinecolor": "white",
           "zerolinewidth": 2
          }
         }
        },
        "title": {
         "text": "Provincia: Pordenone"
        },
        "xaxis": {
         "anchor": "y",
         "domain": [
          0,
          1
         ],
         "title": {
          "text": "time_idx"
         }
        },
        "yaxis": {
         "anchor": "x",
         "domain": [
          0,
          1
         ],
         "title": {
          "text": "pm10_giornaliera"
         }
        }
       }
      }
     },
     "metadata": {},
     "output_type": "display_data"
    },
    {
     "data": {
      "application/vnd.plotly.v1+json": {
       "config": {
        "plotlyServerURL": "https://plot.ly"
       },
       "data": [
        {
         "hovertemplate": "time_idx=%{x}<br>pm10_giornaliera=%{y}<extra></extra>",
         "legendgroup": "",
         "line": {
          "color": "#636efa",
          "dash": "solid"
         },
         "marker": {
          "symbol": "circle"
         },
         "mode": "lines",
         "name": "",
         "orientation": "v",
         "showlegend": false,
         "type": "scatter",
         "x": [
          0,
          1,
          2,
          3,
          4,
          5,
          6,
          7,
          8,
          9,
          10,
          11,
          12,
          13,
          14,
          15,
          16,
          17,
          18,
          19,
          20,
          21,
          22,
          23,
          24,
          25,
          26,
          27,
          28,
          29,
          30,
          31,
          32,
          33,
          34,
          35,
          36,
          37,
          38,
          39,
          40,
          41,
          42,
          43,
          44,
          45,
          46,
          47,
          48,
          49,
          50,
          51,
          52,
          53,
          54,
          55,
          56,
          57,
          58,
          59,
          60,
          61,
          62,
          63,
          64,
          65,
          66,
          67,
          68,
          69,
          70,
          71,
          72,
          73,
          74,
          75,
          76,
          77,
          78,
          79,
          80,
          81,
          82,
          83,
          84,
          85,
          86,
          87,
          88,
          89,
          90,
          91,
          92,
          93,
          94,
          95,
          96,
          97,
          98,
          99,
          100,
          101,
          102,
          103,
          104,
          105,
          106,
          107,
          108,
          109,
          110,
          111,
          112,
          113,
          114,
          115,
          116,
          117,
          118,
          119,
          120,
          121,
          122,
          123,
          124,
          125,
          126,
          127,
          128,
          129,
          130,
          131,
          132,
          133,
          134,
          135,
          136,
          137,
          138,
          139,
          140,
          141,
          142,
          143,
          144,
          145,
          146,
          147,
          148,
          149,
          150,
          151,
          152,
          153,
          154,
          155,
          156,
          157,
          158,
          159,
          160,
          161,
          162,
          163,
          164,
          165,
          166,
          167,
          168,
          169,
          170,
          171,
          172,
          173,
          174,
          175,
          176,
          177,
          178,
          179,
          180,
          181,
          182,
          183,
          184,
          185,
          186,
          187,
          188,
          189,
          190,
          191,
          192,
          193,
          194,
          195,
          196,
          197,
          198,
          199,
          200,
          201,
          202,
          203,
          204,
          205,
          206,
          207,
          208,
          209,
          210,
          211,
          212,
          213,
          214,
          215,
          216,
          217,
          218,
          219,
          220,
          221,
          222,
          223,
          224,
          225,
          226,
          227,
          228,
          229,
          230,
          231,
          232,
          233,
          234,
          235,
          236,
          237,
          238,
          239,
          240,
          241,
          242,
          243,
          244,
          245,
          246,
          247,
          248,
          249,
          250,
          251,
          252,
          253,
          254,
          255,
          256,
          257,
          258,
          259,
          260,
          261,
          262,
          263,
          264,
          265,
          266,
          267,
          268,
          269,
          270,
          271,
          272,
          273,
          274,
          275,
          276,
          277,
          278,
          279,
          280,
          281,
          282,
          283,
          284,
          285,
          286,
          287,
          288,
          289,
          290,
          291,
          292,
          293,
          294,
          295,
          296,
          297,
          298,
          299,
          300,
          301,
          302,
          303,
          304,
          305,
          306,
          307,
          308,
          309,
          310,
          311,
          312,
          313,
          314,
          315,
          316,
          317,
          318,
          319,
          320,
          321,
          322,
          323,
          324,
          325,
          326,
          327,
          328,
          329,
          330,
          331,
          332,
          333,
          334,
          335,
          336,
          337,
          338,
          339,
          340,
          341,
          342,
          343,
          344,
          345,
          346,
          347,
          348,
          349,
          350,
          351,
          352,
          353,
          354,
          355,
          356,
          357,
          358
         ],
         "xaxis": "x",
         "y": [
          20.310690625,
          58.22371428571429,
          32.90814976190476,
          17.141516666666668,
          17.83608738095238,
          18.417361333333332,
          16.984608095238094,
          23.938982142857146,
          18.59887080952381,
          22.626585523809524,
          40.49975785714286,
          40.58296104761905,
          17.503190714285715,
          36.09635819047619,
          16.351266190476192,
          11.711953571428571,
          14.845209523809524,
          16.349246904761905,
          16.42476723809524,
          8.067846857142857,
          21.15940942857143,
          13.54156776190476,
          21.16240995238095,
          19.916744857142856,
          16.611769095238095,
          17.55875957142857,
          15.213638285714286,
          13.894543285714287,
          16.38724357142857,
          13.899224333333333,
          11.43827019047619,
          13.071316999999999,
          12.575150285714287,
          10.873188809523809,
          11.842745952380952,
          14.30059238095238,
          14.83711657142857,
          20.279756023809522,
          18.04422357142857,
          20.518333809523806,
          25.095426190476193,
          23.145602285714286,
          16.573679428571428,
          19.92513119047619,
          24.58348357142857,
          21.212280095238096,
          20.469860285714283,
          29.44874661904762,
          9.161624333333334,
          26.640598333333333,
          32.86380785714286,
          41.42484466666667,
          29.970075416666667,
          45.88523214285715,
          33.58009104761905,
          15.097140476190477,
          10.435440857142856,
          12.7048095,
          28.99480285714286,
          35.769326428571425,
          14.902119523809523,
          14.04321523809524,
          24.462458095238098,
          34.999604738095236,
          28.42356604761905,
          16.365360428571428,
          20.317834285714287,
          19.53550095238095,
          28.593824,
          18.475727142857142,
          21.895349619047618,
          16.38930033333333,
          17.53924119047619,
          15.223945,
          26.280640714285713,
          29.597823333333334,
          14.218013333333333,
          12.761775095238095,
          25.73412533333333,
          26.218029285714287,
          27.038733095238094,
          26.27502619047619,
          15.774799761904761,
          31.319581238095235,
          35.14500523809524,
          15.950824547619048,
          27.85829095238095,
          19.148443714285715,
          13.93814119047619,
          31.33140966666667,
          11.183465428571427,
          14.114230857142857,
          13.032283333333334,
          12.752253904761904,
          13.065584761904761,
          22.09536261904762,
          45.11141921428571,
          51.262731952380946,
          37.10714671428571,
          15.124054714285714,
          47.13308630952381,
          33.9350194047619,
          40.21128852380952,
          63.38156923809523,
          28.465339272727274,
          18.868913428571428,
          27.064662,
          94.27005742857143,
          39.63903273809524,
          20.873274047619045,
          16.864640285714284,
          17.875143952380956,
          13.355425952380953,
          12.572110142857143,
          27.54846719047619,
          18.956392952380952,
          24.882664353741497,
          24.679889115646258,
          18.860097040816328,
          15.829930204081633,
          11.76679857142857,
          12.219685544217686,
          14.380084217687074,
          11.219576088435375,
          15.74638217687075,
          13.31450019897959,
          15.802367210884354,
          15.617845926870746,
          23.23790071428571,
          16.00946336734694,
          14.844536428571429,
          18.282489761904763,
          20.866369591836733,
          16.72668642857143,
          13.173790408163265,
          12.841486734693877,
          14.390594081632653,
          16.264480510204084,
          19.432895877551022,
          20.155324070294785,
          27.46952863945578,
          12.778071746031745,
          21.184346394557824,
          8.967288262471655,
          16.186013843537417,
          12.250822063492064,
          18.144962281746032,
          21.722647876984126,
          11.550314909297052,
          27.728133052721088,
          24.838936635487528,
          19.843920790816327,
          35.388485918367344,
          25.755406760204078,
          19.714424285714284,
          17.17317357142857,
          22.48765033333333,
          24.74228712585034,
          16.387129214285714,
          29.429577523809524,
          43.45628452380952,
          17.323410170068026,
          38.99827697278912,
          45.79658765306122,
          20.72783612244898,
          13.136552857142858,
          46.616544653061226,
          33.87840919047619,
          25.702387755102045,
          20.29461568027211,
          16.822040068027214,
          10.967498163265306,
          18.473448673469388,
          13.159772142857141,
          17.455142591836736,
          14.16349044217687,
          17.31982057823129,
          21.07242614965986,
          14.904729666666666,
          18.839254285714283,
          25.4858724744898,
          17.004527857142858,
          18.77744010884354,
          14.03621731292517,
          24.34451586734694,
          14.83523275510204,
          30.14660716836735,
          19.332937168367348,
          15.51303086734694,
          19.976289285714284,
          13.69389612244898,
          11.109114668367349,
          11.695644489795919,
          12.464732380952382,
          18.52219954931973,
          22.21113375,
          28.045112525510202,
          42.63337644557823,
          17.31467205272109,
          15.047393979591837,
          14.989486122448978,
          9.297087020408162,
          33.19669793367347,
          8.92137943877551,
          28.992480034013607,
          12.36523738095238,
          19.702323095238093,
          22.92618494642857,
          22.868204583333334,
          13.734754081632653,
          20.329386122448977,
          28.806380680272106,
          24.220307013605442,
          16.18116367346939,
          19.586105306122448,
          13.56357037414966,
          28.276339693877553,
          23.457371020408164,
          13.54817411564626,
          17.38887425170068,
          23.721711598639455,
          16.824990190476193,
          19.837483142857142,
          25.53935136054422,
          27.558080714285715,
          23.311473503401363,
          18.685558537414966,
          10.915533027210884,
          18.448918129251698,
          29.163419013605445,
          21.164898095238097,
          15.237975884353741,
          13.552309353741496,
          11.949899387755101,
          18.077760612244898,
          15.622560442176871,
          18.596753605442178,
          19.79083799319728,
          20.920898571428573,
          23.454774585034013,
          15.558297176870749,
          21.25322236734694,
          12.499617020408163,
          16.65798260544218,
          23.46882265306122,
          22.96444819727891,
          11.130910204081632,
          12.91174731292517,
          30.89562261904762,
          31.10317192857143,
          18.5598925170068,
          18.42207693877551,
          19.6067006122449,
          17.697308945578232,
          10.106023707482994,
          15.432458013605443,
          25.28062994557823,
          14.68847057142857,
          23.750535809523807,
          28.63888742857143,
          14.888720714285714,
          17.714626,
          18.556566047619047,
          19.76024764285714,
          9.392243666666667,
          16.33589119047619,
          29.224536357142856,
          58.2543555170068,
          38.11809836734694,
          32.15547870748299,
          16.43907306122449,
          14.71890401360544,
          16.529670340136054,
          19.406168367346936,
          16.643585918367346,
          21.488627210884353,
          32.82944578231292,
          10.599304761904762,
          10.710688979591836,
          7.533569387755102,
          14.453085850340136,
          11.742112959183673,
          22.07179857142857,
          33.347027414965986,
          19.133886190476193,
          20.256761632653063,
          20.38309029931973,
          11.797605727891156,
          16.485236972789117,
          21.527615027210885,
          17.061898523809525,
          20.92251980952381,
          12.372043210884355,
          17.137529455782314,
          27.49460607142857,
          11.495906520408164,
          12.086993673469388,
          13.673337346938776,
          13.134475102040815,
          11.859395176870748,
          17.150833523809524,
          25.451675231292516,
          27.61712036734694,
          14.768317789115645,
          10.37452156462585,
          10.459034741496598,
          11.381994421768708,
          15.204197142857142,
          18.958714285714283,
          13.474603265306124,
          19.593654217687078,
          11.325951700680273,
          24.120486285714286,
          21.264144489795918,
          30.257807755102043,
          23.402424285714286,
          49.03236404761905,
          28.74464955102041,
          26.309529591836736,
          11.663621020408161,
          12.299732857142857,
          9.427855986394558,
          18.50703693877551,
          20.21723237414966,
          60.6786824829932,
          16.37708,
          22.369015782312925,
          16.162446394557822,
          16.997148163265305,
          9.700361551020409,
          10.633339761904763,
          16.55494386734694,
          12.7417771292517,
          7.934199591836735,
          11.189185918367347,
          8.446223707482993,
          9.841179591836735,
          13.28874055782313,
          10.838407952380951,
          11.351909166666667,
          8.749039166666666,
          11.817462,
          19.698189714285714,
          14.673750071428572,
          17.185188571428572,
          12.091210214285715,
          13.666955071428571,
          9.212591857142856,
          16.661690142857143,
          17.486159965986396,
          10.560221857142858,
          13.649443142857143,
          12.858505034013605,
          6.7676411632653055,
          18.82375268707483,
          18.627227585034014,
          20.83309265306122,
          19.332998843537414,
          10.994018333333335
         ],
         "yaxis": "y"
        }
       ],
       "layout": {
        "legend": {
         "tracegroupgap": 0
        },
        "template": {
         "data": {
          "bar": [
           {
            "error_x": {
             "color": "#2a3f5f"
            },
            "error_y": {
             "color": "#2a3f5f"
            },
            "marker": {
             "line": {
              "color": "#E5ECF6",
              "width": 0.5
             },
             "pattern": {
              "fillmode": "overlay",
              "size": 10,
              "solidity": 0.2
             }
            },
            "type": "bar"
           }
          ],
          "barpolar": [
           {
            "marker": {
             "line": {
              "color": "#E5ECF6",
              "width": 0.5
             },
             "pattern": {
              "fillmode": "overlay",
              "size": 10,
              "solidity": 0.2
             }
            },
            "type": "barpolar"
           }
          ],
          "carpet": [
           {
            "aaxis": {
             "endlinecolor": "#2a3f5f",
             "gridcolor": "white",
             "linecolor": "white",
             "minorgridcolor": "white",
             "startlinecolor": "#2a3f5f"
            },
            "baxis": {
             "endlinecolor": "#2a3f5f",
             "gridcolor": "white",
             "linecolor": "white",
             "minorgridcolor": "white",
             "startlinecolor": "#2a3f5f"
            },
            "type": "carpet"
           }
          ],
          "choropleth": [
           {
            "colorbar": {
             "outlinewidth": 0,
             "ticks": ""
            },
            "type": "choropleth"
           }
          ],
          "contour": [
           {
            "colorbar": {
             "outlinewidth": 0,
             "ticks": ""
            },
            "colorscale": [
             [
              0,
              "#0d0887"
             ],
             [
              0.1111111111111111,
              "#46039f"
             ],
             [
              0.2222222222222222,
              "#7201a8"
             ],
             [
              0.3333333333333333,
              "#9c179e"
             ],
             [
              0.4444444444444444,
              "#bd3786"
             ],
             [
              0.5555555555555556,
              "#d8576b"
             ],
             [
              0.6666666666666666,
              "#ed7953"
             ],
             [
              0.7777777777777778,
              "#fb9f3a"
             ],
             [
              0.8888888888888888,
              "#fdca26"
             ],
             [
              1,
              "#f0f921"
             ]
            ],
            "type": "contour"
           }
          ],
          "contourcarpet": [
           {
            "colorbar": {
             "outlinewidth": 0,
             "ticks": ""
            },
            "type": "contourcarpet"
           }
          ],
          "heatmap": [
           {
            "colorbar": {
             "outlinewidth": 0,
             "ticks": ""
            },
            "colorscale": [
             [
              0,
              "#0d0887"
             ],
             [
              0.1111111111111111,
              "#46039f"
             ],
             [
              0.2222222222222222,
              "#7201a8"
             ],
             [
              0.3333333333333333,
              "#9c179e"
             ],
             [
              0.4444444444444444,
              "#bd3786"
             ],
             [
              0.5555555555555556,
              "#d8576b"
             ],
             [
              0.6666666666666666,
              "#ed7953"
             ],
             [
              0.7777777777777778,
              "#fb9f3a"
             ],
             [
              0.8888888888888888,
              "#fdca26"
             ],
             [
              1,
              "#f0f921"
             ]
            ],
            "type": "heatmap"
           }
          ],
          "heatmapgl": [
           {
            "colorbar": {
             "outlinewidth": 0,
             "ticks": ""
            },
            "colorscale": [
             [
              0,
              "#0d0887"
             ],
             [
              0.1111111111111111,
              "#46039f"
             ],
             [
              0.2222222222222222,
              "#7201a8"
             ],
             [
              0.3333333333333333,
              "#9c179e"
             ],
             [
              0.4444444444444444,
              "#bd3786"
             ],
             [
              0.5555555555555556,
              "#d8576b"
             ],
             [
              0.6666666666666666,
              "#ed7953"
             ],
             [
              0.7777777777777778,
              "#fb9f3a"
             ],
             [
              0.8888888888888888,
              "#fdca26"
             ],
             [
              1,
              "#f0f921"
             ]
            ],
            "type": "heatmapgl"
           }
          ],
          "histogram": [
           {
            "marker": {
             "pattern": {
              "fillmode": "overlay",
              "size": 10,
              "solidity": 0.2
             }
            },
            "type": "histogram"
           }
          ],
          "histogram2d": [
           {
            "colorbar": {
             "outlinewidth": 0,
             "ticks": ""
            },
            "colorscale": [
             [
              0,
              "#0d0887"
             ],
             [
              0.1111111111111111,
              "#46039f"
             ],
             [
              0.2222222222222222,
              "#7201a8"
             ],
             [
              0.3333333333333333,
              "#9c179e"
             ],
             [
              0.4444444444444444,
              "#bd3786"
             ],
             [
              0.5555555555555556,
              "#d8576b"
             ],
             [
              0.6666666666666666,
              "#ed7953"
             ],
             [
              0.7777777777777778,
              "#fb9f3a"
             ],
             [
              0.8888888888888888,
              "#fdca26"
             ],
             [
              1,
              "#f0f921"
             ]
            ],
            "type": "histogram2d"
           }
          ],
          "histogram2dcontour": [
           {
            "colorbar": {
             "outlinewidth": 0,
             "ticks": ""
            },
            "colorscale": [
             [
              0,
              "#0d0887"
             ],
             [
              0.1111111111111111,
              "#46039f"
             ],
             [
              0.2222222222222222,
              "#7201a8"
             ],
             [
              0.3333333333333333,
              "#9c179e"
             ],
             [
              0.4444444444444444,
              "#bd3786"
             ],
             [
              0.5555555555555556,
              "#d8576b"
             ],
             [
              0.6666666666666666,
              "#ed7953"
             ],
             [
              0.7777777777777778,
              "#fb9f3a"
             ],
             [
              0.8888888888888888,
              "#fdca26"
             ],
             [
              1,
              "#f0f921"
             ]
            ],
            "type": "histogram2dcontour"
           }
          ],
          "mesh3d": [
           {
            "colorbar": {
             "outlinewidth": 0,
             "ticks": ""
            },
            "type": "mesh3d"
           }
          ],
          "parcoords": [
           {
            "line": {
             "colorbar": {
              "outlinewidth": 0,
              "ticks": ""
             }
            },
            "type": "parcoords"
           }
          ],
          "pie": [
           {
            "automargin": true,
            "type": "pie"
           }
          ],
          "scatter": [
           {
            "marker": {
             "colorbar": {
              "outlinewidth": 0,
              "ticks": ""
             }
            },
            "type": "scatter"
           }
          ],
          "scatter3d": [
           {
            "line": {
             "colorbar": {
              "outlinewidth": 0,
              "ticks": ""
             }
            },
            "marker": {
             "colorbar": {
              "outlinewidth": 0,
              "ticks": ""
             }
            },
            "type": "scatter3d"
           }
          ],
          "scattercarpet": [
           {
            "marker": {
             "colorbar": {
              "outlinewidth": 0,
              "ticks": ""
             }
            },
            "type": "scattercarpet"
           }
          ],
          "scattergeo": [
           {
            "marker": {
             "colorbar": {
              "outlinewidth": 0,
              "ticks": ""
             }
            },
            "type": "scattergeo"
           }
          ],
          "scattergl": [
           {
            "marker": {
             "colorbar": {
              "outlinewidth": 0,
              "ticks": ""
             }
            },
            "type": "scattergl"
           }
          ],
          "scattermapbox": [
           {
            "marker": {
             "colorbar": {
              "outlinewidth": 0,
              "ticks": ""
             }
            },
            "type": "scattermapbox"
           }
          ],
          "scatterpolar": [
           {
            "marker": {
             "colorbar": {
              "outlinewidth": 0,
              "ticks": ""
             }
            },
            "type": "scatterpolar"
           }
          ],
          "scatterpolargl": [
           {
            "marker": {
             "colorbar": {
              "outlinewidth": 0,
              "ticks": ""
             }
            },
            "type": "scatterpolargl"
           }
          ],
          "scatterternary": [
           {
            "marker": {
             "colorbar": {
              "outlinewidth": 0,
              "ticks": ""
             }
            },
            "type": "scatterternary"
           }
          ],
          "surface": [
           {
            "colorbar": {
             "outlinewidth": 0,
             "ticks": ""
            },
            "colorscale": [
             [
              0,
              "#0d0887"
             ],
             [
              0.1111111111111111,
              "#46039f"
             ],
             [
              0.2222222222222222,
              "#7201a8"
             ],
             [
              0.3333333333333333,
              "#9c179e"
             ],
             [
              0.4444444444444444,
              "#bd3786"
             ],
             [
              0.5555555555555556,
              "#d8576b"
             ],
             [
              0.6666666666666666,
              "#ed7953"
             ],
             [
              0.7777777777777778,
              "#fb9f3a"
             ],
             [
              0.8888888888888888,
              "#fdca26"
             ],
             [
              1,
              "#f0f921"
             ]
            ],
            "type": "surface"
           }
          ],
          "table": [
           {
            "cells": {
             "fill": {
              "color": "#EBF0F8"
             },
             "line": {
              "color": "white"
             }
            },
            "header": {
             "fill": {
              "color": "#C8D4E3"
             },
             "line": {
              "color": "white"
             }
            },
            "type": "table"
           }
          ]
         },
         "layout": {
          "annotationdefaults": {
           "arrowcolor": "#2a3f5f",
           "arrowhead": 0,
           "arrowwidth": 1
          },
          "autotypenumbers": "strict",
          "coloraxis": {
           "colorbar": {
            "outlinewidth": 0,
            "ticks": ""
           }
          },
          "colorscale": {
           "diverging": [
            [
             0,
             "#8e0152"
            ],
            [
             0.1,
             "#c51b7d"
            ],
            [
             0.2,
             "#de77ae"
            ],
            [
             0.3,
             "#f1b6da"
            ],
            [
             0.4,
             "#fde0ef"
            ],
            [
             0.5,
             "#f7f7f7"
            ],
            [
             0.6,
             "#e6f5d0"
            ],
            [
             0.7,
             "#b8e186"
            ],
            [
             0.8,
             "#7fbc41"
            ],
            [
             0.9,
             "#4d9221"
            ],
            [
             1,
             "#276419"
            ]
           ],
           "sequential": [
            [
             0,
             "#0d0887"
            ],
            [
             0.1111111111111111,
             "#46039f"
            ],
            [
             0.2222222222222222,
             "#7201a8"
            ],
            [
             0.3333333333333333,
             "#9c179e"
            ],
            [
             0.4444444444444444,
             "#bd3786"
            ],
            [
             0.5555555555555556,
             "#d8576b"
            ],
            [
             0.6666666666666666,
             "#ed7953"
            ],
            [
             0.7777777777777778,
             "#fb9f3a"
            ],
            [
             0.8888888888888888,
             "#fdca26"
            ],
            [
             1,
             "#f0f921"
            ]
           ],
           "sequentialminus": [
            [
             0,
             "#0d0887"
            ],
            [
             0.1111111111111111,
             "#46039f"
            ],
            [
             0.2222222222222222,
             "#7201a8"
            ],
            [
             0.3333333333333333,
             "#9c179e"
            ],
            [
             0.4444444444444444,
             "#bd3786"
            ],
            [
             0.5555555555555556,
             "#d8576b"
            ],
            [
             0.6666666666666666,
             "#ed7953"
            ],
            [
             0.7777777777777778,
             "#fb9f3a"
            ],
            [
             0.8888888888888888,
             "#fdca26"
            ],
            [
             1,
             "#f0f921"
            ]
           ]
          },
          "colorway": [
           "#636efa",
           "#EF553B",
           "#00cc96",
           "#ab63fa",
           "#FFA15A",
           "#19d3f3",
           "#FF6692",
           "#B6E880",
           "#FF97FF",
           "#FECB52"
          ],
          "font": {
           "color": "#2a3f5f"
          },
          "geo": {
           "bgcolor": "white",
           "lakecolor": "white",
           "landcolor": "#E5ECF6",
           "showlakes": true,
           "showland": true,
           "subunitcolor": "white"
          },
          "hoverlabel": {
           "align": "left"
          },
          "hovermode": "closest",
          "mapbox": {
           "style": "light"
          },
          "paper_bgcolor": "white",
          "plot_bgcolor": "#E5ECF6",
          "polar": {
           "angularaxis": {
            "gridcolor": "white",
            "linecolor": "white",
            "ticks": ""
           },
           "bgcolor": "#E5ECF6",
           "radialaxis": {
            "gridcolor": "white",
            "linecolor": "white",
            "ticks": ""
           }
          },
          "scene": {
           "xaxis": {
            "backgroundcolor": "#E5ECF6",
            "gridcolor": "white",
            "gridwidth": 2,
            "linecolor": "white",
            "showbackground": true,
            "ticks": "",
            "zerolinecolor": "white"
           },
           "yaxis": {
            "backgroundcolor": "#E5ECF6",
            "gridcolor": "white",
            "gridwidth": 2,
            "linecolor": "white",
            "showbackground": true,
            "ticks": "",
            "zerolinecolor": "white"
           },
           "zaxis": {
            "backgroundcolor": "#E5ECF6",
            "gridcolor": "white",
            "gridwidth": 2,
            "linecolor": "white",
            "showbackground": true,
            "ticks": "",
            "zerolinecolor": "white"
           }
          },
          "shapedefaults": {
           "line": {
            "color": "#2a3f5f"
           }
          },
          "ternary": {
           "aaxis": {
            "gridcolor": "white",
            "linecolor": "white",
            "ticks": ""
           },
           "baxis": {
            "gridcolor": "white",
            "linecolor": "white",
            "ticks": ""
           },
           "bgcolor": "#E5ECF6",
           "caxis": {
            "gridcolor": "white",
            "linecolor": "white",
            "ticks": ""
           }
          },
          "title": {
           "x": 0.05
          },
          "xaxis": {
           "automargin": true,
           "gridcolor": "white",
           "linecolor": "white",
           "ticks": "",
           "title": {
            "standoff": 15
           },
           "zerolinecolor": "white",
           "zerolinewidth": 2
          },
          "yaxis": {
           "automargin": true,
           "gridcolor": "white",
           "linecolor": "white",
           "ticks": "",
           "title": {
            "standoff": 15
           },
           "zerolinecolor": "white",
           "zerolinewidth": 2
          }
         }
        },
        "title": {
         "text": "Provincia: Trieste"
        },
        "xaxis": {
         "anchor": "y",
         "domain": [
          0,
          1
         ],
         "title": {
          "text": "time_idx"
         }
        },
        "yaxis": {
         "anchor": "x",
         "domain": [
          0,
          1
         ],
         "title": {
          "text": "pm10_giornaliera"
         }
        }
       }
      }
     },
     "metadata": {},
     "output_type": "display_data"
    },
    {
     "data": {
      "application/vnd.plotly.v1+json": {
       "config": {
        "plotlyServerURL": "https://plot.ly"
       },
       "data": [
        {
         "hovertemplate": "time_idx=%{x}<br>pm10_giornaliera=%{y}<extra></extra>",
         "legendgroup": "",
         "line": {
          "color": "#636efa",
          "dash": "solid"
         },
         "marker": {
          "symbol": "circle"
         },
         "mode": "lines",
         "name": "",
         "orientation": "v",
         "showlegend": false,
         "type": "scatter",
         "x": [
          0,
          1,
          2,
          3,
          4,
          5,
          6,
          7,
          8,
          9,
          10,
          11,
          12,
          13,
          14,
          15,
          16,
          17,
          18,
          19,
          20,
          21,
          22,
          23,
          24,
          25,
          26,
          27,
          28,
          29,
          30,
          31,
          32,
          33,
          34,
          35,
          36,
          37,
          38,
          39,
          40,
          41,
          42,
          43,
          44,
          45,
          46,
          47,
          48,
          49,
          50,
          51,
          52,
          53,
          54,
          55,
          56,
          57,
          58,
          59,
          60,
          61,
          62,
          63,
          64,
          65,
          66,
          67,
          68,
          69,
          70,
          71,
          72,
          73,
          74,
          75,
          76,
          77,
          78,
          79,
          80,
          81,
          82,
          83,
          84,
          85,
          86,
          87,
          88,
          89,
          90,
          91,
          92,
          93,
          94,
          95,
          96,
          97,
          98,
          99,
          100,
          101,
          102,
          103,
          104,
          105,
          106,
          107,
          108,
          109,
          110,
          111,
          112,
          113,
          114,
          115,
          116,
          117,
          118,
          119,
          120,
          121,
          122,
          123,
          124,
          125,
          126,
          127,
          128,
          129,
          130,
          131,
          132,
          133,
          134,
          135,
          136,
          137,
          138,
          139,
          140,
          141,
          142,
          143,
          144,
          145,
          146,
          147,
          148,
          149,
          150,
          151,
          152,
          153,
          154,
          155,
          156,
          157,
          158,
          159,
          160,
          161,
          162,
          163,
          164,
          165,
          166,
          167,
          168,
          169,
          170,
          171,
          172,
          173,
          174,
          175,
          176,
          177,
          178,
          179,
          180,
          181,
          182,
          183,
          184,
          185,
          186,
          187,
          188,
          189,
          190,
          191,
          192,
          193,
          194,
          195,
          196,
          197,
          198,
          199,
          200,
          201,
          202,
          203,
          204,
          205,
          206,
          207,
          208,
          209,
          210,
          211,
          212,
          213,
          214,
          215,
          216,
          217,
          218,
          219,
          220,
          221,
          222,
          223,
          224,
          225,
          226,
          227,
          228,
          229,
          230,
          231,
          232,
          233,
          234,
          235,
          236,
          237,
          238,
          239,
          240,
          241,
          242,
          243,
          244,
          245,
          246,
          247,
          248,
          249,
          250,
          251,
          252,
          253,
          254,
          255,
          256,
          257,
          258,
          259,
          260,
          261,
          262,
          263,
          264,
          265,
          266,
          267,
          268,
          269,
          270,
          271,
          272,
          273,
          274,
          275,
          276,
          277,
          278,
          279,
          280,
          281,
          282,
          283,
          284,
          285,
          286,
          287,
          288,
          289,
          290,
          291,
          292,
          293,
          294,
          295,
          296,
          297,
          298,
          299,
          300,
          301,
          302,
          303,
          304,
          305,
          306,
          307,
          308,
          309,
          310,
          311,
          312,
          313,
          314,
          315,
          316,
          317,
          318,
          319,
          320,
          321,
          322,
          323,
          324,
          325,
          326,
          327,
          328,
          329,
          330,
          331,
          332,
          333,
          334,
          335,
          336,
          337,
          338,
          339,
          340,
          341,
          342,
          343,
          344,
          345,
          346,
          347,
          348,
          349,
          350,
          351,
          352,
          353,
          354,
          355,
          356,
          357,
          358
         ],
         "xaxis": "x",
         "y": [
          23.951955486111114,
          57.2200487755102,
          31.913618605442178,
          22.015431428571425,
          22.193216394557822,
          18.160448455782312,
          17.353763775510206,
          17.532875911564627,
          21.40675620408163,
          25.143167542517006,
          48.023870909863945,
          47.53047791950114,
          16.35370797335601,
          37.63763020691609,
          17.909376984126986,
          12.284483531746032,
          12.16631367063492,
          12.338895170068028,
          15.17908751984127,
          7.303379186507938,
          18.396800734126987,
          11.603310144557824,
          16.433622522675737,
          16.160487463151927,
          13.53455716553288,
          13.099561706349206,
          11.047907142857143,
          10.112389441609977,
          14.380453869047619,
          12.504433239795917,
          12.271073378684807,
          13.526998475056688,
          11.559985218253969,
          9.5944562414966,
          12.83440263888889,
          16.080003585600906,
          16.214018185941043,
          21.71824595238095,
          17.401876686507936,
          19.007060357142855,
          24.264701634920637,
          21.15918168253968,
          20.469598873015872,
          21.673994698412695,
          20.511309126984127,
          17.602629936507935,
          18.571050857142858,
          25.04690857142857,
          12.723722138888888,
          31.161879350907032,
          32.40452621428572,
          35.086345102040816,
          28.716959499999998,
          44.84650057142857,
          38.508179670634924,
          23.91841009126984,
          22.175398706349206,
          21.00703941269841,
          33.673119349206345,
          40.31706507936508,
          16.953690555555557,
          16.875312603174603,
          28.66378526984127,
          32.65846885714286,
          21.50892101984127,
          14.201251833333334,
          21.897553285714284,
          20.153521206349208,
          20.56190034920635,
          15.701298571428572,
          15.81088561904762,
          13.08573561904762,
          12.91560861904762,
          14.198479444444445,
          20.512790929705215,
          23.780108894557824,
          12.079710385487529,
          10.462545392857143,
          20.425460333333337,
          20.29092273015873,
          22.40460017460317,
          21.07995780442177,
          10.380151269841269,
          22.246269984126986,
          27.64879987301587,
          12.780629857142857,
          17.73808211111111,
          17.57798667063492,
          13.363026571428573,
          23.480610793650794,
          11.169886365079366,
          12.090893714285714,
          9.342172214285714,
          10.224134027777778,
          15.996992563492062,
          20.540925571428573,
          33.33673455555556,
          40.29535152380952,
          36.13168858730158,
          22.145723,
          50.545867,
          38.29741825396825,
          43.11330471428572,
          46.41486328571428,
          31.88181383080808,
          24.12119831746032,
          35.401576666666664,
          90.08383182539683,
          36.11959514285714,
          18.626007777777776,
          16.976833222222222,
          20.289088142857143,
          13.872478865079364,
          13.010661698412699,
          26.543381,
          23.189806,
          25.323650714285716,
          21.746419206349206,
          16.582556043650793,
          15.499358742063492,
          9.21191146825397,
          10.835977666666667,
          11.752440333333334,
          11.274193285714286,
          16.51048952777778,
          9.304846238095237,
          12.262131365079366,
          11.539042444444444,
          20.323665134920635,
          13.53408365873016,
          13.561086488095238,
          14.229407793650793,
          16.7464471984127,
          11.615927333333332,
          10.551896428571428,
          10.374867444444444,
          21.61934180952381,
          16.126658015873016,
          16.232364047619047,
          15.81640188888889,
          21.74758879761905,
          12.215295095238094,
          20.245542666666665,
          9.038578571428571,
          13.43830842857143,
          11.123313761904763,
          16.989684040249433,
          24.0441235515873,
          15.789827400793651,
          31.52840374603175,
          29.175657206349204,
          24.965430230158727,
          39.434724238095235,
          34.087091825396826,
          28.33630580952381,
          26.532651777777776,
          29.99286808333333,
          33.55643497222222,
          17.057843015873015,
          35.38950985714286,
          42.26964287698412,
          18.533094507936507,
          36.00902011111111,
          40.05191685714285,
          20.290947,
          13.377440619047618,
          45.58678414285714,
          29.17156957142857,
          20.346162142857143,
          16.697183142857142,
          13.009845380952381,
          10.371841031746031,
          15.075259297619047,
          9.353680190476192,
          14.35049888888889,
          11.705392920634921,
          13.71121842857143,
          19.232941063492063,
          10.429632916666666,
          17.542585761904764,
          19.781292238095237,
          9.40073165079365,
          13.327540968253969,
          11.436242714285713,
          18.891982650793654,
          9.608312137755101,
          21.759218603174606,
          12.940201950113378,
          12.336074209183673,
          17.536946285714286,
          12.789489952380952,
          8.927590031746032,
          7.294351281746032,
          11.04136732142857,
          18.947515805555554,
          28.61138053968254,
          26.006596920634923,
          41.73167031746032,
          17.663446714285715,
          23.074032444444445,
          16.175992841269842,
          12.63284407936508,
          36.01429465873016,
          13.649714984126986,
          34.334403015873015,
          16.86021837698413,
          29.02720557142857,
          27.009072347222222,
          31.091905458333333,
          18.543468999999998,
          23.818119571428575,
          36.057691257936504,
          23.55292698015873,
          20.14526519047619,
          25.456897936507936,
          13.114334265873016,
          31.628703932539683,
          24.35205314285714,
          10.892950976190477,
          19.68621653968254,
          23.11273195238095,
          13.329579571428571,
          13.63391250793651,
          21.110250968253972,
          22.591895666666666,
          17.492394285714287,
          13.675399753968254,
          10.520857126984128,
          13.007970928571428,
          22.38932957142857,
          18.422705206349207,
          13.556073841269841,
          12.82382585714286,
          9.919951285714287,
          12.500188214285714,
          10.804833476190478,
          13.487286095238094,
          15.311595936507937,
          19.806336269841267,
          20.67638596825397,
          12.033073603174604,
          16.826069761904762,
          10.640501479591837,
          12.366404773242632,
          19.594386065192744,
          19.353386714285712,
          10.003792253968255,
          11.115111365079363,
          27.872190484126982,
          28.353429095238095,
          19.30373985714286,
          14.468555321428571,
          19.98084442857143,
          18.821292952380954,
          12.36986209637188,
          18.98131228571429,
          25.623807120181404,
          19.82793171825397,
          27.838400980158728,
          32.65191579761905,
          28.34397648611111,
          33.09254085714286,
          24.49573188888889,
          23.741118761904765,
          16.044040603174604,
          26.83716465079365,
          28.112969174603172,
          55.93504971428571,
          41.257639047619044,
          30.89472010714286,
          21.625721411564626,
          14.055062648526077,
          14.266537,
          17.52999042857143,
          16.65937000510204,
          17.335805746031745,
          24.6600880952381,
          8.977658313492062,
          9.312933634920636,
          7.6759202222222225,
          10.479221142857144,
          8.203286714285714,
          20.842633904761904,
          29.72308111111111,
          15.819163285714286,
          20.628001428571427,
          16.80958480952381,
          9.852880126984127,
          12.721864186507938,
          17.330736607142857,
          11.694807,
          16.24296265873016,
          10.401186924603175,
          17.025148767006804,
          23.77994707482993,
          10.742921616780047,
          12.16825197505669,
          13.111943126984128,
          10.425509476190475,
          10.665606285714286,
          17.89214073015873,
          26.48424930952381,
          22.578957777777777,
          12.879899285714286,
          10.319089795918368,
          8.689771176870748,
          13.087707341269843,
          16.62676931746032,
          22.035999396825396,
          18.170099253968253,
          19.457418384920633,
          19.587307928571427,
          33.0199702,
          35.58479657142857,
          34.647851214285716,
          29.182247142857143,
          42.71545707936507,
          31.686263571428572,
          32.97824442857143,
          25.182330714285715,
          24.983763142857146,
          11.061965142857144,
          22.556395142857145,
          21.39448768253968,
          47.20650657142858,
          16.789744365079365,
          20.220667,
          17.673400238095237,
          17.950977333333334,
          9.666948492063492,
          12.88821084126984,
          12.822418253968253,
          12.198165650793651,
          7.925810670634919,
          9.752080857142857,
          8.462954,
          9.828467714285713,
          14.093135857142856,
          11.192580285714286,
          12.438745351473923,
          8.989105702380952,
          11.907787012471656,
          17.277161563492065,
          12.96520098526077,
          15.49448246031746,
          11.70067557142857,
          12.274739049886621,
          10.307959476190476,
          16.97735271428571,
          19.601779764172335,
          10.272943,
          13.448161142857142,
          13.068847250000001,
          9.068184571428572,
          32.82434585714286,
          19.789031976190476,
          24.522095031746034,
          22.998695714285713,
          18.144670666666666
         ],
         "yaxis": "y"
        }
       ],
       "layout": {
        "legend": {
         "tracegroupgap": 0
        },
        "template": {
         "data": {
          "bar": [
           {
            "error_x": {
             "color": "#2a3f5f"
            },
            "error_y": {
             "color": "#2a3f5f"
            },
            "marker": {
             "line": {
              "color": "#E5ECF6",
              "width": 0.5
             },
             "pattern": {
              "fillmode": "overlay",
              "size": 10,
              "solidity": 0.2
             }
            },
            "type": "bar"
           }
          ],
          "barpolar": [
           {
            "marker": {
             "line": {
              "color": "#E5ECF6",
              "width": 0.5
             },
             "pattern": {
              "fillmode": "overlay",
              "size": 10,
              "solidity": 0.2
             }
            },
            "type": "barpolar"
           }
          ],
          "carpet": [
           {
            "aaxis": {
             "endlinecolor": "#2a3f5f",
             "gridcolor": "white",
             "linecolor": "white",
             "minorgridcolor": "white",
             "startlinecolor": "#2a3f5f"
            },
            "baxis": {
             "endlinecolor": "#2a3f5f",
             "gridcolor": "white",
             "linecolor": "white",
             "minorgridcolor": "white",
             "startlinecolor": "#2a3f5f"
            },
            "type": "carpet"
           }
          ],
          "choropleth": [
           {
            "colorbar": {
             "outlinewidth": 0,
             "ticks": ""
            },
            "type": "choropleth"
           }
          ],
          "contour": [
           {
            "colorbar": {
             "outlinewidth": 0,
             "ticks": ""
            },
            "colorscale": [
             [
              0,
              "#0d0887"
             ],
             [
              0.1111111111111111,
              "#46039f"
             ],
             [
              0.2222222222222222,
              "#7201a8"
             ],
             [
              0.3333333333333333,
              "#9c179e"
             ],
             [
              0.4444444444444444,
              "#bd3786"
             ],
             [
              0.5555555555555556,
              "#d8576b"
             ],
             [
              0.6666666666666666,
              "#ed7953"
             ],
             [
              0.7777777777777778,
              "#fb9f3a"
             ],
             [
              0.8888888888888888,
              "#fdca26"
             ],
             [
              1,
              "#f0f921"
             ]
            ],
            "type": "contour"
           }
          ],
          "contourcarpet": [
           {
            "colorbar": {
             "outlinewidth": 0,
             "ticks": ""
            },
            "type": "contourcarpet"
           }
          ],
          "heatmap": [
           {
            "colorbar": {
             "outlinewidth": 0,
             "ticks": ""
            },
            "colorscale": [
             [
              0,
              "#0d0887"
             ],
             [
              0.1111111111111111,
              "#46039f"
             ],
             [
              0.2222222222222222,
              "#7201a8"
             ],
             [
              0.3333333333333333,
              "#9c179e"
             ],
             [
              0.4444444444444444,
              "#bd3786"
             ],
             [
              0.5555555555555556,
              "#d8576b"
             ],
             [
              0.6666666666666666,
              "#ed7953"
             ],
             [
              0.7777777777777778,
              "#fb9f3a"
             ],
             [
              0.8888888888888888,
              "#fdca26"
             ],
             [
              1,
              "#f0f921"
             ]
            ],
            "type": "heatmap"
           }
          ],
          "heatmapgl": [
           {
            "colorbar": {
             "outlinewidth": 0,
             "ticks": ""
            },
            "colorscale": [
             [
              0,
              "#0d0887"
             ],
             [
              0.1111111111111111,
              "#46039f"
             ],
             [
              0.2222222222222222,
              "#7201a8"
             ],
             [
              0.3333333333333333,
              "#9c179e"
             ],
             [
              0.4444444444444444,
              "#bd3786"
             ],
             [
              0.5555555555555556,
              "#d8576b"
             ],
             [
              0.6666666666666666,
              "#ed7953"
             ],
             [
              0.7777777777777778,
              "#fb9f3a"
             ],
             [
              0.8888888888888888,
              "#fdca26"
             ],
             [
              1,
              "#f0f921"
             ]
            ],
            "type": "heatmapgl"
           }
          ],
          "histogram": [
           {
            "marker": {
             "pattern": {
              "fillmode": "overlay",
              "size": 10,
              "solidity": 0.2
             }
            },
            "type": "histogram"
           }
          ],
          "histogram2d": [
           {
            "colorbar": {
             "outlinewidth": 0,
             "ticks": ""
            },
            "colorscale": [
             [
              0,
              "#0d0887"
             ],
             [
              0.1111111111111111,
              "#46039f"
             ],
             [
              0.2222222222222222,
              "#7201a8"
             ],
             [
              0.3333333333333333,
              "#9c179e"
             ],
             [
              0.4444444444444444,
              "#bd3786"
             ],
             [
              0.5555555555555556,
              "#d8576b"
             ],
             [
              0.6666666666666666,
              "#ed7953"
             ],
             [
              0.7777777777777778,
              "#fb9f3a"
             ],
             [
              0.8888888888888888,
              "#fdca26"
             ],
             [
              1,
              "#f0f921"
             ]
            ],
            "type": "histogram2d"
           }
          ],
          "histogram2dcontour": [
           {
            "colorbar": {
             "outlinewidth": 0,
             "ticks": ""
            },
            "colorscale": [
             [
              0,
              "#0d0887"
             ],
             [
              0.1111111111111111,
              "#46039f"
             ],
             [
              0.2222222222222222,
              "#7201a8"
             ],
             [
              0.3333333333333333,
              "#9c179e"
             ],
             [
              0.4444444444444444,
              "#bd3786"
             ],
             [
              0.5555555555555556,
              "#d8576b"
             ],
             [
              0.6666666666666666,
              "#ed7953"
             ],
             [
              0.7777777777777778,
              "#fb9f3a"
             ],
             [
              0.8888888888888888,
              "#fdca26"
             ],
             [
              1,
              "#f0f921"
             ]
            ],
            "type": "histogram2dcontour"
           }
          ],
          "mesh3d": [
           {
            "colorbar": {
             "outlinewidth": 0,
             "ticks": ""
            },
            "type": "mesh3d"
           }
          ],
          "parcoords": [
           {
            "line": {
             "colorbar": {
              "outlinewidth": 0,
              "ticks": ""
             }
            },
            "type": "parcoords"
           }
          ],
          "pie": [
           {
            "automargin": true,
            "type": "pie"
           }
          ],
          "scatter": [
           {
            "marker": {
             "colorbar": {
              "outlinewidth": 0,
              "ticks": ""
             }
            },
            "type": "scatter"
           }
          ],
          "scatter3d": [
           {
            "line": {
             "colorbar": {
              "outlinewidth": 0,
              "ticks": ""
             }
            },
            "marker": {
             "colorbar": {
              "outlinewidth": 0,
              "ticks": ""
             }
            },
            "type": "scatter3d"
           }
          ],
          "scattercarpet": [
           {
            "marker": {
             "colorbar": {
              "outlinewidth": 0,
              "ticks": ""
             }
            },
            "type": "scattercarpet"
           }
          ],
          "scattergeo": [
           {
            "marker": {
             "colorbar": {
              "outlinewidth": 0,
              "ticks": ""
             }
            },
            "type": "scattergeo"
           }
          ],
          "scattergl": [
           {
            "marker": {
             "colorbar": {
              "outlinewidth": 0,
              "ticks": ""
             }
            },
            "type": "scattergl"
           }
          ],
          "scattermapbox": [
           {
            "marker": {
             "colorbar": {
              "outlinewidth": 0,
              "ticks": ""
             }
            },
            "type": "scattermapbox"
           }
          ],
          "scatterpolar": [
           {
            "marker": {
             "colorbar": {
              "outlinewidth": 0,
              "ticks": ""
             }
            },
            "type": "scatterpolar"
           }
          ],
          "scatterpolargl": [
           {
            "marker": {
             "colorbar": {
              "outlinewidth": 0,
              "ticks": ""
             }
            },
            "type": "scatterpolargl"
           }
          ],
          "scatterternary": [
           {
            "marker": {
             "colorbar": {
              "outlinewidth": 0,
              "ticks": ""
             }
            },
            "type": "scatterternary"
           }
          ],
          "surface": [
           {
            "colorbar": {
             "outlinewidth": 0,
             "ticks": ""
            },
            "colorscale": [
             [
              0,
              "#0d0887"
             ],
             [
              0.1111111111111111,
              "#46039f"
             ],
             [
              0.2222222222222222,
              "#7201a8"
             ],
             [
              0.3333333333333333,
              "#9c179e"
             ],
             [
              0.4444444444444444,
              "#bd3786"
             ],
             [
              0.5555555555555556,
              "#d8576b"
             ],
             [
              0.6666666666666666,
              "#ed7953"
             ],
             [
              0.7777777777777778,
              "#fb9f3a"
             ],
             [
              0.8888888888888888,
              "#fdca26"
             ],
             [
              1,
              "#f0f921"
             ]
            ],
            "type": "surface"
           }
          ],
          "table": [
           {
            "cells": {
             "fill": {
              "color": "#EBF0F8"
             },
             "line": {
              "color": "white"
             }
            },
            "header": {
             "fill": {
              "color": "#C8D4E3"
             },
             "line": {
              "color": "white"
             }
            },
            "type": "table"
           }
          ]
         },
         "layout": {
          "annotationdefaults": {
           "arrowcolor": "#2a3f5f",
           "arrowhead": 0,
           "arrowwidth": 1
          },
          "autotypenumbers": "strict",
          "coloraxis": {
           "colorbar": {
            "outlinewidth": 0,
            "ticks": ""
           }
          },
          "colorscale": {
           "diverging": [
            [
             0,
             "#8e0152"
            ],
            [
             0.1,
             "#c51b7d"
            ],
            [
             0.2,
             "#de77ae"
            ],
            [
             0.3,
             "#f1b6da"
            ],
            [
             0.4,
             "#fde0ef"
            ],
            [
             0.5,
             "#f7f7f7"
            ],
            [
             0.6,
             "#e6f5d0"
            ],
            [
             0.7,
             "#b8e186"
            ],
            [
             0.8,
             "#7fbc41"
            ],
            [
             0.9,
             "#4d9221"
            ],
            [
             1,
             "#276419"
            ]
           ],
           "sequential": [
            [
             0,
             "#0d0887"
            ],
            [
             0.1111111111111111,
             "#46039f"
            ],
            [
             0.2222222222222222,
             "#7201a8"
            ],
            [
             0.3333333333333333,
             "#9c179e"
            ],
            [
             0.4444444444444444,
             "#bd3786"
            ],
            [
             0.5555555555555556,
             "#d8576b"
            ],
            [
             0.6666666666666666,
             "#ed7953"
            ],
            [
             0.7777777777777778,
             "#fb9f3a"
            ],
            [
             0.8888888888888888,
             "#fdca26"
            ],
            [
             1,
             "#f0f921"
            ]
           ],
           "sequentialminus": [
            [
             0,
             "#0d0887"
            ],
            [
             0.1111111111111111,
             "#46039f"
            ],
            [
             0.2222222222222222,
             "#7201a8"
            ],
            [
             0.3333333333333333,
             "#9c179e"
            ],
            [
             0.4444444444444444,
             "#bd3786"
            ],
            [
             0.5555555555555556,
             "#d8576b"
            ],
            [
             0.6666666666666666,
             "#ed7953"
            ],
            [
             0.7777777777777778,
             "#fb9f3a"
            ],
            [
             0.8888888888888888,
             "#fdca26"
            ],
            [
             1,
             "#f0f921"
            ]
           ]
          },
          "colorway": [
           "#636efa",
           "#EF553B",
           "#00cc96",
           "#ab63fa",
           "#FFA15A",
           "#19d3f3",
           "#FF6692",
           "#B6E880",
           "#FF97FF",
           "#FECB52"
          ],
          "font": {
           "color": "#2a3f5f"
          },
          "geo": {
           "bgcolor": "white",
           "lakecolor": "white",
           "landcolor": "#E5ECF6",
           "showlakes": true,
           "showland": true,
           "subunitcolor": "white"
          },
          "hoverlabel": {
           "align": "left"
          },
          "hovermode": "closest",
          "mapbox": {
           "style": "light"
          },
          "paper_bgcolor": "white",
          "plot_bgcolor": "#E5ECF6",
          "polar": {
           "angularaxis": {
            "gridcolor": "white",
            "linecolor": "white",
            "ticks": ""
           },
           "bgcolor": "#E5ECF6",
           "radialaxis": {
            "gridcolor": "white",
            "linecolor": "white",
            "ticks": ""
           }
          },
          "scene": {
           "xaxis": {
            "backgroundcolor": "#E5ECF6",
            "gridcolor": "white",
            "gridwidth": 2,
            "linecolor": "white",
            "showbackground": true,
            "ticks": "",
            "zerolinecolor": "white"
           },
           "yaxis": {
            "backgroundcolor": "#E5ECF6",
            "gridcolor": "white",
            "gridwidth": 2,
            "linecolor": "white",
            "showbackground": true,
            "ticks": "",
            "zerolinecolor": "white"
           },
           "zaxis": {
            "backgroundcolor": "#E5ECF6",
            "gridcolor": "white",
            "gridwidth": 2,
            "linecolor": "white",
            "showbackground": true,
            "ticks": "",
            "zerolinecolor": "white"
           }
          },
          "shapedefaults": {
           "line": {
            "color": "#2a3f5f"
           }
          },
          "ternary": {
           "aaxis": {
            "gridcolor": "white",
            "linecolor": "white",
            "ticks": ""
           },
           "baxis": {
            "gridcolor": "white",
            "linecolor": "white",
            "ticks": ""
           },
           "bgcolor": "#E5ECF6",
           "caxis": {
            "gridcolor": "white",
            "linecolor": "white",
            "ticks": ""
           }
          },
          "title": {
           "x": 0.05
          },
          "xaxis": {
           "automargin": true,
           "gridcolor": "white",
           "linecolor": "white",
           "ticks": "",
           "title": {
            "standoff": 15
           },
           "zerolinecolor": "white",
           "zerolinewidth": 2
          },
          "yaxis": {
           "automargin": true,
           "gridcolor": "white",
           "linecolor": "white",
           "ticks": "",
           "title": {
            "standoff": 15
           },
           "zerolinecolor": "white",
           "zerolinewidth": 2
          }
         }
        },
        "title": {
         "text": "Provincia: Udine"
        },
        "xaxis": {
         "anchor": "y",
         "domain": [
          0,
          1
         ],
         "title": {
          "text": "time_idx"
         }
        },
        "yaxis": {
         "anchor": "x",
         "domain": [
          0,
          1
         ],
         "title": {
          "text": "pm10_giornaliera"
         }
        }
       }
      }
     },
     "metadata": {},
     "output_type": "display_data"
    }
   ],
   "source": [
    "import plotly.express as px\n",
    "for provincia in list(df_settimanale[\"provincia\"].unique()):\n",
    "    plot_df = df_settimanale[df_settimanale[\"provincia\"]==provincia][[\"time_idx\",\"pm10_giornaliera\"]]\n",
    "    fig = px.line(plot_df, x=\"time_idx\",y=\"pm10_giornaliera\", title=\"Provincia: {}\".format(provincia))\n",
    "    fig.show()"
   ]
  },
  {
   "cell_type": "code",
   "execution_count": 26,
   "metadata": {},
   "outputs": [
    {
     "data": {
      "application/vnd.plotly.v1+json": {
       "config": {
        "plotlyServerURL": "https://plot.ly"
       },
       "data": [
        {
         "hovertemplate": "time_idx=%{x}<br>pm2dot5_giornaliera=%{y}<extra></extra>",
         "legendgroup": "",
         "line": {
          "color": "#636efa",
          "dash": "solid"
         },
         "marker": {
          "symbol": "circle"
         },
         "mode": "lines",
         "name": "",
         "orientation": "v",
         "showlegend": false,
         "type": "scatter",
         "x": [
          0,
          1,
          2,
          3,
          4,
          5,
          6,
          7,
          8,
          9,
          10,
          11,
          12,
          13,
          14,
          15,
          16,
          17,
          18,
          19,
          20,
          21,
          22,
          23,
          24,
          25,
          26,
          27,
          28,
          29,
          30,
          31,
          32,
          33,
          34,
          35,
          36,
          37,
          38,
          39,
          40,
          41,
          42,
          43,
          44,
          45,
          46,
          47,
          48,
          49,
          50,
          51,
          52,
          53,
          54,
          55,
          56,
          57,
          58,
          59,
          60,
          61,
          62,
          63,
          64,
          65,
          66,
          67,
          68,
          69,
          70,
          71,
          72,
          73,
          74,
          75,
          76,
          77,
          78,
          79,
          80,
          81,
          82,
          83,
          84,
          85,
          86,
          87,
          88,
          89,
          90,
          91,
          92,
          93,
          94,
          95,
          96,
          97,
          98,
          99,
          100,
          101,
          102,
          103,
          104,
          105,
          106,
          107,
          108,
          109,
          110,
          111,
          112,
          113,
          114,
          115,
          116,
          117,
          118,
          119,
          120,
          121,
          122,
          123,
          124,
          125,
          126,
          127,
          128,
          129,
          130,
          131,
          132,
          133,
          134,
          135,
          136,
          137,
          138,
          139,
          140,
          141,
          142,
          143,
          144,
          145,
          146,
          147,
          148,
          149,
          150,
          151,
          152,
          153,
          154,
          155,
          156,
          157,
          158,
          159,
          160,
          161,
          162,
          163,
          164,
          165,
          166,
          167,
          168,
          169,
          170,
          171,
          172,
          173,
          174,
          175,
          176,
          177,
          178,
          179,
          180,
          181,
          182,
          183,
          184,
          185,
          186,
          187,
          188,
          189,
          190,
          191,
          192,
          193,
          194,
          195,
          196,
          197,
          198,
          199,
          200,
          201,
          202,
          203,
          204,
          205,
          206,
          207,
          208,
          209,
          210,
          211,
          212,
          213,
          214,
          215,
          216,
          217,
          218,
          219,
          220,
          221,
          222,
          223,
          224,
          225,
          226,
          227,
          228,
          229,
          230,
          231,
          232,
          233,
          234,
          235,
          236,
          237,
          238,
          239,
          240,
          241,
          242,
          243,
          244,
          245,
          246,
          247,
          248,
          249,
          250,
          251,
          252,
          253,
          254,
          255,
          256,
          257,
          258,
          259,
          260,
          261,
          262,
          263,
          264,
          265,
          266,
          267,
          268,
          269,
          270,
          271,
          272,
          273,
          274,
          275,
          276,
          277,
          278,
          279,
          280,
          281,
          282,
          283,
          284,
          285,
          286,
          287,
          288,
          289,
          290,
          291,
          292,
          293,
          294,
          295,
          296,
          297,
          298,
          299,
          300,
          301,
          302,
          303,
          304,
          305,
          306,
          307,
          308,
          309,
          310,
          311,
          312,
          313,
          314,
          315,
          316,
          317,
          318,
          319,
          320,
          321,
          322,
          323,
          324,
          325,
          326,
          327,
          328,
          329,
          330,
          331,
          332,
          333,
          334,
          335,
          336,
          337,
          338,
          339,
          340,
          341,
          342,
          343,
          344,
          345,
          346,
          347,
          348,
          349,
          350,
          351,
          352,
          353,
          354,
          355,
          356,
          357,
          358
         ],
         "xaxis": "x",
         "y": [
          16.647083333333335,
          40.95976190476191,
          22.282857142857146,
          14.08095238095238,
          14.944285714285714,
          13.20142857142857,
          10.417142857142858,
          10.673809523809524,
          14.450952380952382,
          17.619761904761905,
          31.48619047619048,
          27.325714285714287,
          12.117142857142856,
          18.94857142857143,
          8.709999999999999,
          7.439285714285715,
          8.483809523809523,
          9.700476190476191,
          8.70452380952381,
          4.302619047619047,
          9.454285714285716,
          6.703809523809523,
          10.558809523809524,
          10.21642857142857,
          9.573333333333334,
          8.851666666666667,
          7.355238095238096,
          5.883095238095238,
          10.286666666666665,
          8.287142857142857,
          7.780952380952381,
          9.215714285714286,
          6.989285714285714,
          6.13047619047619,
          7.855238095238095,
          9.567142857142857,
          8.98452380952381,
          11.422380952380951,
          10.404285714285715,
          12.42952380952381,
          14.66404761904762,
          10.021904761904763,
          10.274285714285714,
          14.851904761904763,
          10.178571428571429,
          10.220952380952381,
          11.464285714285714,
          14.624285714285715,
          5.708095238095238,
          21.468571428571426,
          23.060952380952383,
          24.045714285714286,
          22.91166666666667,
          29.42761904761905,
          23.00761904761905,
          10.902857142857142,
          11.643333333333333,
          10.635238095238094,
          17.695476190476192,
          24.041428571428572,
          10.281428571428572,
          7.580952380952381,
          16.38,
          19.841904761904765,
          12.870000000000001,
          6.585238095238095,
          11.431666666666668,
          10.995714285714286,
          11.60095238095238,
          8.451904761904762,
          8.732142857142858,
          7.175714285714285,
          6.420476190476191,
          7.180000000000001,
          11.924285714285714,
          12.996190476190476,
          6.557142857142857,
          5.356190476190476,
          9.871666666666668,
          10.39952380952381,
          13.374761904761906,
          13.96809523809524,
          6.05952380952381,
          15.337857142857144,
          13.332857142857142,
          6.559047619047619,
          9.263095238095238,
          9.803809523809523,
          8.417142857142858,
          9.749285714285715,
          6.848333333333334,
          7.9209523809523805,
          5.322619047619048,
          6.430714285714286,
          9.802619047619048,
          15.346666666666666,
          28.930952380952384,
          26.73785714285714,
          25.179761904761904,
          13.209999999999999,
          38.49880952380953,
          27.036666666666665,
          31.020476190476188,
          30.163571428571426,
          20.754242424242424,
          13.139523809523808,
          22.009999999999998,
          63.85285714285715,
          23.85904761904762,
          12.82738095238095,
          12.230476190476192,
          12.786190476190475,
          9.499047619047618,
          11.126666666666667,
          21.095238095238095,
          14.799999999999999,
          14.328095238095239,
          14.163333333333332,
          9.260238095238096,
          8.744761904761905,
          6.172380952380952,
          8.58952380952381,
          7.574285714285714,
          7.962380952380952,
          9.727619047619047,
          5.944999999999999,
          8.802380952380952,
          5.626904761904762,
          13.489285714285714,
          8.235714285714286,
          9.16,
          9.68142857142857,
          11.145,
          8.595833333333333,
          7.0842857142857145,
          6.986190476190477,
          7.647619047619047,
          10.421904761904761,
          11.031428571428572,
          13.683333333333334,
          15.455238095238096,
          8.239523809523808,
          13.326666666666666,
          6.278809523809524,
          8.227619047619047,
          7.977142857142858,
          11.693809523809524,
          15.60404761904762,
          8.635238095238096,
          23.525714285714287,
          18.477619047619047,
          17.45380952380952,
          32.93190476190476,
          26.535714285714285,
          17.372380952380954,
          16.849444444444444,
          19.3565,
          23.25714285714286,
          12.174047619047618,
          28.482142857142858,
          32.872142857142855,
          13.679285714285713,
          27.25238095238095,
          28.907380952380954,
          10.722380952380954,
          8.242380952380952,
          30.07904761904762,
          17.570476190476192,
          11.719285714285714,
          10.688809523809523,
          8.527619047619048,
          6.486190476190477,
          8.882380952380952,
          7.3428571428571425,
          7.695238095238095,
          7.795238095238095,
          8.763809523809524,
          11.92952380952381,
          6.576190476190476,
          10.305238095238096,
          11.997142857142858,
          5.705238095238095,
          8.42142857142857,
          7.472857142857143,
          12.195714285714285,
          6.413809523809524,
          13.882142857142856,
          8.043333333333333,
          7.791666666666667,
          9.262142857142857,
          7.844285714285713,
          5.799285714285714,
          4.853571428571429,
          6.687142857142858,
          13.230238095238095,
          15.763571428571428,
          14.29761904761905,
          30.997857142857146,
          12.808571428571428,
          11.551190476190476,
          13.174285714285714,
          7.202619047619047,
          29.35690476190476,
          9.432857142857143,
          27.059523809523807,
          9.331904761904761,
          20.30547619047619,
          24.01375,
          19.43625,
          9.115714285714287,
          17.774761904761906,
          25.232857142857142,
          16.345714285714287,
          13.817142857142857,
          17.365714285714287,
          11.072380952380952,
          26.043333333333333,
          15.765714285714285,
          7.296428571428571,
          13.528333333333334,
          14.234047619047617,
          7.1276190476190475,
          8.146190476190476,
          10.818095238095239,
          11.282380952380953,
          10.184285714285712,
          9.383809523809523,
          5.833333333333334,
          9.892142857142858,
          13.498571428571429,
          9.239285714285714,
          8.84142857142857,
          7.832142857142857,
          6.107142857142857,
          8.116666666666665,
          7.590000000000001,
          9.380952380952381,
          9.687142857142858,
          12.485,
          12.876190476190475,
          8.68,
          11.993095238095238,
          7.126904761904762,
          8.695714285714287,
          13.387142857142859,
          12.526666666666667,
          5.997857142857143,
          8.075714285714286,
          22.244047619047617,
          21.66952380952381,
          10.278095238095236,
          7.331428571428572,
          11.853809523809526,
          12.771904761904763,
          7.838809523809524,
          14.155,
          19.66952380952381,
          13.770714285714286,
          21.10238095238095,
          23.833333333333332,
          17.72458333333333,
          20.250238095238096,
          16.897380952380953,
          18.013333333333332,
          7.55952380952381,
          16.763333333333332,
          18.848095238095237,
          38.55809523809524,
          24.898095238095237,
          17.82595238095238,
          10.771428571428572,
          9.873333333333335,
          9.66904761904762,
          11.625,
          11.883333333333335,
          11.838809523809525,
          9.293333333333335,
          6.799285714285714,
          5.12,
          5.420238095238095,
          6.690952380952381,
          4.769285714285714,
          10.71642857142857,
          13.267142857142858,
          9.413333333333336,
          11.628095238095238,
          10.145714285714286,
          7.048095238095238,
          9.321428571428571,
          9.25,
          7.071428571428571,
          8.418571428571429,
          6.139523809523809,
          10.78952380952381,
          18.30857142857143,
          7.452142857142857,
          7.420476190476191,
          7.250238095238095,
          6.724047619047619,
          5.473571428571428,
          12.154523809523809,
          16.41761904761905,
          13.87595238095238,
          10.204285714285714,
          5.594285714285713,
          4.953809523809524,
          9.161904761904763,
          12.19404761904762,
          18.26142857142857,
          13.01547619047619,
          12.888095238095238,
          10.710952380952381,
          22.316666666666666,
          24.66904761904762,
          29.702380952380953,
          22.44333333333333,
          37.182857142857145,
          21.99547619047619,
          22.43,
          17.401904761904763,
          13.211428571428572,
          7.221428571428571,
          16.458095238095236,
          14.998571428571429,
          17.746190476190474,
          11.119523809523809,
          13.922142857142857,
          10.804761904761904,
          11.956190476190475,
          4.954473684210527,
          6.714285714285714,
          6.873809523809524,
          7.6380952380952385,
          4.862591575091575,
          5.313957307060755,
          4.273809523809524,
          5.707142857142857,
          9.252380952380951,
          7.45952380952381,
          7.128571428571428,
          5.992857142857143,
          7.566666666666667,
          12.495238095238095,
          9.073809523809524,
          10.928571428571429,
          6.916666666666666,
          7.271428571428571,
          5.821428571428571,
          11.316666666666666,
          13.01082251082251,
          6.1761904761904765,
          7.590476190476191,
          7.471428571428572,
          5.3428571428571425,
          20.7,
          13.766666666666667,
          18.561904761904763,
          18.323809523809526,
          11.288888888888886
         ],
         "yaxis": "y"
        }
       ],
       "layout": {
        "legend": {
         "tracegroupgap": 0
        },
        "template": {
         "data": {
          "bar": [
           {
            "error_x": {
             "color": "#2a3f5f"
            },
            "error_y": {
             "color": "#2a3f5f"
            },
            "marker": {
             "line": {
              "color": "#E5ECF6",
              "width": 0.5
             },
             "pattern": {
              "fillmode": "overlay",
              "size": 10,
              "solidity": 0.2
             }
            },
            "type": "bar"
           }
          ],
          "barpolar": [
           {
            "marker": {
             "line": {
              "color": "#E5ECF6",
              "width": 0.5
             },
             "pattern": {
              "fillmode": "overlay",
              "size": 10,
              "solidity": 0.2
             }
            },
            "type": "barpolar"
           }
          ],
          "carpet": [
           {
            "aaxis": {
             "endlinecolor": "#2a3f5f",
             "gridcolor": "white",
             "linecolor": "white",
             "minorgridcolor": "white",
             "startlinecolor": "#2a3f5f"
            },
            "baxis": {
             "endlinecolor": "#2a3f5f",
             "gridcolor": "white",
             "linecolor": "white",
             "minorgridcolor": "white",
             "startlinecolor": "#2a3f5f"
            },
            "type": "carpet"
           }
          ],
          "choropleth": [
           {
            "colorbar": {
             "outlinewidth": 0,
             "ticks": ""
            },
            "type": "choropleth"
           }
          ],
          "contour": [
           {
            "colorbar": {
             "outlinewidth": 0,
             "ticks": ""
            },
            "colorscale": [
             [
              0,
              "#0d0887"
             ],
             [
              0.1111111111111111,
              "#46039f"
             ],
             [
              0.2222222222222222,
              "#7201a8"
             ],
             [
              0.3333333333333333,
              "#9c179e"
             ],
             [
              0.4444444444444444,
              "#bd3786"
             ],
             [
              0.5555555555555556,
              "#d8576b"
             ],
             [
              0.6666666666666666,
              "#ed7953"
             ],
             [
              0.7777777777777778,
              "#fb9f3a"
             ],
             [
              0.8888888888888888,
              "#fdca26"
             ],
             [
              1,
              "#f0f921"
             ]
            ],
            "type": "contour"
           }
          ],
          "contourcarpet": [
           {
            "colorbar": {
             "outlinewidth": 0,
             "ticks": ""
            },
            "type": "contourcarpet"
           }
          ],
          "heatmap": [
           {
            "colorbar": {
             "outlinewidth": 0,
             "ticks": ""
            },
            "colorscale": [
             [
              0,
              "#0d0887"
             ],
             [
              0.1111111111111111,
              "#46039f"
             ],
             [
              0.2222222222222222,
              "#7201a8"
             ],
             [
              0.3333333333333333,
              "#9c179e"
             ],
             [
              0.4444444444444444,
              "#bd3786"
             ],
             [
              0.5555555555555556,
              "#d8576b"
             ],
             [
              0.6666666666666666,
              "#ed7953"
             ],
             [
              0.7777777777777778,
              "#fb9f3a"
             ],
             [
              0.8888888888888888,
              "#fdca26"
             ],
             [
              1,
              "#f0f921"
             ]
            ],
            "type": "heatmap"
           }
          ],
          "heatmapgl": [
           {
            "colorbar": {
             "outlinewidth": 0,
             "ticks": ""
            },
            "colorscale": [
             [
              0,
              "#0d0887"
             ],
             [
              0.1111111111111111,
              "#46039f"
             ],
             [
              0.2222222222222222,
              "#7201a8"
             ],
             [
              0.3333333333333333,
              "#9c179e"
             ],
             [
              0.4444444444444444,
              "#bd3786"
             ],
             [
              0.5555555555555556,
              "#d8576b"
             ],
             [
              0.6666666666666666,
              "#ed7953"
             ],
             [
              0.7777777777777778,
              "#fb9f3a"
             ],
             [
              0.8888888888888888,
              "#fdca26"
             ],
             [
              1,
              "#f0f921"
             ]
            ],
            "type": "heatmapgl"
           }
          ],
          "histogram": [
           {
            "marker": {
             "pattern": {
              "fillmode": "overlay",
              "size": 10,
              "solidity": 0.2
             }
            },
            "type": "histogram"
           }
          ],
          "histogram2d": [
           {
            "colorbar": {
             "outlinewidth": 0,
             "ticks": ""
            },
            "colorscale": [
             [
              0,
              "#0d0887"
             ],
             [
              0.1111111111111111,
              "#46039f"
             ],
             [
              0.2222222222222222,
              "#7201a8"
             ],
             [
              0.3333333333333333,
              "#9c179e"
             ],
             [
              0.4444444444444444,
              "#bd3786"
             ],
             [
              0.5555555555555556,
              "#d8576b"
             ],
             [
              0.6666666666666666,
              "#ed7953"
             ],
             [
              0.7777777777777778,
              "#fb9f3a"
             ],
             [
              0.8888888888888888,
              "#fdca26"
             ],
             [
              1,
              "#f0f921"
             ]
            ],
            "type": "histogram2d"
           }
          ],
          "histogram2dcontour": [
           {
            "colorbar": {
             "outlinewidth": 0,
             "ticks": ""
            },
            "colorscale": [
             [
              0,
              "#0d0887"
             ],
             [
              0.1111111111111111,
              "#46039f"
             ],
             [
              0.2222222222222222,
              "#7201a8"
             ],
             [
              0.3333333333333333,
              "#9c179e"
             ],
             [
              0.4444444444444444,
              "#bd3786"
             ],
             [
              0.5555555555555556,
              "#d8576b"
             ],
             [
              0.6666666666666666,
              "#ed7953"
             ],
             [
              0.7777777777777778,
              "#fb9f3a"
             ],
             [
              0.8888888888888888,
              "#fdca26"
             ],
             [
              1,
              "#f0f921"
             ]
            ],
            "type": "histogram2dcontour"
           }
          ],
          "mesh3d": [
           {
            "colorbar": {
             "outlinewidth": 0,
             "ticks": ""
            },
            "type": "mesh3d"
           }
          ],
          "parcoords": [
           {
            "line": {
             "colorbar": {
              "outlinewidth": 0,
              "ticks": ""
             }
            },
            "type": "parcoords"
           }
          ],
          "pie": [
           {
            "automargin": true,
            "type": "pie"
           }
          ],
          "scatter": [
           {
            "marker": {
             "colorbar": {
              "outlinewidth": 0,
              "ticks": ""
             }
            },
            "type": "scatter"
           }
          ],
          "scatter3d": [
           {
            "line": {
             "colorbar": {
              "outlinewidth": 0,
              "ticks": ""
             }
            },
            "marker": {
             "colorbar": {
              "outlinewidth": 0,
              "ticks": ""
             }
            },
            "type": "scatter3d"
           }
          ],
          "scattercarpet": [
           {
            "marker": {
             "colorbar": {
              "outlinewidth": 0,
              "ticks": ""
             }
            },
            "type": "scattercarpet"
           }
          ],
          "scattergeo": [
           {
            "marker": {
             "colorbar": {
              "outlinewidth": 0,
              "ticks": ""
             }
            },
            "type": "scattergeo"
           }
          ],
          "scattergl": [
           {
            "marker": {
             "colorbar": {
              "outlinewidth": 0,
              "ticks": ""
             }
            },
            "type": "scattergl"
           }
          ],
          "scattermapbox": [
           {
            "marker": {
             "colorbar": {
              "outlinewidth": 0,
              "ticks": ""
             }
            },
            "type": "scattermapbox"
           }
          ],
          "scatterpolar": [
           {
            "marker": {
             "colorbar": {
              "outlinewidth": 0,
              "ticks": ""
             }
            },
            "type": "scatterpolar"
           }
          ],
          "scatterpolargl": [
           {
            "marker": {
             "colorbar": {
              "outlinewidth": 0,
              "ticks": ""
             }
            },
            "type": "scatterpolargl"
           }
          ],
          "scatterternary": [
           {
            "marker": {
             "colorbar": {
              "outlinewidth": 0,
              "ticks": ""
             }
            },
            "type": "scatterternary"
           }
          ],
          "surface": [
           {
            "colorbar": {
             "outlinewidth": 0,
             "ticks": ""
            },
            "colorscale": [
             [
              0,
              "#0d0887"
             ],
             [
              0.1111111111111111,
              "#46039f"
             ],
             [
              0.2222222222222222,
              "#7201a8"
             ],
             [
              0.3333333333333333,
              "#9c179e"
             ],
             [
              0.4444444444444444,
              "#bd3786"
             ],
             [
              0.5555555555555556,
              "#d8576b"
             ],
             [
              0.6666666666666666,
              "#ed7953"
             ],
             [
              0.7777777777777778,
              "#fb9f3a"
             ],
             [
              0.8888888888888888,
              "#fdca26"
             ],
             [
              1,
              "#f0f921"
             ]
            ],
            "type": "surface"
           }
          ],
          "table": [
           {
            "cells": {
             "fill": {
              "color": "#EBF0F8"
             },
             "line": {
              "color": "white"
             }
            },
            "header": {
             "fill": {
              "color": "#C8D4E3"
             },
             "line": {
              "color": "white"
             }
            },
            "type": "table"
           }
          ]
         },
         "layout": {
          "annotationdefaults": {
           "arrowcolor": "#2a3f5f",
           "arrowhead": 0,
           "arrowwidth": 1
          },
          "autotypenumbers": "strict",
          "coloraxis": {
           "colorbar": {
            "outlinewidth": 0,
            "ticks": ""
           }
          },
          "colorscale": {
           "diverging": [
            [
             0,
             "#8e0152"
            ],
            [
             0.1,
             "#c51b7d"
            ],
            [
             0.2,
             "#de77ae"
            ],
            [
             0.3,
             "#f1b6da"
            ],
            [
             0.4,
             "#fde0ef"
            ],
            [
             0.5,
             "#f7f7f7"
            ],
            [
             0.6,
             "#e6f5d0"
            ],
            [
             0.7,
             "#b8e186"
            ],
            [
             0.8,
             "#7fbc41"
            ],
            [
             0.9,
             "#4d9221"
            ],
            [
             1,
             "#276419"
            ]
           ],
           "sequential": [
            [
             0,
             "#0d0887"
            ],
            [
             0.1111111111111111,
             "#46039f"
            ],
            [
             0.2222222222222222,
             "#7201a8"
            ],
            [
             0.3333333333333333,
             "#9c179e"
            ],
            [
             0.4444444444444444,
             "#bd3786"
            ],
            [
             0.5555555555555556,
             "#d8576b"
            ],
            [
             0.6666666666666666,
             "#ed7953"
            ],
            [
             0.7777777777777778,
             "#fb9f3a"
            ],
            [
             0.8888888888888888,
             "#fdca26"
            ],
            [
             1,
             "#f0f921"
            ]
           ],
           "sequentialminus": [
            [
             0,
             "#0d0887"
            ],
            [
             0.1111111111111111,
             "#46039f"
            ],
            [
             0.2222222222222222,
             "#7201a8"
            ],
            [
             0.3333333333333333,
             "#9c179e"
            ],
            [
             0.4444444444444444,
             "#bd3786"
            ],
            [
             0.5555555555555556,
             "#d8576b"
            ],
            [
             0.6666666666666666,
             "#ed7953"
            ],
            [
             0.7777777777777778,
             "#fb9f3a"
            ],
            [
             0.8888888888888888,
             "#fdca26"
            ],
            [
             1,
             "#f0f921"
            ]
           ]
          },
          "colorway": [
           "#636efa",
           "#EF553B",
           "#00cc96",
           "#ab63fa",
           "#FFA15A",
           "#19d3f3",
           "#FF6692",
           "#B6E880",
           "#FF97FF",
           "#FECB52"
          ],
          "font": {
           "color": "#2a3f5f"
          },
          "geo": {
           "bgcolor": "white",
           "lakecolor": "white",
           "landcolor": "#E5ECF6",
           "showlakes": true,
           "showland": true,
           "subunitcolor": "white"
          },
          "hoverlabel": {
           "align": "left"
          },
          "hovermode": "closest",
          "mapbox": {
           "style": "light"
          },
          "paper_bgcolor": "white",
          "plot_bgcolor": "#E5ECF6",
          "polar": {
           "angularaxis": {
            "gridcolor": "white",
            "linecolor": "white",
            "ticks": ""
           },
           "bgcolor": "#E5ECF6",
           "radialaxis": {
            "gridcolor": "white",
            "linecolor": "white",
            "ticks": ""
           }
          },
          "scene": {
           "xaxis": {
            "backgroundcolor": "#E5ECF6",
            "gridcolor": "white",
            "gridwidth": 2,
            "linecolor": "white",
            "showbackground": true,
            "ticks": "",
            "zerolinecolor": "white"
           },
           "yaxis": {
            "backgroundcolor": "#E5ECF6",
            "gridcolor": "white",
            "gridwidth": 2,
            "linecolor": "white",
            "showbackground": true,
            "ticks": "",
            "zerolinecolor": "white"
           },
           "zaxis": {
            "backgroundcolor": "#E5ECF6",
            "gridcolor": "white",
            "gridwidth": 2,
            "linecolor": "white",
            "showbackground": true,
            "ticks": "",
            "zerolinecolor": "white"
           }
          },
          "shapedefaults": {
           "line": {
            "color": "#2a3f5f"
           }
          },
          "ternary": {
           "aaxis": {
            "gridcolor": "white",
            "linecolor": "white",
            "ticks": ""
           },
           "baxis": {
            "gridcolor": "white",
            "linecolor": "white",
            "ticks": ""
           },
           "bgcolor": "#E5ECF6",
           "caxis": {
            "gridcolor": "white",
            "linecolor": "white",
            "ticks": ""
           }
          },
          "title": {
           "x": 0.05
          },
          "xaxis": {
           "automargin": true,
           "gridcolor": "white",
           "linecolor": "white",
           "ticks": "",
           "title": {
            "standoff": 15
           },
           "zerolinecolor": "white",
           "zerolinewidth": 2
          },
          "yaxis": {
           "automargin": true,
           "gridcolor": "white",
           "linecolor": "white",
           "ticks": "",
           "title": {
            "standoff": 15
           },
           "zerolinecolor": "white",
           "zerolinewidth": 2
          }
         }
        },
        "title": {
         "text": "Provincia: Gorizia"
        },
        "xaxis": {
         "anchor": "y",
         "domain": [
          0,
          1
         ],
         "title": {
          "text": "time_idx"
         }
        },
        "yaxis": {
         "anchor": "x",
         "domain": [
          0,
          1
         ],
         "title": {
          "text": "pm2dot5_giornaliera"
         }
        }
       }
      }
     },
     "metadata": {},
     "output_type": "display_data"
    },
    {
     "data": {
      "application/vnd.plotly.v1+json": {
       "config": {
        "plotlyServerURL": "https://plot.ly"
       },
       "data": [
        {
         "hovertemplate": "time_idx=%{x}<br>pm2dot5_giornaliera=%{y}<extra></extra>",
         "legendgroup": "",
         "line": {
          "color": "#636efa",
          "dash": "solid"
         },
         "marker": {
          "symbol": "circle"
         },
         "mode": "lines",
         "name": "",
         "orientation": "v",
         "showlegend": false,
         "type": "scatter",
         "x": [
          0,
          1,
          2,
          3,
          4,
          5,
          6,
          7,
          8,
          9,
          10,
          11,
          12,
          13,
          14,
          15,
          16,
          17,
          18,
          19,
          20,
          21,
          22,
          23,
          24,
          25,
          26,
          27,
          28,
          29,
          30,
          31,
          32,
          33,
          34,
          35,
          36,
          37,
          38,
          39,
          40,
          41,
          42,
          43,
          44,
          45,
          46,
          47,
          48,
          49,
          50,
          51,
          52,
          53,
          54,
          55,
          56,
          57,
          58,
          59,
          60,
          61,
          62,
          63,
          64,
          65,
          66,
          67,
          68,
          69,
          70,
          71,
          72,
          73,
          74,
          75,
          76,
          77,
          78,
          79,
          80,
          81,
          82,
          83,
          84,
          85,
          86,
          87,
          88,
          89,
          90,
          91,
          92,
          93,
          94,
          95,
          96,
          97,
          98,
          99,
          100,
          101,
          102,
          103,
          104,
          105,
          106,
          107,
          108,
          109,
          110,
          111,
          112,
          113,
          114,
          115,
          116,
          117,
          118,
          119,
          120,
          121,
          122,
          123,
          124,
          125,
          126,
          127,
          128,
          129,
          130,
          131,
          132,
          133,
          134,
          135,
          136,
          137,
          138,
          139,
          140,
          141,
          142,
          143,
          144,
          145,
          146,
          147,
          148,
          149,
          150,
          151,
          152,
          153,
          154,
          155,
          156,
          157,
          158,
          159,
          160,
          161,
          162,
          163,
          164,
          165,
          166,
          167,
          168,
          169,
          170,
          171,
          172,
          173,
          174,
          175,
          176,
          177,
          178,
          179,
          180,
          181,
          182,
          183,
          184,
          185,
          186,
          187,
          188,
          189,
          190,
          191,
          192,
          193,
          194,
          195,
          196,
          197,
          198,
          199,
          200,
          201,
          202,
          203,
          204,
          205,
          206,
          207,
          208,
          209,
          210,
          211,
          212,
          213,
          214,
          215,
          216,
          217,
          218,
          219,
          220,
          221,
          222,
          223,
          224,
          225,
          226,
          227,
          228,
          229,
          230,
          231,
          232,
          233,
          234,
          235,
          236,
          237,
          238,
          239,
          240,
          241,
          242,
          243,
          244,
          245,
          246,
          247,
          248,
          249,
          250,
          251,
          252,
          253,
          254,
          255,
          256,
          257,
          258,
          259,
          260,
          261,
          262,
          263,
          264,
          265,
          266,
          267,
          268,
          269,
          270,
          271,
          272,
          273,
          274,
          275,
          276,
          277,
          278,
          279,
          280,
          281,
          282,
          283,
          284,
          285,
          286,
          287,
          288,
          289,
          290,
          291,
          292,
          293,
          294,
          295,
          296,
          297,
          298,
          299,
          300,
          301,
          302,
          303,
          304,
          305,
          306,
          307,
          308,
          309,
          310,
          311,
          312,
          313,
          314,
          315,
          316,
          317,
          318,
          319,
          320,
          321,
          322,
          323,
          324,
          325,
          326,
          327,
          328,
          329,
          330,
          331,
          332,
          333,
          334,
          335,
          336,
          337,
          338,
          339,
          340,
          341,
          342,
          343,
          344,
          345,
          346,
          347,
          348,
          349,
          350,
          351,
          352,
          353,
          354,
          355,
          356,
          357,
          358
         ],
         "xaxis": "x",
         "y": [
          19.8375,
          42.378571428571426,
          5.228571428571428,
          19.97142857142857,
          14.571428571428571,
          16.95714285714286,
          11.685714285714285,
          12.971428571428572,
          19.042857142857144,
          22.985714285714288,
          39.714285714285715,
          37.785714285714285,
          11.757142857142856,
          21.32857142857143,
          13.571428571428571,
          10,
          11.042857142857143,
          10.4,
          11.942857142857141,
          6.328571428571428,
          10.585714285714287,
          7.942857142857143,
          13.700000000000001,
          12.157142857142857,
          10,
          8.714285714285714,
          9.2,
          9.2,
          10.885714285714284,
          8.242857142857144,
          8.328571428571427,
          9.785714285714286,
          7.828571428571428,
          6.728571428571429,
          7.671428571428572,
          10.114285714285714,
          9.214285714285714,
          14.142857142857142,
          15.414285714285715,
          16.385714285714286,
          17.485714285714288,
          17.728571428571428,
          16.928571428571427,
          21.485714285714288,
          16.757142857142856,
          10.942857142857141,
          18.714285714285715,
          21.47142857142857,
          10.814285714285715,
          26.071428571428573,
          29.25714285714286,
          33.785714285714285,
          32.475,
          43.957142857142856,
          25.37142857142857,
          20.685714285714287,
          21.357142857142858,
          18.114285714285714,
          25.357142857142858,
          33.3,
          16.485714285714288,
          16.8,
          24.285714285714285,
          23.071428571428573,
          14.457142857142857,
          11.12857142857143,
          17.82857142857143,
          15.357142857142858,
          15.071428571428571,
          10.471428571428572,
          10.357142857142858,
          8.514285714285714,
          11.700000000000001,
          11.042857142857144,
          14.571428571428571,
          16.757142857142856,
          8.471428571428572,
          8.1,
          13.171428571428573,
          12.700000000000001,
          14.728571428571428,
          14.257142857142856,
          6.171428571428572,
          13.842857142857143,
          14.571428571428571,
          8.214285714285714,
          9.142857142857142,
          9.942857142857141,
          9.714285714285714,
          9.442857142857141,
          8.171428571428573,
          7.642857142857143,
          7.5,
          6.457142857142857,
          13.799999999999999,
          14.185714285714285,
          27.24285714285714,
          35.84285714285714,
          32.84285714285714,
          21.285714285714285,
          49.642857142857146,
          42.4,
          42.628571428571426,
          46.82857142857143,
          41.4,
          23.02857142857143,
          32.31428571428571,
          75.14285714285714,
          32.628571428571426,
          17.77142857142857,
          12.214285714285714,
          17.785714285714285,
          9.8,
          11.871428571428572,
          25.457142857142856,
          21.514285714285712,
          18.842857142857145,
          16.32857142857143,
          11.700000000000001,
          11.157142857142858,
          7.2,
          9.37142857142857,
          10.228571428571428,
          8.657142857142857,
          13.114285714285714,
          7.728571428571429,
          10.799999999999999,
          7.128571428571428,
          13.700000000000001,
          8.885714285714286,
          8.72857142857143,
          8.157142857142857,
          11.799999999999999,
          9,
          8.914285714285715,
          8.8,
          8.057142857142857,
          10.185714285714285,
          11.985714285714286,
          11.657142857142857,
          16.557142857142857,
          9.37142857142857,
          16.6,
          7.871428571428572,
          10.485714285714286,
          11.014285714285714,
          16.54285714285714,
          19.114285714285717,
          15.257142857142856,
          29.400000000000002,
          21.214285714285715,
          22.814285714285713,
          40.028571428571425,
          39.6,
          29.871428571428574,
          29.099999999999998,
          30.46,
          28.414285714285715,
          15.028571428571428,
          34.77142857142857,
          41.357142857142854,
          19.885714285714283,
          35.042857142857144,
          33.8,
          16.214285714285715,
          13.914285714285715,
          41.542857142857144,
          24.514285714285712,
          15.299999999999999,
          14.257142857142858,
          10.257142857142856,
          8.914285714285715,
          10.442857142857145,
          9.028571428571428,
          9.214285714285714,
          8.214285714285714,
          10.200000000000001,
          12.685714285714285,
          8.27142857142857,
          14.885714285714286,
          14.728571428571428,
          14.700000000000001,
          9.885714285714286,
          6.485714285714286,
          12.642857142857142,
          6.685714285714285,
          12.228571428571428,
          8,
          7.885714285714285,
          10.5,
          8.4,
          7.285714285714286,
          5.1571428571428575,
          8.128571428571428,
          13.671428571428573,
          26.528571428571432,
          26.61428571428571,
          36.98571428571428,
          18.242857142857144,
          20.985714285714288,
          15.057142857142859,
          13.214285714285714,
          31.728571428571428,
          13.842857142857143,
          35.128571428571426,
          14.6,
          28.900000000000002,
          26.6,
          30.4875,
          13.328571428571427,
          21.74285714285714,
          35.285714285714285,
          24.385714285714283,
          21.37142857142857,
          25.385714285714283,
          14.214285714285714,
          17.085714285714285,
          22.842857142857145,
          12.242857142857144,
          20.385714285714283,
          24.014285714285712,
          12.1,
          9.171428571428573,
          13.528571428571428,
          14.285714285714286,
          9.842857142857142,
          10.442857142857141,
          7.171428571428571,
          9.942857142857141,
          16.22857142857143,
          11.757142857142856,
          9.228571428571428,
          9.242857142857144,
          9.071428571428571,
          8.957142857142857,
          8.414285714285715,
          9.928571428571429,
          11.62857142857143,
          14.471428571428572,
          13.042857142857143,
          7.514285714285714,
          11.042857142857143,
          6.728571428571429,
          9.1,
          15.87142857142857,
          14.714285714285714,
          8.357142857142858,
          7.942857142857143,
          20.185714285714287,
          24.61428571428571,
          21.342857142857145,
          9.12857142857143,
          16.12857142857143,
          21.87142857142857,
          16.485714285714288,
          23.957142857142856,
          27.357142857142858,
          21.685714285714287,
          32.82857142857143,
          46.457142857142856,
          35.425,
          35.05714285714286,
          22.028571428571432,
          26.014285714285712,
          14.928571428571429,
          28.82857142857143,
          31.91428571428571,
          63.714285714285715,
          40.371428571428574,
          27.385714285714283,
          21.214285714285715,
          12.442857142857141,
          13.514285714285714,
          15.5,
          16.1,
          15.171428571428573,
          10.757142857142856,
          8.942857142857143,
          8.6,
          7.442857142857143,
          11.185714285714285,
          7.528571428571429,
          16.342857142857145,
          16.75714285714286,
          12.671428571428573,
          16.942857142857143,
          14.928571428571429,
          9.614285714285714,
          11.614285714285714,
          14.328571428571427,
          7.228571428571429,
          11.442857142857141,
          8.085714285714285,
          12.814285714285715,
          18.099999999999998,
          7.385714285714286,
          9.8,
          10.071428571428571,
          10.742857142857144,
          9.114285714285714,
          17.12857142857143,
          27.12857142857143,
          18.657142857142855,
          13.742857142857144,
          11.628571428571428,
          7.257142857142858,
          13.385714285714286,
          19.357142857142858,
          23.771428571428572,
          19.771428571428572,
          15.471428571428572,
          20.557142857142857,
          44.76,
          46.81428571428571,
          33.2,
          32.72857142857143,
          49.48571428571428,
          35,
          35.271428571428565,
          24.085714285714285,
          27.5,
          11,
          28.085714285714285,
          21,
          15.4,
          16.114285714285714,
          17.228571428571428,
          13.87142857142857,
          14.342857142857143,
          8.714285714285714,
          9.914285714285715,
          8.742857142857142,
          10.914285714285715,
          7.571428571428571,
          9.214285714285714,
          7.257142857142857,
          9.114285714285714,
          11.6,
          9.87142857142857,
          12.057142857142859,
          8.414285714285715,
          10,
          14.542857142857143,
          11.057142857142859,
          13.171428571428573,
          3.185714285714286,
          6.357142857142857,
          8.2,
          13.057142857142859,
          17.142857142857146,
          7.8999999999999995,
          11.528571428571428,
          11.1,
          9.928571428571429,
          45.34285714285714,
          21.400000000000002,
          24.52857142857143,
          26.728571428571428,
          25.233333333333334
         ],
         "yaxis": "y"
        }
       ],
       "layout": {
        "legend": {
         "tracegroupgap": 0
        },
        "template": {
         "data": {
          "bar": [
           {
            "error_x": {
             "color": "#2a3f5f"
            },
            "error_y": {
             "color": "#2a3f5f"
            },
            "marker": {
             "line": {
              "color": "#E5ECF6",
              "width": 0.5
             },
             "pattern": {
              "fillmode": "overlay",
              "size": 10,
              "solidity": 0.2
             }
            },
            "type": "bar"
           }
          ],
          "barpolar": [
           {
            "marker": {
             "line": {
              "color": "#E5ECF6",
              "width": 0.5
             },
             "pattern": {
              "fillmode": "overlay",
              "size": 10,
              "solidity": 0.2
             }
            },
            "type": "barpolar"
           }
          ],
          "carpet": [
           {
            "aaxis": {
             "endlinecolor": "#2a3f5f",
             "gridcolor": "white",
             "linecolor": "white",
             "minorgridcolor": "white",
             "startlinecolor": "#2a3f5f"
            },
            "baxis": {
             "endlinecolor": "#2a3f5f",
             "gridcolor": "white",
             "linecolor": "white",
             "minorgridcolor": "white",
             "startlinecolor": "#2a3f5f"
            },
            "type": "carpet"
           }
          ],
          "choropleth": [
           {
            "colorbar": {
             "outlinewidth": 0,
             "ticks": ""
            },
            "type": "choropleth"
           }
          ],
          "contour": [
           {
            "colorbar": {
             "outlinewidth": 0,
             "ticks": ""
            },
            "colorscale": [
             [
              0,
              "#0d0887"
             ],
             [
              0.1111111111111111,
              "#46039f"
             ],
             [
              0.2222222222222222,
              "#7201a8"
             ],
             [
              0.3333333333333333,
              "#9c179e"
             ],
             [
              0.4444444444444444,
              "#bd3786"
             ],
             [
              0.5555555555555556,
              "#d8576b"
             ],
             [
              0.6666666666666666,
              "#ed7953"
             ],
             [
              0.7777777777777778,
              "#fb9f3a"
             ],
             [
              0.8888888888888888,
              "#fdca26"
             ],
             [
              1,
              "#f0f921"
             ]
            ],
            "type": "contour"
           }
          ],
          "contourcarpet": [
           {
            "colorbar": {
             "outlinewidth": 0,
             "ticks": ""
            },
            "type": "contourcarpet"
           }
          ],
          "heatmap": [
           {
            "colorbar": {
             "outlinewidth": 0,
             "ticks": ""
            },
            "colorscale": [
             [
              0,
              "#0d0887"
             ],
             [
              0.1111111111111111,
              "#46039f"
             ],
             [
              0.2222222222222222,
              "#7201a8"
             ],
             [
              0.3333333333333333,
              "#9c179e"
             ],
             [
              0.4444444444444444,
              "#bd3786"
             ],
             [
              0.5555555555555556,
              "#d8576b"
             ],
             [
              0.6666666666666666,
              "#ed7953"
             ],
             [
              0.7777777777777778,
              "#fb9f3a"
             ],
             [
              0.8888888888888888,
              "#fdca26"
             ],
             [
              1,
              "#f0f921"
             ]
            ],
            "type": "heatmap"
           }
          ],
          "heatmapgl": [
           {
            "colorbar": {
             "outlinewidth": 0,
             "ticks": ""
            },
            "colorscale": [
             [
              0,
              "#0d0887"
             ],
             [
              0.1111111111111111,
              "#46039f"
             ],
             [
              0.2222222222222222,
              "#7201a8"
             ],
             [
              0.3333333333333333,
              "#9c179e"
             ],
             [
              0.4444444444444444,
              "#bd3786"
             ],
             [
              0.5555555555555556,
              "#d8576b"
             ],
             [
              0.6666666666666666,
              "#ed7953"
             ],
             [
              0.7777777777777778,
              "#fb9f3a"
             ],
             [
              0.8888888888888888,
              "#fdca26"
             ],
             [
              1,
              "#f0f921"
             ]
            ],
            "type": "heatmapgl"
           }
          ],
          "histogram": [
           {
            "marker": {
             "pattern": {
              "fillmode": "overlay",
              "size": 10,
              "solidity": 0.2
             }
            },
            "type": "histogram"
           }
          ],
          "histogram2d": [
           {
            "colorbar": {
             "outlinewidth": 0,
             "ticks": ""
            },
            "colorscale": [
             [
              0,
              "#0d0887"
             ],
             [
              0.1111111111111111,
              "#46039f"
             ],
             [
              0.2222222222222222,
              "#7201a8"
             ],
             [
              0.3333333333333333,
              "#9c179e"
             ],
             [
              0.4444444444444444,
              "#bd3786"
             ],
             [
              0.5555555555555556,
              "#d8576b"
             ],
             [
              0.6666666666666666,
              "#ed7953"
             ],
             [
              0.7777777777777778,
              "#fb9f3a"
             ],
             [
              0.8888888888888888,
              "#fdca26"
             ],
             [
              1,
              "#f0f921"
             ]
            ],
            "type": "histogram2d"
           }
          ],
          "histogram2dcontour": [
           {
            "colorbar": {
             "outlinewidth": 0,
             "ticks": ""
            },
            "colorscale": [
             [
              0,
              "#0d0887"
             ],
             [
              0.1111111111111111,
              "#46039f"
             ],
             [
              0.2222222222222222,
              "#7201a8"
             ],
             [
              0.3333333333333333,
              "#9c179e"
             ],
             [
              0.4444444444444444,
              "#bd3786"
             ],
             [
              0.5555555555555556,
              "#d8576b"
             ],
             [
              0.6666666666666666,
              "#ed7953"
             ],
             [
              0.7777777777777778,
              "#fb9f3a"
             ],
             [
              0.8888888888888888,
              "#fdca26"
             ],
             [
              1,
              "#f0f921"
             ]
            ],
            "type": "histogram2dcontour"
           }
          ],
          "mesh3d": [
           {
            "colorbar": {
             "outlinewidth": 0,
             "ticks": ""
            },
            "type": "mesh3d"
           }
          ],
          "parcoords": [
           {
            "line": {
             "colorbar": {
              "outlinewidth": 0,
              "ticks": ""
             }
            },
            "type": "parcoords"
           }
          ],
          "pie": [
           {
            "automargin": true,
            "type": "pie"
           }
          ],
          "scatter": [
           {
            "marker": {
             "colorbar": {
              "outlinewidth": 0,
              "ticks": ""
             }
            },
            "type": "scatter"
           }
          ],
          "scatter3d": [
           {
            "line": {
             "colorbar": {
              "outlinewidth": 0,
              "ticks": ""
             }
            },
            "marker": {
             "colorbar": {
              "outlinewidth": 0,
              "ticks": ""
             }
            },
            "type": "scatter3d"
           }
          ],
          "scattercarpet": [
           {
            "marker": {
             "colorbar": {
              "outlinewidth": 0,
              "ticks": ""
             }
            },
            "type": "scattercarpet"
           }
          ],
          "scattergeo": [
           {
            "marker": {
             "colorbar": {
              "outlinewidth": 0,
              "ticks": ""
             }
            },
            "type": "scattergeo"
           }
          ],
          "scattergl": [
           {
            "marker": {
             "colorbar": {
              "outlinewidth": 0,
              "ticks": ""
             }
            },
            "type": "scattergl"
           }
          ],
          "scattermapbox": [
           {
            "marker": {
             "colorbar": {
              "outlinewidth": 0,
              "ticks": ""
             }
            },
            "type": "scattermapbox"
           }
          ],
          "scatterpolar": [
           {
            "marker": {
             "colorbar": {
              "outlinewidth": 0,
              "ticks": ""
             }
            },
            "type": "scatterpolar"
           }
          ],
          "scatterpolargl": [
           {
            "marker": {
             "colorbar": {
              "outlinewidth": 0,
              "ticks": ""
             }
            },
            "type": "scatterpolargl"
           }
          ],
          "scatterternary": [
           {
            "marker": {
             "colorbar": {
              "outlinewidth": 0,
              "ticks": ""
             }
            },
            "type": "scatterternary"
           }
          ],
          "surface": [
           {
            "colorbar": {
             "outlinewidth": 0,
             "ticks": ""
            },
            "colorscale": [
             [
              0,
              "#0d0887"
             ],
             [
              0.1111111111111111,
              "#46039f"
             ],
             [
              0.2222222222222222,
              "#7201a8"
             ],
             [
              0.3333333333333333,
              "#9c179e"
             ],
             [
              0.4444444444444444,
              "#bd3786"
             ],
             [
              0.5555555555555556,
              "#d8576b"
             ],
             [
              0.6666666666666666,
              "#ed7953"
             ],
             [
              0.7777777777777778,
              "#fb9f3a"
             ],
             [
              0.8888888888888888,
              "#fdca26"
             ],
             [
              1,
              "#f0f921"
             ]
            ],
            "type": "surface"
           }
          ],
          "table": [
           {
            "cells": {
             "fill": {
              "color": "#EBF0F8"
             },
             "line": {
              "color": "white"
             }
            },
            "header": {
             "fill": {
              "color": "#C8D4E3"
             },
             "line": {
              "color": "white"
             }
            },
            "type": "table"
           }
          ]
         },
         "layout": {
          "annotationdefaults": {
           "arrowcolor": "#2a3f5f",
           "arrowhead": 0,
           "arrowwidth": 1
          },
          "autotypenumbers": "strict",
          "coloraxis": {
           "colorbar": {
            "outlinewidth": 0,
            "ticks": ""
           }
          },
          "colorscale": {
           "diverging": [
            [
             0,
             "#8e0152"
            ],
            [
             0.1,
             "#c51b7d"
            ],
            [
             0.2,
             "#de77ae"
            ],
            [
             0.3,
             "#f1b6da"
            ],
            [
             0.4,
             "#fde0ef"
            ],
            [
             0.5,
             "#f7f7f7"
            ],
            [
             0.6,
             "#e6f5d0"
            ],
            [
             0.7,
             "#b8e186"
            ],
            [
             0.8,
             "#7fbc41"
            ],
            [
             0.9,
             "#4d9221"
            ],
            [
             1,
             "#276419"
            ]
           ],
           "sequential": [
            [
             0,
             "#0d0887"
            ],
            [
             0.1111111111111111,
             "#46039f"
            ],
            [
             0.2222222222222222,
             "#7201a8"
            ],
            [
             0.3333333333333333,
             "#9c179e"
            ],
            [
             0.4444444444444444,
             "#bd3786"
            ],
            [
             0.5555555555555556,
             "#d8576b"
            ],
            [
             0.6666666666666666,
             "#ed7953"
            ],
            [
             0.7777777777777778,
             "#fb9f3a"
            ],
            [
             0.8888888888888888,
             "#fdca26"
            ],
            [
             1,
             "#f0f921"
            ]
           ],
           "sequentialminus": [
            [
             0,
             "#0d0887"
            ],
            [
             0.1111111111111111,
             "#46039f"
            ],
            [
             0.2222222222222222,
             "#7201a8"
            ],
            [
             0.3333333333333333,
             "#9c179e"
            ],
            [
             0.4444444444444444,
             "#bd3786"
            ],
            [
             0.5555555555555556,
             "#d8576b"
            ],
            [
             0.6666666666666666,
             "#ed7953"
            ],
            [
             0.7777777777777778,
             "#fb9f3a"
            ],
            [
             0.8888888888888888,
             "#fdca26"
            ],
            [
             1,
             "#f0f921"
            ]
           ]
          },
          "colorway": [
           "#636efa",
           "#EF553B",
           "#00cc96",
           "#ab63fa",
           "#FFA15A",
           "#19d3f3",
           "#FF6692",
           "#B6E880",
           "#FF97FF",
           "#FECB52"
          ],
          "font": {
           "color": "#2a3f5f"
          },
          "geo": {
           "bgcolor": "white",
           "lakecolor": "white",
           "landcolor": "#E5ECF6",
           "showlakes": true,
           "showland": true,
           "subunitcolor": "white"
          },
          "hoverlabel": {
           "align": "left"
          },
          "hovermode": "closest",
          "mapbox": {
           "style": "light"
          },
          "paper_bgcolor": "white",
          "plot_bgcolor": "#E5ECF6",
          "polar": {
           "angularaxis": {
            "gridcolor": "white",
            "linecolor": "white",
            "ticks": ""
           },
           "bgcolor": "#E5ECF6",
           "radialaxis": {
            "gridcolor": "white",
            "linecolor": "white",
            "ticks": ""
           }
          },
          "scene": {
           "xaxis": {
            "backgroundcolor": "#E5ECF6",
            "gridcolor": "white",
            "gridwidth": 2,
            "linecolor": "white",
            "showbackground": true,
            "ticks": "",
            "zerolinecolor": "white"
           },
           "yaxis": {
            "backgroundcolor": "#E5ECF6",
            "gridcolor": "white",
            "gridwidth": 2,
            "linecolor": "white",
            "showbackground": true,
            "ticks": "",
            "zerolinecolor": "white"
           },
           "zaxis": {
            "backgroundcolor": "#E5ECF6",
            "gridcolor": "white",
            "gridwidth": 2,
            "linecolor": "white",
            "showbackground": true,
            "ticks": "",
            "zerolinecolor": "white"
           }
          },
          "shapedefaults": {
           "line": {
            "color": "#2a3f5f"
           }
          },
          "ternary": {
           "aaxis": {
            "gridcolor": "white",
            "linecolor": "white",
            "ticks": ""
           },
           "baxis": {
            "gridcolor": "white",
            "linecolor": "white",
            "ticks": ""
           },
           "bgcolor": "#E5ECF6",
           "caxis": {
            "gridcolor": "white",
            "linecolor": "white",
            "ticks": ""
           }
          },
          "title": {
           "x": 0.05
          },
          "xaxis": {
           "automargin": true,
           "gridcolor": "white",
           "linecolor": "white",
           "ticks": "",
           "title": {
            "standoff": 15
           },
           "zerolinecolor": "white",
           "zerolinewidth": 2
          },
          "yaxis": {
           "automargin": true,
           "gridcolor": "white",
           "linecolor": "white",
           "ticks": "",
           "title": {
            "standoff": 15
           },
           "zerolinecolor": "white",
           "zerolinewidth": 2
          }
         }
        },
        "title": {
         "text": "Provincia: Pordenone"
        },
        "xaxis": {
         "anchor": "y",
         "domain": [
          0,
          1
         ],
         "title": {
          "text": "time_idx"
         }
        },
        "yaxis": {
         "anchor": "x",
         "domain": [
          0,
          1
         ],
         "title": {
          "text": "pm2dot5_giornaliera"
         }
        }
       }
      }
     },
     "metadata": {},
     "output_type": "display_data"
    },
    {
     "data": {
      "application/vnd.plotly.v1+json": {
       "config": {
        "plotlyServerURL": "https://plot.ly"
       },
       "data": [
        {
         "hovertemplate": "time_idx=%{x}<br>pm2dot5_giornaliera=%{y}<extra></extra>",
         "legendgroup": "",
         "line": {
          "color": "#636efa",
          "dash": "solid"
         },
         "marker": {
          "symbol": "circle"
         },
         "mode": "lines",
         "name": "",
         "orientation": "v",
         "showlegend": false,
         "type": "scatter",
         "x": [
          0,
          1,
          2,
          3,
          4,
          5,
          6,
          7,
          8,
          9,
          10,
          11,
          12,
          13,
          14,
          15,
          16,
          17,
          18,
          19,
          20,
          21,
          22,
          23,
          24,
          25,
          26,
          27,
          28,
          29,
          30,
          31,
          32,
          33,
          34,
          35,
          36,
          37,
          38,
          39,
          40,
          41,
          42,
          43,
          44,
          45,
          46,
          47,
          48,
          49,
          50,
          51,
          52,
          53,
          54,
          55,
          56,
          57,
          58,
          59,
          60,
          61,
          62,
          63,
          64,
          65,
          66,
          67,
          68,
          69,
          70,
          71,
          72,
          73,
          74,
          75,
          76,
          77,
          78,
          79,
          80,
          81,
          82,
          83,
          84,
          85,
          86,
          87,
          88,
          89,
          90,
          91,
          92,
          93,
          94,
          95,
          96,
          97,
          98,
          99,
          100,
          101,
          102,
          103,
          104,
          105,
          106,
          107,
          108,
          109,
          110,
          111,
          112,
          113,
          114,
          115,
          116,
          117,
          118,
          119,
          120,
          121,
          122,
          123,
          124,
          125,
          126,
          127,
          128,
          129,
          130,
          131,
          132,
          133,
          134,
          135,
          136,
          137,
          138,
          139,
          140,
          141,
          142,
          143,
          144,
          145,
          146,
          147,
          148,
          149,
          150,
          151,
          152,
          153,
          154,
          155,
          156,
          157,
          158,
          159,
          160,
          161,
          162,
          163,
          164,
          165,
          166,
          167,
          168,
          169,
          170,
          171,
          172,
          173,
          174,
          175,
          176,
          177,
          178,
          179,
          180,
          181,
          182,
          183,
          184,
          185,
          186,
          187,
          188,
          189,
          190,
          191,
          192,
          193,
          194,
          195,
          196,
          197,
          198,
          199,
          200,
          201,
          202,
          203,
          204,
          205,
          206,
          207,
          208,
          209,
          210,
          211,
          212,
          213,
          214,
          215,
          216,
          217,
          218,
          219,
          220,
          221,
          222,
          223,
          224,
          225,
          226,
          227,
          228,
          229,
          230,
          231,
          232,
          233,
          234,
          235,
          236,
          237,
          238,
          239,
          240,
          241,
          242,
          243,
          244,
          245,
          246,
          247,
          248,
          249,
          250,
          251,
          252,
          253,
          254,
          255,
          256,
          257,
          258,
          259,
          260,
          261,
          262,
          263,
          264,
          265,
          266,
          267,
          268,
          269,
          270,
          271,
          272,
          273,
          274,
          275,
          276,
          277,
          278,
          279,
          280,
          281,
          282,
          283,
          284,
          285,
          286,
          287,
          288,
          289,
          290,
          291,
          292,
          293,
          294,
          295,
          296,
          297,
          298,
          299,
          300,
          301,
          302,
          303,
          304,
          305,
          306,
          307,
          308,
          309,
          310,
          311,
          312,
          313,
          314,
          315,
          316,
          317,
          318,
          319,
          320,
          321,
          322,
          323,
          324,
          325,
          326,
          327,
          328,
          329,
          330,
          331,
          332,
          333,
          334,
          335,
          336,
          337,
          338,
          339,
          340,
          341,
          342,
          343,
          344,
          345,
          346,
          347,
          348,
          349,
          350,
          351,
          352,
          353,
          354,
          355,
          356,
          357,
          358
         ],
         "xaxis": "x",
         "y": [
          13.05625,
          37.065714285714286,
          21.080000000000002,
          12.687142857142858,
          13.18142857142857,
          12.115714285714287,
          10.124285714285715,
          10.092857142857143,
          12.6,
          15.132857142857144,
          28.502857142857142,
          26.987142857142857,
          10.45142857142857,
          17.95,
          9.751428571428573,
          7.8342857142857145,
          9.36,
          10.19,
          9.334285714285715,
          4.585714285714286,
          9.247142857142858,
          7.558571428571429,
          14.358571428571427,
          12.422857142857143,
          10.857142857142858,
          10.605714285714287,
          9.434285714285712,
          8.388571428571428,
          12.700000000000001,
          11.180000000000001,
          10.211428571428572,
          10.734285714285715,
          10.461428571428572,
          7.622857142857143,
          9.462857142857143,
          11.56857142857143,
          22.01571428571429,
          14.888571428571428,
          11.737142857142857,
          14.76,
          17.515714285714285,
          13.111428571428572,
          11.744285714285713,
          13.117142857142857,
          12.611428571428572,
          10.651428571428571,
          13.06857142857143,
          17.09,
          5.405714285714287,
          15.817142857142857,
          18.017142857142858,
          21.16857142857143,
          17.502499999999998,
          25.865714285714287,
          17.44857142857143,
          7.6414285714285715,
          5.755714285714285,
          9.081428571428571,
          12.507142857142856,
          18.45,
          14.535714285714286,
          7.865714285714286,
          16.518571428571427,
          24.44857142857143,
          14.412857142857144,
          7.75,
          13.018571428571429,
          11.592857142857143,
          14.504285714285714,
          10.257142857142856,
          11.055714285714286,
          8.788571428571428,
          8.167142857142858,
          8.901428571428571,
          14.468571428571428,
          18.94142857142857,
          9.748571428571427,
          7.351428571428571,
          14.897142857142857,
          15.205714285714285,
          16.084285714285716,
          17.345714285714287,
          8.352857142857143,
          22.98428571428571,
          19.534285714285716,
          9.657142857142857,
          13.344285714285714,
          10.821428571428571,
          8.01,
          12.234285714285715,
          7.832857142857143,
          9.985714285714286,
          8.474285714285715,
          8.352857142857143,
          9.594285714285714,
          18.50714285714286,
          31.81857142857143,
          42.43,
          31.28142857142857,
          13.131428571428572,
          43.861428571428576,
          44.269999999999996,
          33.635714285714286,
          48.97428571428571,
          21.035454545454545,
          9.832857142857142,
          20.261428571428574,
          81.05857142857143,
          21.20285714285714,
          12.137142857142859,
          10.51142857142857,
          10.237142857142857,
          9.248571428571427,
          11.19,
          21.93285714285714,
          13.87857142857143,
          13.881428571428572,
          15.974285714285715,
          9.485714285714286,
          8.448571428571428,
          6.045714285714285,
          10.945714285714287,
          9.450000000000001,
          9.661428571428571,
          12.37142857142857,
          7.984285714285714,
          11.69,
          7.884285714285714,
          15.631428571428572,
          10.365714285714287,
          11.538571428571428,
          11.888571428571428,
          13.454285714285716,
          13.351666666666667,
          9.941428571428572,
          9.221428571428572,
          10.415714285714285,
          11.888571428571428,
          12.55,
          15.037619047619048,
          17.12666666666667,
          8.565,
          13.756428571428572,
          6.478571428571429,
          10.46761904761905,
          8.812380952380952,
          14.229285714285712,
          14.935238095238095,
          8.378571428571428,
          21.343333333333334,
          18.603571428571428,
          16.05333333333333,
          28.93857142857143,
          20.49380952380952,
          16.604761904761904,
          14.266666666666666,
          17.386000000000003,
          20.535714285714285,
          13.85,
          27.107142857142858,
          30.771428571428572,
          14.599999999999998,
          31.371428571428574,
          31.435714285714287,
          11.085714285714285,
          8.642857142857142,
          34.91428571428572,
          23.62857142857143,
          16.764285714285712,
          13.764285714285714,
          12.1,
          8.6,
          10.942857142857141,
          10.471428571428572,
          10.185714285714285,
          10.478571428571428,
          12.185714285714285,
          14.864285714285714,
          10.014285714285714,
          12.230952380952383,
          15.935714285714287,
          8.566666666666666,
          12.645238095238096,
          9.311904761904762,
          15.807142857142859,
          8.702380952380953,
          16.847619047619048,
          11,
          10.264285714285714,
          11.523809523809524,
          8.690476190476192,
          6.590476190476191,
          5.430952380952381,
          7.142857142857143,
          13.019047619047617,
          14.7,
          18.99761904761905,
          30.966666666666665,
          11.583333333333334,
          9.661904761904763,
          12.054761904761904,
          5.704761904761905,
          24.89761904761905,
          7.1119047619047615,
          24.535714285714285,
          7.971428571428571,
          17.9,
          19.560416666666665,
          15.675,
          9.05,
          15.819047619047621,
          22.683333333333334,
          18.25952380952381,
          14.214285714285714,
          16.523809523809526,
          12.616666666666665,
          25.552380952380954,
          18.557142857142857,
          8.571428571428571,
          14.295238095238094,
          17.33095238095238,
          9.402380952380952,
          11.18095238095238,
          13.947619047619048,
          15.66904761904762,
          12.261904761904763,
          12.128571428571428,
          7.211904761904762,
          12.038095238095238,
          18.323809523809526,
          11.766666666666667,
          10.185714285714285,
          8.904761904761905,
          8.142857142857142,
          11.571428571428571,
          10.333333333333332,
          12.261904761904761,
          12.721428571428572,
          15.18095238095238,
          16.345238095238095,
          10.864285714285714,
          14.438095238095238,
          9.1,
          10.992857142857144,
          15.45952380952381,
          15.285714285714286,
          6.547619047619047,
          9.128571428571428,
          25.585714285714285,
          23.25,
          11.376190476190477,
          8.352380952380953,
          12.233333333333333,
          12.719047619047618,
          7.902380952380952,
          11.866666666666665,
          19.1547619047619,
          11.066666666666666,
          19,
          22.63809523809524,
          12.4875,
          15.06904761904762,
          13.1,
          16.20714285714286,
          6.876190476190476,
          12.385714285714286,
          20.928571428571427,
          42.385714285714286,
          26.11904761904762,
          18.723809523809525,
          9.380952380952381,
          9.428571428571429,
          10.433333333333334,
          12.438095238095238,
          12.957142857142857,
          14.642857142857142,
          12.561904761904762,
          7.471428571428572,
          7.202380952380952,
          5.095238095238095,
          9.404761904761903,
          7.428571428571429,
          13.60952380952381,
          15.88095238095238,
          11.528571428571428,
          13.126190476190475,
          13.633333333333335,
          8.28095238095238,
          10.495238095238095,
          12.261904761904761,
          9.442857142857141,
          11.645238095238096,
          8.411904761904761,
          12.719047619047618,
          20.383333333333333,
          7.495238095238094,
          7.949999999999998,
          8.504761904761905,
          7.738095238095238,
          6.495238095238095,
          10.914285714285715,
          13.721428571428572,
          16.402380952380952,
          10.25,
          5.261904761904761,
          5.107142857142857,
          7.114285714285714,
          11.002380952380951,
          15.847619047619048,
          10.057142857142859,
          9.914285714285715,
          8.595238095238095,
          19.660000000000004,
          17.30952380952381,
          25.68095238095238,
          19.166666666666664,
          38.93571428571429,
          20.942857142857143,
          21.06904761904762,
          10.549999999999999,
          7.8,
          6.405952380952381,
          13.853061224489796,
          15.35952380952381,
          19.82857142857143,
          12.507518796992482,
          15.761904761904761,
          10.81904761904762,
          12.47517006802721,
          6.370068027210884,
          7.297619047619048,
          7.995238095238095,
          8.996938775510204,
          5.602564102564102,
          6.072811059907834,
          5.107142857142857,
          6.3238095238095235,
          9.323809523809524,
          7.278571428571429,
          7.228571428571428,
          8,
          7.1,
          15.085714285714285,
          10.457142857142857,
          13.257142857142856,
          9.642857142857142,
          7.785714285714286,
          7.7,
          12.471428571428572,
          12.264786967418546,
          7.371428571428572,
          8.638095238095238,
          8.328571428571427,
          4.778571428571429,
          14.315646258503401,
          13.271428571428572,
          15.179416282642089,
          16.47142857142857,
          7.038888888888889
         ],
         "yaxis": "y"
        }
       ],
       "layout": {
        "legend": {
         "tracegroupgap": 0
        },
        "template": {
         "data": {
          "bar": [
           {
            "error_x": {
             "color": "#2a3f5f"
            },
            "error_y": {
             "color": "#2a3f5f"
            },
            "marker": {
             "line": {
              "color": "#E5ECF6",
              "width": 0.5
             },
             "pattern": {
              "fillmode": "overlay",
              "size": 10,
              "solidity": 0.2
             }
            },
            "type": "bar"
           }
          ],
          "barpolar": [
           {
            "marker": {
             "line": {
              "color": "#E5ECF6",
              "width": 0.5
             },
             "pattern": {
              "fillmode": "overlay",
              "size": 10,
              "solidity": 0.2
             }
            },
            "type": "barpolar"
           }
          ],
          "carpet": [
           {
            "aaxis": {
             "endlinecolor": "#2a3f5f",
             "gridcolor": "white",
             "linecolor": "white",
             "minorgridcolor": "white",
             "startlinecolor": "#2a3f5f"
            },
            "baxis": {
             "endlinecolor": "#2a3f5f",
             "gridcolor": "white",
             "linecolor": "white",
             "minorgridcolor": "white",
             "startlinecolor": "#2a3f5f"
            },
            "type": "carpet"
           }
          ],
          "choropleth": [
           {
            "colorbar": {
             "outlinewidth": 0,
             "ticks": ""
            },
            "type": "choropleth"
           }
          ],
          "contour": [
           {
            "colorbar": {
             "outlinewidth": 0,
             "ticks": ""
            },
            "colorscale": [
             [
              0,
              "#0d0887"
             ],
             [
              0.1111111111111111,
              "#46039f"
             ],
             [
              0.2222222222222222,
              "#7201a8"
             ],
             [
              0.3333333333333333,
              "#9c179e"
             ],
             [
              0.4444444444444444,
              "#bd3786"
             ],
             [
              0.5555555555555556,
              "#d8576b"
             ],
             [
              0.6666666666666666,
              "#ed7953"
             ],
             [
              0.7777777777777778,
              "#fb9f3a"
             ],
             [
              0.8888888888888888,
              "#fdca26"
             ],
             [
              1,
              "#f0f921"
             ]
            ],
            "type": "contour"
           }
          ],
          "contourcarpet": [
           {
            "colorbar": {
             "outlinewidth": 0,
             "ticks": ""
            },
            "type": "contourcarpet"
           }
          ],
          "heatmap": [
           {
            "colorbar": {
             "outlinewidth": 0,
             "ticks": ""
            },
            "colorscale": [
             [
              0,
              "#0d0887"
             ],
             [
              0.1111111111111111,
              "#46039f"
             ],
             [
              0.2222222222222222,
              "#7201a8"
             ],
             [
              0.3333333333333333,
              "#9c179e"
             ],
             [
              0.4444444444444444,
              "#bd3786"
             ],
             [
              0.5555555555555556,
              "#d8576b"
             ],
             [
              0.6666666666666666,
              "#ed7953"
             ],
             [
              0.7777777777777778,
              "#fb9f3a"
             ],
             [
              0.8888888888888888,
              "#fdca26"
             ],
             [
              1,
              "#f0f921"
             ]
            ],
            "type": "heatmap"
           }
          ],
          "heatmapgl": [
           {
            "colorbar": {
             "outlinewidth": 0,
             "ticks": ""
            },
            "colorscale": [
             [
              0,
              "#0d0887"
             ],
             [
              0.1111111111111111,
              "#46039f"
             ],
             [
              0.2222222222222222,
              "#7201a8"
             ],
             [
              0.3333333333333333,
              "#9c179e"
             ],
             [
              0.4444444444444444,
              "#bd3786"
             ],
             [
              0.5555555555555556,
              "#d8576b"
             ],
             [
              0.6666666666666666,
              "#ed7953"
             ],
             [
              0.7777777777777778,
              "#fb9f3a"
             ],
             [
              0.8888888888888888,
              "#fdca26"
             ],
             [
              1,
              "#f0f921"
             ]
            ],
            "type": "heatmapgl"
           }
          ],
          "histogram": [
           {
            "marker": {
             "pattern": {
              "fillmode": "overlay",
              "size": 10,
              "solidity": 0.2
             }
            },
            "type": "histogram"
           }
          ],
          "histogram2d": [
           {
            "colorbar": {
             "outlinewidth": 0,
             "ticks": ""
            },
            "colorscale": [
             [
              0,
              "#0d0887"
             ],
             [
              0.1111111111111111,
              "#46039f"
             ],
             [
              0.2222222222222222,
              "#7201a8"
             ],
             [
              0.3333333333333333,
              "#9c179e"
             ],
             [
              0.4444444444444444,
              "#bd3786"
             ],
             [
              0.5555555555555556,
              "#d8576b"
             ],
             [
              0.6666666666666666,
              "#ed7953"
             ],
             [
              0.7777777777777778,
              "#fb9f3a"
             ],
             [
              0.8888888888888888,
              "#fdca26"
             ],
             [
              1,
              "#f0f921"
             ]
            ],
            "type": "histogram2d"
           }
          ],
          "histogram2dcontour": [
           {
            "colorbar": {
             "outlinewidth": 0,
             "ticks": ""
            },
            "colorscale": [
             [
              0,
              "#0d0887"
             ],
             [
              0.1111111111111111,
              "#46039f"
             ],
             [
              0.2222222222222222,
              "#7201a8"
             ],
             [
              0.3333333333333333,
              "#9c179e"
             ],
             [
              0.4444444444444444,
              "#bd3786"
             ],
             [
              0.5555555555555556,
              "#d8576b"
             ],
             [
              0.6666666666666666,
              "#ed7953"
             ],
             [
              0.7777777777777778,
              "#fb9f3a"
             ],
             [
              0.8888888888888888,
              "#fdca26"
             ],
             [
              1,
              "#f0f921"
             ]
            ],
            "type": "histogram2dcontour"
           }
          ],
          "mesh3d": [
           {
            "colorbar": {
             "outlinewidth": 0,
             "ticks": ""
            },
            "type": "mesh3d"
           }
          ],
          "parcoords": [
           {
            "line": {
             "colorbar": {
              "outlinewidth": 0,
              "ticks": ""
             }
            },
            "type": "parcoords"
           }
          ],
          "pie": [
           {
            "automargin": true,
            "type": "pie"
           }
          ],
          "scatter": [
           {
            "marker": {
             "colorbar": {
              "outlinewidth": 0,
              "ticks": ""
             }
            },
            "type": "scatter"
           }
          ],
          "scatter3d": [
           {
            "line": {
             "colorbar": {
              "outlinewidth": 0,
              "ticks": ""
             }
            },
            "marker": {
             "colorbar": {
              "outlinewidth": 0,
              "ticks": ""
             }
            },
            "type": "scatter3d"
           }
          ],
          "scattercarpet": [
           {
            "marker": {
             "colorbar": {
              "outlinewidth": 0,
              "ticks": ""
             }
            },
            "type": "scattercarpet"
           }
          ],
          "scattergeo": [
           {
            "marker": {
             "colorbar": {
              "outlinewidth": 0,
              "ticks": ""
             }
            },
            "type": "scattergeo"
           }
          ],
          "scattergl": [
           {
            "marker": {
             "colorbar": {
              "outlinewidth": 0,
              "ticks": ""
             }
            },
            "type": "scattergl"
           }
          ],
          "scattermapbox": [
           {
            "marker": {
             "colorbar": {
              "outlinewidth": 0,
              "ticks": ""
             }
            },
            "type": "scattermapbox"
           }
          ],
          "scatterpolar": [
           {
            "marker": {
             "colorbar": {
              "outlinewidth": 0,
              "ticks": ""
             }
            },
            "type": "scatterpolar"
           }
          ],
          "scatterpolargl": [
           {
            "marker": {
             "colorbar": {
              "outlinewidth": 0,
              "ticks": ""
             }
            },
            "type": "scatterpolargl"
           }
          ],
          "scatterternary": [
           {
            "marker": {
             "colorbar": {
              "outlinewidth": 0,
              "ticks": ""
             }
            },
            "type": "scatterternary"
           }
          ],
          "surface": [
           {
            "colorbar": {
             "outlinewidth": 0,
             "ticks": ""
            },
            "colorscale": [
             [
              0,
              "#0d0887"
             ],
             [
              0.1111111111111111,
              "#46039f"
             ],
             [
              0.2222222222222222,
              "#7201a8"
             ],
             [
              0.3333333333333333,
              "#9c179e"
             ],
             [
              0.4444444444444444,
              "#bd3786"
             ],
             [
              0.5555555555555556,
              "#d8576b"
             ],
             [
              0.6666666666666666,
              "#ed7953"
             ],
             [
              0.7777777777777778,
              "#fb9f3a"
             ],
             [
              0.8888888888888888,
              "#fdca26"
             ],
             [
              1,
              "#f0f921"
             ]
            ],
            "type": "surface"
           }
          ],
          "table": [
           {
            "cells": {
             "fill": {
              "color": "#EBF0F8"
             },
             "line": {
              "color": "white"
             }
            },
            "header": {
             "fill": {
              "color": "#C8D4E3"
             },
             "line": {
              "color": "white"
             }
            },
            "type": "table"
           }
          ]
         },
         "layout": {
          "annotationdefaults": {
           "arrowcolor": "#2a3f5f",
           "arrowhead": 0,
           "arrowwidth": 1
          },
          "autotypenumbers": "strict",
          "coloraxis": {
           "colorbar": {
            "outlinewidth": 0,
            "ticks": ""
           }
          },
          "colorscale": {
           "diverging": [
            [
             0,
             "#8e0152"
            ],
            [
             0.1,
             "#c51b7d"
            ],
            [
             0.2,
             "#de77ae"
            ],
            [
             0.3,
             "#f1b6da"
            ],
            [
             0.4,
             "#fde0ef"
            ],
            [
             0.5,
             "#f7f7f7"
            ],
            [
             0.6,
             "#e6f5d0"
            ],
            [
             0.7,
             "#b8e186"
            ],
            [
             0.8,
             "#7fbc41"
            ],
            [
             0.9,
             "#4d9221"
            ],
            [
             1,
             "#276419"
            ]
           ],
           "sequential": [
            [
             0,
             "#0d0887"
            ],
            [
             0.1111111111111111,
             "#46039f"
            ],
            [
             0.2222222222222222,
             "#7201a8"
            ],
            [
             0.3333333333333333,
             "#9c179e"
            ],
            [
             0.4444444444444444,
             "#bd3786"
            ],
            [
             0.5555555555555556,
             "#d8576b"
            ],
            [
             0.6666666666666666,
             "#ed7953"
            ],
            [
             0.7777777777777778,
             "#fb9f3a"
            ],
            [
             0.8888888888888888,
             "#fdca26"
            ],
            [
             1,
             "#f0f921"
            ]
           ],
           "sequentialminus": [
            [
             0,
             "#0d0887"
            ],
            [
             0.1111111111111111,
             "#46039f"
            ],
            [
             0.2222222222222222,
             "#7201a8"
            ],
            [
             0.3333333333333333,
             "#9c179e"
            ],
            [
             0.4444444444444444,
             "#bd3786"
            ],
            [
             0.5555555555555556,
             "#d8576b"
            ],
            [
             0.6666666666666666,
             "#ed7953"
            ],
            [
             0.7777777777777778,
             "#fb9f3a"
            ],
            [
             0.8888888888888888,
             "#fdca26"
            ],
            [
             1,
             "#f0f921"
            ]
           ]
          },
          "colorway": [
           "#636efa",
           "#EF553B",
           "#00cc96",
           "#ab63fa",
           "#FFA15A",
           "#19d3f3",
           "#FF6692",
           "#B6E880",
           "#FF97FF",
           "#FECB52"
          ],
          "font": {
           "color": "#2a3f5f"
          },
          "geo": {
           "bgcolor": "white",
           "lakecolor": "white",
           "landcolor": "#E5ECF6",
           "showlakes": true,
           "showland": true,
           "subunitcolor": "white"
          },
          "hoverlabel": {
           "align": "left"
          },
          "hovermode": "closest",
          "mapbox": {
           "style": "light"
          },
          "paper_bgcolor": "white",
          "plot_bgcolor": "#E5ECF6",
          "polar": {
           "angularaxis": {
            "gridcolor": "white",
            "linecolor": "white",
            "ticks": ""
           },
           "bgcolor": "#E5ECF6",
           "radialaxis": {
            "gridcolor": "white",
            "linecolor": "white",
            "ticks": ""
           }
          },
          "scene": {
           "xaxis": {
            "backgroundcolor": "#E5ECF6",
            "gridcolor": "white",
            "gridwidth": 2,
            "linecolor": "white",
            "showbackground": true,
            "ticks": "",
            "zerolinecolor": "white"
           },
           "yaxis": {
            "backgroundcolor": "#E5ECF6",
            "gridcolor": "white",
            "gridwidth": 2,
            "linecolor": "white",
            "showbackground": true,
            "ticks": "",
            "zerolinecolor": "white"
           },
           "zaxis": {
            "backgroundcolor": "#E5ECF6",
            "gridcolor": "white",
            "gridwidth": 2,
            "linecolor": "white",
            "showbackground": true,
            "ticks": "",
            "zerolinecolor": "white"
           }
          },
          "shapedefaults": {
           "line": {
            "color": "#2a3f5f"
           }
          },
          "ternary": {
           "aaxis": {
            "gridcolor": "white",
            "linecolor": "white",
            "ticks": ""
           },
           "baxis": {
            "gridcolor": "white",
            "linecolor": "white",
            "ticks": ""
           },
           "bgcolor": "#E5ECF6",
           "caxis": {
            "gridcolor": "white",
            "linecolor": "white",
            "ticks": ""
           }
          },
          "title": {
           "x": 0.05
          },
          "xaxis": {
           "automargin": true,
           "gridcolor": "white",
           "linecolor": "white",
           "ticks": "",
           "title": {
            "standoff": 15
           },
           "zerolinecolor": "white",
           "zerolinewidth": 2
          },
          "yaxis": {
           "automargin": true,
           "gridcolor": "white",
           "linecolor": "white",
           "ticks": "",
           "title": {
            "standoff": 15
           },
           "zerolinecolor": "white",
           "zerolinewidth": 2
          }
         }
        },
        "title": {
         "text": "Provincia: Trieste"
        },
        "xaxis": {
         "anchor": "y",
         "domain": [
          0,
          1
         ],
         "title": {
          "text": "time_idx"
         }
        },
        "yaxis": {
         "anchor": "x",
         "domain": [
          0,
          1
         ],
         "title": {
          "text": "pm2dot5_giornaliera"
         }
        }
       }
      }
     },
     "metadata": {},
     "output_type": "display_data"
    },
    {
     "data": {
      "application/vnd.plotly.v1+json": {
       "config": {
        "plotlyServerURL": "https://plot.ly"
       },
       "data": [
        {
         "hovertemplate": "time_idx=%{x}<br>pm2dot5_giornaliera=%{y}<extra></extra>",
         "legendgroup": "",
         "line": {
          "color": "#636efa",
          "dash": "solid"
         },
         "marker": {
          "symbol": "circle"
         },
         "mode": "lines",
         "name": "",
         "orientation": "v",
         "showlegend": false,
         "type": "scatter",
         "x": [
          0,
          1,
          2,
          3,
          4,
          5,
          6,
          7,
          8,
          9,
          10,
          11,
          12,
          13,
          14,
          15,
          16,
          17,
          18,
          19,
          20,
          21,
          22,
          23,
          24,
          25,
          26,
          27,
          28,
          29,
          30,
          31,
          32,
          33,
          34,
          35,
          36,
          37,
          38,
          39,
          40,
          41,
          42,
          43,
          44,
          45,
          46,
          47,
          48,
          49,
          50,
          51,
          52,
          53,
          54,
          55,
          56,
          57,
          58,
          59,
          60,
          61,
          62,
          63,
          64,
          65,
          66,
          67,
          68,
          69,
          70,
          71,
          72,
          73,
          74,
          75,
          76,
          77,
          78,
          79,
          80,
          81,
          82,
          83,
          84,
          85,
          86,
          87,
          88,
          89,
          90,
          91,
          92,
          93,
          94,
          95,
          96,
          97,
          98,
          99,
          100,
          101,
          102,
          103,
          104,
          105,
          106,
          107,
          108,
          109,
          110,
          111,
          112,
          113,
          114,
          115,
          116,
          117,
          118,
          119,
          120,
          121,
          122,
          123,
          124,
          125,
          126,
          127,
          128,
          129,
          130,
          131,
          132,
          133,
          134,
          135,
          136,
          137,
          138,
          139,
          140,
          141,
          142,
          143,
          144,
          145,
          146,
          147,
          148,
          149,
          150,
          151,
          152,
          153,
          154,
          155,
          156,
          157,
          158,
          159,
          160,
          161,
          162,
          163,
          164,
          165,
          166,
          167,
          168,
          169,
          170,
          171,
          172,
          173,
          174,
          175,
          176,
          177,
          178,
          179,
          180,
          181,
          182,
          183,
          184,
          185,
          186,
          187,
          188,
          189,
          190,
          191,
          192,
          193,
          194,
          195,
          196,
          197,
          198,
          199,
          200,
          201,
          202,
          203,
          204,
          205,
          206,
          207,
          208,
          209,
          210,
          211,
          212,
          213,
          214,
          215,
          216,
          217,
          218,
          219,
          220,
          221,
          222,
          223,
          224,
          225,
          226,
          227,
          228,
          229,
          230,
          231,
          232,
          233,
          234,
          235,
          236,
          237,
          238,
          239,
          240,
          241,
          242,
          243,
          244,
          245,
          246,
          247,
          248,
          249,
          250,
          251,
          252,
          253,
          254,
          255,
          256,
          257,
          258,
          259,
          260,
          261,
          262,
          263,
          264,
          265,
          266,
          267,
          268,
          269,
          270,
          271,
          272,
          273,
          274,
          275,
          276,
          277,
          278,
          279,
          280,
          281,
          282,
          283,
          284,
          285,
          286,
          287,
          288,
          289,
          290,
          291,
          292,
          293,
          294,
          295,
          296,
          297,
          298,
          299,
          300,
          301,
          302,
          303,
          304,
          305,
          306,
          307,
          308,
          309,
          310,
          311,
          312,
          313,
          314,
          315,
          316,
          317,
          318,
          319,
          320,
          321,
          322,
          323,
          324,
          325,
          326,
          327,
          328,
          329,
          330,
          331,
          332,
          333,
          334,
          335,
          336,
          337,
          338,
          339,
          340,
          341,
          342,
          343,
          344,
          345,
          346,
          347,
          348,
          349,
          350,
          351,
          352,
          353,
          354,
          355,
          356,
          357,
          358
         ],
         "xaxis": "x",
         "y": [
          21.25375,
          41.597142857142856,
          22.982857142857142,
          21.75142857142857,
          17.144285714285715,
          13.004285714285714,
          14.56857142857143,
          11.637142857142857,
          17.10571428571429,
          18.639999999999997,
          31.270000000000003,
          28.77857142857143,
          11.437142857142858,
          17.822857142857142,
          10.522857142857143,
          5.855714285714286,
          8.285714285714286,
          9.430000000000001,
          8.98857142857143,
          3.955714285714286,
          9.412857142857144,
          8.124285714285714,
          10.827142857142857,
          11.141428571428571,
          9.334285714285715,
          8.481428571428571,
          7.847142857142857,
          6.658571428571428,
          9.967142857142857,
          8.114285714285714,
          8.975714285714286,
          9.468571428571428,
          7.837142857142857,
          6.882857142857143,
          8.20142857142857,
          10.522857142857143,
          10.025714285714287,
          14.991428571428571,
          12.459999999999999,
          15.179999999999998,
          17.54285714285714,
          13.305714285714286,
          14.278571428571428,
          18.732857142857142,
          16.387142857142855,
          11.277142857142858,
          16.212857142857143,
          25.228571428571428,
          10.805714285714286,
          26.895714285714284,
          32.87,
          34.36857142857143,
          26.777500000000003,
          39.54,
          29.745714285714286,
          22.635714285714283,
          21.391428571428573,
          18.74285714285714,
          32.019999999999996,
          35.128571428571426,
          14.152857142857142,
          13.957142857142857,
          23.481428571428573,
          25.608571428571427,
          14.435714285714285,
          11.137142857142859,
          17.392857142857142,
          14.192857142857141,
          15.404285714285717,
          12.711428571428572,
          10.061428571428573,
          9.795714285714284,
          9.44,
          11.104285714285714,
          15.77,
          17.027142857142856,
          8.79857142857143,
          8.731428571428571,
          14.461428571428572,
          15.81,
          15.914285714285715,
          14.66,
          8.051428571428572,
          18.904285714285717,
          18.53857142857143,
          9.008571428571429,
          11.025714285714287,
          11.782857142857143,
          11.167142857142858,
          10.9,
          8.477142857142857,
          9.605714285714285,
          7.4957142857142856,
          8.58,
          12.545714285714284,
          15.357142857142858,
          26.722857142857144,
          37.98285714285714,
          29.41857142857143,
          19.041428571428572,
          46.470000000000006,
          41.76857142857143,
          37.637142857142855,
          38.62714285714286,
          30.027272727272727,
          17.744285714285716,
          30.675714285714285,
          79.86142857142856,
          27.56857142857143,
          15.915714285714285,
          13.452857142857143,
          16.628571428571426,
          12.055714285714286,
          10.917142857142858,
          23.47142857142857,
          17.857142857142858,
          16.885714285714286,
          14.514285714285714,
          9.828571428571427,
          10.557142857142859,
          7.728571428571429,
          9.1,
          9.942857142857141,
          9.314285714285715,
          12.1,
          7.514285714285714,
          9.671428571428573,
          7.628571428571428,
          14.257142857142858,
          10.6,
          11.228571428571428,
          10.87142857142857,
          12.414285714285715,
          7.866666666666667,
          7.5,
          7.557142857142857,
          8.6,
          10.914285714285715,
          12.871428571428572,
          12.071428571428571,
          15.285714285714286,
          8.3,
          13.37142857142857,
          6,
          9.014285714285714,
          8.285714285714286,
          12.171428571428573,
          19.942857142857143,
          10.471428571428572,
          24.142857142857142,
          20.014285714285712,
          18.642857142857142,
          33.142857142857146,
          27.885714285714283,
          22.957142857142856,
          22.03333333333333,
          26.810000000000002,
          35.32857142857143,
          13.87142857142857,
          32.41428571428572,
          47.471428571428575,
          43.6,
          34.8,
          31.38571428571429,
          14.642857142857142,
          10.671428571428573,
          37.55714285714286,
          22.857142857142858,
          14.785714285714286,
          12.928571428571429,
          9.114285714285714,
          8.514285714285714,
          9.885714285714286,
          9.014285714285714,
          10.185714285714285,
          8.671428571428573,
          10.685714285714285,
          14.685714285714285,
          8.528571428571428,
          13.5,
          15.942857142857141,
          7.3999999999999995,
          10.985714285714286,
          8.871428571428572,
          14.071428571428571,
          7.742857142857142,
          14.957142857142856,
          9.37142857142857,
          10.071428571428571,
          12.428571428571429,
          9.885714285714286,
          7.542857142857143,
          6.128571428571428,
          9.757142857142856,
          14.214285714285714,
          21.785714285714285,
          22.771428571428572,
          34.7,
          17.185714285714287,
          20.142857142857142,
          15.657142857142857,
          11.571428571428571,
          33.41428571428572,
          13.62857142857143,
          31.657142857142855,
          15.6,
          28.485714285714288,
          29.7875,
          33.2875,
          15.157142857142857,
          21.142857142857142,
          31.82857142857143,
          19.857142857142858,
          14.228571428571428,
          22.428571428571427,
          12.87142857142857,
          33.028571428571425,
          20.942857142857143,
          9.6,
          19.6,
          20.428571428571427,
          10.671428571428573,
          10.985714285714286,
          14.285714285714286,
          14.428571428571429,
          10.928571428571429,
          10.442857142857141,
          8.057142857142857,
          10.585714285714285,
          15.714285714285714,
          14.028571428571428,
          11.085714285714285,
          9.471428571428572,
          7.614285714285714,
          9.657142857142857,
          9.528571428571428,
          10.971428571428572,
          12.771428571428572,
          16.8,
          15.928571428571429,
          12.385714285714286,
          15.7,
          12.757142857142856,
          8.885714285714286,
          13.014285714285714,
          15.828571428571431,
          8.357142857142858,
          7.042857142857143,
          20,
          23.02857142857143,
          12.799999999999999,
          10.514285714285714,
          16.271428571428572,
          17.599999999999998,
          10.185714285714285,
          16.728571428571428,
          22.428571428571427,
          18.82857142857143,
          26.842857142857145,
          34.9,
          27.2875,
          32.642857142857146,
          20.099999999999998,
          21.228571428571428,
          15.485714285714286,
          14.87142857142857,
          24.514285714285712,
          52.41428571428571,
          35.628571428571426,
          22.542857142857144,
          17.2,
          11.542857142857143,
          11.485714285714286,
          13.62857142857143,
          15.700000000000001,
          14.614285714285714,
          10.771428571428572,
          7.814285714285715,
          7.6571428571428575,
          8.542857142857143,
          9.242857142857144,
          7.257142857142857,
          15.042857142857143,
          17.2,
          11.928571428571429,
          15.557142857142859,
          12.5,
          9.542857142857143,
          9,
          11.014285714285716,
          7.5,
          10.485714285714286,
          6.285714285714286,
          11.114285714285714,
          16.5,
          7.328571428571428,
          9.857142857142858,
          8.371428571428572,
          7.3428571428571425,
          6.6,
          13.057142857142859,
          18.685714285714287,
          13.885714285714286,
          8.342857142857143,
          7.914285714285714,
          6.114285714285714,
          11.257142857142856,
          13.585714285714285,
          17.571428571428573,
          15.771428571428572,
          13.6,
          17.414285714285715,
          28.7,
          33.285714285714285,
          26.428571428571427,
          25,
          36.67142857142857,
          26.87142857142857,
          25.8,
          18.857142857142858,
          18.900000000000002,
          8.514285714285714,
          19.214285714285715,
          16.742857142857144,
          14.842857142857143,
          13.942857142857141,
          15.157142857142857,
          12.642857142857142,
          13.214285714285714,
          6.171428571428572,
          8.028571428571428,
          7.042857142857143,
          8.157142857142857,
          7.128571428571428,
          7.928571428571429,
          5.8428571428571425,
          6.285714285714286,
          8.928571428571429,
          8.157142857142857,
          9.4,
          8.285714285714286,
          10.200000000000001,
          12.957142857142857,
          10.194624294624296,
          12.336904761904762,
          7.844182597231378,
          7.292857142857143,
          7.35,
          13.036821705426357,
          13.717857142857143,
          7.057142857142857,
          9.132142857142856,
          9.321428571428571,
          7.460548172757475,
          29.52857142857143,
          16.85357142857143,
          20.5780487804878,
          22.157142857142855,
          16.708333333333332
         ],
         "yaxis": "y"
        }
       ],
       "layout": {
        "legend": {
         "tracegroupgap": 0
        },
        "template": {
         "data": {
          "bar": [
           {
            "error_x": {
             "color": "#2a3f5f"
            },
            "error_y": {
             "color": "#2a3f5f"
            },
            "marker": {
             "line": {
              "color": "#E5ECF6",
              "width": 0.5
             },
             "pattern": {
              "fillmode": "overlay",
              "size": 10,
              "solidity": 0.2
             }
            },
            "type": "bar"
           }
          ],
          "barpolar": [
           {
            "marker": {
             "line": {
              "color": "#E5ECF6",
              "width": 0.5
             },
             "pattern": {
              "fillmode": "overlay",
              "size": 10,
              "solidity": 0.2
             }
            },
            "type": "barpolar"
           }
          ],
          "carpet": [
           {
            "aaxis": {
             "endlinecolor": "#2a3f5f",
             "gridcolor": "white",
             "linecolor": "white",
             "minorgridcolor": "white",
             "startlinecolor": "#2a3f5f"
            },
            "baxis": {
             "endlinecolor": "#2a3f5f",
             "gridcolor": "white",
             "linecolor": "white",
             "minorgridcolor": "white",
             "startlinecolor": "#2a3f5f"
            },
            "type": "carpet"
           }
          ],
          "choropleth": [
           {
            "colorbar": {
             "outlinewidth": 0,
             "ticks": ""
            },
            "type": "choropleth"
           }
          ],
          "contour": [
           {
            "colorbar": {
             "outlinewidth": 0,
             "ticks": ""
            },
            "colorscale": [
             [
              0,
              "#0d0887"
             ],
             [
              0.1111111111111111,
              "#46039f"
             ],
             [
              0.2222222222222222,
              "#7201a8"
             ],
             [
              0.3333333333333333,
              "#9c179e"
             ],
             [
              0.4444444444444444,
              "#bd3786"
             ],
             [
              0.5555555555555556,
              "#d8576b"
             ],
             [
              0.6666666666666666,
              "#ed7953"
             ],
             [
              0.7777777777777778,
              "#fb9f3a"
             ],
             [
              0.8888888888888888,
              "#fdca26"
             ],
             [
              1,
              "#f0f921"
             ]
            ],
            "type": "contour"
           }
          ],
          "contourcarpet": [
           {
            "colorbar": {
             "outlinewidth": 0,
             "ticks": ""
            },
            "type": "contourcarpet"
           }
          ],
          "heatmap": [
           {
            "colorbar": {
             "outlinewidth": 0,
             "ticks": ""
            },
            "colorscale": [
             [
              0,
              "#0d0887"
             ],
             [
              0.1111111111111111,
              "#46039f"
             ],
             [
              0.2222222222222222,
              "#7201a8"
             ],
             [
              0.3333333333333333,
              "#9c179e"
             ],
             [
              0.4444444444444444,
              "#bd3786"
             ],
             [
              0.5555555555555556,
              "#d8576b"
             ],
             [
              0.6666666666666666,
              "#ed7953"
             ],
             [
              0.7777777777777778,
              "#fb9f3a"
             ],
             [
              0.8888888888888888,
              "#fdca26"
             ],
             [
              1,
              "#f0f921"
             ]
            ],
            "type": "heatmap"
           }
          ],
          "heatmapgl": [
           {
            "colorbar": {
             "outlinewidth": 0,
             "ticks": ""
            },
            "colorscale": [
             [
              0,
              "#0d0887"
             ],
             [
              0.1111111111111111,
              "#46039f"
             ],
             [
              0.2222222222222222,
              "#7201a8"
             ],
             [
              0.3333333333333333,
              "#9c179e"
             ],
             [
              0.4444444444444444,
              "#bd3786"
             ],
             [
              0.5555555555555556,
              "#d8576b"
             ],
             [
              0.6666666666666666,
              "#ed7953"
             ],
             [
              0.7777777777777778,
              "#fb9f3a"
             ],
             [
              0.8888888888888888,
              "#fdca26"
             ],
             [
              1,
              "#f0f921"
             ]
            ],
            "type": "heatmapgl"
           }
          ],
          "histogram": [
           {
            "marker": {
             "pattern": {
              "fillmode": "overlay",
              "size": 10,
              "solidity": 0.2
             }
            },
            "type": "histogram"
           }
          ],
          "histogram2d": [
           {
            "colorbar": {
             "outlinewidth": 0,
             "ticks": ""
            },
            "colorscale": [
             [
              0,
              "#0d0887"
             ],
             [
              0.1111111111111111,
              "#46039f"
             ],
             [
              0.2222222222222222,
              "#7201a8"
             ],
             [
              0.3333333333333333,
              "#9c179e"
             ],
             [
              0.4444444444444444,
              "#bd3786"
             ],
             [
              0.5555555555555556,
              "#d8576b"
             ],
             [
              0.6666666666666666,
              "#ed7953"
             ],
             [
              0.7777777777777778,
              "#fb9f3a"
             ],
             [
              0.8888888888888888,
              "#fdca26"
             ],
             [
              1,
              "#f0f921"
             ]
            ],
            "type": "histogram2d"
           }
          ],
          "histogram2dcontour": [
           {
            "colorbar": {
             "outlinewidth": 0,
             "ticks": ""
            },
            "colorscale": [
             [
              0,
              "#0d0887"
             ],
             [
              0.1111111111111111,
              "#46039f"
             ],
             [
              0.2222222222222222,
              "#7201a8"
             ],
             [
              0.3333333333333333,
              "#9c179e"
             ],
             [
              0.4444444444444444,
              "#bd3786"
             ],
             [
              0.5555555555555556,
              "#d8576b"
             ],
             [
              0.6666666666666666,
              "#ed7953"
             ],
             [
              0.7777777777777778,
              "#fb9f3a"
             ],
             [
              0.8888888888888888,
              "#fdca26"
             ],
             [
              1,
              "#f0f921"
             ]
            ],
            "type": "histogram2dcontour"
           }
          ],
          "mesh3d": [
           {
            "colorbar": {
             "outlinewidth": 0,
             "ticks": ""
            },
            "type": "mesh3d"
           }
          ],
          "parcoords": [
           {
            "line": {
             "colorbar": {
              "outlinewidth": 0,
              "ticks": ""
             }
            },
            "type": "parcoords"
           }
          ],
          "pie": [
           {
            "automargin": true,
            "type": "pie"
           }
          ],
          "scatter": [
           {
            "marker": {
             "colorbar": {
              "outlinewidth": 0,
              "ticks": ""
             }
            },
            "type": "scatter"
           }
          ],
          "scatter3d": [
           {
            "line": {
             "colorbar": {
              "outlinewidth": 0,
              "ticks": ""
             }
            },
            "marker": {
             "colorbar": {
              "outlinewidth": 0,
              "ticks": ""
             }
            },
            "type": "scatter3d"
           }
          ],
          "scattercarpet": [
           {
            "marker": {
             "colorbar": {
              "outlinewidth": 0,
              "ticks": ""
             }
            },
            "type": "scattercarpet"
           }
          ],
          "scattergeo": [
           {
            "marker": {
             "colorbar": {
              "outlinewidth": 0,
              "ticks": ""
             }
            },
            "type": "scattergeo"
           }
          ],
          "scattergl": [
           {
            "marker": {
             "colorbar": {
              "outlinewidth": 0,
              "ticks": ""
             }
            },
            "type": "scattergl"
           }
          ],
          "scattermapbox": [
           {
            "marker": {
             "colorbar": {
              "outlinewidth": 0,
              "ticks": ""
             }
            },
            "type": "scattermapbox"
           }
          ],
          "scatterpolar": [
           {
            "marker": {
             "colorbar": {
              "outlinewidth": 0,
              "ticks": ""
             }
            },
            "type": "scatterpolar"
           }
          ],
          "scatterpolargl": [
           {
            "marker": {
             "colorbar": {
              "outlinewidth": 0,
              "ticks": ""
             }
            },
            "type": "scatterpolargl"
           }
          ],
          "scatterternary": [
           {
            "marker": {
             "colorbar": {
              "outlinewidth": 0,
              "ticks": ""
             }
            },
            "type": "scatterternary"
           }
          ],
          "surface": [
           {
            "colorbar": {
             "outlinewidth": 0,
             "ticks": ""
            },
            "colorscale": [
             [
              0,
              "#0d0887"
             ],
             [
              0.1111111111111111,
              "#46039f"
             ],
             [
              0.2222222222222222,
              "#7201a8"
             ],
             [
              0.3333333333333333,
              "#9c179e"
             ],
             [
              0.4444444444444444,
              "#bd3786"
             ],
             [
              0.5555555555555556,
              "#d8576b"
             ],
             [
              0.6666666666666666,
              "#ed7953"
             ],
             [
              0.7777777777777778,
              "#fb9f3a"
             ],
             [
              0.8888888888888888,
              "#fdca26"
             ],
             [
              1,
              "#f0f921"
             ]
            ],
            "type": "surface"
           }
          ],
          "table": [
           {
            "cells": {
             "fill": {
              "color": "#EBF0F8"
             },
             "line": {
              "color": "white"
             }
            },
            "header": {
             "fill": {
              "color": "#C8D4E3"
             },
             "line": {
              "color": "white"
             }
            },
            "type": "table"
           }
          ]
         },
         "layout": {
          "annotationdefaults": {
           "arrowcolor": "#2a3f5f",
           "arrowhead": 0,
           "arrowwidth": 1
          },
          "autotypenumbers": "strict",
          "coloraxis": {
           "colorbar": {
            "outlinewidth": 0,
            "ticks": ""
           }
          },
          "colorscale": {
           "diverging": [
            [
             0,
             "#8e0152"
            ],
            [
             0.1,
             "#c51b7d"
            ],
            [
             0.2,
             "#de77ae"
            ],
            [
             0.3,
             "#f1b6da"
            ],
            [
             0.4,
             "#fde0ef"
            ],
            [
             0.5,
             "#f7f7f7"
            ],
            [
             0.6,
             "#e6f5d0"
            ],
            [
             0.7,
             "#b8e186"
            ],
            [
             0.8,
             "#7fbc41"
            ],
            [
             0.9,
             "#4d9221"
            ],
            [
             1,
             "#276419"
            ]
           ],
           "sequential": [
            [
             0,
             "#0d0887"
            ],
            [
             0.1111111111111111,
             "#46039f"
            ],
            [
             0.2222222222222222,
             "#7201a8"
            ],
            [
             0.3333333333333333,
             "#9c179e"
            ],
            [
             0.4444444444444444,
             "#bd3786"
            ],
            [
             0.5555555555555556,
             "#d8576b"
            ],
            [
             0.6666666666666666,
             "#ed7953"
            ],
            [
             0.7777777777777778,
             "#fb9f3a"
            ],
            [
             0.8888888888888888,
             "#fdca26"
            ],
            [
             1,
             "#f0f921"
            ]
           ],
           "sequentialminus": [
            [
             0,
             "#0d0887"
            ],
            [
             0.1111111111111111,
             "#46039f"
            ],
            [
             0.2222222222222222,
             "#7201a8"
            ],
            [
             0.3333333333333333,
             "#9c179e"
            ],
            [
             0.4444444444444444,
             "#bd3786"
            ],
            [
             0.5555555555555556,
             "#d8576b"
            ],
            [
             0.6666666666666666,
             "#ed7953"
            ],
            [
             0.7777777777777778,
             "#fb9f3a"
            ],
            [
             0.8888888888888888,
             "#fdca26"
            ],
            [
             1,
             "#f0f921"
            ]
           ]
          },
          "colorway": [
           "#636efa",
           "#EF553B",
           "#00cc96",
           "#ab63fa",
           "#FFA15A",
           "#19d3f3",
           "#FF6692",
           "#B6E880",
           "#FF97FF",
           "#FECB52"
          ],
          "font": {
           "color": "#2a3f5f"
          },
          "geo": {
           "bgcolor": "white",
           "lakecolor": "white",
           "landcolor": "#E5ECF6",
           "showlakes": true,
           "showland": true,
           "subunitcolor": "white"
          },
          "hoverlabel": {
           "align": "left"
          },
          "hovermode": "closest",
          "mapbox": {
           "style": "light"
          },
          "paper_bgcolor": "white",
          "plot_bgcolor": "#E5ECF6",
          "polar": {
           "angularaxis": {
            "gridcolor": "white",
            "linecolor": "white",
            "ticks": ""
           },
           "bgcolor": "#E5ECF6",
           "radialaxis": {
            "gridcolor": "white",
            "linecolor": "white",
            "ticks": ""
           }
          },
          "scene": {
           "xaxis": {
            "backgroundcolor": "#E5ECF6",
            "gridcolor": "white",
            "gridwidth": 2,
            "linecolor": "white",
            "showbackground": true,
            "ticks": "",
            "zerolinecolor": "white"
           },
           "yaxis": {
            "backgroundcolor": "#E5ECF6",
            "gridcolor": "white",
            "gridwidth": 2,
            "linecolor": "white",
            "showbackground": true,
            "ticks": "",
            "zerolinecolor": "white"
           },
           "zaxis": {
            "backgroundcolor": "#E5ECF6",
            "gridcolor": "white",
            "gridwidth": 2,
            "linecolor": "white",
            "showbackground": true,
            "ticks": "",
            "zerolinecolor": "white"
           }
          },
          "shapedefaults": {
           "line": {
            "color": "#2a3f5f"
           }
          },
          "ternary": {
           "aaxis": {
            "gridcolor": "white",
            "linecolor": "white",
            "ticks": ""
           },
           "baxis": {
            "gridcolor": "white",
            "linecolor": "white",
            "ticks": ""
           },
           "bgcolor": "#E5ECF6",
           "caxis": {
            "gridcolor": "white",
            "linecolor": "white",
            "ticks": ""
           }
          },
          "title": {
           "x": 0.05
          },
          "xaxis": {
           "automargin": true,
           "gridcolor": "white",
           "linecolor": "white",
           "ticks": "",
           "title": {
            "standoff": 15
           },
           "zerolinecolor": "white",
           "zerolinewidth": 2
          },
          "yaxis": {
           "automargin": true,
           "gridcolor": "white",
           "linecolor": "white",
           "ticks": "",
           "title": {
            "standoff": 15
           },
           "zerolinecolor": "white",
           "zerolinewidth": 2
          }
         }
        },
        "title": {
         "text": "Provincia: Udine"
        },
        "xaxis": {
         "anchor": "y",
         "domain": [
          0,
          1
         ],
         "title": {
          "text": "time_idx"
         }
        },
        "yaxis": {
         "anchor": "x",
         "domain": [
          0,
          1
         ],
         "title": {
          "text": "pm2dot5_giornaliera"
         }
        }
       }
      }
     },
     "metadata": {},
     "output_type": "display_data"
    }
   ],
   "source": [
    "import plotly.express as px\n",
    "for provincia in list(df_settimanale[\"provincia\"].unique()):\n",
    "    plot_df = df_settimanale[df_settimanale[\"provincia\"]==provincia][[\"time_idx\",\"pm2dot5_giornaliera\"]]\n",
    "    fig = px.line(plot_df, x=\"time_idx\",y=\"pm2dot5_giornaliera\", title=\"Provincia: {}\".format(provincia))\n",
    "    fig.show()"
   ]
  },
  {
   "cell_type": "code",
   "execution_count": 27,
   "metadata": {},
   "outputs": [
    {
     "data": {
      "application/vnd.plotly.v1+json": {
       "config": {
        "plotlyServerURL": "https://plot.ly"
       },
       "data": [
        {
         "hovertemplate": "time_idx=%{x}<br>carbonio_8h_max=%{y}<extra></extra>",
         "legendgroup": "",
         "line": {
          "color": "#636efa",
          "dash": "solid"
         },
         "marker": {
          "symbol": "circle"
         },
         "mode": "lines",
         "name": "",
         "orientation": "v",
         "showlegend": false,
         "type": "scatter",
         "x": [
          0,
          1,
          2,
          3,
          4,
          5,
          6,
          7,
          8,
          9,
          10,
          11,
          12,
          13,
          14,
          15,
          16,
          17,
          18,
          19,
          20,
          21,
          22,
          23,
          24,
          25,
          26,
          27,
          28,
          29,
          30,
          31,
          32,
          33,
          34,
          35,
          36,
          37,
          38,
          39,
          40,
          41,
          42,
          43,
          44,
          45,
          46,
          47,
          48,
          49,
          50,
          51,
          52,
          53,
          54,
          55,
          56,
          57,
          58,
          59,
          60,
          61,
          62,
          63,
          64,
          65,
          66,
          67,
          68,
          69,
          70,
          71,
          72,
          73,
          74,
          75,
          76,
          77,
          78,
          79,
          80,
          81,
          82,
          83,
          84,
          85,
          86,
          87,
          88,
          89,
          90,
          91,
          92,
          93,
          94,
          95,
          96,
          97,
          98,
          99,
          100,
          101,
          102,
          103,
          104,
          105,
          106,
          107,
          108,
          109,
          110,
          111,
          112,
          113,
          114,
          115,
          116,
          117,
          118,
          119,
          120,
          121,
          122,
          123,
          124,
          125,
          126,
          127,
          128,
          129,
          130,
          131,
          132,
          133,
          134,
          135,
          136,
          137,
          138,
          139,
          140,
          141,
          142,
          143,
          144,
          145,
          146,
          147,
          148,
          149,
          150,
          151,
          152,
          153,
          154,
          155,
          156,
          157,
          158,
          159,
          160,
          161,
          162,
          163,
          164,
          165,
          166,
          167,
          168,
          169,
          170,
          171,
          172,
          173,
          174,
          175,
          176,
          177,
          178,
          179,
          180,
          181,
          182,
          183,
          184,
          185,
          186,
          187,
          188,
          189,
          190,
          191,
          192,
          193,
          194,
          195,
          196,
          197,
          198,
          199,
          200,
          201,
          202,
          203,
          204,
          205,
          206,
          207,
          208,
          209,
          210,
          211,
          212,
          213,
          214,
          215,
          216,
          217,
          218,
          219,
          220,
          221,
          222,
          223,
          224,
          225,
          226,
          227,
          228,
          229,
          230,
          231,
          232,
          233,
          234,
          235,
          236,
          237,
          238,
          239,
          240,
          241,
          242,
          243,
          244,
          245,
          246,
          247,
          248,
          249,
          250,
          251,
          252,
          253,
          254,
          255,
          256,
          257,
          258,
          259,
          260,
          261,
          262,
          263,
          264,
          265,
          266,
          267,
          268,
          269,
          270,
          271,
          272,
          273,
          274,
          275,
          276,
          277,
          278,
          279,
          280,
          281,
          282,
          283,
          284,
          285,
          286,
          287,
          288,
          289,
          290,
          291,
          292,
          293,
          294,
          295,
          296,
          297,
          298,
          299,
          300,
          301,
          302,
          303,
          304,
          305,
          306,
          307,
          308,
          309,
          310,
          311,
          312,
          313,
          314,
          315,
          316,
          317,
          318,
          319,
          320,
          321,
          322,
          323,
          324,
          325,
          326,
          327,
          328,
          329,
          330,
          331,
          332,
          333,
          334,
          335,
          336,
          337,
          338,
          339,
          340,
          341,
          342,
          343,
          344,
          345,
          346,
          347,
          348,
          349,
          350,
          351,
          352,
          353,
          354,
          355,
          356,
          357,
          358
         ],
         "xaxis": "x",
         "y": [
          0.65125,
          0.8457142857142858,
          0.6485714285714286,
          0.6792857142857143,
          0.5264285714285715,
          0.5342857142857144,
          0.6957142857142857,
          0.5271428571428572,
          0.5678571428571428,
          0.5228571428571429,
          0.6364285714285715,
          0.5085714285714286,
          0.6921428571428571,
          0.42714285714285716,
          0.39428571428571424,
          0.42142857142857143,
          0.4257142857142857,
          0.45928571428571424,
          0.38285714285714284,
          0.38785714285714284,
          0.43785714285714283,
          0.4557142857142857,
          0.38,
          0.4321428571428571,
          0.30142857142857143,
          0.3442857142857143,
          0.4064285714285714,
          0.3807142857142857,
          0.40785714285714286,
          0.305,
          0.2978571428571429,
          0.32785714285714285,
          0.31714285714285717,
          0.3885714285714286,
          0.4121428571428571,
          0.5171428571428571,
          0.43571428571428567,
          0.355,
          0.43714285714285717,
          0.46,
          0.5092857142857142,
          0.49642857142857144,
          0.49000000000000005,
          0.8049999999999999,
          0.6907142857142857,
          0.7142857142857143,
          0.7307142857142858,
          0.6385714285714286,
          0.6078571428571429,
          1.2414285714285713,
          1.0535714285714286,
          0.9142857142857144,
          0.91625,
          1.2957142857142858,
          1.41,
          1.1357142857142857,
          0.8821428571428571,
          0.8442857142857143,
          1.0507142857142857,
          1.0014285714285713,
          0.7292857142857143,
          0.6464285714285715,
          0.8171428571428571,
          0.6171428571428572,
          0.5014285714285714,
          0.3257142857142857,
          0.46642857142857147,
          0.4142857142857143,
          0.39,
          0.395,
          0.18714285714285714,
          0.2414285714285714,
          0.33499999999999996,
          0.17357142857142857,
          0.315,
          0.29214285714285715,
          0.325,
          0.32071428571428573,
          0.32071428571428573,
          0.3271428571428571,
          0.31428571428571433,
          0.2814285714285714,
          0.32785714285714285,
          0.36500000000000005,
          0.43000000000000005,
          0.2671428571428571,
          0.40785714285714286,
          0.5135714285714286,
          0.31428571428571433,
          0.43642857142857144,
          0.35714285714285715,
          0.305,
          0.2914285714285714,
          0.3792857142857143,
          0.62,
          0.6221428571428572,
          0.9778571428571429,
          0.88,
          0.7571428571428571,
          0.6921428571428573,
          1.1842857142857144,
          1.0092857142857143,
          1.1814285714285713,
          0.8678571428571429,
          0.9836363636363636,
          0.62,
          0.9764285714285714,
          1.412857142857143,
          0.8285714285714285,
          0.6014285714285714,
          0.6678571428571428,
          0.8242857142857142,
          0.6435714285714286,
          0.2957142857142857,
          0.35714285714285715,
          0.13142857142857142,
          0.3078571428571429,
          0.26071428571428573,
          0.2557142857142857,
          0.2621428571428571,
          0.21214285714285713,
          0.26785714285714285,
          0.3557142857142857,
          0.3685714285714286,
          0.34214285714285714,
          0.2642857142857143,
          0.2978571428571429,
          0.30428571428571427,
          0.33571428571428574,
          0.2357142857142857,
          0.25857142857142856,
          0.29714285714285715,
          0.2839285714285714,
          0.2975,
          0.32142857142857145,
          0.31857142857142856,
          0.32357142857142857,
          0.37214285714285716,
          0.4407142857142857,
          0.3842857142857143,
          0.43142857142857144,
          0.43714285714285717,
          0.4385714285714286,
          0.4557142857142857,
          0.6328571428571428,
          0.6714285714285715,
          0.8485714285714285,
          0.97,
          0.8857142857142858,
          1.5,
          1.247142857142857,
          1.247142857142857,
          1.5399999999999998,
          1.4885714285714287,
          1.3885714285714286,
          1.5233333333333334,
          0.9970000000000001,
          1.3085714285714285,
          0.9371428571428572,
          0.9800000000000001,
          1.4142857142857144,
          0.72,
          1.2028571428571428,
          1.1757142857142857,
          0.8571428571428571,
          0.8257142857142857,
          0.8985714285714286,
          0.5728571428571428,
          0.5314285714285714,
          0.41000000000000003,
          0.41000000000000003,
          0.40857142857142864,
          0.39999999999999997,
          0.41428571428571426,
          0.42428571428571427,
          0.37714285714285717,
          0.38571428571428573,
          0.37142857142857144,
          0.35285714285714287,
          0.41428571428571426,
          0.4185714285714286,
          0.4057142857142857,
          0.37285714285714283,
          0.3057142857142857,
          0.39,
          0.34142857142857147,
          0.49142857142857144,
          0.3914285714285714,
          0.7242857142857143,
          0.3657142857142857,
          0.39,
          0.3885714285714285,
          0.4714285714285714,
          0.5385714285714286,
          0.5614285714285715,
          0.5042857142857142,
          0.5585714285714286,
          0.6171428571428572,
          0.8028571428571428,
          1.06,
          0.8242857142857142,
          0.6871428571428572,
          1.182857142857143,
          0.8885714285714286,
          1.3514285714285712,
          0.7971428571428572,
          1.3071428571428572,
          1.3712499999999999,
          0,
          0,
          0,
          0,
          0,
          0,
          0,
          0,
          0,
          0,
          0,
          0,
          0,
          0,
          0,
          0,
          0,
          0,
          0,
          0,
          0,
          0,
          0,
          0,
          0,
          0,
          0,
          0,
          0,
          0,
          0,
          0,
          0,
          0,
          0,
          0,
          0,
          0,
          0,
          0,
          0,
          0,
          0,
          0,
          0,
          0,
          0,
          0,
          0,
          0,
          0,
          0,
          0,
          0,
          0,
          0,
          0,
          0,
          0,
          0,
          0,
          0,
          0,
          0,
          0,
          0,
          0,
          0,
          0,
          0,
          0,
          0,
          0,
          0,
          0,
          0,
          0,
          0,
          0,
          0,
          0,
          0,
          0,
          0,
          0,
          0,
          0,
          0,
          0,
          0,
          0,
          0,
          0,
          0,
          0,
          0,
          0,
          0,
          0,
          0,
          0,
          0,
          0,
          0,
          0,
          0,
          0,
          0,
          0,
          0,
          0,
          0,
          0,
          0,
          0,
          0,
          0,
          0,
          0,
          0,
          0,
          0,
          0,
          0,
          0,
          0,
          0,
          0,
          0,
          0,
          0,
          0,
          0,
          0,
          0,
          0,
          0,
          0,
          0,
          0,
          0,
          0,
          0,
          0,
          0,
          0,
          0,
          0,
          0,
          0,
          0
         ],
         "yaxis": "y"
        }
       ],
       "layout": {
        "legend": {
         "tracegroupgap": 0
        },
        "template": {
         "data": {
          "bar": [
           {
            "error_x": {
             "color": "#2a3f5f"
            },
            "error_y": {
             "color": "#2a3f5f"
            },
            "marker": {
             "line": {
              "color": "#E5ECF6",
              "width": 0.5
             },
             "pattern": {
              "fillmode": "overlay",
              "size": 10,
              "solidity": 0.2
             }
            },
            "type": "bar"
           }
          ],
          "barpolar": [
           {
            "marker": {
             "line": {
              "color": "#E5ECF6",
              "width": 0.5
             },
             "pattern": {
              "fillmode": "overlay",
              "size": 10,
              "solidity": 0.2
             }
            },
            "type": "barpolar"
           }
          ],
          "carpet": [
           {
            "aaxis": {
             "endlinecolor": "#2a3f5f",
             "gridcolor": "white",
             "linecolor": "white",
             "minorgridcolor": "white",
             "startlinecolor": "#2a3f5f"
            },
            "baxis": {
             "endlinecolor": "#2a3f5f",
             "gridcolor": "white",
             "linecolor": "white",
             "minorgridcolor": "white",
             "startlinecolor": "#2a3f5f"
            },
            "type": "carpet"
           }
          ],
          "choropleth": [
           {
            "colorbar": {
             "outlinewidth": 0,
             "ticks": ""
            },
            "type": "choropleth"
           }
          ],
          "contour": [
           {
            "colorbar": {
             "outlinewidth": 0,
             "ticks": ""
            },
            "colorscale": [
             [
              0,
              "#0d0887"
             ],
             [
              0.1111111111111111,
              "#46039f"
             ],
             [
              0.2222222222222222,
              "#7201a8"
             ],
             [
              0.3333333333333333,
              "#9c179e"
             ],
             [
              0.4444444444444444,
              "#bd3786"
             ],
             [
              0.5555555555555556,
              "#d8576b"
             ],
             [
              0.6666666666666666,
              "#ed7953"
             ],
             [
              0.7777777777777778,
              "#fb9f3a"
             ],
             [
              0.8888888888888888,
              "#fdca26"
             ],
             [
              1,
              "#f0f921"
             ]
            ],
            "type": "contour"
           }
          ],
          "contourcarpet": [
           {
            "colorbar": {
             "outlinewidth": 0,
             "ticks": ""
            },
            "type": "contourcarpet"
           }
          ],
          "heatmap": [
           {
            "colorbar": {
             "outlinewidth": 0,
             "ticks": ""
            },
            "colorscale": [
             [
              0,
              "#0d0887"
             ],
             [
              0.1111111111111111,
              "#46039f"
             ],
             [
              0.2222222222222222,
              "#7201a8"
             ],
             [
              0.3333333333333333,
              "#9c179e"
             ],
             [
              0.4444444444444444,
              "#bd3786"
             ],
             [
              0.5555555555555556,
              "#d8576b"
             ],
             [
              0.6666666666666666,
              "#ed7953"
             ],
             [
              0.7777777777777778,
              "#fb9f3a"
             ],
             [
              0.8888888888888888,
              "#fdca26"
             ],
             [
              1,
              "#f0f921"
             ]
            ],
            "type": "heatmap"
           }
          ],
          "heatmapgl": [
           {
            "colorbar": {
             "outlinewidth": 0,
             "ticks": ""
            },
            "colorscale": [
             [
              0,
              "#0d0887"
             ],
             [
              0.1111111111111111,
              "#46039f"
             ],
             [
              0.2222222222222222,
              "#7201a8"
             ],
             [
              0.3333333333333333,
              "#9c179e"
             ],
             [
              0.4444444444444444,
              "#bd3786"
             ],
             [
              0.5555555555555556,
              "#d8576b"
             ],
             [
              0.6666666666666666,
              "#ed7953"
             ],
             [
              0.7777777777777778,
              "#fb9f3a"
             ],
             [
              0.8888888888888888,
              "#fdca26"
             ],
             [
              1,
              "#f0f921"
             ]
            ],
            "type": "heatmapgl"
           }
          ],
          "histogram": [
           {
            "marker": {
             "pattern": {
              "fillmode": "overlay",
              "size": 10,
              "solidity": 0.2
             }
            },
            "type": "histogram"
           }
          ],
          "histogram2d": [
           {
            "colorbar": {
             "outlinewidth": 0,
             "ticks": ""
            },
            "colorscale": [
             [
              0,
              "#0d0887"
             ],
             [
              0.1111111111111111,
              "#46039f"
             ],
             [
              0.2222222222222222,
              "#7201a8"
             ],
             [
              0.3333333333333333,
              "#9c179e"
             ],
             [
              0.4444444444444444,
              "#bd3786"
             ],
             [
              0.5555555555555556,
              "#d8576b"
             ],
             [
              0.6666666666666666,
              "#ed7953"
             ],
             [
              0.7777777777777778,
              "#fb9f3a"
             ],
             [
              0.8888888888888888,
              "#fdca26"
             ],
             [
              1,
              "#f0f921"
             ]
            ],
            "type": "histogram2d"
           }
          ],
          "histogram2dcontour": [
           {
            "colorbar": {
             "outlinewidth": 0,
             "ticks": ""
            },
            "colorscale": [
             [
              0,
              "#0d0887"
             ],
             [
              0.1111111111111111,
              "#46039f"
             ],
             [
              0.2222222222222222,
              "#7201a8"
             ],
             [
              0.3333333333333333,
              "#9c179e"
             ],
             [
              0.4444444444444444,
              "#bd3786"
             ],
             [
              0.5555555555555556,
              "#d8576b"
             ],
             [
              0.6666666666666666,
              "#ed7953"
             ],
             [
              0.7777777777777778,
              "#fb9f3a"
             ],
             [
              0.8888888888888888,
              "#fdca26"
             ],
             [
              1,
              "#f0f921"
             ]
            ],
            "type": "histogram2dcontour"
           }
          ],
          "mesh3d": [
           {
            "colorbar": {
             "outlinewidth": 0,
             "ticks": ""
            },
            "type": "mesh3d"
           }
          ],
          "parcoords": [
           {
            "line": {
             "colorbar": {
              "outlinewidth": 0,
              "ticks": ""
             }
            },
            "type": "parcoords"
           }
          ],
          "pie": [
           {
            "automargin": true,
            "type": "pie"
           }
          ],
          "scatter": [
           {
            "marker": {
             "colorbar": {
              "outlinewidth": 0,
              "ticks": ""
             }
            },
            "type": "scatter"
           }
          ],
          "scatter3d": [
           {
            "line": {
             "colorbar": {
              "outlinewidth": 0,
              "ticks": ""
             }
            },
            "marker": {
             "colorbar": {
              "outlinewidth": 0,
              "ticks": ""
             }
            },
            "type": "scatter3d"
           }
          ],
          "scattercarpet": [
           {
            "marker": {
             "colorbar": {
              "outlinewidth": 0,
              "ticks": ""
             }
            },
            "type": "scattercarpet"
           }
          ],
          "scattergeo": [
           {
            "marker": {
             "colorbar": {
              "outlinewidth": 0,
              "ticks": ""
             }
            },
            "type": "scattergeo"
           }
          ],
          "scattergl": [
           {
            "marker": {
             "colorbar": {
              "outlinewidth": 0,
              "ticks": ""
             }
            },
            "type": "scattergl"
           }
          ],
          "scattermapbox": [
           {
            "marker": {
             "colorbar": {
              "outlinewidth": 0,
              "ticks": ""
             }
            },
            "type": "scattermapbox"
           }
          ],
          "scatterpolar": [
           {
            "marker": {
             "colorbar": {
              "outlinewidth": 0,
              "ticks": ""
             }
            },
            "type": "scatterpolar"
           }
          ],
          "scatterpolargl": [
           {
            "marker": {
             "colorbar": {
              "outlinewidth": 0,
              "ticks": ""
             }
            },
            "type": "scatterpolargl"
           }
          ],
          "scatterternary": [
           {
            "marker": {
             "colorbar": {
              "outlinewidth": 0,
              "ticks": ""
             }
            },
            "type": "scatterternary"
           }
          ],
          "surface": [
           {
            "colorbar": {
             "outlinewidth": 0,
             "ticks": ""
            },
            "colorscale": [
             [
              0,
              "#0d0887"
             ],
             [
              0.1111111111111111,
              "#46039f"
             ],
             [
              0.2222222222222222,
              "#7201a8"
             ],
             [
              0.3333333333333333,
              "#9c179e"
             ],
             [
              0.4444444444444444,
              "#bd3786"
             ],
             [
              0.5555555555555556,
              "#d8576b"
             ],
             [
              0.6666666666666666,
              "#ed7953"
             ],
             [
              0.7777777777777778,
              "#fb9f3a"
             ],
             [
              0.8888888888888888,
              "#fdca26"
             ],
             [
              1,
              "#f0f921"
             ]
            ],
            "type": "surface"
           }
          ],
          "table": [
           {
            "cells": {
             "fill": {
              "color": "#EBF0F8"
             },
             "line": {
              "color": "white"
             }
            },
            "header": {
             "fill": {
              "color": "#C8D4E3"
             },
             "line": {
              "color": "white"
             }
            },
            "type": "table"
           }
          ]
         },
         "layout": {
          "annotationdefaults": {
           "arrowcolor": "#2a3f5f",
           "arrowhead": 0,
           "arrowwidth": 1
          },
          "autotypenumbers": "strict",
          "coloraxis": {
           "colorbar": {
            "outlinewidth": 0,
            "ticks": ""
           }
          },
          "colorscale": {
           "diverging": [
            [
             0,
             "#8e0152"
            ],
            [
             0.1,
             "#c51b7d"
            ],
            [
             0.2,
             "#de77ae"
            ],
            [
             0.3,
             "#f1b6da"
            ],
            [
             0.4,
             "#fde0ef"
            ],
            [
             0.5,
             "#f7f7f7"
            ],
            [
             0.6,
             "#e6f5d0"
            ],
            [
             0.7,
             "#b8e186"
            ],
            [
             0.8,
             "#7fbc41"
            ],
            [
             0.9,
             "#4d9221"
            ],
            [
             1,
             "#276419"
            ]
           ],
           "sequential": [
            [
             0,
             "#0d0887"
            ],
            [
             0.1111111111111111,
             "#46039f"
            ],
            [
             0.2222222222222222,
             "#7201a8"
            ],
            [
             0.3333333333333333,
             "#9c179e"
            ],
            [
             0.4444444444444444,
             "#bd3786"
            ],
            [
             0.5555555555555556,
             "#d8576b"
            ],
            [
             0.6666666666666666,
             "#ed7953"
            ],
            [
             0.7777777777777778,
             "#fb9f3a"
            ],
            [
             0.8888888888888888,
             "#fdca26"
            ],
            [
             1,
             "#f0f921"
            ]
           ],
           "sequentialminus": [
            [
             0,
             "#0d0887"
            ],
            [
             0.1111111111111111,
             "#46039f"
            ],
            [
             0.2222222222222222,
             "#7201a8"
            ],
            [
             0.3333333333333333,
             "#9c179e"
            ],
            [
             0.4444444444444444,
             "#bd3786"
            ],
            [
             0.5555555555555556,
             "#d8576b"
            ],
            [
             0.6666666666666666,
             "#ed7953"
            ],
            [
             0.7777777777777778,
             "#fb9f3a"
            ],
            [
             0.8888888888888888,
             "#fdca26"
            ],
            [
             1,
             "#f0f921"
            ]
           ]
          },
          "colorway": [
           "#636efa",
           "#EF553B",
           "#00cc96",
           "#ab63fa",
           "#FFA15A",
           "#19d3f3",
           "#FF6692",
           "#B6E880",
           "#FF97FF",
           "#FECB52"
          ],
          "font": {
           "color": "#2a3f5f"
          },
          "geo": {
           "bgcolor": "white",
           "lakecolor": "white",
           "landcolor": "#E5ECF6",
           "showlakes": true,
           "showland": true,
           "subunitcolor": "white"
          },
          "hoverlabel": {
           "align": "left"
          },
          "hovermode": "closest",
          "mapbox": {
           "style": "light"
          },
          "paper_bgcolor": "white",
          "plot_bgcolor": "#E5ECF6",
          "polar": {
           "angularaxis": {
            "gridcolor": "white",
            "linecolor": "white",
            "ticks": ""
           },
           "bgcolor": "#E5ECF6",
           "radialaxis": {
            "gridcolor": "white",
            "linecolor": "white",
            "ticks": ""
           }
          },
          "scene": {
           "xaxis": {
            "backgroundcolor": "#E5ECF6",
            "gridcolor": "white",
            "gridwidth": 2,
            "linecolor": "white",
            "showbackground": true,
            "ticks": "",
            "zerolinecolor": "white"
           },
           "yaxis": {
            "backgroundcolor": "#E5ECF6",
            "gridcolor": "white",
            "gridwidth": 2,
            "linecolor": "white",
            "showbackground": true,
            "ticks": "",
            "zerolinecolor": "white"
           },
           "zaxis": {
            "backgroundcolor": "#E5ECF6",
            "gridcolor": "white",
            "gridwidth": 2,
            "linecolor": "white",
            "showbackground": true,
            "ticks": "",
            "zerolinecolor": "white"
           }
          },
          "shapedefaults": {
           "line": {
            "color": "#2a3f5f"
           }
          },
          "ternary": {
           "aaxis": {
            "gridcolor": "white",
            "linecolor": "white",
            "ticks": ""
           },
           "baxis": {
            "gridcolor": "white",
            "linecolor": "white",
            "ticks": ""
           },
           "bgcolor": "#E5ECF6",
           "caxis": {
            "gridcolor": "white",
            "linecolor": "white",
            "ticks": ""
           }
          },
          "title": {
           "x": 0.05
          },
          "xaxis": {
           "automargin": true,
           "gridcolor": "white",
           "linecolor": "white",
           "ticks": "",
           "title": {
            "standoff": 15
           },
           "zerolinecolor": "white",
           "zerolinewidth": 2
          },
          "yaxis": {
           "automargin": true,
           "gridcolor": "white",
           "linecolor": "white",
           "ticks": "",
           "title": {
            "standoff": 15
           },
           "zerolinecolor": "white",
           "zerolinewidth": 2
          }
         }
        },
        "title": {
         "text": "Provincia: Gorizia"
        },
        "xaxis": {
         "anchor": "y",
         "domain": [
          0,
          1
         ],
         "title": {
          "text": "time_idx"
         }
        },
        "yaxis": {
         "anchor": "x",
         "domain": [
          0,
          1
         ],
         "title": {
          "text": "carbonio_8h_max"
         }
        }
       }
      }
     },
     "metadata": {},
     "output_type": "display_data"
    },
    {
     "data": {
      "application/vnd.plotly.v1+json": {
       "config": {
        "plotlyServerURL": "https://plot.ly"
       },
       "data": [
        {
         "hovertemplate": "time_idx=%{x}<br>carbonio_8h_max=%{y}<extra></extra>",
         "legendgroup": "",
         "line": {
          "color": "#636efa",
          "dash": "solid"
         },
         "marker": {
          "symbol": "circle"
         },
         "mode": "lines",
         "name": "",
         "orientation": "v",
         "showlegend": false,
         "type": "scatter",
         "x": [
          0,
          1,
          2,
          3,
          4,
          5,
          6,
          7,
          8,
          9,
          10,
          11,
          12,
          13,
          14,
          15,
          16,
          17,
          18,
          19,
          20,
          21,
          22,
          23,
          24,
          25,
          26,
          27,
          28,
          29,
          30,
          31,
          32,
          33,
          34,
          35,
          36,
          37,
          38,
          39,
          40,
          41,
          42,
          43,
          44,
          45,
          46,
          47,
          48,
          49,
          50,
          51,
          52,
          53,
          54,
          55,
          56,
          57,
          58,
          59,
          60,
          61,
          62,
          63,
          64,
          65,
          66,
          67,
          68,
          69,
          70,
          71,
          72,
          73,
          74,
          75,
          76,
          77,
          78,
          79,
          80,
          81,
          82,
          83,
          84,
          85,
          86,
          87,
          88,
          89,
          90,
          91,
          92,
          93,
          94,
          95,
          96,
          97,
          98,
          99,
          100,
          101,
          102,
          103,
          104,
          105,
          106,
          107,
          108,
          109,
          110,
          111,
          112,
          113,
          114,
          115,
          116,
          117,
          118,
          119,
          120,
          121,
          122,
          123,
          124,
          125,
          126,
          127,
          128,
          129,
          130,
          131,
          132,
          133,
          134,
          135,
          136,
          137,
          138,
          139,
          140,
          141,
          142,
          143,
          144,
          145,
          146,
          147,
          148,
          149,
          150,
          151,
          152,
          153,
          154,
          155,
          156,
          157,
          158,
          159,
          160,
          161,
          162,
          163,
          164,
          165,
          166,
          167,
          168,
          169,
          170,
          171,
          172,
          173,
          174,
          175,
          176,
          177,
          178,
          179,
          180,
          181,
          182,
          183,
          184,
          185,
          186,
          187,
          188,
          189,
          190,
          191,
          192,
          193,
          194,
          195,
          196,
          197,
          198,
          199,
          200,
          201,
          202,
          203,
          204,
          205,
          206,
          207,
          208,
          209,
          210,
          211,
          212,
          213,
          214,
          215,
          216,
          217,
          218,
          219,
          220,
          221,
          222,
          223,
          224,
          225,
          226,
          227,
          228,
          229,
          230,
          231,
          232,
          233,
          234,
          235,
          236,
          237,
          238,
          239,
          240,
          241,
          242,
          243,
          244,
          245,
          246,
          247,
          248,
          249,
          250,
          251,
          252,
          253,
          254,
          255,
          256,
          257,
          258,
          259,
          260,
          261,
          262,
          263,
          264,
          265,
          266,
          267,
          268,
          269,
          270,
          271,
          272,
          273,
          274,
          275,
          276,
          277,
          278,
          279,
          280,
          281,
          282,
          283,
          284,
          285,
          286,
          287,
          288,
          289,
          290,
          291,
          292,
          293,
          294,
          295,
          296,
          297,
          298,
          299,
          300,
          301,
          302,
          303,
          304,
          305,
          306,
          307,
          308,
          309,
          310,
          311,
          312,
          313,
          314,
          315,
          316,
          317,
          318,
          319,
          320,
          321,
          322,
          323,
          324,
          325,
          326,
          327,
          328,
          329,
          330,
          331,
          332,
          333,
          334,
          335,
          336,
          337,
          338,
          339,
          340,
          341,
          342,
          343,
          344,
          345,
          346,
          347,
          348,
          349,
          350,
          351,
          352,
          353,
          354,
          355,
          356,
          357,
          358
         ],
         "xaxis": "x",
         "y": [
          0.90625,
          1.2614285714285713,
          0.8314285714285715,
          0.7185714285714286,
          0.7014285714285714,
          0.7471428571428572,
          0.84,
          0.7442857142857143,
          0.7057142857142856,
          0.7371428571428572,
          0.7785714285714286,
          0.5785714285714285,
          0.5314285714285714,
          0.42428571428571427,
          0.34285714285714286,
          0.39428571428571424,
          0.37714285714285717,
          0.3071428571428571,
          0.3442857142857143,
          0.33142857142857146,
          0.3442857142857143,
          0.2557142857142857,
          0.1757142857142857,
          0.2885714285714286,
          0.25,
          0.33571428571428574,
          0,
          0,
          0.11,
          0.2557142857142857,
          0.27,
          0.2542857142857143,
          0.23,
          0.24,
          0.2842857142857143,
          0.36,
          0.2871428571428571,
          0.3157142857142857,
          0.37285714285714283,
          0.3657142857142857,
          0.33714285714285713,
          0.35,
          0.35,
          0.35,
          0.35,
          0.35,
          0.35,
          0.35,
          0.35,
          0.35,
          0.35,
          0.35,
          0.35,
          0.35,
          0.35,
          0.35,
          0.35,
          0.35,
          0.35,
          0.35,
          0.35,
          0.35,
          0.35,
          0.35,
          0.35,
          0.35,
          0.35,
          0.35,
          0.35,
          0.35,
          0.35,
          0.35,
          0.35,
          0.35,
          0.35,
          0.35,
          0.35,
          0.35,
          0.35,
          0.35,
          0.35,
          0.35,
          0.35,
          0.35,
          0.35,
          0.35,
          0.35,
          0.35,
          0.35,
          0.35,
          0.35,
          0.35,
          0.35,
          0.35,
          0.35,
          0.35,
          0.35,
          0.35,
          0.35,
          0.35,
          0.35,
          0.35,
          0.35,
          0.35,
          0.35,
          0.35,
          0.35,
          0.35,
          0.35,
          0.35,
          0.35,
          0.35,
          0.35,
          0.35,
          0.35,
          0.35,
          0.35,
          0.35,
          0.35,
          0.35,
          0.35,
          0.35,
          0.35,
          0.35,
          0.35,
          0.35,
          0.35,
          0.35,
          0.35,
          0.35,
          0.35,
          0.35,
          0.35,
          0.3499999999999999,
          0.35,
          0.35,
          0.35,
          0.35,
          0.35,
          0.35,
          0.35,
          0.35,
          0.35,
          0.35,
          0.35,
          0.35,
          0.35,
          0.35,
          0.35,
          0.35,
          0.35,
          0.35,
          0.35,
          0.35,
          0.35,
          0.3499999999999999,
          0.35,
          0.35,
          0.35,
          0.35,
          0.35,
          0.35,
          0.35,
          0.35,
          0.35,
          0.35,
          0.35,
          0.35,
          0.35,
          0.35,
          0.35,
          0.35,
          0.35,
          0.35,
          0.35,
          0.35,
          0.35,
          0.35,
          0.35,
          0.35,
          0.35,
          0.35,
          0.35,
          0.35,
          0.35,
          0.35,
          0.35,
          0.35,
          0.35,
          0.35,
          0.35,
          0.35,
          0.35,
          0.35,
          0.35,
          0.35,
          0.35,
          0.35,
          0.35,
          0.35,
          0.35,
          0.35,
          0.35,
          0.35,
          0.35,
          0.35,
          0.35,
          0.35,
          0.35,
          0.35,
          0.35,
          0.35,
          0.35,
          0.35,
          0.35,
          0.35,
          0.35,
          0.35,
          0.35,
          0.35,
          0.35,
          0.35,
          0.35,
          0.35,
          0.35,
          0.35,
          0.35,
          0.35,
          0.35,
          0.35,
          0.35,
          0.35,
          0.35,
          0.35,
          0.35,
          0.35,
          0.35,
          0.35,
          0.35,
          0.35,
          0.35,
          0.35,
          0.35,
          0.35,
          0.35,
          0.35,
          0.35,
          0.35,
          0.35,
          0.35,
          0.35,
          0.35,
          0.35,
          0.35,
          0.35,
          0.35,
          0.35,
          0.35,
          0.35,
          0.35,
          0.35,
          0.35,
          0.35,
          0.35,
          0.35,
          0.35,
          0.35,
          0.35,
          0.35,
          0.35,
          0.35,
          0.35,
          0.35,
          0.35,
          0.35,
          0.35,
          0.35,
          0.35,
          0.35,
          0.35,
          0.35,
          0.35,
          0.35,
          0.35,
          0.35,
          0.35,
          0.35,
          0.35,
          0.35,
          0.35,
          0.35,
          0.35,
          0.35,
          0.35,
          0.35,
          0.35,
          0.35,
          0.35,
          0.35,
          0.35,
          0.35,
          0.35,
          0.35,
          0.35,
          0.35,
          0.35,
          0.35,
          0.35,
          0.35,
          0.35,
          0.35,
          0.35,
          0.35,
          0.35,
          0.35,
          0.35,
          0.35,
          0.35,
          0.35,
          0.35,
          0.35,
          0.35,
          0.35,
          0.35,
          0.35,
          0.35,
          0.35,
          0.35,
          0.35,
          0.35,
          0.35,
          0.35,
          0.35,
          0.35,
          0.35,
          0.35,
          0.35,
          0.35,
          0.35,
          0.35,
          0.35,
          0.35,
          0.35,
          0.35,
          0.35,
          0.35,
          0.35,
          0.35,
          0.35,
          0.35,
          0.35,
          0.35,
          0.35,
          0.35,
          0.35,
          0.35,
          0.35,
          0.35,
          0.3499999999999999
         ],
         "yaxis": "y"
        }
       ],
       "layout": {
        "legend": {
         "tracegroupgap": 0
        },
        "template": {
         "data": {
          "bar": [
           {
            "error_x": {
             "color": "#2a3f5f"
            },
            "error_y": {
             "color": "#2a3f5f"
            },
            "marker": {
             "line": {
              "color": "#E5ECF6",
              "width": 0.5
             },
             "pattern": {
              "fillmode": "overlay",
              "size": 10,
              "solidity": 0.2
             }
            },
            "type": "bar"
           }
          ],
          "barpolar": [
           {
            "marker": {
             "line": {
              "color": "#E5ECF6",
              "width": 0.5
             },
             "pattern": {
              "fillmode": "overlay",
              "size": 10,
              "solidity": 0.2
             }
            },
            "type": "barpolar"
           }
          ],
          "carpet": [
           {
            "aaxis": {
             "endlinecolor": "#2a3f5f",
             "gridcolor": "white",
             "linecolor": "white",
             "minorgridcolor": "white",
             "startlinecolor": "#2a3f5f"
            },
            "baxis": {
             "endlinecolor": "#2a3f5f",
             "gridcolor": "white",
             "linecolor": "white",
             "minorgridcolor": "white",
             "startlinecolor": "#2a3f5f"
            },
            "type": "carpet"
           }
          ],
          "choropleth": [
           {
            "colorbar": {
             "outlinewidth": 0,
             "ticks": ""
            },
            "type": "choropleth"
           }
          ],
          "contour": [
           {
            "colorbar": {
             "outlinewidth": 0,
             "ticks": ""
            },
            "colorscale": [
             [
              0,
              "#0d0887"
             ],
             [
              0.1111111111111111,
              "#46039f"
             ],
             [
              0.2222222222222222,
              "#7201a8"
             ],
             [
              0.3333333333333333,
              "#9c179e"
             ],
             [
              0.4444444444444444,
              "#bd3786"
             ],
             [
              0.5555555555555556,
              "#d8576b"
             ],
             [
              0.6666666666666666,
              "#ed7953"
             ],
             [
              0.7777777777777778,
              "#fb9f3a"
             ],
             [
              0.8888888888888888,
              "#fdca26"
             ],
             [
              1,
              "#f0f921"
             ]
            ],
            "type": "contour"
           }
          ],
          "contourcarpet": [
           {
            "colorbar": {
             "outlinewidth": 0,
             "ticks": ""
            },
            "type": "contourcarpet"
           }
          ],
          "heatmap": [
           {
            "colorbar": {
             "outlinewidth": 0,
             "ticks": ""
            },
            "colorscale": [
             [
              0,
              "#0d0887"
             ],
             [
              0.1111111111111111,
              "#46039f"
             ],
             [
              0.2222222222222222,
              "#7201a8"
             ],
             [
              0.3333333333333333,
              "#9c179e"
             ],
             [
              0.4444444444444444,
              "#bd3786"
             ],
             [
              0.5555555555555556,
              "#d8576b"
             ],
             [
              0.6666666666666666,
              "#ed7953"
             ],
             [
              0.7777777777777778,
              "#fb9f3a"
             ],
             [
              0.8888888888888888,
              "#fdca26"
             ],
             [
              1,
              "#f0f921"
             ]
            ],
            "type": "heatmap"
           }
          ],
          "heatmapgl": [
           {
            "colorbar": {
             "outlinewidth": 0,
             "ticks": ""
            },
            "colorscale": [
             [
              0,
              "#0d0887"
             ],
             [
              0.1111111111111111,
              "#46039f"
             ],
             [
              0.2222222222222222,
              "#7201a8"
             ],
             [
              0.3333333333333333,
              "#9c179e"
             ],
             [
              0.4444444444444444,
              "#bd3786"
             ],
             [
              0.5555555555555556,
              "#d8576b"
             ],
             [
              0.6666666666666666,
              "#ed7953"
             ],
             [
              0.7777777777777778,
              "#fb9f3a"
             ],
             [
              0.8888888888888888,
              "#fdca26"
             ],
             [
              1,
              "#f0f921"
             ]
            ],
            "type": "heatmapgl"
           }
          ],
          "histogram": [
           {
            "marker": {
             "pattern": {
              "fillmode": "overlay",
              "size": 10,
              "solidity": 0.2
             }
            },
            "type": "histogram"
           }
          ],
          "histogram2d": [
           {
            "colorbar": {
             "outlinewidth": 0,
             "ticks": ""
            },
            "colorscale": [
             [
              0,
              "#0d0887"
             ],
             [
              0.1111111111111111,
              "#46039f"
             ],
             [
              0.2222222222222222,
              "#7201a8"
             ],
             [
              0.3333333333333333,
              "#9c179e"
             ],
             [
              0.4444444444444444,
              "#bd3786"
             ],
             [
              0.5555555555555556,
              "#d8576b"
             ],
             [
              0.6666666666666666,
              "#ed7953"
             ],
             [
              0.7777777777777778,
              "#fb9f3a"
             ],
             [
              0.8888888888888888,
              "#fdca26"
             ],
             [
              1,
              "#f0f921"
             ]
            ],
            "type": "histogram2d"
           }
          ],
          "histogram2dcontour": [
           {
            "colorbar": {
             "outlinewidth": 0,
             "ticks": ""
            },
            "colorscale": [
             [
              0,
              "#0d0887"
             ],
             [
              0.1111111111111111,
              "#46039f"
             ],
             [
              0.2222222222222222,
              "#7201a8"
             ],
             [
              0.3333333333333333,
              "#9c179e"
             ],
             [
              0.4444444444444444,
              "#bd3786"
             ],
             [
              0.5555555555555556,
              "#d8576b"
             ],
             [
              0.6666666666666666,
              "#ed7953"
             ],
             [
              0.7777777777777778,
              "#fb9f3a"
             ],
             [
              0.8888888888888888,
              "#fdca26"
             ],
             [
              1,
              "#f0f921"
             ]
            ],
            "type": "histogram2dcontour"
           }
          ],
          "mesh3d": [
           {
            "colorbar": {
             "outlinewidth": 0,
             "ticks": ""
            },
            "type": "mesh3d"
           }
          ],
          "parcoords": [
           {
            "line": {
             "colorbar": {
              "outlinewidth": 0,
              "ticks": ""
             }
            },
            "type": "parcoords"
           }
          ],
          "pie": [
           {
            "automargin": true,
            "type": "pie"
           }
          ],
          "scatter": [
           {
            "marker": {
             "colorbar": {
              "outlinewidth": 0,
              "ticks": ""
             }
            },
            "type": "scatter"
           }
          ],
          "scatter3d": [
           {
            "line": {
             "colorbar": {
              "outlinewidth": 0,
              "ticks": ""
             }
            },
            "marker": {
             "colorbar": {
              "outlinewidth": 0,
              "ticks": ""
             }
            },
            "type": "scatter3d"
           }
          ],
          "scattercarpet": [
           {
            "marker": {
             "colorbar": {
              "outlinewidth": 0,
              "ticks": ""
             }
            },
            "type": "scattercarpet"
           }
          ],
          "scattergeo": [
           {
            "marker": {
             "colorbar": {
              "outlinewidth": 0,
              "ticks": ""
             }
            },
            "type": "scattergeo"
           }
          ],
          "scattergl": [
           {
            "marker": {
             "colorbar": {
              "outlinewidth": 0,
              "ticks": ""
             }
            },
            "type": "scattergl"
           }
          ],
          "scattermapbox": [
           {
            "marker": {
             "colorbar": {
              "outlinewidth": 0,
              "ticks": ""
             }
            },
            "type": "scattermapbox"
           }
          ],
          "scatterpolar": [
           {
            "marker": {
             "colorbar": {
              "outlinewidth": 0,
              "ticks": ""
             }
            },
            "type": "scatterpolar"
           }
          ],
          "scatterpolargl": [
           {
            "marker": {
             "colorbar": {
              "outlinewidth": 0,
              "ticks": ""
             }
            },
            "type": "scatterpolargl"
           }
          ],
          "scatterternary": [
           {
            "marker": {
             "colorbar": {
              "outlinewidth": 0,
              "ticks": ""
             }
            },
            "type": "scatterternary"
           }
          ],
          "surface": [
           {
            "colorbar": {
             "outlinewidth": 0,
             "ticks": ""
            },
            "colorscale": [
             [
              0,
              "#0d0887"
             ],
             [
              0.1111111111111111,
              "#46039f"
             ],
             [
              0.2222222222222222,
              "#7201a8"
             ],
             [
              0.3333333333333333,
              "#9c179e"
             ],
             [
              0.4444444444444444,
              "#bd3786"
             ],
             [
              0.5555555555555556,
              "#d8576b"
             ],
             [
              0.6666666666666666,
              "#ed7953"
             ],
             [
              0.7777777777777778,
              "#fb9f3a"
             ],
             [
              0.8888888888888888,
              "#fdca26"
             ],
             [
              1,
              "#f0f921"
             ]
            ],
            "type": "surface"
           }
          ],
          "table": [
           {
            "cells": {
             "fill": {
              "color": "#EBF0F8"
             },
             "line": {
              "color": "white"
             }
            },
            "header": {
             "fill": {
              "color": "#C8D4E3"
             },
             "line": {
              "color": "white"
             }
            },
            "type": "table"
           }
          ]
         },
         "layout": {
          "annotationdefaults": {
           "arrowcolor": "#2a3f5f",
           "arrowhead": 0,
           "arrowwidth": 1
          },
          "autotypenumbers": "strict",
          "coloraxis": {
           "colorbar": {
            "outlinewidth": 0,
            "ticks": ""
           }
          },
          "colorscale": {
           "diverging": [
            [
             0,
             "#8e0152"
            ],
            [
             0.1,
             "#c51b7d"
            ],
            [
             0.2,
             "#de77ae"
            ],
            [
             0.3,
             "#f1b6da"
            ],
            [
             0.4,
             "#fde0ef"
            ],
            [
             0.5,
             "#f7f7f7"
            ],
            [
             0.6,
             "#e6f5d0"
            ],
            [
             0.7,
             "#b8e186"
            ],
            [
             0.8,
             "#7fbc41"
            ],
            [
             0.9,
             "#4d9221"
            ],
            [
             1,
             "#276419"
            ]
           ],
           "sequential": [
            [
             0,
             "#0d0887"
            ],
            [
             0.1111111111111111,
             "#46039f"
            ],
            [
             0.2222222222222222,
             "#7201a8"
            ],
            [
             0.3333333333333333,
             "#9c179e"
            ],
            [
             0.4444444444444444,
             "#bd3786"
            ],
            [
             0.5555555555555556,
             "#d8576b"
            ],
            [
             0.6666666666666666,
             "#ed7953"
            ],
            [
             0.7777777777777778,
             "#fb9f3a"
            ],
            [
             0.8888888888888888,
             "#fdca26"
            ],
            [
             1,
             "#f0f921"
            ]
           ],
           "sequentialminus": [
            [
             0,
             "#0d0887"
            ],
            [
             0.1111111111111111,
             "#46039f"
            ],
            [
             0.2222222222222222,
             "#7201a8"
            ],
            [
             0.3333333333333333,
             "#9c179e"
            ],
            [
             0.4444444444444444,
             "#bd3786"
            ],
            [
             0.5555555555555556,
             "#d8576b"
            ],
            [
             0.6666666666666666,
             "#ed7953"
            ],
            [
             0.7777777777777778,
             "#fb9f3a"
            ],
            [
             0.8888888888888888,
             "#fdca26"
            ],
            [
             1,
             "#f0f921"
            ]
           ]
          },
          "colorway": [
           "#636efa",
           "#EF553B",
           "#00cc96",
           "#ab63fa",
           "#FFA15A",
           "#19d3f3",
           "#FF6692",
           "#B6E880",
           "#FF97FF",
           "#FECB52"
          ],
          "font": {
           "color": "#2a3f5f"
          },
          "geo": {
           "bgcolor": "white",
           "lakecolor": "white",
           "landcolor": "#E5ECF6",
           "showlakes": true,
           "showland": true,
           "subunitcolor": "white"
          },
          "hoverlabel": {
           "align": "left"
          },
          "hovermode": "closest",
          "mapbox": {
           "style": "light"
          },
          "paper_bgcolor": "white",
          "plot_bgcolor": "#E5ECF6",
          "polar": {
           "angularaxis": {
            "gridcolor": "white",
            "linecolor": "white",
            "ticks": ""
           },
           "bgcolor": "#E5ECF6",
           "radialaxis": {
            "gridcolor": "white",
            "linecolor": "white",
            "ticks": ""
           }
          },
          "scene": {
           "xaxis": {
            "backgroundcolor": "#E5ECF6",
            "gridcolor": "white",
            "gridwidth": 2,
            "linecolor": "white",
            "showbackground": true,
            "ticks": "",
            "zerolinecolor": "white"
           },
           "yaxis": {
            "backgroundcolor": "#E5ECF6",
            "gridcolor": "white",
            "gridwidth": 2,
            "linecolor": "white",
            "showbackground": true,
            "ticks": "",
            "zerolinecolor": "white"
           },
           "zaxis": {
            "backgroundcolor": "#E5ECF6",
            "gridcolor": "white",
            "gridwidth": 2,
            "linecolor": "white",
            "showbackground": true,
            "ticks": "",
            "zerolinecolor": "white"
           }
          },
          "shapedefaults": {
           "line": {
            "color": "#2a3f5f"
           }
          },
          "ternary": {
           "aaxis": {
            "gridcolor": "white",
            "linecolor": "white",
            "ticks": ""
           },
           "baxis": {
            "gridcolor": "white",
            "linecolor": "white",
            "ticks": ""
           },
           "bgcolor": "#E5ECF6",
           "caxis": {
            "gridcolor": "white",
            "linecolor": "white",
            "ticks": ""
           }
          },
          "title": {
           "x": 0.05
          },
          "xaxis": {
           "automargin": true,
           "gridcolor": "white",
           "linecolor": "white",
           "ticks": "",
           "title": {
            "standoff": 15
           },
           "zerolinecolor": "white",
           "zerolinewidth": 2
          },
          "yaxis": {
           "automargin": true,
           "gridcolor": "white",
           "linecolor": "white",
           "ticks": "",
           "title": {
            "standoff": 15
           },
           "zerolinecolor": "white",
           "zerolinewidth": 2
          }
         }
        },
        "title": {
         "text": "Provincia: Pordenone"
        },
        "xaxis": {
         "anchor": "y",
         "domain": [
          0,
          1
         ],
         "title": {
          "text": "time_idx"
         }
        },
        "yaxis": {
         "anchor": "x",
         "domain": [
          0,
          1
         ],
         "title": {
          "text": "carbonio_8h_max"
         }
        }
       }
      }
     },
     "metadata": {},
     "output_type": "display_data"
    },
    {
     "data": {
      "application/vnd.plotly.v1+json": {
       "config": {
        "plotlyServerURL": "https://plot.ly"
       },
       "data": [
        {
         "hovertemplate": "time_idx=%{x}<br>carbonio_8h_max=%{y}<extra></extra>",
         "legendgroup": "",
         "line": {
          "color": "#636efa",
          "dash": "solid"
         },
         "marker": {
          "symbol": "circle"
         },
         "mode": "lines",
         "name": "",
         "orientation": "v",
         "showlegend": false,
         "type": "scatter",
         "x": [
          0,
          1,
          2,
          3,
          4,
          5,
          6,
          7,
          8,
          9,
          10,
          11,
          12,
          13,
          14,
          15,
          16,
          17,
          18,
          19,
          20,
          21,
          22,
          23,
          24,
          25,
          26,
          27,
          28,
          29,
          30,
          31,
          32,
          33,
          34,
          35,
          36,
          37,
          38,
          39,
          40,
          41,
          42,
          43,
          44,
          45,
          46,
          47,
          48,
          49,
          50,
          51,
          52,
          53,
          54,
          55,
          56,
          57,
          58,
          59,
          60,
          61,
          62,
          63,
          64,
          65,
          66,
          67,
          68,
          69,
          70,
          71,
          72,
          73,
          74,
          75,
          76,
          77,
          78,
          79,
          80,
          81,
          82,
          83,
          84,
          85,
          86,
          87,
          88,
          89,
          90,
          91,
          92,
          93,
          94,
          95,
          96,
          97,
          98,
          99,
          100,
          101,
          102,
          103,
          104,
          105,
          106,
          107,
          108,
          109,
          110,
          111,
          112,
          113,
          114,
          115,
          116,
          117,
          118,
          119,
          120,
          121,
          122,
          123,
          124,
          125,
          126,
          127,
          128,
          129,
          130,
          131,
          132,
          133,
          134,
          135,
          136,
          137,
          138,
          139,
          140,
          141,
          142,
          143,
          144,
          145,
          146,
          147,
          148,
          149,
          150,
          151,
          152,
          153,
          154,
          155,
          156,
          157,
          158,
          159,
          160,
          161,
          162,
          163,
          164,
          165,
          166,
          167,
          168,
          169,
          170,
          171,
          172,
          173,
          174,
          175,
          176,
          177,
          178,
          179,
          180,
          181,
          182,
          183,
          184,
          185,
          186,
          187,
          188,
          189,
          190,
          191,
          192,
          193,
          194,
          195,
          196,
          197,
          198,
          199,
          200,
          201,
          202,
          203,
          204,
          205,
          206,
          207,
          208,
          209,
          210,
          211,
          212,
          213,
          214,
          215,
          216,
          217,
          218,
          219,
          220,
          221,
          222,
          223,
          224,
          225,
          226,
          227,
          228,
          229,
          230,
          231,
          232,
          233,
          234,
          235,
          236,
          237,
          238,
          239,
          240,
          241,
          242,
          243,
          244,
          245,
          246,
          247,
          248,
          249,
          250,
          251,
          252,
          253,
          254,
          255,
          256,
          257,
          258,
          259,
          260,
          261,
          262,
          263,
          264,
          265,
          266,
          267,
          268,
          269,
          270,
          271,
          272,
          273,
          274,
          275,
          276,
          277,
          278,
          279,
          280,
          281,
          282,
          283,
          284,
          285,
          286,
          287,
          288,
          289,
          290,
          291,
          292,
          293,
          294,
          295,
          296,
          297,
          298,
          299,
          300,
          301,
          302,
          303,
          304,
          305,
          306,
          307,
          308,
          309,
          310,
          311,
          312,
          313,
          314,
          315,
          316,
          317,
          318,
          319,
          320,
          321,
          322,
          323,
          324,
          325,
          326,
          327,
          328,
          329,
          330,
          331,
          332,
          333,
          334,
          335,
          336,
          337,
          338,
          339,
          340,
          341,
          342,
          343,
          344,
          345,
          346,
          347,
          348,
          349,
          350,
          351,
          352,
          353,
          354,
          355,
          356,
          357,
          358
         ],
         "xaxis": "x",
         "y": [
          0.7666041666666666,
          1.1487142857142858,
          0.8433333333333334,
          0.6771190476190476,
          0.7327857142857143,
          0.9862142857142856,
          1.1703571428571427,
          1.0175,
          0.547,
          0.5017142857142857,
          0.6209999999999999,
          0.6875238095238095,
          0.4614285714285714,
          0.5788571428571428,
          0.3885714285714286,
          0.456,
          0.4777142857142857,
          0.48285714285714293,
          0.396,
          0.4018571428571428,
          0.4839285714285714,
          0.4057142857142857,
          0.4451428571428572,
          0.43657142857142855,
          0.38607142857142857,
          0.4061666666666667,
          0.3737142857142857,
          0.3085,
          0.4789285714285714,
          0.4805714285714286,
          0.4823571428571429,
          0.3820952380952381,
          0.45257142857142857,
          0.4882857142857143,
          0.44542857142857145,
          0.44621428571428573,
          0.49538095238095237,
          0.4694285714285714,
          0.47028571428571425,
          0.4682142857142857,
          0.46971428571428575,
          0.4928571428571429,
          0.4882857142857143,
          0.5359999999999999,
          0.49142857142857144,
          0.4551428571428571,
          0.8514047619047619,
          0.8138571428571428,
          0.4905,
          0.8667142857142858,
          0.9762857142857142,
          0.6674285714285714,
          0.85575,
          0.848,
          1.0407857142857144,
          0.7332142857142857,
          0.5182857142857143,
          0.5257857142857143,
          0.7205714285714286,
          0.5192142857142857,
          0.4850714285714286,
          0.7303571428571428,
          0.8105714285714286,
          0.5617142857142857,
          0.5730952380952381,
          0.6904285714285715,
          0.6369285714285714,
          0.5717142857142858,
          0.7335,
          0.5265714285714286,
          0.5505714285714286,
          0.3894285714285714,
          0.5128571428571428,
          0.49392857142857144,
          0.5547857142857143,
          0.5486428571428571,
          0.40878571428571425,
          0.4767142857142857,
          0.6122857142857142,
          0.6954285714285715,
          0.5192142857142857,
          0.5937142857142857,
          0.47835714285714287,
          0.44885714285714284,
          0.5915,
          0.39971428571428574,
          0.6153571428571428,
          0.6091428571428572,
          0.4462857142857143,
          0.5857142857142856,
          0.49685714285714283,
          0.44264285714285717,
          0.5007857142857143,
          0.5474285714285714,
          0.6354285714285715,
          0.6485714285714286,
          1.171642857142857,
          1.2284285714285714,
          0.7365714285714285,
          0.598,
          1.1354285714285715,
          1.1557857142857144,
          1.4342142857142857,
          1.0015714285714286,
          1.1246666666666667,
          0.7754285714285715,
          0.8891428571428571,
          1.4207857142857143,
          0.6829999999999999,
          0.7748571428571429,
          0.7415714285714285,
          0.6925,
          0.7457142857142857,
          0.6027857142857143,
          1.1025714285714285,
          0.5445,
          0.7114285714285715,
          0.6424285714285715,
          0.6475714285714285,
          0.5232857142857144,
          0.644,
          0.5951428571428572,
          0.6391428571428571,
          0.4438095238095238,
          0.5302380952380953,
          0.6022380952380952,
          0.5976190476190476,
          0.6359523809523809,
          0.6140952380952381,
          0.6132857142857143,
          0.6177142857142857,
          0.544952380952381,
          0.4925357142857143,
          0.5968333333333333,
          0.5034285714285714,
          0.48085714285714287,
          0.5491428571428572,
          0.5685714285714286,
          0.5811428571428572,
          0.5278775510204082,
          0.626904761904762,
          0.5508163265306123,
          0.7172108843537416,
          0.4059183673469388,
          0.6134693877551021,
          0.9503401360544217,
          1.5017687074829933,
          0.6251020408163265,
          0.6143197278911564,
          0.9546938775510204,
          0.8524149659863945,
          0.5893537414965986,
          0.8016326530612244,
          0.7567823129251702,
          0.7154149659863945,
          0.8447222222222223,
          0.7287666666666667,
          0.7533333333333333,
          0.46864285714285714,
          0.6285714285714287,
          0.9446428571428571,
          0.44985714285714284,
          0.7365238095238096,
          0.7335714285714285,
          0.7492857142857143,
          0.7309523809523809,
          0.7925714285714286,
          0.8925714285714286,
          1.3104285714285715,
          1.2874999999999999,
          1.0218571428571428,
          0.5921428571428572,
          0.7977142857142857,
          0.9762142857142857,
          0.7324999999999999,
          0.9556428571428572,
          1.0287142857142857,
          0.9967857142857143,
          0.5753571428571428,
          0.511547619047619,
          0.5485714285714286,
          0.8794047619047619,
          0.34190476190476193,
          0.2839285714285714,
          0.4182142857142857,
          0.33654761904761904,
          0.45404761904761903,
          0.4635714285714285,
          0.47011904761904766,
          0.5167857142857143,
          0.27785714285714286,
          0.28600000000000003,
          0.4937142857142857,
          0.32542857142857146,
          0.1375714285714286,
          0.26085714285714284,
          0.3757857142857143,
          0.5377142857142857,
          0.6400714285714286,
          0.53,
          0.5585,
          0.38635714285714284,
          0.7022857142857143,
          0.5121428571428571,
          1.0992857142857144,
          0.7435714285714285,
          1.1910714285714286,
          0.9338125,
          1.0296041666666667,
          0.6814285714285714,
          0.9867857142857143,
          1.1089285714285713,
          0.8177380952380953,
          0.6913095238095238,
          0.8210714285714286,
          0.48071428571428576,
          0.7696428571428572,
          1.1108333333333333,
          0.8546428571428571,
          0.545,
          0.749642857142857,
          0.727857142857143,
          0.7472619047619047,
          0.798095238095238,
          0.42750000000000005,
          0.45511904761904765,
          0.6185714285714285,
          0.4955952380952381,
          0.33964285714285714,
          0.4361904761904762,
          0.2967857142857143,
          0.23595238095238094,
          0.255,
          0.3079761904761905,
          0.5192857142857144,
          0.3685714285714286,
          0.3616666666666667,
          0.4133333333333334,
          0.43833333333333335,
          0.44380952380952376,
          0.36833333333333335,
          0.42428571428571427,
          0.3192857142857143,
          0.4495238095238095,
          0.5023809523809524,
          0.4507142857142857,
          0.3823809523809524,
          0.4407142857142857,
          0.5157142857142857,
          0.5714285714285714,
          0.6357142857142858,
          0.5090476190476191,
          0.5785714285714285,
          0.4719047619047619,
          0.6247619047619047,
          0.5007142857142857,
          0.8949999999999999,
          0.7342857142857142,
          0.6814285714285715,
          1.2704761904761905,
          0.6819791666666667,
          0.7188095238095239,
          0.8271428571428572,
          0.7723809523809523,
          0.4321428571428572,
          0.7050000000000001,
          0.8661904761904762,
          0.9828571428571429,
          0.8995238095238095,
          0.6876190476190477,
          0.5057142857142857,
          0.4647619047619047,
          0.5000000000000001,
          0.6259523809523809,
          0.5700000000000001,
          0.36952380952380953,
          0.25059523809523815,
          0.3530952380952381,
          0.4789285714285714,
          0.11488095238095239,
          0.37154761904761907,
          0.33749999999999997,
          0.7878571428571428,
          0.7583333333333334,
          0.15988095238095237,
          0.783452380952381,
          0.6124999999999999,
          0.379047619047619,
          0.25047619047619046,
          0.3457142857142857,
          0.2580952380952381,
          0.31285714285714283,
          0.2871428571428571,
          0.22261904761904763,
          0.27071428571428574,
          0.17857142857142858,
          0.3776190476190476,
          0.2714285714285714,
          0.7635714285714287,
          0.5882142857142857,
          0.815952380952381,
          0.5436904761904762,
          1.0477380952380952,
          0.41678571428571426,
          0.7032142857142858,
          0.4010714285714286,
          0.4946428571428571,
          0.6558333333333334,
          0.5875,
          0.7975000000000001,
          1.0761904761904761,
          0.6257142857142857,
          1.3635,
          1.1617857142857144,
          1.049404761904762,
          1.035,
          0.7028571428571428,
          0.7246428571428571,
          1.0446055088702149,
          0.30898929349517584,
          0.416573663088064,
          0.5691824359329059,
          0.6864168103348236,
          1.02607446593005,
          0.5519793941485117,
          0.649786983631573,
          0.3298177574769105,
          0.3011653967856976,
          0.29417327163423507,
          0.3000262852252583,
          0.2624695793106397,
          0.22059245833725635,
          0.2649561687827055,
          0.1574177328376745,
          0.226547565737941,
          0.2077247149782995,
          0.21383487407267895,
          0.32849581970890274,
          0.24706923121757882,
          0.26228786251342645,
          0.26128231292517007,
          0.2894110275689223,
          0.2499656283566058,
          0.21328571428571427,
          0.2500952380952381,
          0.23217621785556328,
          0.20053634085213035,
          0.18966177832294442,
          0.1892184895736879,
          0.24272510822510823,
          0.30785714285714283,
          0.36357142857142855,
          0.3941071428571429,
          0.22568522145700384,
          0.4184273482120121,
          0.6705666266506602,
          0.680569339857155,
          0.7329183673469387,
          0.66
         ],
         "yaxis": "y"
        }
       ],
       "layout": {
        "legend": {
         "tracegroupgap": 0
        },
        "template": {
         "data": {
          "bar": [
           {
            "error_x": {
             "color": "#2a3f5f"
            },
            "error_y": {
             "color": "#2a3f5f"
            },
            "marker": {
             "line": {
              "color": "#E5ECF6",
              "width": 0.5
             },
             "pattern": {
              "fillmode": "overlay",
              "size": 10,
              "solidity": 0.2
             }
            },
            "type": "bar"
           }
          ],
          "barpolar": [
           {
            "marker": {
             "line": {
              "color": "#E5ECF6",
              "width": 0.5
             },
             "pattern": {
              "fillmode": "overlay",
              "size": 10,
              "solidity": 0.2
             }
            },
            "type": "barpolar"
           }
          ],
          "carpet": [
           {
            "aaxis": {
             "endlinecolor": "#2a3f5f",
             "gridcolor": "white",
             "linecolor": "white",
             "minorgridcolor": "white",
             "startlinecolor": "#2a3f5f"
            },
            "baxis": {
             "endlinecolor": "#2a3f5f",
             "gridcolor": "white",
             "linecolor": "white",
             "minorgridcolor": "white",
             "startlinecolor": "#2a3f5f"
            },
            "type": "carpet"
           }
          ],
          "choropleth": [
           {
            "colorbar": {
             "outlinewidth": 0,
             "ticks": ""
            },
            "type": "choropleth"
           }
          ],
          "contour": [
           {
            "colorbar": {
             "outlinewidth": 0,
             "ticks": ""
            },
            "colorscale": [
             [
              0,
              "#0d0887"
             ],
             [
              0.1111111111111111,
              "#46039f"
             ],
             [
              0.2222222222222222,
              "#7201a8"
             ],
             [
              0.3333333333333333,
              "#9c179e"
             ],
             [
              0.4444444444444444,
              "#bd3786"
             ],
             [
              0.5555555555555556,
              "#d8576b"
             ],
             [
              0.6666666666666666,
              "#ed7953"
             ],
             [
              0.7777777777777778,
              "#fb9f3a"
             ],
             [
              0.8888888888888888,
              "#fdca26"
             ],
             [
              1,
              "#f0f921"
             ]
            ],
            "type": "contour"
           }
          ],
          "contourcarpet": [
           {
            "colorbar": {
             "outlinewidth": 0,
             "ticks": ""
            },
            "type": "contourcarpet"
           }
          ],
          "heatmap": [
           {
            "colorbar": {
             "outlinewidth": 0,
             "ticks": ""
            },
            "colorscale": [
             [
              0,
              "#0d0887"
             ],
             [
              0.1111111111111111,
              "#46039f"
             ],
             [
              0.2222222222222222,
              "#7201a8"
             ],
             [
              0.3333333333333333,
              "#9c179e"
             ],
             [
              0.4444444444444444,
              "#bd3786"
             ],
             [
              0.5555555555555556,
              "#d8576b"
             ],
             [
              0.6666666666666666,
              "#ed7953"
             ],
             [
              0.7777777777777778,
              "#fb9f3a"
             ],
             [
              0.8888888888888888,
              "#fdca26"
             ],
             [
              1,
              "#f0f921"
             ]
            ],
            "type": "heatmap"
           }
          ],
          "heatmapgl": [
           {
            "colorbar": {
             "outlinewidth": 0,
             "ticks": ""
            },
            "colorscale": [
             [
              0,
              "#0d0887"
             ],
             [
              0.1111111111111111,
              "#46039f"
             ],
             [
              0.2222222222222222,
              "#7201a8"
             ],
             [
              0.3333333333333333,
              "#9c179e"
             ],
             [
              0.4444444444444444,
              "#bd3786"
             ],
             [
              0.5555555555555556,
              "#d8576b"
             ],
             [
              0.6666666666666666,
              "#ed7953"
             ],
             [
              0.7777777777777778,
              "#fb9f3a"
             ],
             [
              0.8888888888888888,
              "#fdca26"
             ],
             [
              1,
              "#f0f921"
             ]
            ],
            "type": "heatmapgl"
           }
          ],
          "histogram": [
           {
            "marker": {
             "pattern": {
              "fillmode": "overlay",
              "size": 10,
              "solidity": 0.2
             }
            },
            "type": "histogram"
           }
          ],
          "histogram2d": [
           {
            "colorbar": {
             "outlinewidth": 0,
             "ticks": ""
            },
            "colorscale": [
             [
              0,
              "#0d0887"
             ],
             [
              0.1111111111111111,
              "#46039f"
             ],
             [
              0.2222222222222222,
              "#7201a8"
             ],
             [
              0.3333333333333333,
              "#9c179e"
             ],
             [
              0.4444444444444444,
              "#bd3786"
             ],
             [
              0.5555555555555556,
              "#d8576b"
             ],
             [
              0.6666666666666666,
              "#ed7953"
             ],
             [
              0.7777777777777778,
              "#fb9f3a"
             ],
             [
              0.8888888888888888,
              "#fdca26"
             ],
             [
              1,
              "#f0f921"
             ]
            ],
            "type": "histogram2d"
           }
          ],
          "histogram2dcontour": [
           {
            "colorbar": {
             "outlinewidth": 0,
             "ticks": ""
            },
            "colorscale": [
             [
              0,
              "#0d0887"
             ],
             [
              0.1111111111111111,
              "#46039f"
             ],
             [
              0.2222222222222222,
              "#7201a8"
             ],
             [
              0.3333333333333333,
              "#9c179e"
             ],
             [
              0.4444444444444444,
              "#bd3786"
             ],
             [
              0.5555555555555556,
              "#d8576b"
             ],
             [
              0.6666666666666666,
              "#ed7953"
             ],
             [
              0.7777777777777778,
              "#fb9f3a"
             ],
             [
              0.8888888888888888,
              "#fdca26"
             ],
             [
              1,
              "#f0f921"
             ]
            ],
            "type": "histogram2dcontour"
           }
          ],
          "mesh3d": [
           {
            "colorbar": {
             "outlinewidth": 0,
             "ticks": ""
            },
            "type": "mesh3d"
           }
          ],
          "parcoords": [
           {
            "line": {
             "colorbar": {
              "outlinewidth": 0,
              "ticks": ""
             }
            },
            "type": "parcoords"
           }
          ],
          "pie": [
           {
            "automargin": true,
            "type": "pie"
           }
          ],
          "scatter": [
           {
            "marker": {
             "colorbar": {
              "outlinewidth": 0,
              "ticks": ""
             }
            },
            "type": "scatter"
           }
          ],
          "scatter3d": [
           {
            "line": {
             "colorbar": {
              "outlinewidth": 0,
              "ticks": ""
             }
            },
            "marker": {
             "colorbar": {
              "outlinewidth": 0,
              "ticks": ""
             }
            },
            "type": "scatter3d"
           }
          ],
          "scattercarpet": [
           {
            "marker": {
             "colorbar": {
              "outlinewidth": 0,
              "ticks": ""
             }
            },
            "type": "scattercarpet"
           }
          ],
          "scattergeo": [
           {
            "marker": {
             "colorbar": {
              "outlinewidth": 0,
              "ticks": ""
             }
            },
            "type": "scattergeo"
           }
          ],
          "scattergl": [
           {
            "marker": {
             "colorbar": {
              "outlinewidth": 0,
              "ticks": ""
             }
            },
            "type": "scattergl"
           }
          ],
          "scattermapbox": [
           {
            "marker": {
             "colorbar": {
              "outlinewidth": 0,
              "ticks": ""
             }
            },
            "type": "scattermapbox"
           }
          ],
          "scatterpolar": [
           {
            "marker": {
             "colorbar": {
              "outlinewidth": 0,
              "ticks": ""
             }
            },
            "type": "scatterpolar"
           }
          ],
          "scatterpolargl": [
           {
            "marker": {
             "colorbar": {
              "outlinewidth": 0,
              "ticks": ""
             }
            },
            "type": "scatterpolargl"
           }
          ],
          "scatterternary": [
           {
            "marker": {
             "colorbar": {
              "outlinewidth": 0,
              "ticks": ""
             }
            },
            "type": "scatterternary"
           }
          ],
          "surface": [
           {
            "colorbar": {
             "outlinewidth": 0,
             "ticks": ""
            },
            "colorscale": [
             [
              0,
              "#0d0887"
             ],
             [
              0.1111111111111111,
              "#46039f"
             ],
             [
              0.2222222222222222,
              "#7201a8"
             ],
             [
              0.3333333333333333,
              "#9c179e"
             ],
             [
              0.4444444444444444,
              "#bd3786"
             ],
             [
              0.5555555555555556,
              "#d8576b"
             ],
             [
              0.6666666666666666,
              "#ed7953"
             ],
             [
              0.7777777777777778,
              "#fb9f3a"
             ],
             [
              0.8888888888888888,
              "#fdca26"
             ],
             [
              1,
              "#f0f921"
             ]
            ],
            "type": "surface"
           }
          ],
          "table": [
           {
            "cells": {
             "fill": {
              "color": "#EBF0F8"
             },
             "line": {
              "color": "white"
             }
            },
            "header": {
             "fill": {
              "color": "#C8D4E3"
             },
             "line": {
              "color": "white"
             }
            },
            "type": "table"
           }
          ]
         },
         "layout": {
          "annotationdefaults": {
           "arrowcolor": "#2a3f5f",
           "arrowhead": 0,
           "arrowwidth": 1
          },
          "autotypenumbers": "strict",
          "coloraxis": {
           "colorbar": {
            "outlinewidth": 0,
            "ticks": ""
           }
          },
          "colorscale": {
           "diverging": [
            [
             0,
             "#8e0152"
            ],
            [
             0.1,
             "#c51b7d"
            ],
            [
             0.2,
             "#de77ae"
            ],
            [
             0.3,
             "#f1b6da"
            ],
            [
             0.4,
             "#fde0ef"
            ],
            [
             0.5,
             "#f7f7f7"
            ],
            [
             0.6,
             "#e6f5d0"
            ],
            [
             0.7,
             "#b8e186"
            ],
            [
             0.8,
             "#7fbc41"
            ],
            [
             0.9,
             "#4d9221"
            ],
            [
             1,
             "#276419"
            ]
           ],
           "sequential": [
            [
             0,
             "#0d0887"
            ],
            [
             0.1111111111111111,
             "#46039f"
            ],
            [
             0.2222222222222222,
             "#7201a8"
            ],
            [
             0.3333333333333333,
             "#9c179e"
            ],
            [
             0.4444444444444444,
             "#bd3786"
            ],
            [
             0.5555555555555556,
             "#d8576b"
            ],
            [
             0.6666666666666666,
             "#ed7953"
            ],
            [
             0.7777777777777778,
             "#fb9f3a"
            ],
            [
             0.8888888888888888,
             "#fdca26"
            ],
            [
             1,
             "#f0f921"
            ]
           ],
           "sequentialminus": [
            [
             0,
             "#0d0887"
            ],
            [
             0.1111111111111111,
             "#46039f"
            ],
            [
             0.2222222222222222,
             "#7201a8"
            ],
            [
             0.3333333333333333,
             "#9c179e"
            ],
            [
             0.4444444444444444,
             "#bd3786"
            ],
            [
             0.5555555555555556,
             "#d8576b"
            ],
            [
             0.6666666666666666,
             "#ed7953"
            ],
            [
             0.7777777777777778,
             "#fb9f3a"
            ],
            [
             0.8888888888888888,
             "#fdca26"
            ],
            [
             1,
             "#f0f921"
            ]
           ]
          },
          "colorway": [
           "#636efa",
           "#EF553B",
           "#00cc96",
           "#ab63fa",
           "#FFA15A",
           "#19d3f3",
           "#FF6692",
           "#B6E880",
           "#FF97FF",
           "#FECB52"
          ],
          "font": {
           "color": "#2a3f5f"
          },
          "geo": {
           "bgcolor": "white",
           "lakecolor": "white",
           "landcolor": "#E5ECF6",
           "showlakes": true,
           "showland": true,
           "subunitcolor": "white"
          },
          "hoverlabel": {
           "align": "left"
          },
          "hovermode": "closest",
          "mapbox": {
           "style": "light"
          },
          "paper_bgcolor": "white",
          "plot_bgcolor": "#E5ECF6",
          "polar": {
           "angularaxis": {
            "gridcolor": "white",
            "linecolor": "white",
            "ticks": ""
           },
           "bgcolor": "#E5ECF6",
           "radialaxis": {
            "gridcolor": "white",
            "linecolor": "white",
            "ticks": ""
           }
          },
          "scene": {
           "xaxis": {
            "backgroundcolor": "#E5ECF6",
            "gridcolor": "white",
            "gridwidth": 2,
            "linecolor": "white",
            "showbackground": true,
            "ticks": "",
            "zerolinecolor": "white"
           },
           "yaxis": {
            "backgroundcolor": "#E5ECF6",
            "gridcolor": "white",
            "gridwidth": 2,
            "linecolor": "white",
            "showbackground": true,
            "ticks": "",
            "zerolinecolor": "white"
           },
           "zaxis": {
            "backgroundcolor": "#E5ECF6",
            "gridcolor": "white",
            "gridwidth": 2,
            "linecolor": "white",
            "showbackground": true,
            "ticks": "",
            "zerolinecolor": "white"
           }
          },
          "shapedefaults": {
           "line": {
            "color": "#2a3f5f"
           }
          },
          "ternary": {
           "aaxis": {
            "gridcolor": "white",
            "linecolor": "white",
            "ticks": ""
           },
           "baxis": {
            "gridcolor": "white",
            "linecolor": "white",
            "ticks": ""
           },
           "bgcolor": "#E5ECF6",
           "caxis": {
            "gridcolor": "white",
            "linecolor": "white",
            "ticks": ""
           }
          },
          "title": {
           "x": 0.05
          },
          "xaxis": {
           "automargin": true,
           "gridcolor": "white",
           "linecolor": "white",
           "ticks": "",
           "title": {
            "standoff": 15
           },
           "zerolinecolor": "white",
           "zerolinewidth": 2
          },
          "yaxis": {
           "automargin": true,
           "gridcolor": "white",
           "linecolor": "white",
           "ticks": "",
           "title": {
            "standoff": 15
           },
           "zerolinecolor": "white",
           "zerolinewidth": 2
          }
         }
        },
        "title": {
         "text": "Provincia: Trieste"
        },
        "xaxis": {
         "anchor": "y",
         "domain": [
          0,
          1
         ],
         "title": {
          "text": "time_idx"
         }
        },
        "yaxis": {
         "anchor": "x",
         "domain": [
          0,
          1
         ],
         "title": {
          "text": "carbonio_8h_max"
         }
        }
       }
      }
     },
     "metadata": {},
     "output_type": "display_data"
    },
    {
     "data": {
      "application/vnd.plotly.v1+json": {
       "config": {
        "plotlyServerURL": "https://plot.ly"
       },
       "data": [
        {
         "hovertemplate": "time_idx=%{x}<br>carbonio_8h_max=%{y}<extra></extra>",
         "legendgroup": "",
         "line": {
          "color": "#636efa",
          "dash": "solid"
         },
         "marker": {
          "symbol": "circle"
         },
         "mode": "lines",
         "name": "",
         "orientation": "v",
         "showlegend": false,
         "type": "scatter",
         "x": [
          0,
          1,
          2,
          3,
          4,
          5,
          6,
          7,
          8,
          9,
          10,
          11,
          12,
          13,
          14,
          15,
          16,
          17,
          18,
          19,
          20,
          21,
          22,
          23,
          24,
          25,
          26,
          27,
          28,
          29,
          30,
          31,
          32,
          33,
          34,
          35,
          36,
          37,
          38,
          39,
          40,
          41,
          42,
          43,
          44,
          45,
          46,
          47,
          48,
          49,
          50,
          51,
          52,
          53,
          54,
          55,
          56,
          57,
          58,
          59,
          60,
          61,
          62,
          63,
          64,
          65,
          66,
          67,
          68,
          69,
          70,
          71,
          72,
          73,
          74,
          75,
          76,
          77,
          78,
          79,
          80,
          81,
          82,
          83,
          84,
          85,
          86,
          87,
          88,
          89,
          90,
          91,
          92,
          93,
          94,
          95,
          96,
          97,
          98,
          99,
          100,
          101,
          102,
          103,
          104,
          105,
          106,
          107,
          108,
          109,
          110,
          111,
          112,
          113,
          114,
          115,
          116,
          117,
          118,
          119,
          120,
          121,
          122,
          123,
          124,
          125,
          126,
          127,
          128,
          129,
          130,
          131,
          132,
          133,
          134,
          135,
          136,
          137,
          138,
          139,
          140,
          141,
          142,
          143,
          144,
          145,
          146,
          147,
          148,
          149,
          150,
          151,
          152,
          153,
          154,
          155,
          156,
          157,
          158,
          159,
          160,
          161,
          162,
          163,
          164,
          165,
          166,
          167,
          168,
          169,
          170,
          171,
          172,
          173,
          174,
          175,
          176,
          177,
          178,
          179,
          180,
          181,
          182,
          183,
          184,
          185,
          186,
          187,
          188,
          189,
          190,
          191,
          192,
          193,
          194,
          195,
          196,
          197,
          198,
          199,
          200,
          201,
          202,
          203,
          204,
          205,
          206,
          207,
          208,
          209,
          210,
          211,
          212,
          213,
          214,
          215,
          216,
          217,
          218,
          219,
          220,
          221,
          222,
          223,
          224,
          225,
          226,
          227,
          228,
          229,
          230,
          231,
          232,
          233,
          234,
          235,
          236,
          237,
          238,
          239,
          240,
          241,
          242,
          243,
          244,
          245,
          246,
          247,
          248,
          249,
          250,
          251,
          252,
          253,
          254,
          255,
          256,
          257,
          258,
          259,
          260,
          261,
          262,
          263,
          264,
          265,
          266,
          267,
          268,
          269,
          270,
          271,
          272,
          273,
          274,
          275,
          276,
          277,
          278,
          279,
          280,
          281,
          282,
          283,
          284,
          285,
          286,
          287,
          288,
          289,
          290,
          291,
          292,
          293,
          294,
          295,
          296,
          297,
          298,
          299,
          300,
          301,
          302,
          303,
          304,
          305,
          306,
          307,
          308,
          309,
          310,
          311,
          312,
          313,
          314,
          315,
          316,
          317,
          318,
          319,
          320,
          321,
          322,
          323,
          324,
          325,
          326,
          327,
          328,
          329,
          330,
          331,
          332,
          333,
          334,
          335,
          336,
          337,
          338,
          339,
          340,
          341,
          342,
          343,
          344,
          345,
          346,
          347,
          348,
          349,
          350,
          351,
          352,
          353,
          354,
          355,
          356,
          357,
          358
         ],
         "xaxis": "x",
         "y": [
          0.33416666666666667,
          0.2914285714285714,
          0.20309523809523808,
          0.43404761904761907,
          0.2680952380952381,
          0.30023809523809525,
          0.3223809523809524,
          0.30023809523809525,
          0.2676190476190476,
          0.5904761904761905,
          0.44940476190476186,
          0.5009523809523809,
          0.35547619047619045,
          0.34142857142857147,
          0.29071428571428576,
          0.32273809523809527,
          0.19500000000000003,
          0.19464285714285715,
          0.14083333333333334,
          0.16226190476190475,
          0.1929761904761905,
          0.13892857142857143,
          0.20357142857142857,
          0.19380952380952382,
          0.16583333333333333,
          0.2394047619047619,
          0.21559523809523812,
          0.21059523809523809,
          0.2535714285714286,
          0.19964285714285715,
          0.21083333333333334,
          0.1505952380952381,
          0.1475,
          0.25178571428571433,
          0.26535714285714285,
          0.2611904761904762,
          0.31309523809523804,
          0.33428571428571424,
          0.34678571428571425,
          0.30666666666666664,
          0.4432142857142857,
          0.4470238095238095,
          0.43559523809523804,
          0.5682142857142857,
          0.5617857142857143,
          0.401547619047619,
          0.7863095238095238,
          0.7334523809523809,
          0.5110714285714285,
          0.9682142857142857,
          0.8134523809523809,
          0.6920238095238095,
          0.7489583333333334,
          0.9070238095238096,
          0.6466666666666667,
          0.5169047619047619,
          0.3952380952380952,
          0.4852380952380952,
          0.5098809523809524,
          0.4151190476190476,
          0.4322619047619048,
          0.44642857142857145,
          0.48773809523809525,
          0.4670238095238095,
          0.5878571428571429,
          0.6789285714285714,
          0.45952380952380956,
          0.40785714285714286,
          0.4041666666666667,
          0.5413095238095238,
          0.4128571428571428,
          0.3355952380952381,
          0.3161904761904762,
          0.2942857142857143,
          0.22952380952380952,
          0.28035714285714286,
          0.24214285714285716,
          0.19785714285714287,
          0.4005952380952381,
          0.5919047619047619,
          0.7054761904761905,
          0.8976190476190478,
          0.49202380952380953,
          0.4828571428571428,
          0.2613095238095238,
          0.2773809523809524,
          0.48023809523809524,
          0.5264285714285715,
          0.3,
          0.3858333333333333,
          0.3796428571428571,
          0.2642857142857143,
          0.44476190476190475,
          0.43238095238095237,
          0.4536904761904762,
          0.3560714285714286,
          0.6522619047619047,
          0.7014285714285714,
          0.6069047619047618,
          0.7999999999999999,
          0.9564285714285715,
          0.9433333333333334,
          1.2870238095238093,
          1.069047619047619,
          1.0375757575757576,
          0.9658333333333333,
          1.3508333333333336,
          1.3645238095238095,
          1.0626190476190476,
          0.8404761904761904,
          0.8908333333333334,
          0.8310714285714286,
          0.6979761904761904,
          0.6140476190476191,
          0.6989285714285715,
          0.7270238095238095,
          0.6858333333333333,
          0.6361904761904762,
          0.6667857142857143,
          0.5971428571428571,
          0.5992857142857143,
          0.5246428571428571,
          0.5335714285714286,
          0.5710714285714286,
          0.5846428571428571,
          0.5713095238095238,
          0.5876190476190476,
          0.48000000000000004,
          0.5985714285714285,
          0.4635714285714286,
          0.6201190476190476,
          0.748452380952381,
          0.6424404761904762,
          0.5352777777777779,
          0.5994047619047619,
          0.5454761904761904,
          0.7192857142857143,
          0.605952380952381,
          0.656904761904762,
          0.6141666666666666,
          0.5789285714285715,
          0.5748809523809524,
          0.6758333333333333,
          0.678095238095238,
          0.7032142857142857,
          0.6664285714285715,
          0.8596428571428572,
          0.7442857142857143,
          0.6536904761904763,
          0.9080952380952382,
          0.8578571428571429,
          0.9482142857142858,
          1.127857142857143,
          1.2463095238095239,
          1.2214285714285715,
          1.286388888888889,
          1.0190833333333333,
          0.9616666666666667,
          0.7602380952380952,
          1.0380952380952382,
          0.9910714285714286,
          0.6747619047619048,
          0.7225,
          0.9239285714285714,
          0.9158333333333334,
          0.9514285714285714,
          0.9545238095238096,
          0.8628571428571429,
          0.826547619047619,
          0.8739285714285714,
          0.7685714285714286,
          0.7564285714285715,
          0.9277380952380953,
          0.6251190476190477,
          0.5445238095238095,
          0.4929761904761905,
          0.6682142857142858,
          0.6371428571428571,
          0.5025000000000001,
          0.6561904761904762,
          0.753095238095238,
          0.5904761904761904,
          0.6076190476190477,
          0.6957142857142857,
          0.6711904761904762,
          0.5870238095238095,
          1.3113095238095238,
          0.535,
          0.5844047619047619,
          0.49119047619047623,
          0.5986904761904762,
          0.6305952380952381,
          0.5558333333333333,
          0.5860714285714286,
          0.4642857142857143,
          0.49797619047619046,
          0.6754761904761905,
          0.6039285714285715,
          0.7346428571428572,
          0.8378571428571429,
          0.7598809523809524,
          0.48916666666666664,
          0.9083333333333333,
          0.8632142857142858,
          1.196904761904762,
          0.944047619047619,
          1.259404761904762,
          1.2854166666666667,
          1.188125,
          0.8577380952380952,
          0.8488095238095238,
          1.1910714285714286,
          1.111547619047619,
          1.0922619047619047,
          1.0345238095238096,
          0.8985714285714286,
          1.0971428571428572,
          1.0286904761904763,
          0.7547619047619047,
          0.7640476190476191,
          1.0438095238095237,
          0.7178571428571429,
          0.8897619047619048,
          0.902142857142857,
          1.2116666666666667,
          0.6588095238095237,
          0.2530952380952381,
          0.39952380952380956,
          0.5188095238095238,
          0.5969047619047619,
          0.6011904761904763,
          0.7833333333333333,
          0.8171428571428571,
          0.2826190476190476,
          0.3219047619047619,
          0.2935714285714286,
          0.3545238095238095,
          0.3323809523809524,
          0.3883333333333333,
          0.4259523809523809,
          0.42404761904761906,
          0.44428571428571434,
          0.36499999999999994,
          0.5197619047619048,
          0.5554761904761905,
          0.41380952380952385,
          0.19309523809523813,
          0.41595238095238096,
          0.4504761904761905,
          0.5426190476190477,
          0.6021428571428571,
          0.6623809523809524,
          0.5373809523809524,
          0.4842857142857143,
          0.49119047619047623,
          0.5321428571428571,
          1.0452380952380953,
          1.0754761904761905,
          0.8835714285714287,
          1.1735714285714285,
          1.03375,
          1.237142857142857,
          1.2704761904761905,
          1.0297619047619049,
          1.0811904761904763,
          1.2414285714285713,
          1.1938095238095239,
          1.0978571428571429,
          0.9804761904761905,
          0.9061904761904761,
          0.26261904761904764,
          0.9935714285714285,
          0.8828571428571428,
          0.6580952380952381,
          0.7161904761904762,
          0.505,
          0.5904761904761904,
          0.6383333333333334,
          0.5638095238095239,
          0.4878571428571429,
          0.5390476190476191,
          0.54,
          0.6035714285714285,
          0.6919047619047618,
          0.599047619047619,
          0.6709523809523811,
          0.5057142857142857,
          0.5721428571428572,
          0.48333333333333334,
          0.5342857142857144,
          0.6728571428571428,
          0.72,
          0.7078571428571429,
          0.4904761904761905,
          0.5423809523809524,
          0.6016666666666667,
          0.36523809523809525,
          0.15023809523809525,
          0.08476190476190477,
          0.09761904761904762,
          0.1588095238095238,
          0.19571428571428573,
          0.24095238095238097,
          0.2861904761904762,
          0.16238095238095238,
          0.13476190476190478,
          0.1373809523809524,
          0.36333333333333334,
          0.79,
          0.5347619047619048,
          0.9823809523809522,
          0.4771428571428572,
          0.5753333333333333,
          0.7409523809523809,
          0.7276190476190477,
          0.7133333333333335,
          0.7088095238095239,
          0.6595238095238095,
          0.5549253246753246,
          0.5487415513324115,
          0.3654913464152595,
          0.42329798823066705,
          0.30447392510791527,
          0.5115896861970595,
          0.2735020128184756,
          0.27776188919503725,
          0.19550841389187254,
          0.5008247179066144,
          0.13650623477669402,
          0.1770161555167117,
          0.11540380184331799,
          0.27632449887630245,
          0.22397779467738155,
          0.13090454246214614,
          0.2062965629800307,
          0.34220833333333334,
          0.20113888261944637,
          0.5053510944700461,
          0.5262824065302514,
          0.19109867810760667,
          0,
          0,
          0,
          0,
          0,
          0,
          0,
          0,
          0,
          0,
          0,
          0,
          0,
          0,
          0,
          0,
          0,
          0,
          0
         ],
         "yaxis": "y"
        }
       ],
       "layout": {
        "legend": {
         "tracegroupgap": 0
        },
        "template": {
         "data": {
          "bar": [
           {
            "error_x": {
             "color": "#2a3f5f"
            },
            "error_y": {
             "color": "#2a3f5f"
            },
            "marker": {
             "line": {
              "color": "#E5ECF6",
              "width": 0.5
             },
             "pattern": {
              "fillmode": "overlay",
              "size": 10,
              "solidity": 0.2
             }
            },
            "type": "bar"
           }
          ],
          "barpolar": [
           {
            "marker": {
             "line": {
              "color": "#E5ECF6",
              "width": 0.5
             },
             "pattern": {
              "fillmode": "overlay",
              "size": 10,
              "solidity": 0.2
             }
            },
            "type": "barpolar"
           }
          ],
          "carpet": [
           {
            "aaxis": {
             "endlinecolor": "#2a3f5f",
             "gridcolor": "white",
             "linecolor": "white",
             "minorgridcolor": "white",
             "startlinecolor": "#2a3f5f"
            },
            "baxis": {
             "endlinecolor": "#2a3f5f",
             "gridcolor": "white",
             "linecolor": "white",
             "minorgridcolor": "white",
             "startlinecolor": "#2a3f5f"
            },
            "type": "carpet"
           }
          ],
          "choropleth": [
           {
            "colorbar": {
             "outlinewidth": 0,
             "ticks": ""
            },
            "type": "choropleth"
           }
          ],
          "contour": [
           {
            "colorbar": {
             "outlinewidth": 0,
             "ticks": ""
            },
            "colorscale": [
             [
              0,
              "#0d0887"
             ],
             [
              0.1111111111111111,
              "#46039f"
             ],
             [
              0.2222222222222222,
              "#7201a8"
             ],
             [
              0.3333333333333333,
              "#9c179e"
             ],
             [
              0.4444444444444444,
              "#bd3786"
             ],
             [
              0.5555555555555556,
              "#d8576b"
             ],
             [
              0.6666666666666666,
              "#ed7953"
             ],
             [
              0.7777777777777778,
              "#fb9f3a"
             ],
             [
              0.8888888888888888,
              "#fdca26"
             ],
             [
              1,
              "#f0f921"
             ]
            ],
            "type": "contour"
           }
          ],
          "contourcarpet": [
           {
            "colorbar": {
             "outlinewidth": 0,
             "ticks": ""
            },
            "type": "contourcarpet"
           }
          ],
          "heatmap": [
           {
            "colorbar": {
             "outlinewidth": 0,
             "ticks": ""
            },
            "colorscale": [
             [
              0,
              "#0d0887"
             ],
             [
              0.1111111111111111,
              "#46039f"
             ],
             [
              0.2222222222222222,
              "#7201a8"
             ],
             [
              0.3333333333333333,
              "#9c179e"
             ],
             [
              0.4444444444444444,
              "#bd3786"
             ],
             [
              0.5555555555555556,
              "#d8576b"
             ],
             [
              0.6666666666666666,
              "#ed7953"
             ],
             [
              0.7777777777777778,
              "#fb9f3a"
             ],
             [
              0.8888888888888888,
              "#fdca26"
             ],
             [
              1,
              "#f0f921"
             ]
            ],
            "type": "heatmap"
           }
          ],
          "heatmapgl": [
           {
            "colorbar": {
             "outlinewidth": 0,
             "ticks": ""
            },
            "colorscale": [
             [
              0,
              "#0d0887"
             ],
             [
              0.1111111111111111,
              "#46039f"
             ],
             [
              0.2222222222222222,
              "#7201a8"
             ],
             [
              0.3333333333333333,
              "#9c179e"
             ],
             [
              0.4444444444444444,
              "#bd3786"
             ],
             [
              0.5555555555555556,
              "#d8576b"
             ],
             [
              0.6666666666666666,
              "#ed7953"
             ],
             [
              0.7777777777777778,
              "#fb9f3a"
             ],
             [
              0.8888888888888888,
              "#fdca26"
             ],
             [
              1,
              "#f0f921"
             ]
            ],
            "type": "heatmapgl"
           }
          ],
          "histogram": [
           {
            "marker": {
             "pattern": {
              "fillmode": "overlay",
              "size": 10,
              "solidity": 0.2
             }
            },
            "type": "histogram"
           }
          ],
          "histogram2d": [
           {
            "colorbar": {
             "outlinewidth": 0,
             "ticks": ""
            },
            "colorscale": [
             [
              0,
              "#0d0887"
             ],
             [
              0.1111111111111111,
              "#46039f"
             ],
             [
              0.2222222222222222,
              "#7201a8"
             ],
             [
              0.3333333333333333,
              "#9c179e"
             ],
             [
              0.4444444444444444,
              "#bd3786"
             ],
             [
              0.5555555555555556,
              "#d8576b"
             ],
             [
              0.6666666666666666,
              "#ed7953"
             ],
             [
              0.7777777777777778,
              "#fb9f3a"
             ],
             [
              0.8888888888888888,
              "#fdca26"
             ],
             [
              1,
              "#f0f921"
             ]
            ],
            "type": "histogram2d"
           }
          ],
          "histogram2dcontour": [
           {
            "colorbar": {
             "outlinewidth": 0,
             "ticks": ""
            },
            "colorscale": [
             [
              0,
              "#0d0887"
             ],
             [
              0.1111111111111111,
              "#46039f"
             ],
             [
              0.2222222222222222,
              "#7201a8"
             ],
             [
              0.3333333333333333,
              "#9c179e"
             ],
             [
              0.4444444444444444,
              "#bd3786"
             ],
             [
              0.5555555555555556,
              "#d8576b"
             ],
             [
              0.6666666666666666,
              "#ed7953"
             ],
             [
              0.7777777777777778,
              "#fb9f3a"
             ],
             [
              0.8888888888888888,
              "#fdca26"
             ],
             [
              1,
              "#f0f921"
             ]
            ],
            "type": "histogram2dcontour"
           }
          ],
          "mesh3d": [
           {
            "colorbar": {
             "outlinewidth": 0,
             "ticks": ""
            },
            "type": "mesh3d"
           }
          ],
          "parcoords": [
           {
            "line": {
             "colorbar": {
              "outlinewidth": 0,
              "ticks": ""
             }
            },
            "type": "parcoords"
           }
          ],
          "pie": [
           {
            "automargin": true,
            "type": "pie"
           }
          ],
          "scatter": [
           {
            "marker": {
             "colorbar": {
              "outlinewidth": 0,
              "ticks": ""
             }
            },
            "type": "scatter"
           }
          ],
          "scatter3d": [
           {
            "line": {
             "colorbar": {
              "outlinewidth": 0,
              "ticks": ""
             }
            },
            "marker": {
             "colorbar": {
              "outlinewidth": 0,
              "ticks": ""
             }
            },
            "type": "scatter3d"
           }
          ],
          "scattercarpet": [
           {
            "marker": {
             "colorbar": {
              "outlinewidth": 0,
              "ticks": ""
             }
            },
            "type": "scattercarpet"
           }
          ],
          "scattergeo": [
           {
            "marker": {
             "colorbar": {
              "outlinewidth": 0,
              "ticks": ""
             }
            },
            "type": "scattergeo"
           }
          ],
          "scattergl": [
           {
            "marker": {
             "colorbar": {
              "outlinewidth": 0,
              "ticks": ""
             }
            },
            "type": "scattergl"
           }
          ],
          "scattermapbox": [
           {
            "marker": {
             "colorbar": {
              "outlinewidth": 0,
              "ticks": ""
             }
            },
            "type": "scattermapbox"
           }
          ],
          "scatterpolar": [
           {
            "marker": {
             "colorbar": {
              "outlinewidth": 0,
              "ticks": ""
             }
            },
            "type": "scatterpolar"
           }
          ],
          "scatterpolargl": [
           {
            "marker": {
             "colorbar": {
              "outlinewidth": 0,
              "ticks": ""
             }
            },
            "type": "scatterpolargl"
           }
          ],
          "scatterternary": [
           {
            "marker": {
             "colorbar": {
              "outlinewidth": 0,
              "ticks": ""
             }
            },
            "type": "scatterternary"
           }
          ],
          "surface": [
           {
            "colorbar": {
             "outlinewidth": 0,
             "ticks": ""
            },
            "colorscale": [
             [
              0,
              "#0d0887"
             ],
             [
              0.1111111111111111,
              "#46039f"
             ],
             [
              0.2222222222222222,
              "#7201a8"
             ],
             [
              0.3333333333333333,
              "#9c179e"
             ],
             [
              0.4444444444444444,
              "#bd3786"
             ],
             [
              0.5555555555555556,
              "#d8576b"
             ],
             [
              0.6666666666666666,
              "#ed7953"
             ],
             [
              0.7777777777777778,
              "#fb9f3a"
             ],
             [
              0.8888888888888888,
              "#fdca26"
             ],
             [
              1,
              "#f0f921"
             ]
            ],
            "type": "surface"
           }
          ],
          "table": [
           {
            "cells": {
             "fill": {
              "color": "#EBF0F8"
             },
             "line": {
              "color": "white"
             }
            },
            "header": {
             "fill": {
              "color": "#C8D4E3"
             },
             "line": {
              "color": "white"
             }
            },
            "type": "table"
           }
          ]
         },
         "layout": {
          "annotationdefaults": {
           "arrowcolor": "#2a3f5f",
           "arrowhead": 0,
           "arrowwidth": 1
          },
          "autotypenumbers": "strict",
          "coloraxis": {
           "colorbar": {
            "outlinewidth": 0,
            "ticks": ""
           }
          },
          "colorscale": {
           "diverging": [
            [
             0,
             "#8e0152"
            ],
            [
             0.1,
             "#c51b7d"
            ],
            [
             0.2,
             "#de77ae"
            ],
            [
             0.3,
             "#f1b6da"
            ],
            [
             0.4,
             "#fde0ef"
            ],
            [
             0.5,
             "#f7f7f7"
            ],
            [
             0.6,
             "#e6f5d0"
            ],
            [
             0.7,
             "#b8e186"
            ],
            [
             0.8,
             "#7fbc41"
            ],
            [
             0.9,
             "#4d9221"
            ],
            [
             1,
             "#276419"
            ]
           ],
           "sequential": [
            [
             0,
             "#0d0887"
            ],
            [
             0.1111111111111111,
             "#46039f"
            ],
            [
             0.2222222222222222,
             "#7201a8"
            ],
            [
             0.3333333333333333,
             "#9c179e"
            ],
            [
             0.4444444444444444,
             "#bd3786"
            ],
            [
             0.5555555555555556,
             "#d8576b"
            ],
            [
             0.6666666666666666,
             "#ed7953"
            ],
            [
             0.7777777777777778,
             "#fb9f3a"
            ],
            [
             0.8888888888888888,
             "#fdca26"
            ],
            [
             1,
             "#f0f921"
            ]
           ],
           "sequentialminus": [
            [
             0,
             "#0d0887"
            ],
            [
             0.1111111111111111,
             "#46039f"
            ],
            [
             0.2222222222222222,
             "#7201a8"
            ],
            [
             0.3333333333333333,
             "#9c179e"
            ],
            [
             0.4444444444444444,
             "#bd3786"
            ],
            [
             0.5555555555555556,
             "#d8576b"
            ],
            [
             0.6666666666666666,
             "#ed7953"
            ],
            [
             0.7777777777777778,
             "#fb9f3a"
            ],
            [
             0.8888888888888888,
             "#fdca26"
            ],
            [
             1,
             "#f0f921"
            ]
           ]
          },
          "colorway": [
           "#636efa",
           "#EF553B",
           "#00cc96",
           "#ab63fa",
           "#FFA15A",
           "#19d3f3",
           "#FF6692",
           "#B6E880",
           "#FF97FF",
           "#FECB52"
          ],
          "font": {
           "color": "#2a3f5f"
          },
          "geo": {
           "bgcolor": "white",
           "lakecolor": "white",
           "landcolor": "#E5ECF6",
           "showlakes": true,
           "showland": true,
           "subunitcolor": "white"
          },
          "hoverlabel": {
           "align": "left"
          },
          "hovermode": "closest",
          "mapbox": {
           "style": "light"
          },
          "paper_bgcolor": "white",
          "plot_bgcolor": "#E5ECF6",
          "polar": {
           "angularaxis": {
            "gridcolor": "white",
            "linecolor": "white",
            "ticks": ""
           },
           "bgcolor": "#E5ECF6",
           "radialaxis": {
            "gridcolor": "white",
            "linecolor": "white",
            "ticks": ""
           }
          },
          "scene": {
           "xaxis": {
            "backgroundcolor": "#E5ECF6",
            "gridcolor": "white",
            "gridwidth": 2,
            "linecolor": "white",
            "showbackground": true,
            "ticks": "",
            "zerolinecolor": "white"
           },
           "yaxis": {
            "backgroundcolor": "#E5ECF6",
            "gridcolor": "white",
            "gridwidth": 2,
            "linecolor": "white",
            "showbackground": true,
            "ticks": "",
            "zerolinecolor": "white"
           },
           "zaxis": {
            "backgroundcolor": "#E5ECF6",
            "gridcolor": "white",
            "gridwidth": 2,
            "linecolor": "white",
            "showbackground": true,
            "ticks": "",
            "zerolinecolor": "white"
           }
          },
          "shapedefaults": {
           "line": {
            "color": "#2a3f5f"
           }
          },
          "ternary": {
           "aaxis": {
            "gridcolor": "white",
            "linecolor": "white",
            "ticks": ""
           },
           "baxis": {
            "gridcolor": "white",
            "linecolor": "white",
            "ticks": ""
           },
           "bgcolor": "#E5ECF6",
           "caxis": {
            "gridcolor": "white",
            "linecolor": "white",
            "ticks": ""
           }
          },
          "title": {
           "x": 0.05
          },
          "xaxis": {
           "automargin": true,
           "gridcolor": "white",
           "linecolor": "white",
           "ticks": "",
           "title": {
            "standoff": 15
           },
           "zerolinecolor": "white",
           "zerolinewidth": 2
          },
          "yaxis": {
           "automargin": true,
           "gridcolor": "white",
           "linecolor": "white",
           "ticks": "",
           "title": {
            "standoff": 15
           },
           "zerolinecolor": "white",
           "zerolinewidth": 2
          }
         }
        },
        "title": {
         "text": "Provincia: Udine"
        },
        "xaxis": {
         "anchor": "y",
         "domain": [
          0,
          1
         ],
         "title": {
          "text": "time_idx"
         }
        },
        "yaxis": {
         "anchor": "x",
         "domain": [
          0,
          1
         ],
         "title": {
          "text": "carbonio_8h_max"
         }
        }
       }
      }
     },
     "metadata": {},
     "output_type": "display_data"
    }
   ],
   "source": [
    "import plotly.express as px\n",
    "for provincia in list(df_settimanale[\"provincia\"].unique()):\n",
    "    plot_df = df_settimanale[df_settimanale[\"provincia\"]==provincia][[\"time_idx\",\"carbonio_8h_max\"]]\n",
    "    fig = px.line(plot_df, x=\"time_idx\",y=\"carbonio_8h_max\", title=\"Provincia: {}\".format(provincia))\n",
    "    fig.show()"
   ]
  },
  {
   "cell_type": "code",
   "execution_count": 28,
   "metadata": {},
   "outputs": [
    {
     "data": {
      "application/vnd.plotly.v1+json": {
       "config": {
        "plotlyServerURL": "https://plot.ly"
       },
       "data": [
        {
         "hovertemplate": "time_idx=%{x}<br>azoto_oraria_max=%{y}<extra></extra>",
         "legendgroup": "",
         "line": {
          "color": "#636efa",
          "dash": "solid"
         },
         "marker": {
          "symbol": "circle"
         },
         "mode": "lines",
         "name": "",
         "orientation": "v",
         "showlegend": false,
         "type": "scatter",
         "x": [
          0,
          1,
          2,
          3,
          4,
          5,
          6,
          7,
          8,
          9,
          10,
          11,
          12,
          13,
          14,
          15,
          16,
          17,
          18,
          19,
          20,
          21,
          22,
          23,
          24,
          25,
          26,
          27,
          28,
          29,
          30,
          31,
          32,
          33,
          34,
          35,
          36,
          37,
          38,
          39,
          40,
          41,
          42,
          43,
          44,
          45,
          46,
          47,
          48,
          49,
          50,
          51,
          52,
          53,
          54,
          55,
          56,
          57,
          58,
          59,
          60,
          61,
          62,
          63,
          64,
          65,
          66,
          67,
          68,
          69,
          70,
          71,
          72,
          73,
          74,
          75,
          76,
          77,
          78,
          79,
          80,
          81,
          82,
          83,
          84,
          85,
          86,
          87,
          88,
          89,
          90,
          91,
          92,
          93,
          94,
          95,
          96,
          97,
          98,
          99,
          100,
          101,
          102,
          103,
          104,
          105,
          106,
          107,
          108,
          109,
          110,
          111,
          112,
          113,
          114,
          115,
          116,
          117,
          118,
          119,
          120,
          121,
          122,
          123,
          124,
          125,
          126,
          127,
          128,
          129,
          130,
          131,
          132,
          133,
          134,
          135,
          136,
          137,
          138,
          139,
          140,
          141,
          142,
          143,
          144,
          145,
          146,
          147,
          148,
          149,
          150,
          151,
          152,
          153,
          154,
          155,
          156,
          157,
          158,
          159,
          160,
          161,
          162,
          163,
          164,
          165,
          166,
          167,
          168,
          169,
          170,
          171,
          172,
          173,
          174,
          175,
          176,
          177,
          178,
          179,
          180,
          181,
          182,
          183,
          184,
          185,
          186,
          187,
          188,
          189,
          190,
          191,
          192,
          193,
          194,
          195,
          196,
          197,
          198,
          199,
          200,
          201,
          202,
          203,
          204,
          205,
          206,
          207,
          208,
          209,
          210,
          211,
          212,
          213,
          214,
          215,
          216,
          217,
          218,
          219,
          220,
          221,
          222,
          223,
          224,
          225,
          226,
          227,
          228,
          229,
          230,
          231,
          232,
          233,
          234,
          235,
          236,
          237,
          238,
          239,
          240,
          241,
          242,
          243,
          244,
          245,
          246,
          247,
          248,
          249,
          250,
          251,
          252,
          253,
          254,
          255,
          256,
          257,
          258,
          259,
          260,
          261,
          262,
          263,
          264,
          265,
          266,
          267,
          268,
          269,
          270,
          271,
          272,
          273,
          274,
          275,
          276,
          277,
          278,
          279,
          280,
          281,
          282,
          283,
          284,
          285,
          286,
          287,
          288,
          289,
          290,
          291,
          292,
          293,
          294,
          295,
          296,
          297,
          298,
          299,
          300,
          301,
          302,
          303,
          304,
          305,
          306,
          307,
          308,
          309,
          310,
          311,
          312,
          313,
          314,
          315,
          316,
          317,
          318,
          319,
          320,
          321,
          322,
          323,
          324,
          325,
          326,
          327,
          328,
          329,
          330,
          331,
          332,
          333,
          334,
          335,
          336,
          337,
          338,
          339,
          340,
          341,
          342,
          343,
          344,
          345,
          346,
          347,
          348,
          349,
          350,
          351,
          352,
          353,
          354,
          355,
          356,
          357,
          358
         ],
         "xaxis": "x",
         "y": [
          28.006272321428572,
          45.01867346938776,
          45.63211734693878,
          44.44646258503401,
          30.148979591836735,
          39.30795918367347,
          53.97530612244898,
          47.13302721088435,
          44.99812925170068,
          34.16268707482993,
          50.105714285714285,
          52.7302380952381,
          44.85551020408163,
          47.27897959183674,
          36.80171428571428,
          27.13081632653061,
          29.112755102040815,
          27.51292517006803,
          22.544285714285714,
          25.834904761904763,
          22.48772108843537,
          24.868163265306123,
          23.88530612244898,
          20.029761904761905,
          21,
          21.615523809523808,
          26.070809523809523,
          18.363095238095237,
          25.12904761904762,
          23.808809523809522,
          22.911190476190477,
          21.718238095238096,
          20.089714285714283,
          19.85904761904762,
          26.615023809523812,
          28.19709523809524,
          29.845,
          28.509285714285713,
          35.97312925170068,
          30.223163265306123,
          25.927013605442177,
          28.37473469387755,
          30.6034693877551,
          50.913605442176866,
          37.959319727891156,
          39.667428571428566,
          47.204081632653065,
          32.72533333333333,
          25.750714285714285,
          55.47326530612245,
          52.6369387755102,
          42.176421768707485,
          52.5325,
          59.775081632653055,
          62.19608843537414,
          51.806122448979586,
          53.40622448979592,
          40.46091836734694,
          60.66285714285714,
          55.54659863945579,
          45.4204081632653,
          35.23875510204082,
          53.26204081632653,
          44.650408163265304,
          43.31612244897959,
          35.6030612244898,
          43.946938775510205,
          42.762040816326525,
          35.622244897959185,
          25.21901360544218,
          28.174285714285713,
          20.126904761904765,
          27.480326530612242,
          28.512993197278913,
          28.3534693877551,
          27.14204081632653,
          25.64704081632653,
          22.305340136054422,
          26.776326530612245,
          24.152414965986395,
          26.459795918367348,
          25.63408163265306,
          20.00897959183673,
          26.793503401360542,
          28.39326530612245,
          19.502523809523808,
          24.10557823129252,
          21.19408163265306,
          19.50989795918367,
          21.984897959183673,
          28.261360544217688,
          18.449625850340137,
          26.44461224489796,
          30.60125850340136,
          41.48057823129251,
          46.95302721088435,
          84.61183673469387,
          57.56367346938776,
          56.14244897959184,
          61.253571428571426,
          79.95765306122449,
          77.70275510204081,
          76.03585034013607,
          54.024081632653065,
          56.31285714285714,
          45.31816326530612,
          57.417210884353736,
          68.61649659863946,
          49.80938775510204,
          41.97632653061225,
          39.674897959183674,
          34.63142857142857,
          32.26969387755102,
          27.89418367346939,
          29.44969387755102,
          34.45710884353741,
          25.98952380952381,
          33.16142857142857,
          28.410034013605443,
          25.795428571428573,
          19.02785714285714,
          25.685333333333336,
          20.86551020408163,
          23.79040136054422,
          21.95768707482993,
          19.09734693877551,
          16.373401360544218,
          14.676625850340136,
          17.264387755102042,
          15.948299319727893,
          15.05904761904762,
          20.190666666666665,
          17.229935064935066,
          11.015,
          20.97874149659864,
          18.27125850340136,
          15.235306122448979,
          20.491122448979592,
          24.809795918367346,
          24.340204081632653,
          28.37303401360544,
          28.821020408163264,
          37.85180272108844,
          32.45406802721089,
          37.718163265306124,
          37.44414965986395,
          44.3902380952381,
          47.87530612244898,
          36.97714285714286,
          45.07676870748299,
          36.34176870748299,
          42.3947619047619,
          57.02938775510204,
          56.86469387755102,
          54.16510204081633,
          57.17670634920635,
          47.200857142857146,
          52.72176870748299,
          27.040714285714284,
          50.819353741496606,
          55.299353741496596,
          24.526530612244898,
          53.971768707483,
          55.9821768707483,
          48.16496598639456,
          40.44275510204081,
          63.89933333333334,
          44.60707482993197,
          48.48482993197279,
          30.392244897959184,
          31.116326530612245,
          27.999761904761904,
          25.632857142857144,
          26.337789115646256,
          25.25486394557823,
          23.78568027210884,
          21.351428571428574,
          20.558979591836735,
          19.283707482993197,
          18.298809523809524,
          22.725612244897963,
          21.73159863945578,
          24.27891156462585,
          15.316394557823129,
          21.690816326530612,
          20.528027210884353,
          18.900632653061226,
          20.68712244897959,
          16.809333333333335,
          23.662619047619046,
          15.326020408163268,
          20.644897959183673,
          24.017857142857142,
          30.66016326530612,
          26.207551020408165,
          25.827278911564626,
          39.855714285714285,
          39.32506802721088,
          46.52469387755102,
          45.180068027210886,
          34.008469387755106,
          33.58142857142857,
          48.079795918367346,
          36.74183673469388,
          36.955884353741496,
          35.52095238095238,
          48.030367346938775,
          41.25613095238096,
          39.0725,
          31.523469387755103,
          38.48122448979592,
          40.08942176870749,
          29.57,
          30.97608843537415,
          45.09963945578232,
          14.563197278911565,
          31.70047619047619,
          40.463537414965984,
          31.617517006802725,
          19.745578231292516,
          28.616122448979592,
          25.10673469387755,
          28.69122448979592,
          30.343061224489794,
          26.622380952380954,
          23.424285714285713,
          27.69448979591837,
          22.203061224489797,
          24.96734693877551,
          21.178367346938778,
          19.091190476190473,
          23.25095238095238,
          21.92612244897959,
          19.508673469387755,
          20.943809523809524,
          16.658231292517005,
          20.23857142857143,
          24.95343537414966,
          22.359183673469385,
          19.38659863945578,
          13.998503401360542,
          20.66054421768708,
          20.06357142857143,
          20.5765306122449,
          26.54734693877551,
          23.17972789115646,
          28.944761904761908,
          31.732959183673472,
          31.649591836734693,
          33.973945578231294,
          36.978707482993194,
          22.721768707482994,
          31.65285714285714,
          26.129489795918367,
          26.515238095238093,
          29.98734693877551,
          37.84334013605443,
          35.682282312925174,
          42.45013605442177,
          38.74292517006803,
          52.65952380952381,
          54.2004081632653,
          54.53187074829931,
          38.41399319727891,
          38.22180272108843,
          40.1237074829932,
          58.9065918367347,
          56.5978231292517,
          63.84877551020408,
          37.263129251700676,
          28.841632653061225,
          33.209537414965986,
          19.960571428571427,
          18.361619047619048,
          20.351904761904763,
          24.305714285714284,
          11.973265306122448,
          19.451836734693877,
          17.072585034013606,
          12.380238095238095,
          19.111428571428572,
          16.482040816326528,
          17.208367346938775,
          19.400034013605445,
          14.543401360544218,
          19.433061224489794,
          19.290748299319727,
          14.504455782312926,
          20.719557823129254,
          20.109224489795917,
          17.67604761904762,
          13.90734693877551,
          16.09673469387755,
          17.80687074829932,
          22.961938775510202,
          15.675136054421769,
          24.964489795918364,
          22.05734693877551,
          29.244489795918366,
          23.472244897959182,
          26.80486394557823,
          22.452244897959186,
          46.23793197278911,
          21.56625850340136,
          29.26506802721088,
          21.75670068027211,
          31.83959183673469,
          30.310343537414962,
          49.65255102040816,
          45.369965986394554,
          38.576122448979596,
          31.699768707482995,
          46.146,
          58.83622448979592,
          52.31183673469388,
          49.80197278911565,
          41.5302380952381,
          43.627653061224485,
          55.905144017280904,
          37.80757205792832,
          36.366172914879265,
          35.07993770579129,
          31.513639479750452,
          24.340410051689183,
          13.788109543274029,
          11.154935355996397,
          22.68065809312639,
          15.854892721458707,
          10.610313715058496,
          11.616413019769286,
          16.572456537795578,
          12.990269377684559,
          13.992805613037756,
          13.833369079798217,
          11.38608537895398,
          17.59890002064753,
          16.16473606803287,
          18.975374639767406,
          16.637630581429374,
          18.09518759014652,
          16.37175199829169,
          21.063439718227382,
          18.759602073007105,
          16.49294121761513,
          20.956065445596938,
          17.57459278157891,
          15.035724266460495,
          17.411509266378157,
          17.192784019395507,
          23.303007573937773,
          19.274489795918367,
          24.049435663334158,
          24.786447651606426,
          24.24099110715168,
          31.043331330363053,
          31.97047202244516,
          32.42799893569811,
          33.05048369340529,
          32.434725274725274
         ],
         "yaxis": "y"
        }
       ],
       "layout": {
        "legend": {
         "tracegroupgap": 0
        },
        "template": {
         "data": {
          "bar": [
           {
            "error_x": {
             "color": "#2a3f5f"
            },
            "error_y": {
             "color": "#2a3f5f"
            },
            "marker": {
             "line": {
              "color": "#E5ECF6",
              "width": 0.5
             },
             "pattern": {
              "fillmode": "overlay",
              "size": 10,
              "solidity": 0.2
             }
            },
            "type": "bar"
           }
          ],
          "barpolar": [
           {
            "marker": {
             "line": {
              "color": "#E5ECF6",
              "width": 0.5
             },
             "pattern": {
              "fillmode": "overlay",
              "size": 10,
              "solidity": 0.2
             }
            },
            "type": "barpolar"
           }
          ],
          "carpet": [
           {
            "aaxis": {
             "endlinecolor": "#2a3f5f",
             "gridcolor": "white",
             "linecolor": "white",
             "minorgridcolor": "white",
             "startlinecolor": "#2a3f5f"
            },
            "baxis": {
             "endlinecolor": "#2a3f5f",
             "gridcolor": "white",
             "linecolor": "white",
             "minorgridcolor": "white",
             "startlinecolor": "#2a3f5f"
            },
            "type": "carpet"
           }
          ],
          "choropleth": [
           {
            "colorbar": {
             "outlinewidth": 0,
             "ticks": ""
            },
            "type": "choropleth"
           }
          ],
          "contour": [
           {
            "colorbar": {
             "outlinewidth": 0,
             "ticks": ""
            },
            "colorscale": [
             [
              0,
              "#0d0887"
             ],
             [
              0.1111111111111111,
              "#46039f"
             ],
             [
              0.2222222222222222,
              "#7201a8"
             ],
             [
              0.3333333333333333,
              "#9c179e"
             ],
             [
              0.4444444444444444,
              "#bd3786"
             ],
             [
              0.5555555555555556,
              "#d8576b"
             ],
             [
              0.6666666666666666,
              "#ed7953"
             ],
             [
              0.7777777777777778,
              "#fb9f3a"
             ],
             [
              0.8888888888888888,
              "#fdca26"
             ],
             [
              1,
              "#f0f921"
             ]
            ],
            "type": "contour"
           }
          ],
          "contourcarpet": [
           {
            "colorbar": {
             "outlinewidth": 0,
             "ticks": ""
            },
            "type": "contourcarpet"
           }
          ],
          "heatmap": [
           {
            "colorbar": {
             "outlinewidth": 0,
             "ticks": ""
            },
            "colorscale": [
             [
              0,
              "#0d0887"
             ],
             [
              0.1111111111111111,
              "#46039f"
             ],
             [
              0.2222222222222222,
              "#7201a8"
             ],
             [
              0.3333333333333333,
              "#9c179e"
             ],
             [
              0.4444444444444444,
              "#bd3786"
             ],
             [
              0.5555555555555556,
              "#d8576b"
             ],
             [
              0.6666666666666666,
              "#ed7953"
             ],
             [
              0.7777777777777778,
              "#fb9f3a"
             ],
             [
              0.8888888888888888,
              "#fdca26"
             ],
             [
              1,
              "#f0f921"
             ]
            ],
            "type": "heatmap"
           }
          ],
          "heatmapgl": [
           {
            "colorbar": {
             "outlinewidth": 0,
             "ticks": ""
            },
            "colorscale": [
             [
              0,
              "#0d0887"
             ],
             [
              0.1111111111111111,
              "#46039f"
             ],
             [
              0.2222222222222222,
              "#7201a8"
             ],
             [
              0.3333333333333333,
              "#9c179e"
             ],
             [
              0.4444444444444444,
              "#bd3786"
             ],
             [
              0.5555555555555556,
              "#d8576b"
             ],
             [
              0.6666666666666666,
              "#ed7953"
             ],
             [
              0.7777777777777778,
              "#fb9f3a"
             ],
             [
              0.8888888888888888,
              "#fdca26"
             ],
             [
              1,
              "#f0f921"
             ]
            ],
            "type": "heatmapgl"
           }
          ],
          "histogram": [
           {
            "marker": {
             "pattern": {
              "fillmode": "overlay",
              "size": 10,
              "solidity": 0.2
             }
            },
            "type": "histogram"
           }
          ],
          "histogram2d": [
           {
            "colorbar": {
             "outlinewidth": 0,
             "ticks": ""
            },
            "colorscale": [
             [
              0,
              "#0d0887"
             ],
             [
              0.1111111111111111,
              "#46039f"
             ],
             [
              0.2222222222222222,
              "#7201a8"
             ],
             [
              0.3333333333333333,
              "#9c179e"
             ],
             [
              0.4444444444444444,
              "#bd3786"
             ],
             [
              0.5555555555555556,
              "#d8576b"
             ],
             [
              0.6666666666666666,
              "#ed7953"
             ],
             [
              0.7777777777777778,
              "#fb9f3a"
             ],
             [
              0.8888888888888888,
              "#fdca26"
             ],
             [
              1,
              "#f0f921"
             ]
            ],
            "type": "histogram2d"
           }
          ],
          "histogram2dcontour": [
           {
            "colorbar": {
             "outlinewidth": 0,
             "ticks": ""
            },
            "colorscale": [
             [
              0,
              "#0d0887"
             ],
             [
              0.1111111111111111,
              "#46039f"
             ],
             [
              0.2222222222222222,
              "#7201a8"
             ],
             [
              0.3333333333333333,
              "#9c179e"
             ],
             [
              0.4444444444444444,
              "#bd3786"
             ],
             [
              0.5555555555555556,
              "#d8576b"
             ],
             [
              0.6666666666666666,
              "#ed7953"
             ],
             [
              0.7777777777777778,
              "#fb9f3a"
             ],
             [
              0.8888888888888888,
              "#fdca26"
             ],
             [
              1,
              "#f0f921"
             ]
            ],
            "type": "histogram2dcontour"
           }
          ],
          "mesh3d": [
           {
            "colorbar": {
             "outlinewidth": 0,
             "ticks": ""
            },
            "type": "mesh3d"
           }
          ],
          "parcoords": [
           {
            "line": {
             "colorbar": {
              "outlinewidth": 0,
              "ticks": ""
             }
            },
            "type": "parcoords"
           }
          ],
          "pie": [
           {
            "automargin": true,
            "type": "pie"
           }
          ],
          "scatter": [
           {
            "marker": {
             "colorbar": {
              "outlinewidth": 0,
              "ticks": ""
             }
            },
            "type": "scatter"
           }
          ],
          "scatter3d": [
           {
            "line": {
             "colorbar": {
              "outlinewidth": 0,
              "ticks": ""
             }
            },
            "marker": {
             "colorbar": {
              "outlinewidth": 0,
              "ticks": ""
             }
            },
            "type": "scatter3d"
           }
          ],
          "scattercarpet": [
           {
            "marker": {
             "colorbar": {
              "outlinewidth": 0,
              "ticks": ""
             }
            },
            "type": "scattercarpet"
           }
          ],
          "scattergeo": [
           {
            "marker": {
             "colorbar": {
              "outlinewidth": 0,
              "ticks": ""
             }
            },
            "type": "scattergeo"
           }
          ],
          "scattergl": [
           {
            "marker": {
             "colorbar": {
              "outlinewidth": 0,
              "ticks": ""
             }
            },
            "type": "scattergl"
           }
          ],
          "scattermapbox": [
           {
            "marker": {
             "colorbar": {
              "outlinewidth": 0,
              "ticks": ""
             }
            },
            "type": "scattermapbox"
           }
          ],
          "scatterpolar": [
           {
            "marker": {
             "colorbar": {
              "outlinewidth": 0,
              "ticks": ""
             }
            },
            "type": "scatterpolar"
           }
          ],
          "scatterpolargl": [
           {
            "marker": {
             "colorbar": {
              "outlinewidth": 0,
              "ticks": ""
             }
            },
            "type": "scatterpolargl"
           }
          ],
          "scatterternary": [
           {
            "marker": {
             "colorbar": {
              "outlinewidth": 0,
              "ticks": ""
             }
            },
            "type": "scatterternary"
           }
          ],
          "surface": [
           {
            "colorbar": {
             "outlinewidth": 0,
             "ticks": ""
            },
            "colorscale": [
             [
              0,
              "#0d0887"
             ],
             [
              0.1111111111111111,
              "#46039f"
             ],
             [
              0.2222222222222222,
              "#7201a8"
             ],
             [
              0.3333333333333333,
              "#9c179e"
             ],
             [
              0.4444444444444444,
              "#bd3786"
             ],
             [
              0.5555555555555556,
              "#d8576b"
             ],
             [
              0.6666666666666666,
              "#ed7953"
             ],
             [
              0.7777777777777778,
              "#fb9f3a"
             ],
             [
              0.8888888888888888,
              "#fdca26"
             ],
             [
              1,
              "#f0f921"
             ]
            ],
            "type": "surface"
           }
          ],
          "table": [
           {
            "cells": {
             "fill": {
              "color": "#EBF0F8"
             },
             "line": {
              "color": "white"
             }
            },
            "header": {
             "fill": {
              "color": "#C8D4E3"
             },
             "line": {
              "color": "white"
             }
            },
            "type": "table"
           }
          ]
         },
         "layout": {
          "annotationdefaults": {
           "arrowcolor": "#2a3f5f",
           "arrowhead": 0,
           "arrowwidth": 1
          },
          "autotypenumbers": "strict",
          "coloraxis": {
           "colorbar": {
            "outlinewidth": 0,
            "ticks": ""
           }
          },
          "colorscale": {
           "diverging": [
            [
             0,
             "#8e0152"
            ],
            [
             0.1,
             "#c51b7d"
            ],
            [
             0.2,
             "#de77ae"
            ],
            [
             0.3,
             "#f1b6da"
            ],
            [
             0.4,
             "#fde0ef"
            ],
            [
             0.5,
             "#f7f7f7"
            ],
            [
             0.6,
             "#e6f5d0"
            ],
            [
             0.7,
             "#b8e186"
            ],
            [
             0.8,
             "#7fbc41"
            ],
            [
             0.9,
             "#4d9221"
            ],
            [
             1,
             "#276419"
            ]
           ],
           "sequential": [
            [
             0,
             "#0d0887"
            ],
            [
             0.1111111111111111,
             "#46039f"
            ],
            [
             0.2222222222222222,
             "#7201a8"
            ],
            [
             0.3333333333333333,
             "#9c179e"
            ],
            [
             0.4444444444444444,
             "#bd3786"
            ],
            [
             0.5555555555555556,
             "#d8576b"
            ],
            [
             0.6666666666666666,
             "#ed7953"
            ],
            [
             0.7777777777777778,
             "#fb9f3a"
            ],
            [
             0.8888888888888888,
             "#fdca26"
            ],
            [
             1,
             "#f0f921"
            ]
           ],
           "sequentialminus": [
            [
             0,
             "#0d0887"
            ],
            [
             0.1111111111111111,
             "#46039f"
            ],
            [
             0.2222222222222222,
             "#7201a8"
            ],
            [
             0.3333333333333333,
             "#9c179e"
            ],
            [
             0.4444444444444444,
             "#bd3786"
            ],
            [
             0.5555555555555556,
             "#d8576b"
            ],
            [
             0.6666666666666666,
             "#ed7953"
            ],
            [
             0.7777777777777778,
             "#fb9f3a"
            ],
            [
             0.8888888888888888,
             "#fdca26"
            ],
            [
             1,
             "#f0f921"
            ]
           ]
          },
          "colorway": [
           "#636efa",
           "#EF553B",
           "#00cc96",
           "#ab63fa",
           "#FFA15A",
           "#19d3f3",
           "#FF6692",
           "#B6E880",
           "#FF97FF",
           "#FECB52"
          ],
          "font": {
           "color": "#2a3f5f"
          },
          "geo": {
           "bgcolor": "white",
           "lakecolor": "white",
           "landcolor": "#E5ECF6",
           "showlakes": true,
           "showland": true,
           "subunitcolor": "white"
          },
          "hoverlabel": {
           "align": "left"
          },
          "hovermode": "closest",
          "mapbox": {
           "style": "light"
          },
          "paper_bgcolor": "white",
          "plot_bgcolor": "#E5ECF6",
          "polar": {
           "angularaxis": {
            "gridcolor": "white",
            "linecolor": "white",
            "ticks": ""
           },
           "bgcolor": "#E5ECF6",
           "radialaxis": {
            "gridcolor": "white",
            "linecolor": "white",
            "ticks": ""
           }
          },
          "scene": {
           "xaxis": {
            "backgroundcolor": "#E5ECF6",
            "gridcolor": "white",
            "gridwidth": 2,
            "linecolor": "white",
            "showbackground": true,
            "ticks": "",
            "zerolinecolor": "white"
           },
           "yaxis": {
            "backgroundcolor": "#E5ECF6",
            "gridcolor": "white",
            "gridwidth": 2,
            "linecolor": "white",
            "showbackground": true,
            "ticks": "",
            "zerolinecolor": "white"
           },
           "zaxis": {
            "backgroundcolor": "#E5ECF6",
            "gridcolor": "white",
            "gridwidth": 2,
            "linecolor": "white",
            "showbackground": true,
            "ticks": "",
            "zerolinecolor": "white"
           }
          },
          "shapedefaults": {
           "line": {
            "color": "#2a3f5f"
           }
          },
          "ternary": {
           "aaxis": {
            "gridcolor": "white",
            "linecolor": "white",
            "ticks": ""
           },
           "baxis": {
            "gridcolor": "white",
            "linecolor": "white",
            "ticks": ""
           },
           "bgcolor": "#E5ECF6",
           "caxis": {
            "gridcolor": "white",
            "linecolor": "white",
            "ticks": ""
           }
          },
          "title": {
           "x": 0.05
          },
          "xaxis": {
           "automargin": true,
           "gridcolor": "white",
           "linecolor": "white",
           "ticks": "",
           "title": {
            "standoff": 15
           },
           "zerolinecolor": "white",
           "zerolinewidth": 2
          },
          "yaxis": {
           "automargin": true,
           "gridcolor": "white",
           "linecolor": "white",
           "ticks": "",
           "title": {
            "standoff": 15
           },
           "zerolinecolor": "white",
           "zerolinewidth": 2
          }
         }
        },
        "title": {
         "text": "Provincia: Gorizia"
        },
        "xaxis": {
         "anchor": "y",
         "domain": [
          0,
          1
         ],
         "title": {
          "text": "time_idx"
         }
        },
        "yaxis": {
         "anchor": "x",
         "domain": [
          0,
          1
         ],
         "title": {
          "text": "azoto_oraria_max"
         }
        }
       }
      }
     },
     "metadata": {},
     "output_type": "display_data"
    },
    {
     "data": {
      "application/vnd.plotly.v1+json": {
       "config": {
        "plotlyServerURL": "https://plot.ly"
       },
       "data": [
        {
         "hovertemplate": "time_idx=%{x}<br>azoto_oraria_max=%{y}<extra></extra>",
         "legendgroup": "",
         "line": {
          "color": "#636efa",
          "dash": "solid"
         },
         "marker": {
          "symbol": "circle"
         },
         "mode": "lines",
         "name": "",
         "orientation": "v",
         "showlegend": false,
         "type": "scatter",
         "x": [
          0,
          1,
          2,
          3,
          4,
          5,
          6,
          7,
          8,
          9,
          10,
          11,
          12,
          13,
          14,
          15,
          16,
          17,
          18,
          19,
          20,
          21,
          22,
          23,
          24,
          25,
          26,
          27,
          28,
          29,
          30,
          31,
          32,
          33,
          34,
          35,
          36,
          37,
          38,
          39,
          40,
          41,
          42,
          43,
          44,
          45,
          46,
          47,
          48,
          49,
          50,
          51,
          52,
          53,
          54,
          55,
          56,
          57,
          58,
          59,
          60,
          61,
          62,
          63,
          64,
          65,
          66,
          67,
          68,
          69,
          70,
          71,
          72,
          73,
          74,
          75,
          76,
          77,
          78,
          79,
          80,
          81,
          82,
          83,
          84,
          85,
          86,
          87,
          88,
          89,
          90,
          91,
          92,
          93,
          94,
          95,
          96,
          97,
          98,
          99,
          100,
          101,
          102,
          103,
          104,
          105,
          106,
          107,
          108,
          109,
          110,
          111,
          112,
          113,
          114,
          115,
          116,
          117,
          118,
          119,
          120,
          121,
          122,
          123,
          124,
          125,
          126,
          127,
          128,
          129,
          130,
          131,
          132,
          133,
          134,
          135,
          136,
          137,
          138,
          139,
          140,
          141,
          142,
          143,
          144,
          145,
          146,
          147,
          148,
          149,
          150,
          151,
          152,
          153,
          154,
          155,
          156,
          157,
          158,
          159,
          160,
          161,
          162,
          163,
          164,
          165,
          166,
          167,
          168,
          169,
          170,
          171,
          172,
          173,
          174,
          175,
          176,
          177,
          178,
          179,
          180,
          181,
          182,
          183,
          184,
          185,
          186,
          187,
          188,
          189,
          190,
          191,
          192,
          193,
          194,
          195,
          196,
          197,
          198,
          199,
          200,
          201,
          202,
          203,
          204,
          205,
          206,
          207,
          208,
          209,
          210,
          211,
          212,
          213,
          214,
          215,
          216,
          217,
          218,
          219,
          220,
          221,
          222,
          223,
          224,
          225,
          226,
          227,
          228,
          229,
          230,
          231,
          232,
          233,
          234,
          235,
          236,
          237,
          238,
          239,
          240,
          241,
          242,
          243,
          244,
          245,
          246,
          247,
          248,
          249,
          250,
          251,
          252,
          253,
          254,
          255,
          256,
          257,
          258,
          259,
          260,
          261,
          262,
          263,
          264,
          265,
          266,
          267,
          268,
          269,
          270,
          271,
          272,
          273,
          274,
          275,
          276,
          277,
          278,
          279,
          280,
          281,
          282,
          283,
          284,
          285,
          286,
          287,
          288,
          289,
          290,
          291,
          292,
          293,
          294,
          295,
          296,
          297,
          298,
          299,
          300,
          301,
          302,
          303,
          304,
          305,
          306,
          307,
          308,
          309,
          310,
          311,
          312,
          313,
          314,
          315,
          316,
          317,
          318,
          319,
          320,
          321,
          322,
          323,
          324,
          325,
          326,
          327,
          328,
          329,
          330,
          331,
          332,
          333,
          334,
          335,
          336,
          337,
          338,
          339,
          340,
          341,
          342,
          343,
          344,
          345,
          346,
          347,
          348,
          349,
          350,
          351,
          352,
          353,
          354,
          355,
          356,
          357,
          358
         ],
         "xaxis": "x",
         "y": [
          47.26114583333334,
          51.6347619047619,
          48.67333333333333,
          47.69619047619047,
          45.10666666666667,
          50.434761904761906,
          49.80380952380953,
          51.83571428571428,
          56.63166666666667,
          65.67619047619048,
          80.49928571428572,
          52.82904761904762,
          54.139523809523816,
          47.22690476190477,
          41.08,
          44.12095238095238,
          39.14380952380952,
          28.495714285714286,
          36.68809523809524,
          39.94761904761905,
          39.97571428571428,
          33.9247619047619,
          42.73738095238095,
          32.149047619047614,
          35.03809523809524,
          32.72666666666667,
          32.48642857142857,
          14.731666666666666,
          21.802857142857142,
          28.535476190476192,
          23.617619047619048,
          27.489047619047618,
          16.759285714285713,
          21.64761904761905,
          37.74,
          37.99809523809524,
          32.67666666666667,
          41.18904761904762,
          47.24952380952381,
          48.48380952380952,
          52.580238095238094,
          48.47666666666667,
          51.6402380952381,
          80.27,
          43.945238095238096,
          49.18285714285714,
          59.201428571428565,
          48.825476190476195,
          37.98619047619047,
          68.05666666666666,
          53.46952380952381,
          38.49595238095238,
          63.964166666666664,
          65.12357142857142,
          87.55714285714285,
          94.71714285714286,
          86.00714285714285,
          55.275,
          94.47857142857143,
          88.52285714285713,
          78.00785714285713,
          71.21285714285715,
          74.64142857142858,
          77.41571428571429,
          63.61928571428571,
          53.550714285714285,
          57.023809523809526,
          51.800000000000004,
          40.855714285714285,
          35.14380952380952,
          30.12333333333333,
          29.65952380952381,
          26.939047619047617,
          21.940476190476193,
          30.645238095238096,
          36.47952380952381,
          27.334761904761905,
          27.646190476190476,
          30.88047619047619,
          30.40380952380952,
          33.46380952380952,
          31.87952380952381,
          22.447619047619046,
          31.59095238095238,
          26.725238095238097,
          14.24095238095238,
          32.669285714285714,
          28.572857142857146,
          36.26880952380952,
          38.1647619047619,
          39.54571428571428,
          33.05571428571428,
          42.465714285714284,
          39.77571428571429,
          70.69857142857143,
          66.04571428571428,
          92.95690476190477,
          53.84095238095238,
          44.529999999999994,
          53.08619047619048,
          59.49809523809524,
          70.37666666666667,
          89.47333333333333,
          45.15238095238095,
          48.573181818181816,
          54.57952380952381,
          73.84333333333333,
          70.75333333333333,
          61.04880952380953,
          55.970476190476184,
          54.76571428571429,
          49.105714285714285,
          45.105714285714285,
          46.51142857142857,
          46.25857142857143,
          42.85214285714286,
          41.48428571428571,
          39.66285714285714,
          40.504999999999995,
          29.19,
          30.565714285714286,
          37.37071428571429,
          32.090714285714284,
          30.75857142857143,
          29.705714285714286,
          24.172857142857143,
          25.702857142857145,
          17.20357142857143,
          26.909285714285716,
          31.357857142857142,
          33.449999999999996,
          27.48785714285714,
          31.232142857142858,
          31.860833333333332,
          22.947857142857142,
          22.84714285714286,
          20.275000000000002,
          32.09571428571429,
          37.02357142857143,
          51.25928571428572,
          39.99142857142857,
          47.31285714285714,
          44.56928571428572,
          43.59142857142857,
          44.27928571428571,
          51.402142857142856,
          52.840714285714284,
          54.1,
          49.79714285714285,
          57.52928571428571,
          42.30214285714286,
          58.38309523809524,
          72.54857142857142,
          73.96904761904761,
          91.85404761904762,
          79.0488888888889,
          62.17033333333334,
          56.019999999999996,
          61.57142857142857,
          87.39642857142857,
          52.59690476190476,
          52.986428571428576,
          80.81619047619049,
          55.06214285714286,
          43.5,
          73.06142857142858,
          57.520714285714284,
          44.10642857142857,
          56.044285714285714,
          32.339285714285715,
          36.75214285714286,
          34.778571428571425,
          32.95142857142857,
          32.33833333333333,
          29.81142857142857,
          40.86666666666667,
          36.23833333333333,
          29.937142857142856,
          36.47190476190476,
          40.42523809523809,
          33.07809523809524,
          24.066666666666666,
          27.345714285714287,
          21.33857142857143,
          29.472380952380952,
          23.34595238095238,
          26.99761904761905,
          24.158809523809527,
          23.543809523809525,
          28.319285714285716,
          28.784285714285716,
          23.978571428571428,
          35.27095238095238,
          42.24666666666667,
          39.93571428571429,
          50.77761904761905,
          59.79857142857143,
          54.72238095238095,
          62.58761904761904,
          69.21357142857143,
          52.598571428571425,
          52.14857142857142,
          67.87380952380953,
          49.95761904761905,
          70.28547619047619,
          56.00666666666666,
          71.74357142857143,
          49.443125,
          46.57291666666667,
          49.55142857142857,
          53.38666666666666,
          74.4747619047619,
          48.58476190476191,
          61.08285714285715,
          63.80428571428571,
          39.93380952380953,
          48.05857142857143,
          50.48619047619047,
          37.187619047619044,
          44.23428571428571,
          44.08190476190476,
          42.017380952380954,
          43.979285714285716,
          49.58047619047619,
          37.794761904761906,
          38.83476190476191,
          37.80761904761904,
          30.845476190476194,
          36.03857142857142,
          30.516190476190477,
          33.551904761904765,
          33.62166666666666,
          36.148809523809526,
          32.98095238095238,
          31.33761904761905,
          26.024761904761906,
          28.29,
          30.002857142857142,
          30.50761904761905,
          26.522380952380953,
          22.054761904761904,
          31.385238095238094,
          40.037142857142854,
          33.53047619047619,
          47.54976190476191,
          40.034285714285716,
          52.112380952380946,
          50.50857142857143,
          68.85142857142857,
          63.6052380952381,
          28.685714285714283,
          40.25904761904762,
          38.06095238095238,
          56.45976190476191,
          46.84761904761905,
          57.91809523809524,
          52.413333333333334,
          59.199523809523804,
          54.44214285714286,
          41.96999999999999,
          61.40229166666667,
          56.68142857142857,
          50.580714285714286,
          49.167857142857144,
          47.28214285714286,
          58.75404761904762,
          59.758809523809525,
          42.39142857142857,
          49.863214285714285,
          32.96964285714286,
          46.61607142857143,
          72.68238095238095,
          63.391666666666666,
          50.53071428571428,
          42.92166666666667,
          52.44904761904762,
          22.662857142857142,
          31.107619047619046,
          39.77761904761905,
          41.64785714285714,
          34.20142857142857,
          40.721428571428575,
          36.94642857142857,
          42.955,
          36.645714285714284,
          48.798571428571435,
          43.895714285714284,
          38.285000000000004,
          36.69714285714286,
          39.72428571428571,
          31.734285714285715,
          31.094285714285714,
          22.994285714285716,
          33.315,
          38.82357142857143,
          28.145000000000003,
          57.28071428571428,
          46.80785714285714,
          52.23285714285714,
          50.96071428571429,
          55.865,
          49.71071428571429,
          68.35071428571429,
          15.782857142857143,
          41.464999999999996,
          47.56,
          49.37785714285714,
          50.09357142857142,
          64.02714285714286,
          68.91071428571429,
          50.94428571428572,
          48.074999999999996,
          64.40700000000001,
          75.97071428571428,
          75.00571428571429,
          71.685,
          55.996428571428574,
          66.93428571428572,
          74.8492326007326,
          66.22615804705721,
          59.079830539517744,
          43.010579778846406,
          47.94354015799869,
          39.16127357116373,
          23.39215403825102,
          32.04486203208556,
          37.04554255698535,
          24.32971679338902,
          22.979465597062582,
          20.27993654324911,
          30.527523254821638,
          21.92832786618541,
          30.191213936130005,
          28.189652753342717,
          24.301377284456102,
          25.59618755817121,
          32.10567272167488,
          37.04896036423254,
          32.27144429841211,
          33.83739182046567,
          30.253981982383102,
          32.50605714956233,
          34.43126405331321,
          42.618530453338174,
          25.837920059987287,
          28.08179193813232,
          25.19710842735314,
          40.773418192360374,
          49.292249537161304,
          48.47067128489327,
          33.154761904761905,
          48.75533333333333,
          48.82655897036022,
          37.20195501542792,
          43.01492166749904,
          36.31995373369678,
          52.7963673403977,
          45.265149130590444,
          50.51
         ],
         "yaxis": "y"
        }
       ],
       "layout": {
        "legend": {
         "tracegroupgap": 0
        },
        "template": {
         "data": {
          "bar": [
           {
            "error_x": {
             "color": "#2a3f5f"
            },
            "error_y": {
             "color": "#2a3f5f"
            },
            "marker": {
             "line": {
              "color": "#E5ECF6",
              "width": 0.5
             },
             "pattern": {
              "fillmode": "overlay",
              "size": 10,
              "solidity": 0.2
             }
            },
            "type": "bar"
           }
          ],
          "barpolar": [
           {
            "marker": {
             "line": {
              "color": "#E5ECF6",
              "width": 0.5
             },
             "pattern": {
              "fillmode": "overlay",
              "size": 10,
              "solidity": 0.2
             }
            },
            "type": "barpolar"
           }
          ],
          "carpet": [
           {
            "aaxis": {
             "endlinecolor": "#2a3f5f",
             "gridcolor": "white",
             "linecolor": "white",
             "minorgridcolor": "white",
             "startlinecolor": "#2a3f5f"
            },
            "baxis": {
             "endlinecolor": "#2a3f5f",
             "gridcolor": "white",
             "linecolor": "white",
             "minorgridcolor": "white",
             "startlinecolor": "#2a3f5f"
            },
            "type": "carpet"
           }
          ],
          "choropleth": [
           {
            "colorbar": {
             "outlinewidth": 0,
             "ticks": ""
            },
            "type": "choropleth"
           }
          ],
          "contour": [
           {
            "colorbar": {
             "outlinewidth": 0,
             "ticks": ""
            },
            "colorscale": [
             [
              0,
              "#0d0887"
             ],
             [
              0.1111111111111111,
              "#46039f"
             ],
             [
              0.2222222222222222,
              "#7201a8"
             ],
             [
              0.3333333333333333,
              "#9c179e"
             ],
             [
              0.4444444444444444,
              "#bd3786"
             ],
             [
              0.5555555555555556,
              "#d8576b"
             ],
             [
              0.6666666666666666,
              "#ed7953"
             ],
             [
              0.7777777777777778,
              "#fb9f3a"
             ],
             [
              0.8888888888888888,
              "#fdca26"
             ],
             [
              1,
              "#f0f921"
             ]
            ],
            "type": "contour"
           }
          ],
          "contourcarpet": [
           {
            "colorbar": {
             "outlinewidth": 0,
             "ticks": ""
            },
            "type": "contourcarpet"
           }
          ],
          "heatmap": [
           {
            "colorbar": {
             "outlinewidth": 0,
             "ticks": ""
            },
            "colorscale": [
             [
              0,
              "#0d0887"
             ],
             [
              0.1111111111111111,
              "#46039f"
             ],
             [
              0.2222222222222222,
              "#7201a8"
             ],
             [
              0.3333333333333333,
              "#9c179e"
             ],
             [
              0.4444444444444444,
              "#bd3786"
             ],
             [
              0.5555555555555556,
              "#d8576b"
             ],
             [
              0.6666666666666666,
              "#ed7953"
             ],
             [
              0.7777777777777778,
              "#fb9f3a"
             ],
             [
              0.8888888888888888,
              "#fdca26"
             ],
             [
              1,
              "#f0f921"
             ]
            ],
            "type": "heatmap"
           }
          ],
          "heatmapgl": [
           {
            "colorbar": {
             "outlinewidth": 0,
             "ticks": ""
            },
            "colorscale": [
             [
              0,
              "#0d0887"
             ],
             [
              0.1111111111111111,
              "#46039f"
             ],
             [
              0.2222222222222222,
              "#7201a8"
             ],
             [
              0.3333333333333333,
              "#9c179e"
             ],
             [
              0.4444444444444444,
              "#bd3786"
             ],
             [
              0.5555555555555556,
              "#d8576b"
             ],
             [
              0.6666666666666666,
              "#ed7953"
             ],
             [
              0.7777777777777778,
              "#fb9f3a"
             ],
             [
              0.8888888888888888,
              "#fdca26"
             ],
             [
              1,
              "#f0f921"
             ]
            ],
            "type": "heatmapgl"
           }
          ],
          "histogram": [
           {
            "marker": {
             "pattern": {
              "fillmode": "overlay",
              "size": 10,
              "solidity": 0.2
             }
            },
            "type": "histogram"
           }
          ],
          "histogram2d": [
           {
            "colorbar": {
             "outlinewidth": 0,
             "ticks": ""
            },
            "colorscale": [
             [
              0,
              "#0d0887"
             ],
             [
              0.1111111111111111,
              "#46039f"
             ],
             [
              0.2222222222222222,
              "#7201a8"
             ],
             [
              0.3333333333333333,
              "#9c179e"
             ],
             [
              0.4444444444444444,
              "#bd3786"
             ],
             [
              0.5555555555555556,
              "#d8576b"
             ],
             [
              0.6666666666666666,
              "#ed7953"
             ],
             [
              0.7777777777777778,
              "#fb9f3a"
             ],
             [
              0.8888888888888888,
              "#fdca26"
             ],
             [
              1,
              "#f0f921"
             ]
            ],
            "type": "histogram2d"
           }
          ],
          "histogram2dcontour": [
           {
            "colorbar": {
             "outlinewidth": 0,
             "ticks": ""
            },
            "colorscale": [
             [
              0,
              "#0d0887"
             ],
             [
              0.1111111111111111,
              "#46039f"
             ],
             [
              0.2222222222222222,
              "#7201a8"
             ],
             [
              0.3333333333333333,
              "#9c179e"
             ],
             [
              0.4444444444444444,
              "#bd3786"
             ],
             [
              0.5555555555555556,
              "#d8576b"
             ],
             [
              0.6666666666666666,
              "#ed7953"
             ],
             [
              0.7777777777777778,
              "#fb9f3a"
             ],
             [
              0.8888888888888888,
              "#fdca26"
             ],
             [
              1,
              "#f0f921"
             ]
            ],
            "type": "histogram2dcontour"
           }
          ],
          "mesh3d": [
           {
            "colorbar": {
             "outlinewidth": 0,
             "ticks": ""
            },
            "type": "mesh3d"
           }
          ],
          "parcoords": [
           {
            "line": {
             "colorbar": {
              "outlinewidth": 0,
              "ticks": ""
             }
            },
            "type": "parcoords"
           }
          ],
          "pie": [
           {
            "automargin": true,
            "type": "pie"
           }
          ],
          "scatter": [
           {
            "marker": {
             "colorbar": {
              "outlinewidth": 0,
              "ticks": ""
             }
            },
            "type": "scatter"
           }
          ],
          "scatter3d": [
           {
            "line": {
             "colorbar": {
              "outlinewidth": 0,
              "ticks": ""
             }
            },
            "marker": {
             "colorbar": {
              "outlinewidth": 0,
              "ticks": ""
             }
            },
            "type": "scatter3d"
           }
          ],
          "scattercarpet": [
           {
            "marker": {
             "colorbar": {
              "outlinewidth": 0,
              "ticks": ""
             }
            },
            "type": "scattercarpet"
           }
          ],
          "scattergeo": [
           {
            "marker": {
             "colorbar": {
              "outlinewidth": 0,
              "ticks": ""
             }
            },
            "type": "scattergeo"
           }
          ],
          "scattergl": [
           {
            "marker": {
             "colorbar": {
              "outlinewidth": 0,
              "ticks": ""
             }
            },
            "type": "scattergl"
           }
          ],
          "scattermapbox": [
           {
            "marker": {
             "colorbar": {
              "outlinewidth": 0,
              "ticks": ""
             }
            },
            "type": "scattermapbox"
           }
          ],
          "scatterpolar": [
           {
            "marker": {
             "colorbar": {
              "outlinewidth": 0,
              "ticks": ""
             }
            },
            "type": "scatterpolar"
           }
          ],
          "scatterpolargl": [
           {
            "marker": {
             "colorbar": {
              "outlinewidth": 0,
              "ticks": ""
             }
            },
            "type": "scatterpolargl"
           }
          ],
          "scatterternary": [
           {
            "marker": {
             "colorbar": {
              "outlinewidth": 0,
              "ticks": ""
             }
            },
            "type": "scatterternary"
           }
          ],
          "surface": [
           {
            "colorbar": {
             "outlinewidth": 0,
             "ticks": ""
            },
            "colorscale": [
             [
              0,
              "#0d0887"
             ],
             [
              0.1111111111111111,
              "#46039f"
             ],
             [
              0.2222222222222222,
              "#7201a8"
             ],
             [
              0.3333333333333333,
              "#9c179e"
             ],
             [
              0.4444444444444444,
              "#bd3786"
             ],
             [
              0.5555555555555556,
              "#d8576b"
             ],
             [
              0.6666666666666666,
              "#ed7953"
             ],
             [
              0.7777777777777778,
              "#fb9f3a"
             ],
             [
              0.8888888888888888,
              "#fdca26"
             ],
             [
              1,
              "#f0f921"
             ]
            ],
            "type": "surface"
           }
          ],
          "table": [
           {
            "cells": {
             "fill": {
              "color": "#EBF0F8"
             },
             "line": {
              "color": "white"
             }
            },
            "header": {
             "fill": {
              "color": "#C8D4E3"
             },
             "line": {
              "color": "white"
             }
            },
            "type": "table"
           }
          ]
         },
         "layout": {
          "annotationdefaults": {
           "arrowcolor": "#2a3f5f",
           "arrowhead": 0,
           "arrowwidth": 1
          },
          "autotypenumbers": "strict",
          "coloraxis": {
           "colorbar": {
            "outlinewidth": 0,
            "ticks": ""
           }
          },
          "colorscale": {
           "diverging": [
            [
             0,
             "#8e0152"
            ],
            [
             0.1,
             "#c51b7d"
            ],
            [
             0.2,
             "#de77ae"
            ],
            [
             0.3,
             "#f1b6da"
            ],
            [
             0.4,
             "#fde0ef"
            ],
            [
             0.5,
             "#f7f7f7"
            ],
            [
             0.6,
             "#e6f5d0"
            ],
            [
             0.7,
             "#b8e186"
            ],
            [
             0.8,
             "#7fbc41"
            ],
            [
             0.9,
             "#4d9221"
            ],
            [
             1,
             "#276419"
            ]
           ],
           "sequential": [
            [
             0,
             "#0d0887"
            ],
            [
             0.1111111111111111,
             "#46039f"
            ],
            [
             0.2222222222222222,
             "#7201a8"
            ],
            [
             0.3333333333333333,
             "#9c179e"
            ],
            [
             0.4444444444444444,
             "#bd3786"
            ],
            [
             0.5555555555555556,
             "#d8576b"
            ],
            [
             0.6666666666666666,
             "#ed7953"
            ],
            [
             0.7777777777777778,
             "#fb9f3a"
            ],
            [
             0.8888888888888888,
             "#fdca26"
            ],
            [
             1,
             "#f0f921"
            ]
           ],
           "sequentialminus": [
            [
             0,
             "#0d0887"
            ],
            [
             0.1111111111111111,
             "#46039f"
            ],
            [
             0.2222222222222222,
             "#7201a8"
            ],
            [
             0.3333333333333333,
             "#9c179e"
            ],
            [
             0.4444444444444444,
             "#bd3786"
            ],
            [
             0.5555555555555556,
             "#d8576b"
            ],
            [
             0.6666666666666666,
             "#ed7953"
            ],
            [
             0.7777777777777778,
             "#fb9f3a"
            ],
            [
             0.8888888888888888,
             "#fdca26"
            ],
            [
             1,
             "#f0f921"
            ]
           ]
          },
          "colorway": [
           "#636efa",
           "#EF553B",
           "#00cc96",
           "#ab63fa",
           "#FFA15A",
           "#19d3f3",
           "#FF6692",
           "#B6E880",
           "#FF97FF",
           "#FECB52"
          ],
          "font": {
           "color": "#2a3f5f"
          },
          "geo": {
           "bgcolor": "white",
           "lakecolor": "white",
           "landcolor": "#E5ECF6",
           "showlakes": true,
           "showland": true,
           "subunitcolor": "white"
          },
          "hoverlabel": {
           "align": "left"
          },
          "hovermode": "closest",
          "mapbox": {
           "style": "light"
          },
          "paper_bgcolor": "white",
          "plot_bgcolor": "#E5ECF6",
          "polar": {
           "angularaxis": {
            "gridcolor": "white",
            "linecolor": "white",
            "ticks": ""
           },
           "bgcolor": "#E5ECF6",
           "radialaxis": {
            "gridcolor": "white",
            "linecolor": "white",
            "ticks": ""
           }
          },
          "scene": {
           "xaxis": {
            "backgroundcolor": "#E5ECF6",
            "gridcolor": "white",
            "gridwidth": 2,
            "linecolor": "white",
            "showbackground": true,
            "ticks": "",
            "zerolinecolor": "white"
           },
           "yaxis": {
            "backgroundcolor": "#E5ECF6",
            "gridcolor": "white",
            "gridwidth": 2,
            "linecolor": "white",
            "showbackground": true,
            "ticks": "",
            "zerolinecolor": "white"
           },
           "zaxis": {
            "backgroundcolor": "#E5ECF6",
            "gridcolor": "white",
            "gridwidth": 2,
            "linecolor": "white",
            "showbackground": true,
            "ticks": "",
            "zerolinecolor": "white"
           }
          },
          "shapedefaults": {
           "line": {
            "color": "#2a3f5f"
           }
          },
          "ternary": {
           "aaxis": {
            "gridcolor": "white",
            "linecolor": "white",
            "ticks": ""
           },
           "baxis": {
            "gridcolor": "white",
            "linecolor": "white",
            "ticks": ""
           },
           "bgcolor": "#E5ECF6",
           "caxis": {
            "gridcolor": "white",
            "linecolor": "white",
            "ticks": ""
           }
          },
          "title": {
           "x": 0.05
          },
          "xaxis": {
           "automargin": true,
           "gridcolor": "white",
           "linecolor": "white",
           "ticks": "",
           "title": {
            "standoff": 15
           },
           "zerolinecolor": "white",
           "zerolinewidth": 2
          },
          "yaxis": {
           "automargin": true,
           "gridcolor": "white",
           "linecolor": "white",
           "ticks": "",
           "title": {
            "standoff": 15
           },
           "zerolinecolor": "white",
           "zerolinewidth": 2
          }
         }
        },
        "title": {
         "text": "Provincia: Pordenone"
        },
        "xaxis": {
         "anchor": "y",
         "domain": [
          0,
          1
         ],
         "title": {
          "text": "time_idx"
         }
        },
        "yaxis": {
         "anchor": "x",
         "domain": [
          0,
          1
         ],
         "title": {
          "text": "azoto_oraria_max"
         }
        }
       }
      }
     },
     "metadata": {},
     "output_type": "display_data"
    },
    {
     "data": {
      "application/vnd.plotly.v1+json": {
       "config": {
        "plotlyServerURL": "https://plot.ly"
       },
       "data": [
        {
         "hovertemplate": "time_idx=%{x}<br>azoto_oraria_max=%{y}<extra></extra>",
         "legendgroup": "",
         "line": {
          "color": "#636efa",
          "dash": "solid"
         },
         "marker": {
          "symbol": "circle"
         },
         "mode": "lines",
         "name": "",
         "orientation": "v",
         "showlegend": false,
         "type": "scatter",
         "x": [
          0,
          1,
          2,
          3,
          4,
          5,
          6,
          7,
          8,
          9,
          10,
          11,
          12,
          13,
          14,
          15,
          16,
          17,
          18,
          19,
          20,
          21,
          22,
          23,
          24,
          25,
          26,
          27,
          28,
          29,
          30,
          31,
          32,
          33,
          34,
          35,
          36,
          37,
          38,
          39,
          40,
          41,
          42,
          43,
          44,
          45,
          46,
          47,
          48,
          49,
          50,
          51,
          52,
          53,
          54,
          55,
          56,
          57,
          58,
          59,
          60,
          61,
          62,
          63,
          64,
          65,
          66,
          67,
          68,
          69,
          70,
          71,
          72,
          73,
          74,
          75,
          76,
          77,
          78,
          79,
          80,
          81,
          82,
          83,
          84,
          85,
          86,
          87,
          88,
          89,
          90,
          91,
          92,
          93,
          94,
          95,
          96,
          97,
          98,
          99,
          100,
          101,
          102,
          103,
          104,
          105,
          106,
          107,
          108,
          109,
          110,
          111,
          112,
          113,
          114,
          115,
          116,
          117,
          118,
          119,
          120,
          121,
          122,
          123,
          124,
          125,
          126,
          127,
          128,
          129,
          130,
          131,
          132,
          133,
          134,
          135,
          136,
          137,
          138,
          139,
          140,
          141,
          142,
          143,
          144,
          145,
          146,
          147,
          148,
          149,
          150,
          151,
          152,
          153,
          154,
          155,
          156,
          157,
          158,
          159,
          160,
          161,
          162,
          163,
          164,
          165,
          166,
          167,
          168,
          169,
          170,
          171,
          172,
          173,
          174,
          175,
          176,
          177,
          178,
          179,
          180,
          181,
          182,
          183,
          184,
          185,
          186,
          187,
          188,
          189,
          190,
          191,
          192,
          193,
          194,
          195,
          196,
          197,
          198,
          199,
          200,
          201,
          202,
          203,
          204,
          205,
          206,
          207,
          208,
          209,
          210,
          211,
          212,
          213,
          214,
          215,
          216,
          217,
          218,
          219,
          220,
          221,
          222,
          223,
          224,
          225,
          226,
          227,
          228,
          229,
          230,
          231,
          232,
          233,
          234,
          235,
          236,
          237,
          238,
          239,
          240,
          241,
          242,
          243,
          244,
          245,
          246,
          247,
          248,
          249,
          250,
          251,
          252,
          253,
          254,
          255,
          256,
          257,
          258,
          259,
          260,
          261,
          262,
          263,
          264,
          265,
          266,
          267,
          268,
          269,
          270,
          271,
          272,
          273,
          274,
          275,
          276,
          277,
          278,
          279,
          280,
          281,
          282,
          283,
          284,
          285,
          286,
          287,
          288,
          289,
          290,
          291,
          292,
          293,
          294,
          295,
          296,
          297,
          298,
          299,
          300,
          301,
          302,
          303,
          304,
          305,
          306,
          307,
          308,
          309,
          310,
          311,
          312,
          313,
          314,
          315,
          316,
          317,
          318,
          319,
          320,
          321,
          322,
          323,
          324,
          325,
          326,
          327,
          328,
          329,
          330,
          331,
          332,
          333,
          334,
          335,
          336,
          337,
          338,
          339,
          340,
          341,
          342,
          343,
          344,
          345,
          346,
          347,
          348,
          349,
          350,
          351,
          352,
          353,
          354,
          355,
          356,
          357,
          358
         ],
         "xaxis": "x",
         "y": [
          44.8878125,
          56.09190476190476,
          41.53047619047619,
          34.85595238095238,
          34.03642857142857,
          32.883809523809525,
          43.78523809523809,
          36.49714285714286,
          51.981904761904765,
          38.10642857142857,
          73.67190476190477,
          77.53809523809524,
          54.84714285714285,
          73.15285714285714,
          56.56619047619047,
          57.35285714285715,
          58.06214285714286,
          55.72714285714285,
          66.49285714285715,
          53.486428571428576,
          53.633809523809525,
          40.29071428571429,
          49.45690476190476,
          52.5647619047619,
          45.334523809523816,
          37.7597619047619,
          40.404523809523816,
          34.800714285714285,
          42.50785714285714,
          45.39142857142857,
          49.20595238095239,
          53.551904761904765,
          36.285000000000004,
          43.095238095238095,
          47.64071428571429,
          29.65904761904762,
          52.37880952380952,
          46.647619047619045,
          36.651428571428575,
          33.017380952380954,
          33.584761904761905,
          28.34047619047619,
          32.51952380952381,
          26.345238095238095,
          33.975476190476186,
          28.025714285714287,
          41.74880952380953,
          36.095238095238095,
          18.115714285714287,
          53.17761904761905,
          51.41809523809524,
          37.0747619047619,
          51.86666666666666,
          50.8352380952381,
          48.746428571428574,
          39.90095238095238,
          29.320476190476192,
          30.199047619047615,
          57.57476190476191,
          15.903095238095238,
          24.636904761904763,
          30.92309523809524,
          51.99666666666667,
          38.88119047619047,
          37.36071428571428,
          31.678571428571427,
          46.84452380952381,
          46.87738095238095,
          51.18809523809524,
          42.50833333333333,
          49.08833333333333,
          41.77476190476191,
          37.6202380952381,
          44.674285714285716,
          64.77357142857143,
          57.64666666666666,
          31.268571428571427,
          46.94571428571429,
          61.35666666666667,
          49.562380952380956,
          59.15880952380952,
          46.78285714285715,
          36.67857142857143,
          24.41095238095238,
          34.97785714285714,
          21.478809523809524,
          60.2347619047619,
          43.43904761904762,
          39.83428571428571,
          41.45952380952381,
          36.695952380952384,
          26.36642857142857,
          33.89642857142857,
          47.38166666666667,
          47.350476190476186,
          45.15857142857143,
          77.54190476190476,
          67.14071428571428,
          50.20119047619047,
          40.64785714285715,
          71.92142857142856,
          68.68357142857143,
          81.28357142857143,
          60.527857142857144,
          63.097727272727276,
          51.06357142857143,
          47.96,
          82.19238095238096,
          57.79047619047619,
          68.46238095238095,
          62.74190476190476,
          51.49452380952381,
          61.58857142857143,
          43.99904761904762,
          65.08333333333333,
          59.82238095238095,
          61.19238095238095,
          53.21380952380952,
          54.453809523809525,
          51.65452380952381,
          43.27952380952381,
          51.74809523809524,
          46.78690476190476,
          53.187619047619044,
          57.99321428571428,
          42.10095238095238,
          54.89178571428572,
          46.53678571428571,
          40.86535714285714,
          48.57047619047619,
          54.45059523809524,
          35.16619047619047,
          46.305,
          40.94819444444445,
          42.22392857142857,
          44.8027380952381,
          49.3702380952381,
          42.74916666666667,
          56.390119047619045,
          34.355357142857144,
          47.127023809523806,
          48.3102380952381,
          67.86119047619047,
          44.3172619047619,
          52.29678571428572,
          43.23130952380952,
          59.169761904761906,
          40.276428571428575,
          53.0725,
          63.98047619047619,
          58.451547619047616,
          49.84940476190476,
          68.98404761904762,
          68.19154761904761,
          62.610238095238095,
          61.92638888888889,
          52.24466666666666,
          64.94785714285715,
          31.465,
          59.56119047619047,
          90.66833333333334,
          48.094047619047615,
          90.46690476190476,
          95.24857142857142,
          79.71571428571428,
          69.99380952380952,
          108.49380952380953,
          90.34095238095237,
          101.33142857142856,
          69.37190476190476,
          73.7088095238095,
          51.660000000000004,
          43.34404761904762,
          55.301904761904765,
          50.91952380952381,
          56.01880952380952,
          54.1347619047619,
          42.87380952380953,
          52.72380952380952,
          54.94571428571429,
          57.1922619047619,
          46.255833333333335,
          59.669761904761906,
          36.63607142857143,
          66.50750000000001,
          56.66857142857143,
          72.53011904761904,
          54.64357142857143,
          48.792857142857144,
          56.792500000000004,
          41.01857142857143,
          47.20964285714285,
          39.67583333333333,
          41.86845238095238,
          19.78464285714286,
          49.496071428571426,
          60.87238095238096,
          57.24964285714286,
          40.02619047619048,
          33.14464285714286,
          23.675357142857145,
          17.399166666666666,
          51.43642857142857,
          41.81321428571429,
          68.05333333333333,
          52.02190476190476,
          74.70023809523809,
          48.937916666666666,
          60.944375,
          45.115476190476194,
          66.00428571428571,
          74.82333333333334,
          40.96738095238095,
          55.55666666666667,
          56.49928571428571,
          16.764285714285712,
          57.71476190476191,
          77.3107142857143,
          62.74714285714286,
          32.721428571428575,
          62.807857142857145,
          38.92357142857143,
          60.24857142857143,
          57.112142857142864,
          69.80857142857143,
          39.887857142857136,
          48.81785714285714,
          37.87857142857143,
          46.337857142857146,
          48.614285714285714,
          33.12642857142857,
          34.13785714285714,
          41.95142857142857,
          40.02428571428572,
          56.17714285714286,
          42.24714285714286,
          51.26428571428572,
          61.88428571428572,
          51.74571428571429,
          42.458571428571425,
          28.263571428571428,
          40.69,
          33.807857142857145,
          50.050000000000004,
          63.81142857142857,
          58.878571428571426,
          35.925714285714285,
          36.527857142857144,
          41.29714285714285,
          51.42928571428571,
          47.037142857142854,
          39.669285714285714,
          48.48357142857143,
          28.250714285714285,
          34.33214285714286,
          36.574285714285715,
          53.44357142857143,
          54.767857142857146,
          38.79071428571428,
          54.73428571428571,
          63.729166666666664,
          61.18214285714286,
          58.810714285714276,
          32.14714285714286,
          39.60095238095238,
          49.144285714285715,
          63.99857142857143,
          77.15095238095238,
          70.68142857142857,
          66.95642857142857,
          66.10571428571428,
          47.295,
          49.65380952380953,
          54.824285714285715,
          42.64214285714286,
          55.74404761904761,
          34.64142857142857,
          43.09428571428571,
          53.614285714285714,
          34.42166666666667,
          52.790476190476184,
          48.43285714285714,
          49.84904761904762,
          45.17190476190476,
          40.603809523809524,
          46.429047619047616,
          41.017380952380954,
          33.00285714285714,
          46.44761904761905,
          44.09761904761905,
          31.83571428571429,
          36.78333333333334,
          33.95095238095238,
          30.33404761904762,
          29.30761904761905,
          18.115714285714287,
          38.395714285714284,
          42.21404761904762,
          39.53738095238095,
          43.10928571428571,
          35.066428571428574,
          36.187380952380956,
          46.461666666666666,
          29.340238095238096,
          47.75333333333333,
          37.77571428571429,
          45.89119047619048,
          40.560476190476194,
          53.97166666666667,
          46.90952380952381,
          52.08380952380953,
          43.162619047619046,
          59.716666666666676,
          66.64214285714286,
          60.01142857142857,
          63.65,
          45.53357142857143,
          47.29095238095238,
          59.702063472242045,
          30.24415032354405,
          23.578198976971375,
          37.37954490493779,
          42.3041734186345,
          39.68550175427976,
          22.334978372848383,
          23.73133593247047,
          46.288088091439185,
          36.49062771445391,
          24.026405747553575,
          26.92495744015908,
          37.99154337250449,
          25.45914577076387,
          24.574986183443936,
          29.35394422946668,
          33.435750131861084,
          30.620855160765608,
          29.64678098890001,
          40.860545902607235,
          24.753478042130183,
          29.516851989003488,
          21.96011174030283,
          38.28201898793444,
          47.65734804845692,
          24.23273926812104,
          40.96755182676519,
          34.14409418202765,
          28.459131624423964,
          39.15864867109269,
          24.80040621809277,
          26.627225043091407,
          43.03523809523809,
          50.185643939393934,
          53.06803174603175,
          41.09501310829114,
          50.139993891113384,
          42.551113622089545,
          45.72442939855843,
          42.863146645021644,
          39.68666666666667
         ],
         "yaxis": "y"
        }
       ],
       "layout": {
        "legend": {
         "tracegroupgap": 0
        },
        "template": {
         "data": {
          "bar": [
           {
            "error_x": {
             "color": "#2a3f5f"
            },
            "error_y": {
             "color": "#2a3f5f"
            },
            "marker": {
             "line": {
              "color": "#E5ECF6",
              "width": 0.5
             },
             "pattern": {
              "fillmode": "overlay",
              "size": 10,
              "solidity": 0.2
             }
            },
            "type": "bar"
           }
          ],
          "barpolar": [
           {
            "marker": {
             "line": {
              "color": "#E5ECF6",
              "width": 0.5
             },
             "pattern": {
              "fillmode": "overlay",
              "size": 10,
              "solidity": 0.2
             }
            },
            "type": "barpolar"
           }
          ],
          "carpet": [
           {
            "aaxis": {
             "endlinecolor": "#2a3f5f",
             "gridcolor": "white",
             "linecolor": "white",
             "minorgridcolor": "white",
             "startlinecolor": "#2a3f5f"
            },
            "baxis": {
             "endlinecolor": "#2a3f5f",
             "gridcolor": "white",
             "linecolor": "white",
             "minorgridcolor": "white",
             "startlinecolor": "#2a3f5f"
            },
            "type": "carpet"
           }
          ],
          "choropleth": [
           {
            "colorbar": {
             "outlinewidth": 0,
             "ticks": ""
            },
            "type": "choropleth"
           }
          ],
          "contour": [
           {
            "colorbar": {
             "outlinewidth": 0,
             "ticks": ""
            },
            "colorscale": [
             [
              0,
              "#0d0887"
             ],
             [
              0.1111111111111111,
              "#46039f"
             ],
             [
              0.2222222222222222,
              "#7201a8"
             ],
             [
              0.3333333333333333,
              "#9c179e"
             ],
             [
              0.4444444444444444,
              "#bd3786"
             ],
             [
              0.5555555555555556,
              "#d8576b"
             ],
             [
              0.6666666666666666,
              "#ed7953"
             ],
             [
              0.7777777777777778,
              "#fb9f3a"
             ],
             [
              0.8888888888888888,
              "#fdca26"
             ],
             [
              1,
              "#f0f921"
             ]
            ],
            "type": "contour"
           }
          ],
          "contourcarpet": [
           {
            "colorbar": {
             "outlinewidth": 0,
             "ticks": ""
            },
            "type": "contourcarpet"
           }
          ],
          "heatmap": [
           {
            "colorbar": {
             "outlinewidth": 0,
             "ticks": ""
            },
            "colorscale": [
             [
              0,
              "#0d0887"
             ],
             [
              0.1111111111111111,
              "#46039f"
             ],
             [
              0.2222222222222222,
              "#7201a8"
             ],
             [
              0.3333333333333333,
              "#9c179e"
             ],
             [
              0.4444444444444444,
              "#bd3786"
             ],
             [
              0.5555555555555556,
              "#d8576b"
             ],
             [
              0.6666666666666666,
              "#ed7953"
             ],
             [
              0.7777777777777778,
              "#fb9f3a"
             ],
             [
              0.8888888888888888,
              "#fdca26"
             ],
             [
              1,
              "#f0f921"
             ]
            ],
            "type": "heatmap"
           }
          ],
          "heatmapgl": [
           {
            "colorbar": {
             "outlinewidth": 0,
             "ticks": ""
            },
            "colorscale": [
             [
              0,
              "#0d0887"
             ],
             [
              0.1111111111111111,
              "#46039f"
             ],
             [
              0.2222222222222222,
              "#7201a8"
             ],
             [
              0.3333333333333333,
              "#9c179e"
             ],
             [
              0.4444444444444444,
              "#bd3786"
             ],
             [
              0.5555555555555556,
              "#d8576b"
             ],
             [
              0.6666666666666666,
              "#ed7953"
             ],
             [
              0.7777777777777778,
              "#fb9f3a"
             ],
             [
              0.8888888888888888,
              "#fdca26"
             ],
             [
              1,
              "#f0f921"
             ]
            ],
            "type": "heatmapgl"
           }
          ],
          "histogram": [
           {
            "marker": {
             "pattern": {
              "fillmode": "overlay",
              "size": 10,
              "solidity": 0.2
             }
            },
            "type": "histogram"
           }
          ],
          "histogram2d": [
           {
            "colorbar": {
             "outlinewidth": 0,
             "ticks": ""
            },
            "colorscale": [
             [
              0,
              "#0d0887"
             ],
             [
              0.1111111111111111,
              "#46039f"
             ],
             [
              0.2222222222222222,
              "#7201a8"
             ],
             [
              0.3333333333333333,
              "#9c179e"
             ],
             [
              0.4444444444444444,
              "#bd3786"
             ],
             [
              0.5555555555555556,
              "#d8576b"
             ],
             [
              0.6666666666666666,
              "#ed7953"
             ],
             [
              0.7777777777777778,
              "#fb9f3a"
             ],
             [
              0.8888888888888888,
              "#fdca26"
             ],
             [
              1,
              "#f0f921"
             ]
            ],
            "type": "histogram2d"
           }
          ],
          "histogram2dcontour": [
           {
            "colorbar": {
             "outlinewidth": 0,
             "ticks": ""
            },
            "colorscale": [
             [
              0,
              "#0d0887"
             ],
             [
              0.1111111111111111,
              "#46039f"
             ],
             [
              0.2222222222222222,
              "#7201a8"
             ],
             [
              0.3333333333333333,
              "#9c179e"
             ],
             [
              0.4444444444444444,
              "#bd3786"
             ],
             [
              0.5555555555555556,
              "#d8576b"
             ],
             [
              0.6666666666666666,
              "#ed7953"
             ],
             [
              0.7777777777777778,
              "#fb9f3a"
             ],
             [
              0.8888888888888888,
              "#fdca26"
             ],
             [
              1,
              "#f0f921"
             ]
            ],
            "type": "histogram2dcontour"
           }
          ],
          "mesh3d": [
           {
            "colorbar": {
             "outlinewidth": 0,
             "ticks": ""
            },
            "type": "mesh3d"
           }
          ],
          "parcoords": [
           {
            "line": {
             "colorbar": {
              "outlinewidth": 0,
              "ticks": ""
             }
            },
            "type": "parcoords"
           }
          ],
          "pie": [
           {
            "automargin": true,
            "type": "pie"
           }
          ],
          "scatter": [
           {
            "marker": {
             "colorbar": {
              "outlinewidth": 0,
              "ticks": ""
             }
            },
            "type": "scatter"
           }
          ],
          "scatter3d": [
           {
            "line": {
             "colorbar": {
              "outlinewidth": 0,
              "ticks": ""
             }
            },
            "marker": {
             "colorbar": {
              "outlinewidth": 0,
              "ticks": ""
             }
            },
            "type": "scatter3d"
           }
          ],
          "scattercarpet": [
           {
            "marker": {
             "colorbar": {
              "outlinewidth": 0,
              "ticks": ""
             }
            },
            "type": "scattercarpet"
           }
          ],
          "scattergeo": [
           {
            "marker": {
             "colorbar": {
              "outlinewidth": 0,
              "ticks": ""
             }
            },
            "type": "scattergeo"
           }
          ],
          "scattergl": [
           {
            "marker": {
             "colorbar": {
              "outlinewidth": 0,
              "ticks": ""
             }
            },
            "type": "scattergl"
           }
          ],
          "scattermapbox": [
           {
            "marker": {
             "colorbar": {
              "outlinewidth": 0,
              "ticks": ""
             }
            },
            "type": "scattermapbox"
           }
          ],
          "scatterpolar": [
           {
            "marker": {
             "colorbar": {
              "outlinewidth": 0,
              "ticks": ""
             }
            },
            "type": "scatterpolar"
           }
          ],
          "scatterpolargl": [
           {
            "marker": {
             "colorbar": {
              "outlinewidth": 0,
              "ticks": ""
             }
            },
            "type": "scatterpolargl"
           }
          ],
          "scatterternary": [
           {
            "marker": {
             "colorbar": {
              "outlinewidth": 0,
              "ticks": ""
             }
            },
            "type": "scatterternary"
           }
          ],
          "surface": [
           {
            "colorbar": {
             "outlinewidth": 0,
             "ticks": ""
            },
            "colorscale": [
             [
              0,
              "#0d0887"
             ],
             [
              0.1111111111111111,
              "#46039f"
             ],
             [
              0.2222222222222222,
              "#7201a8"
             ],
             [
              0.3333333333333333,
              "#9c179e"
             ],
             [
              0.4444444444444444,
              "#bd3786"
             ],
             [
              0.5555555555555556,
              "#d8576b"
             ],
             [
              0.6666666666666666,
              "#ed7953"
             ],
             [
              0.7777777777777778,
              "#fb9f3a"
             ],
             [
              0.8888888888888888,
              "#fdca26"
             ],
             [
              1,
              "#f0f921"
             ]
            ],
            "type": "surface"
           }
          ],
          "table": [
           {
            "cells": {
             "fill": {
              "color": "#EBF0F8"
             },
             "line": {
              "color": "white"
             }
            },
            "header": {
             "fill": {
              "color": "#C8D4E3"
             },
             "line": {
              "color": "white"
             }
            },
            "type": "table"
           }
          ]
         },
         "layout": {
          "annotationdefaults": {
           "arrowcolor": "#2a3f5f",
           "arrowhead": 0,
           "arrowwidth": 1
          },
          "autotypenumbers": "strict",
          "coloraxis": {
           "colorbar": {
            "outlinewidth": 0,
            "ticks": ""
           }
          },
          "colorscale": {
           "diverging": [
            [
             0,
             "#8e0152"
            ],
            [
             0.1,
             "#c51b7d"
            ],
            [
             0.2,
             "#de77ae"
            ],
            [
             0.3,
             "#f1b6da"
            ],
            [
             0.4,
             "#fde0ef"
            ],
            [
             0.5,
             "#f7f7f7"
            ],
            [
             0.6,
             "#e6f5d0"
            ],
            [
             0.7,
             "#b8e186"
            ],
            [
             0.8,
             "#7fbc41"
            ],
            [
             0.9,
             "#4d9221"
            ],
            [
             1,
             "#276419"
            ]
           ],
           "sequential": [
            [
             0,
             "#0d0887"
            ],
            [
             0.1111111111111111,
             "#46039f"
            ],
            [
             0.2222222222222222,
             "#7201a8"
            ],
            [
             0.3333333333333333,
             "#9c179e"
            ],
            [
             0.4444444444444444,
             "#bd3786"
            ],
            [
             0.5555555555555556,
             "#d8576b"
            ],
            [
             0.6666666666666666,
             "#ed7953"
            ],
            [
             0.7777777777777778,
             "#fb9f3a"
            ],
            [
             0.8888888888888888,
             "#fdca26"
            ],
            [
             1,
             "#f0f921"
            ]
           ],
           "sequentialminus": [
            [
             0,
             "#0d0887"
            ],
            [
             0.1111111111111111,
             "#46039f"
            ],
            [
             0.2222222222222222,
             "#7201a8"
            ],
            [
             0.3333333333333333,
             "#9c179e"
            ],
            [
             0.4444444444444444,
             "#bd3786"
            ],
            [
             0.5555555555555556,
             "#d8576b"
            ],
            [
             0.6666666666666666,
             "#ed7953"
            ],
            [
             0.7777777777777778,
             "#fb9f3a"
            ],
            [
             0.8888888888888888,
             "#fdca26"
            ],
            [
             1,
             "#f0f921"
            ]
           ]
          },
          "colorway": [
           "#636efa",
           "#EF553B",
           "#00cc96",
           "#ab63fa",
           "#FFA15A",
           "#19d3f3",
           "#FF6692",
           "#B6E880",
           "#FF97FF",
           "#FECB52"
          ],
          "font": {
           "color": "#2a3f5f"
          },
          "geo": {
           "bgcolor": "white",
           "lakecolor": "white",
           "landcolor": "#E5ECF6",
           "showlakes": true,
           "showland": true,
           "subunitcolor": "white"
          },
          "hoverlabel": {
           "align": "left"
          },
          "hovermode": "closest",
          "mapbox": {
           "style": "light"
          },
          "paper_bgcolor": "white",
          "plot_bgcolor": "#E5ECF6",
          "polar": {
           "angularaxis": {
            "gridcolor": "white",
            "linecolor": "white",
            "ticks": ""
           },
           "bgcolor": "#E5ECF6",
           "radialaxis": {
            "gridcolor": "white",
            "linecolor": "white",
            "ticks": ""
           }
          },
          "scene": {
           "xaxis": {
            "backgroundcolor": "#E5ECF6",
            "gridcolor": "white",
            "gridwidth": 2,
            "linecolor": "white",
            "showbackground": true,
            "ticks": "",
            "zerolinecolor": "white"
           },
           "yaxis": {
            "backgroundcolor": "#E5ECF6",
            "gridcolor": "white",
            "gridwidth": 2,
            "linecolor": "white",
            "showbackground": true,
            "ticks": "",
            "zerolinecolor": "white"
           },
           "zaxis": {
            "backgroundcolor": "#E5ECF6",
            "gridcolor": "white",
            "gridwidth": 2,
            "linecolor": "white",
            "showbackground": true,
            "ticks": "",
            "zerolinecolor": "white"
           }
          },
          "shapedefaults": {
           "line": {
            "color": "#2a3f5f"
           }
          },
          "ternary": {
           "aaxis": {
            "gridcolor": "white",
            "linecolor": "white",
            "ticks": ""
           },
           "baxis": {
            "gridcolor": "white",
            "linecolor": "white",
            "ticks": ""
           },
           "bgcolor": "#E5ECF6",
           "caxis": {
            "gridcolor": "white",
            "linecolor": "white",
            "ticks": ""
           }
          },
          "title": {
           "x": 0.05
          },
          "xaxis": {
           "automargin": true,
           "gridcolor": "white",
           "linecolor": "white",
           "ticks": "",
           "title": {
            "standoff": 15
           },
           "zerolinecolor": "white",
           "zerolinewidth": 2
          },
          "yaxis": {
           "automargin": true,
           "gridcolor": "white",
           "linecolor": "white",
           "ticks": "",
           "title": {
            "standoff": 15
           },
           "zerolinecolor": "white",
           "zerolinewidth": 2
          }
         }
        },
        "title": {
         "text": "Provincia: Trieste"
        },
        "xaxis": {
         "anchor": "y",
         "domain": [
          0,
          1
         ],
         "title": {
          "text": "time_idx"
         }
        },
        "yaxis": {
         "anchor": "x",
         "domain": [
          0,
          1
         ],
         "title": {
          "text": "azoto_oraria_max"
         }
        }
       }
      }
     },
     "metadata": {},
     "output_type": "display_data"
    },
    {
     "data": {
      "application/vnd.plotly.v1+json": {
       "config": {
        "plotlyServerURL": "https://plot.ly"
       },
       "data": [
        {
         "hovertemplate": "time_idx=%{x}<br>azoto_oraria_max=%{y}<extra></extra>",
         "legendgroup": "",
         "line": {
          "color": "#636efa",
          "dash": "solid"
         },
         "marker": {
          "symbol": "circle"
         },
         "mode": "lines",
         "name": "",
         "orientation": "v",
         "showlegend": false,
         "type": "scatter",
         "x": [
          0,
          1,
          2,
          3,
          4,
          5,
          6,
          7,
          8,
          9,
          10,
          11,
          12,
          13,
          14,
          15,
          16,
          17,
          18,
          19,
          20,
          21,
          22,
          23,
          24,
          25,
          26,
          27,
          28,
          29,
          30,
          31,
          32,
          33,
          34,
          35,
          36,
          37,
          38,
          39,
          40,
          41,
          42,
          43,
          44,
          45,
          46,
          47,
          48,
          49,
          50,
          51,
          52,
          53,
          54,
          55,
          56,
          57,
          58,
          59,
          60,
          61,
          62,
          63,
          64,
          65,
          66,
          67,
          68,
          69,
          70,
          71,
          72,
          73,
          74,
          75,
          76,
          77,
          78,
          79,
          80,
          81,
          82,
          83,
          84,
          85,
          86,
          87,
          88,
          89,
          90,
          91,
          92,
          93,
          94,
          95,
          96,
          97,
          98,
          99,
          100,
          101,
          102,
          103,
          104,
          105,
          106,
          107,
          108,
          109,
          110,
          111,
          112,
          113,
          114,
          115,
          116,
          117,
          118,
          119,
          120,
          121,
          122,
          123,
          124,
          125,
          126,
          127,
          128,
          129,
          130,
          131,
          132,
          133,
          134,
          135,
          136,
          137,
          138,
          139,
          140,
          141,
          142,
          143,
          144,
          145,
          146,
          147,
          148,
          149,
          150,
          151,
          152,
          153,
          154,
          155,
          156,
          157,
          158,
          159,
          160,
          161,
          162,
          163,
          164,
          165,
          166,
          167,
          168,
          169,
          170,
          171,
          172,
          173,
          174,
          175,
          176,
          177,
          178,
          179,
          180,
          181,
          182,
          183,
          184,
          185,
          186,
          187,
          188,
          189,
          190,
          191,
          192,
          193,
          194,
          195,
          196,
          197,
          198,
          199,
          200,
          201,
          202,
          203,
          204,
          205,
          206,
          207,
          208,
          209,
          210,
          211,
          212,
          213,
          214,
          215,
          216,
          217,
          218,
          219,
          220,
          221,
          222,
          223,
          224,
          225,
          226,
          227,
          228,
          229,
          230,
          231,
          232,
          233,
          234,
          235,
          236,
          237,
          238,
          239,
          240,
          241,
          242,
          243,
          244,
          245,
          246,
          247,
          248,
          249,
          250,
          251,
          252,
          253,
          254,
          255,
          256,
          257,
          258,
          259,
          260,
          261,
          262,
          263,
          264,
          265,
          266,
          267,
          268,
          269,
          270,
          271,
          272,
          273,
          274,
          275,
          276,
          277,
          278,
          279,
          280,
          281,
          282,
          283,
          284,
          285,
          286,
          287,
          288,
          289,
          290,
          291,
          292,
          293,
          294,
          295,
          296,
          297,
          298,
          299,
          300,
          301,
          302,
          303,
          304,
          305,
          306,
          307,
          308,
          309,
          310,
          311,
          312,
          313,
          314,
          315,
          316,
          317,
          318,
          319,
          320,
          321,
          322,
          323,
          324,
          325,
          326,
          327,
          328,
          329,
          330,
          331,
          332,
          333,
          334,
          335,
          336,
          337,
          338,
          339,
          340,
          341,
          342,
          343,
          344,
          345,
          346,
          347,
          348,
          349,
          350,
          351,
          352,
          353,
          354,
          355,
          356,
          357,
          358
         ],
         "xaxis": "x",
         "y": [
          30.025666666666666,
          36.426095238095236,
          30.136595238095236,
          29.751714285714286,
          21.938738095238097,
          26.98095238095238,
          33.10054761904762,
          33.71321428571429,
          28.059380952380952,
          25.90659523809524,
          33.06138095238095,
          38.729,
          37.3992619047619,
          31.897380952380953,
          33.162214285714285,
          24.679928571428572,
          24.885285714285715,
          19.357499999999998,
          19.8075,
          17.724857142857143,
          18.239738095238092,
          17.034857142857142,
          18.634642857142858,
          16.386190476190475,
          23.560214285714288,
          15.026,
          16.8715,
          14.380571428571429,
          19.99514285714286,
          18.854000000000003,
          14.57447619047619,
          13.017214285714285,
          12.825428571428573,
          13.625714285714285,
          20.475785714285713,
          18.73928571428571,
          19.59457142857143,
          22.14085714285714,
          22.911714285714286,
          23.510785714285714,
          26.260928571428572,
          28.019238095238098,
          19.038357142857144,
          43.39485714285714,
          25.505285714285716,
          27.426571428571428,
          36.86240476190476,
          26.993333333333332,
          19.021714285714285,
          38.52607142857143,
          29.86357142857143,
          26.33178571428571,
          35.2935,
          39.38257142857143,
          38.151785714285715,
          33.957142857142856,
          35.85914285714286,
          28.151714285714284,
          44.345285714285716,
          39.34492857142857,
          28.62885714285714,
          27.79592857142857,
          39.445142857142855,
          32.534642857142856,
          34.130857142857145,
          23.60942857142857,
          18.68197619047619,
          25.786857142857144,
          21.794642857142858,
          17.613142857142858,
          18.150714285714287,
          14.43507142857143,
          12.256142857142859,
          17.126857142857144,
          15.319571428571427,
          13.891714285714286,
          12.030071428571429,
          11.51392857142857,
          17.1995,
          14.0235,
          19.23092857142857,
          15.045428571428571,
          9.779857142857143,
          12.736857142857144,
          17.178857142857144,
          13.422785714285714,
          18.247214285714286,
          15.049571428571427,
          18.46019047619048,
          17.254285714285714,
          22.3235,
          17.471285714285717,
          21.28742857142857,
          19.212714285714288,
          33.95285714285714,
          30.88742857142857,
          42.862857142857145,
          32.66426190476191,
          28.120071428571432,
          29.184785714285713,
          32.38885714285714,
          37.516357142857146,
          50.87285714285714,
          37.75692857142857,
          36.94690909090909,
          44.59952380952381,
          63.337666666666664,
          56.487142857142864,
          46.73323809523809,
          36.77557142857143,
          43.239714285714285,
          37.666999999999994,
          35.463142857142856,
          32.903,
          42.5555,
          35.25121428571429,
          31.022571428571432,
          34.00771428571428,
          31.738476190476188,
          21.48314285714286,
          16.577285714285715,
          23.191285714285716,
          16.861428571428572,
          19.099999999999998,
          16.791142857142855,
          15.626619047619048,
          15.896571428571429,
          15.53792857142857,
          17.937785714285713,
          11.72547619047619,
          16.557928571428572,
          17.724642857142857,
          19.779357142857144,
          18.739333333333335,
          21.937714285714286,
          16.158785714285717,
          14.976,
          17.257142857142856,
          18.548785714285714,
          18.99857142857143,
          22.774,
          21.826714285714285,
          28.17421428571429,
          28.350785714285713,
          31.477571428571427,
          31.11538095238095,
          34.97702380952381,
          34.8315,
          36.01314285714285,
          45.25169047619048,
          40.250190476190475,
          46.199380952380956,
          60.35192857142857,
          58.36364285714286,
          54.029857142857146,
          53.157999999999994,
          49.66845,
          50.540000000000006,
          35.36864285714286,
          60.31892857142857,
          53.94114285714286,
          30.59342857142857,
          59.507285714285715,
          50.31057142857143,
          42.23885714285715,
          38.48957142857143,
          52.52471428571429,
          34.75385714285714,
          37.58371428571429,
          27.282285714285713,
          28.313714285714287,
          25.02292857142857,
          17.7635,
          22.826857142857143,
          19.858714285714285,
          21.8,
          22.484357142857142,
          18.41107142857143,
          21.461214285714284,
          20.866214285714285,
          23.23085714285714,
          18.014285714285716,
          19.117142857142856,
          19.779880952380953,
          21.753071428571428,
          18.597571428571428,
          23.346642857142857,
          18.935785714285714,
          17.995857142857144,
          27.5855,
          16.82188095238095,
          17.429619047619045,
          19.759785714285716,
          24.03392857142857,
          24.524642857142858,
          36.419,
          38.462738095238095,
          40.07492857142857,
          47.579,
          48.39657142857143,
          36.981142857142856,
          30.877000000000002,
          50.854499999999994,
          42.50557142857143,
          55.040642857142856,
          47.16171428571429,
          61.11085714285714,
          45.4015,
          44.4540625,
          40.78457142857143,
          48.875857142857136,
          63.26492857142858,
          40.276714285714284,
          47.090761904761905,
          58.873428571428576,
          22.485642857142857,
          44.10585714285714,
          43.143857142857144,
          28.65507142857143,
          23.929714285714287,
          29.438,
          28.364857142857144,
          27.424285714285713,
          27.01814285714286,
          26.16338095238095,
          21.166285714285713,
          18.608,
          22.705214285714284,
          19.552357142857144,
          20.669999999999998,
          21.371999999999996,
          23.016785714285714,
          23.819214285714285,
          25.602285714285717,
          23.289714285714286,
          18.026357142857144,
          19.534285714285716,
          22.223142857142857,
          22.89342857142857,
          21.24857142857143,
          13.339142857142857,
          15.634357142857143,
          17.970285714285716,
          20.3425,
          23.981,
          26.005,
          28.764357142857143,
          27.119142857142855,
          35.126285714285714,
          40.9635,
          36.372928571428574,
          27.377214285714285,
          31.374857142857145,
          29.281428571428574,
          27.980880952380954,
          35.197714285714284,
          35.215357142857144,
          44.84514285714287,
          45.524,
          38.92771428571429,
          52.036625,
          51.62978571428572,
          53.601642857142856,
          40.10907142857143,
          36.778999999999996,
          52.09807142857143,
          52.199999999999996,
          50.94871428571429,
          54.98107142857143,
          30.048785714285714,
          23.293142857142858,
          31.382714285714282,
          33.52214285714286,
          32.541000000000004,
          26.055142857142858,
          25.28142857142857,
          13.929642857142856,
          21.91371428571429,
          21.081714285714288,
          18.793785714285715,
          17.6615,
          14.911785714285713,
          18.478357142857142,
          22.63485714285714,
          24.30057142857143,
          37.26392857142857,
          21.117785714285713,
          17.461214285714284,
          21.39314285714286,
          24.830714285714286,
          14.537428571428572,
          15.397642857142857,
          14.409142857142857,
          14.453857142857142,
          24.253142857142855,
          18.321428571428573,
          22.43857142857143,
          27.843785714285712,
          23.981785714285714,
          24.535500000000003,
          27.763785714285714,
          33.639714285714284,
          45.686142857142855,
          27.981785714285714,
          28.665071428571427,
          20.854357142857143,
          30.386857142857142,
          32.81554761904762,
          44.3705,
          43.83614285714286,
          36.62,
          39.54038095238095,
          50.812,
          47.66578571428572,
          56.597047619047615,
          47.638357142857146,
          46.67314285714286,
          48.30742857142857,
          51.84941391457314,
          51.14321579830018,
          41.096793244284605,
          39.08158044943922,
          36.283185587445665,
          25.089226782712505,
          13.60570532793153,
          15.722923869974876,
          20.724949578212094,
          17.567646442225684,
          16.019737166787124,
          13.914642027502296,
          18.83224756752858,
          16.845566329403823,
          18.3203892417798,
          17.54951466053662,
          15.653766563294502,
          15.171211126916461,
          16.29798778691308,
          17.439532021674676,
          16.039834144971397,
          15.403874469471276,
          12.146294209607536,
          16.198685352107052,
          19.564864602439176,
          16.337906291343305,
          16.114703388700306,
          14.705784276883277,
          16.899482666526215,
          19.278699148922982,
          22.36404142691817,
          24.43734237757192,
          22.0454693877551,
          18.963984066353817,
          30.523354441619855,
          29.675871039598444,
          32.20698710704222,
          35.57281164671876,
          39.42656699966305,
          41.3564161606377,
          40.93380952380952
         ],
         "yaxis": "y"
        }
       ],
       "layout": {
        "legend": {
         "tracegroupgap": 0
        },
        "template": {
         "data": {
          "bar": [
           {
            "error_x": {
             "color": "#2a3f5f"
            },
            "error_y": {
             "color": "#2a3f5f"
            },
            "marker": {
             "line": {
              "color": "#E5ECF6",
              "width": 0.5
             },
             "pattern": {
              "fillmode": "overlay",
              "size": 10,
              "solidity": 0.2
             }
            },
            "type": "bar"
           }
          ],
          "barpolar": [
           {
            "marker": {
             "line": {
              "color": "#E5ECF6",
              "width": 0.5
             },
             "pattern": {
              "fillmode": "overlay",
              "size": 10,
              "solidity": 0.2
             }
            },
            "type": "barpolar"
           }
          ],
          "carpet": [
           {
            "aaxis": {
             "endlinecolor": "#2a3f5f",
             "gridcolor": "white",
             "linecolor": "white",
             "minorgridcolor": "white",
             "startlinecolor": "#2a3f5f"
            },
            "baxis": {
             "endlinecolor": "#2a3f5f",
             "gridcolor": "white",
             "linecolor": "white",
             "minorgridcolor": "white",
             "startlinecolor": "#2a3f5f"
            },
            "type": "carpet"
           }
          ],
          "choropleth": [
           {
            "colorbar": {
             "outlinewidth": 0,
             "ticks": ""
            },
            "type": "choropleth"
           }
          ],
          "contour": [
           {
            "colorbar": {
             "outlinewidth": 0,
             "ticks": ""
            },
            "colorscale": [
             [
              0,
              "#0d0887"
             ],
             [
              0.1111111111111111,
              "#46039f"
             ],
             [
              0.2222222222222222,
              "#7201a8"
             ],
             [
              0.3333333333333333,
              "#9c179e"
             ],
             [
              0.4444444444444444,
              "#bd3786"
             ],
             [
              0.5555555555555556,
              "#d8576b"
             ],
             [
              0.6666666666666666,
              "#ed7953"
             ],
             [
              0.7777777777777778,
              "#fb9f3a"
             ],
             [
              0.8888888888888888,
              "#fdca26"
             ],
             [
              1,
              "#f0f921"
             ]
            ],
            "type": "contour"
           }
          ],
          "contourcarpet": [
           {
            "colorbar": {
             "outlinewidth": 0,
             "ticks": ""
            },
            "type": "contourcarpet"
           }
          ],
          "heatmap": [
           {
            "colorbar": {
             "outlinewidth": 0,
             "ticks": ""
            },
            "colorscale": [
             [
              0,
              "#0d0887"
             ],
             [
              0.1111111111111111,
              "#46039f"
             ],
             [
              0.2222222222222222,
              "#7201a8"
             ],
             [
              0.3333333333333333,
              "#9c179e"
             ],
             [
              0.4444444444444444,
              "#bd3786"
             ],
             [
              0.5555555555555556,
              "#d8576b"
             ],
             [
              0.6666666666666666,
              "#ed7953"
             ],
             [
              0.7777777777777778,
              "#fb9f3a"
             ],
             [
              0.8888888888888888,
              "#fdca26"
             ],
             [
              1,
              "#f0f921"
             ]
            ],
            "type": "heatmap"
           }
          ],
          "heatmapgl": [
           {
            "colorbar": {
             "outlinewidth": 0,
             "ticks": ""
            },
            "colorscale": [
             [
              0,
              "#0d0887"
             ],
             [
              0.1111111111111111,
              "#46039f"
             ],
             [
              0.2222222222222222,
              "#7201a8"
             ],
             [
              0.3333333333333333,
              "#9c179e"
             ],
             [
              0.4444444444444444,
              "#bd3786"
             ],
             [
              0.5555555555555556,
              "#d8576b"
             ],
             [
              0.6666666666666666,
              "#ed7953"
             ],
             [
              0.7777777777777778,
              "#fb9f3a"
             ],
             [
              0.8888888888888888,
              "#fdca26"
             ],
             [
              1,
              "#f0f921"
             ]
            ],
            "type": "heatmapgl"
           }
          ],
          "histogram": [
           {
            "marker": {
             "pattern": {
              "fillmode": "overlay",
              "size": 10,
              "solidity": 0.2
             }
            },
            "type": "histogram"
           }
          ],
          "histogram2d": [
           {
            "colorbar": {
             "outlinewidth": 0,
             "ticks": ""
            },
            "colorscale": [
             [
              0,
              "#0d0887"
             ],
             [
              0.1111111111111111,
              "#46039f"
             ],
             [
              0.2222222222222222,
              "#7201a8"
             ],
             [
              0.3333333333333333,
              "#9c179e"
             ],
             [
              0.4444444444444444,
              "#bd3786"
             ],
             [
              0.5555555555555556,
              "#d8576b"
             ],
             [
              0.6666666666666666,
              "#ed7953"
             ],
             [
              0.7777777777777778,
              "#fb9f3a"
             ],
             [
              0.8888888888888888,
              "#fdca26"
             ],
             [
              1,
              "#f0f921"
             ]
            ],
            "type": "histogram2d"
           }
          ],
          "histogram2dcontour": [
           {
            "colorbar": {
             "outlinewidth": 0,
             "ticks": ""
            },
            "colorscale": [
             [
              0,
              "#0d0887"
             ],
             [
              0.1111111111111111,
              "#46039f"
             ],
             [
              0.2222222222222222,
              "#7201a8"
             ],
             [
              0.3333333333333333,
              "#9c179e"
             ],
             [
              0.4444444444444444,
              "#bd3786"
             ],
             [
              0.5555555555555556,
              "#d8576b"
             ],
             [
              0.6666666666666666,
              "#ed7953"
             ],
             [
              0.7777777777777778,
              "#fb9f3a"
             ],
             [
              0.8888888888888888,
              "#fdca26"
             ],
             [
              1,
              "#f0f921"
             ]
            ],
            "type": "histogram2dcontour"
           }
          ],
          "mesh3d": [
           {
            "colorbar": {
             "outlinewidth": 0,
             "ticks": ""
            },
            "type": "mesh3d"
           }
          ],
          "parcoords": [
           {
            "line": {
             "colorbar": {
              "outlinewidth": 0,
              "ticks": ""
             }
            },
            "type": "parcoords"
           }
          ],
          "pie": [
           {
            "automargin": true,
            "type": "pie"
           }
          ],
          "scatter": [
           {
            "marker": {
             "colorbar": {
              "outlinewidth": 0,
              "ticks": ""
             }
            },
            "type": "scatter"
           }
          ],
          "scatter3d": [
           {
            "line": {
             "colorbar": {
              "outlinewidth": 0,
              "ticks": ""
             }
            },
            "marker": {
             "colorbar": {
              "outlinewidth": 0,
              "ticks": ""
             }
            },
            "type": "scatter3d"
           }
          ],
          "scattercarpet": [
           {
            "marker": {
             "colorbar": {
              "outlinewidth": 0,
              "ticks": ""
             }
            },
            "type": "scattercarpet"
           }
          ],
          "scattergeo": [
           {
            "marker": {
             "colorbar": {
              "outlinewidth": 0,
              "ticks": ""
             }
            },
            "type": "scattergeo"
           }
          ],
          "scattergl": [
           {
            "marker": {
             "colorbar": {
              "outlinewidth": 0,
              "ticks": ""
             }
            },
            "type": "scattergl"
           }
          ],
          "scattermapbox": [
           {
            "marker": {
             "colorbar": {
              "outlinewidth": 0,
              "ticks": ""
             }
            },
            "type": "scattermapbox"
           }
          ],
          "scatterpolar": [
           {
            "marker": {
             "colorbar": {
              "outlinewidth": 0,
              "ticks": ""
             }
            },
            "type": "scatterpolar"
           }
          ],
          "scatterpolargl": [
           {
            "marker": {
             "colorbar": {
              "outlinewidth": 0,
              "ticks": ""
             }
            },
            "type": "scatterpolargl"
           }
          ],
          "scatterternary": [
           {
            "marker": {
             "colorbar": {
              "outlinewidth": 0,
              "ticks": ""
             }
            },
            "type": "scatterternary"
           }
          ],
          "surface": [
           {
            "colorbar": {
             "outlinewidth": 0,
             "ticks": ""
            },
            "colorscale": [
             [
              0,
              "#0d0887"
             ],
             [
              0.1111111111111111,
              "#46039f"
             ],
             [
              0.2222222222222222,
              "#7201a8"
             ],
             [
              0.3333333333333333,
              "#9c179e"
             ],
             [
              0.4444444444444444,
              "#bd3786"
             ],
             [
              0.5555555555555556,
              "#d8576b"
             ],
             [
              0.6666666666666666,
              "#ed7953"
             ],
             [
              0.7777777777777778,
              "#fb9f3a"
             ],
             [
              0.8888888888888888,
              "#fdca26"
             ],
             [
              1,
              "#f0f921"
             ]
            ],
            "type": "surface"
           }
          ],
          "table": [
           {
            "cells": {
             "fill": {
              "color": "#EBF0F8"
             },
             "line": {
              "color": "white"
             }
            },
            "header": {
             "fill": {
              "color": "#C8D4E3"
             },
             "line": {
              "color": "white"
             }
            },
            "type": "table"
           }
          ]
         },
         "layout": {
          "annotationdefaults": {
           "arrowcolor": "#2a3f5f",
           "arrowhead": 0,
           "arrowwidth": 1
          },
          "autotypenumbers": "strict",
          "coloraxis": {
           "colorbar": {
            "outlinewidth": 0,
            "ticks": ""
           }
          },
          "colorscale": {
           "diverging": [
            [
             0,
             "#8e0152"
            ],
            [
             0.1,
             "#c51b7d"
            ],
            [
             0.2,
             "#de77ae"
            ],
            [
             0.3,
             "#f1b6da"
            ],
            [
             0.4,
             "#fde0ef"
            ],
            [
             0.5,
             "#f7f7f7"
            ],
            [
             0.6,
             "#e6f5d0"
            ],
            [
             0.7,
             "#b8e186"
            ],
            [
             0.8,
             "#7fbc41"
            ],
            [
             0.9,
             "#4d9221"
            ],
            [
             1,
             "#276419"
            ]
           ],
           "sequential": [
            [
             0,
             "#0d0887"
            ],
            [
             0.1111111111111111,
             "#46039f"
            ],
            [
             0.2222222222222222,
             "#7201a8"
            ],
            [
             0.3333333333333333,
             "#9c179e"
            ],
            [
             0.4444444444444444,
             "#bd3786"
            ],
            [
             0.5555555555555556,
             "#d8576b"
            ],
            [
             0.6666666666666666,
             "#ed7953"
            ],
            [
             0.7777777777777778,
             "#fb9f3a"
            ],
            [
             0.8888888888888888,
             "#fdca26"
            ],
            [
             1,
             "#f0f921"
            ]
           ],
           "sequentialminus": [
            [
             0,
             "#0d0887"
            ],
            [
             0.1111111111111111,
             "#46039f"
            ],
            [
             0.2222222222222222,
             "#7201a8"
            ],
            [
             0.3333333333333333,
             "#9c179e"
            ],
            [
             0.4444444444444444,
             "#bd3786"
            ],
            [
             0.5555555555555556,
             "#d8576b"
            ],
            [
             0.6666666666666666,
             "#ed7953"
            ],
            [
             0.7777777777777778,
             "#fb9f3a"
            ],
            [
             0.8888888888888888,
             "#fdca26"
            ],
            [
             1,
             "#f0f921"
            ]
           ]
          },
          "colorway": [
           "#636efa",
           "#EF553B",
           "#00cc96",
           "#ab63fa",
           "#FFA15A",
           "#19d3f3",
           "#FF6692",
           "#B6E880",
           "#FF97FF",
           "#FECB52"
          ],
          "font": {
           "color": "#2a3f5f"
          },
          "geo": {
           "bgcolor": "white",
           "lakecolor": "white",
           "landcolor": "#E5ECF6",
           "showlakes": true,
           "showland": true,
           "subunitcolor": "white"
          },
          "hoverlabel": {
           "align": "left"
          },
          "hovermode": "closest",
          "mapbox": {
           "style": "light"
          },
          "paper_bgcolor": "white",
          "plot_bgcolor": "#E5ECF6",
          "polar": {
           "angularaxis": {
            "gridcolor": "white",
            "linecolor": "white",
            "ticks": ""
           },
           "bgcolor": "#E5ECF6",
           "radialaxis": {
            "gridcolor": "white",
            "linecolor": "white",
            "ticks": ""
           }
          },
          "scene": {
           "xaxis": {
            "backgroundcolor": "#E5ECF6",
            "gridcolor": "white",
            "gridwidth": 2,
            "linecolor": "white",
            "showbackground": true,
            "ticks": "",
            "zerolinecolor": "white"
           },
           "yaxis": {
            "backgroundcolor": "#E5ECF6",
            "gridcolor": "white",
            "gridwidth": 2,
            "linecolor": "white",
            "showbackground": true,
            "ticks": "",
            "zerolinecolor": "white"
           },
           "zaxis": {
            "backgroundcolor": "#E5ECF6",
            "gridcolor": "white",
            "gridwidth": 2,
            "linecolor": "white",
            "showbackground": true,
            "ticks": "",
            "zerolinecolor": "white"
           }
          },
          "shapedefaults": {
           "line": {
            "color": "#2a3f5f"
           }
          },
          "ternary": {
           "aaxis": {
            "gridcolor": "white",
            "linecolor": "white",
            "ticks": ""
           },
           "baxis": {
            "gridcolor": "white",
            "linecolor": "white",
            "ticks": ""
           },
           "bgcolor": "#E5ECF6",
           "caxis": {
            "gridcolor": "white",
            "linecolor": "white",
            "ticks": ""
           }
          },
          "title": {
           "x": 0.05
          },
          "xaxis": {
           "automargin": true,
           "gridcolor": "white",
           "linecolor": "white",
           "ticks": "",
           "title": {
            "standoff": 15
           },
           "zerolinecolor": "white",
           "zerolinewidth": 2
          },
          "yaxis": {
           "automargin": true,
           "gridcolor": "white",
           "linecolor": "white",
           "ticks": "",
           "title": {
            "standoff": 15
           },
           "zerolinecolor": "white",
           "zerolinewidth": 2
          }
         }
        },
        "title": {
         "text": "Provincia: Udine"
        },
        "xaxis": {
         "anchor": "y",
         "domain": [
          0,
          1
         ],
         "title": {
          "text": "time_idx"
         }
        },
        "yaxis": {
         "anchor": "x",
         "domain": [
          0,
          1
         ],
         "title": {
          "text": "azoto_oraria_max"
         }
        }
       }
      }
     },
     "metadata": {},
     "output_type": "display_data"
    }
   ],
   "source": [
    "import plotly.express as px\n",
    "for provincia in list(df_settimanale[\"provincia\"].unique()):\n",
    "    plot_df = df_settimanale[df_settimanale[\"provincia\"]==provincia][[\"time_idx\",\"azoto_oraria_max\"]]\n",
    "    fig = px.line(plot_df, x=\"time_idx\",y=\"azoto_oraria_max\", title=\"Provincia: {}\".format(provincia))\n",
    "    fig.show()"
   ]
  },
  {
   "cell_type": "code",
   "execution_count": 29,
   "metadata": {},
   "outputs": [
    {
     "data": {
      "application/vnd.plotly.v1+json": {
       "config": {
        "plotlyServerURL": "https://plot.ly"
       },
       "data": [
        {
         "hovertemplate": "time_idx=%{x}<br>zolfo_giornaliera=%{y}<extra></extra>",
         "legendgroup": "",
         "line": {
          "color": "#636efa",
          "dash": "solid"
         },
         "marker": {
          "symbol": "circle"
         },
         "mode": "lines",
         "name": "",
         "orientation": "v",
         "showlegend": false,
         "type": "scatter",
         "x": [
          0,
          1,
          2,
          3,
          4,
          5,
          6,
          7,
          8,
          9,
          10,
          11,
          12,
          13,
          14,
          15,
          16,
          17,
          18,
          19,
          20,
          21,
          22,
          23,
          24,
          25,
          26,
          27,
          28,
          29,
          30,
          31,
          32,
          33,
          34,
          35,
          36,
          37,
          38,
          39,
          40,
          41,
          42,
          43,
          44,
          45,
          46,
          47,
          48,
          49,
          50,
          51,
          52,
          53,
          54,
          55,
          56,
          57,
          58,
          59,
          60,
          61,
          62,
          63,
          64,
          65,
          66,
          67,
          68,
          69,
          70,
          71,
          72,
          73,
          74,
          75,
          76,
          77,
          78,
          79,
          80,
          81,
          82,
          83,
          84,
          85,
          86,
          87,
          88,
          89,
          90,
          91,
          92,
          93,
          94,
          95,
          96,
          97,
          98,
          99,
          100,
          101,
          102,
          103,
          104,
          105,
          106,
          107,
          108,
          109,
          110,
          111,
          112,
          113,
          114,
          115,
          116,
          117,
          118,
          119,
          120,
          121,
          122,
          123,
          124,
          125,
          126,
          127,
          128,
          129,
          130,
          131,
          132,
          133,
          134,
          135,
          136,
          137,
          138,
          139,
          140,
          141,
          142,
          143,
          144,
          145,
          146,
          147,
          148,
          149,
          150,
          151,
          152,
          153,
          154,
          155,
          156,
          157,
          158,
          159,
          160,
          161,
          162,
          163,
          164,
          165,
          166,
          167,
          168,
          169,
          170,
          171,
          172,
          173,
          174,
          175,
          176,
          177,
          178,
          179,
          180,
          181,
          182,
          183,
          184,
          185,
          186,
          187,
          188,
          189,
          190,
          191,
          192,
          193,
          194,
          195,
          196,
          197,
          198,
          199,
          200,
          201,
          202,
          203,
          204,
          205,
          206,
          207,
          208,
          209,
          210,
          211,
          212,
          213,
          214,
          215,
          216,
          217,
          218,
          219,
          220,
          221,
          222,
          223,
          224,
          225,
          226,
          227,
          228,
          229,
          230,
          231,
          232,
          233,
          234,
          235,
          236,
          237,
          238,
          239,
          240,
          241,
          242,
          243,
          244,
          245,
          246,
          247,
          248,
          249,
          250,
          251,
          252,
          253,
          254,
          255,
          256,
          257,
          258,
          259,
          260,
          261,
          262,
          263,
          264,
          265,
          266,
          267,
          268,
          269,
          270,
          271,
          272,
          273,
          274,
          275,
          276,
          277,
          278,
          279,
          280,
          281,
          282,
          283,
          284,
          285,
          286,
          287,
          288,
          289,
          290,
          291,
          292,
          293,
          294,
          295,
          296,
          297,
          298,
          299,
          300,
          301,
          302,
          303,
          304,
          305,
          306,
          307,
          308,
          309,
          310,
          311,
          312,
          313,
          314,
          315,
          316,
          317,
          318,
          319,
          320,
          321,
          322,
          323,
          324,
          325,
          326,
          327,
          328,
          329,
          330,
          331,
          332,
          333,
          334,
          335,
          336,
          337,
          338,
          339,
          340,
          341,
          342,
          343,
          344,
          345,
          346,
          347,
          348,
          349,
          350,
          351,
          352,
          353,
          354,
          355,
          356,
          357,
          358
         ],
         "xaxis": "x",
         "y": [
          3.66125,
          5.331904761904761,
          4.936047619047619,
          5.484761904761904,
          4.187142857142857,
          4.3116666666666665,
          4.156666666666667,
          4.05647619047619,
          4.381047619047619,
          4.873380952380953,
          5.262238095238096,
          4.832571428571429,
          4.327142857142857,
          4.538523809523809,
          4.4992857142857146,
          4.600428571428572,
          4.261904761904762,
          4.516,
          4.453095238095238,
          5.175952380952381,
          5.13452380952381,
          5.853928571428571,
          5.8961428571428565,
          4.9615238095238094,
          5.484571428571429,
          5.797380952380953,
          5.937809523809524,
          5.939142857142857,
          5.876809523809524,
          5.70252380952381,
          6.097047619047619,
          6.186428571428571,
          6.269761904761905,
          5.732619047619048,
          5.841095238095238,
          5.558571428571428,
          5.454285714285715,
          5.625238095238095,
          7.470380952380952,
          5.635952380952381,
          5.938095238095238,
          5.6454047619047625,
          6.126666666666667,
          6.1902380952380955,
          5.833380952380952,
          5.944523809523809,
          5.300238095238095,
          9.372047619047619,
          6.734,
          5.697571428571428,
          5.074761904761905,
          5.292857142857143,
          5.81725,
          5.366428571428571,
          5.476666666666667,
          5.134285714285714,
          5.707380952380952,
          5.925238095238095,
          5.019761904761905,
          6.825928571428571,
          4.933095238095238,
          4.882380952380953,
          6.1466666666666665,
          5.939047619047619,
          4.952428571428571,
          4.9584761904761905,
          5.611285714285714,
          5.4099047619047615,
          6.484380952380953,
          5.217809523809524,
          5.228190476190477,
          5.202619047619047,
          5.292619047619048,
          5.252380952380952,
          5.448428571428571,
          5.985571428571428,
          4.987666666666668,
          5.23352380952381,
          4.894285714285714,
          4.85095238095238,
          4.864761904761905,
          4.892142857142857,
          5.306761904761905,
          5.3116666666666665,
          5.605952380952381,
          4.885238095238095,
          4.965952380952381,
          5.180238095238096,
          5.661333333333333,
          4.889761904761905,
          5.663333333333333,
          5.942333333333333,
          5.398095238095238,
          5.700047619047619,
          5.213666666666667,
          5.697380952380953,
          6.097857142857143,
          4.751476190476191,
          5.413619047619048,
          5.155238095238095,
          6.021714285714286,
          5.86547619047619,
          6.263571428571429,
          5.543809523809523,
          6.224242424242425,
          5.798809523809524,
          5.261333333333333,
          6.234285714285714,
          5.332857142857143,
          5.851904761904762,
          5.704238095238095,
          5.788666666666666,
          5.720261904761904,
          5.656380952380952,
          6.157023809523809,
          5.349571428571429,
          5.173333333333333,
          5.309047619047619,
          5.645476190476191,
          5.369047619047619,
          5.169428571428571,
          5.052142857142857,
          5.842333333333333,
          5.797380952380953,
          6.12047619047619,
          5.832928571428572,
          5.6196190476190475,
          5.382619047619047,
          5.503857142857143,
          6.206,
          5.836285714285714,
          5.812571428571429,
          6.090285714285714,
          6.563472222222223,
          6.705833333333333,
          5.8682380952380955,
          5.601428571428571,
          5.739714285714286,
          5.8776190476190475,
          6.445142857142857,
          5.90647619047619,
          5.4306190476190475,
          5.529523809523809,
          5.687095238095238,
          5.892380952380953,
          5.913952380952381,
          5.650142857142858,
          5.904047619047619,
          5.943333333333333,
          5.573571428571428,
          5.529619047619048,
          5.862857142857143,
          6.6935714285714285,
          6.725714285714285,
          6.560095238095238,
          6.758611111111111,
          7.067833333333333,
          8.64452380952381,
          6.750095238095239,
          8.403761904761904,
          7.059285714285714,
          7.6300952380952385,
          6.483714285714286,
          6.092428571428571,
          6.2719047619047625,
          6.004761904761905,
          6.423809523809524,
          6.7946190476190464,
          6.258809523809524,
          6.089285714285714,
          5.376904761904762,
          5.63602380952381,
          5.638571428571429,
          4.136190476190476,
          5.990238095238095,
          5.876095238095238,
          6.251714285714286,
          6.7719047619047625,
          6.592047619047619,
          6.72297619047619,
          6.194214285714287,
          7.356214285714286,
          6.128285714285714,
          6.061190476190475,
          6.653095238095238,
          6.640285714285715,
          8.17047619047619,
          7.733595238095238,
          7.761714285714286,
          8.176690476190476,
          7.680285714285715,
          9.373000000000001,
          8.758333333333335,
          8.891,
          9.37152380952381,
          7.963190476190476,
          6.294380952380952,
          6.461142857142856,
          6.675857142857143,
          6.151190476190477,
          7.124952380952381,
          7.569571428571428,
          7.6623809523809525,
          7.332857142857143,
          12.979285714285714,
          7.070904761904762,
          5.798071428571428,
          6.259541666666667,
          5.616416666666667,
          5.754047619047619,
          6.411142857142857,
          5.53152380952381,
          6.23404761904762,
          6.378571428571428,
          5.777619047619048,
          6.837619047619048,
          6.563571428571429,
          6.036666666666667,
          4.840952380952381,
          5.275285714285714,
          2.6873333333333336,
          0.8354761904761905,
          1.373952380952381,
          1.0687619047619048,
          1.395,
          1.2421428571428572,
          1.3341428571428573,
          1.273142857142857,
          1.5504285714285715,
          2.4390476190476194,
          1.5173809523809523,
          1.926904761904762,
          2.076714285714286,
          2.5773333333333333,
          1.6605714285714286,
          1.4595714285714287,
          1.8172857142857144,
          1.2785714285714285,
          0.3791428571428571,
          0.3892857142857143,
          0.8509285714285715,
          1.2348571428571427,
          1.0287619047619048,
          1.8285714285714285,
          2.578666666666667,
          3.125,
          2.469809523809524,
          3.5173809523809525,
          5.261571428571429,
          4.672047619047619,
          5.010095238095238,
          5.001571428571429,
          3.7008571428571426,
          2.868809523809524,
          4.490238095238095,
          3.8597619047619047,
          4.044333333333333,
          4.198142857142857,
          2.636761904761905,
          2.431904761904762,
          2.05125,
          2.8011904761904765,
          3.2707142857142855,
          3.8942380952380953,
          3.600047619047619,
          2.6082380952380957,
          2.6218095238095236,
          2.1553809523809524,
          3.2392380952380955,
          4.330761904761905,
          3.349285714285714,
          2.684285714285714,
          1.914095238095238,
          2.969142857142857,
          3.671357142857143,
          2.5647380952380954,
          2.8901190476190477,
          3.211785714285714,
          3.3572857142857147,
          3.8834285714285715,
          4.360571428571428,
          4.479928571428571,
          2.567285714285714,
          1.8900000000000001,
          1.9786666666666666,
          2.7210238095238095,
          3.216285714285714,
          3.2827857142857146,
          3.5534285714285714,
          4.203428571428572,
          4.616928571428572,
          5.367142857142857,
          5.066285714285714,
          1.645357142857143,
          1.3199285714285713,
          1.5039999999999998,
          1.3333571428571427,
          1.4817142857142858,
          1.8754285714285714,
          2.448571428571429,
          1.837142857142857,
          2.100285714285714,
          2.7897142857142856,
          3.2020000000000004,
          3.730571428571429,
          3.685142857142857,
          3.4534285714285713,
          0.9404285714285715,
          0.4064285714285715,
          0.8345714285714286,
          1.0451428571428572,
          0.7628571428571428,
          0.44480000000000003,
          0.9448571428571428,
          0.44207142857142856,
          1.6030714285714287,
          2.3145714285714285,
          3.0260238095238097,
          3.6317142857142852,
          3.263142857142857,
          3.4557142857142855,
          2.818857142857143,
          1.9275714285714287,
          0.8731428571428571,
          1.1611428571428573,
          1.0022857142857142,
          1.648,
          1.1677142857142857,
          1.726857142857143,
          2.1574285714285715,
          1.9442857142857142,
          2.6697142857142855,
          2.7979999999999996,
          1.8225714285714287,
          3.1374285714285715,
          0.4733095238095238,
          0.3760714285714286,
          0.5145,
          1.1760000000000002,
          1.3710714285714285,
          1.6205714285714288,
          2.138,
          2.521714285714286,
          3.0867142857142857,
          3.520285714285714,
          3.9814285714285718,
          4.656571428571428,
          4.7095714285714285,
          4.502285714285714,
          4.422857142857143,
          0.8802857142857142,
          0.8334285714285715,
          0.526,
          0.7602857142857143,
          0.6702857142857143,
          1.342,
          0.7665714285714287,
          1.034857142857143,
          0.9653827160493827
         ],
         "yaxis": "y"
        }
       ],
       "layout": {
        "legend": {
         "tracegroupgap": 0
        },
        "template": {
         "data": {
          "bar": [
           {
            "error_x": {
             "color": "#2a3f5f"
            },
            "error_y": {
             "color": "#2a3f5f"
            },
            "marker": {
             "line": {
              "color": "#E5ECF6",
              "width": 0.5
             },
             "pattern": {
              "fillmode": "overlay",
              "size": 10,
              "solidity": 0.2
             }
            },
            "type": "bar"
           }
          ],
          "barpolar": [
           {
            "marker": {
             "line": {
              "color": "#E5ECF6",
              "width": 0.5
             },
             "pattern": {
              "fillmode": "overlay",
              "size": 10,
              "solidity": 0.2
             }
            },
            "type": "barpolar"
           }
          ],
          "carpet": [
           {
            "aaxis": {
             "endlinecolor": "#2a3f5f",
             "gridcolor": "white",
             "linecolor": "white",
             "minorgridcolor": "white",
             "startlinecolor": "#2a3f5f"
            },
            "baxis": {
             "endlinecolor": "#2a3f5f",
             "gridcolor": "white",
             "linecolor": "white",
             "minorgridcolor": "white",
             "startlinecolor": "#2a3f5f"
            },
            "type": "carpet"
           }
          ],
          "choropleth": [
           {
            "colorbar": {
             "outlinewidth": 0,
             "ticks": ""
            },
            "type": "choropleth"
           }
          ],
          "contour": [
           {
            "colorbar": {
             "outlinewidth": 0,
             "ticks": ""
            },
            "colorscale": [
             [
              0,
              "#0d0887"
             ],
             [
              0.1111111111111111,
              "#46039f"
             ],
             [
              0.2222222222222222,
              "#7201a8"
             ],
             [
              0.3333333333333333,
              "#9c179e"
             ],
             [
              0.4444444444444444,
              "#bd3786"
             ],
             [
              0.5555555555555556,
              "#d8576b"
             ],
             [
              0.6666666666666666,
              "#ed7953"
             ],
             [
              0.7777777777777778,
              "#fb9f3a"
             ],
             [
              0.8888888888888888,
              "#fdca26"
             ],
             [
              1,
              "#f0f921"
             ]
            ],
            "type": "contour"
           }
          ],
          "contourcarpet": [
           {
            "colorbar": {
             "outlinewidth": 0,
             "ticks": ""
            },
            "type": "contourcarpet"
           }
          ],
          "heatmap": [
           {
            "colorbar": {
             "outlinewidth": 0,
             "ticks": ""
            },
            "colorscale": [
             [
              0,
              "#0d0887"
             ],
             [
              0.1111111111111111,
              "#46039f"
             ],
             [
              0.2222222222222222,
              "#7201a8"
             ],
             [
              0.3333333333333333,
              "#9c179e"
             ],
             [
              0.4444444444444444,
              "#bd3786"
             ],
             [
              0.5555555555555556,
              "#d8576b"
             ],
             [
              0.6666666666666666,
              "#ed7953"
             ],
             [
              0.7777777777777778,
              "#fb9f3a"
             ],
             [
              0.8888888888888888,
              "#fdca26"
             ],
             [
              1,
              "#f0f921"
             ]
            ],
            "type": "heatmap"
           }
          ],
          "heatmapgl": [
           {
            "colorbar": {
             "outlinewidth": 0,
             "ticks": ""
            },
            "colorscale": [
             [
              0,
              "#0d0887"
             ],
             [
              0.1111111111111111,
              "#46039f"
             ],
             [
              0.2222222222222222,
              "#7201a8"
             ],
             [
              0.3333333333333333,
              "#9c179e"
             ],
             [
              0.4444444444444444,
              "#bd3786"
             ],
             [
              0.5555555555555556,
              "#d8576b"
             ],
             [
              0.6666666666666666,
              "#ed7953"
             ],
             [
              0.7777777777777778,
              "#fb9f3a"
             ],
             [
              0.8888888888888888,
              "#fdca26"
             ],
             [
              1,
              "#f0f921"
             ]
            ],
            "type": "heatmapgl"
           }
          ],
          "histogram": [
           {
            "marker": {
             "pattern": {
              "fillmode": "overlay",
              "size": 10,
              "solidity": 0.2
             }
            },
            "type": "histogram"
           }
          ],
          "histogram2d": [
           {
            "colorbar": {
             "outlinewidth": 0,
             "ticks": ""
            },
            "colorscale": [
             [
              0,
              "#0d0887"
             ],
             [
              0.1111111111111111,
              "#46039f"
             ],
             [
              0.2222222222222222,
              "#7201a8"
             ],
             [
              0.3333333333333333,
              "#9c179e"
             ],
             [
              0.4444444444444444,
              "#bd3786"
             ],
             [
              0.5555555555555556,
              "#d8576b"
             ],
             [
              0.6666666666666666,
              "#ed7953"
             ],
             [
              0.7777777777777778,
              "#fb9f3a"
             ],
             [
              0.8888888888888888,
              "#fdca26"
             ],
             [
              1,
              "#f0f921"
             ]
            ],
            "type": "histogram2d"
           }
          ],
          "histogram2dcontour": [
           {
            "colorbar": {
             "outlinewidth": 0,
             "ticks": ""
            },
            "colorscale": [
             [
              0,
              "#0d0887"
             ],
             [
              0.1111111111111111,
              "#46039f"
             ],
             [
              0.2222222222222222,
              "#7201a8"
             ],
             [
              0.3333333333333333,
              "#9c179e"
             ],
             [
              0.4444444444444444,
              "#bd3786"
             ],
             [
              0.5555555555555556,
              "#d8576b"
             ],
             [
              0.6666666666666666,
              "#ed7953"
             ],
             [
              0.7777777777777778,
              "#fb9f3a"
             ],
             [
              0.8888888888888888,
              "#fdca26"
             ],
             [
              1,
              "#f0f921"
             ]
            ],
            "type": "histogram2dcontour"
           }
          ],
          "mesh3d": [
           {
            "colorbar": {
             "outlinewidth": 0,
             "ticks": ""
            },
            "type": "mesh3d"
           }
          ],
          "parcoords": [
           {
            "line": {
             "colorbar": {
              "outlinewidth": 0,
              "ticks": ""
             }
            },
            "type": "parcoords"
           }
          ],
          "pie": [
           {
            "automargin": true,
            "type": "pie"
           }
          ],
          "scatter": [
           {
            "marker": {
             "colorbar": {
              "outlinewidth": 0,
              "ticks": ""
             }
            },
            "type": "scatter"
           }
          ],
          "scatter3d": [
           {
            "line": {
             "colorbar": {
              "outlinewidth": 0,
              "ticks": ""
             }
            },
            "marker": {
             "colorbar": {
              "outlinewidth": 0,
              "ticks": ""
             }
            },
            "type": "scatter3d"
           }
          ],
          "scattercarpet": [
           {
            "marker": {
             "colorbar": {
              "outlinewidth": 0,
              "ticks": ""
             }
            },
            "type": "scattercarpet"
           }
          ],
          "scattergeo": [
           {
            "marker": {
             "colorbar": {
              "outlinewidth": 0,
              "ticks": ""
             }
            },
            "type": "scattergeo"
           }
          ],
          "scattergl": [
           {
            "marker": {
             "colorbar": {
              "outlinewidth": 0,
              "ticks": ""
             }
            },
            "type": "scattergl"
           }
          ],
          "scattermapbox": [
           {
            "marker": {
             "colorbar": {
              "outlinewidth": 0,
              "ticks": ""
             }
            },
            "type": "scattermapbox"
           }
          ],
          "scatterpolar": [
           {
            "marker": {
             "colorbar": {
              "outlinewidth": 0,
              "ticks": ""
             }
            },
            "type": "scatterpolar"
           }
          ],
          "scatterpolargl": [
           {
            "marker": {
             "colorbar": {
              "outlinewidth": 0,
              "ticks": ""
             }
            },
            "type": "scatterpolargl"
           }
          ],
          "scatterternary": [
           {
            "marker": {
             "colorbar": {
              "outlinewidth": 0,
              "ticks": ""
             }
            },
            "type": "scatterternary"
           }
          ],
          "surface": [
           {
            "colorbar": {
             "outlinewidth": 0,
             "ticks": ""
            },
            "colorscale": [
             [
              0,
              "#0d0887"
             ],
             [
              0.1111111111111111,
              "#46039f"
             ],
             [
              0.2222222222222222,
              "#7201a8"
             ],
             [
              0.3333333333333333,
              "#9c179e"
             ],
             [
              0.4444444444444444,
              "#bd3786"
             ],
             [
              0.5555555555555556,
              "#d8576b"
             ],
             [
              0.6666666666666666,
              "#ed7953"
             ],
             [
              0.7777777777777778,
              "#fb9f3a"
             ],
             [
              0.8888888888888888,
              "#fdca26"
             ],
             [
              1,
              "#f0f921"
             ]
            ],
            "type": "surface"
           }
          ],
          "table": [
           {
            "cells": {
             "fill": {
              "color": "#EBF0F8"
             },
             "line": {
              "color": "white"
             }
            },
            "header": {
             "fill": {
              "color": "#C8D4E3"
             },
             "line": {
              "color": "white"
             }
            },
            "type": "table"
           }
          ]
         },
         "layout": {
          "annotationdefaults": {
           "arrowcolor": "#2a3f5f",
           "arrowhead": 0,
           "arrowwidth": 1
          },
          "autotypenumbers": "strict",
          "coloraxis": {
           "colorbar": {
            "outlinewidth": 0,
            "ticks": ""
           }
          },
          "colorscale": {
           "diverging": [
            [
             0,
             "#8e0152"
            ],
            [
             0.1,
             "#c51b7d"
            ],
            [
             0.2,
             "#de77ae"
            ],
            [
             0.3,
             "#f1b6da"
            ],
            [
             0.4,
             "#fde0ef"
            ],
            [
             0.5,
             "#f7f7f7"
            ],
            [
             0.6,
             "#e6f5d0"
            ],
            [
             0.7,
             "#b8e186"
            ],
            [
             0.8,
             "#7fbc41"
            ],
            [
             0.9,
             "#4d9221"
            ],
            [
             1,
             "#276419"
            ]
           ],
           "sequential": [
            [
             0,
             "#0d0887"
            ],
            [
             0.1111111111111111,
             "#46039f"
            ],
            [
             0.2222222222222222,
             "#7201a8"
            ],
            [
             0.3333333333333333,
             "#9c179e"
            ],
            [
             0.4444444444444444,
             "#bd3786"
            ],
            [
             0.5555555555555556,
             "#d8576b"
            ],
            [
             0.6666666666666666,
             "#ed7953"
            ],
            [
             0.7777777777777778,
             "#fb9f3a"
            ],
            [
             0.8888888888888888,
             "#fdca26"
            ],
            [
             1,
             "#f0f921"
            ]
           ],
           "sequentialminus": [
            [
             0,
             "#0d0887"
            ],
            [
             0.1111111111111111,
             "#46039f"
            ],
            [
             0.2222222222222222,
             "#7201a8"
            ],
            [
             0.3333333333333333,
             "#9c179e"
            ],
            [
             0.4444444444444444,
             "#bd3786"
            ],
            [
             0.5555555555555556,
             "#d8576b"
            ],
            [
             0.6666666666666666,
             "#ed7953"
            ],
            [
             0.7777777777777778,
             "#fb9f3a"
            ],
            [
             0.8888888888888888,
             "#fdca26"
            ],
            [
             1,
             "#f0f921"
            ]
           ]
          },
          "colorway": [
           "#636efa",
           "#EF553B",
           "#00cc96",
           "#ab63fa",
           "#FFA15A",
           "#19d3f3",
           "#FF6692",
           "#B6E880",
           "#FF97FF",
           "#FECB52"
          ],
          "font": {
           "color": "#2a3f5f"
          },
          "geo": {
           "bgcolor": "white",
           "lakecolor": "white",
           "landcolor": "#E5ECF6",
           "showlakes": true,
           "showland": true,
           "subunitcolor": "white"
          },
          "hoverlabel": {
           "align": "left"
          },
          "hovermode": "closest",
          "mapbox": {
           "style": "light"
          },
          "paper_bgcolor": "white",
          "plot_bgcolor": "#E5ECF6",
          "polar": {
           "angularaxis": {
            "gridcolor": "white",
            "linecolor": "white",
            "ticks": ""
           },
           "bgcolor": "#E5ECF6",
           "radialaxis": {
            "gridcolor": "white",
            "linecolor": "white",
            "ticks": ""
           }
          },
          "scene": {
           "xaxis": {
            "backgroundcolor": "#E5ECF6",
            "gridcolor": "white",
            "gridwidth": 2,
            "linecolor": "white",
            "showbackground": true,
            "ticks": "",
            "zerolinecolor": "white"
           },
           "yaxis": {
            "backgroundcolor": "#E5ECF6",
            "gridcolor": "white",
            "gridwidth": 2,
            "linecolor": "white",
            "showbackground": true,
            "ticks": "",
            "zerolinecolor": "white"
           },
           "zaxis": {
            "backgroundcolor": "#E5ECF6",
            "gridcolor": "white",
            "gridwidth": 2,
            "linecolor": "white",
            "showbackground": true,
            "ticks": "",
            "zerolinecolor": "white"
           }
          },
          "shapedefaults": {
           "line": {
            "color": "#2a3f5f"
           }
          },
          "ternary": {
           "aaxis": {
            "gridcolor": "white",
            "linecolor": "white",
            "ticks": ""
           },
           "baxis": {
            "gridcolor": "white",
            "linecolor": "white",
            "ticks": ""
           },
           "bgcolor": "#E5ECF6",
           "caxis": {
            "gridcolor": "white",
            "linecolor": "white",
            "ticks": ""
           }
          },
          "title": {
           "x": 0.05
          },
          "xaxis": {
           "automargin": true,
           "gridcolor": "white",
           "linecolor": "white",
           "ticks": "",
           "title": {
            "standoff": 15
           },
           "zerolinecolor": "white",
           "zerolinewidth": 2
          },
          "yaxis": {
           "automargin": true,
           "gridcolor": "white",
           "linecolor": "white",
           "ticks": "",
           "title": {
            "standoff": 15
           },
           "zerolinecolor": "white",
           "zerolinewidth": 2
          }
         }
        },
        "title": {
         "text": "Provincia: Gorizia"
        },
        "xaxis": {
         "anchor": "y",
         "domain": [
          0,
          1
         ],
         "title": {
          "text": "time_idx"
         }
        },
        "yaxis": {
         "anchor": "x",
         "domain": [
          0,
          1
         ],
         "title": {
          "text": "zolfo_giornaliera"
         }
        }
       }
      }
     },
     "metadata": {},
     "output_type": "display_data"
    },
    {
     "data": {
      "application/vnd.plotly.v1+json": {
       "config": {
        "plotlyServerURL": "https://plot.ly"
       },
       "data": [
        {
         "hovertemplate": "time_idx=%{x}<br>zolfo_giornaliera=%{y}<extra></extra>",
         "legendgroup": "",
         "line": {
          "color": "#636efa",
          "dash": "solid"
         },
         "marker": {
          "symbol": "circle"
         },
         "mode": "lines",
         "name": "",
         "orientation": "v",
         "showlegend": false,
         "type": "scatter",
         "x": [
          0,
          1,
          2,
          3,
          4,
          5,
          6,
          7,
          8,
          9,
          10,
          11,
          12,
          13,
          14,
          15,
          16,
          17,
          18,
          19,
          20,
          21,
          22,
          23,
          24,
          25,
          26,
          27,
          28,
          29,
          30,
          31,
          32,
          33,
          34,
          35,
          36,
          37,
          38,
          39,
          40,
          41,
          42,
          43,
          44,
          45,
          46,
          47,
          48,
          49,
          50,
          51,
          52,
          53,
          54,
          55,
          56,
          57,
          58,
          59,
          60,
          61,
          62,
          63,
          64,
          65,
          66,
          67,
          68,
          69,
          70,
          71,
          72,
          73,
          74,
          75,
          76,
          77,
          78,
          79,
          80,
          81,
          82,
          83,
          84,
          85,
          86,
          87,
          88,
          89,
          90,
          91,
          92,
          93,
          94,
          95,
          96,
          97,
          98,
          99,
          100,
          101,
          102,
          103,
          104,
          105,
          106,
          107,
          108,
          109,
          110,
          111,
          112,
          113,
          114,
          115,
          116,
          117,
          118,
          119,
          120,
          121,
          122,
          123,
          124,
          125,
          126,
          127,
          128,
          129,
          130,
          131,
          132,
          133,
          134,
          135,
          136,
          137,
          138,
          139,
          140,
          141,
          142,
          143,
          144,
          145,
          146,
          147,
          148,
          149,
          150,
          151,
          152,
          153,
          154,
          155,
          156,
          157,
          158,
          159,
          160,
          161,
          162,
          163,
          164,
          165,
          166,
          167,
          168,
          169,
          170,
          171,
          172,
          173,
          174,
          175,
          176,
          177,
          178,
          179,
          180,
          181,
          182,
          183,
          184,
          185,
          186,
          187,
          188,
          189,
          190,
          191,
          192,
          193,
          194,
          195,
          196,
          197,
          198,
          199,
          200,
          201,
          202,
          203,
          204,
          205,
          206,
          207,
          208,
          209,
          210,
          211,
          212,
          213,
          214,
          215,
          216,
          217,
          218,
          219,
          220,
          221,
          222,
          223,
          224,
          225,
          226,
          227,
          228,
          229,
          230,
          231,
          232,
          233,
          234,
          235,
          236,
          237,
          238,
          239,
          240,
          241,
          242,
          243,
          244,
          245,
          246,
          247,
          248,
          249,
          250,
          251,
          252,
          253,
          254,
          255,
          256,
          257,
          258,
          259,
          260,
          261,
          262,
          263,
          264,
          265,
          266,
          267,
          268,
          269,
          270,
          271,
          272,
          273,
          274,
          275,
          276,
          277,
          278,
          279,
          280,
          281,
          282,
          283,
          284,
          285,
          286,
          287,
          288,
          289,
          290,
          291,
          292,
          293,
          294,
          295,
          296,
          297,
          298,
          299,
          300,
          301,
          302,
          303,
          304,
          305,
          306,
          307,
          308,
          309,
          310,
          311,
          312,
          313,
          314,
          315,
          316,
          317,
          318,
          319,
          320,
          321,
          322,
          323,
          324,
          325,
          326,
          327,
          328,
          329,
          330,
          331,
          332,
          333,
          334,
          335,
          336,
          337,
          338,
          339,
          340,
          341,
          342,
          343,
          344,
          345,
          346,
          347,
          348,
          349,
          350,
          351,
          352,
          353,
          354,
          355,
          356,
          357,
          358
         ],
         "xaxis": "x",
         "y": [
          0.6181481481481482,
          0.6181481481481482,
          0.6181481481481482,
          0.6181481481481482,
          0.6181481481481482,
          0.6181481481481482,
          0.6181481481481482,
          0.6181481481481482,
          0.6181481481481482,
          0.6181481481481482,
          0.6181481481481482,
          0.6181481481481482,
          0.6181481481481482,
          0.6181481481481482,
          0.6181481481481482,
          0.6181481481481482,
          0.6181481481481482,
          0.6181481481481482,
          0.6181481481481482,
          0.6181481481481482,
          0.6181481481481482,
          0.6181481481481482,
          0.6181481481481482,
          0.6181481481481482,
          0.6181481481481482,
          0.6181481481481482,
          0.6181481481481482,
          0.6181481481481482,
          0.6181481481481482,
          0.6181481481481482,
          0.6181481481481482,
          0.6181481481481482,
          0.6181481481481482,
          0.6181481481481482,
          0.6181481481481482,
          0.6181481481481482,
          0.6181481481481482,
          0.6181481481481482,
          0.6181481481481482,
          0.6181481481481482,
          0.6181481481481482,
          0.6181481481481482,
          0.6181481481481482,
          0.6181481481481482,
          0.6181481481481482,
          0.6181481481481482,
          0.6181481481481482,
          0.6181481481481482,
          0.6181481481481482,
          0.6181481481481482,
          0.6181481481481482,
          0.6181481481481482,
          0.6181481481481482,
          0.6181481481481482,
          0.6181481481481482,
          0.6181481481481482,
          0.6181481481481482,
          0.6181481481481482,
          0.6181481481481482,
          0.6181481481481482,
          0.6181481481481482,
          0.6181481481481482,
          0.6181481481481482,
          0.6181481481481482,
          0.6181481481481482,
          0.6181481481481482,
          0.6181481481481482,
          0.6181481481481482,
          0.6181481481481482,
          0.6181481481481482,
          0.6181481481481482,
          0.6181481481481482,
          0.6181481481481482,
          0.6181481481481482,
          0.6181481481481482,
          0.6181481481481482,
          0.6181481481481482,
          0.6181481481481482,
          0.6181481481481482,
          0.6181481481481482,
          0.6181481481481482,
          0.6181481481481482,
          0.6181481481481482,
          0.6181481481481482,
          0.6181481481481482,
          0.6181481481481482,
          0.6181481481481482,
          0.6181481481481482,
          0.6181481481481482,
          0.6181481481481482,
          0.6181481481481482,
          0.6181481481481482,
          0.6181481481481482,
          0.6181481481481482,
          0.6181481481481482,
          0.6181481481481482,
          0.6181481481481482,
          0.6181481481481482,
          0.6181481481481482,
          0.6181481481481482,
          0.6181481481481482,
          0.6181481481481482,
          0.6181481481481482,
          0.6181481481481482,
          0.6181481481481482,
          0.6181481481481482,
          0.6181481481481482,
          0.6181481481481482,
          0.6181481481481482,
          0.6181481481481482,
          0.6181481481481482,
          0.6181481481481482,
          0.6181481481481482,
          0.6181481481481482,
          0.6181481481481482,
          0.6181481481481482,
          0.6181481481481482,
          0.6181481481481482,
          0.6181481481481482,
          0.6181481481481482,
          0.6181481481481482,
          0.6181481481481482,
          0.6181481481481482,
          0.6181481481481482,
          0.6181481481481482,
          0.6181481481481482,
          0.6181481481481482,
          0.6181481481481482,
          0.6181481481481482,
          0.6181481481481482,
          0.6181481481481482,
          0.6181481481481482,
          0.6181481481481482,
          0.6181481481481482,
          0.6181481481481482,
          0.6181481481481482,
          0.6181481481481482,
          0.6181481481481482,
          0.6181481481481482,
          0.6181481481481482,
          0.6181481481481482,
          0.6181481481481482,
          0.6181481481481482,
          0.6181481481481482,
          0.6181481481481482,
          0.6181481481481482,
          0.6181481481481482,
          0.6181481481481482,
          0.6181481481481482,
          0.6181481481481482,
          0.6181481481481482,
          0.6181481481481482,
          0.6181481481481482,
          0.6181481481481482,
          0.6181481481481482,
          0.6181481481481482,
          0.6181481481481482,
          0.6181481481481482,
          0.6181481481481482,
          0.6181481481481482,
          0.6181481481481482,
          0.6181481481481482,
          0.6181481481481482,
          0.6181481481481482,
          0.6181481481481482,
          0.6181481481481482,
          0.6181481481481482,
          0.6181481481481482,
          0.6181481481481482,
          0.6181481481481482,
          0.6181481481481482,
          0.6181481481481482,
          0.6181481481481482,
          0.6181481481481482,
          0.6181481481481482,
          0.6181481481481482,
          0.6181481481481482,
          0.6181481481481482,
          0.6181481481481482,
          0.6181481481481482,
          0.6181481481481482,
          0.6181481481481482,
          0.6181481481481482,
          0.6181481481481482,
          0.6181481481481482,
          0.6181481481481482,
          0.6181481481481482,
          0.6181481481481482,
          0.6181481481481482,
          0.6181481481481482,
          0.6181481481481482,
          0.6181481481481482,
          0.6181481481481482,
          0.6181481481481482,
          0.6181481481481482,
          0.6181481481481482,
          0.6181481481481482,
          0.6181481481481482,
          0.6181481481481482,
          0.6181481481481482,
          0.6181481481481482,
          0.6181481481481482,
          0.6181481481481482,
          0.6181481481481482,
          0.6181481481481482,
          0.6181481481481482,
          0.6181481481481482,
          0.6181481481481482,
          0.6181481481481482,
          0.6181481481481482,
          0.6181481481481482,
          0.6181481481481482,
          0.6181481481481482,
          0.6181481481481482,
          0.6181481481481482,
          0.6181481481481482,
          0.6181481481481482,
          0.6181481481481482,
          0.6181481481481482,
          0.6181481481481482,
          0.6181481481481482,
          0.6181481481481482,
          0.6181481481481482,
          0.6181481481481482,
          0.6181481481481482,
          0.6181481481481482,
          0.6181481481481482,
          0.6181481481481482,
          0.6181481481481482,
          0.6181481481481482,
          0.6181481481481482,
          0.6181481481481482,
          0.6181481481481482,
          0.6181481481481482,
          0.6181481481481482,
          0.6181481481481482,
          0.6181481481481482,
          0.6181481481481482,
          0.6181481481481482,
          0.6181481481481482,
          0.6181481481481482,
          0.6181481481481482,
          0.6181481481481482,
          0.6181481481481482,
          0.6181481481481482,
          0.6181481481481482,
          0.6181481481481482,
          0.6181481481481482,
          0.6181481481481482,
          0.6181481481481482,
          0.6181481481481482,
          0.6181481481481482,
          0.6181481481481482,
          0.6181481481481482,
          0.6181481481481482,
          0.6181481481481482,
          0.6181481481481482,
          0.6181481481481482,
          0.6181481481481482,
          0.6181481481481482,
          0.6181481481481482,
          0.6181481481481482,
          0.6181481481481482,
          0.6181481481481482,
          0.6181481481481482,
          0.6181481481481482,
          0.6181481481481482,
          0.6181481481481482,
          0.6181481481481482,
          0.6181481481481482,
          0.6181481481481482,
          0.6181481481481482,
          0.6181481481481482,
          0.6181481481481482,
          0.6181481481481482,
          0.6181481481481482,
          0.6181481481481482,
          0.6181481481481482,
          0.6181481481481482,
          0.6181481481481482,
          0.6181481481481482,
          0.6181481481481482,
          0.6181481481481482,
          0.6181481481481482,
          0.6181481481481482,
          0.6181481481481482,
          0.6181481481481482,
          0.6181481481481482,
          0.6181481481481482,
          0.6181481481481482,
          0.6181481481481482,
          0.6181481481481482,
          0.6181481481481482,
          0.6181481481481482,
          0.6181481481481482,
          0.6181481481481482,
          0.6181481481481482,
          0.6181481481481482,
          0.6181481481481482,
          0.6181481481481482,
          0.6181481481481482,
          0.6181481481481482,
          0.6181481481481482,
          0.6181481481481482,
          0.6181481481481482,
          0.6181481481481482,
          0.6181481481481482,
          0.6181481481481482,
          0.6181481481481482,
          0.6181481481481482,
          0.6181481481481482,
          0.6181481481481482,
          0.6181481481481482,
          0.6181481481481482,
          0.6181481481481482,
          0.6181481481481482,
          0.6181481481481482,
          0.6181481481481482,
          0.6181481481481482,
          0.6181481481481482,
          0.6181481481481482,
          0.6181481481481482,
          0.6181481481481482,
          0.6181481481481482,
          0.6181481481481482,
          0.6181481481481482,
          0.6181481481481482,
          0.6181481481481482,
          0.6181481481481482,
          0.6181481481481482,
          0.6181481481481482,
          0.6181481481481482,
          0.6181481481481482,
          0.6181481481481482,
          0.6181481481481482,
          0.6181481481481482,
          0.6181481481481482,
          0.6181481481481482,
          0.6181481481481482,
          0.6181481481481482,
          0.6181481481481482,
          0.6181481481481482,
          0.6181481481481482,
          0.6181481481481482,
          0.6181481481481482,
          0.6181481481481482,
          0.6181481481481482,
          0.6181481481481482,
          0.6181481481481482,
          0.6181481481481482,
          0.6181481481481482,
          0.6181481481481482,
          0.6181481481481482,
          0.6181481481481482,
          0.6181481481481482,
          0.6181481481481482,
          0.6181481481481482,
          0.6181481481481482,
          0.6181481481481482
         ],
         "yaxis": "y"
        }
       ],
       "layout": {
        "legend": {
         "tracegroupgap": 0
        },
        "template": {
         "data": {
          "bar": [
           {
            "error_x": {
             "color": "#2a3f5f"
            },
            "error_y": {
             "color": "#2a3f5f"
            },
            "marker": {
             "line": {
              "color": "#E5ECF6",
              "width": 0.5
             },
             "pattern": {
              "fillmode": "overlay",
              "size": 10,
              "solidity": 0.2
             }
            },
            "type": "bar"
           }
          ],
          "barpolar": [
           {
            "marker": {
             "line": {
              "color": "#E5ECF6",
              "width": 0.5
             },
             "pattern": {
              "fillmode": "overlay",
              "size": 10,
              "solidity": 0.2
             }
            },
            "type": "barpolar"
           }
          ],
          "carpet": [
           {
            "aaxis": {
             "endlinecolor": "#2a3f5f",
             "gridcolor": "white",
             "linecolor": "white",
             "minorgridcolor": "white",
             "startlinecolor": "#2a3f5f"
            },
            "baxis": {
             "endlinecolor": "#2a3f5f",
             "gridcolor": "white",
             "linecolor": "white",
             "minorgridcolor": "white",
             "startlinecolor": "#2a3f5f"
            },
            "type": "carpet"
           }
          ],
          "choropleth": [
           {
            "colorbar": {
             "outlinewidth": 0,
             "ticks": ""
            },
            "type": "choropleth"
           }
          ],
          "contour": [
           {
            "colorbar": {
             "outlinewidth": 0,
             "ticks": ""
            },
            "colorscale": [
             [
              0,
              "#0d0887"
             ],
             [
              0.1111111111111111,
              "#46039f"
             ],
             [
              0.2222222222222222,
              "#7201a8"
             ],
             [
              0.3333333333333333,
              "#9c179e"
             ],
             [
              0.4444444444444444,
              "#bd3786"
             ],
             [
              0.5555555555555556,
              "#d8576b"
             ],
             [
              0.6666666666666666,
              "#ed7953"
             ],
             [
              0.7777777777777778,
              "#fb9f3a"
             ],
             [
              0.8888888888888888,
              "#fdca26"
             ],
             [
              1,
              "#f0f921"
             ]
            ],
            "type": "contour"
           }
          ],
          "contourcarpet": [
           {
            "colorbar": {
             "outlinewidth": 0,
             "ticks": ""
            },
            "type": "contourcarpet"
           }
          ],
          "heatmap": [
           {
            "colorbar": {
             "outlinewidth": 0,
             "ticks": ""
            },
            "colorscale": [
             [
              0,
              "#0d0887"
             ],
             [
              0.1111111111111111,
              "#46039f"
             ],
             [
              0.2222222222222222,
              "#7201a8"
             ],
             [
              0.3333333333333333,
              "#9c179e"
             ],
             [
              0.4444444444444444,
              "#bd3786"
             ],
             [
              0.5555555555555556,
              "#d8576b"
             ],
             [
              0.6666666666666666,
              "#ed7953"
             ],
             [
              0.7777777777777778,
              "#fb9f3a"
             ],
             [
              0.8888888888888888,
              "#fdca26"
             ],
             [
              1,
              "#f0f921"
             ]
            ],
            "type": "heatmap"
           }
          ],
          "heatmapgl": [
           {
            "colorbar": {
             "outlinewidth": 0,
             "ticks": ""
            },
            "colorscale": [
             [
              0,
              "#0d0887"
             ],
             [
              0.1111111111111111,
              "#46039f"
             ],
             [
              0.2222222222222222,
              "#7201a8"
             ],
             [
              0.3333333333333333,
              "#9c179e"
             ],
             [
              0.4444444444444444,
              "#bd3786"
             ],
             [
              0.5555555555555556,
              "#d8576b"
             ],
             [
              0.6666666666666666,
              "#ed7953"
             ],
             [
              0.7777777777777778,
              "#fb9f3a"
             ],
             [
              0.8888888888888888,
              "#fdca26"
             ],
             [
              1,
              "#f0f921"
             ]
            ],
            "type": "heatmapgl"
           }
          ],
          "histogram": [
           {
            "marker": {
             "pattern": {
              "fillmode": "overlay",
              "size": 10,
              "solidity": 0.2
             }
            },
            "type": "histogram"
           }
          ],
          "histogram2d": [
           {
            "colorbar": {
             "outlinewidth": 0,
             "ticks": ""
            },
            "colorscale": [
             [
              0,
              "#0d0887"
             ],
             [
              0.1111111111111111,
              "#46039f"
             ],
             [
              0.2222222222222222,
              "#7201a8"
             ],
             [
              0.3333333333333333,
              "#9c179e"
             ],
             [
              0.4444444444444444,
              "#bd3786"
             ],
             [
              0.5555555555555556,
              "#d8576b"
             ],
             [
              0.6666666666666666,
              "#ed7953"
             ],
             [
              0.7777777777777778,
              "#fb9f3a"
             ],
             [
              0.8888888888888888,
              "#fdca26"
             ],
             [
              1,
              "#f0f921"
             ]
            ],
            "type": "histogram2d"
           }
          ],
          "histogram2dcontour": [
           {
            "colorbar": {
             "outlinewidth": 0,
             "ticks": ""
            },
            "colorscale": [
             [
              0,
              "#0d0887"
             ],
             [
              0.1111111111111111,
              "#46039f"
             ],
             [
              0.2222222222222222,
              "#7201a8"
             ],
             [
              0.3333333333333333,
              "#9c179e"
             ],
             [
              0.4444444444444444,
              "#bd3786"
             ],
             [
              0.5555555555555556,
              "#d8576b"
             ],
             [
              0.6666666666666666,
              "#ed7953"
             ],
             [
              0.7777777777777778,
              "#fb9f3a"
             ],
             [
              0.8888888888888888,
              "#fdca26"
             ],
             [
              1,
              "#f0f921"
             ]
            ],
            "type": "histogram2dcontour"
           }
          ],
          "mesh3d": [
           {
            "colorbar": {
             "outlinewidth": 0,
             "ticks": ""
            },
            "type": "mesh3d"
           }
          ],
          "parcoords": [
           {
            "line": {
             "colorbar": {
              "outlinewidth": 0,
              "ticks": ""
             }
            },
            "type": "parcoords"
           }
          ],
          "pie": [
           {
            "automargin": true,
            "type": "pie"
           }
          ],
          "scatter": [
           {
            "marker": {
             "colorbar": {
              "outlinewidth": 0,
              "ticks": ""
             }
            },
            "type": "scatter"
           }
          ],
          "scatter3d": [
           {
            "line": {
             "colorbar": {
              "outlinewidth": 0,
              "ticks": ""
             }
            },
            "marker": {
             "colorbar": {
              "outlinewidth": 0,
              "ticks": ""
             }
            },
            "type": "scatter3d"
           }
          ],
          "scattercarpet": [
           {
            "marker": {
             "colorbar": {
              "outlinewidth": 0,
              "ticks": ""
             }
            },
            "type": "scattercarpet"
           }
          ],
          "scattergeo": [
           {
            "marker": {
             "colorbar": {
              "outlinewidth": 0,
              "ticks": ""
             }
            },
            "type": "scattergeo"
           }
          ],
          "scattergl": [
           {
            "marker": {
             "colorbar": {
              "outlinewidth": 0,
              "ticks": ""
             }
            },
            "type": "scattergl"
           }
          ],
          "scattermapbox": [
           {
            "marker": {
             "colorbar": {
              "outlinewidth": 0,
              "ticks": ""
             }
            },
            "type": "scattermapbox"
           }
          ],
          "scatterpolar": [
           {
            "marker": {
             "colorbar": {
              "outlinewidth": 0,
              "ticks": ""
             }
            },
            "type": "scatterpolar"
           }
          ],
          "scatterpolargl": [
           {
            "marker": {
             "colorbar": {
              "outlinewidth": 0,
              "ticks": ""
             }
            },
            "type": "scatterpolargl"
           }
          ],
          "scatterternary": [
           {
            "marker": {
             "colorbar": {
              "outlinewidth": 0,
              "ticks": ""
             }
            },
            "type": "scatterternary"
           }
          ],
          "surface": [
           {
            "colorbar": {
             "outlinewidth": 0,
             "ticks": ""
            },
            "colorscale": [
             [
              0,
              "#0d0887"
             ],
             [
              0.1111111111111111,
              "#46039f"
             ],
             [
              0.2222222222222222,
              "#7201a8"
             ],
             [
              0.3333333333333333,
              "#9c179e"
             ],
             [
              0.4444444444444444,
              "#bd3786"
             ],
             [
              0.5555555555555556,
              "#d8576b"
             ],
             [
              0.6666666666666666,
              "#ed7953"
             ],
             [
              0.7777777777777778,
              "#fb9f3a"
             ],
             [
              0.8888888888888888,
              "#fdca26"
             ],
             [
              1,
              "#f0f921"
             ]
            ],
            "type": "surface"
           }
          ],
          "table": [
           {
            "cells": {
             "fill": {
              "color": "#EBF0F8"
             },
             "line": {
              "color": "white"
             }
            },
            "header": {
             "fill": {
              "color": "#C8D4E3"
             },
             "line": {
              "color": "white"
             }
            },
            "type": "table"
           }
          ]
         },
         "layout": {
          "annotationdefaults": {
           "arrowcolor": "#2a3f5f",
           "arrowhead": 0,
           "arrowwidth": 1
          },
          "autotypenumbers": "strict",
          "coloraxis": {
           "colorbar": {
            "outlinewidth": 0,
            "ticks": ""
           }
          },
          "colorscale": {
           "diverging": [
            [
             0,
             "#8e0152"
            ],
            [
             0.1,
             "#c51b7d"
            ],
            [
             0.2,
             "#de77ae"
            ],
            [
             0.3,
             "#f1b6da"
            ],
            [
             0.4,
             "#fde0ef"
            ],
            [
             0.5,
             "#f7f7f7"
            ],
            [
             0.6,
             "#e6f5d0"
            ],
            [
             0.7,
             "#b8e186"
            ],
            [
             0.8,
             "#7fbc41"
            ],
            [
             0.9,
             "#4d9221"
            ],
            [
             1,
             "#276419"
            ]
           ],
           "sequential": [
            [
             0,
             "#0d0887"
            ],
            [
             0.1111111111111111,
             "#46039f"
            ],
            [
             0.2222222222222222,
             "#7201a8"
            ],
            [
             0.3333333333333333,
             "#9c179e"
            ],
            [
             0.4444444444444444,
             "#bd3786"
            ],
            [
             0.5555555555555556,
             "#d8576b"
            ],
            [
             0.6666666666666666,
             "#ed7953"
            ],
            [
             0.7777777777777778,
             "#fb9f3a"
            ],
            [
             0.8888888888888888,
             "#fdca26"
            ],
            [
             1,
             "#f0f921"
            ]
           ],
           "sequentialminus": [
            [
             0,
             "#0d0887"
            ],
            [
             0.1111111111111111,
             "#46039f"
            ],
            [
             0.2222222222222222,
             "#7201a8"
            ],
            [
             0.3333333333333333,
             "#9c179e"
            ],
            [
             0.4444444444444444,
             "#bd3786"
            ],
            [
             0.5555555555555556,
             "#d8576b"
            ],
            [
             0.6666666666666666,
             "#ed7953"
            ],
            [
             0.7777777777777778,
             "#fb9f3a"
            ],
            [
             0.8888888888888888,
             "#fdca26"
            ],
            [
             1,
             "#f0f921"
            ]
           ]
          },
          "colorway": [
           "#636efa",
           "#EF553B",
           "#00cc96",
           "#ab63fa",
           "#FFA15A",
           "#19d3f3",
           "#FF6692",
           "#B6E880",
           "#FF97FF",
           "#FECB52"
          ],
          "font": {
           "color": "#2a3f5f"
          },
          "geo": {
           "bgcolor": "white",
           "lakecolor": "white",
           "landcolor": "#E5ECF6",
           "showlakes": true,
           "showland": true,
           "subunitcolor": "white"
          },
          "hoverlabel": {
           "align": "left"
          },
          "hovermode": "closest",
          "mapbox": {
           "style": "light"
          },
          "paper_bgcolor": "white",
          "plot_bgcolor": "#E5ECF6",
          "polar": {
           "angularaxis": {
            "gridcolor": "white",
            "linecolor": "white",
            "ticks": ""
           },
           "bgcolor": "#E5ECF6",
           "radialaxis": {
            "gridcolor": "white",
            "linecolor": "white",
            "ticks": ""
           }
          },
          "scene": {
           "xaxis": {
            "backgroundcolor": "#E5ECF6",
            "gridcolor": "white",
            "gridwidth": 2,
            "linecolor": "white",
            "showbackground": true,
            "ticks": "",
            "zerolinecolor": "white"
           },
           "yaxis": {
            "backgroundcolor": "#E5ECF6",
            "gridcolor": "white",
            "gridwidth": 2,
            "linecolor": "white",
            "showbackground": true,
            "ticks": "",
            "zerolinecolor": "white"
           },
           "zaxis": {
            "backgroundcolor": "#E5ECF6",
            "gridcolor": "white",
            "gridwidth": 2,
            "linecolor": "white",
            "showbackground": true,
            "ticks": "",
            "zerolinecolor": "white"
           }
          },
          "shapedefaults": {
           "line": {
            "color": "#2a3f5f"
           }
          },
          "ternary": {
           "aaxis": {
            "gridcolor": "white",
            "linecolor": "white",
            "ticks": ""
           },
           "baxis": {
            "gridcolor": "white",
            "linecolor": "white",
            "ticks": ""
           },
           "bgcolor": "#E5ECF6",
           "caxis": {
            "gridcolor": "white",
            "linecolor": "white",
            "ticks": ""
           }
          },
          "title": {
           "x": 0.05
          },
          "xaxis": {
           "automargin": true,
           "gridcolor": "white",
           "linecolor": "white",
           "ticks": "",
           "title": {
            "standoff": 15
           },
           "zerolinecolor": "white",
           "zerolinewidth": 2
          },
          "yaxis": {
           "automargin": true,
           "gridcolor": "white",
           "linecolor": "white",
           "ticks": "",
           "title": {
            "standoff": 15
           },
           "zerolinecolor": "white",
           "zerolinewidth": 2
          }
         }
        },
        "title": {
         "text": "Provincia: Pordenone"
        },
        "xaxis": {
         "anchor": "y",
         "domain": [
          0,
          1
         ],
         "title": {
          "text": "time_idx"
         }
        },
        "yaxis": {
         "anchor": "x",
         "domain": [
          0,
          1
         ],
         "title": {
          "text": "zolfo_giornaliera"
         }
        }
       }
      }
     },
     "metadata": {},
     "output_type": "display_data"
    },
    {
     "data": {
      "application/vnd.plotly.v1+json": {
       "config": {
        "plotlyServerURL": "https://plot.ly"
       },
       "data": [
        {
         "hovertemplate": "time_idx=%{x}<br>zolfo_giornaliera=%{y}<extra></extra>",
         "legendgroup": "",
         "line": {
          "color": "#636efa",
          "dash": "solid"
         },
         "marker": {
          "symbol": "circle"
         },
         "mode": "lines",
         "name": "",
         "orientation": "v",
         "showlegend": false,
         "type": "scatter",
         "x": [
          0,
          1,
          2,
          3,
          4,
          5,
          6,
          7,
          8,
          9,
          10,
          11,
          12,
          13,
          14,
          15,
          16,
          17,
          18,
          19,
          20,
          21,
          22,
          23,
          24,
          25,
          26,
          27,
          28,
          29,
          30,
          31,
          32,
          33,
          34,
          35,
          36,
          37,
          38,
          39,
          40,
          41,
          42,
          43,
          44,
          45,
          46,
          47,
          48,
          49,
          50,
          51,
          52,
          53,
          54,
          55,
          56,
          57,
          58,
          59,
          60,
          61,
          62,
          63,
          64,
          65,
          66,
          67,
          68,
          69,
          70,
          71,
          72,
          73,
          74,
          75,
          76,
          77,
          78,
          79,
          80,
          81,
          82,
          83,
          84,
          85,
          86,
          87,
          88,
          89,
          90,
          91,
          92,
          93,
          94,
          95,
          96,
          97,
          98,
          99,
          100,
          101,
          102,
          103,
          104,
          105,
          106,
          107,
          108,
          109,
          110,
          111,
          112,
          113,
          114,
          115,
          116,
          117,
          118,
          119,
          120,
          121,
          122,
          123,
          124,
          125,
          126,
          127,
          128,
          129,
          130,
          131,
          132,
          133,
          134,
          135,
          136,
          137,
          138,
          139,
          140,
          141,
          142,
          143,
          144,
          145,
          146,
          147,
          148,
          149,
          150,
          151,
          152,
          153,
          154,
          155,
          156,
          157,
          158,
          159,
          160,
          161,
          162,
          163,
          164,
          165,
          166,
          167,
          168,
          169,
          170,
          171,
          172,
          173,
          174,
          175,
          176,
          177,
          178,
          179,
          180,
          181,
          182,
          183,
          184,
          185,
          186,
          187,
          188,
          189,
          190,
          191,
          192,
          193,
          194,
          195,
          196,
          197,
          198,
          199,
          200,
          201,
          202,
          203,
          204,
          205,
          206,
          207,
          208,
          209,
          210,
          211,
          212,
          213,
          214,
          215,
          216,
          217,
          218,
          219,
          220,
          221,
          222,
          223,
          224,
          225,
          226,
          227,
          228,
          229,
          230,
          231,
          232,
          233,
          234,
          235,
          236,
          237,
          238,
          239,
          240,
          241,
          242,
          243,
          244,
          245,
          246,
          247,
          248,
          249,
          250,
          251,
          252,
          253,
          254,
          255,
          256,
          257,
          258,
          259,
          260,
          261,
          262,
          263,
          264,
          265,
          266,
          267,
          268,
          269,
          270,
          271,
          272,
          273,
          274,
          275,
          276,
          277,
          278,
          279,
          280,
          281,
          282,
          283,
          284,
          285,
          286,
          287,
          288,
          289,
          290,
          291,
          292,
          293,
          294,
          295,
          296,
          297,
          298,
          299,
          300,
          301,
          302,
          303,
          304,
          305,
          306,
          307,
          308,
          309,
          310,
          311,
          312,
          313,
          314,
          315,
          316,
          317,
          318,
          319,
          320,
          321,
          322,
          323,
          324,
          325,
          326,
          327,
          328,
          329,
          330,
          331,
          332,
          333,
          334,
          335,
          336,
          337,
          338,
          339,
          340,
          341,
          342,
          343,
          344,
          345,
          346,
          347,
          348,
          349,
          350,
          351,
          352,
          353,
          354,
          355,
          356,
          357,
          358
         ],
         "xaxis": "x",
         "y": [
          1.848467261904762,
          2.839107142857143,
          2.378285714285714,
          2.661166666666667,
          1.8991428571428572,
          2.350285714285714,
          2.217142857142857,
          1.914,
          2.270285714285714,
          2.1777142857142855,
          2.9388571428571426,
          1.9000000000000001,
          2.634,
          2.0382857142857143,
          2.789142857142857,
          1.924,
          1.7799999999999998,
          1.6794285714285715,
          2.38,
          2.0162857142857145,
          2.0090714285714286,
          1.334357142857143,
          2.3645714285714283,
          3.6565714285714286,
          1.8615,
          1.5257142857142856,
          1.909357142857143,
          1.9957142857142858,
          2.3482142857142856,
          2.383714285714286,
          2.633857142857143,
          2.1030714285714285,
          1.4639285714285715,
          2.0001428571428574,
          2.2285714285714286,
          1.8135714285714286,
          1.8420238095238095,
          2.281904761904762,
          2.5975,
          0.7147619047619047,
          1.2446428571428572,
          2.547857142857143,
          2.3516666666666666,
          1.9992857142857143,
          1.163690476190476,
          1.6842857142857142,
          2.0064285714285712,
          5.081666666666666,
          2.6260714285714286,
          3.4860714285714285,
          3.656428571428571,
          1.8314285714285714,
          3.026875,
          3.000952380952381,
          3.2782142857142853,
          2.8232142857142857,
          1.7257142857142858,
          1.6145238095238095,
          3.8455952380952385,
          3.0625,
          1.7971428571428572,
          4.5128571428571425,
          9.280476190476191,
          3.1460714285714286,
          3.0489285714285717,
          5.190357142857143,
          7.023928571428571,
          5.677142857142857,
          7.3167857142857144,
          3.665714285714286,
          8.244642857142857,
          3.4790476190476194,
          2.942142857142857,
          4.406428571428571,
          5.412857142857143,
          4.8585714285714285,
          1.2425,
          4.056071428571428,
          5.640714285714286,
          4.126857142857142,
          4.850428571428571,
          4.689857142857143,
          3.0814285714285714,
          4.459642857142858,
          7.380238095238096,
          2.5409523809523806,
          4.64,
          3.0233333333333334,
          4.673809523809524,
          6.619642857142857,
          4.054285714285714,
          3.7117857142857145,
          4.399642857142857,
          3.587738095238095,
          3.7460714285714287,
          5.471428571428571,
          9.692142857142857,
          8.78192857142857,
          2.8784285714285716,
          3.326571428571429,
          4.43,
          5.3530952380952375,
          5.283452380952381,
          4.273571428571429,
          4.200909090909091,
          4.238571428571428,
          3.4199999999999995,
          5.140357142857143,
          3.809047619047619,
          4.855833333333334,
          4.462023809523809,
          3.1321428571428567,
          4.596428571428571,
          2.216904761904762,
          2.742857142857143,
          2.4121428571428574,
          2.411785714285714,
          4.068809523809524,
          4.151071428571428,
          2.6757142857142857,
          2.843928571428571,
          2.9514285714285715,
          3.290714285714286,
          3.372261904761905,
          4.710952380952381,
          3.705119047619047,
          4.391785714285715,
          4.485119047619048,
          3.0853571428571427,
          4.3549999999999995,
          4.556785714285715,
          1.2604761904761903,
          2.605238095238095,
          3.2752777777777777,
          3.2600000000000002,
          6.085,
          5.917857142857143,
          2.3628571428571425,
          3.408809523809524,
          5.621428571428572,
          4.864285714285714,
          6.437380952380953,
          3.7764285714285717,
          3.2985714285714285,
          3.4464285714285716,
          1.7260714285714285,
          2.308095238095238,
          2.047142857142857,
          2.1270238095238096,
          2.5341666666666667,
          2.0732142857142857,
          3.310595238095238,
          5.564642857142857,
          4.040119047619048,
          4.108095238095238,
          4.285555555555555,
          3.5268333333333333,
          3.317261904761905,
          6.204285714285715,
          4.9332142857142856,
          5.515357142857143,
          4.042857142857143,
          8.327857142857143,
          4.716904761904762,
          6.407380952380953,
          5.1240476190476185,
          12.397857142857143,
          11.375714285714286,
          10.952857142857143,
          14.869523809523809,
          9.194761904761904,
          5.6938095238095245,
          6.732380952380952,
          10.584285714285715,
          9.09,
          8.452380952380953,
          9.886666666666667,
          11.744761904761905,
          7.3688095238095235,
          7.207380952380952,
          13.179880952380953,
          7.068571428571429,
          10.525714285714287,
          3.4848809523809523,
          8.767357142857142,
          6.081952380952381,
          10.117095238095237,
          6.2645,
          5.969857142857143,
          6.840357142857143,
          3.550785714285714,
          2.4627142857142856,
          3.393452380952381,
          4.752380952380952,
          3.221547619047619,
          3.2621428571428575,
          2.3308333333333335,
          2.1367857142857143,
          2.8726190476190476,
          1.5040476190476189,
          1.380595238095238,
          2.889642857142857,
          2.920714285714286,
          1.5842857142857143,
          3.3947619047619044,
          3.222857142857143,
          5.894642857142857,
          4.164479166666666,
          3.939583333333333,
          1.7514285714285713,
          4.232857142857143,
          4.5928571428571425,
          3.3630952380952377,
          4.101428571428571,
          2.1407142857142856,
          2.1107142857142853,
          2.2064285714285714,
          4.719285714285713,
          3.6357142857142857,
          2.608571428571428,
          9.025357142857143,
          9.247738095238095,
          8.950357142857142,
          9.162499999999998,
          14.049523809523809,
          9.356071428571429,
          12.175595238095237,
          4.479642857142857,
          4.9438095238095245,
          10.360357142857143,
          6.085357142857142,
          4.821785714285714,
          4.4678571428571425,
          5.251428571428571,
          8.981428571428571,
          8.598214285714286,
          14.68559523809524,
          12.416785714285714,
          6.204523809523809,
          8.867857142857144,
          5.260714285714286,
          5.982857142857143,
          4.3307142857142855,
          6.262857142857143,
          7.7325,
          6.484285714285714,
          4.734285714285714,
          5.0460714285714285,
          4.738571428571428,
          3.0747619047619046,
          2.907738095238095,
          2.4238095238095236,
          3.3129761904761907,
          2.6857142857142855,
          3.8765476190476185,
          2.450595238095238,
          3.238571428571429,
          3.56,
          2.877261904761905,
          10.759642857142856,
          4.058541666666667,
          3.395,
          4.876190476190476,
          3.7842857142857147,
          4.708333333333334,
          3.361666666666667,
          11.53,
          5.277857142857143,
          10.431904761904761,
          8.619047619047619,
          7.083809523809523,
          5.698095238095239,
          9.358571428571427,
          6.977619047619048,
          6.059047619047619,
          10.287619047619046,
          6.9471428571428575,
          6.10095238095238,
          6.596190476190476,
          4.395238095238095,
          7.532857142857142,
          6.5442857142857145,
          9.364761904761906,
          9.97952380952381,
          8.119047619047619,
          8.598571428571429,
          9.328571428571427,
          8.077142857142858,
          11.369047619047619,
          12.407142857142858,
          6.727619047619048,
          8.338571428571429,
          8.035238095238096,
          5.195476190476191,
          7.85095238095238,
          4.328571428571428,
          4.538333333333333,
          4.4592857142857145,
          3.0573809523809525,
          3.4847619047619047,
          5.203571428571428,
          2.9571428571428577,
          4.953095238095238,
          2.5676190476190475,
          3.498571428571428,
          2.1380952380952385,
          4.296904761904762,
          4.682380952380952,
          2.0885714285714285,
          2.8407142857142853,
          3.051428571428571,
          2.8999999999999995,
          3.5846666666666662,
          2.9107142857142856,
          2.4635714285714285,
          2.4457142857142857,
          2.767857142857143,
          2.5511904761904765,
          4.001904761904762,
          1.8671428571428572,
          4.722380952380952,
          2.64780612244898,
          1.7418027210884353,
          4.089047619047618,
          3.1366666666666663,
          1.0163659147869673,
          4.215714285714286,
          1.456926406926407,
          1.4226700680272109,
          1.4104454685099845,
          1.5266666666666668,
          1.33,
          1.5410526315789475,
          1.262194313622885,
          1.8563440860215052,
          1.1347619047619049,
          1.4152380952380952,
          1.5333333333333332,
          2.0038095238095237,
          0.2542857142857143,
          1.092857142857143,
          1.5742857142857143,
          1.94,
          1.8314285714285714,
          1.9414285714285715,
          1.9842857142857144,
          1.94,
          0.27714285714285714,
          0.12999999999999998,
          1.0774725274725276,
          0.4557142857142857,
          0.7785714285714286,
          1.3085714285714285,
          1.49,
          1.9220703544575726,
          3.0890476190476193,
          2.1489455782312925,
          2.146190476190476,
          1.241666666666667
         ],
         "yaxis": "y"
        }
       ],
       "layout": {
        "legend": {
         "tracegroupgap": 0
        },
        "template": {
         "data": {
          "bar": [
           {
            "error_x": {
             "color": "#2a3f5f"
            },
            "error_y": {
             "color": "#2a3f5f"
            },
            "marker": {
             "line": {
              "color": "#E5ECF6",
              "width": 0.5
             },
             "pattern": {
              "fillmode": "overlay",
              "size": 10,
              "solidity": 0.2
             }
            },
            "type": "bar"
           }
          ],
          "barpolar": [
           {
            "marker": {
             "line": {
              "color": "#E5ECF6",
              "width": 0.5
             },
             "pattern": {
              "fillmode": "overlay",
              "size": 10,
              "solidity": 0.2
             }
            },
            "type": "barpolar"
           }
          ],
          "carpet": [
           {
            "aaxis": {
             "endlinecolor": "#2a3f5f",
             "gridcolor": "white",
             "linecolor": "white",
             "minorgridcolor": "white",
             "startlinecolor": "#2a3f5f"
            },
            "baxis": {
             "endlinecolor": "#2a3f5f",
             "gridcolor": "white",
             "linecolor": "white",
             "minorgridcolor": "white",
             "startlinecolor": "#2a3f5f"
            },
            "type": "carpet"
           }
          ],
          "choropleth": [
           {
            "colorbar": {
             "outlinewidth": 0,
             "ticks": ""
            },
            "type": "choropleth"
           }
          ],
          "contour": [
           {
            "colorbar": {
             "outlinewidth": 0,
             "ticks": ""
            },
            "colorscale": [
             [
              0,
              "#0d0887"
             ],
             [
              0.1111111111111111,
              "#46039f"
             ],
             [
              0.2222222222222222,
              "#7201a8"
             ],
             [
              0.3333333333333333,
              "#9c179e"
             ],
             [
              0.4444444444444444,
              "#bd3786"
             ],
             [
              0.5555555555555556,
              "#d8576b"
             ],
             [
              0.6666666666666666,
              "#ed7953"
             ],
             [
              0.7777777777777778,
              "#fb9f3a"
             ],
             [
              0.8888888888888888,
              "#fdca26"
             ],
             [
              1,
              "#f0f921"
             ]
            ],
            "type": "contour"
           }
          ],
          "contourcarpet": [
           {
            "colorbar": {
             "outlinewidth": 0,
             "ticks": ""
            },
            "type": "contourcarpet"
           }
          ],
          "heatmap": [
           {
            "colorbar": {
             "outlinewidth": 0,
             "ticks": ""
            },
            "colorscale": [
             [
              0,
              "#0d0887"
             ],
             [
              0.1111111111111111,
              "#46039f"
             ],
             [
              0.2222222222222222,
              "#7201a8"
             ],
             [
              0.3333333333333333,
              "#9c179e"
             ],
             [
              0.4444444444444444,
              "#bd3786"
             ],
             [
              0.5555555555555556,
              "#d8576b"
             ],
             [
              0.6666666666666666,
              "#ed7953"
             ],
             [
              0.7777777777777778,
              "#fb9f3a"
             ],
             [
              0.8888888888888888,
              "#fdca26"
             ],
             [
              1,
              "#f0f921"
             ]
            ],
            "type": "heatmap"
           }
          ],
          "heatmapgl": [
           {
            "colorbar": {
             "outlinewidth": 0,
             "ticks": ""
            },
            "colorscale": [
             [
              0,
              "#0d0887"
             ],
             [
              0.1111111111111111,
              "#46039f"
             ],
             [
              0.2222222222222222,
              "#7201a8"
             ],
             [
              0.3333333333333333,
              "#9c179e"
             ],
             [
              0.4444444444444444,
              "#bd3786"
             ],
             [
              0.5555555555555556,
              "#d8576b"
             ],
             [
              0.6666666666666666,
              "#ed7953"
             ],
             [
              0.7777777777777778,
              "#fb9f3a"
             ],
             [
              0.8888888888888888,
              "#fdca26"
             ],
             [
              1,
              "#f0f921"
             ]
            ],
            "type": "heatmapgl"
           }
          ],
          "histogram": [
           {
            "marker": {
             "pattern": {
              "fillmode": "overlay",
              "size": 10,
              "solidity": 0.2
             }
            },
            "type": "histogram"
           }
          ],
          "histogram2d": [
           {
            "colorbar": {
             "outlinewidth": 0,
             "ticks": ""
            },
            "colorscale": [
             [
              0,
              "#0d0887"
             ],
             [
              0.1111111111111111,
              "#46039f"
             ],
             [
              0.2222222222222222,
              "#7201a8"
             ],
             [
              0.3333333333333333,
              "#9c179e"
             ],
             [
              0.4444444444444444,
              "#bd3786"
             ],
             [
              0.5555555555555556,
              "#d8576b"
             ],
             [
              0.6666666666666666,
              "#ed7953"
             ],
             [
              0.7777777777777778,
              "#fb9f3a"
             ],
             [
              0.8888888888888888,
              "#fdca26"
             ],
             [
              1,
              "#f0f921"
             ]
            ],
            "type": "histogram2d"
           }
          ],
          "histogram2dcontour": [
           {
            "colorbar": {
             "outlinewidth": 0,
             "ticks": ""
            },
            "colorscale": [
             [
              0,
              "#0d0887"
             ],
             [
              0.1111111111111111,
              "#46039f"
             ],
             [
              0.2222222222222222,
              "#7201a8"
             ],
             [
              0.3333333333333333,
              "#9c179e"
             ],
             [
              0.4444444444444444,
              "#bd3786"
             ],
             [
              0.5555555555555556,
              "#d8576b"
             ],
             [
              0.6666666666666666,
              "#ed7953"
             ],
             [
              0.7777777777777778,
              "#fb9f3a"
             ],
             [
              0.8888888888888888,
              "#fdca26"
             ],
             [
              1,
              "#f0f921"
             ]
            ],
            "type": "histogram2dcontour"
           }
          ],
          "mesh3d": [
           {
            "colorbar": {
             "outlinewidth": 0,
             "ticks": ""
            },
            "type": "mesh3d"
           }
          ],
          "parcoords": [
           {
            "line": {
             "colorbar": {
              "outlinewidth": 0,
              "ticks": ""
             }
            },
            "type": "parcoords"
           }
          ],
          "pie": [
           {
            "automargin": true,
            "type": "pie"
           }
          ],
          "scatter": [
           {
            "marker": {
             "colorbar": {
              "outlinewidth": 0,
              "ticks": ""
             }
            },
            "type": "scatter"
           }
          ],
          "scatter3d": [
           {
            "line": {
             "colorbar": {
              "outlinewidth": 0,
              "ticks": ""
             }
            },
            "marker": {
             "colorbar": {
              "outlinewidth": 0,
              "ticks": ""
             }
            },
            "type": "scatter3d"
           }
          ],
          "scattercarpet": [
           {
            "marker": {
             "colorbar": {
              "outlinewidth": 0,
              "ticks": ""
             }
            },
            "type": "scattercarpet"
           }
          ],
          "scattergeo": [
           {
            "marker": {
             "colorbar": {
              "outlinewidth": 0,
              "ticks": ""
             }
            },
            "type": "scattergeo"
           }
          ],
          "scattergl": [
           {
            "marker": {
             "colorbar": {
              "outlinewidth": 0,
              "ticks": ""
             }
            },
            "type": "scattergl"
           }
          ],
          "scattermapbox": [
           {
            "marker": {
             "colorbar": {
              "outlinewidth": 0,
              "ticks": ""
             }
            },
            "type": "scattermapbox"
           }
          ],
          "scatterpolar": [
           {
            "marker": {
             "colorbar": {
              "outlinewidth": 0,
              "ticks": ""
             }
            },
            "type": "scatterpolar"
           }
          ],
          "scatterpolargl": [
           {
            "marker": {
             "colorbar": {
              "outlinewidth": 0,
              "ticks": ""
             }
            },
            "type": "scatterpolargl"
           }
          ],
          "scatterternary": [
           {
            "marker": {
             "colorbar": {
              "outlinewidth": 0,
              "ticks": ""
             }
            },
            "type": "scatterternary"
           }
          ],
          "surface": [
           {
            "colorbar": {
             "outlinewidth": 0,
             "ticks": ""
            },
            "colorscale": [
             [
              0,
              "#0d0887"
             ],
             [
              0.1111111111111111,
              "#46039f"
             ],
             [
              0.2222222222222222,
              "#7201a8"
             ],
             [
              0.3333333333333333,
              "#9c179e"
             ],
             [
              0.4444444444444444,
              "#bd3786"
             ],
             [
              0.5555555555555556,
              "#d8576b"
             ],
             [
              0.6666666666666666,
              "#ed7953"
             ],
             [
              0.7777777777777778,
              "#fb9f3a"
             ],
             [
              0.8888888888888888,
              "#fdca26"
             ],
             [
              1,
              "#f0f921"
             ]
            ],
            "type": "surface"
           }
          ],
          "table": [
           {
            "cells": {
             "fill": {
              "color": "#EBF0F8"
             },
             "line": {
              "color": "white"
             }
            },
            "header": {
             "fill": {
              "color": "#C8D4E3"
             },
             "line": {
              "color": "white"
             }
            },
            "type": "table"
           }
          ]
         },
         "layout": {
          "annotationdefaults": {
           "arrowcolor": "#2a3f5f",
           "arrowhead": 0,
           "arrowwidth": 1
          },
          "autotypenumbers": "strict",
          "coloraxis": {
           "colorbar": {
            "outlinewidth": 0,
            "ticks": ""
           }
          },
          "colorscale": {
           "diverging": [
            [
             0,
             "#8e0152"
            ],
            [
             0.1,
             "#c51b7d"
            ],
            [
             0.2,
             "#de77ae"
            ],
            [
             0.3,
             "#f1b6da"
            ],
            [
             0.4,
             "#fde0ef"
            ],
            [
             0.5,
             "#f7f7f7"
            ],
            [
             0.6,
             "#e6f5d0"
            ],
            [
             0.7,
             "#b8e186"
            ],
            [
             0.8,
             "#7fbc41"
            ],
            [
             0.9,
             "#4d9221"
            ],
            [
             1,
             "#276419"
            ]
           ],
           "sequential": [
            [
             0,
             "#0d0887"
            ],
            [
             0.1111111111111111,
             "#46039f"
            ],
            [
             0.2222222222222222,
             "#7201a8"
            ],
            [
             0.3333333333333333,
             "#9c179e"
            ],
            [
             0.4444444444444444,
             "#bd3786"
            ],
            [
             0.5555555555555556,
             "#d8576b"
            ],
            [
             0.6666666666666666,
             "#ed7953"
            ],
            [
             0.7777777777777778,
             "#fb9f3a"
            ],
            [
             0.8888888888888888,
             "#fdca26"
            ],
            [
             1,
             "#f0f921"
            ]
           ],
           "sequentialminus": [
            [
             0,
             "#0d0887"
            ],
            [
             0.1111111111111111,
             "#46039f"
            ],
            [
             0.2222222222222222,
             "#7201a8"
            ],
            [
             0.3333333333333333,
             "#9c179e"
            ],
            [
             0.4444444444444444,
             "#bd3786"
            ],
            [
             0.5555555555555556,
             "#d8576b"
            ],
            [
             0.6666666666666666,
             "#ed7953"
            ],
            [
             0.7777777777777778,
             "#fb9f3a"
            ],
            [
             0.8888888888888888,
             "#fdca26"
            ],
            [
             1,
             "#f0f921"
            ]
           ]
          },
          "colorway": [
           "#636efa",
           "#EF553B",
           "#00cc96",
           "#ab63fa",
           "#FFA15A",
           "#19d3f3",
           "#FF6692",
           "#B6E880",
           "#FF97FF",
           "#FECB52"
          ],
          "font": {
           "color": "#2a3f5f"
          },
          "geo": {
           "bgcolor": "white",
           "lakecolor": "white",
           "landcolor": "#E5ECF6",
           "showlakes": true,
           "showland": true,
           "subunitcolor": "white"
          },
          "hoverlabel": {
           "align": "left"
          },
          "hovermode": "closest",
          "mapbox": {
           "style": "light"
          },
          "paper_bgcolor": "white",
          "plot_bgcolor": "#E5ECF6",
          "polar": {
           "angularaxis": {
            "gridcolor": "white",
            "linecolor": "white",
            "ticks": ""
           },
           "bgcolor": "#E5ECF6",
           "radialaxis": {
            "gridcolor": "white",
            "linecolor": "white",
            "ticks": ""
           }
          },
          "scene": {
           "xaxis": {
            "backgroundcolor": "#E5ECF6",
            "gridcolor": "white",
            "gridwidth": 2,
            "linecolor": "white",
            "showbackground": true,
            "ticks": "",
            "zerolinecolor": "white"
           },
           "yaxis": {
            "backgroundcolor": "#E5ECF6",
            "gridcolor": "white",
            "gridwidth": 2,
            "linecolor": "white",
            "showbackground": true,
            "ticks": "",
            "zerolinecolor": "white"
           },
           "zaxis": {
            "backgroundcolor": "#E5ECF6",
            "gridcolor": "white",
            "gridwidth": 2,
            "linecolor": "white",
            "showbackground": true,
            "ticks": "",
            "zerolinecolor": "white"
           }
          },
          "shapedefaults": {
           "line": {
            "color": "#2a3f5f"
           }
          },
          "ternary": {
           "aaxis": {
            "gridcolor": "white",
            "linecolor": "white",
            "ticks": ""
           },
           "baxis": {
            "gridcolor": "white",
            "linecolor": "white",
            "ticks": ""
           },
           "bgcolor": "#E5ECF6",
           "caxis": {
            "gridcolor": "white",
            "linecolor": "white",
            "ticks": ""
           }
          },
          "title": {
           "x": 0.05
          },
          "xaxis": {
           "automargin": true,
           "gridcolor": "white",
           "linecolor": "white",
           "ticks": "",
           "title": {
            "standoff": 15
           },
           "zerolinecolor": "white",
           "zerolinewidth": 2
          },
          "yaxis": {
           "automargin": true,
           "gridcolor": "white",
           "linecolor": "white",
           "ticks": "",
           "title": {
            "standoff": 15
           },
           "zerolinecolor": "white",
           "zerolinewidth": 2
          }
         }
        },
        "title": {
         "text": "Provincia: Trieste"
        },
        "xaxis": {
         "anchor": "y",
         "domain": [
          0,
          1
         ],
         "title": {
          "text": "time_idx"
         }
        },
        "yaxis": {
         "anchor": "x",
         "domain": [
          0,
          1
         ],
         "title": {
          "text": "zolfo_giornaliera"
         }
        }
       }
      }
     },
     "metadata": {},
     "output_type": "display_data"
    },
    {
     "data": {
      "application/vnd.plotly.v1+json": {
       "config": {
        "plotlyServerURL": "https://plot.ly"
       },
       "data": [
        {
         "hovertemplate": "time_idx=%{x}<br>zolfo_giornaliera=%{y}<extra></extra>",
         "legendgroup": "",
         "line": {
          "color": "#636efa",
          "dash": "solid"
         },
         "marker": {
          "symbol": "circle"
         },
         "mode": "lines",
         "name": "",
         "orientation": "v",
         "showlegend": false,
         "type": "scatter",
         "x": [
          0,
          1,
          2,
          3,
          4,
          5,
          6,
          7,
          8,
          9,
          10,
          11,
          12,
          13,
          14,
          15,
          16,
          17,
          18,
          19,
          20,
          21,
          22,
          23,
          24,
          25,
          26,
          27,
          28,
          29,
          30,
          31,
          32,
          33,
          34,
          35,
          36,
          37,
          38,
          39,
          40,
          41,
          42,
          43,
          44,
          45,
          46,
          47,
          48,
          49,
          50,
          51,
          52,
          53,
          54,
          55,
          56,
          57,
          58,
          59,
          60,
          61,
          62,
          63,
          64,
          65,
          66,
          67,
          68,
          69,
          70,
          71,
          72,
          73,
          74,
          75,
          76,
          77,
          78,
          79,
          80,
          81,
          82,
          83,
          84,
          85,
          86,
          87,
          88,
          89,
          90,
          91,
          92,
          93,
          94,
          95,
          96,
          97,
          98,
          99,
          100,
          101,
          102,
          103,
          104,
          105,
          106,
          107,
          108,
          109,
          110,
          111,
          112,
          113,
          114,
          115,
          116,
          117,
          118,
          119,
          120,
          121,
          122,
          123,
          124,
          125,
          126,
          127,
          128,
          129,
          130,
          131,
          132,
          133,
          134,
          135,
          136,
          137,
          138,
          139,
          140,
          141,
          142,
          143,
          144,
          145,
          146,
          147,
          148,
          149,
          150,
          151,
          152,
          153,
          154,
          155,
          156,
          157,
          158,
          159,
          160,
          161,
          162,
          163,
          164,
          165,
          166,
          167,
          168,
          169,
          170,
          171,
          172,
          173,
          174,
          175,
          176,
          177,
          178,
          179,
          180,
          181,
          182,
          183,
          184,
          185,
          186,
          187,
          188,
          189,
          190,
          191,
          192,
          193,
          194,
          195,
          196,
          197,
          198,
          199,
          200,
          201,
          202,
          203,
          204,
          205,
          206,
          207,
          208,
          209,
          210,
          211,
          212,
          213,
          214,
          215,
          216,
          217,
          218,
          219,
          220,
          221,
          222,
          223,
          224,
          225,
          226,
          227,
          228,
          229,
          230,
          231,
          232,
          233,
          234,
          235,
          236,
          237,
          238,
          239,
          240,
          241,
          242,
          243,
          244,
          245,
          246,
          247,
          248,
          249,
          250,
          251,
          252,
          253,
          254,
          255,
          256,
          257,
          258,
          259,
          260,
          261,
          262,
          263,
          264,
          265,
          266,
          267,
          268,
          269,
          270,
          271,
          272,
          273,
          274,
          275,
          276,
          277,
          278,
          279,
          280,
          281,
          282,
          283,
          284,
          285,
          286,
          287,
          288,
          289,
          290,
          291,
          292,
          293,
          294,
          295,
          296,
          297,
          298,
          299,
          300,
          301,
          302,
          303,
          304,
          305,
          306,
          307,
          308,
          309,
          310,
          311,
          312,
          313,
          314,
          315,
          316,
          317,
          318,
          319,
          320,
          321,
          322,
          323,
          324,
          325,
          326,
          327,
          328,
          329,
          330,
          331,
          332,
          333,
          334,
          335,
          336,
          337,
          338,
          339,
          340,
          341,
          342,
          343,
          344,
          345,
          346,
          347,
          348,
          349,
          350,
          351,
          352,
          353,
          354,
          355,
          356,
          357,
          358
         ],
         "xaxis": "x",
         "y": [
          3.929895833333333,
          4.21047619047619,
          2.6435714285714282,
          2.4176190476190476,
          1.8845238095238095,
          1.7657142857142856,
          1.5683333333333334,
          1.3542857142857143,
          2.1676190476190476,
          2.9657142857142857,
          3.423809523809524,
          2.4351190476190476,
          2.57,
          2.6845238095238098,
          2.4144047619047617,
          2.0839285714285714,
          2.2814285714285716,
          2.438928571428572,
          2.919285714285714,
          2.5560714285714283,
          3.4353571428571428,
          3.069166666666667,
          2.8032142857142857,
          2.437142857142857,
          3.2600000000000002,
          3.2085714285714286,
          3.9725,
          3.512857142857143,
          2.9057142857142857,
          1.8985714285714284,
          2.2686904761904763,
          1.8571428571428572,
          2.0579761904761904,
          1.5479761904761904,
          2.236904761904762,
          1.8569047619047618,
          1.9324999999999999,
          1.7370238095238093,
          3.139642857142857,
          0.9196190476190476,
          1.487142857142857,
          1.455,
          2.162142857142857,
          1.688857142857143,
          1.8071428571428572,
          2.2177142857142855,
          2.669857142857143,
          5.458928571428572,
          4.131952380952382,
          2.939095238095238,
          2.357666666666667,
          2.470071428571429,
          2.1020000000000003,
          1.9854285714285713,
          2.205357142857143,
          2.2940714285714283,
          2.9755,
          2.884571428571429,
          1.1860714285714287,
          2.7085714285714286,
          2.2632857142857143,
          1.748,
          2.964714285714286,
          2.9,
          2.467357142857143,
          1.931357142857143,
          2.1614285714285715,
          2.3994285714285715,
          3.002,
          2.0594285714285716,
          1.7914285714285714,
          1.4197142857142857,
          1.461142857142857,
          1.6010714285714285,
          1.7138571428571427,
          1.7467142857142857,
          0.9836904761904762,
          1.5722857142857143,
          1.3345,
          1.2117142857142855,
          0.653452380952381,
          0.6039285714285715,
          0.3553571428571428,
          0.8574761904761905,
          1.4717857142857143,
          2.5215476190476194,
          2.9162142857142856,
          2.561642857142857,
          1.784,
          1.3205000000000002,
          1.518357142857143,
          1.5117142857142858,
          1.7197142857142858,
          1.3166428571428572,
          1.3592857142857142,
          1.3576428571428572,
          1.3462857142857143,
          1.5987857142857143,
          1.4335714285714285,
          1.6320714285714286,
          1.2691428571428571,
          1.1825714285714286,
          1.6794285714285715,
          1.0757142857142858,
          1.4024848484848484,
          1.6914999999999998,
          1.972,
          1.4983809523809524,
          1.9361428571428572,
          2.4681428571428574,
          2.136,
          2.156642857142857,
          3.2445714285714287,
          2.420785714285714,
          2.9329285714285716,
          3.472,
          3.207142857142857,
          2.967428571428571,
          3.6785714285714284,
          2.946285714285714,
          3.2020714285714287,
          3.5264285714285717,
          4.675119047619048,
          3.3520238095238097,
          2.7430714285714286,
          2.492,
          2.5074285714285716,
          2.4519285714285712,
          1.7746428571428574,
          1.4163095238095238,
          1.9787142857142856,
          2.4908571428571427,
          2.450714285714286,
          3.063222222222222,
          3.240428571428571,
          1.9801666666666666,
          3.5604285714285715,
          4.022285714285714,
          2.865357142857143,
          3.6526428571428573,
          3.397452380952381,
          3.636904761904762,
          3.485071428571429,
          4.6085,
          2.7423571428571427,
          3.4737142857142858,
          3.1232142857142855,
          2.9171666666666667,
          3.4837142857142855,
          3.199142857142857,
          2.455357142857143,
          2.7510714285714286,
          2.537785714285714,
          2.2297857142857143,
          2.365642857142857,
          2.2230000000000003,
          2.5629999999999997,
          2.6600714285714284,
          2.7657142857142856,
          3.218,
          2.649309523809524,
          5.248571428571429,
          3.6125714285714285,
          4.562571428571428,
          4.051785714285714,
          3.175142857142857,
          3.1759999999999997,
          2.583142857142857,
          4.370571428571429,
          3.774,
          4.4399999999999995,
          3.819571428571429,
          4.3759999999999994,
          3.6682857142857146,
          3.119142857142857,
          2.706071428571429,
          3.063357142857143,
          2.9723571428571427,
          2.9899999999999998,
          2.4057142857142857,
          1.995595238095238,
          1.850690476190476,
          1.7375714285714285,
          1.5447857142857144,
          2.0114285714285716,
          2.1850952380952378,
          1.0885714285714285,
          1.9708571428571429,
          2.7395,
          2.609714285714286,
          3.7027142857142854,
          4.576214285714285,
          3.5574285714285714,
          3.270285714285714,
          2.8232142857142857,
          2.3511428571428574,
          2.6157142857142857,
          2.1149285714285715,
          2.826285714285714,
          2.5928571428571425,
          2.934857142857143,
          3.4033571428571427,
          2.6099047619047617,
          3.3442857142857143,
          2.5611428571428574,
          3.7088571428571426,
          2.5397142857142856,
          3.3031249999999996,
          1.9258958333333334,
          2.3281428571428573,
          3.194571428571429,
          2.6060000000000003,
          2.870857142857143,
          4.368,
          3.434285714285714,
          3.9883571428571427,
          2.085857142857143,
          3.4940714285714285,
          2.2822619047619046,
          1.4682142857142857,
          2.220357142857143,
          2.549285714285714,
          1.3825,
          2.1910714285714286,
          1.7367857142857144,
          1.009642857142857,
          1.861190476190476,
          1.4371428571428573,
          1.1004761904761904,
          1.7792857142857144,
          1.6617857142857144,
          2.0242857142857145,
          1.6603571428571429,
          2.347142857142857,
          1.878095238095238,
          3.666666666666667,
          3.391428571428572,
          4.750119047619047,
          3.1216666666666666,
          3.3546428571428573,
          4.314880952380952,
          5.035714285714286,
          1.9616666666666667,
          2.8576190476190475,
          3.132023809523809,
          2.5264285714285712,
          2.7674999999999996,
          3.351785714285714,
          3.6453571428571427,
          1.878095238095238,
          3.341547619047619,
          3.2082142857142855,
          3.0885714285714285,
          2.0053571428571426,
          2.238809523809524,
          1.2858333333333332,
          1.0661904761904761,
          1.7439285714285713,
          1.0692857142857142,
          1.0164285714285715,
          1.8553125000000001,
          1.254047619047619,
          1.8767857142857143,
          1.801547619047619,
          2.572142857142857,
          1.7871428571428571,
          1.7407142857142854,
          2.132857142857143,
          2.1639285714285714,
          2.465,
          1.9657142857142857,
          0.8735714285714286,
          0.9732142857142857,
          1.5458333333333332,
          1.469047619047619,
          1.2916666666666665,
          1.5917857142857144,
          1.8092857142857144,
          1.8967857142857143,
          1.6060714285714286,
          1.0064285714285715,
          1.360357142857143,
          2.0421428571428573,
          2.6809523809523808,
          1.5403571428571428,
          1.717857142857143,
          1.5541666666666667,
          2.0949999999999998,
          1.6789285714285713,
          0.8524999999999999,
          1.2127380952380953,
          1.7607142857142857,
          2.6653571428571428,
          1.7348809523809525,
          0.6766666666666666,
          1.3896428571428572,
          2.1176190476190477,
          1.4254761904761906,
          0.6580952380952381,
          0.6475000000000001,
          0.6435714285714286,
          0.8432142857142857,
          0.656904761904762,
          1.0816666666666666,
          0.8714285714285716,
          0.9942857142857143,
          1.3646428571428573,
          1.7351190476190477,
          1.7325000000000002,
          2.634285714285714,
          1.4515476190476189,
          1.2653571428571428,
          2.569,
          2.435714285714286,
          2.825357142857143,
          1.4196428571428572,
          1.997142857142857,
          1.9196428571428572,
          2.325714285714286,
          2.198293082886106,
          2.1196428571428574,
          1.4790282392026577,
          3.489712911875419,
          2.7241396694501234,
          0.41523809523809524,
          1.0073262987012988,
          1.7519940476190476,
          2.0810714285714282,
          2.211309523809524,
          1.5214873952855856,
          3.3172787770348746,
          2.3429061624649856,
          2.886190476190476,
          1.1863095238095238,
          1.4357142857142857,
          2.0739285714285716,
          2.1791666666666667,
          1.8692857142857144,
          2.0166666666666666,
          3.6283333333333334,
          4.597142857142857,
          2.4885714285714284,
          1.3,
          0.9042857142857142,
          0.9328571428571429,
          1.3614285714285714,
          1.3499999999999999,
          1.6199999999999999,
          1.7028571428571428,
          2.4014285714285712,
          1.9600000000000002,
          2.3000000000000003,
          2.3128571428571427,
          3.0398701298701303,
          3.108571428571428,
          2.835714285714286,
          1.99,
          2.164285714285714,
          2.143333333333333
         ],
         "yaxis": "y"
        }
       ],
       "layout": {
        "legend": {
         "tracegroupgap": 0
        },
        "template": {
         "data": {
          "bar": [
           {
            "error_x": {
             "color": "#2a3f5f"
            },
            "error_y": {
             "color": "#2a3f5f"
            },
            "marker": {
             "line": {
              "color": "#E5ECF6",
              "width": 0.5
             },
             "pattern": {
              "fillmode": "overlay",
              "size": 10,
              "solidity": 0.2
             }
            },
            "type": "bar"
           }
          ],
          "barpolar": [
           {
            "marker": {
             "line": {
              "color": "#E5ECF6",
              "width": 0.5
             },
             "pattern": {
              "fillmode": "overlay",
              "size": 10,
              "solidity": 0.2
             }
            },
            "type": "barpolar"
           }
          ],
          "carpet": [
           {
            "aaxis": {
             "endlinecolor": "#2a3f5f",
             "gridcolor": "white",
             "linecolor": "white",
             "minorgridcolor": "white",
             "startlinecolor": "#2a3f5f"
            },
            "baxis": {
             "endlinecolor": "#2a3f5f",
             "gridcolor": "white",
             "linecolor": "white",
             "minorgridcolor": "white",
             "startlinecolor": "#2a3f5f"
            },
            "type": "carpet"
           }
          ],
          "choropleth": [
           {
            "colorbar": {
             "outlinewidth": 0,
             "ticks": ""
            },
            "type": "choropleth"
           }
          ],
          "contour": [
           {
            "colorbar": {
             "outlinewidth": 0,
             "ticks": ""
            },
            "colorscale": [
             [
              0,
              "#0d0887"
             ],
             [
              0.1111111111111111,
              "#46039f"
             ],
             [
              0.2222222222222222,
              "#7201a8"
             ],
             [
              0.3333333333333333,
              "#9c179e"
             ],
             [
              0.4444444444444444,
              "#bd3786"
             ],
             [
              0.5555555555555556,
              "#d8576b"
             ],
             [
              0.6666666666666666,
              "#ed7953"
             ],
             [
              0.7777777777777778,
              "#fb9f3a"
             ],
             [
              0.8888888888888888,
              "#fdca26"
             ],
             [
              1,
              "#f0f921"
             ]
            ],
            "type": "contour"
           }
          ],
          "contourcarpet": [
           {
            "colorbar": {
             "outlinewidth": 0,
             "ticks": ""
            },
            "type": "contourcarpet"
           }
          ],
          "heatmap": [
           {
            "colorbar": {
             "outlinewidth": 0,
             "ticks": ""
            },
            "colorscale": [
             [
              0,
              "#0d0887"
             ],
             [
              0.1111111111111111,
              "#46039f"
             ],
             [
              0.2222222222222222,
              "#7201a8"
             ],
             [
              0.3333333333333333,
              "#9c179e"
             ],
             [
              0.4444444444444444,
              "#bd3786"
             ],
             [
              0.5555555555555556,
              "#d8576b"
             ],
             [
              0.6666666666666666,
              "#ed7953"
             ],
             [
              0.7777777777777778,
              "#fb9f3a"
             ],
             [
              0.8888888888888888,
              "#fdca26"
             ],
             [
              1,
              "#f0f921"
             ]
            ],
            "type": "heatmap"
           }
          ],
          "heatmapgl": [
           {
            "colorbar": {
             "outlinewidth": 0,
             "ticks": ""
            },
            "colorscale": [
             [
              0,
              "#0d0887"
             ],
             [
              0.1111111111111111,
              "#46039f"
             ],
             [
              0.2222222222222222,
              "#7201a8"
             ],
             [
              0.3333333333333333,
              "#9c179e"
             ],
             [
              0.4444444444444444,
              "#bd3786"
             ],
             [
              0.5555555555555556,
              "#d8576b"
             ],
             [
              0.6666666666666666,
              "#ed7953"
             ],
             [
              0.7777777777777778,
              "#fb9f3a"
             ],
             [
              0.8888888888888888,
              "#fdca26"
             ],
             [
              1,
              "#f0f921"
             ]
            ],
            "type": "heatmapgl"
           }
          ],
          "histogram": [
           {
            "marker": {
             "pattern": {
              "fillmode": "overlay",
              "size": 10,
              "solidity": 0.2
             }
            },
            "type": "histogram"
           }
          ],
          "histogram2d": [
           {
            "colorbar": {
             "outlinewidth": 0,
             "ticks": ""
            },
            "colorscale": [
             [
              0,
              "#0d0887"
             ],
             [
              0.1111111111111111,
              "#46039f"
             ],
             [
              0.2222222222222222,
              "#7201a8"
             ],
             [
              0.3333333333333333,
              "#9c179e"
             ],
             [
              0.4444444444444444,
              "#bd3786"
             ],
             [
              0.5555555555555556,
              "#d8576b"
             ],
             [
              0.6666666666666666,
              "#ed7953"
             ],
             [
              0.7777777777777778,
              "#fb9f3a"
             ],
             [
              0.8888888888888888,
              "#fdca26"
             ],
             [
              1,
              "#f0f921"
             ]
            ],
            "type": "histogram2d"
           }
          ],
          "histogram2dcontour": [
           {
            "colorbar": {
             "outlinewidth": 0,
             "ticks": ""
            },
            "colorscale": [
             [
              0,
              "#0d0887"
             ],
             [
              0.1111111111111111,
              "#46039f"
             ],
             [
              0.2222222222222222,
              "#7201a8"
             ],
             [
              0.3333333333333333,
              "#9c179e"
             ],
             [
              0.4444444444444444,
              "#bd3786"
             ],
             [
              0.5555555555555556,
              "#d8576b"
             ],
             [
              0.6666666666666666,
              "#ed7953"
             ],
             [
              0.7777777777777778,
              "#fb9f3a"
             ],
             [
              0.8888888888888888,
              "#fdca26"
             ],
             [
              1,
              "#f0f921"
             ]
            ],
            "type": "histogram2dcontour"
           }
          ],
          "mesh3d": [
           {
            "colorbar": {
             "outlinewidth": 0,
             "ticks": ""
            },
            "type": "mesh3d"
           }
          ],
          "parcoords": [
           {
            "line": {
             "colorbar": {
              "outlinewidth": 0,
              "ticks": ""
             }
            },
            "type": "parcoords"
           }
          ],
          "pie": [
           {
            "automargin": true,
            "type": "pie"
           }
          ],
          "scatter": [
           {
            "marker": {
             "colorbar": {
              "outlinewidth": 0,
              "ticks": ""
             }
            },
            "type": "scatter"
           }
          ],
          "scatter3d": [
           {
            "line": {
             "colorbar": {
              "outlinewidth": 0,
              "ticks": ""
             }
            },
            "marker": {
             "colorbar": {
              "outlinewidth": 0,
              "ticks": ""
             }
            },
            "type": "scatter3d"
           }
          ],
          "scattercarpet": [
           {
            "marker": {
             "colorbar": {
              "outlinewidth": 0,
              "ticks": ""
             }
            },
            "type": "scattercarpet"
           }
          ],
          "scattergeo": [
           {
            "marker": {
             "colorbar": {
              "outlinewidth": 0,
              "ticks": ""
             }
            },
            "type": "scattergeo"
           }
          ],
          "scattergl": [
           {
            "marker": {
             "colorbar": {
              "outlinewidth": 0,
              "ticks": ""
             }
            },
            "type": "scattergl"
           }
          ],
          "scattermapbox": [
           {
            "marker": {
             "colorbar": {
              "outlinewidth": 0,
              "ticks": ""
             }
            },
            "type": "scattermapbox"
           }
          ],
          "scatterpolar": [
           {
            "marker": {
             "colorbar": {
              "outlinewidth": 0,
              "ticks": ""
             }
            },
            "type": "scatterpolar"
           }
          ],
          "scatterpolargl": [
           {
            "marker": {
             "colorbar": {
              "outlinewidth": 0,
              "ticks": ""
             }
            },
            "type": "scatterpolargl"
           }
          ],
          "scatterternary": [
           {
            "marker": {
             "colorbar": {
              "outlinewidth": 0,
              "ticks": ""
             }
            },
            "type": "scatterternary"
           }
          ],
          "surface": [
           {
            "colorbar": {
             "outlinewidth": 0,
             "ticks": ""
            },
            "colorscale": [
             [
              0,
              "#0d0887"
             ],
             [
              0.1111111111111111,
              "#46039f"
             ],
             [
              0.2222222222222222,
              "#7201a8"
             ],
             [
              0.3333333333333333,
              "#9c179e"
             ],
             [
              0.4444444444444444,
              "#bd3786"
             ],
             [
              0.5555555555555556,
              "#d8576b"
             ],
             [
              0.6666666666666666,
              "#ed7953"
             ],
             [
              0.7777777777777778,
              "#fb9f3a"
             ],
             [
              0.8888888888888888,
              "#fdca26"
             ],
             [
              1,
              "#f0f921"
             ]
            ],
            "type": "surface"
           }
          ],
          "table": [
           {
            "cells": {
             "fill": {
              "color": "#EBF0F8"
             },
             "line": {
              "color": "white"
             }
            },
            "header": {
             "fill": {
              "color": "#C8D4E3"
             },
             "line": {
              "color": "white"
             }
            },
            "type": "table"
           }
          ]
         },
         "layout": {
          "annotationdefaults": {
           "arrowcolor": "#2a3f5f",
           "arrowhead": 0,
           "arrowwidth": 1
          },
          "autotypenumbers": "strict",
          "coloraxis": {
           "colorbar": {
            "outlinewidth": 0,
            "ticks": ""
           }
          },
          "colorscale": {
           "diverging": [
            [
             0,
             "#8e0152"
            ],
            [
             0.1,
             "#c51b7d"
            ],
            [
             0.2,
             "#de77ae"
            ],
            [
             0.3,
             "#f1b6da"
            ],
            [
             0.4,
             "#fde0ef"
            ],
            [
             0.5,
             "#f7f7f7"
            ],
            [
             0.6,
             "#e6f5d0"
            ],
            [
             0.7,
             "#b8e186"
            ],
            [
             0.8,
             "#7fbc41"
            ],
            [
             0.9,
             "#4d9221"
            ],
            [
             1,
             "#276419"
            ]
           ],
           "sequential": [
            [
             0,
             "#0d0887"
            ],
            [
             0.1111111111111111,
             "#46039f"
            ],
            [
             0.2222222222222222,
             "#7201a8"
            ],
            [
             0.3333333333333333,
             "#9c179e"
            ],
            [
             0.4444444444444444,
             "#bd3786"
            ],
            [
             0.5555555555555556,
             "#d8576b"
            ],
            [
             0.6666666666666666,
             "#ed7953"
            ],
            [
             0.7777777777777778,
             "#fb9f3a"
            ],
            [
             0.8888888888888888,
             "#fdca26"
            ],
            [
             1,
             "#f0f921"
            ]
           ],
           "sequentialminus": [
            [
             0,
             "#0d0887"
            ],
            [
             0.1111111111111111,
             "#46039f"
            ],
            [
             0.2222222222222222,
             "#7201a8"
            ],
            [
             0.3333333333333333,
             "#9c179e"
            ],
            [
             0.4444444444444444,
             "#bd3786"
            ],
            [
             0.5555555555555556,
             "#d8576b"
            ],
            [
             0.6666666666666666,
             "#ed7953"
            ],
            [
             0.7777777777777778,
             "#fb9f3a"
            ],
            [
             0.8888888888888888,
             "#fdca26"
            ],
            [
             1,
             "#f0f921"
            ]
           ]
          },
          "colorway": [
           "#636efa",
           "#EF553B",
           "#00cc96",
           "#ab63fa",
           "#FFA15A",
           "#19d3f3",
           "#FF6692",
           "#B6E880",
           "#FF97FF",
           "#FECB52"
          ],
          "font": {
           "color": "#2a3f5f"
          },
          "geo": {
           "bgcolor": "white",
           "lakecolor": "white",
           "landcolor": "#E5ECF6",
           "showlakes": true,
           "showland": true,
           "subunitcolor": "white"
          },
          "hoverlabel": {
           "align": "left"
          },
          "hovermode": "closest",
          "mapbox": {
           "style": "light"
          },
          "paper_bgcolor": "white",
          "plot_bgcolor": "#E5ECF6",
          "polar": {
           "angularaxis": {
            "gridcolor": "white",
            "linecolor": "white",
            "ticks": ""
           },
           "bgcolor": "#E5ECF6",
           "radialaxis": {
            "gridcolor": "white",
            "linecolor": "white",
            "ticks": ""
           }
          },
          "scene": {
           "xaxis": {
            "backgroundcolor": "#E5ECF6",
            "gridcolor": "white",
            "gridwidth": 2,
            "linecolor": "white",
            "showbackground": true,
            "ticks": "",
            "zerolinecolor": "white"
           },
           "yaxis": {
            "backgroundcolor": "#E5ECF6",
            "gridcolor": "white",
            "gridwidth": 2,
            "linecolor": "white",
            "showbackground": true,
            "ticks": "",
            "zerolinecolor": "white"
           },
           "zaxis": {
            "backgroundcolor": "#E5ECF6",
            "gridcolor": "white",
            "gridwidth": 2,
            "linecolor": "white",
            "showbackground": true,
            "ticks": "",
            "zerolinecolor": "white"
           }
          },
          "shapedefaults": {
           "line": {
            "color": "#2a3f5f"
           }
          },
          "ternary": {
           "aaxis": {
            "gridcolor": "white",
            "linecolor": "white",
            "ticks": ""
           },
           "baxis": {
            "gridcolor": "white",
            "linecolor": "white",
            "ticks": ""
           },
           "bgcolor": "#E5ECF6",
           "caxis": {
            "gridcolor": "white",
            "linecolor": "white",
            "ticks": ""
           }
          },
          "title": {
           "x": 0.05
          },
          "xaxis": {
           "automargin": true,
           "gridcolor": "white",
           "linecolor": "white",
           "ticks": "",
           "title": {
            "standoff": 15
           },
           "zerolinecolor": "white",
           "zerolinewidth": 2
          },
          "yaxis": {
           "automargin": true,
           "gridcolor": "white",
           "linecolor": "white",
           "ticks": "",
           "title": {
            "standoff": 15
           },
           "zerolinecolor": "white",
           "zerolinewidth": 2
          }
         }
        },
        "title": {
         "text": "Provincia: Udine"
        },
        "xaxis": {
         "anchor": "y",
         "domain": [
          0,
          1
         ],
         "title": {
          "text": "time_idx"
         }
        },
        "yaxis": {
         "anchor": "x",
         "domain": [
          0,
          1
         ],
         "title": {
          "text": "zolfo_giornaliera"
         }
        }
       }
      }
     },
     "metadata": {},
     "output_type": "display_data"
    }
   ],
   "source": [
    "import plotly.express as px\n",
    "for provincia in list(df_settimanale[\"provincia\"].unique()):\n",
    "    plot_df = df_settimanale[df_settimanale[\"provincia\"]==provincia][[\"time_idx\",\"zolfo_giornaliera\"]]\n",
    "    fig = px.line(plot_df, x=\"time_idx\",y=\"zolfo_giornaliera\", title=\"Provincia: {}\".format(provincia))\n",
    "    fig.show()"
   ]
  },
  {
   "cell_type": "code",
   "execution_count": 30,
   "metadata": {},
   "outputs": [
    {
     "data": {
      "application/vnd.plotly.v1+json": {
       "config": {
        "plotlyServerURL": "https://plot.ly"
       },
       "data": [
        {
         "hovertemplate": "time_idx=%{x}<br>ozono_8h_max=%{y}<extra></extra>",
         "legendgroup": "",
         "line": {
          "color": "#636efa",
          "dash": "solid"
         },
         "marker": {
          "symbol": "circle"
         },
         "mode": "lines",
         "name": "",
         "orientation": "v",
         "showlegend": false,
         "type": "scatter",
         "x": [
          0,
          1,
          2,
          3,
          4,
          5,
          6,
          7,
          8,
          9,
          10,
          11,
          12,
          13,
          14,
          15,
          16,
          17,
          18,
          19,
          20,
          21,
          22,
          23,
          24,
          25,
          26,
          27,
          28,
          29,
          30,
          31,
          32,
          33,
          34,
          35,
          36,
          37,
          38,
          39,
          40,
          41,
          42,
          43,
          44,
          45,
          46,
          47,
          48,
          49,
          50,
          51,
          52,
          53,
          54,
          55,
          56,
          57,
          58,
          59,
          60,
          61,
          62,
          63,
          64,
          65,
          66,
          67,
          68,
          69,
          70,
          71,
          72,
          73,
          74,
          75,
          76,
          77,
          78,
          79,
          80,
          81,
          82,
          83,
          84,
          85,
          86,
          87,
          88,
          89,
          90,
          91,
          92,
          93,
          94,
          95,
          96,
          97,
          98,
          99,
          100,
          101,
          102,
          103,
          104,
          105,
          106,
          107,
          108,
          109,
          110,
          111,
          112,
          113,
          114,
          115,
          116,
          117,
          118,
          119,
          120,
          121,
          122,
          123,
          124,
          125,
          126,
          127,
          128,
          129,
          130,
          131,
          132,
          133,
          134,
          135,
          136,
          137,
          138,
          139,
          140,
          141,
          142,
          143,
          144,
          145,
          146,
          147,
          148,
          149,
          150,
          151,
          152,
          153,
          154,
          155,
          156,
          157,
          158,
          159,
          160,
          161,
          162,
          163,
          164,
          165,
          166,
          167,
          168,
          169,
          170,
          171,
          172,
          173,
          174,
          175,
          176,
          177,
          178,
          179,
          180,
          181,
          182,
          183,
          184,
          185,
          186,
          187,
          188,
          189,
          190,
          191,
          192,
          193,
          194,
          195,
          196,
          197,
          198,
          199,
          200,
          201,
          202,
          203,
          204,
          205,
          206,
          207,
          208,
          209,
          210,
          211,
          212,
          213,
          214,
          215,
          216,
          217,
          218,
          219,
          220,
          221,
          222,
          223,
          224,
          225,
          226,
          227,
          228,
          229,
          230,
          231,
          232,
          233,
          234,
          235,
          236,
          237,
          238,
          239,
          240,
          241,
          242,
          243,
          244,
          245,
          246,
          247,
          248,
          249,
          250,
          251,
          252,
          253,
          254,
          255,
          256,
          257,
          258,
          259,
          260,
          261,
          262,
          263,
          264,
          265,
          266,
          267,
          268,
          269,
          270,
          271,
          272,
          273,
          274,
          275,
          276,
          277,
          278,
          279,
          280,
          281,
          282,
          283,
          284,
          285,
          286,
          287,
          288,
          289,
          290,
          291,
          292,
          293,
          294,
          295,
          296,
          297,
          298,
          299,
          300,
          301,
          302,
          303,
          304,
          305,
          306,
          307,
          308,
          309,
          310,
          311,
          312,
          313,
          314,
          315,
          316,
          317,
          318,
          319,
          320,
          321,
          322,
          323,
          324,
          325,
          326,
          327,
          328,
          329,
          330,
          331,
          332,
          333,
          334,
          335,
          336,
          337,
          338,
          339,
          340,
          341,
          342,
          343,
          344,
          345,
          346,
          347,
          348,
          349,
          350,
          351,
          352,
          353,
          354,
          355,
          356,
          357,
          358
         ],
         "xaxis": "x",
         "y": [
          53.6490625,
          13.312857142857142,
          40.54671428571429,
          32.052523809523805,
          57.219523809523814,
          58.19357142857143,
          59.96261904761905,
          57.280952380952385,
          74.70238095238095,
          74.87559523809523,
          106.15261904761904,
          94.8002380952381,
          85.86019047619048,
          91.91538095238094,
          90.95738095238096,
          85.67323809523809,
          75.79904761904763,
          76.34138095238096,
          109.10233333333333,
          87.36590476190476,
          108.30761904761904,
          92.83411904761905,
          123.3677142857143,
          116.24880952380953,
          112.76625850340136,
          101.6537074829932,
          103.45153741496598,
          94.03554421768708,
          114.2869387755102,
          90.0397006802721,
          84.06582993197279,
          106.12044217687074,
          75.77534013605442,
          81.90263265306122,
          85.98853741496599,
          63.14377551020408,
          76.3934693877551,
          76.8273469387755,
          80.02738095238097,
          73.57265306122449,
          76.19755102040816,
          55.56695238095238,
          55.626938775510204,
          62.755714285714284,
          66.935,
          52.607142857142854,
          47.83908163265306,
          34.54408163265306,
          29.186938775510207,
          32.30326530612245,
          27.861632653061225,
          34.62020408163265,
          45.76,
          41.94704081632653,
          45.9334693877551,
          43.43638775510204,
          59.21878911564626,
          68.17653061224489,
          61.998061224489796,
          87.37438775510203,
          68.54367346938776,
          77.5030612244898,
          79.05432653061224,
          91.45285714285714,
          83.06642857142857,
          87.92758503401362,
          99.02442176870748,
          105.90214965986395,
          114.203462585034,
          86.73258503401361,
          105.84197278911564,
          105.73625850340136,
          84.93897959183674,
          105.5834693877551,
          123.63384353741496,
          116.43928571428572,
          93.98234013605442,
          104.47261904761903,
          128.27333333333334,
          118.72304761904762,
          134.5560714285714,
          126.14795918367348,
          92.63612244897959,
          111.8887755102041,
          127.66877551020409,
          82.84408163265304,
          96.00126530612245,
          99.36994897959184,
          91.31840136054423,
          78.03326530612244,
          69.0215918367347,
          70.32399319727891,
          58.441863945578234,
          56.373870748299325,
          55.02936734693878,
          64.17649659863945,
          51.95105442176871,
          32.91595238095238,
          32.84597278911565,
          49.979510204081635,
          29.03802721088436,
          33.293741496598635,
          23.846122448979592,
          20.50761904761905,
          28.80634199134199,
          47.92912244897959,
          53.538979591836735,
          32.86724489795919,
          49.565816326530616,
          64.46078231292516,
          59.120272108843544,
          63.306870748299325,
          76.02416326530611,
          75.94115646258503,
          97.14877551020409,
          88.26581632653061,
          81.63629251700681,
          77.21051020408163,
          92.22068027210885,
          85.94591836734695,
          88.8730612244898,
          94.73782312925171,
          81.49190476190476,
          105.667,
          110.55459523809523,
          89.38819047619049,
          93.99642857142858,
          84.04319727891156,
          89.6772993197279,
          106.32675170068026,
          107.01261904761905,
          101.3554761904762,
          120.0915,
          107.2038888888889,
          95.17647619047618,
          101.80838095238096,
          107.51102040816328,
          100.98683673469387,
          116.84840136054422,
          100.5962925170068,
          86.13122448979593,
          83.79142857142857,
          100.92506802721088,
          60.49684353741497,
          55.00017006802722,
          51.29460544217687,
          53.67772108843537,
          55.07808843537415,
          49.688857142857145,
          45.11959183673469,
          35.4330612244898,
          48.98571428571428,
          44.00037414965986,
          41.815768707482995,
          60.72676190476191,
          55.92901587301588,
          58.38471428571429,
          54.28551020408163,
          76.90748299319728,
          72.3434693877551,
          45.902687074829934,
          59.88948979591837,
          63.366564625850344,
          67.89663265306123,
          87.22571428571428,
          81.89278911564625,
          93.41979591836734,
          84.98483673469389,
          102.10867346938775,
          105.11193877551021,
          93.85122448979591,
          95.59632653061225,
          94.85795918367346,
          104.39690476190476,
          86.38568027210884,
          101.04952380952382,
          113.72149659863945,
          120.35183673469388,
          102.31979591836736,
          112.42302721088436,
          129.95189455782312,
          97.63994217687075,
          118.55102040816327,
          97.71857142857142,
          125.31714285714285,
          108.61775510204082,
          143.81302721088434,
          104.48451700680273,
          108.5807142857143,
          118.91152380952381,
          97.5822993197279,
          82.87097959183674,
          67.30976190476191,
          77.44224489795918,
          78.16367346938775,
          72.26544217687075,
          70.85816326530612,
          63.8091836734694,
          48.89714285714285,
          60.85387755102041,
          48.25632653061224,
          50.975034013605445,
          40.42061224489795,
          47.836734693877546,
          41.082244897959185,
          55.51162585034014,
          36.36210884353741,
          40.96267857142857,
          38.401845238095234,
          50.00459183673469,
          44.39418367346939,
          46.675108843537416,
          57.41074829931973,
          63.59374149659864,
          71.6230612244898,
          78.86081632653061,
          78.23816326530611,
          72.85224489795918,
          73.70551020408163,
          87.01857142857143,
          92.96884353741497,
          98.90886054421769,
          94.75183673469387,
          104.67571428571429,
          114.07367346938774,
          97.11551020408163,
          108.29404761904762,
          94.14747619047618,
          95.85651020408163,
          118.64051020408162,
          112.33900000000001,
          106.11233333333334,
          113.61671428571428,
          108.75633333333333,
          108.0302380952381,
          106.42633333333333,
          126.08285714285714,
          114.8967619047619,
          103.94057142857143,
          104.73042857142856,
          95.69502380952382,
          103.21019047619048,
          84.87528571428571,
          93.70666666666668,
          104.85952380952381,
          89.99047619047619,
          79.87442857142857,
          67.93780952380952,
          86.84419047619049,
          69.68795238095238,
          61.57138095238095,
          55.79754761904762,
          51.478809523809524,
          56.15380952380952,
          36.32957142857143,
          43.182380952380946,
          40.88619047619047,
          43.32642857142857,
          40.05057142857142,
          26.868761904761904,
          57.052416666666666,
          48.18580952380952,
          59.892809523809525,
          66.84733333333334,
          64.31980952380952,
          65.25552380952381,
          61.74557142857143,
          74.8332380952381,
          79.33471428571428,
          80.72633333333333,
          85.9217619047619,
          96.18678571428572,
          92.82792857142856,
          99.68180952380952,
          68.25514285714287,
          106.72119047619049,
          79.87607142857144,
          76.14071428571428,
          83.36299999999999,
          68.84228571428572,
          89.55999999999999,
          86.25257142857143,
          100.14485714285715,
          115.02142857142857,
          99.60159523809524,
          130.89309523809524,
          130.66690476190476,
          108.15428571428572,
          126.26309523809525,
          120.43192857142857,
          108.46257142857142,
          107.34409523809525,
          97.04071428571429,
          95.85152380952381,
          115.03795238095238,
          91.97909523809524,
          88.1382380952381,
          85.80290476190476,
          70.09619047619047,
          68.73704761904762,
          70.32490476190476,
          71.62452380952381,
          67.00095238095238,
          53.393095238095235,
          56.60857142857143,
          50.642857142857146,
          50.52357142857143,
          42.22909523809523,
          42.675714285714285,
          49.73761904761905,
          51.32857142857143,
          44.83047619047619,
          42.432,
          44.93833333333333,
          39.66809523809524,
          46.02761904761905,
          32.2622380952381,
          54.92435714285715,
          64.37309523809525,
          66.83880952380953,
          74.13619047619048,
          73.59785714285714,
          83.7695238095238,
          94.22857142857143,
          82.2052380952381,
          97.7327142857143,
          116.55095238095238,
          110.49857142857142,
          107.94500000000001,
          88.46404761904762,
          106.2395238095238,
          80.44833333333334,
          103.61619047619047,
          91.90690476190477,
          96.75404761904761,
          94.41428571428571,
          94.1774761904762,
          109.10347619047619,
          95.55738095238095,
          111.45028571428573,
          95.19757142857144,
          116.50547619047619,
          120.47261904761906,
          89.82738095238095,
          107.58771428571428,
          103.19042857142857,
          99.87638095238096,
          97.58533333333332,
          100.96742857142856,
          102.49541417497231,
          81.64761904761905,
          74.88571428571429,
          72.25380952380952,
          60.533380952380945,
          69.43619047619048,
          47.10142857142857,
          49.94390476190476,
          42.08471428571429,
          53.7805811965812
         ],
         "yaxis": "y"
        }
       ],
       "layout": {
        "legend": {
         "tracegroupgap": 0
        },
        "template": {
         "data": {
          "bar": [
           {
            "error_x": {
             "color": "#2a3f5f"
            },
            "error_y": {
             "color": "#2a3f5f"
            },
            "marker": {
             "line": {
              "color": "#E5ECF6",
              "width": 0.5
             },
             "pattern": {
              "fillmode": "overlay",
              "size": 10,
              "solidity": 0.2
             }
            },
            "type": "bar"
           }
          ],
          "barpolar": [
           {
            "marker": {
             "line": {
              "color": "#E5ECF6",
              "width": 0.5
             },
             "pattern": {
              "fillmode": "overlay",
              "size": 10,
              "solidity": 0.2
             }
            },
            "type": "barpolar"
           }
          ],
          "carpet": [
           {
            "aaxis": {
             "endlinecolor": "#2a3f5f",
             "gridcolor": "white",
             "linecolor": "white",
             "minorgridcolor": "white",
             "startlinecolor": "#2a3f5f"
            },
            "baxis": {
             "endlinecolor": "#2a3f5f",
             "gridcolor": "white",
             "linecolor": "white",
             "minorgridcolor": "white",
             "startlinecolor": "#2a3f5f"
            },
            "type": "carpet"
           }
          ],
          "choropleth": [
           {
            "colorbar": {
             "outlinewidth": 0,
             "ticks": ""
            },
            "type": "choropleth"
           }
          ],
          "contour": [
           {
            "colorbar": {
             "outlinewidth": 0,
             "ticks": ""
            },
            "colorscale": [
             [
              0,
              "#0d0887"
             ],
             [
              0.1111111111111111,
              "#46039f"
             ],
             [
              0.2222222222222222,
              "#7201a8"
             ],
             [
              0.3333333333333333,
              "#9c179e"
             ],
             [
              0.4444444444444444,
              "#bd3786"
             ],
             [
              0.5555555555555556,
              "#d8576b"
             ],
             [
              0.6666666666666666,
              "#ed7953"
             ],
             [
              0.7777777777777778,
              "#fb9f3a"
             ],
             [
              0.8888888888888888,
              "#fdca26"
             ],
             [
              1,
              "#f0f921"
             ]
            ],
            "type": "contour"
           }
          ],
          "contourcarpet": [
           {
            "colorbar": {
             "outlinewidth": 0,
             "ticks": ""
            },
            "type": "contourcarpet"
           }
          ],
          "heatmap": [
           {
            "colorbar": {
             "outlinewidth": 0,
             "ticks": ""
            },
            "colorscale": [
             [
              0,
              "#0d0887"
             ],
             [
              0.1111111111111111,
              "#46039f"
             ],
             [
              0.2222222222222222,
              "#7201a8"
             ],
             [
              0.3333333333333333,
              "#9c179e"
             ],
             [
              0.4444444444444444,
              "#bd3786"
             ],
             [
              0.5555555555555556,
              "#d8576b"
             ],
             [
              0.6666666666666666,
              "#ed7953"
             ],
             [
              0.7777777777777778,
              "#fb9f3a"
             ],
             [
              0.8888888888888888,
              "#fdca26"
             ],
             [
              1,
              "#f0f921"
             ]
            ],
            "type": "heatmap"
           }
          ],
          "heatmapgl": [
           {
            "colorbar": {
             "outlinewidth": 0,
             "ticks": ""
            },
            "colorscale": [
             [
              0,
              "#0d0887"
             ],
             [
              0.1111111111111111,
              "#46039f"
             ],
             [
              0.2222222222222222,
              "#7201a8"
             ],
             [
              0.3333333333333333,
              "#9c179e"
             ],
             [
              0.4444444444444444,
              "#bd3786"
             ],
             [
              0.5555555555555556,
              "#d8576b"
             ],
             [
              0.6666666666666666,
              "#ed7953"
             ],
             [
              0.7777777777777778,
              "#fb9f3a"
             ],
             [
              0.8888888888888888,
              "#fdca26"
             ],
             [
              1,
              "#f0f921"
             ]
            ],
            "type": "heatmapgl"
           }
          ],
          "histogram": [
           {
            "marker": {
             "pattern": {
              "fillmode": "overlay",
              "size": 10,
              "solidity": 0.2
             }
            },
            "type": "histogram"
           }
          ],
          "histogram2d": [
           {
            "colorbar": {
             "outlinewidth": 0,
             "ticks": ""
            },
            "colorscale": [
             [
              0,
              "#0d0887"
             ],
             [
              0.1111111111111111,
              "#46039f"
             ],
             [
              0.2222222222222222,
              "#7201a8"
             ],
             [
              0.3333333333333333,
              "#9c179e"
             ],
             [
              0.4444444444444444,
              "#bd3786"
             ],
             [
              0.5555555555555556,
              "#d8576b"
             ],
             [
              0.6666666666666666,
              "#ed7953"
             ],
             [
              0.7777777777777778,
              "#fb9f3a"
             ],
             [
              0.8888888888888888,
              "#fdca26"
             ],
             [
              1,
              "#f0f921"
             ]
            ],
            "type": "histogram2d"
           }
          ],
          "histogram2dcontour": [
           {
            "colorbar": {
             "outlinewidth": 0,
             "ticks": ""
            },
            "colorscale": [
             [
              0,
              "#0d0887"
             ],
             [
              0.1111111111111111,
              "#46039f"
             ],
             [
              0.2222222222222222,
              "#7201a8"
             ],
             [
              0.3333333333333333,
              "#9c179e"
             ],
             [
              0.4444444444444444,
              "#bd3786"
             ],
             [
              0.5555555555555556,
              "#d8576b"
             ],
             [
              0.6666666666666666,
              "#ed7953"
             ],
             [
              0.7777777777777778,
              "#fb9f3a"
             ],
             [
              0.8888888888888888,
              "#fdca26"
             ],
             [
              1,
              "#f0f921"
             ]
            ],
            "type": "histogram2dcontour"
           }
          ],
          "mesh3d": [
           {
            "colorbar": {
             "outlinewidth": 0,
             "ticks": ""
            },
            "type": "mesh3d"
           }
          ],
          "parcoords": [
           {
            "line": {
             "colorbar": {
              "outlinewidth": 0,
              "ticks": ""
             }
            },
            "type": "parcoords"
           }
          ],
          "pie": [
           {
            "automargin": true,
            "type": "pie"
           }
          ],
          "scatter": [
           {
            "marker": {
             "colorbar": {
              "outlinewidth": 0,
              "ticks": ""
             }
            },
            "type": "scatter"
           }
          ],
          "scatter3d": [
           {
            "line": {
             "colorbar": {
              "outlinewidth": 0,
              "ticks": ""
             }
            },
            "marker": {
             "colorbar": {
              "outlinewidth": 0,
              "ticks": ""
             }
            },
            "type": "scatter3d"
           }
          ],
          "scattercarpet": [
           {
            "marker": {
             "colorbar": {
              "outlinewidth": 0,
              "ticks": ""
             }
            },
            "type": "scattercarpet"
           }
          ],
          "scattergeo": [
           {
            "marker": {
             "colorbar": {
              "outlinewidth": 0,
              "ticks": ""
             }
            },
            "type": "scattergeo"
           }
          ],
          "scattergl": [
           {
            "marker": {
             "colorbar": {
              "outlinewidth": 0,
              "ticks": ""
             }
            },
            "type": "scattergl"
           }
          ],
          "scattermapbox": [
           {
            "marker": {
             "colorbar": {
              "outlinewidth": 0,
              "ticks": ""
             }
            },
            "type": "scattermapbox"
           }
          ],
          "scatterpolar": [
           {
            "marker": {
             "colorbar": {
              "outlinewidth": 0,
              "ticks": ""
             }
            },
            "type": "scatterpolar"
           }
          ],
          "scatterpolargl": [
           {
            "marker": {
             "colorbar": {
              "outlinewidth": 0,
              "ticks": ""
             }
            },
            "type": "scatterpolargl"
           }
          ],
          "scatterternary": [
           {
            "marker": {
             "colorbar": {
              "outlinewidth": 0,
              "ticks": ""
             }
            },
            "type": "scatterternary"
           }
          ],
          "surface": [
           {
            "colorbar": {
             "outlinewidth": 0,
             "ticks": ""
            },
            "colorscale": [
             [
              0,
              "#0d0887"
             ],
             [
              0.1111111111111111,
              "#46039f"
             ],
             [
              0.2222222222222222,
              "#7201a8"
             ],
             [
              0.3333333333333333,
              "#9c179e"
             ],
             [
              0.4444444444444444,
              "#bd3786"
             ],
             [
              0.5555555555555556,
              "#d8576b"
             ],
             [
              0.6666666666666666,
              "#ed7953"
             ],
             [
              0.7777777777777778,
              "#fb9f3a"
             ],
             [
              0.8888888888888888,
              "#fdca26"
             ],
             [
              1,
              "#f0f921"
             ]
            ],
            "type": "surface"
           }
          ],
          "table": [
           {
            "cells": {
             "fill": {
              "color": "#EBF0F8"
             },
             "line": {
              "color": "white"
             }
            },
            "header": {
             "fill": {
              "color": "#C8D4E3"
             },
             "line": {
              "color": "white"
             }
            },
            "type": "table"
           }
          ]
         },
         "layout": {
          "annotationdefaults": {
           "arrowcolor": "#2a3f5f",
           "arrowhead": 0,
           "arrowwidth": 1
          },
          "autotypenumbers": "strict",
          "coloraxis": {
           "colorbar": {
            "outlinewidth": 0,
            "ticks": ""
           }
          },
          "colorscale": {
           "diverging": [
            [
             0,
             "#8e0152"
            ],
            [
             0.1,
             "#c51b7d"
            ],
            [
             0.2,
             "#de77ae"
            ],
            [
             0.3,
             "#f1b6da"
            ],
            [
             0.4,
             "#fde0ef"
            ],
            [
             0.5,
             "#f7f7f7"
            ],
            [
             0.6,
             "#e6f5d0"
            ],
            [
             0.7,
             "#b8e186"
            ],
            [
             0.8,
             "#7fbc41"
            ],
            [
             0.9,
             "#4d9221"
            ],
            [
             1,
             "#276419"
            ]
           ],
           "sequential": [
            [
             0,
             "#0d0887"
            ],
            [
             0.1111111111111111,
             "#46039f"
            ],
            [
             0.2222222222222222,
             "#7201a8"
            ],
            [
             0.3333333333333333,
             "#9c179e"
            ],
            [
             0.4444444444444444,
             "#bd3786"
            ],
            [
             0.5555555555555556,
             "#d8576b"
            ],
            [
             0.6666666666666666,
             "#ed7953"
            ],
            [
             0.7777777777777778,
             "#fb9f3a"
            ],
            [
             0.8888888888888888,
             "#fdca26"
            ],
            [
             1,
             "#f0f921"
            ]
           ],
           "sequentialminus": [
            [
             0,
             "#0d0887"
            ],
            [
             0.1111111111111111,
             "#46039f"
            ],
            [
             0.2222222222222222,
             "#7201a8"
            ],
            [
             0.3333333333333333,
             "#9c179e"
            ],
            [
             0.4444444444444444,
             "#bd3786"
            ],
            [
             0.5555555555555556,
             "#d8576b"
            ],
            [
             0.6666666666666666,
             "#ed7953"
            ],
            [
             0.7777777777777778,
             "#fb9f3a"
            ],
            [
             0.8888888888888888,
             "#fdca26"
            ],
            [
             1,
             "#f0f921"
            ]
           ]
          },
          "colorway": [
           "#636efa",
           "#EF553B",
           "#00cc96",
           "#ab63fa",
           "#FFA15A",
           "#19d3f3",
           "#FF6692",
           "#B6E880",
           "#FF97FF",
           "#FECB52"
          ],
          "font": {
           "color": "#2a3f5f"
          },
          "geo": {
           "bgcolor": "white",
           "lakecolor": "white",
           "landcolor": "#E5ECF6",
           "showlakes": true,
           "showland": true,
           "subunitcolor": "white"
          },
          "hoverlabel": {
           "align": "left"
          },
          "hovermode": "closest",
          "mapbox": {
           "style": "light"
          },
          "paper_bgcolor": "white",
          "plot_bgcolor": "#E5ECF6",
          "polar": {
           "angularaxis": {
            "gridcolor": "white",
            "linecolor": "white",
            "ticks": ""
           },
           "bgcolor": "#E5ECF6",
           "radialaxis": {
            "gridcolor": "white",
            "linecolor": "white",
            "ticks": ""
           }
          },
          "scene": {
           "xaxis": {
            "backgroundcolor": "#E5ECF6",
            "gridcolor": "white",
            "gridwidth": 2,
            "linecolor": "white",
            "showbackground": true,
            "ticks": "",
            "zerolinecolor": "white"
           },
           "yaxis": {
            "backgroundcolor": "#E5ECF6",
            "gridcolor": "white",
            "gridwidth": 2,
            "linecolor": "white",
            "showbackground": true,
            "ticks": "",
            "zerolinecolor": "white"
           },
           "zaxis": {
            "backgroundcolor": "#E5ECF6",
            "gridcolor": "white",
            "gridwidth": 2,
            "linecolor": "white",
            "showbackground": true,
            "ticks": "",
            "zerolinecolor": "white"
           }
          },
          "shapedefaults": {
           "line": {
            "color": "#2a3f5f"
           }
          },
          "ternary": {
           "aaxis": {
            "gridcolor": "white",
            "linecolor": "white",
            "ticks": ""
           },
           "baxis": {
            "gridcolor": "white",
            "linecolor": "white",
            "ticks": ""
           },
           "bgcolor": "#E5ECF6",
           "caxis": {
            "gridcolor": "white",
            "linecolor": "white",
            "ticks": ""
           }
          },
          "title": {
           "x": 0.05
          },
          "xaxis": {
           "automargin": true,
           "gridcolor": "white",
           "linecolor": "white",
           "ticks": "",
           "title": {
            "standoff": 15
           },
           "zerolinecolor": "white",
           "zerolinewidth": 2
          },
          "yaxis": {
           "automargin": true,
           "gridcolor": "white",
           "linecolor": "white",
           "ticks": "",
           "title": {
            "standoff": 15
           },
           "zerolinecolor": "white",
           "zerolinewidth": 2
          }
         }
        },
        "title": {
         "text": "Provincia: Gorizia"
        },
        "xaxis": {
         "anchor": "y",
         "domain": [
          0,
          1
         ],
         "title": {
          "text": "time_idx"
         }
        },
        "yaxis": {
         "anchor": "x",
         "domain": [
          0,
          1
         ],
         "title": {
          "text": "ozono_8h_max"
         }
        }
       }
      }
     },
     "metadata": {},
     "output_type": "display_data"
    },
    {
     "data": {
      "application/vnd.plotly.v1+json": {
       "config": {
        "plotlyServerURL": "https://plot.ly"
       },
       "data": [
        {
         "hovertemplate": "time_idx=%{x}<br>ozono_8h_max=%{y}<extra></extra>",
         "legendgroup": "",
         "line": {
          "color": "#636efa",
          "dash": "solid"
         },
         "marker": {
          "symbol": "circle"
         },
         "mode": "lines",
         "name": "",
         "orientation": "v",
         "showlegend": false,
         "type": "scatter",
         "x": [
          0,
          1,
          2,
          3,
          4,
          5,
          6,
          7,
          8,
          9,
          10,
          11,
          12,
          13,
          14,
          15,
          16,
          17,
          18,
          19,
          20,
          21,
          22,
          23,
          24,
          25,
          26,
          27,
          28,
          29,
          30,
          31,
          32,
          33,
          34,
          35,
          36,
          37,
          38,
          39,
          40,
          41,
          42,
          43,
          44,
          45,
          46,
          47,
          48,
          49,
          50,
          51,
          52,
          53,
          54,
          55,
          56,
          57,
          58,
          59,
          60,
          61,
          62,
          63,
          64,
          65,
          66,
          67,
          68,
          69,
          70,
          71,
          72,
          73,
          74,
          75,
          76,
          77,
          78,
          79,
          80,
          81,
          82,
          83,
          84,
          85,
          86,
          87,
          88,
          89,
          90,
          91,
          92,
          93,
          94,
          95,
          96,
          97,
          98,
          99,
          100,
          101,
          102,
          103,
          104,
          105,
          106,
          107,
          108,
          109,
          110,
          111,
          112,
          113,
          114,
          115,
          116,
          117,
          118,
          119,
          120,
          121,
          122,
          123,
          124,
          125,
          126,
          127,
          128,
          129,
          130,
          131,
          132,
          133,
          134,
          135,
          136,
          137,
          138,
          139,
          140,
          141,
          142,
          143,
          144,
          145,
          146,
          147,
          148,
          149,
          150,
          151,
          152,
          153,
          154,
          155,
          156,
          157,
          158,
          159,
          160,
          161,
          162,
          163,
          164,
          165,
          166,
          167,
          168,
          169,
          170,
          171,
          172,
          173,
          174,
          175,
          176,
          177,
          178,
          179,
          180,
          181,
          182,
          183,
          184,
          185,
          186,
          187,
          188,
          189,
          190,
          191,
          192,
          193,
          194,
          195,
          196,
          197,
          198,
          199,
          200,
          201,
          202,
          203,
          204,
          205,
          206,
          207,
          208,
          209,
          210,
          211,
          212,
          213,
          214,
          215,
          216,
          217,
          218,
          219,
          220,
          221,
          222,
          223,
          224,
          225,
          226,
          227,
          228,
          229,
          230,
          231,
          232,
          233,
          234,
          235,
          236,
          237,
          238,
          239,
          240,
          241,
          242,
          243,
          244,
          245,
          246,
          247,
          248,
          249,
          250,
          251,
          252,
          253,
          254,
          255,
          256,
          257,
          258,
          259,
          260,
          261,
          262,
          263,
          264,
          265,
          266,
          267,
          268,
          269,
          270,
          271,
          272,
          273,
          274,
          275,
          276,
          277,
          278,
          279,
          280,
          281,
          282,
          283,
          284,
          285,
          286,
          287,
          288,
          289,
          290,
          291,
          292,
          293,
          294,
          295,
          296,
          297,
          298,
          299,
          300,
          301,
          302,
          303,
          304,
          305,
          306,
          307,
          308,
          309,
          310,
          311,
          312,
          313,
          314,
          315,
          316,
          317,
          318,
          319,
          320,
          321,
          322,
          323,
          324,
          325,
          326,
          327,
          328,
          329,
          330,
          331,
          332,
          333,
          334,
          335,
          336,
          337,
          338,
          339,
          340,
          341,
          342,
          343,
          344,
          345,
          346,
          347,
          348,
          349,
          350,
          351,
          352,
          353,
          354,
          355,
          356,
          357,
          358
         ],
         "xaxis": "x",
         "y": [
          39.490625,
          15.187857142857142,
          33.33428571428571,
          30.736428571428572,
          59.34285714285714,
          56.03071428571429,
          59.25785714285714,
          59.86642857142857,
          77.36857142857141,
          79.73428571428572,
          106.88357142857141,
          98.64857142857143,
          99.32142857142857,
          99.57142857142857,
          93.17714285714285,
          96.65142857142857,
          94.50999999999999,
          89.86999999999999,
          115.705,
          103.34285714285714,
          124.54285714285713,
          109.10857142857142,
          125.52,
          125.78857142857143,
          110.745,
          95.84357142857142,
          104.38857142857144,
          89.5807142857143,
          108.96714285714286,
          86.48142857142857,
          82.35000000000001,
          93.63357142857141,
          72.35214285714287,
          79.47357142857143,
          85.605,
          68.08071428571428,
          76.32571428571428,
          76.075,
          75.15714285714286,
          72.375,
          66.60357142857143,
          47.71357142857143,
          44.989285714285714,
          55.66428571428571,
          59.44428571428572,
          48.55857142857143,
          42.31142857142857,
          25.444285714285712,
          20.801428571428573,
          22.06714285714286,
          19.00857142857143,
          27.75,
          35.36875,
          31.220714285714283,
          36.56214285714286,
          37.692142857142855,
          51.185,
          70.70285714285714,
          54.166428571428575,
          74.72928571428572,
          71.74214285714287,
          78.57214285714285,
          80.19642857142857,
          75.72785714285715,
          71.10642857142857,
          85.06071428571428,
          99.735,
          106.31357142857142,
          114.91357142857143,
          82.01785714285714,
          112.99000000000001,
          119.56500000000001,
          101.67928571428571,
          113.39857142857143,
          138.38857142857142,
          128.96714285714285,
          100.2207142857143,
          117.32714285714285,
          136.0142857142857,
          132.5557142857143,
          155.71214285714288,
          140.9742857142857,
          101.87214285714286,
          133.80428571428573,
          140.6357142857143,
          86.45071428571428,
          101.82071428571429,
          106.43499999999999,
          94.86,
          84.34571428571428,
          77.86428571428571,
          73.63499999999999,
          61.89214285714286,
          67.87714285714286,
          63.29714285714285,
          55.28785714285714,
          41.35857142857143,
          19.30785714285714,
          22.437142857142856,
          34.121428571428574,
          16.56357142857143,
          20.242142857142856,
          13.28,
          13.010714285714284,
          14.253181818181817,
          24.804285714285715,
          36.800714285714285,
          29.03,
          46.41642857142857,
          56.07857142857143,
          60.705714285714286,
          58.980000000000004,
          70.5,
          73.07428571428571,
          89.11071428571428,
          88.77571428571427,
          81.62,
          81.49142857142856,
          97.04214285714285,
          94.50071428571428,
          97.44357142857143,
          110.55285714285715,
          92.94785714285715,
          110.87214285714286,
          111.5807142857143,
          88.5442857142857,
          98.05357142857143,
          87.47285714285714,
          108.90857142857143,
          115.06714285714285,
          118.25785714285715,
          105.28357142857143,
          117.64142857142858,
          112.15166666666666,
          102.22071428571428,
          104.99499999999999,
          112.27714285714286,
          107.07785714285714,
          112.66857142857144,
          97.15928571428572,
          87.88571428571429,
          76.86214285714286,
          90.92857142857143,
          48.94714285714286,
          49.20642857142857,
          47.34285714285714,
          42.43571428571429,
          35.073571428571434,
          39.121428571428574,
          24.71857142857143,
          24.19857142857143,
          29.589285714285715,
          26.405714285714286,
          21.025000000000002,
          31.762142857142855,
          35.45333333333333,
          47.368,
          47.34928571428571,
          63.89357142857143,
          53.36857142857143,
          29.345714285714283,
          52.410000000000004,
          50.85928571428571,
          53.09214285714285,
          77.23214285714286,
          85.255,
          95.08714285714287,
          86.95714285714284,
          107.4692857142857,
          103.635,
          99.32714285714285,
          103.17,
          95.56928571428571,
          100.20714285714287,
          91.41714285714286,
          105.93142857142857,
          120.77857142857144,
          127.62071428571429,
          111.46523809523809,
          127.82833333333335,
          149.5454761904762,
          104.76428571428572,
          131.27238095238096,
          111.19095238095238,
          137.51857142857142,
          110.92904761904762,
          146.7745238095238,
          113.45142857142856,
          117.31380952380952,
          130.2852380952381,
          111.45285714285716,
          100.11761904761906,
          70.22047619047619,
          77.31809523809524,
          78.06309523809523,
          66.59333333333333,
          72.39809523809524,
          65.14095238095238,
          45.470000000000006,
          53.84619047619048,
          46.45333333333333,
          45.40952380952381,
          33.65904761904762,
          37.08809523809524,
          25.95904761904762,
          40.42190476190476,
          21.536190476190477,
          33.98625,
          26.5025,
          40.519999999999996,
          40.112857142857145,
          30.2202380952381,
          38.800000000000004,
          54.738571428571426,
          65.12238095238095,
          71.33642857142857,
          71.43642857142856,
          68.36595238095238,
          75.33095238095238,
          90.06214285714285,
          94.80404761904762,
          98.61452380952382,
          94.9054761904762,
          114.21333333333334,
          120.08809523809524,
          98.36642857142859,
          115.23238095238095,
          101.59952380952382,
          103.73238095238095,
          115.8202380952381,
          109.74833333333332,
          111.32595238095237,
          115.76857142857143,
          113.91714285714285,
          115.84142857142857,
          113.63452380952381,
          129.21238095238095,
          131.57999999999998,
          135.46690476190477,
          118.86642857142859,
          109.27190476190476,
          121.8895238095238,
          98.43523809523809,
          103.63047619047619,
          115.68714285714285,
          99.17,
          81.71333333333334,
          68.66285714285713,
          88.71904761904761,
          65.29904761904763,
          55.83142857142857,
          61.96809523809524,
          40.42761904761905,
          39.960952380952385,
          29.840714285714284,
          22.646190476190473,
          25.385238095238094,
          25.682380952380953,
          16.87642857142857,
          19.18285714285714,
          37.107083333333335,
          24.43095238095238,
          39.95857142857143,
          47.54952380952381,
          46.93857142857143,
          49.39714285714285,
          47.54642857142857,
          67.64952380952381,
          66.455,
          69.10690476190476,
          74.44714285714285,
          91.51452380952381,
          95.32333333333334,
          94.87880952380952,
          70.91095238095238,
          114.86976190476192,
          89.93761904761904,
          89.10809523809523,
          89.02904761904763,
          79.35452380952381,
          94.71000000000001,
          90.17904761904762,
          107.22380952380954,
          117.29333333333332,
          107.71523809523809,
          149.43380952380951,
          129.41619047619048,
          103.06809523809524,
          121.02619047619048,
          113.25523809523808,
          100.95952380952382,
          101.95285714285714,
          86.67190476190477,
          90.80809523809525,
          110.4247619047619,
          83.71785714285714,
          86.45928571428571,
          75.81619047619049,
          57.11119047619047,
          55.54047619047619,
          54.20809523809525,
          56.31619047619048,
          51.33476190476191,
          38.45214285714286,
          38.139523809523816,
          48.201904761904764,
          41.20761904761905,
          24.672857142857143,
          27.245238095238097,
          32.979523809523805,
          35.05571428571428,
          24.054761904761904,
          23.330666666666666,
          26.824285714285715,
          24.175714285714285,
          34.88952380952381,
          25.877857142857145,
          43.24619047619048,
          45.48571428571428,
          54.14761904761905,
          57.30380952380953,
          67.11190476190477,
          75.9547619047619,
          90.57190476190476,
          79.79523809523809,
          94.74190476190475,
          115.32571428571428,
          105.20690476190477,
          103.20190476190476,
          85.68190476190476,
          106.10428571428572,
          79.54333333333332,
          99.93809523809523,
          92.90333333333334,
          91.62761904761905,
          87.88476190476192,
          88.35190476190476,
          108.03476190476191,
          93.14761904761905,
          111.8,
          95.91428571428571,
          111.4952380952381,
          126.03380952380952,
          91.0604761904762,
          103.84285714285714,
          98.12714285714286,
          92.40333333333334,
          90.87190476190474,
          98.25238095238095,
          97.61833333333334,
          73.45404761904761,
          54.92738095238095,
          65.04166666666667,
          53.626666666666665,
          52.633809523809525,
          39.692857142857136,
          36.690952380952375,
          34.92857142857143,
          31.783888888888885
         ],
         "yaxis": "y"
        }
       ],
       "layout": {
        "legend": {
         "tracegroupgap": 0
        },
        "template": {
         "data": {
          "bar": [
           {
            "error_x": {
             "color": "#2a3f5f"
            },
            "error_y": {
             "color": "#2a3f5f"
            },
            "marker": {
             "line": {
              "color": "#E5ECF6",
              "width": 0.5
             },
             "pattern": {
              "fillmode": "overlay",
              "size": 10,
              "solidity": 0.2
             }
            },
            "type": "bar"
           }
          ],
          "barpolar": [
           {
            "marker": {
             "line": {
              "color": "#E5ECF6",
              "width": 0.5
             },
             "pattern": {
              "fillmode": "overlay",
              "size": 10,
              "solidity": 0.2
             }
            },
            "type": "barpolar"
           }
          ],
          "carpet": [
           {
            "aaxis": {
             "endlinecolor": "#2a3f5f",
             "gridcolor": "white",
             "linecolor": "white",
             "minorgridcolor": "white",
             "startlinecolor": "#2a3f5f"
            },
            "baxis": {
             "endlinecolor": "#2a3f5f",
             "gridcolor": "white",
             "linecolor": "white",
             "minorgridcolor": "white",
             "startlinecolor": "#2a3f5f"
            },
            "type": "carpet"
           }
          ],
          "choropleth": [
           {
            "colorbar": {
             "outlinewidth": 0,
             "ticks": ""
            },
            "type": "choropleth"
           }
          ],
          "contour": [
           {
            "colorbar": {
             "outlinewidth": 0,
             "ticks": ""
            },
            "colorscale": [
             [
              0,
              "#0d0887"
             ],
             [
              0.1111111111111111,
              "#46039f"
             ],
             [
              0.2222222222222222,
              "#7201a8"
             ],
             [
              0.3333333333333333,
              "#9c179e"
             ],
             [
              0.4444444444444444,
              "#bd3786"
             ],
             [
              0.5555555555555556,
              "#d8576b"
             ],
             [
              0.6666666666666666,
              "#ed7953"
             ],
             [
              0.7777777777777778,
              "#fb9f3a"
             ],
             [
              0.8888888888888888,
              "#fdca26"
             ],
             [
              1,
              "#f0f921"
             ]
            ],
            "type": "contour"
           }
          ],
          "contourcarpet": [
           {
            "colorbar": {
             "outlinewidth": 0,
             "ticks": ""
            },
            "type": "contourcarpet"
           }
          ],
          "heatmap": [
           {
            "colorbar": {
             "outlinewidth": 0,
             "ticks": ""
            },
            "colorscale": [
             [
              0,
              "#0d0887"
             ],
             [
              0.1111111111111111,
              "#46039f"
             ],
             [
              0.2222222222222222,
              "#7201a8"
             ],
             [
              0.3333333333333333,
              "#9c179e"
             ],
             [
              0.4444444444444444,
              "#bd3786"
             ],
             [
              0.5555555555555556,
              "#d8576b"
             ],
             [
              0.6666666666666666,
              "#ed7953"
             ],
             [
              0.7777777777777778,
              "#fb9f3a"
             ],
             [
              0.8888888888888888,
              "#fdca26"
             ],
             [
              1,
              "#f0f921"
             ]
            ],
            "type": "heatmap"
           }
          ],
          "heatmapgl": [
           {
            "colorbar": {
             "outlinewidth": 0,
             "ticks": ""
            },
            "colorscale": [
             [
              0,
              "#0d0887"
             ],
             [
              0.1111111111111111,
              "#46039f"
             ],
             [
              0.2222222222222222,
              "#7201a8"
             ],
             [
              0.3333333333333333,
              "#9c179e"
             ],
             [
              0.4444444444444444,
              "#bd3786"
             ],
             [
              0.5555555555555556,
              "#d8576b"
             ],
             [
              0.6666666666666666,
              "#ed7953"
             ],
             [
              0.7777777777777778,
              "#fb9f3a"
             ],
             [
              0.8888888888888888,
              "#fdca26"
             ],
             [
              1,
              "#f0f921"
             ]
            ],
            "type": "heatmapgl"
           }
          ],
          "histogram": [
           {
            "marker": {
             "pattern": {
              "fillmode": "overlay",
              "size": 10,
              "solidity": 0.2
             }
            },
            "type": "histogram"
           }
          ],
          "histogram2d": [
           {
            "colorbar": {
             "outlinewidth": 0,
             "ticks": ""
            },
            "colorscale": [
             [
              0,
              "#0d0887"
             ],
             [
              0.1111111111111111,
              "#46039f"
             ],
             [
              0.2222222222222222,
              "#7201a8"
             ],
             [
              0.3333333333333333,
              "#9c179e"
             ],
             [
              0.4444444444444444,
              "#bd3786"
             ],
             [
              0.5555555555555556,
              "#d8576b"
             ],
             [
              0.6666666666666666,
              "#ed7953"
             ],
             [
              0.7777777777777778,
              "#fb9f3a"
             ],
             [
              0.8888888888888888,
              "#fdca26"
             ],
             [
              1,
              "#f0f921"
             ]
            ],
            "type": "histogram2d"
           }
          ],
          "histogram2dcontour": [
           {
            "colorbar": {
             "outlinewidth": 0,
             "ticks": ""
            },
            "colorscale": [
             [
              0,
              "#0d0887"
             ],
             [
              0.1111111111111111,
              "#46039f"
             ],
             [
              0.2222222222222222,
              "#7201a8"
             ],
             [
              0.3333333333333333,
              "#9c179e"
             ],
             [
              0.4444444444444444,
              "#bd3786"
             ],
             [
              0.5555555555555556,
              "#d8576b"
             ],
             [
              0.6666666666666666,
              "#ed7953"
             ],
             [
              0.7777777777777778,
              "#fb9f3a"
             ],
             [
              0.8888888888888888,
              "#fdca26"
             ],
             [
              1,
              "#f0f921"
             ]
            ],
            "type": "histogram2dcontour"
           }
          ],
          "mesh3d": [
           {
            "colorbar": {
             "outlinewidth": 0,
             "ticks": ""
            },
            "type": "mesh3d"
           }
          ],
          "parcoords": [
           {
            "line": {
             "colorbar": {
              "outlinewidth": 0,
              "ticks": ""
             }
            },
            "type": "parcoords"
           }
          ],
          "pie": [
           {
            "automargin": true,
            "type": "pie"
           }
          ],
          "scatter": [
           {
            "marker": {
             "colorbar": {
              "outlinewidth": 0,
              "ticks": ""
             }
            },
            "type": "scatter"
           }
          ],
          "scatter3d": [
           {
            "line": {
             "colorbar": {
              "outlinewidth": 0,
              "ticks": ""
             }
            },
            "marker": {
             "colorbar": {
              "outlinewidth": 0,
              "ticks": ""
             }
            },
            "type": "scatter3d"
           }
          ],
          "scattercarpet": [
           {
            "marker": {
             "colorbar": {
              "outlinewidth": 0,
              "ticks": ""
             }
            },
            "type": "scattercarpet"
           }
          ],
          "scattergeo": [
           {
            "marker": {
             "colorbar": {
              "outlinewidth": 0,
              "ticks": ""
             }
            },
            "type": "scattergeo"
           }
          ],
          "scattergl": [
           {
            "marker": {
             "colorbar": {
              "outlinewidth": 0,
              "ticks": ""
             }
            },
            "type": "scattergl"
           }
          ],
          "scattermapbox": [
           {
            "marker": {
             "colorbar": {
              "outlinewidth": 0,
              "ticks": ""
             }
            },
            "type": "scattermapbox"
           }
          ],
          "scatterpolar": [
           {
            "marker": {
             "colorbar": {
              "outlinewidth": 0,
              "ticks": ""
             }
            },
            "type": "scatterpolar"
           }
          ],
          "scatterpolargl": [
           {
            "marker": {
             "colorbar": {
              "outlinewidth": 0,
              "ticks": ""
             }
            },
            "type": "scatterpolargl"
           }
          ],
          "scatterternary": [
           {
            "marker": {
             "colorbar": {
              "outlinewidth": 0,
              "ticks": ""
             }
            },
            "type": "scatterternary"
           }
          ],
          "surface": [
           {
            "colorbar": {
             "outlinewidth": 0,
             "ticks": ""
            },
            "colorscale": [
             [
              0,
              "#0d0887"
             ],
             [
              0.1111111111111111,
              "#46039f"
             ],
             [
              0.2222222222222222,
              "#7201a8"
             ],
             [
              0.3333333333333333,
              "#9c179e"
             ],
             [
              0.4444444444444444,
              "#bd3786"
             ],
             [
              0.5555555555555556,
              "#d8576b"
             ],
             [
              0.6666666666666666,
              "#ed7953"
             ],
             [
              0.7777777777777778,
              "#fb9f3a"
             ],
             [
              0.8888888888888888,
              "#fdca26"
             ],
             [
              1,
              "#f0f921"
             ]
            ],
            "type": "surface"
           }
          ],
          "table": [
           {
            "cells": {
             "fill": {
              "color": "#EBF0F8"
             },
             "line": {
              "color": "white"
             }
            },
            "header": {
             "fill": {
              "color": "#C8D4E3"
             },
             "line": {
              "color": "white"
             }
            },
            "type": "table"
           }
          ]
         },
         "layout": {
          "annotationdefaults": {
           "arrowcolor": "#2a3f5f",
           "arrowhead": 0,
           "arrowwidth": 1
          },
          "autotypenumbers": "strict",
          "coloraxis": {
           "colorbar": {
            "outlinewidth": 0,
            "ticks": ""
           }
          },
          "colorscale": {
           "diverging": [
            [
             0,
             "#8e0152"
            ],
            [
             0.1,
             "#c51b7d"
            ],
            [
             0.2,
             "#de77ae"
            ],
            [
             0.3,
             "#f1b6da"
            ],
            [
             0.4,
             "#fde0ef"
            ],
            [
             0.5,
             "#f7f7f7"
            ],
            [
             0.6,
             "#e6f5d0"
            ],
            [
             0.7,
             "#b8e186"
            ],
            [
             0.8,
             "#7fbc41"
            ],
            [
             0.9,
             "#4d9221"
            ],
            [
             1,
             "#276419"
            ]
           ],
           "sequential": [
            [
             0,
             "#0d0887"
            ],
            [
             0.1111111111111111,
             "#46039f"
            ],
            [
             0.2222222222222222,
             "#7201a8"
            ],
            [
             0.3333333333333333,
             "#9c179e"
            ],
            [
             0.4444444444444444,
             "#bd3786"
            ],
            [
             0.5555555555555556,
             "#d8576b"
            ],
            [
             0.6666666666666666,
             "#ed7953"
            ],
            [
             0.7777777777777778,
             "#fb9f3a"
            ],
            [
             0.8888888888888888,
             "#fdca26"
            ],
            [
             1,
             "#f0f921"
            ]
           ],
           "sequentialminus": [
            [
             0,
             "#0d0887"
            ],
            [
             0.1111111111111111,
             "#46039f"
            ],
            [
             0.2222222222222222,
             "#7201a8"
            ],
            [
             0.3333333333333333,
             "#9c179e"
            ],
            [
             0.4444444444444444,
             "#bd3786"
            ],
            [
             0.5555555555555556,
             "#d8576b"
            ],
            [
             0.6666666666666666,
             "#ed7953"
            ],
            [
             0.7777777777777778,
             "#fb9f3a"
            ],
            [
             0.8888888888888888,
             "#fdca26"
            ],
            [
             1,
             "#f0f921"
            ]
           ]
          },
          "colorway": [
           "#636efa",
           "#EF553B",
           "#00cc96",
           "#ab63fa",
           "#FFA15A",
           "#19d3f3",
           "#FF6692",
           "#B6E880",
           "#FF97FF",
           "#FECB52"
          ],
          "font": {
           "color": "#2a3f5f"
          },
          "geo": {
           "bgcolor": "white",
           "lakecolor": "white",
           "landcolor": "#E5ECF6",
           "showlakes": true,
           "showland": true,
           "subunitcolor": "white"
          },
          "hoverlabel": {
           "align": "left"
          },
          "hovermode": "closest",
          "mapbox": {
           "style": "light"
          },
          "paper_bgcolor": "white",
          "plot_bgcolor": "#E5ECF6",
          "polar": {
           "angularaxis": {
            "gridcolor": "white",
            "linecolor": "white",
            "ticks": ""
           },
           "bgcolor": "#E5ECF6",
           "radialaxis": {
            "gridcolor": "white",
            "linecolor": "white",
            "ticks": ""
           }
          },
          "scene": {
           "xaxis": {
            "backgroundcolor": "#E5ECF6",
            "gridcolor": "white",
            "gridwidth": 2,
            "linecolor": "white",
            "showbackground": true,
            "ticks": "",
            "zerolinecolor": "white"
           },
           "yaxis": {
            "backgroundcolor": "#E5ECF6",
            "gridcolor": "white",
            "gridwidth": 2,
            "linecolor": "white",
            "showbackground": true,
            "ticks": "",
            "zerolinecolor": "white"
           },
           "zaxis": {
            "backgroundcolor": "#E5ECF6",
            "gridcolor": "white",
            "gridwidth": 2,
            "linecolor": "white",
            "showbackground": true,
            "ticks": "",
            "zerolinecolor": "white"
           }
          },
          "shapedefaults": {
           "line": {
            "color": "#2a3f5f"
           }
          },
          "ternary": {
           "aaxis": {
            "gridcolor": "white",
            "linecolor": "white",
            "ticks": ""
           },
           "baxis": {
            "gridcolor": "white",
            "linecolor": "white",
            "ticks": ""
           },
           "bgcolor": "#E5ECF6",
           "caxis": {
            "gridcolor": "white",
            "linecolor": "white",
            "ticks": ""
           }
          },
          "title": {
           "x": 0.05
          },
          "xaxis": {
           "automargin": true,
           "gridcolor": "white",
           "linecolor": "white",
           "ticks": "",
           "title": {
            "standoff": 15
           },
           "zerolinecolor": "white",
           "zerolinewidth": 2
          },
          "yaxis": {
           "automargin": true,
           "gridcolor": "white",
           "linecolor": "white",
           "ticks": "",
           "title": {
            "standoff": 15
           },
           "zerolinecolor": "white",
           "zerolinewidth": 2
          }
         }
        },
        "title": {
         "text": "Provincia: Pordenone"
        },
        "xaxis": {
         "anchor": "y",
         "domain": [
          0,
          1
         ],
         "title": {
          "text": "time_idx"
         }
        },
        "yaxis": {
         "anchor": "x",
         "domain": [
          0,
          1
         ],
         "title": {
          "text": "ozono_8h_max"
         }
        }
       }
      }
     },
     "metadata": {},
     "output_type": "display_data"
    },
    {
     "data": {
      "application/vnd.plotly.v1+json": {
       "config": {
        "plotlyServerURL": "https://plot.ly"
       },
       "data": [
        {
         "hovertemplate": "time_idx=%{x}<br>ozono_8h_max=%{y}<extra></extra>",
         "legendgroup": "",
         "line": {
          "color": "#636efa",
          "dash": "solid"
         },
         "marker": {
          "symbol": "circle"
         },
         "mode": "lines",
         "name": "",
         "orientation": "v",
         "showlegend": false,
         "type": "scatter",
         "x": [
          0,
          1,
          2,
          3,
          4,
          5,
          6,
          7,
          8,
          9,
          10,
          11,
          12,
          13,
          14,
          15,
          16,
          17,
          18,
          19,
          20,
          21,
          22,
          23,
          24,
          25,
          26,
          27,
          28,
          29,
          30,
          31,
          32,
          33,
          34,
          35,
          36,
          37,
          38,
          39,
          40,
          41,
          42,
          43,
          44,
          45,
          46,
          47,
          48,
          49,
          50,
          51,
          52,
          53,
          54,
          55,
          56,
          57,
          58,
          59,
          60,
          61,
          62,
          63,
          64,
          65,
          66,
          67,
          68,
          69,
          70,
          71,
          72,
          73,
          74,
          75,
          76,
          77,
          78,
          79,
          80,
          81,
          82,
          83,
          84,
          85,
          86,
          87,
          88,
          89,
          90,
          91,
          92,
          93,
          94,
          95,
          96,
          97,
          98,
          99,
          100,
          101,
          102,
          103,
          104,
          105,
          106,
          107,
          108,
          109,
          110,
          111,
          112,
          113,
          114,
          115,
          116,
          117,
          118,
          119,
          120,
          121,
          122,
          123,
          124,
          125,
          126,
          127,
          128,
          129,
          130,
          131,
          132,
          133,
          134,
          135,
          136,
          137,
          138,
          139,
          140,
          141,
          142,
          143,
          144,
          145,
          146,
          147,
          148,
          149,
          150,
          151,
          152,
          153,
          154,
          155,
          156,
          157,
          158,
          159,
          160,
          161,
          162,
          163,
          164,
          165,
          166,
          167,
          168,
          169,
          170,
          171,
          172,
          173,
          174,
          175,
          176,
          177,
          178,
          179,
          180,
          181,
          182,
          183,
          184,
          185,
          186,
          187,
          188,
          189,
          190,
          191,
          192,
          193,
          194,
          195,
          196,
          197,
          198,
          199,
          200,
          201,
          202,
          203,
          204,
          205,
          206,
          207,
          208,
          209,
          210,
          211,
          212,
          213,
          214,
          215,
          216,
          217,
          218,
          219,
          220,
          221,
          222,
          223,
          224,
          225,
          226,
          227,
          228,
          229,
          230,
          231,
          232,
          233,
          234,
          235,
          236,
          237,
          238,
          239,
          240,
          241,
          242,
          243,
          244,
          245,
          246,
          247,
          248,
          249,
          250,
          251,
          252,
          253,
          254,
          255,
          256,
          257,
          258,
          259,
          260,
          261,
          262,
          263,
          264,
          265,
          266,
          267,
          268,
          269,
          270,
          271,
          272,
          273,
          274,
          275,
          276,
          277,
          278,
          279,
          280,
          281,
          282,
          283,
          284,
          285,
          286,
          287,
          288,
          289,
          290,
          291,
          292,
          293,
          294,
          295,
          296,
          297,
          298,
          299,
          300,
          301,
          302,
          303,
          304,
          305,
          306,
          307,
          308,
          309,
          310,
          311,
          312,
          313,
          314,
          315,
          316,
          317,
          318,
          319,
          320,
          321,
          322,
          323,
          324,
          325,
          326,
          327,
          328,
          329,
          330,
          331,
          332,
          333,
          334,
          335,
          336,
          337,
          338,
          339,
          340,
          341,
          342,
          343,
          344,
          345,
          346,
          347,
          348,
          349,
          350,
          351,
          352,
          353,
          354,
          355,
          356,
          357,
          358
         ],
         "xaxis": "x",
         "y": [
          51.98375,
          16.329285714285714,
          45.80357142857143,
          37.81428571428571,
          67.36999999999999,
          71.68857142857142,
          72.65214285714285,
          71.83500000000001,
          79.59,
          78.14285714285714,
          104.91428571428571,
          90.84285714285714,
          87.11928571428572,
          86.10071428571429,
          90.49,
          94.36857142857143,
          84.36714285714285,
          85.00071428571428,
          100.54357142857144,
          80.30714285714285,
          90.62571428571428,
          89.16071428571429,
          124.41857142857144,
          113.7942857142857,
          112.39,
          106.88214285714285,
          107.34357142857142,
          96.27142857142857,
          114.85071428571429,
          100.05571428571429,
          70.80642857142857,
          80.57928571428572,
          80.51857142857143,
          84.50357142857142,
          87.32357142857143,
          78.22214285714287,
          82.80071428571429,
          75.80214285714285,
          79.62714285714286,
          71.08642857142857,
          71.605,
          57.88285714285714,
          50.64928571428572,
          64.61214285714286,
          68.18285714285715,
          59.62071428571428,
          42.299285714285716,
          35.419285714285714,
          33.91642857142857,
          38.207857142857144,
          33.14,
          41.96071428571429,
          54.25,
          46.861428571428576,
          53.684999999999995,
          43.75928571428572,
          63.151428571428575,
          68.51071428571429,
          59.16857142857143,
          89.00214285714286,
          74.88428571428572,
          84.73714285714286,
          78.95,
          91.23928571428571,
          84.09785714285714,
          89.75357142857142,
          91.66714285714285,
          100.60000000000001,
          108.94714285714285,
          89.13714285714286,
          100.64357142857143,
          106.16214285714285,
          92.60285714285715,
          105.75357142857142,
          119.38357142857144,
          116.35642857142857,
          100.61714285714285,
          105.81285714285715,
          119.70857142857143,
          116.02857142857144,
          126.865,
          136.09071428571428,
          101.74642857142858,
          118.5942857142857,
          136.85714285714286,
          90.94571428571429,
          97.32428571428571,
          105.74000000000001,
          98.57357142857143,
          89.245,
          85.86071428571428,
          78.58428571428571,
          63.20214285714286,
          68.76642857142858,
          63.32357142857143,
          69.99928571428572,
          50.18142857142857,
          28.972857142857144,
          38.56785714285714,
          55.62357142857143,
          26.485714285714288,
          29.514285714285712,
          20.56142857142857,
          18.497142857142855,
          31.265454545454542,
          52.65,
          52.705714285714286,
          17.301428571428573,
          39.55285714285714,
          62.36285714285714,
          71.94428571428571,
          78.96142857142857,
          81.7942857142857,
          82.19285714285715,
          94.01714285714286,
          90.55428571428571,
          80.35571428571428,
          73.11928571428572,
          95.16071428571429,
          95.91499999999999,
          95.15785714285714,
          99.75142857142858,
          90.35857142857142,
          110.2792857142857,
          112.61928571428572,
          93.44428571428571,
          98.2792857142857,
          85.04642857142858,
          94.41214285714285,
          107.22214285714287,
          105.66785714285713,
          101.99428571428572,
          114.93857142857142,
          118.43333333333334,
          102.2057142857143,
          102.45285714285716,
          114.89642857142857,
          103.02714285714286,
          121.64071428571428,
          102.675,
          91.56142857142856,
          86.41857142857143,
          106.85571428571428,
          66.48428571428572,
          63.412142857142854,
          55.90071428571429,
          58.86928571428571,
          69.30285714285715,
          59.13857142857143,
          56.087857142857146,
          56.152142857142856,
          51.71928571428572,
          44.45428571428572,
          44.86071428571429,
          62.31928571428572,
          62.70083333333333,
          61.3095,
          67.61571428571429,
          80.60000000000001,
          76.35214285714287,
          64.54714285714286,
          63.69857142857143,
          68.17785714285715,
          63.270714285714284,
          87.77,
          87.85714285714286,
          95.57571428571428,
          82.65071428571427,
          103.9857142857143,
          104.11,
          93.6842857142857,
          98.94500000000001,
          100.02285714285713,
          96.15785714285714,
          88.60071428571429,
          100.85000000000001,
          108.58571428571429,
          124.99785714285714,
          107.17571428571429,
          115.18214285714285,
          137.325,
          93.99000000000001,
          121.82714285714285,
          100.79428571428572,
          129.91214285714287,
          112.89428571428572,
          135.73214285714286,
          103.34928571428573,
          107.69571428571429,
          116.30714285714285,
          99.48928571428571,
          87.53785714285713,
          75.995,
          81.42642857142857,
          79.18785714285715,
          76.985,
          66.44500000000001,
          69.745,
          59.50428571428571,
          72.03214285714286,
          56.339999999999996,
          61.51214285714286,
          51.01428571428572,
          58.722142857142856,
          47.56,
          63.69642857142857,
          36.989285714285714,
          47.3675,
          51.725625,
          54.185,
          46.630714285714284,
          48.67857142857143,
          60.48357142857143,
          64.17999999999999,
          75.41214285714285,
          82.32571428571428,
          81.73,
          77.18499999999999,
          80.98,
          93.17071428571428,
          101.80357142857143,
          95.88642857142858,
          99.67642857142857,
          101.36714285714285,
          109.37214285714286,
          97.49857142857142,
          106.33357142857143,
          92.46785714285714,
          92.16428571428571,
          106.28642857142857,
          103.96142857142857,
          104.29857142857142,
          106.4707142857143,
          104.38214285714287,
          108.93714285714286,
          103.49214285714287,
          129.43214285714285,
          128.28428571428572,
          120.26,
          118.92857142857143,
          103.16285714285713,
          111.52357142857143,
          97.06214285714285,
          100.54071428571429,
          105.89285714285714,
          94.49928571428572,
          82.30142857142857,
          71.59785714285714,
          93.49928571428572,
          88.27428571428571,
          71.99142857142857,
          67.095,
          58.56928571428572,
          65.59214285714286,
          49.45357142857142,
          51.605000000000004,
          33.105714285714285,
          54.478571428571435,
          51.25285714285714,
          33.48642857142857,
          42.976875,
          46.355714285714285,
          55.863571428571426,
          60.43,
          63.73642857142857,
          70.75214285714286,
          54.38785714285715,
          69.33571428571429,
          76.095,
          81.86785714285713,
          77.89714285714285,
          92.63785714285714,
          88.13928571428572,
          97.96642857142857,
          73.52714285714286,
          108.58428571428571,
          89.35857142857142,
          86.39642857142857,
          90.13642857142857,
          74.27214285714285,
          88.96142857142857,
          81.20714285714284,
          92.45285714285714,
          110.91357142857143,
          98.75857142857141,
          113.10285714285715,
          129.93214285714285,
          107.31285714285715,
          119.43785714285715,
          111.84857142857143,
          91.83642857142857,
          90.16499999999999,
          87.90357142857144,
          94.01928571428572,
          102.425,
          85.31857142857143,
          78.10857142857142,
          81.38857142857144,
          62.451428571428565,
          63.462857142857146,
          70.8607142857143,
          64.99,
          48.415000000000006,
          46.80785714285714,
          50.61142857142857,
          48.38071428571429,
          50.583571428571425,
          42.95642857142857,
          33.62357142857143,
          27.421428571428574,
          33.10071428571428,
          26.06714285714286,
          26.560000000000002,
          34.364285714285714,
          41.98642857142857,
          47.01,
          47.38428571428572,
          56.10142857142858,
          57.32714285714285,
          64.765,
          78.15714285714286,
          78.1557142857143,
          86.56293233082707,
          95.82785714285714,
          86.38571428571429,
          102.5198901098901,
          121.08142857142856,
          117.78642857142857,
          111.17684210526316,
          84.01214285714285,
          101.2942857142857,
          76.0085119047619,
          105.7820843179377,
          98.56554421768706,
          101.38928571428572,
          96.87928571428571,
          96.46285714285715,
          109.71071428571429,
          95.97071428571428,
          115.4557142857143,
          98.97642857142857,
          123.87928571428571,
          128.3868045112782,
          97.43571428571428,
          113.66857142857144,
          108.97285714285715,
          109.93714285714285,
          101.63428571428571,
          105.91428571428571,
          107.27214285714285,
          83.535,
          82.16214285714285,
          73.54428571428572,
          65.68142857142857,
          77.08372180451127,
          50.16285714285714,
          64.09921768707484,
          45.47642857142858,
          69.56833333333333
         ],
         "yaxis": "y"
        }
       ],
       "layout": {
        "legend": {
         "tracegroupgap": 0
        },
        "template": {
         "data": {
          "bar": [
           {
            "error_x": {
             "color": "#2a3f5f"
            },
            "error_y": {
             "color": "#2a3f5f"
            },
            "marker": {
             "line": {
              "color": "#E5ECF6",
              "width": 0.5
             },
             "pattern": {
              "fillmode": "overlay",
              "size": 10,
              "solidity": 0.2
             }
            },
            "type": "bar"
           }
          ],
          "barpolar": [
           {
            "marker": {
             "line": {
              "color": "#E5ECF6",
              "width": 0.5
             },
             "pattern": {
              "fillmode": "overlay",
              "size": 10,
              "solidity": 0.2
             }
            },
            "type": "barpolar"
           }
          ],
          "carpet": [
           {
            "aaxis": {
             "endlinecolor": "#2a3f5f",
             "gridcolor": "white",
             "linecolor": "white",
             "minorgridcolor": "white",
             "startlinecolor": "#2a3f5f"
            },
            "baxis": {
             "endlinecolor": "#2a3f5f",
             "gridcolor": "white",
             "linecolor": "white",
             "minorgridcolor": "white",
             "startlinecolor": "#2a3f5f"
            },
            "type": "carpet"
           }
          ],
          "choropleth": [
           {
            "colorbar": {
             "outlinewidth": 0,
             "ticks": ""
            },
            "type": "choropleth"
           }
          ],
          "contour": [
           {
            "colorbar": {
             "outlinewidth": 0,
             "ticks": ""
            },
            "colorscale": [
             [
              0,
              "#0d0887"
             ],
             [
              0.1111111111111111,
              "#46039f"
             ],
             [
              0.2222222222222222,
              "#7201a8"
             ],
             [
              0.3333333333333333,
              "#9c179e"
             ],
             [
              0.4444444444444444,
              "#bd3786"
             ],
             [
              0.5555555555555556,
              "#d8576b"
             ],
             [
              0.6666666666666666,
              "#ed7953"
             ],
             [
              0.7777777777777778,
              "#fb9f3a"
             ],
             [
              0.8888888888888888,
              "#fdca26"
             ],
             [
              1,
              "#f0f921"
             ]
            ],
            "type": "contour"
           }
          ],
          "contourcarpet": [
           {
            "colorbar": {
             "outlinewidth": 0,
             "ticks": ""
            },
            "type": "contourcarpet"
           }
          ],
          "heatmap": [
           {
            "colorbar": {
             "outlinewidth": 0,
             "ticks": ""
            },
            "colorscale": [
             [
              0,
              "#0d0887"
             ],
             [
              0.1111111111111111,
              "#46039f"
             ],
             [
              0.2222222222222222,
              "#7201a8"
             ],
             [
              0.3333333333333333,
              "#9c179e"
             ],
             [
              0.4444444444444444,
              "#bd3786"
             ],
             [
              0.5555555555555556,
              "#d8576b"
             ],
             [
              0.6666666666666666,
              "#ed7953"
             ],
             [
              0.7777777777777778,
              "#fb9f3a"
             ],
             [
              0.8888888888888888,
              "#fdca26"
             ],
             [
              1,
              "#f0f921"
             ]
            ],
            "type": "heatmap"
           }
          ],
          "heatmapgl": [
           {
            "colorbar": {
             "outlinewidth": 0,
             "ticks": ""
            },
            "colorscale": [
             [
              0,
              "#0d0887"
             ],
             [
              0.1111111111111111,
              "#46039f"
             ],
             [
              0.2222222222222222,
              "#7201a8"
             ],
             [
              0.3333333333333333,
              "#9c179e"
             ],
             [
              0.4444444444444444,
              "#bd3786"
             ],
             [
              0.5555555555555556,
              "#d8576b"
             ],
             [
              0.6666666666666666,
              "#ed7953"
             ],
             [
              0.7777777777777778,
              "#fb9f3a"
             ],
             [
              0.8888888888888888,
              "#fdca26"
             ],
             [
              1,
              "#f0f921"
             ]
            ],
            "type": "heatmapgl"
           }
          ],
          "histogram": [
           {
            "marker": {
             "pattern": {
              "fillmode": "overlay",
              "size": 10,
              "solidity": 0.2
             }
            },
            "type": "histogram"
           }
          ],
          "histogram2d": [
           {
            "colorbar": {
             "outlinewidth": 0,
             "ticks": ""
            },
            "colorscale": [
             [
              0,
              "#0d0887"
             ],
             [
              0.1111111111111111,
              "#46039f"
             ],
             [
              0.2222222222222222,
              "#7201a8"
             ],
             [
              0.3333333333333333,
              "#9c179e"
             ],
             [
              0.4444444444444444,
              "#bd3786"
             ],
             [
              0.5555555555555556,
              "#d8576b"
             ],
             [
              0.6666666666666666,
              "#ed7953"
             ],
             [
              0.7777777777777778,
              "#fb9f3a"
             ],
             [
              0.8888888888888888,
              "#fdca26"
             ],
             [
              1,
              "#f0f921"
             ]
            ],
            "type": "histogram2d"
           }
          ],
          "histogram2dcontour": [
           {
            "colorbar": {
             "outlinewidth": 0,
             "ticks": ""
            },
            "colorscale": [
             [
              0,
              "#0d0887"
             ],
             [
              0.1111111111111111,
              "#46039f"
             ],
             [
              0.2222222222222222,
              "#7201a8"
             ],
             [
              0.3333333333333333,
              "#9c179e"
             ],
             [
              0.4444444444444444,
              "#bd3786"
             ],
             [
              0.5555555555555556,
              "#d8576b"
             ],
             [
              0.6666666666666666,
              "#ed7953"
             ],
             [
              0.7777777777777778,
              "#fb9f3a"
             ],
             [
              0.8888888888888888,
              "#fdca26"
             ],
             [
              1,
              "#f0f921"
             ]
            ],
            "type": "histogram2dcontour"
           }
          ],
          "mesh3d": [
           {
            "colorbar": {
             "outlinewidth": 0,
             "ticks": ""
            },
            "type": "mesh3d"
           }
          ],
          "parcoords": [
           {
            "line": {
             "colorbar": {
              "outlinewidth": 0,
              "ticks": ""
             }
            },
            "type": "parcoords"
           }
          ],
          "pie": [
           {
            "automargin": true,
            "type": "pie"
           }
          ],
          "scatter": [
           {
            "marker": {
             "colorbar": {
              "outlinewidth": 0,
              "ticks": ""
             }
            },
            "type": "scatter"
           }
          ],
          "scatter3d": [
           {
            "line": {
             "colorbar": {
              "outlinewidth": 0,
              "ticks": ""
             }
            },
            "marker": {
             "colorbar": {
              "outlinewidth": 0,
              "ticks": ""
             }
            },
            "type": "scatter3d"
           }
          ],
          "scattercarpet": [
           {
            "marker": {
             "colorbar": {
              "outlinewidth": 0,
              "ticks": ""
             }
            },
            "type": "scattercarpet"
           }
          ],
          "scattergeo": [
           {
            "marker": {
             "colorbar": {
              "outlinewidth": 0,
              "ticks": ""
             }
            },
            "type": "scattergeo"
           }
          ],
          "scattergl": [
           {
            "marker": {
             "colorbar": {
              "outlinewidth": 0,
              "ticks": ""
             }
            },
            "type": "scattergl"
           }
          ],
          "scattermapbox": [
           {
            "marker": {
             "colorbar": {
              "outlinewidth": 0,
              "ticks": ""
             }
            },
            "type": "scattermapbox"
           }
          ],
          "scatterpolar": [
           {
            "marker": {
             "colorbar": {
              "outlinewidth": 0,
              "ticks": ""
             }
            },
            "type": "scatterpolar"
           }
          ],
          "scatterpolargl": [
           {
            "marker": {
             "colorbar": {
              "outlinewidth": 0,
              "ticks": ""
             }
            },
            "type": "scatterpolargl"
           }
          ],
          "scatterternary": [
           {
            "marker": {
             "colorbar": {
              "outlinewidth": 0,
              "ticks": ""
             }
            },
            "type": "scatterternary"
           }
          ],
          "surface": [
           {
            "colorbar": {
             "outlinewidth": 0,
             "ticks": ""
            },
            "colorscale": [
             [
              0,
              "#0d0887"
             ],
             [
              0.1111111111111111,
              "#46039f"
             ],
             [
              0.2222222222222222,
              "#7201a8"
             ],
             [
              0.3333333333333333,
              "#9c179e"
             ],
             [
              0.4444444444444444,
              "#bd3786"
             ],
             [
              0.5555555555555556,
              "#d8576b"
             ],
             [
              0.6666666666666666,
              "#ed7953"
             ],
             [
              0.7777777777777778,
              "#fb9f3a"
             ],
             [
              0.8888888888888888,
              "#fdca26"
             ],
             [
              1,
              "#f0f921"
             ]
            ],
            "type": "surface"
           }
          ],
          "table": [
           {
            "cells": {
             "fill": {
              "color": "#EBF0F8"
             },
             "line": {
              "color": "white"
             }
            },
            "header": {
             "fill": {
              "color": "#C8D4E3"
             },
             "line": {
              "color": "white"
             }
            },
            "type": "table"
           }
          ]
         },
         "layout": {
          "annotationdefaults": {
           "arrowcolor": "#2a3f5f",
           "arrowhead": 0,
           "arrowwidth": 1
          },
          "autotypenumbers": "strict",
          "coloraxis": {
           "colorbar": {
            "outlinewidth": 0,
            "ticks": ""
           }
          },
          "colorscale": {
           "diverging": [
            [
             0,
             "#8e0152"
            ],
            [
             0.1,
             "#c51b7d"
            ],
            [
             0.2,
             "#de77ae"
            ],
            [
             0.3,
             "#f1b6da"
            ],
            [
             0.4,
             "#fde0ef"
            ],
            [
             0.5,
             "#f7f7f7"
            ],
            [
             0.6,
             "#e6f5d0"
            ],
            [
             0.7,
             "#b8e186"
            ],
            [
             0.8,
             "#7fbc41"
            ],
            [
             0.9,
             "#4d9221"
            ],
            [
             1,
             "#276419"
            ]
           ],
           "sequential": [
            [
             0,
             "#0d0887"
            ],
            [
             0.1111111111111111,
             "#46039f"
            ],
            [
             0.2222222222222222,
             "#7201a8"
            ],
            [
             0.3333333333333333,
             "#9c179e"
            ],
            [
             0.4444444444444444,
             "#bd3786"
            ],
            [
             0.5555555555555556,
             "#d8576b"
            ],
            [
             0.6666666666666666,
             "#ed7953"
            ],
            [
             0.7777777777777778,
             "#fb9f3a"
            ],
            [
             0.8888888888888888,
             "#fdca26"
            ],
            [
             1,
             "#f0f921"
            ]
           ],
           "sequentialminus": [
            [
             0,
             "#0d0887"
            ],
            [
             0.1111111111111111,
             "#46039f"
            ],
            [
             0.2222222222222222,
             "#7201a8"
            ],
            [
             0.3333333333333333,
             "#9c179e"
            ],
            [
             0.4444444444444444,
             "#bd3786"
            ],
            [
             0.5555555555555556,
             "#d8576b"
            ],
            [
             0.6666666666666666,
             "#ed7953"
            ],
            [
             0.7777777777777778,
             "#fb9f3a"
            ],
            [
             0.8888888888888888,
             "#fdca26"
            ],
            [
             1,
             "#f0f921"
            ]
           ]
          },
          "colorway": [
           "#636efa",
           "#EF553B",
           "#00cc96",
           "#ab63fa",
           "#FFA15A",
           "#19d3f3",
           "#FF6692",
           "#B6E880",
           "#FF97FF",
           "#FECB52"
          ],
          "font": {
           "color": "#2a3f5f"
          },
          "geo": {
           "bgcolor": "white",
           "lakecolor": "white",
           "landcolor": "#E5ECF6",
           "showlakes": true,
           "showland": true,
           "subunitcolor": "white"
          },
          "hoverlabel": {
           "align": "left"
          },
          "hovermode": "closest",
          "mapbox": {
           "style": "light"
          },
          "paper_bgcolor": "white",
          "plot_bgcolor": "#E5ECF6",
          "polar": {
           "angularaxis": {
            "gridcolor": "white",
            "linecolor": "white",
            "ticks": ""
           },
           "bgcolor": "#E5ECF6",
           "radialaxis": {
            "gridcolor": "white",
            "linecolor": "white",
            "ticks": ""
           }
          },
          "scene": {
           "xaxis": {
            "backgroundcolor": "#E5ECF6",
            "gridcolor": "white",
            "gridwidth": 2,
            "linecolor": "white",
            "showbackground": true,
            "ticks": "",
            "zerolinecolor": "white"
           },
           "yaxis": {
            "backgroundcolor": "#E5ECF6",
            "gridcolor": "white",
            "gridwidth": 2,
            "linecolor": "white",
            "showbackground": true,
            "ticks": "",
            "zerolinecolor": "white"
           },
           "zaxis": {
            "backgroundcolor": "#E5ECF6",
            "gridcolor": "white",
            "gridwidth": 2,
            "linecolor": "white",
            "showbackground": true,
            "ticks": "",
            "zerolinecolor": "white"
           }
          },
          "shapedefaults": {
           "line": {
            "color": "#2a3f5f"
           }
          },
          "ternary": {
           "aaxis": {
            "gridcolor": "white",
            "linecolor": "white",
            "ticks": ""
           },
           "baxis": {
            "gridcolor": "white",
            "linecolor": "white",
            "ticks": ""
           },
           "bgcolor": "#E5ECF6",
           "caxis": {
            "gridcolor": "white",
            "linecolor": "white",
            "ticks": ""
           }
          },
          "title": {
           "x": 0.05
          },
          "xaxis": {
           "automargin": true,
           "gridcolor": "white",
           "linecolor": "white",
           "ticks": "",
           "title": {
            "standoff": 15
           },
           "zerolinecolor": "white",
           "zerolinewidth": 2
          },
          "yaxis": {
           "automargin": true,
           "gridcolor": "white",
           "linecolor": "white",
           "ticks": "",
           "title": {
            "standoff": 15
           },
           "zerolinecolor": "white",
           "zerolinewidth": 2
          }
         }
        },
        "title": {
         "text": "Provincia: Trieste"
        },
        "xaxis": {
         "anchor": "y",
         "domain": [
          0,
          1
         ],
         "title": {
          "text": "time_idx"
         }
        },
        "yaxis": {
         "anchor": "x",
         "domain": [
          0,
          1
         ],
         "title": {
          "text": "ozono_8h_max"
         }
        }
       }
      }
     },
     "metadata": {},
     "output_type": "display_data"
    },
    {
     "data": {
      "application/vnd.plotly.v1+json": {
       "config": {
        "plotlyServerURL": "https://plot.ly"
       },
       "data": [
        {
         "hovertemplate": "time_idx=%{x}<br>ozono_8h_max=%{y}<extra></extra>",
         "legendgroup": "",
         "line": {
          "color": "#636efa",
          "dash": "solid"
         },
         "marker": {
          "symbol": "circle"
         },
         "mode": "lines",
         "name": "",
         "orientation": "v",
         "showlegend": false,
         "type": "scatter",
         "x": [
          0,
          1,
          2,
          3,
          4,
          5,
          6,
          7,
          8,
          9,
          10,
          11,
          12,
          13,
          14,
          15,
          16,
          17,
          18,
          19,
          20,
          21,
          22,
          23,
          24,
          25,
          26,
          27,
          28,
          29,
          30,
          31,
          32,
          33,
          34,
          35,
          36,
          37,
          38,
          39,
          40,
          41,
          42,
          43,
          44,
          45,
          46,
          47,
          48,
          49,
          50,
          51,
          52,
          53,
          54,
          55,
          56,
          57,
          58,
          59,
          60,
          61,
          62,
          63,
          64,
          65,
          66,
          67,
          68,
          69,
          70,
          71,
          72,
          73,
          74,
          75,
          76,
          77,
          78,
          79,
          80,
          81,
          82,
          83,
          84,
          85,
          86,
          87,
          88,
          89,
          90,
          91,
          92,
          93,
          94,
          95,
          96,
          97,
          98,
          99,
          100,
          101,
          102,
          103,
          104,
          105,
          106,
          107,
          108,
          109,
          110,
          111,
          112,
          113,
          114,
          115,
          116,
          117,
          118,
          119,
          120,
          121,
          122,
          123,
          124,
          125,
          126,
          127,
          128,
          129,
          130,
          131,
          132,
          133,
          134,
          135,
          136,
          137,
          138,
          139,
          140,
          141,
          142,
          143,
          144,
          145,
          146,
          147,
          148,
          149,
          150,
          151,
          152,
          153,
          154,
          155,
          156,
          157,
          158,
          159,
          160,
          161,
          162,
          163,
          164,
          165,
          166,
          167,
          168,
          169,
          170,
          171,
          172,
          173,
          174,
          175,
          176,
          177,
          178,
          179,
          180,
          181,
          182,
          183,
          184,
          185,
          186,
          187,
          188,
          189,
          190,
          191,
          192,
          193,
          194,
          195,
          196,
          197,
          198,
          199,
          200,
          201,
          202,
          203,
          204,
          205,
          206,
          207,
          208,
          209,
          210,
          211,
          212,
          213,
          214,
          215,
          216,
          217,
          218,
          219,
          220,
          221,
          222,
          223,
          224,
          225,
          226,
          227,
          228,
          229,
          230,
          231,
          232,
          233,
          234,
          235,
          236,
          237,
          238,
          239,
          240,
          241,
          242,
          243,
          244,
          245,
          246,
          247,
          248,
          249,
          250,
          251,
          252,
          253,
          254,
          255,
          256,
          257,
          258,
          259,
          260,
          261,
          262,
          263,
          264,
          265,
          266,
          267,
          268,
          269,
          270,
          271,
          272,
          273,
          274,
          275,
          276,
          277,
          278,
          279,
          280,
          281,
          282,
          283,
          284,
          285,
          286,
          287,
          288,
          289,
          290,
          291,
          292,
          293,
          294,
          295,
          296,
          297,
          298,
          299,
          300,
          301,
          302,
          303,
          304,
          305,
          306,
          307,
          308,
          309,
          310,
          311,
          312,
          313,
          314,
          315,
          316,
          317,
          318,
          319,
          320,
          321,
          322,
          323,
          324,
          325,
          326,
          327,
          328,
          329,
          330,
          331,
          332,
          333,
          334,
          335,
          336,
          337,
          338,
          339,
          340,
          341,
          342,
          343,
          344,
          345,
          346,
          347,
          348,
          349,
          350,
          351,
          352,
          353,
          354,
          355,
          356,
          357,
          358
         ],
         "xaxis": "x",
         "y": [
          47.66052083333333,
          18.326761904761902,
          35.94880952380952,
          29.98747619047619,
          53.24190476190476,
          53.076904761904764,
          59.284285714285716,
          58.686190476190475,
          76.87119047619048,
          79.94685714285713,
          109.65561904761906,
          107.35986394557824,
          99.14469387755102,
          100.78791156462584,
          100.06676870748299,
          99.72395238095238,
          99.31816326530613,
          98.35980272108843,
          124.89442176870749,
          106.00374149659864,
          128.34248299319728,
          109.00011224489796,
          141.5632993197279,
          132.28,
          120.19685714285716,
          110.74928571428572,
          115.02948979591837,
          105.0194761904762,
          122.4052380952381,
          97.23959183673469,
          89.10801020408164,
          118.60639285714285,
          80.75272959183674,
          86.26144557823129,
          89.52721088435374,
          70.65599149659865,
          79.75855442176871,
          82.40073979591837,
          83.3595918367347,
          77.94685657596372,
          77.14541666666666,
          59.410969387755095,
          57.3633418367347,
          63.28335317460318,
          72.08571428571429,
          56.92900793650794,
          50.46123015873015,
          32.54761904761905,
          27.28971088435374,
          33.103197278911566,
          25.345297619047617,
          38.30157823129252,
          54.93870535714286,
          40.77908163265306,
          43.09211734693878,
          46.62848072562359,
          59.69609126984127,
          71.01650793650794,
          61.04867063492064,
          86.51088718820861,
          74.62769841269842,
          84.24476190476192,
          88.50944444444444,
          95.4704931972789,
          89.23119897959182,
          92.59884637188209,
          108.8831746031746,
          111.19009353741497,
          116.1425,
          87.65054421768707,
          112.33005102040816,
          115.0446530612245,
          94.68638605442176,
          114.44331632653062,
          137.15083616780046,
          128.05605725623585,
          99.3018112244898,
          114.85085884353741,
          138.59030328798187,
          127.83660714285715,
          152.97117063492064,
          136.08521258503401,
          98.44012301587301,
          123.2546626984127,
          139.48901360544218,
          89.24827380952381,
          98.9542857142857,
          107.49587301587302,
          94.60682539682539,
          84.30035714285714,
          74.78458333333333,
          75.9347619047619,
          60.43823412698413,
          57.30248299319727,
          61.677312925170064,
          63.808730158730164,
          55.82397959183674,
          36.47069444444445,
          32.32008503401361,
          42.20207482993197,
          21.953494897959185,
          28.456301020408166,
          19.397891156462585,
          21.46176020408163,
          23.454058441558438,
          45.28657879818594,
          51.14005952380952,
          35.76892857142857,
          52.5659126984127,
          63.87113095238095,
          60.97190476190476,
          60.73095238095238,
          71.39939058956917,
          77.51825396825396,
          92.75390873015873,
          90.85968253968254,
          87.0697619047619,
          87.83272959183672,
          102.87285714285714,
          97.28826530612244,
          97.94778911564626,
          110.12959183673469,
          94.26592857142857,
          112.11935487528345,
          117.72886904761904,
          94.71126984126984,
          97.36485827664399,
          88.44919784580499,
          102.6034648526077,
          121.52519727891156,
          112.72299603174604,
          104.21793367346939,
          123.12241496598641,
          110.18685185185184,
          94.15583333333333,
          95.93329365079366,
          100.62095238095239,
          99.09190192743765,
          112.94686224489796,
          92.67582482993198,
          88.22508219954648,
          80.86242630385489,
          94.8109126984127,
          56.736354875283446,
          53.86444160997733,
          52.52603174603174,
          50.20333333333333,
          50.03644841269841,
          46.44025793650793,
          42.42859126984127,
          33.14279761904762,
          46.71950396825397,
          41.27630952380952,
          37.61414965986394,
          45.90526360544218,
          53.02976851851852,
          53.67964285714286,
          51.572876984126985,
          71.51625,
          64.51522959183673,
          34.732244897959184,
          55.41660714285714,
          59.34107142857143,
          61.496071428571426,
          84.05775510204082,
          83.62928571428571,
          94.16821428571428,
          83.93464285714286,
          107.24785714285714,
          101.64410714285714,
          96.44678571428572,
          98.8441581632653,
          95.94035714285714,
          103.26400510204083,
          89.77011904761903,
          106.38321031746032,
          121.94253968253967,
          129.5715873015873,
          103.95346371882087,
          119.77624999999999,
          139.2303656462585,
          96.75755952380952,
          118.49714285714286,
          99.75424603174602,
          127.86986111111112,
          104.29934523809524,
          132.95148526077097,
          106.40154591836735,
          106.71565476190476,
          116.28154761904761,
          101.84271825396824,
          84.12791666666666,
          66.6603373015873,
          78.88033730158732,
          74.13525793650794,
          71.49359126984127,
          76.3615873015873,
          70.3952380952381,
          55.09644841269841,
          60.03603174603175,
          50.78230158730158,
          52.72244047619047,
          42.928276643990934,
          47.02154761904762,
          38.61668650793651,
          53.74095238095238,
          37.147619047619045,
          44.33416666666666,
          30.668985615079364,
          41.85216836734694,
          44.73272959183674,
          42.537950680272104,
          49.91349489795918,
          58.08938775510204,
          70.53930555555556,
          76.38904761904762,
          75.64233843537416,
          72.94829365079364,
          72.93412698412699,
          87.48003968253968,
          92.69010204081633,
          96.72819727891157,
          92.8381717687075,
          108.57000000000001,
          119.33500000000001,
          98.61928571428572,
          113.85583333333332,
          99.91498015873016,
          102.43013888888889,
          115.41253968253967,
          113.19151360544217,
          108.75186791383219,
          114.69174603174604,
          109.35396825396825,
          108.18400793650792,
          109.64853174603175,
          126.22587301587302,
          122.36571428571428,
          119.57055555555556,
          117.31625,
          99.36132936507936,
          110.21317460317461,
          89.5116865079365,
          95.8947619047619,
          105.7895634920635,
          95.15944444444446,
          77.59835317460318,
          68.13595238095238,
          85.96714285714286,
          65.74861111111112,
          59.65065476190476,
          53.31192743764172,
          46.48029761904762,
          50.937616213151934,
          38.33920068027211,
          40.851638888888886,
          36.45789682539682,
          36.38168367346939,
          25.172137755102035,
          25.192857142857143,
          47.86310763888889,
          29.74418367346939,
          46.638392857142854,
          53.39377551020408,
          53.75841836734694,
          58.36974489795919,
          58.06709183673469,
          71.88244897959184,
          75.63168367346938,
          77.24417857142858,
          80.45214285714285,
          91.54178571428572,
          94.91375000000001,
          97.19017857142856,
          70.15107142857143,
          113.61194727891156,
          89.77943877551022,
          86.19701530612245,
          91.93369897959182,
          77.30392857142859,
          95.56982142857143,
          87.18767857142858,
          103.65170634920635,
          114.14763888888889,
          107.42428571428572,
          142.2187755102041,
          130.38440476190476,
          105.56094387755103,
          127.93258503401361,
          121.77508163265306,
          100.40305555555555,
          99.94988095238095,
          90.55823129251701,
          94.24083446712018,
          108.8323492063492,
          87.57075396825397,
          87.56180555555555,
          80.28986111111111,
          67.41537698412698,
          64.31503968253968,
          62.94591836734694,
          64.01904761904761,
          60.675337301587305,
          47.559713718820866,
          49.46396938775511,
          46.85341156462585,
          45.09312074829932,
          30.931505102040813,
          34.97479591836735,
          38.25564285714285,
          45.00131802721088,
          35.717238095238095,
          36.663333333333334,
          37.254642857142855,
          35.91864795918367,
          40.67206632653061,
          35.96017857142857,
          52.74709183673469,
          57.99505102040816,
          62.38154900332226,
          67.515,
          70.12016783029001,
          79.54559653777633,
          91.79667286759494,
          81.91655148423006,
          95.68086734693877,
          117.26270408163266,
          109.76199829931973,
          107.45836734693877,
          87.91003519709253,
          107.02965188802794,
          79.43323979591837,
          100.22109693877552,
          90.84616016697645,
          94.14544152046783,
          89.4833134920635,
          86.04914682539683,
          108.59547619047619,
          88.74756235827665,
          106.69568394374242,
          89.7788112244898,
          105.13350510204081,
          123.3991852130326,
          90.72919729291614,
          103.63017774851876,
          98.80155652192433,
          91.18333333333332,
          88.69423469387756,
          90.90798685575926,
          94.49293800539083,
          76.06785714285715,
          68.81765306122449,
          67.26589285714286,
          55.92862244897959,
          64.32746598639456,
          49.33190476190476,
          43.99284670197193,
          43.83472789115647,
          47.37428571428571
         ],
         "yaxis": "y"
        }
       ],
       "layout": {
        "legend": {
         "tracegroupgap": 0
        },
        "template": {
         "data": {
          "bar": [
           {
            "error_x": {
             "color": "#2a3f5f"
            },
            "error_y": {
             "color": "#2a3f5f"
            },
            "marker": {
             "line": {
              "color": "#E5ECF6",
              "width": 0.5
             },
             "pattern": {
              "fillmode": "overlay",
              "size": 10,
              "solidity": 0.2
             }
            },
            "type": "bar"
           }
          ],
          "barpolar": [
           {
            "marker": {
             "line": {
              "color": "#E5ECF6",
              "width": 0.5
             },
             "pattern": {
              "fillmode": "overlay",
              "size": 10,
              "solidity": 0.2
             }
            },
            "type": "barpolar"
           }
          ],
          "carpet": [
           {
            "aaxis": {
             "endlinecolor": "#2a3f5f",
             "gridcolor": "white",
             "linecolor": "white",
             "minorgridcolor": "white",
             "startlinecolor": "#2a3f5f"
            },
            "baxis": {
             "endlinecolor": "#2a3f5f",
             "gridcolor": "white",
             "linecolor": "white",
             "minorgridcolor": "white",
             "startlinecolor": "#2a3f5f"
            },
            "type": "carpet"
           }
          ],
          "choropleth": [
           {
            "colorbar": {
             "outlinewidth": 0,
             "ticks": ""
            },
            "type": "choropleth"
           }
          ],
          "contour": [
           {
            "colorbar": {
             "outlinewidth": 0,
             "ticks": ""
            },
            "colorscale": [
             [
              0,
              "#0d0887"
             ],
             [
              0.1111111111111111,
              "#46039f"
             ],
             [
              0.2222222222222222,
              "#7201a8"
             ],
             [
              0.3333333333333333,
              "#9c179e"
             ],
             [
              0.4444444444444444,
              "#bd3786"
             ],
             [
              0.5555555555555556,
              "#d8576b"
             ],
             [
              0.6666666666666666,
              "#ed7953"
             ],
             [
              0.7777777777777778,
              "#fb9f3a"
             ],
             [
              0.8888888888888888,
              "#fdca26"
             ],
             [
              1,
              "#f0f921"
             ]
            ],
            "type": "contour"
           }
          ],
          "contourcarpet": [
           {
            "colorbar": {
             "outlinewidth": 0,
             "ticks": ""
            },
            "type": "contourcarpet"
           }
          ],
          "heatmap": [
           {
            "colorbar": {
             "outlinewidth": 0,
             "ticks": ""
            },
            "colorscale": [
             [
              0,
              "#0d0887"
             ],
             [
              0.1111111111111111,
              "#46039f"
             ],
             [
              0.2222222222222222,
              "#7201a8"
             ],
             [
              0.3333333333333333,
              "#9c179e"
             ],
             [
              0.4444444444444444,
              "#bd3786"
             ],
             [
              0.5555555555555556,
              "#d8576b"
             ],
             [
              0.6666666666666666,
              "#ed7953"
             ],
             [
              0.7777777777777778,
              "#fb9f3a"
             ],
             [
              0.8888888888888888,
              "#fdca26"
             ],
             [
              1,
              "#f0f921"
             ]
            ],
            "type": "heatmap"
           }
          ],
          "heatmapgl": [
           {
            "colorbar": {
             "outlinewidth": 0,
             "ticks": ""
            },
            "colorscale": [
             [
              0,
              "#0d0887"
             ],
             [
              0.1111111111111111,
              "#46039f"
             ],
             [
              0.2222222222222222,
              "#7201a8"
             ],
             [
              0.3333333333333333,
              "#9c179e"
             ],
             [
              0.4444444444444444,
              "#bd3786"
             ],
             [
              0.5555555555555556,
              "#d8576b"
             ],
             [
              0.6666666666666666,
              "#ed7953"
             ],
             [
              0.7777777777777778,
              "#fb9f3a"
             ],
             [
              0.8888888888888888,
              "#fdca26"
             ],
             [
              1,
              "#f0f921"
             ]
            ],
            "type": "heatmapgl"
           }
          ],
          "histogram": [
           {
            "marker": {
             "pattern": {
              "fillmode": "overlay",
              "size": 10,
              "solidity": 0.2
             }
            },
            "type": "histogram"
           }
          ],
          "histogram2d": [
           {
            "colorbar": {
             "outlinewidth": 0,
             "ticks": ""
            },
            "colorscale": [
             [
              0,
              "#0d0887"
             ],
             [
              0.1111111111111111,
              "#46039f"
             ],
             [
              0.2222222222222222,
              "#7201a8"
             ],
             [
              0.3333333333333333,
              "#9c179e"
             ],
             [
              0.4444444444444444,
              "#bd3786"
             ],
             [
              0.5555555555555556,
              "#d8576b"
             ],
             [
              0.6666666666666666,
              "#ed7953"
             ],
             [
              0.7777777777777778,
              "#fb9f3a"
             ],
             [
              0.8888888888888888,
              "#fdca26"
             ],
             [
              1,
              "#f0f921"
             ]
            ],
            "type": "histogram2d"
           }
          ],
          "histogram2dcontour": [
           {
            "colorbar": {
             "outlinewidth": 0,
             "ticks": ""
            },
            "colorscale": [
             [
              0,
              "#0d0887"
             ],
             [
              0.1111111111111111,
              "#46039f"
             ],
             [
              0.2222222222222222,
              "#7201a8"
             ],
             [
              0.3333333333333333,
              "#9c179e"
             ],
             [
              0.4444444444444444,
              "#bd3786"
             ],
             [
              0.5555555555555556,
              "#d8576b"
             ],
             [
              0.6666666666666666,
              "#ed7953"
             ],
             [
              0.7777777777777778,
              "#fb9f3a"
             ],
             [
              0.8888888888888888,
              "#fdca26"
             ],
             [
              1,
              "#f0f921"
             ]
            ],
            "type": "histogram2dcontour"
           }
          ],
          "mesh3d": [
           {
            "colorbar": {
             "outlinewidth": 0,
             "ticks": ""
            },
            "type": "mesh3d"
           }
          ],
          "parcoords": [
           {
            "line": {
             "colorbar": {
              "outlinewidth": 0,
              "ticks": ""
             }
            },
            "type": "parcoords"
           }
          ],
          "pie": [
           {
            "automargin": true,
            "type": "pie"
           }
          ],
          "scatter": [
           {
            "marker": {
             "colorbar": {
              "outlinewidth": 0,
              "ticks": ""
             }
            },
            "type": "scatter"
           }
          ],
          "scatter3d": [
           {
            "line": {
             "colorbar": {
              "outlinewidth": 0,
              "ticks": ""
             }
            },
            "marker": {
             "colorbar": {
              "outlinewidth": 0,
              "ticks": ""
             }
            },
            "type": "scatter3d"
           }
          ],
          "scattercarpet": [
           {
            "marker": {
             "colorbar": {
              "outlinewidth": 0,
              "ticks": ""
             }
            },
            "type": "scattercarpet"
           }
          ],
          "scattergeo": [
           {
            "marker": {
             "colorbar": {
              "outlinewidth": 0,
              "ticks": ""
             }
            },
            "type": "scattergeo"
           }
          ],
          "scattergl": [
           {
            "marker": {
             "colorbar": {
              "outlinewidth": 0,
              "ticks": ""
             }
            },
            "type": "scattergl"
           }
          ],
          "scattermapbox": [
           {
            "marker": {
             "colorbar": {
              "outlinewidth": 0,
              "ticks": ""
             }
            },
            "type": "scattermapbox"
           }
          ],
          "scatterpolar": [
           {
            "marker": {
             "colorbar": {
              "outlinewidth": 0,
              "ticks": ""
             }
            },
            "type": "scatterpolar"
           }
          ],
          "scatterpolargl": [
           {
            "marker": {
             "colorbar": {
              "outlinewidth": 0,
              "ticks": ""
             }
            },
            "type": "scatterpolargl"
           }
          ],
          "scatterternary": [
           {
            "marker": {
             "colorbar": {
              "outlinewidth": 0,
              "ticks": ""
             }
            },
            "type": "scatterternary"
           }
          ],
          "surface": [
           {
            "colorbar": {
             "outlinewidth": 0,
             "ticks": ""
            },
            "colorscale": [
             [
              0,
              "#0d0887"
             ],
             [
              0.1111111111111111,
              "#46039f"
             ],
             [
              0.2222222222222222,
              "#7201a8"
             ],
             [
              0.3333333333333333,
              "#9c179e"
             ],
             [
              0.4444444444444444,
              "#bd3786"
             ],
             [
              0.5555555555555556,
              "#d8576b"
             ],
             [
              0.6666666666666666,
              "#ed7953"
             ],
             [
              0.7777777777777778,
              "#fb9f3a"
             ],
             [
              0.8888888888888888,
              "#fdca26"
             ],
             [
              1,
              "#f0f921"
             ]
            ],
            "type": "surface"
           }
          ],
          "table": [
           {
            "cells": {
             "fill": {
              "color": "#EBF0F8"
             },
             "line": {
              "color": "white"
             }
            },
            "header": {
             "fill": {
              "color": "#C8D4E3"
             },
             "line": {
              "color": "white"
             }
            },
            "type": "table"
           }
          ]
         },
         "layout": {
          "annotationdefaults": {
           "arrowcolor": "#2a3f5f",
           "arrowhead": 0,
           "arrowwidth": 1
          },
          "autotypenumbers": "strict",
          "coloraxis": {
           "colorbar": {
            "outlinewidth": 0,
            "ticks": ""
           }
          },
          "colorscale": {
           "diverging": [
            [
             0,
             "#8e0152"
            ],
            [
             0.1,
             "#c51b7d"
            ],
            [
             0.2,
             "#de77ae"
            ],
            [
             0.3,
             "#f1b6da"
            ],
            [
             0.4,
             "#fde0ef"
            ],
            [
             0.5,
             "#f7f7f7"
            ],
            [
             0.6,
             "#e6f5d0"
            ],
            [
             0.7,
             "#b8e186"
            ],
            [
             0.8,
             "#7fbc41"
            ],
            [
             0.9,
             "#4d9221"
            ],
            [
             1,
             "#276419"
            ]
           ],
           "sequential": [
            [
             0,
             "#0d0887"
            ],
            [
             0.1111111111111111,
             "#46039f"
            ],
            [
             0.2222222222222222,
             "#7201a8"
            ],
            [
             0.3333333333333333,
             "#9c179e"
            ],
            [
             0.4444444444444444,
             "#bd3786"
            ],
            [
             0.5555555555555556,
             "#d8576b"
            ],
            [
             0.6666666666666666,
             "#ed7953"
            ],
            [
             0.7777777777777778,
             "#fb9f3a"
            ],
            [
             0.8888888888888888,
             "#fdca26"
            ],
            [
             1,
             "#f0f921"
            ]
           ],
           "sequentialminus": [
            [
             0,
             "#0d0887"
            ],
            [
             0.1111111111111111,
             "#46039f"
            ],
            [
             0.2222222222222222,
             "#7201a8"
            ],
            [
             0.3333333333333333,
             "#9c179e"
            ],
            [
             0.4444444444444444,
             "#bd3786"
            ],
            [
             0.5555555555555556,
             "#d8576b"
            ],
            [
             0.6666666666666666,
             "#ed7953"
            ],
            [
             0.7777777777777778,
             "#fb9f3a"
            ],
            [
             0.8888888888888888,
             "#fdca26"
            ],
            [
             1,
             "#f0f921"
            ]
           ]
          },
          "colorway": [
           "#636efa",
           "#EF553B",
           "#00cc96",
           "#ab63fa",
           "#FFA15A",
           "#19d3f3",
           "#FF6692",
           "#B6E880",
           "#FF97FF",
           "#FECB52"
          ],
          "font": {
           "color": "#2a3f5f"
          },
          "geo": {
           "bgcolor": "white",
           "lakecolor": "white",
           "landcolor": "#E5ECF6",
           "showlakes": true,
           "showland": true,
           "subunitcolor": "white"
          },
          "hoverlabel": {
           "align": "left"
          },
          "hovermode": "closest",
          "mapbox": {
           "style": "light"
          },
          "paper_bgcolor": "white",
          "plot_bgcolor": "#E5ECF6",
          "polar": {
           "angularaxis": {
            "gridcolor": "white",
            "linecolor": "white",
            "ticks": ""
           },
           "bgcolor": "#E5ECF6",
           "radialaxis": {
            "gridcolor": "white",
            "linecolor": "white",
            "ticks": ""
           }
          },
          "scene": {
           "xaxis": {
            "backgroundcolor": "#E5ECF6",
            "gridcolor": "white",
            "gridwidth": 2,
            "linecolor": "white",
            "showbackground": true,
            "ticks": "",
            "zerolinecolor": "white"
           },
           "yaxis": {
            "backgroundcolor": "#E5ECF6",
            "gridcolor": "white",
            "gridwidth": 2,
            "linecolor": "white",
            "showbackground": true,
            "ticks": "",
            "zerolinecolor": "white"
           },
           "zaxis": {
            "backgroundcolor": "#E5ECF6",
            "gridcolor": "white",
            "gridwidth": 2,
            "linecolor": "white",
            "showbackground": true,
            "ticks": "",
            "zerolinecolor": "white"
           }
          },
          "shapedefaults": {
           "line": {
            "color": "#2a3f5f"
           }
          },
          "ternary": {
           "aaxis": {
            "gridcolor": "white",
            "linecolor": "white",
            "ticks": ""
           },
           "baxis": {
            "gridcolor": "white",
            "linecolor": "white",
            "ticks": ""
           },
           "bgcolor": "#E5ECF6",
           "caxis": {
            "gridcolor": "white",
            "linecolor": "white",
            "ticks": ""
           }
          },
          "title": {
           "x": 0.05
          },
          "xaxis": {
           "automargin": true,
           "gridcolor": "white",
           "linecolor": "white",
           "ticks": "",
           "title": {
            "standoff": 15
           },
           "zerolinecolor": "white",
           "zerolinewidth": 2
          },
          "yaxis": {
           "automargin": true,
           "gridcolor": "white",
           "linecolor": "white",
           "ticks": "",
           "title": {
            "standoff": 15
           },
           "zerolinecolor": "white",
           "zerolinewidth": 2
          }
         }
        },
        "title": {
         "text": "Provincia: Udine"
        },
        "xaxis": {
         "anchor": "y",
         "domain": [
          0,
          1
         ],
         "title": {
          "text": "time_idx"
         }
        },
        "yaxis": {
         "anchor": "x",
         "domain": [
          0,
          1
         ],
         "title": {
          "text": "ozono_8h_max"
         }
        }
       }
      }
     },
     "metadata": {},
     "output_type": "display_data"
    }
   ],
   "source": [
    "import plotly.express as px\n",
    "for provincia in list(df_settimanale[\"provincia\"].unique()):\n",
    "    plot_df = df_settimanale[df_settimanale[\"provincia\"]==provincia][[\"time_idx\",\"ozono_8h_max\"]]\n",
    "    fig = px.line(plot_df, x=\"time_idx\",y=\"ozono_8h_max\", title=\"Provincia: {}\".format(provincia))\n",
    "    fig.show()"
   ]
  },
  {
   "cell_type": "markdown",
   "metadata": {},
   "source": [
    "Tolgo i dati relativi al carbonio che sembrano essere danneggiati per Gorizia e Pordenone. Anche i dati relativi allo zolfo non sono validi per Pordenone, ma essendo un valore costante non dovrebbe danneggiare il training, se non ci mettiamo a predire proprio lo zolfo."
   ]
  },
  {
   "cell_type": "code",
   "execution_count": 31,
   "metadata": {},
   "outputs": [],
   "source": [
    "df_settimanale=df_settimanale.drop(columns=[\"carbonio_8h_max\"])"
   ]
  },
  {
   "cell_type": "code",
   "execution_count": 32,
   "metadata": {},
   "outputs": [
    {
     "data": {
      "text/html": [
       "<div>\n",
       "<style scoped>\n",
       "    .dataframe tbody tr th:only-of-type {\n",
       "        vertical-align: middle;\n",
       "    }\n",
       "\n",
       "    .dataframe tbody tr th {\n",
       "        vertical-align: top;\n",
       "    }\n",
       "\n",
       "    .dataframe thead th {\n",
       "        text-align: right;\n",
       "    }\n",
       "</style>\n",
       "<table border=\"1\" class=\"dataframe\">\n",
       "  <thead>\n",
       "    <tr style=\"text-align: right;\">\n",
       "      <th></th>\n",
       "      <th>provincia</th>\n",
       "      <th>time_idx</th>\n",
       "      <th>azoto_oraria_max</th>\n",
       "      <th>zolfo_giornaliera</th>\n",
       "      <th>ozono_8h_max</th>\n",
       "      <th>pm2dot5_giornaliera</th>\n",
       "      <th>pm10_giornaliera</th>\n",
       "      <th>relative_time_w</th>\n",
       "      <th>relative_time_y</th>\n",
       "      <th>relative_time_m</th>\n",
       "    </tr>\n",
       "  </thead>\n",
       "  <tbody>\n",
       "    <tr>\n",
       "      <th>0</th>\n",
       "      <td>Gorizia</td>\n",
       "      <td>0.0</td>\n",
       "      <td>28.006272</td>\n",
       "      <td>3.661250</td>\n",
       "      <td>53.649062</td>\n",
       "      <td>16.647083</td>\n",
       "      <td>18.015583</td>\n",
       "      <td>1.0</td>\n",
       "      <td>2014.0</td>\n",
       "      <td>5.125000</td>\n",
       "    </tr>\n",
       "    <tr>\n",
       "      <th>1</th>\n",
       "      <td>Gorizia</td>\n",
       "      <td>1.0</td>\n",
       "      <td>45.018673</td>\n",
       "      <td>5.331905</td>\n",
       "      <td>13.312857</td>\n",
       "      <td>40.959762</td>\n",
       "      <td>49.991549</td>\n",
       "      <td>2.0</td>\n",
       "      <td>2014.0</td>\n",
       "      <td>1.000000</td>\n",
       "    </tr>\n",
       "    <tr>\n",
       "      <th>2</th>\n",
       "      <td>Gorizia</td>\n",
       "      <td>2.0</td>\n",
       "      <td>45.632117</td>\n",
       "      <td>4.936048</td>\n",
       "      <td>40.546714</td>\n",
       "      <td>22.282857</td>\n",
       "      <td>29.161928</td>\n",
       "      <td>3.0</td>\n",
       "      <td>2014.0</td>\n",
       "      <td>1.000000</td>\n",
       "    </tr>\n",
       "    <tr>\n",
       "      <th>3</th>\n",
       "      <td>Gorizia</td>\n",
       "      <td>3.0</td>\n",
       "      <td>44.446463</td>\n",
       "      <td>5.484762</td>\n",
       "      <td>32.052524</td>\n",
       "      <td>14.080952</td>\n",
       "      <td>17.742073</td>\n",
       "      <td>4.0</td>\n",
       "      <td>2014.0</td>\n",
       "      <td>1.000000</td>\n",
       "    </tr>\n",
       "    <tr>\n",
       "      <th>4</th>\n",
       "      <td>Gorizia</td>\n",
       "      <td>4.0</td>\n",
       "      <td>30.148980</td>\n",
       "      <td>4.187143</td>\n",
       "      <td>57.219524</td>\n",
       "      <td>14.944286</td>\n",
       "      <td>17.136072</td>\n",
       "      <td>5.0</td>\n",
       "      <td>2014.0</td>\n",
       "      <td>1.285714</td>\n",
       "    </tr>\n",
       "    <tr>\n",
       "      <th>...</th>\n",
       "      <td>...</td>\n",
       "      <td>...</td>\n",
       "      <td>...</td>\n",
       "      <td>...</td>\n",
       "      <td>...</td>\n",
       "      <td>...</td>\n",
       "      <td>...</td>\n",
       "      <td>...</td>\n",
       "      <td>...</td>\n",
       "      <td>...</td>\n",
       "    </tr>\n",
       "    <tr>\n",
       "      <th>1431</th>\n",
       "      <td>Udine</td>\n",
       "      <td>354.0</td>\n",
       "      <td>32.206987</td>\n",
       "      <td>3.108571</td>\n",
       "      <td>64.327466</td>\n",
       "      <td>29.528571</td>\n",
       "      <td>32.824346</td>\n",
       "      <td>43.0</td>\n",
       "      <td>2020.0</td>\n",
       "      <td>10.000000</td>\n",
       "    </tr>\n",
       "    <tr>\n",
       "      <th>1432</th>\n",
       "      <td>Udine</td>\n",
       "      <td>355.0</td>\n",
       "      <td>35.572812</td>\n",
       "      <td>2.835714</td>\n",
       "      <td>49.331905</td>\n",
       "      <td>16.853571</td>\n",
       "      <td>19.789032</td>\n",
       "      <td>44.0</td>\n",
       "      <td>2020.0</td>\n",
       "      <td>10.142857</td>\n",
       "    </tr>\n",
       "    <tr>\n",
       "      <th>1433</th>\n",
       "      <td>Udine</td>\n",
       "      <td>356.0</td>\n",
       "      <td>39.426567</td>\n",
       "      <td>1.990000</td>\n",
       "      <td>43.992847</td>\n",
       "      <td>20.578049</td>\n",
       "      <td>24.522095</td>\n",
       "      <td>45.0</td>\n",
       "      <td>2020.0</td>\n",
       "      <td>11.000000</td>\n",
       "    </tr>\n",
       "    <tr>\n",
       "      <th>1434</th>\n",
       "      <td>Udine</td>\n",
       "      <td>357.0</td>\n",
       "      <td>41.356416</td>\n",
       "      <td>2.164286</td>\n",
       "      <td>43.834728</td>\n",
       "      <td>22.157143</td>\n",
       "      <td>22.998696</td>\n",
       "      <td>46.0</td>\n",
       "      <td>2020.0</td>\n",
       "      <td>11.000000</td>\n",
       "    </tr>\n",
       "    <tr>\n",
       "      <th>1435</th>\n",
       "      <td>Udine</td>\n",
       "      <td>358.0</td>\n",
       "      <td>40.933810</td>\n",
       "      <td>2.143333</td>\n",
       "      <td>47.374286</td>\n",
       "      <td>16.708333</td>\n",
       "      <td>18.144671</td>\n",
       "      <td>47.0</td>\n",
       "      <td>2020.0</td>\n",
       "      <td>11.000000</td>\n",
       "    </tr>\n",
       "  </tbody>\n",
       "</table>\n",
       "<p>1436 rows × 10 columns</p>\n",
       "</div>"
      ],
      "text/plain": [
       "     provincia  time_idx  azoto_oraria_max  zolfo_giornaliera  ozono_8h_max  \\\n",
       "0      Gorizia       0.0         28.006272           3.661250     53.649062   \n",
       "1      Gorizia       1.0         45.018673           5.331905     13.312857   \n",
       "2      Gorizia       2.0         45.632117           4.936048     40.546714   \n",
       "3      Gorizia       3.0         44.446463           5.484762     32.052524   \n",
       "4      Gorizia       4.0         30.148980           4.187143     57.219524   \n",
       "...        ...       ...               ...                ...           ...   \n",
       "1431     Udine     354.0         32.206987           3.108571     64.327466   \n",
       "1432     Udine     355.0         35.572812           2.835714     49.331905   \n",
       "1433     Udine     356.0         39.426567           1.990000     43.992847   \n",
       "1434     Udine     357.0         41.356416           2.164286     43.834728   \n",
       "1435     Udine     358.0         40.933810           2.143333     47.374286   \n",
       "\n",
       "      pm2dot5_giornaliera  pm10_giornaliera  relative_time_w  relative_time_y  \\\n",
       "0               16.647083         18.015583              1.0           2014.0   \n",
       "1               40.959762         49.991549              2.0           2014.0   \n",
       "2               22.282857         29.161928              3.0           2014.0   \n",
       "3               14.080952         17.742073              4.0           2014.0   \n",
       "4               14.944286         17.136072              5.0           2014.0   \n",
       "...                   ...               ...              ...              ...   \n",
       "1431            29.528571         32.824346             43.0           2020.0   \n",
       "1432            16.853571         19.789032             44.0           2020.0   \n",
       "1433            20.578049         24.522095             45.0           2020.0   \n",
       "1434            22.157143         22.998696             46.0           2020.0   \n",
       "1435            16.708333         18.144671             47.0           2020.0   \n",
       "\n",
       "      relative_time_m  \n",
       "0            5.125000  \n",
       "1            1.000000  \n",
       "2            1.000000  \n",
       "3            1.000000  \n",
       "4            1.285714  \n",
       "...               ...  \n",
       "1431        10.000000  \n",
       "1432        10.142857  \n",
       "1433        11.000000  \n",
       "1434        11.000000  \n",
       "1435        11.000000  \n",
       "\n",
       "[1436 rows x 10 columns]"
      ]
     },
     "execution_count": 32,
     "metadata": {},
     "output_type": "execute_result"
    }
   ],
   "source": [
    "df_settimanale"
   ]
  },
  {
   "cell_type": "markdown",
   "metadata": {},
   "source": [
    "## Salvataggio dati"
   ]
  },
  {
   "cell_type": "code",
   "execution_count": 33,
   "metadata": {},
   "outputs": [],
   "source": [
    "df_settimanale.to_csv(\"processed_data/first_dataset.csv\")"
   ]
  }
 ],
 "metadata": {
  "interpreter": {
   "hash": "4f3b078249380ea762697f4f8f6aea77b3d6e43cbb1b18cbb73d8cde5aa597e7"
  },
  "kernelspec": {
   "display_name": "Python 3.8 (ipykernel)",
   "language": "python",
   "name": "python3.8"
  },
  "language_info": {
   "codemirror_mode": {
    "name": "ipython",
    "version": 3
   },
   "file_extension": ".py",
   "mimetype": "text/x-python",
   "name": "python",
   "nbconvert_exporter": "python",
   "pygments_lexer": "ipython3",
   "version": "3.8.12"
  }
 },
 "nbformat": 4,
 "nbformat_minor": 2
}

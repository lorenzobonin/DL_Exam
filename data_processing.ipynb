{
 "cells": [
  {
   "cell_type": "code",
   "execution_count": 77,
   "metadata": {},
   "outputs": [],
   "source": [
    "import numpy as np\n",
    "import pandas as pd\n",
    "pd.set_option(\"max_colwidth\", None)\n",
    "import os"
   ]
  },
  {
   "cell_type": "markdown",
   "metadata": {},
   "source": [
    "# CARICAMENTO DATI"
   ]
  },
  {
   "cell_type": "markdown",
   "metadata": {},
   "source": [
    "## Dati aria"
   ]
  },
  {
   "cell_type": "code",
   "execution_count": 78,
   "metadata": {},
   "outputs": [
    {
     "name": "stderr",
     "output_type": "stream",
     "text": [
      "C:\\RoboDK\\Python37\\lib\\site-packages\\IPython\\core\\interactiveshell.py:3457: DtypeWarning: Columns (1,2,4,9) have mixed types.Specify dtype option on import or set low_memory=False.\n",
      "  exec(code_obj, self.user_global_ns, self.user_ns)\n",
      "C:\\RoboDK\\Python37\\lib\\site-packages\\IPython\\core\\interactiveshell.py:3457: DtypeWarning: Columns (9) have mixed types.Specify dtype option on import or set low_memory=False.\n",
      "  exec(code_obj, self.user_global_ns, self.user_ns)\n",
      "C:\\RoboDK\\Python37\\lib\\site-packages\\IPython\\core\\interactiveshell.py:3457: DtypeWarning: Columns (1,2,4,9,18) have mixed types.Specify dtype option on import or set low_memory=False.\n",
      "  exec(code_obj, self.user_global_ns, self.user_ns)\n",
      "C:\\RoboDK\\Python37\\lib\\site-packages\\IPython\\core\\interactiveshell.py:3457: DtypeWarning: Columns (1,2,4) have mixed types.Specify dtype option on import or set low_memory=False.\n",
      "  exec(code_obj, self.user_global_ns, self.user_ns)\n"
     ]
    }
   ],
   "source": [
    "path_data = \"data/\"\n",
    "\n",
    "biossido_azoto_df = pd.read_csv(os.path.join(path_data,\"Aria_-_Biossido_d_Azoto.csv\"),sep=\";\",decimal=',')\n",
    "biossido_zolfo_df = pd.read_csv(os.path.join(path_data,\"Aria_-_Biossido_di_Zolfo.csv\"),sep=\";\",decimal=',')\n",
    "monossido_carbonio_df = pd.read_csv(os.path.join(path_data,\"Aria_-_Monossido_di_Carbonio.csv\"),sep=\";\",decimal=',')\n",
    "ozono_df = pd.read_csv(os.path.join(path_data,\"Aria_-_Ozono.csv\"),sep=\";\",decimal=',')\n",
    "pm2dot5_df = pd.read_csv(os.path.join(path_data,\"Aria_-_Particelle_Sospese_PM2.5.csv\"),sep=\";\",decimal=',')\n",
    "pm10_df = pd.read_csv(os.path.join(path_data,\"Aria_-_Particelle_Sospese_PM10.csv\"),sep=\";\",decimal=',')\n",
    "pts_df = pd.read_csv(os.path.join(path_data,\"Aria_-_Particolato_Totale_Sospeso.csv\"),sep=\";\",decimal=',')\n",
    "pollini_df = pd.read_csv(os.path.join(path_data,\"Aria_-_Pollini.csv\"),sep=\";\",decimal=',')\n"
   ]
  },
  {
   "cell_type": "markdown",
   "metadata": {},
   "source": [
    "## Altri dati"
   ]
  },
  {
   "cell_type": "code",
   "execution_count": 79,
   "metadata": {},
   "outputs": [],
   "source": [
    "siti_inquinanti_df = pd.read_csv(os.path.join(path_data,\"Censimento_dei_siti_inquinati.csv\"),sep=\";\",decimal=',')\n",
    "trattamento_rifiuti_df = pd.read_csv(os.path.join(path_data,\"Impianti_attivi_trattamento_rifiuti.csv\"),sep=\";\",decimal=',')"
   ]
  },
  {
   "cell_type": "markdown",
   "metadata": {},
   "source": [
    "## Analisi preliminare\n",
    "Controllo che non vi siano errori nei dati dei campi di interesse"
   ]
  },
  {
   "cell_type": "markdown",
   "metadata": {},
   "source": [
    "### Biossido di Azoto"
   ]
  },
  {
   "cell_type": "code",
   "execution_count": 80,
   "metadata": {},
   "outputs": [
    {
     "name": "stdout",
     "output_type": "stream",
     "text": [
      "274327\n",
      "['ug/m3']\n",
      "['Udine' 'Trieste' 'Gorizia' 'Pordenone']\n",
      "['True' 'False' 'Vero' 'Falso' nan]\n",
      "['Edison Torviscosa' 'Via Carpineto' 'A2A Via Natisone' \"A2A Doberdo'\"\n",
      " 'piazza Carlo Alberto' 'Gorizia' 'Ugovizza' 'Castions' 'Porcia'\n",
      " 'Area verde' 'Pordenone Centro 1' 'A2A Vermegliano' 'A2A Fossalon'\n",
      " 'Malisana' 'Via S.Daniele' 'Sacile' 'A2A Papariano' 'V.Cairoli'\n",
      " 'Via del Ponticello' 'p.le Rosmini' 'Osoppo' 'via Pitacco-ARPA'\n",
      " 'S.Giovanni al Natisone' 'piazza Volontari Giuliani' 'Brugnera' 'Claut'\n",
      " \"Doberdo'\" 'Lignano Sabbiadoro' 'Lucinico' 'M.te Zoncolan' 'Monfalcone'\n",
      " 'Monte S. Pantaleone' 'Muggia' 'Morsano' \"P.le D'Annunzio\" 'P.le Osoppo'\n",
      " 'P.le XXVI Luglio' 'S.Osvaldo' 'P.zza Liberta' 'P.zza Vico'\n",
      " 'Pordenone Centro' 'Prata di Pordenone' 'S.Giorgio di Nogaro' 'Tolmezzo'\n",
      " 'Torviscosa' 'V.Manzoni' 'Via Pitacco' 'Via San Sabba' 'Via Svevo'\n",
      " 'Via Tor Bandena']\n"
     ]
    }
   ],
   "source": [
    "dim = len(biossido_azoto_df.index)\n",
    "um = biossido_azoto_df[\"UNITA' MISURA\"].unique()\n",
    "città = biossido_azoto_df[\"RETE\"].unique()\n",
    "biossido_azoto_df[\"DATI INSUFF.\"] = biossido_zolfo_df[\"DATI INSUFF.\"].astype(str)\n",
    "dati_insuff = biossido_azoto_df[\"DATI INSUFF.\"].unique()\n",
    "ubicazioni = biossido_azoto_df[\"UBICAZIONE\"].unique()\n",
    "\n",
    "print(dim)\n",
    "print(um)\n",
    "print(città)\n",
    "print(dati_insuff)\n",
    "print(ubicazioni)"
   ]
  },
  {
   "cell_type": "markdown",
   "metadata": {},
   "source": [
    "### Biossido di Zolfo"
   ]
  },
  {
   "cell_type": "code",
   "execution_count": 81,
   "metadata": {},
   "outputs": [
    {
     "name": "stdout",
     "output_type": "stream",
     "text": [
      "159873\n",
      "['ug/m3']\n",
      "['Trieste' 'Udine' 'Gorizia' 'Pordenone']\n",
      "['True' 'False' 'Vero' 'Falso']\n",
      "['Via del Ponticello' 'Edison Torviscosa' 'A2A Fossalon' 'Malisana'\n",
      " 'A2A Papariano' 'Via Carpineto' 'Tolmezzo' 'A2A Via Natisone'\n",
      " 'A2A Vermegliano' 'via Pitacco-ARPA' 'p.le Rosmini' \"A2A Doberdo'\"\n",
      " 'Castions' 'Brugnera' 'Caneva' 'Claut' \"Doberdo'\" 'Fanna'\n",
      " 'Lignano Sabbiadoro' 'Lucinico' 'M.te Zoncolan' 'Monfalcone'\n",
      " 'Monte S. Pantaleone' 'Muggia' 'Osoppo' \"P.le D'Annunzio\" 'P.le Osoppo'\n",
      " 'P.le XXVI Luglio' 'P.zza Liberta' 'P.zza Vico' 'Pordenone Centro'\n",
      " 'Prata di Pordenone' 'S.Giorgio di Nogaro' 'S.Giovanni al Natisone'\n",
      " 'Sequals' 'Tarvisio' 'Torviscosa' 'Tribil Inferiore' 'Tugliezzo'\n",
      " 'Ugovizza' 'V.Cairoli' 'Via Battisti' 'Via Pitacco' 'Via San Sabba'\n",
      " 'Via Svevo']\n"
     ]
    }
   ],
   "source": [
    "dim = len(biossido_zolfo_df.index)\n",
    "um = biossido_zolfo_df[\"UNITA' MISURA\"].unique()\n",
    "città = biossido_zolfo_df[\"RETE\"].unique()\n",
    "biossido_zolfo_df[\"DATI INSUFF.\"] = biossido_zolfo_df[\"DATI INSUFF.\"].astype(str)\n",
    "dati_insuff = biossido_zolfo_df[\"DATI INSUFF.\"].unique()\n",
    "ubicazioni = biossido_zolfo_df[\"UBICAZIONE\"].unique()\n",
    "\n",
    "print(dim)\n",
    "print(um)\n",
    "print(città)\n",
    "print(dati_insuff)\n",
    "print(ubicazioni)"
   ]
  },
  {
   "cell_type": "markdown",
   "metadata": {},
   "source": [
    "### Monossido di Carbonio"
   ]
  },
  {
   "cell_type": "code",
   "execution_count": 82,
   "metadata": {},
   "outputs": [
    {
     "name": "stdout",
     "output_type": "stream",
     "text": [
      "95092\n",
      "['mg/m3']\n",
      "['Udine' 'Trieste' 'Pordenone' 'Gorizia']\n",
      "['True' 'False' 'Vero' 'Falso']\n",
      "['Malisana' 'Edison Torviscosa' 'piazza Volontari Giuliani'\n",
      " 'Via Carpineto' 'Castions' 'Via del Ponticello' 'via Pitacco-ARPA'\n",
      " 'Brugnera' 'Gorizia' 'Monfalcone' 'Muggia' 'Monte S. Pantaleone'\n",
      " 'P.le Osoppo' 'P.le XXVI Luglio' 'P.zza Liberta' 'P.zza Vico'\n",
      " 'Pordenone Centro' 'Via Svevo' 'Pordenone Centro 1' 'Prata di Pordenone'\n",
      " 'V.Cairoli' 'V.Manzoni' 'Via Battisti' 'Via Pitacco' 'Via S.Daniele'\n",
      " 'Via San Sabba' 'Via Tor Bandena']\n"
     ]
    }
   ],
   "source": [
    "dim = len(monossido_carbonio_df.index)\n",
    "um = monossido_carbonio_df[\"UNITA' MISURA\"].unique()\n",
    "città = monossido_carbonio_df[\"RETE\"].unique()\n",
    "monossido_carbonio_df[\"DATI INSUFF.\"] = biossido_zolfo_df[\"DATI INSUFF.\"].astype(str)\n",
    "dati_insuff = monossido_carbonio_df[\"DATI INSUFF.\"].unique()\n",
    "ubicazioni = monossido_carbonio_df[\"UBICAZIONE\"].unique()\n",
    "\n",
    "print(dim)\n",
    "print(um)\n",
    "print(città)\n",
    "print(dati_insuff)\n",
    "print(ubicazioni)"
   ]
  },
  {
   "cell_type": "markdown",
   "metadata": {},
   "source": [
    "### Ozono"
   ]
  },
  {
   "cell_type": "code",
   "execution_count": 83,
   "metadata": {},
   "outputs": [
    {
     "name": "stdout",
     "output_type": "stream",
     "text": [
      "224750\n",
      "['ug/m3']\n",
      "['Pordenone' 'Trieste' 'Udine' 'Gorizia']\n",
      "['False' 'True' 'Vero' 'Falso']\n",
      "['Porcia' 'Basovizza' 'Castions' 'A2A Papariano' 'S.Giovanni al Natisone'\n",
      " 'V.Cairoli' 'Ugovizza' 'A2A Via Natisone' 'Via Carpineto' 'Malisana'\n",
      " 'Edison Torviscosa' \"A2A Doberdo'\" 'A2A Fossalon' 'Tolmezzo' 'Brugnera'\n",
      " 'Morsano' 'Area verde' 'A2A Vermegliano' 'S.Osvaldo' 'Claut' \"Doberdo'\"\n",
      " 'M.te Zoncolan' 'Gorizia' 'Lucinico' 'Lignano Sabbiadoro' 'Monfalcone'\n",
      " 'Monte S. Pantaleone' 'Osoppo' 'P.zza Liberta' 'Pordenone Centro'\n",
      " 'Punta Sdobba' 'S.Giorgio di Nogaro' 'Tarvisio' 'Torviscosa'\n",
      " 'Tribil Inferiore' 'Tugliezzo' 'V.Manzoni' 'Via Battisti']\n"
     ]
    }
   ],
   "source": [
    "dim = len(ozono_df.index)\n",
    "um = ozono_df[\"UNITA' MISURA\"].unique()\n",
    "città = ozono_df[\"RETE\"].unique()\n",
    "ozono_df[\"DATI INSUFF.\"] = ozono_df[\"DATI INSUFF.\"].astype(str)\n",
    "dati_insuff = ozono_df[\"DATI INSUFF.\"].unique()\n",
    "ubicazioni = ozono_df[\"UBICAZIONE\"].unique()\n",
    "\n",
    "print(dim)\n",
    "print(um)\n",
    "print(città)\n",
    "print(dati_insuff)\n",
    "print(ubicazioni)"
   ]
  },
  {
   "cell_type": "markdown",
   "metadata": {},
   "source": [
    "### PM2.5"
   ]
  },
  {
   "cell_type": "code",
   "execution_count": 84,
   "metadata": {},
   "outputs": [
    {
     "name": "stdout",
     "output_type": "stream",
     "text": [
      "77227\n",
      "['ug/m3']\n",
      "['Gorizia' 'Udine' 'Pordenone' 'Trieste']\n",
      "['False' 'True' 'Falso' 'Vero']\n",
      "['Gorizia' 'A2A Via Natisone' 'V.Cairoli' 'A2A Fossalon'\n",
      " 'Pordenone Centro 1' 'p.le Rosmini' 'Via del Ponticello'\n",
      " 'via Pitacco-ARPA' 'P.zza Liberta' 'Pordenone Centro' 'Castions'\n",
      " 'Edison Torviscosa' 'Malisana']\n"
     ]
    }
   ],
   "source": [
    "dim = len(pm2dot5_df.index)\n",
    "um = pm2dot5_df[\"UNITA' MISURA\"].unique()\n",
    "città = pm2dot5_df[\"RETE\"].unique()\n",
    "pm2dot5_df[\"DATI INSUFF.\"] = pm2dot5_df[\"DATI INSUFF.\"].astype(str)\n",
    "dati_insuff = pm2dot5_df[\"DATI INSUFF.\"].unique()\n",
    "ubicazioni = pm2dot5_df[\"UBICAZIONE\"].unique()\n",
    "\n",
    "print(dim)\n",
    "print(um)\n",
    "print(città)\n",
    "print(dati_insuff)\n",
    "print(ubicazioni)"
   ]
  },
  {
   "cell_type": "markdown",
   "metadata": {},
   "source": [
    "### PM10"
   ]
  },
  {
   "cell_type": "code",
   "execution_count": 85,
   "metadata": {},
   "outputs": [
    {
     "name": "stdout",
     "output_type": "stream",
     "text": [
      "146793\n",
      "['ug/m3']\n",
      "['Udine' 'Gorizia' 'Pordenone' 'Trieste']\n",
      "['False' 'Falso' 'Vero' 'True']\n",
      "['Tolmezzo' 'Malisana' 'Edison Torviscosa' 'Castions'\n",
      " 'S.Giovanni al Natisone' 'Gorizia' 'Porcia' 'Brugnera' 'V.Cairoli'\n",
      " 'S.Osvaldo' 'Osoppo' 'Morsano' 'A2A Fossalon' \"A2A Doberdo'\"\n",
      " 'A2A Papariano' 'Via S.Daniele' 'Ugovizza' 'Sacile' 'Pordenone Centro 1'\n",
      " 'A2A Via Natisone' 'A2A Vermegliano' 'piazza Carlo Alberto' 'Basovizza'\n",
      " 'piazza Volontari Giuliani' 'Via del Ponticello' 'via Pitacco-ARPA'\n",
      " 'p.le Rosmini' 'Via Carpineto' 'Area verde' 'Caneva' 'Claut' \"Doberdo'\"\n",
      " 'Fanna' 'Lucinico' 'P.le Osoppo' 'Pordenone Centro' 'Prata di Pordenone'\n",
      " 'Sequals' 'Torviscosa' 'V.Manzoni' 'Monfalcone' 'Muggia' 'P.zza Liberta'\n",
      " 'Via Tor Bandena' 'Via Svevo' 'Via Pitacco']\n"
     ]
    }
   ],
   "source": [
    "dim = len(pm10_df.index)\n",
    "um = pm10_df[\"UNITA' MISURA\"].unique()\n",
    "città = pm10_df[\"RETE\"].unique()\n",
    "pm10_df[\"DATI INSUFF.\"] = pm10_df[\"DATI INSUFF.\"].astype(str)\n",
    "dati_insuff = pm10_df[\"DATI INSUFF.\"].unique()\n",
    "ubicazioni = pm10_df[\"UBICAZIONE\"].unique()\n",
    "\n",
    "print(dim)\n",
    "print(um)\n",
    "print(città)\n",
    "print(dati_insuff)\n",
    "print(ubicazioni)\n"
   ]
  },
  {
   "cell_type": "markdown",
   "metadata": {},
   "source": [
    "### Particolato totale sospeso\n",
    "Tutto il materiale non gassoso presente nell'aria (anche pollini, ecc...). Non viene quindi preso in considerazione dal momento che consideriamo PM10 come indice per l'inquinamento."
   ]
  },
  {
   "cell_type": "code",
   "execution_count": 86,
   "metadata": {},
   "outputs": [
    {
     "name": "stdout",
     "output_type": "stream",
     "text": [
      "20343\n",
      "['ug/m3']\n",
      "['Trieste' 'Pordenone']\n",
      "['Vero' 'Falso']\n",
      "['Muggia' 'Brugnera' 'Caneva' 'Fanna' 'Porcia' 'Pordenone Centro'\n",
      " 'Via Svevo' 'Prata di Pordenone' 'Sequals' 'Via Pitacco']\n"
     ]
    }
   ],
   "source": [
    "dim = len(pts_df.index)\n",
    "um = pts_df[\"UNITA' MISURA\"].unique()\n",
    "città = pts_df[\"RETE\"].unique()\n",
    "pts_df[\"DATI INSUFF.\"] = pts_df[\"DATI INSUFF.\"].astype(str)\n",
    "dati_insuff = pts_df[\"DATI INSUFF.\"].unique()\n",
    "ubicazioni = pts_df[\"UBICAZIONE\"].unique()\n",
    "\n",
    "print(dim)\n",
    "print(um)\n",
    "print(città)\n",
    "print(dati_insuff)\n",
    "print(ubicazioni)"
   ]
  },
  {
   "cell_type": "markdown",
   "metadata": {},
   "source": [
    "### Pollini"
   ]
  },
  {
   "cell_type": "markdown",
   "metadata": {},
   "source": [
    "Difficile gestione del campo relativo alla data, per ora questo dataset viene trascurato."
   ]
  },
  {
   "cell_type": "code",
   "execution_count": 87,
   "metadata": {},
   "outputs": [
    {
     "name": "stdout",
     "output_type": "stream",
     "text": [
      "118560\n",
      "['ug/m3']\n",
      "['Trieste' 'Pordenone' 'Udine']\n",
      "['Vero' 'Falso']\n",
      "['Muggia' 'Brugnera' 'Caneva' 'Fanna' 'Porcia' 'Pordenone Centro'\n",
      " 'Via Svevo' 'Prata di Pordenone' 'Sequals' 'Via Pitacco']\n"
     ]
    }
   ],
   "source": [
    "dim = len(pollini_df.index)\n",
    "genere = pollini_df[\"GENERE\"].unique()\n",
    "famiglia = pollini_df[\"FAMIGLIA\"].unique()\n",
    "città = pollini_df[\"PROVINCIA\"].unique()\n",
    "\n",
    "print(dim)\n",
    "print(um)\n",
    "print(città)\n",
    "print(dati_insuff)\n",
    "print(ubicazioni)\n"
   ]
  },
  {
   "cell_type": "markdown",
   "metadata": {},
   "source": [
    "# Elaborazione dei dati"
   ]
  },
  {
   "cell_type": "markdown",
   "metadata": {},
   "source": [
    "Selezione dei campi di interesse e filtraggio per dati sufficienti"
   ]
  },
  {
   "cell_type": "code",
   "execution_count": 88,
   "metadata": {},
   "outputs": [],
   "source": [
    "biossido_azoto_df = biossido_azoto_df[(biossido_azoto_df[\"DATI INSUFF.\"] == 'Falso') | (biossido_azoto_df[\"DATI INSUFF.\"] == 'False')][[\"DATA MISURA\", \"RETE\", \"MEDIA ORARIA MAX\"]]\n",
    "biossido_zolfo_df = biossido_zolfo_df[(biossido_zolfo_df[\"DATI INSUFF.\"] == 'Falso') | (biossido_zolfo_df[\"DATI INSUFF.\"] == 'False')][[\"DATA MISURA\", \"RETE\", \"MEDIA GIORNALIERA\"]]\n",
    "monossido_carbonio_df = monossido_carbonio_df[(monossido_carbonio_df[\"DATI INSUFF.\"] == 'Falso') | (monossido_carbonio_df[\"DATI INSUFF.\"] == 'False')][[\"DATA MISURA\", \"RETE\", \"MEDIA MOBILE 8h MAX\"]]\n",
    "ozono_df = ozono_df[(ozono_df[\"DATI INSUFF.\"] == 'Falso') | (ozono_df[\"DATI INSUFF.\"] == 'False')][[\"DATA MISURA\", \"RETE\", \"MEDIA MOBILE 8h MAX\"]]\n",
    "pm2dot5_df = pm2dot5_df[(pm2dot5_df[\"DATI INSUFF.\"] == 'Falso') | (pm2dot5_df[\"DATI INSUFF.\"] == 'False')][[\"DATA MISURA\", \"RETE\", \"MEDIA GIORNALIERA\"]]\n",
    "pm10_df = pm10_df[(pm10_df[\"DATI INSUFF.\"] == 'Falso') | (pm10_df[\"DATI INSUFF.\"] == 'False')][[\"DATA MISURA\", \"RETE\", \"MEDIA GIORNALIERA\"]]\n"
   ]
  },
  {
   "cell_type": "markdown",
   "metadata": {},
   "source": [
    "Selezione dell'intervallo di tempo e creazione dell'indice temporale. Sono presenti dati nei seguenti range temporali:\n",
    "- biossido di azoto:  2005-01-01 ---> 2020-11-18\n",
    "- biossido di zolfo:  2005-01-01 ---> 2021-10-18\n",
    "- monossido di carbonio:  2005-01-01 ---> 2021-11-18\n",
    "- ozono:  2005-01-01 ---> 2021-10-18\n",
    "- pm2.5:  2012-11-18 --->2021-10-18\n",
    "- pm10:  2005-01-01 --->2021-10-18"
   ]
  },
  {
   "cell_type": "code",
   "execution_count": 89,
   "metadata": {},
   "outputs": [],
   "source": [
    "biossido_azoto_df['DATA MISURA']= pd.to_datetime(biossido_azoto_df['DATA MISURA'],dayfirst=True)\n",
    "biossido_azoto_df = biossido_azoto_df[biossido_azoto_df['DATA MISURA'].notna()]\n",
    "biossido_zolfo_df['DATA MISURA']= pd.to_datetime(biossido_zolfo_df['DATA MISURA'],dayfirst=True)\n",
    "biossido_zolfo_df = biossido_zolfo_df[biossido_zolfo_df['DATA MISURA'].notna()]\n",
    "monossido_carbonio_df['DATA MISURA']= pd.to_datetime(monossido_carbonio_df['DATA MISURA'],dayfirst=True)\n",
    "monossido_carbonio_df = monossido_carbonio_df[monossido_carbonio_df['DATA MISURA'].notna()]\n",
    "ozono_df['DATA MISURA']= pd.to_datetime(ozono_df['DATA MISURA'],dayfirst=True)\n",
    "ozono_df = ozono_df[ozono_df['DATA MISURA'].notna()]\n",
    "pm2dot5_df['DATA MISURA']= pd.to_datetime(pm2dot5_df['DATA MISURA'],dayfirst=True)\n",
    "pm2dot5_df = pm2dot5_df[pm2dot5_df['DATA MISURA'].notna()]\n",
    "pm10_df['DATA MISURA']= pd.to_datetime(pm10_df['DATA MISURA'],dayfirst=True)\n",
    "pm10_df = pm10_df[pm10_df['DATA MISURA'].notna()]"
   ]
  },
  {
   "cell_type": "code",
   "execution_count": 90,
   "metadata": {},
   "outputs": [],
   "source": [
    "biossido_azoto_df=biossido_azoto_df.sort_values(by='DATA MISURA')\n",
    "biossido_zolfo_df=biossido_zolfo_df.sort_values(by='DATA MISURA')\n",
    "monossido_carbonio_df=monossido_carbonio_df.sort_values(by='DATA MISURA')\n",
    "ozono_df=ozono_df.sort_values(by='DATA MISURA')\n",
    "pm2dot5_df=pm2dot5_df.sort_values(by='DATA MISURA')\n",
    "pm10_df=pm10_df.sort_values(by='DATA MISURA')"
   ]
  },
  {
   "cell_type": "code",
   "execution_count": 91,
   "metadata": {},
   "outputs": [],
   "source": [
    "# selezione range temporale"
   ]
  },
  {
   "cell_type": "code",
   "execution_count": 92,
   "metadata": {},
   "outputs": [],
   "source": [
    "#creazione dell'indice temporale. Da capire se giornaliero o settimanale"
   ]
  }
 ],
 "metadata": {
  "interpreter": {
   "hash": "4f3b078249380ea762697f4f8f6aea77b3d6e43cbb1b18cbb73d8cde5aa597e7"
  },
  "kernelspec": {
   "display_name": "Python 3.9.7 64-bit (system)",
   "language": "python",
   "name": "python3"
  },
  "language_info": {
   "codemirror_mode": {
    "name": "ipython",
    "version": 3
   },
   "file_extension": ".py",
   "mimetype": "text/x-python",
   "name": "python",
   "nbconvert_exporter": "python",
   "pygments_lexer": "ipython3",
   "version": "3.7.3"
  },
  "orig_nbformat": 4
 },
 "nbformat": 4,
 "nbformat_minor": 2
}

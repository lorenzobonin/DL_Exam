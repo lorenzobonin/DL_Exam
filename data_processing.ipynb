{
 "cells": [
  {
   "cell_type": "code",
   "execution_count": 1,
   "metadata": {},
   "outputs": [],
   "source": [
    "import numpy as np\n",
    "import pandas as pd\n",
    "pd.set_option(\"max_colwidth\", None)\n",
    "import os"
   ]
  },
  {
   "cell_type": "markdown",
   "metadata": {},
   "source": [
    "# CARICAMENTO DATI"
   ]
  },
  {
   "cell_type": "markdown",
   "metadata": {},
   "source": [
    "## Dati aria"
   ]
  },
  {
   "cell_type": "code",
   "execution_count": 2,
   "metadata": {},
   "outputs": [
    {
     "name": "stderr",
     "output_type": "stream",
     "text": [
      "C:\\RoboDK\\Python37\\lib\\site-packages\\IPython\\core\\interactiveshell.py:3457: DtypeWarning: Columns (1,2,4,9) have mixed types.Specify dtype option on import or set low_memory=False.\n",
      "  exec(code_obj, self.user_global_ns, self.user_ns)\n",
      "C:\\RoboDK\\Python37\\lib\\site-packages\\IPython\\core\\interactiveshell.py:3457: DtypeWarning: Columns (9) have mixed types.Specify dtype option on import or set low_memory=False.\n",
      "  exec(code_obj, self.user_global_ns, self.user_ns)\n",
      "C:\\RoboDK\\Python37\\lib\\site-packages\\IPython\\core\\interactiveshell.py:3457: DtypeWarning: Columns (1,2,4,9,18) have mixed types.Specify dtype option on import or set low_memory=False.\n",
      "  exec(code_obj, self.user_global_ns, self.user_ns)\n",
      "C:\\RoboDK\\Python37\\lib\\site-packages\\IPython\\core\\interactiveshell.py:3457: DtypeWarning: Columns (1,2,4) have mixed types.Specify dtype option on import or set low_memory=False.\n",
      "  exec(code_obj, self.user_global_ns, self.user_ns)\n"
     ]
    }
   ],
   "source": [
    "path_data = \"data/\"\n",
    "\n",
    "biossido_azoto_df = pd.read_csv(os.path.join(path_data,\"Aria_-_Biossido_d_Azoto.csv\"),sep=\";\",decimal=',')\n",
    "biossido_zolfo_df = pd.read_csv(os.path.join(path_data,\"Aria_-_Biossido_di_Zolfo.csv\"),sep=\";\",decimal=',')\n",
    "monossido_carbonio_df = pd.read_csv(os.path.join(path_data,\"Aria_-_Monossido_di_Carbonio.csv\"),sep=\";\",decimal=',')\n",
    "ozono_df = pd.read_csv(os.path.join(path_data,\"Aria_-_Ozono.csv\"),sep=\";\",decimal=',')\n",
    "pm2dot5_df = pd.read_csv(os.path.join(path_data,\"Aria_-_Particelle_Sospese_PM2.5.csv\"),sep=\";\",decimal=',')\n",
    "pm10_df = pd.read_csv(os.path.join(path_data,\"Aria_-_Particelle_Sospese_PM10.csv\"),sep=\";\",decimal=',')\n",
    "pts_df = pd.read_csv(os.path.join(path_data,\"Aria_-_Particolato_Totale_Sospeso.csv\"),sep=\";\",decimal=',')\n",
    "pollini_df = pd.read_csv(os.path.join(path_data,\"Aria_-_Pollini.csv\"),sep=\";\",decimal=',')\n"
   ]
  },
  {
   "cell_type": "markdown",
   "metadata": {},
   "source": [
    "## Altri dati"
   ]
  },
  {
   "cell_type": "code",
   "execution_count": 3,
   "metadata": {},
   "outputs": [],
   "source": [
    "siti_inquinanti_df = pd.read_csv(os.path.join(path_data,\"Censimento_dei_siti_inquinati.csv\"),sep=\";\",decimal=',')\n",
    "trattamento_rifiuti_df = pd.read_csv(os.path.join(path_data,\"Impianti_attivi_trattamento_rifiuti.csv\"),sep=\";\",decimal=',')"
   ]
  },
  {
   "cell_type": "markdown",
   "metadata": {},
   "source": [
    "## Analisi preliminare\n",
    "Controllo che non vi siano errori nei dati dei campi di interesse"
   ]
  },
  {
   "cell_type": "markdown",
   "metadata": {},
   "source": [
    "### Biossido di Azoto"
   ]
  },
  {
   "cell_type": "code",
   "execution_count": 4,
   "metadata": {},
   "outputs": [
    {
     "name": "stdout",
     "output_type": "stream",
     "text": [
      "274327\n",
      "['ug/m3']\n",
      "['Udine' 'Trieste' 'Gorizia' 'Pordenone']\n",
      "['True' 'False' 'Vero' 'Falso' nan]\n",
      "['Edison Torviscosa' 'Via Carpineto' 'A2A Via Natisone' \"A2A Doberdo'\"\n",
      " 'piazza Carlo Alberto' 'Gorizia' 'Ugovizza' 'Castions' 'Porcia'\n",
      " 'Area verde' 'Pordenone Centro 1' 'A2A Vermegliano' 'A2A Fossalon'\n",
      " 'Malisana' 'Via S.Daniele' 'Sacile' 'A2A Papariano' 'V.Cairoli'\n",
      " 'Via del Ponticello' 'p.le Rosmini' 'Osoppo' 'via Pitacco-ARPA'\n",
      " 'S.Giovanni al Natisone' 'piazza Volontari Giuliani' 'Brugnera' 'Claut'\n",
      " \"Doberdo'\" 'Lignano Sabbiadoro' 'Lucinico' 'M.te Zoncolan' 'Monfalcone'\n",
      " 'Monte S. Pantaleone' 'Muggia' 'Morsano' \"P.le D'Annunzio\" 'P.le Osoppo'\n",
      " 'P.le XXVI Luglio' 'S.Osvaldo' 'P.zza Liberta' 'P.zza Vico'\n",
      " 'Pordenone Centro' 'Prata di Pordenone' 'S.Giorgio di Nogaro' 'Tolmezzo'\n",
      " 'Torviscosa' 'V.Manzoni' 'Via Pitacco' 'Via San Sabba' 'Via Svevo'\n",
      " 'Via Tor Bandena']\n"
     ]
    }
   ],
   "source": [
    "dim = len(biossido_azoto_df.index)\n",
    "um = biossido_azoto_df[\"UNITA' MISURA\"].unique()\n",
    "città = biossido_azoto_df[\"RETE\"].unique()\n",
    "biossido_azoto_df[\"DATI INSUFF.\"] = biossido_zolfo_df[\"DATI INSUFF.\"].astype(str)\n",
    "dati_insuff = biossido_azoto_df[\"DATI INSUFF.\"].unique()\n",
    "ubicazioni = biossido_azoto_df[\"UBICAZIONE\"].unique()\n",
    "\n",
    "print(dim)\n",
    "print(um)\n",
    "print(città)\n",
    "print(dati_insuff)\n",
    "print(ubicazioni)"
   ]
  },
  {
   "cell_type": "markdown",
   "metadata": {},
   "source": [
    "### Biossido di Zolfo"
   ]
  },
  {
   "cell_type": "code",
   "execution_count": 5,
   "metadata": {},
   "outputs": [
    {
     "name": "stdout",
     "output_type": "stream",
     "text": [
      "159873\n",
      "['ug/m3']\n",
      "['Trieste' 'Udine' 'Gorizia' 'Pordenone']\n",
      "['True' 'False' 'Vero' 'Falso']\n",
      "['Via del Ponticello' 'Edison Torviscosa' 'A2A Fossalon' 'Malisana'\n",
      " 'A2A Papariano' 'Via Carpineto' 'Tolmezzo' 'A2A Via Natisone'\n",
      " 'A2A Vermegliano' 'via Pitacco-ARPA' 'p.le Rosmini' \"A2A Doberdo'\"\n",
      " 'Castions' 'Brugnera' 'Caneva' 'Claut' \"Doberdo'\" 'Fanna'\n",
      " 'Lignano Sabbiadoro' 'Lucinico' 'M.te Zoncolan' 'Monfalcone'\n",
      " 'Monte S. Pantaleone' 'Muggia' 'Osoppo' \"P.le D'Annunzio\" 'P.le Osoppo'\n",
      " 'P.le XXVI Luglio' 'P.zza Liberta' 'P.zza Vico' 'Pordenone Centro'\n",
      " 'Prata di Pordenone' 'S.Giorgio di Nogaro' 'S.Giovanni al Natisone'\n",
      " 'Sequals' 'Tarvisio' 'Torviscosa' 'Tribil Inferiore' 'Tugliezzo'\n",
      " 'Ugovizza' 'V.Cairoli' 'Via Battisti' 'Via Pitacco' 'Via San Sabba'\n",
      " 'Via Svevo']\n"
     ]
    }
   ],
   "source": [
    "dim = len(biossido_zolfo_df.index)\n",
    "um = biossido_zolfo_df[\"UNITA' MISURA\"].unique()\n",
    "città = biossido_zolfo_df[\"RETE\"].unique()\n",
    "biossido_zolfo_df[\"DATI INSUFF.\"] = biossido_zolfo_df[\"DATI INSUFF.\"].astype(str)\n",
    "dati_insuff = biossido_zolfo_df[\"DATI INSUFF.\"].unique()\n",
    "ubicazioni = biossido_zolfo_df[\"UBICAZIONE\"].unique()\n",
    "\n",
    "print(dim)\n",
    "print(um)\n",
    "print(città)\n",
    "print(dati_insuff)\n",
    "print(ubicazioni)"
   ]
  },
  {
   "cell_type": "markdown",
   "metadata": {},
   "source": [
    "### Monossido di Carbonio"
   ]
  },
  {
   "cell_type": "code",
   "execution_count": 6,
   "metadata": {},
   "outputs": [
    {
     "name": "stdout",
     "output_type": "stream",
     "text": [
      "95092\n",
      "['mg/m3']\n",
      "['Udine' 'Trieste' 'Pordenone' 'Gorizia']\n",
      "['True' 'False' 'Vero' 'Falso']\n",
      "['Malisana' 'Edison Torviscosa' 'piazza Volontari Giuliani'\n",
      " 'Via Carpineto' 'Castions' 'Via del Ponticello' 'via Pitacco-ARPA'\n",
      " 'Brugnera' 'Gorizia' 'Monfalcone' 'Muggia' 'Monte S. Pantaleone'\n",
      " 'P.le Osoppo' 'P.le XXVI Luglio' 'P.zza Liberta' 'P.zza Vico'\n",
      " 'Pordenone Centro' 'Via Svevo' 'Pordenone Centro 1' 'Prata di Pordenone'\n",
      " 'V.Cairoli' 'V.Manzoni' 'Via Battisti' 'Via Pitacco' 'Via S.Daniele'\n",
      " 'Via San Sabba' 'Via Tor Bandena']\n"
     ]
    }
   ],
   "source": [
    "dim = len(monossido_carbonio_df.index)\n",
    "um = monossido_carbonio_df[\"UNITA' MISURA\"].unique()\n",
    "città = monossido_carbonio_df[\"RETE\"].unique()\n",
    "monossido_carbonio_df[\"DATI INSUFF.\"] = biossido_zolfo_df[\"DATI INSUFF.\"].astype(str)\n",
    "dati_insuff = monossido_carbonio_df[\"DATI INSUFF.\"].unique()\n",
    "ubicazioni = monossido_carbonio_df[\"UBICAZIONE\"].unique()\n",
    "\n",
    "print(dim)\n",
    "print(um)\n",
    "print(città)\n",
    "print(dati_insuff)\n",
    "print(ubicazioni)"
   ]
  },
  {
   "cell_type": "markdown",
   "metadata": {},
   "source": [
    "### Ozono"
   ]
  },
  {
   "cell_type": "code",
   "execution_count": 7,
   "metadata": {},
   "outputs": [
    {
     "name": "stdout",
     "output_type": "stream",
     "text": [
      "224750\n",
      "['ug/m3']\n",
      "['Pordenone' 'Trieste' 'Udine' 'Gorizia']\n",
      "['False' 'True' 'Vero' 'Falso']\n",
      "['Porcia' 'Basovizza' 'Castions' 'A2A Papariano' 'S.Giovanni al Natisone'\n",
      " 'V.Cairoli' 'Ugovizza' 'A2A Via Natisone' 'Via Carpineto' 'Malisana'\n",
      " 'Edison Torviscosa' \"A2A Doberdo'\" 'A2A Fossalon' 'Tolmezzo' 'Brugnera'\n",
      " 'Morsano' 'Area verde' 'A2A Vermegliano' 'S.Osvaldo' 'Claut' \"Doberdo'\"\n",
      " 'M.te Zoncolan' 'Gorizia' 'Lucinico' 'Lignano Sabbiadoro' 'Monfalcone'\n",
      " 'Monte S. Pantaleone' 'Osoppo' 'P.zza Liberta' 'Pordenone Centro'\n",
      " 'Punta Sdobba' 'S.Giorgio di Nogaro' 'Tarvisio' 'Torviscosa'\n",
      " 'Tribil Inferiore' 'Tugliezzo' 'V.Manzoni' 'Via Battisti']\n"
     ]
    }
   ],
   "source": [
    "dim = len(ozono_df.index)\n",
    "um = ozono_df[\"UNITA' MISURA\"].unique()\n",
    "città = ozono_df[\"RETE\"].unique()\n",
    "ozono_df[\"DATI INSUFF.\"] = ozono_df[\"DATI INSUFF.\"].astype(str)\n",
    "dati_insuff = ozono_df[\"DATI INSUFF.\"].unique()\n",
    "ubicazioni = ozono_df[\"UBICAZIONE\"].unique()\n",
    "\n",
    "print(dim)\n",
    "print(um)\n",
    "print(città)\n",
    "print(dati_insuff)\n",
    "print(ubicazioni)"
   ]
  },
  {
   "cell_type": "markdown",
   "metadata": {},
   "source": [
    "### PM2.5"
   ]
  },
  {
   "cell_type": "code",
   "execution_count": 8,
   "metadata": {},
   "outputs": [
    {
     "name": "stdout",
     "output_type": "stream",
     "text": [
      "77227\n",
      "['ug/m3']\n",
      "['Gorizia' 'Udine' 'Pordenone' 'Trieste']\n",
      "['False' 'True' 'Falso' 'Vero']\n",
      "['Gorizia' 'A2A Via Natisone' 'V.Cairoli' 'A2A Fossalon'\n",
      " 'Pordenone Centro 1' 'p.le Rosmini' 'Via del Ponticello'\n",
      " 'via Pitacco-ARPA' 'P.zza Liberta' 'Pordenone Centro' 'Castions'\n",
      " 'Edison Torviscosa' 'Malisana']\n"
     ]
    }
   ],
   "source": [
    "dim = len(pm2dot5_df.index)\n",
    "um = pm2dot5_df[\"UNITA' MISURA\"].unique()\n",
    "città = pm2dot5_df[\"RETE\"].unique()\n",
    "pm2dot5_df[\"DATI INSUFF.\"] = pm2dot5_df[\"DATI INSUFF.\"].astype(str)\n",
    "dati_insuff = pm2dot5_df[\"DATI INSUFF.\"].unique()\n",
    "ubicazioni = pm2dot5_df[\"UBICAZIONE\"].unique()\n",
    "\n",
    "print(dim)\n",
    "print(um)\n",
    "print(città)\n",
    "print(dati_insuff)\n",
    "print(ubicazioni)"
   ]
  },
  {
   "cell_type": "markdown",
   "metadata": {},
   "source": [
    "### PM10"
   ]
  },
  {
   "cell_type": "code",
   "execution_count": 9,
   "metadata": {},
   "outputs": [
    {
     "name": "stdout",
     "output_type": "stream",
     "text": [
      "146793\n",
      "['ug/m3']\n",
      "['Udine' 'Gorizia' 'Pordenone' 'Trieste']\n",
      "['False' 'Falso' 'Vero' 'True']\n",
      "['Tolmezzo' 'Malisana' 'Edison Torviscosa' 'Castions'\n",
      " 'S.Giovanni al Natisone' 'Gorizia' 'Porcia' 'Brugnera' 'V.Cairoli'\n",
      " 'S.Osvaldo' 'Osoppo' 'Morsano' 'A2A Fossalon' \"A2A Doberdo'\"\n",
      " 'A2A Papariano' 'Via S.Daniele' 'Ugovizza' 'Sacile' 'Pordenone Centro 1'\n",
      " 'A2A Via Natisone' 'A2A Vermegliano' 'piazza Carlo Alberto' 'Basovizza'\n",
      " 'piazza Volontari Giuliani' 'Via del Ponticello' 'via Pitacco-ARPA'\n",
      " 'p.le Rosmini' 'Via Carpineto' 'Area verde' 'Caneva' 'Claut' \"Doberdo'\"\n",
      " 'Fanna' 'Lucinico' 'P.le Osoppo' 'Pordenone Centro' 'Prata di Pordenone'\n",
      " 'Sequals' 'Torviscosa' 'V.Manzoni' 'Monfalcone' 'Muggia' 'P.zza Liberta'\n",
      " 'Via Tor Bandena' 'Via Svevo' 'Via Pitacco']\n"
     ]
    }
   ],
   "source": [
    "dim = len(pm10_df.index)\n",
    "um = pm10_df[\"UNITA' MISURA\"].unique()\n",
    "città = pm10_df[\"RETE\"].unique()\n",
    "pm10_df[\"DATI INSUFF.\"] = pm10_df[\"DATI INSUFF.\"].astype(str)\n",
    "dati_insuff = pm10_df[\"DATI INSUFF.\"].unique()\n",
    "ubicazioni = pm10_df[\"UBICAZIONE\"].unique()\n",
    "\n",
    "print(dim)\n",
    "print(um)\n",
    "print(città)\n",
    "print(dati_insuff)\n",
    "print(ubicazioni)\n"
   ]
  },
  {
   "cell_type": "markdown",
   "metadata": {},
   "source": [
    "### Particolato totale sospeso\n",
    "Tutto il materiale non gassoso presente nell'aria (anche pollini, ecc...). Non viene quindi preso in considerazione dal momento che consideriamo PM10 come indice per l'inquinamento."
   ]
  },
  {
   "cell_type": "code",
   "execution_count": 10,
   "metadata": {},
   "outputs": [
    {
     "name": "stdout",
     "output_type": "stream",
     "text": [
      "20343\n",
      "['ug/m3']\n",
      "['Trieste' 'Pordenone']\n",
      "['Vero' 'Falso']\n",
      "['Muggia' 'Brugnera' 'Caneva' 'Fanna' 'Porcia' 'Pordenone Centro'\n",
      " 'Via Svevo' 'Prata di Pordenone' 'Sequals' 'Via Pitacco']\n"
     ]
    }
   ],
   "source": [
    "dim = len(pts_df.index)\n",
    "um = pts_df[\"UNITA' MISURA\"].unique()\n",
    "città = pts_df[\"RETE\"].unique()\n",
    "pts_df[\"DATI INSUFF.\"] = pts_df[\"DATI INSUFF.\"].astype(str)\n",
    "dati_insuff = pts_df[\"DATI INSUFF.\"].unique()\n",
    "ubicazioni = pts_df[\"UBICAZIONE\"].unique()\n",
    "\n",
    "print(dim)\n",
    "print(um)\n",
    "print(città)\n",
    "print(dati_insuff)\n",
    "print(ubicazioni)"
   ]
  },
  {
   "cell_type": "markdown",
   "metadata": {},
   "source": [
    "### Pollini"
   ]
  },
  {
   "cell_type": "markdown",
   "metadata": {},
   "source": [
    "Difficile gestione del campo relativo alla data, per ora questo dataset viene trascurato."
   ]
  },
  {
   "cell_type": "code",
   "execution_count": 11,
   "metadata": {},
   "outputs": [
    {
     "name": "stdout",
     "output_type": "stream",
     "text": [
      "118560\n",
      "['ug/m3']\n",
      "['Trieste' 'Pordenone' 'Udine']\n",
      "['Vero' 'Falso']\n",
      "['Muggia' 'Brugnera' 'Caneva' 'Fanna' 'Porcia' 'Pordenone Centro'\n",
      " 'Via Svevo' 'Prata di Pordenone' 'Sequals' 'Via Pitacco']\n"
     ]
    }
   ],
   "source": [
    "dim = len(pollini_df.index)\n",
    "genere = pollini_df[\"GENERE\"].unique()\n",
    "famiglia = pollini_df[\"FAMIGLIA\"].unique()\n",
    "città = pollini_df[\"PROVINCIA\"].unique()\n",
    "\n",
    "print(dim)\n",
    "print(um)\n",
    "print(città)\n",
    "print(dati_insuff)\n",
    "print(ubicazioni)\n"
   ]
  },
  {
   "cell_type": "markdown",
   "metadata": {},
   "source": [
    "# Elaborazione dei dati"
   ]
  },
  {
   "cell_type": "markdown",
   "metadata": {},
   "source": [
    "Selezione dei campi di interesse e filtraggio per dati sufficienti"
   ]
  },
  {
   "cell_type": "code",
   "execution_count": 12,
   "metadata": {},
   "outputs": [],
   "source": [
    "biossido_azoto_df = biossido_azoto_df[(biossido_azoto_df[\"DATI INSUFF.\"] == 'Falso') | (biossido_azoto_df[\"DATI INSUFF.\"] == 'False')][[\"DATA MISURA\", \"RETE\", \"MEDIA ORARIA MAX\"]]\n",
    "biossido_zolfo_df = biossido_zolfo_df[(biossido_zolfo_df[\"DATI INSUFF.\"] == 'Falso') | (biossido_zolfo_df[\"DATI INSUFF.\"] == 'False')][[\"DATA MISURA\", \"RETE\", \"MEDIA GIORNALIERA\"]]\n",
    "monossido_carbonio_df = monossido_carbonio_df[(monossido_carbonio_df[\"DATI INSUFF.\"] == 'Falso') | (monossido_carbonio_df[\"DATI INSUFF.\"] == 'False')][[\"DATA MISURA\", \"RETE\", \"MEDIA MOBILE 8h MAX\"]]\n",
    "ozono_df = ozono_df[(ozono_df[\"DATI INSUFF.\"] == 'Falso') | (ozono_df[\"DATI INSUFF.\"] == 'False')][[\"DATA MISURA\", \"RETE\", \"MEDIA MOBILE 8h MAX\"]]\n",
    "pm2dot5_df = pm2dot5_df[(pm2dot5_df[\"DATI INSUFF.\"] == 'Falso') | (pm2dot5_df[\"DATI INSUFF.\"] == 'False')][[\"DATA MISURA\", \"RETE\", \"MEDIA GIORNALIERA\"]]\n",
    "pm10_df = pm10_df[(pm10_df[\"DATI INSUFF.\"] == 'Falso') | (pm10_df[\"DATI INSUFF.\"] == 'False')][[\"DATA MISURA\", \"RETE\", \"MEDIA GIORNALIERA\"]]\n"
   ]
  },
  {
   "cell_type": "markdown",
   "metadata": {},
   "source": [
    "Selezione dell'intervallo di tempo e creazione dell'indice temporale. Sono presenti dati nei seguenti range temporali:\n",
    "- biossido di azoto:  2005-01-01 ---> 2020-11-18\n",
    "- biossido di zolfo:  2005-01-01 ---> 2021-10-18\n",
    "- monossido di carbonio:  2005-01-01 ---> 2021-11-18\n",
    "- ozono:  2005-01-01 ---> 2021-10-18\n",
    "- pm2.5:  2012-11-18 --->2021-10-18\n",
    "- pm10:  2005-01-01 --->2021-10-18"
   ]
  },
  {
   "cell_type": "code",
   "execution_count": 13,
   "metadata": {},
   "outputs": [],
   "source": [
    "biossido_azoto_df['DATA MISURA']= pd.to_datetime(biossido_azoto_df['DATA MISURA'],dayfirst=True)\n",
    "biossido_azoto_df = biossido_azoto_df[biossido_azoto_df['DATA MISURA'].notna()]\n",
    "biossido_zolfo_df['DATA MISURA']= pd.to_datetime(biossido_zolfo_df['DATA MISURA'],dayfirst=True)\n",
    "biossido_zolfo_df = biossido_zolfo_df[biossido_zolfo_df['DATA MISURA'].notna()]\n",
    "monossido_carbonio_df['DATA MISURA']= pd.to_datetime(monossido_carbonio_df['DATA MISURA'],dayfirst=True)\n",
    "monossido_carbonio_df = monossido_carbonio_df[monossido_carbonio_df['DATA MISURA'].notna()]\n",
    "ozono_df['DATA MISURA']= pd.to_datetime(ozono_df['DATA MISURA'],dayfirst=True)\n",
    "ozono_df = ozono_df[ozono_df['DATA MISURA'].notna()]\n",
    "pm2dot5_df['DATA MISURA']= pd.to_datetime(pm2dot5_df['DATA MISURA'],dayfirst=True)\n",
    "pm2dot5_df = pm2dot5_df[pm2dot5_df['DATA MISURA'].notna()]\n",
    "pm10_df['DATA MISURA']= pd.to_datetime(pm10_df['DATA MISURA'],dayfirst=True)\n",
    "pm10_df = pm10_df[pm10_df['DATA MISURA'].notna()]"
   ]
  },
  {
   "cell_type": "code",
   "execution_count": 14,
   "metadata": {},
   "outputs": [],
   "source": [
    "biossido_azoto_df=biossido_azoto_df.sort_values(by='DATA MISURA')\n",
    "biossido_zolfo_df=biossido_zolfo_df.sort_values(by='DATA MISURA')\n",
    "monossido_carbonio_df=monossido_carbonio_df.sort_values(by='DATA MISURA')\n",
    "ozono_df=ozono_df.sort_values(by='DATA MISURA')\n",
    "pm2dot5_df=pm2dot5_df.sort_values(by='DATA MISURA')\n",
    "pm10_df=pm10_df.sort_values(by='DATA MISURA')"
   ]
  },
  {
   "cell_type": "code",
   "execution_count": 15,
   "metadata": {},
   "outputs": [
    {
     "data": {
      "text/plain": [
       "95495    2005-01-01\n",
       "70009    2005-01-01\n",
       "102683   2005-01-01\n",
       "92393    2005-01-01\n",
       "141788   2005-01-01\n",
       "            ...    \n",
       "58284    2020-11-18\n",
       "58278    2020-11-18\n",
       "58244    2020-11-18\n",
       "58464    2020-11-18\n",
       "58365    2020-11-18\n",
       "Name: DATA MISURA, Length: 148874, dtype: datetime64[ns]"
      ]
     },
     "execution_count": 15,
     "metadata": {},
     "output_type": "execute_result"
    }
   ],
   "source": [
    "biossido_azoto_df[\"DATA MISURA\"]"
   ]
  },
  {
   "cell_type": "markdown",
   "metadata": {},
   "source": [
    "Selezione del range temporale in cui ho tutti i dati (01/01/2014 - 18/11/2020)"
   ]
  },
  {
   "cell_type": "code",
   "execution_count": 16,
   "metadata": {},
   "outputs": [],
   "source": [
    "biossido_azoto_df=biossido_azoto_df[(biossido_azoto_df['DATA MISURA'] >= '2014-01-01') & (biossido_azoto_df['DATA MISURA'] <= biossido_azoto_df['DATA MISURA'].max())]\n",
    "biossido_zolfo_df=biossido_zolfo_df[(biossido_zolfo_df['DATA MISURA'] >=  '2014-01-01') & (biossido_zolfo_df['DATA MISURA'] <= biossido_azoto_df['DATA MISURA'].max())]\n",
    "monossido_carbonio_df=monossido_carbonio_df[(monossido_carbonio_df['DATA MISURA'] >=  '2014-01-01') & (monossido_carbonio_df['DATA MISURA'] <= biossido_azoto_df['DATA MISURA'].max())]\n",
    "ozono_df=ozono_df[(ozono_df['DATA MISURA'] >= '2014-01-01') & (ozono_df['DATA MISURA'] <= biossido_azoto_df['DATA MISURA'].max())]\n",
    "pm2dot5_df=pm2dot5_df[(pm2dot5_df['DATA MISURA'] >= '2014-01-01') & (pm2dot5_df['DATA MISURA'] <= biossido_azoto_df['DATA MISURA'].max())]\n",
    "pm10_df=pm10_df[(pm10_df['DATA MISURA'] >= '2014-01-01') & (pm10_df['DATA MISURA'] <= biossido_azoto_df['DATA MISURA'].max())]"
   ]
  },
  {
   "cell_type": "markdown",
   "metadata": {},
   "source": [
    "Rinomina dei campi"
   ]
  },
  {
   "cell_type": "code",
   "execution_count": 17,
   "metadata": {},
   "outputs": [],
   "source": [
    "biossido_azoto_df = biossido_azoto_df.rename(columns={\n",
    "    'DATA MISURA': 'data',\n",
    "    'RETE': 'provincia',\n",
    "    'MEDIA ORARIA MAX': 'azoto_oraria_max'\n",
    "})\n",
    "biossido_zolfo_df = biossido_zolfo_df.rename(columns={\n",
    "    'DATA MISURA': 'data',\n",
    "    'RETE': 'provincia',\n",
    "    'MEDIA GIORNALIERA': 'zolfo_giornaliera'\n",
    "})\n",
    "monossido_carbonio_df = monossido_carbonio_df.rename(columns={\n",
    "    'DATA MISURA': 'data',\n",
    "    'RETE': 'provincia',\n",
    "    'MEDIA MOBILE 8h MAX': 'carbonio_8h_max'\n",
    "})\n",
    "ozono_df = ozono_df.rename(columns={\n",
    "    'DATA MISURA': 'data',\n",
    "    'RETE': 'provincia',\n",
    "    'MEDIA MOBILE 8h MAX': 'ozono_8h_max'\n",
    "})\n",
    "pm2dot5_df = pm2dot5_df.rename(columns={\n",
    "    'DATA MISURA': 'data',\n",
    "    'RETE': 'provincia',\n",
    "    'MEDIA GIORNALIERA': 'pm2dot5_giornaliera'\n",
    "})\n",
    "pm10_df = pm10_df.rename(columns={\n",
    "    'DATA MISURA': 'data',\n",
    "    'RETE': 'provincia',\n",
    "    'MEDIA GIORNALIERA': 'pm10_giornaliera'\n",
    "})\n",
    "\n",
    "biossido_azoto_df['azoto_oraria_max']=biossido_azoto_df['azoto_oraria_max'].astype(float)\n",
    "biossido_zolfo_df['zolfo_giornaliera']=biossido_zolfo_df['zolfo_giornaliera'].astype(float)\n",
    "monossido_carbonio_df['carbonio_8h_max']=monossido_carbonio_df['carbonio_8h_max'].astype(float)\n",
    "ozono_df['ozono_8h_max']=ozono_df['ozono_8h_max'].astype(float)\n",
    "pm2dot5_df['pm2dot5_giornaliera']=pm2dot5_df['pm2dot5_giornaliera'].astype(float)\n",
    "pm10_df['pm10_giornaliera']=pm10_df['pm10_giornaliera'].astype(float)\n"
   ]
  },
  {
   "cell_type": "markdown",
   "metadata": {},
   "source": [
    "Aggregazione dati per provincia e data"
   ]
  },
  {
   "cell_type": "code",
   "execution_count": 18,
   "metadata": {},
   "outputs": [],
   "source": [
    "biossido_azoto_df=biossido_azoto_df.groupby(by=['data', 'provincia']).agg({\"azoto_oraria_max\":\"mean\"})\n",
    "biossido_zolfo_df=biossido_zolfo_df.groupby(by=['data', 'provincia']).agg({\"zolfo_giornaliera\":\"mean\"})\n",
    "monossido_carbonio_df=monossido_carbonio_df.groupby(by=['data', 'provincia']).agg({\"carbonio_8h_max\":\"mean\"})\n",
    "ozono_df=ozono_df.groupby(by=['data', 'provincia']).agg({\"ozono_8h_max\":\"mean\"})\n",
    "pm2dot5_df=pm2dot5_df.groupby(by=['data', 'provincia']).agg({\"pm2dot5_giornaliera\":\"mean\"})\n",
    "pm10_df=pm10_df.groupby(by=['data', 'provincia']).agg({\"pm10_giornaliera\":\"mean\"})"
   ]
  },
  {
   "cell_type": "markdown",
   "metadata": {},
   "source": [
    "Unione dei datasets"
   ]
  },
  {
   "cell_type": "code",
   "execution_count": 19,
   "metadata": {},
   "outputs": [],
   "source": [
    "df = pd.merge(biossido_azoto_df, biossido_zolfo_df, how='outer', on=[\"data\", \"provincia\"]).sort_values(['data', 'provincia'])\n",
    "df = pd.merge(df, monossido_carbonio_df, how='outer', on=[\"data\", \"provincia\"]).sort_values(['data', 'provincia'])\n",
    "df = pd.merge(df, ozono_df, how='outer', on=[\"data\", \"provincia\"]).sort_values(['data', 'provincia'])\n",
    "df = pd.merge(df, pm2dot5_df, how='outer', on=[\"data\", \"provincia\"]).sort_values(['data', 'provincia'])\n",
    "df = pd.merge(df, pm10_df, how='outer', on=[\"data\", \"provincia\"]).sort_values(['data', 'provincia'])\n",
    "\n",
    "df=df.reset_index()"
   ]
  },
  {
   "cell_type": "markdown",
   "metadata": {},
   "source": [
    "Creazione degli indici temporali"
   ]
  },
  {
   "cell_type": "code",
   "execution_count": 20,
   "metadata": {},
   "outputs": [],
   "source": [
    "df_new = df.copy()\n",
    "df_new[\"time_idx\"] = (df_new['data'].dt.year * 52) + df_new['data'].dt.isocalendar().week\n",
    "df_new[\"relative_time_w\"] = df_new['data'].dt.isocalendar().week\n",
    "df_new[\"relative_time_m\"] = df_new['data'].dt.month\n",
    "df_new[\"relative_time_y\"] = df_new['data'].dt.year\n",
    "df_new[\"time_idx\"] -= df_new[\"time_idx\"].min()\n",
    "df_new[\"time_idx\"] = df_new[\"time_idx\"].astype(int)\n",
    "\n",
    "df_new=df_new.drop(\"data\", axis=1)"
   ]
  },
  {
   "cell_type": "code",
   "execution_count": 21,
   "metadata": {},
   "outputs": [
    {
     "data": {
      "text/html": [
       "<div>\n",
       "<style scoped>\n",
       "    .dataframe tbody tr th:only-of-type {\n",
       "        vertical-align: middle;\n",
       "    }\n",
       "\n",
       "    .dataframe tbody tr th {\n",
       "        vertical-align: top;\n",
       "    }\n",
       "\n",
       "    .dataframe thead th {\n",
       "        text-align: right;\n",
       "    }\n",
       "</style>\n",
       "<table border=\"1\" class=\"dataframe\">\n",
       "  <thead>\n",
       "    <tr style=\"text-align: right;\">\n",
       "      <th></th>\n",
       "      <th>provincia</th>\n",
       "      <th>azoto_oraria_max</th>\n",
       "      <th>zolfo_giornaliera</th>\n",
       "      <th>carbonio_8h_max</th>\n",
       "      <th>ozono_8h_max</th>\n",
       "      <th>pm2dot5_giornaliera</th>\n",
       "      <th>pm10_giornaliera</th>\n",
       "      <th>time_idx</th>\n",
       "      <th>relative_time_w</th>\n",
       "      <th>relative_time_m</th>\n",
       "      <th>relative_time_y</th>\n",
       "    </tr>\n",
       "  </thead>\n",
       "  <tbody>\n",
       "    <tr>\n",
       "      <th>0</th>\n",
       "      <td>Gorizia</td>\n",
       "      <td>18.503750</td>\n",
       "      <td>2.750000</td>\n",
       "      <td>0.785000</td>\n",
       "      <td>38.347500</td>\n",
       "      <td>25.370000</td>\n",
       "      <td>18.639382</td>\n",
       "      <td>0</td>\n",
       "      <td>1</td>\n",
       "      <td>1</td>\n",
       "      <td>2014</td>\n",
       "    </tr>\n",
       "    <tr>\n",
       "      <th>1</th>\n",
       "      <td>Pordenone</td>\n",
       "      <td>41.975000</td>\n",
       "      <td>NaN</td>\n",
       "      <td>0.980000</td>\n",
       "      <td>31.745000</td>\n",
       "      <td>29.500000</td>\n",
       "      <td>39.683924</td>\n",
       "      <td>0</td>\n",
       "      <td>1</td>\n",
       "      <td>1</td>\n",
       "      <td>2014</td>\n",
       "    </tr>\n",
       "    <tr>\n",
       "      <th>2</th>\n",
       "      <td>Trieste</td>\n",
       "      <td>48.715000</td>\n",
       "      <td>2.183333</td>\n",
       "      <td>0.991667</td>\n",
       "      <td>36.680000</td>\n",
       "      <td>18.450000</td>\n",
       "      <td>25.244995</td>\n",
       "      <td>0</td>\n",
       "      <td>1</td>\n",
       "      <td>1</td>\n",
       "      <td>2014</td>\n",
       "    </tr>\n",
       "    <tr>\n",
       "      <th>3</th>\n",
       "      <td>Udine</td>\n",
       "      <td>27.880000</td>\n",
       "      <td>3.910000</td>\n",
       "      <td>0.172500</td>\n",
       "      <td>35.511667</td>\n",
       "      <td>30.480000</td>\n",
       "      <td>30.783784</td>\n",
       "      <td>0</td>\n",
       "      <td>1</td>\n",
       "      <td>1</td>\n",
       "      <td>2014</td>\n",
       "    </tr>\n",
       "    <tr>\n",
       "      <th>4</th>\n",
       "      <td>Gorizia</td>\n",
       "      <td>15.446250</td>\n",
       "      <td>2.590000</td>\n",
       "      <td>0.835000</td>\n",
       "      <td>33.486667</td>\n",
       "      <td>30.710000</td>\n",
       "      <td>26.760813</td>\n",
       "      <td>0</td>\n",
       "      <td>1</td>\n",
       "      <td>1</td>\n",
       "      <td>2014</td>\n",
       "    </tr>\n",
       "    <tr>\n",
       "      <th>...</th>\n",
       "      <td>...</td>\n",
       "      <td>...</td>\n",
       "      <td>...</td>\n",
       "      <td>...</td>\n",
       "      <td>...</td>\n",
       "      <td>...</td>\n",
       "      <td>...</td>\n",
       "      <td>...</td>\n",
       "      <td>...</td>\n",
       "      <td>...</td>\n",
       "      <td>...</td>\n",
       "    </tr>\n",
       "    <tr>\n",
       "      <th>10047</th>\n",
       "      <td>Udine</td>\n",
       "      <td>41.568571</td>\n",
       "      <td>2.280000</td>\n",
       "      <td>NaN</td>\n",
       "      <td>53.242857</td>\n",
       "      <td>9.925000</td>\n",
       "      <td>12.539724</td>\n",
       "      <td>358</td>\n",
       "      <td>47</td>\n",
       "      <td>11</td>\n",
       "      <td>2020</td>\n",
       "    </tr>\n",
       "    <tr>\n",
       "      <th>10048</th>\n",
       "      <td>Gorizia</td>\n",
       "      <td>40.177143</td>\n",
       "      <td>0.618148</td>\n",
       "      <td>NaN</td>\n",
       "      <td>50.605077</td>\n",
       "      <td>10.066667</td>\n",
       "      <td>12.463332</td>\n",
       "      <td>358</td>\n",
       "      <td>47</td>\n",
       "      <td>11</td>\n",
       "      <td>2020</td>\n",
       "    </tr>\n",
       "    <tr>\n",
       "      <th>10049</th>\n",
       "      <td>Pordenone</td>\n",
       "      <td>80.826667</td>\n",
       "      <td>NaN</td>\n",
       "      <td>NaN</td>\n",
       "      <td>33.066667</td>\n",
       "      <td>16.900000</td>\n",
       "      <td>26.134642</td>\n",
       "      <td>358</td>\n",
       "      <td>47</td>\n",
       "      <td>11</td>\n",
       "      <td>2020</td>\n",
       "    </tr>\n",
       "    <tr>\n",
       "      <th>10050</th>\n",
       "      <td>Trieste</td>\n",
       "      <td>42.383333</td>\n",
       "      <td>1.330000</td>\n",
       "      <td>0.717619</td>\n",
       "      <td>64.585000</td>\n",
       "      <td>7.250000</td>\n",
       "      <td>10.613188</td>\n",
       "      <td>358</td>\n",
       "      <td>47</td>\n",
       "      <td>11</td>\n",
       "      <td>2020</td>\n",
       "    </tr>\n",
       "    <tr>\n",
       "      <th>10051</th>\n",
       "      <td>Udine</td>\n",
       "      <td>46.611429</td>\n",
       "      <td>2.350000</td>\n",
       "      <td>NaN</td>\n",
       "      <td>45.295000</td>\n",
       "      <td>14.550000</td>\n",
       "      <td>15.740373</td>\n",
       "      <td>358</td>\n",
       "      <td>47</td>\n",
       "      <td>11</td>\n",
       "      <td>2020</td>\n",
       "    </tr>\n",
       "  </tbody>\n",
       "</table>\n",
       "<p>10052 rows × 11 columns</p>\n",
       "</div>"
      ],
      "text/plain": [
       "       provincia  azoto_oraria_max  zolfo_giornaliera  carbonio_8h_max  \\\n",
       "0        Gorizia         18.503750           2.750000         0.785000   \n",
       "1      Pordenone         41.975000                NaN         0.980000   \n",
       "2        Trieste         48.715000           2.183333         0.991667   \n",
       "3          Udine         27.880000           3.910000         0.172500   \n",
       "4        Gorizia         15.446250           2.590000         0.835000   \n",
       "...          ...               ...                ...              ...   \n",
       "10047      Udine         41.568571           2.280000              NaN   \n",
       "10048    Gorizia         40.177143           0.618148              NaN   \n",
       "10049  Pordenone         80.826667                NaN              NaN   \n",
       "10050    Trieste         42.383333           1.330000         0.717619   \n",
       "10051      Udine         46.611429           2.350000              NaN   \n",
       "\n",
       "       ozono_8h_max  pm2dot5_giornaliera  pm10_giornaliera  time_idx  \\\n",
       "0         38.347500            25.370000         18.639382         0   \n",
       "1         31.745000            29.500000         39.683924         0   \n",
       "2         36.680000            18.450000         25.244995         0   \n",
       "3         35.511667            30.480000         30.783784         0   \n",
       "4         33.486667            30.710000         26.760813         0   \n",
       "...             ...                  ...               ...       ...   \n",
       "10047     53.242857             9.925000         12.539724       358   \n",
       "10048     50.605077            10.066667         12.463332       358   \n",
       "10049     33.066667            16.900000         26.134642       358   \n",
       "10050     64.585000             7.250000         10.613188       358   \n",
       "10051     45.295000            14.550000         15.740373       358   \n",
       "\n",
       "       relative_time_w  relative_time_m  relative_time_y  \n",
       "0                    1                1             2014  \n",
       "1                    1                1             2014  \n",
       "2                    1                1             2014  \n",
       "3                    1                1             2014  \n",
       "4                    1                1             2014  \n",
       "...                ...              ...              ...  \n",
       "10047               47               11             2020  \n",
       "10048               47               11             2020  \n",
       "10049               47               11             2020  \n",
       "10050               47               11             2020  \n",
       "10051               47               11             2020  \n",
       "\n",
       "[10052 rows x 11 columns]"
      ]
     },
     "execution_count": 21,
     "metadata": {},
     "output_type": "execute_result"
    }
   ],
   "source": [
    "df_new"
   ]
  },
  {
   "cell_type": "markdown",
   "metadata": {},
   "source": [
    "Fill settimanale dei dati"
   ]
  },
  {
   "cell_type": "code",
   "execution_count": 22,
   "metadata": {},
   "outputs": [
    {
     "data": {
      "text/html": [
       "<div>\n",
       "<style scoped>\n",
       "    .dataframe tbody tr th:only-of-type {\n",
       "        vertical-align: middle;\n",
       "    }\n",
       "\n",
       "    .dataframe tbody tr th {\n",
       "        vertical-align: top;\n",
       "    }\n",
       "\n",
       "    .dataframe thead th {\n",
       "        text-align: right;\n",
       "    }\n",
       "</style>\n",
       "<table border=\"1\" class=\"dataframe\">\n",
       "  <thead>\n",
       "    <tr style=\"text-align: right;\">\n",
       "      <th></th>\n",
       "      <th>time_idx</th>\n",
       "      <th>provincia</th>\n",
       "      <th>azoto_oraria_max</th>\n",
       "      <th>zolfo_giornaliera</th>\n",
       "      <th>carbonio_8h_max</th>\n",
       "      <th>ozono_8h_max</th>\n",
       "      <th>pm2dot5_giornaliera</th>\n",
       "      <th>pm10_giornaliera</th>\n",
       "      <th>relative_time_w</th>\n",
       "      <th>relative_time_m</th>\n",
       "      <th>relative_time_y</th>\n",
       "    </tr>\n",
       "  </thead>\n",
       "  <tbody>\n",
       "    <tr>\n",
       "      <th>0</th>\n",
       "      <td>0.0</td>\n",
       "      <td>Gorizia</td>\n",
       "      <td>18.503750</td>\n",
       "      <td>2.75</td>\n",
       "      <td>0.785</td>\n",
       "      <td>38.347500</td>\n",
       "      <td>25.370</td>\n",
       "      <td>18.639382</td>\n",
       "      <td>1</td>\n",
       "      <td>1</td>\n",
       "      <td>2014</td>\n",
       "    </tr>\n",
       "    <tr>\n",
       "      <th>1</th>\n",
       "      <td>0.0</td>\n",
       "      <td>Gorizia</td>\n",
       "      <td>15.446250</td>\n",
       "      <td>2.59</td>\n",
       "      <td>0.835</td>\n",
       "      <td>33.486667</td>\n",
       "      <td>30.710</td>\n",
       "      <td>26.760813</td>\n",
       "      <td>1</td>\n",
       "      <td>1</td>\n",
       "      <td>2014</td>\n",
       "    </tr>\n",
       "    <tr>\n",
       "      <th>2</th>\n",
       "      <td>0.0</td>\n",
       "      <td>Gorizia</td>\n",
       "      <td>20.942500</td>\n",
       "      <td>1.89</td>\n",
       "      <td>0.790</td>\n",
       "      <td>37.553333</td>\n",
       "      <td>21.460</td>\n",
       "      <td>22.278735</td>\n",
       "      <td>1</td>\n",
       "      <td>1</td>\n",
       "      <td>2014</td>\n",
       "    </tr>\n",
       "    <tr>\n",
       "      <th>3</th>\n",
       "      <td>0.0</td>\n",
       "      <td>Gorizia</td>\n",
       "      <td>12.376250</td>\n",
       "      <td>1.89</td>\n",
       "      <td>0.690</td>\n",
       "      <td>54.515000</td>\n",
       "      <td>20.840</td>\n",
       "      <td>27.319113</td>\n",
       "      <td>1</td>\n",
       "      <td>1</td>\n",
       "      <td>2014</td>\n",
       "    </tr>\n",
       "    <tr>\n",
       "      <th>4</th>\n",
       "      <td>0.0</td>\n",
       "      <td>Gorizia</td>\n",
       "      <td>16.200000</td>\n",
       "      <td>1.89</td>\n",
       "      <td>0.555</td>\n",
       "      <td>64.625000</td>\n",
       "      <td>9.800</td>\n",
       "      <td>12.666150</td>\n",
       "      <td>1</td>\n",
       "      <td>1</td>\n",
       "      <td>2014</td>\n",
       "    </tr>\n",
       "    <tr>\n",
       "      <th>...</th>\n",
       "      <td>...</td>\n",
       "      <td>...</td>\n",
       "      <td>...</td>\n",
       "      <td>...</td>\n",
       "      <td>...</td>\n",
       "      <td>...</td>\n",
       "      <td>...</td>\n",
       "      <td>...</td>\n",
       "      <td>...</td>\n",
       "      <td>...</td>\n",
       "      <td>...</td>\n",
       "    </tr>\n",
       "    <tr>\n",
       "      <th>10038</th>\n",
       "      <td>357.0</td>\n",
       "      <td>Udine</td>\n",
       "      <td>48.022857</td>\n",
       "      <td>1.89</td>\n",
       "      <td>0.000</td>\n",
       "      <td>45.683750</td>\n",
       "      <td>33.525</td>\n",
       "      <td>30.451372</td>\n",
       "      <td>46</td>\n",
       "      <td>11</td>\n",
       "      <td>2020</td>\n",
       "    </tr>\n",
       "    <tr>\n",
       "      <th>10039</th>\n",
       "      <td>357.0</td>\n",
       "      <td>Udine</td>\n",
       "      <td>27.022593</td>\n",
       "      <td>2.41</td>\n",
       "      <td>0.000</td>\n",
       "      <td>52.964286</td>\n",
       "      <td>27.275</td>\n",
       "      <td>25.652133</td>\n",
       "      <td>46</td>\n",
       "      <td>11</td>\n",
       "      <td>2020</td>\n",
       "    </tr>\n",
       "    <tr>\n",
       "      <th>10049</th>\n",
       "      <td>358.0</td>\n",
       "      <td>Udine</td>\n",
       "      <td>34.621429</td>\n",
       "      <td>1.80</td>\n",
       "      <td>0.000</td>\n",
       "      <td>43.585000</td>\n",
       "      <td>25.650</td>\n",
       "      <td>26.153915</td>\n",
       "      <td>47</td>\n",
       "      <td>11</td>\n",
       "      <td>2020</td>\n",
       "    </tr>\n",
       "    <tr>\n",
       "      <th>10050</th>\n",
       "      <td>358.0</td>\n",
       "      <td>Udine</td>\n",
       "      <td>41.568571</td>\n",
       "      <td>2.28</td>\n",
       "      <td>0.000</td>\n",
       "      <td>53.242857</td>\n",
       "      <td>9.925</td>\n",
       "      <td>12.539724</td>\n",
       "      <td>47</td>\n",
       "      <td>11</td>\n",
       "      <td>2020</td>\n",
       "    </tr>\n",
       "    <tr>\n",
       "      <th>10051</th>\n",
       "      <td>358.0</td>\n",
       "      <td>Udine</td>\n",
       "      <td>46.611429</td>\n",
       "      <td>2.35</td>\n",
       "      <td>0.000</td>\n",
       "      <td>45.295000</td>\n",
       "      <td>14.550</td>\n",
       "      <td>15.740373</td>\n",
       "      <td>47</td>\n",
       "      <td>11</td>\n",
       "      <td>2020</td>\n",
       "    </tr>\n",
       "  </tbody>\n",
       "</table>\n",
       "<p>10052 rows × 11 columns</p>\n",
       "</div>"
      ],
      "text/plain": [
       "       time_idx provincia  azoto_oraria_max  zolfo_giornaliera  \\\n",
       "0           0.0   Gorizia         18.503750               2.75   \n",
       "1           0.0   Gorizia         15.446250               2.59   \n",
       "2           0.0   Gorizia         20.942500               1.89   \n",
       "3           0.0   Gorizia         12.376250               1.89   \n",
       "4           0.0   Gorizia         16.200000               1.89   \n",
       "...         ...       ...               ...                ...   \n",
       "10038     357.0     Udine         48.022857               1.89   \n",
       "10039     357.0     Udine         27.022593               2.41   \n",
       "10049     358.0     Udine         34.621429               1.80   \n",
       "10050     358.0     Udine         41.568571               2.28   \n",
       "10051     358.0     Udine         46.611429               2.35   \n",
       "\n",
       "       carbonio_8h_max  ozono_8h_max  pm2dot5_giornaliera  pm10_giornaliera  \\\n",
       "0                0.785     38.347500               25.370         18.639382   \n",
       "1                0.835     33.486667               30.710         26.760813   \n",
       "2                0.790     37.553333               21.460         22.278735   \n",
       "3                0.690     54.515000               20.840         27.319113   \n",
       "4                0.555     64.625000                9.800         12.666150   \n",
       "...                ...           ...                  ...               ...   \n",
       "10038            0.000     45.683750               33.525         30.451372   \n",
       "10039            0.000     52.964286               27.275         25.652133   \n",
       "10049            0.000     43.585000               25.650         26.153915   \n",
       "10050            0.000     53.242857                9.925         12.539724   \n",
       "10051            0.000     45.295000               14.550         15.740373   \n",
       "\n",
       "       relative_time_w  relative_time_m  relative_time_y  \n",
       "0                    1                1             2014  \n",
       "1                    1                1             2014  \n",
       "2                    1                1             2014  \n",
       "3                    1                1             2014  \n",
       "4                    1                1             2014  \n",
       "...                ...              ...              ...  \n",
       "10038               46               11             2020  \n",
       "10039               46               11             2020  \n",
       "10049               47               11             2020  \n",
       "10050               47               11             2020  \n",
       "10051               47               11             2020  \n",
       "\n",
       "[10052 rows x 11 columns]"
      ]
     },
     "execution_count": 22,
     "metadata": {},
     "output_type": "execute_result"
    }
   ],
   "source": [
    "dense_df = pd.DataFrame()\n",
    "for time in range(df_new[\"time_idx\"].min(),df_new[\"time_idx\"].max()+1):\n",
    "    dense_df = dense_df.append({\"time_idx\":time,\"provincia\":df_new[\"provincia\"].unique()},ignore_index=True)\n",
    "    dense_df = dense_df.explode(\"provincia\")\n",
    "dense_df = dense_df.set_index([\"time_idx\",\"provincia\"]).join(df_new.set_index([\"time_idx\",\"provincia\"]),how='outer')\n",
    "dense_df = dense_df.reset_index()\n",
    "dense_df = dense_df.sort_values(by=[\"provincia\",\"time_idx\",\"relative_time_w\"])\n",
    "dense_df = dense_df.ffill()\n",
    "dense_df"
   ]
  },
  {
   "cell_type": "markdown",
   "metadata": {},
   "source": [
    "Raggruppamento settimanale dei dati"
   ]
  },
  {
   "cell_type": "code",
   "execution_count": 23,
   "metadata": {},
   "outputs": [
    {
     "data": {
      "text/html": [
       "<div>\n",
       "<style scoped>\n",
       "    .dataframe tbody tr th:only-of-type {\n",
       "        vertical-align: middle;\n",
       "    }\n",
       "\n",
       "    .dataframe tbody tr th {\n",
       "        vertical-align: top;\n",
       "    }\n",
       "\n",
       "    .dataframe thead th {\n",
       "        text-align: right;\n",
       "    }\n",
       "</style>\n",
       "<table border=\"1\" class=\"dataframe\">\n",
       "  <thead>\n",
       "    <tr style=\"text-align: right;\">\n",
       "      <th></th>\n",
       "      <th>provincia</th>\n",
       "      <th>time_idx</th>\n",
       "      <th>azoto_oraria_max</th>\n",
       "      <th>zolfo_giornaliera</th>\n",
       "      <th>carbonio_8h_max</th>\n",
       "      <th>ozono_8h_max</th>\n",
       "      <th>pm2dot5_giornaliera</th>\n",
       "      <th>pm10_giornaliera</th>\n",
       "      <th>relative_time_w</th>\n",
       "      <th>relative_time_y</th>\n",
       "      <th>relative_time_m</th>\n",
       "    </tr>\n",
       "  </thead>\n",
       "  <tbody>\n",
       "    <tr>\n",
       "      <th>0</th>\n",
       "      <td>Gorizia</td>\n",
       "      <td>0.0</td>\n",
       "      <td>28.006272</td>\n",
       "      <td>3.661250</td>\n",
       "      <td>0.651250</td>\n",
       "      <td>53.649062</td>\n",
       "      <td>16.647083</td>\n",
       "      <td>18.015583</td>\n",
       "      <td>1.0</td>\n",
       "      <td>2014.0</td>\n",
       "      <td>5.125000</td>\n",
       "    </tr>\n",
       "    <tr>\n",
       "      <th>1</th>\n",
       "      <td>Gorizia</td>\n",
       "      <td>1.0</td>\n",
       "      <td>45.018673</td>\n",
       "      <td>5.331905</td>\n",
       "      <td>0.845714</td>\n",
       "      <td>13.312857</td>\n",
       "      <td>40.959762</td>\n",
       "      <td>49.991549</td>\n",
       "      <td>2.0</td>\n",
       "      <td>2014.0</td>\n",
       "      <td>1.000000</td>\n",
       "    </tr>\n",
       "    <tr>\n",
       "      <th>2</th>\n",
       "      <td>Gorizia</td>\n",
       "      <td>2.0</td>\n",
       "      <td>45.632117</td>\n",
       "      <td>4.936048</td>\n",
       "      <td>0.648571</td>\n",
       "      <td>40.546714</td>\n",
       "      <td>22.282857</td>\n",
       "      <td>29.161928</td>\n",
       "      <td>3.0</td>\n",
       "      <td>2014.0</td>\n",
       "      <td>1.000000</td>\n",
       "    </tr>\n",
       "    <tr>\n",
       "      <th>3</th>\n",
       "      <td>Gorizia</td>\n",
       "      <td>3.0</td>\n",
       "      <td>44.446463</td>\n",
       "      <td>5.484762</td>\n",
       "      <td>0.679286</td>\n",
       "      <td>32.052524</td>\n",
       "      <td>14.080952</td>\n",
       "      <td>17.742073</td>\n",
       "      <td>4.0</td>\n",
       "      <td>2014.0</td>\n",
       "      <td>1.000000</td>\n",
       "    </tr>\n",
       "    <tr>\n",
       "      <th>4</th>\n",
       "      <td>Gorizia</td>\n",
       "      <td>4.0</td>\n",
       "      <td>30.148980</td>\n",
       "      <td>4.187143</td>\n",
       "      <td>0.526429</td>\n",
       "      <td>57.219524</td>\n",
       "      <td>14.944286</td>\n",
       "      <td>17.136072</td>\n",
       "      <td>5.0</td>\n",
       "      <td>2014.0</td>\n",
       "      <td>1.285714</td>\n",
       "    </tr>\n",
       "    <tr>\n",
       "      <th>...</th>\n",
       "      <td>...</td>\n",
       "      <td>...</td>\n",
       "      <td>...</td>\n",
       "      <td>...</td>\n",
       "      <td>...</td>\n",
       "      <td>...</td>\n",
       "      <td>...</td>\n",
       "      <td>...</td>\n",
       "      <td>...</td>\n",
       "      <td>...</td>\n",
       "      <td>...</td>\n",
       "    </tr>\n",
       "    <tr>\n",
       "      <th>1431</th>\n",
       "      <td>Udine</td>\n",
       "      <td>354.0</td>\n",
       "      <td>32.206987</td>\n",
       "      <td>3.108571</td>\n",
       "      <td>0.000000</td>\n",
       "      <td>64.327466</td>\n",
       "      <td>29.528571</td>\n",
       "      <td>32.824346</td>\n",
       "      <td>43.0</td>\n",
       "      <td>2020.0</td>\n",
       "      <td>10.000000</td>\n",
       "    </tr>\n",
       "    <tr>\n",
       "      <th>1432</th>\n",
       "      <td>Udine</td>\n",
       "      <td>355.0</td>\n",
       "      <td>35.572812</td>\n",
       "      <td>2.835714</td>\n",
       "      <td>0.000000</td>\n",
       "      <td>49.331905</td>\n",
       "      <td>16.853571</td>\n",
       "      <td>19.789032</td>\n",
       "      <td>44.0</td>\n",
       "      <td>2020.0</td>\n",
       "      <td>10.142857</td>\n",
       "    </tr>\n",
       "    <tr>\n",
       "      <th>1433</th>\n",
       "      <td>Udine</td>\n",
       "      <td>356.0</td>\n",
       "      <td>39.426567</td>\n",
       "      <td>1.990000</td>\n",
       "      <td>0.000000</td>\n",
       "      <td>43.992847</td>\n",
       "      <td>20.578049</td>\n",
       "      <td>24.522095</td>\n",
       "      <td>45.0</td>\n",
       "      <td>2020.0</td>\n",
       "      <td>11.000000</td>\n",
       "    </tr>\n",
       "    <tr>\n",
       "      <th>1434</th>\n",
       "      <td>Udine</td>\n",
       "      <td>357.0</td>\n",
       "      <td>41.356416</td>\n",
       "      <td>2.164286</td>\n",
       "      <td>0.000000</td>\n",
       "      <td>43.834728</td>\n",
       "      <td>22.157143</td>\n",
       "      <td>22.998696</td>\n",
       "      <td>46.0</td>\n",
       "      <td>2020.0</td>\n",
       "      <td>11.000000</td>\n",
       "    </tr>\n",
       "    <tr>\n",
       "      <th>1435</th>\n",
       "      <td>Udine</td>\n",
       "      <td>358.0</td>\n",
       "      <td>40.933810</td>\n",
       "      <td>2.143333</td>\n",
       "      <td>0.000000</td>\n",
       "      <td>47.374286</td>\n",
       "      <td>16.708333</td>\n",
       "      <td>18.144671</td>\n",
       "      <td>47.0</td>\n",
       "      <td>2020.0</td>\n",
       "      <td>11.000000</td>\n",
       "    </tr>\n",
       "  </tbody>\n",
       "</table>\n",
       "<p>1436 rows × 11 columns</p>\n",
       "</div>"
      ],
      "text/plain": [
       "     provincia  time_idx  azoto_oraria_max  zolfo_giornaliera  \\\n",
       "0      Gorizia       0.0         28.006272           3.661250   \n",
       "1      Gorizia       1.0         45.018673           5.331905   \n",
       "2      Gorizia       2.0         45.632117           4.936048   \n",
       "3      Gorizia       3.0         44.446463           5.484762   \n",
       "4      Gorizia       4.0         30.148980           4.187143   \n",
       "...        ...       ...               ...                ...   \n",
       "1431     Udine     354.0         32.206987           3.108571   \n",
       "1432     Udine     355.0         35.572812           2.835714   \n",
       "1433     Udine     356.0         39.426567           1.990000   \n",
       "1434     Udine     357.0         41.356416           2.164286   \n",
       "1435     Udine     358.0         40.933810           2.143333   \n",
       "\n",
       "      carbonio_8h_max  ozono_8h_max  pm2dot5_giornaliera  pm10_giornaliera  \\\n",
       "0            0.651250     53.649062            16.647083         18.015583   \n",
       "1            0.845714     13.312857            40.959762         49.991549   \n",
       "2            0.648571     40.546714            22.282857         29.161928   \n",
       "3            0.679286     32.052524            14.080952         17.742073   \n",
       "4            0.526429     57.219524            14.944286         17.136072   \n",
       "...               ...           ...                  ...               ...   \n",
       "1431         0.000000     64.327466            29.528571         32.824346   \n",
       "1432         0.000000     49.331905            16.853571         19.789032   \n",
       "1433         0.000000     43.992847            20.578049         24.522095   \n",
       "1434         0.000000     43.834728            22.157143         22.998696   \n",
       "1435         0.000000     47.374286            16.708333         18.144671   \n",
       "\n",
       "      relative_time_w  relative_time_y  relative_time_m  \n",
       "0                 1.0           2014.0         5.125000  \n",
       "1                 2.0           2014.0         1.000000  \n",
       "2                 3.0           2014.0         1.000000  \n",
       "3                 4.0           2014.0         1.000000  \n",
       "4                 5.0           2014.0         1.285714  \n",
       "...               ...              ...              ...  \n",
       "1431             43.0           2020.0        10.000000  \n",
       "1432             44.0           2020.0        10.142857  \n",
       "1433             45.0           2020.0        11.000000  \n",
       "1434             46.0           2020.0        11.000000  \n",
       "1435             47.0           2020.0        11.000000  \n",
       "\n",
       "[1436 rows x 11 columns]"
      ]
     },
     "execution_count": 23,
     "metadata": {},
     "output_type": "execute_result"
    }
   ],
   "source": [
    "df_settimanale = dense_df.groupby(by=[\"provincia\",\"time_idx\"]).agg({\"azoto_oraria_max\":\"mean\", \"zolfo_giornaliera\":\"mean\", \"carbonio_8h_max\":\"mean\", \"ozono_8h_max\":\"mean\", \"pm2dot5_giornaliera\":\"mean\", \"pm10_giornaliera\":\"mean\", \"relative_time_w\":\"mean\",\"relative_time_y\":\"mean\", \"relative_time_m\":\"mean\"})\n",
    "df_settimanale = df_settimanale.reset_index()\n",
    "df_settimanale"
   ]
  },
  {
   "cell_type": "markdown",
   "metadata": {},
   "source": [
    "## Visualizzazione delle serie temporali"
   ]
  },
  {
   "cell_type": "code",
   "execution_count": 26,
   "metadata": {},
   "outputs": [
    {
     "data": {
      "application/vnd.plotly.v1+json": {
       "config": {
        "plotlyServerURL": "https://plot.ly"
       },
       "data": [
        {
         "hovertemplate": "time_idx=%{x}<br>pm10_giornaliera=%{y}<extra></extra>",
         "legendgroup": "",
         "line": {
          "color": "#636efa",
          "dash": "solid"
         },
         "marker": {
          "symbol": "circle"
         },
         "mode": "lines",
         "name": "",
         "orientation": "v",
         "showlegend": false,
         "type": "scatter",
         "x": [
          0,
          1,
          2,
          3,
          4,
          5,
          6,
          7,
          8,
          9,
          10,
          11,
          12,
          13,
          14,
          15,
          16,
          17,
          18,
          19,
          20,
          21,
          22,
          23,
          24,
          25,
          26,
          27,
          28,
          29,
          30,
          31,
          32,
          33,
          34,
          35,
          36,
          37,
          38,
          39,
          40,
          41,
          42,
          43,
          44,
          45,
          46,
          47,
          48,
          49,
          50,
          51,
          52,
          53,
          54,
          55,
          56,
          57,
          58,
          59,
          60,
          61,
          62,
          63,
          64,
          65,
          66,
          67,
          68,
          69,
          70,
          71,
          72,
          73,
          74,
          75,
          76,
          77,
          78,
          79,
          80,
          81,
          82,
          83,
          84,
          85,
          86,
          87,
          88,
          89,
          90,
          91,
          92,
          93,
          94,
          95,
          96,
          97,
          98,
          99,
          100,
          101,
          102,
          103,
          104,
          105,
          106,
          107,
          108,
          109,
          110,
          111,
          112,
          113,
          114,
          115,
          116,
          117,
          118,
          119,
          120,
          121,
          122,
          123,
          124,
          125,
          126,
          127,
          128,
          129,
          130,
          131,
          132,
          133,
          134,
          135,
          136,
          137,
          138,
          139,
          140,
          141,
          142,
          143,
          144,
          145,
          146,
          147,
          148,
          149,
          150,
          151,
          152,
          153,
          154,
          155,
          156,
          157,
          158,
          159,
          160,
          161,
          162,
          163,
          164,
          165,
          166,
          167,
          168,
          169,
          170,
          171,
          172,
          173,
          174,
          175,
          176,
          177,
          178,
          179,
          180,
          181,
          182,
          183,
          184,
          185,
          186,
          187,
          188,
          189,
          190,
          191,
          192,
          193,
          194,
          195,
          196,
          197,
          198,
          199,
          200,
          201,
          202,
          203,
          204,
          205,
          206,
          207,
          208,
          209,
          210,
          211,
          212,
          213,
          214,
          215,
          216,
          217,
          218,
          219,
          220,
          221,
          222,
          223,
          224,
          225,
          226,
          227,
          228,
          229,
          230,
          231,
          232,
          233,
          234,
          235,
          236,
          237,
          238,
          239,
          240,
          241,
          242,
          243,
          244,
          245,
          246,
          247,
          248,
          249,
          250,
          251,
          252,
          253,
          254,
          255,
          256,
          257,
          258,
          259,
          260,
          261,
          262,
          263,
          264,
          265,
          266,
          267,
          268,
          269,
          270,
          271,
          272,
          273,
          274,
          275,
          276,
          277,
          278,
          279,
          280,
          281,
          282,
          283,
          284,
          285,
          286,
          287,
          288,
          289,
          290,
          291,
          292,
          293,
          294,
          295,
          296,
          297,
          298,
          299,
          300,
          301,
          302,
          303,
          304,
          305,
          306,
          307,
          308,
          309,
          310,
          311,
          312,
          313,
          314,
          315,
          316,
          317,
          318,
          319,
          320,
          321,
          322,
          323,
          324,
          325,
          326,
          327,
          328,
          329,
          330,
          331,
          332,
          333,
          334,
          335,
          336,
          337,
          338,
          339,
          340,
          341,
          342,
          343,
          344,
          345,
          346,
          347,
          348,
          349,
          350,
          351,
          352,
          353,
          354,
          355,
          356,
          357,
          358
         ],
         "xaxis": "x",
         "y": [
          18.015583095238096,
          49.991548849206346,
          29.16192816326531,
          17.742073341836736,
          17.136072244897957,
          15.285696096938777,
          13.221038214285715,
          16.79493066326531,
          17.094622704081633,
          20.821675,
          37.51484989795919,
          36.05528147959184,
          14.351835663265307,
          29.75786656462585,
          13.273109659863946,
          9.372385340136054,
          10.417772210884353,
          12.157357040816326,
          10.861536489795919,
          6.136168775510204,
          17.678624727891158,
          9.029625891156462,
          13.536007006802722,
          15.08207738095238,
          12.640167721088435,
          12.604860510204082,
          9.758923265306123,
          8.62561081632653,
          13.586683061224491,
          11.747966734693877,
          11.269542231292517,
          12.256903877551022,
          10.353641972789116,
          8.252009659863946,
          10.117856326530612,
          14.679966734693878,
          13.43999431972789,
          17.139229149659865,
          13.879804238095238,
          16.229753265306123,
          21.660663367346938,
          17.27029308163265,
          14.216808741496598,
          18.47151431972789,
          18.41434530612245,
          18.039957346938774,
          14.934661836734694,
          20.539001040816327,
          8.512181632653062,
          27.499677755102038,
          30.61862180272109,
          34.295165408163264,
          29.242677166666667,
          40.653299387755105,
          35.06737262244898,
          16.43801142857143,
          15.418028333333334,
          14.273855204081633,
          26.004084068027215,
          35.804989047619046,
          14.88941755102041,
          10.541170986394558,
          24.718438741496602,
          31.571561496598637,
          21.60596210884354,
          11.702964238095237,
          17.113874591836737,
          17.289519965986393,
          18.530526578231292,
          14.131849591836735,
          13.785144285714287,
          11.637264081632653,
          11.337315102040815,
          10.655216653061226,
          18.281171020408163,
          23.083265836734693,
          10.74032404761905,
          8.36839319727891,
          16.46973680272109,
          17.770176836734695,
          19.74327469387755,
          19.992886496598636,
          10.005698979591838,
          25.937860782312924,
          24.54483551020408,
          12.007685272108843,
          14.828016142857141,
          14.154836285714286,
          11.0355926292517,
          22.801073333333335,
          9.280132959183675,
          10.671802176870747,
          7.3242128809523805,
          8.414835523809524,
          12.143702517006803,
          18.446699591836733,
          36.381724142857145,
          36.50853081632653,
          33.55005850340136,
          16.89132999319728,
          52.711422346938775,
          36.04391800680272,
          41.431636292517005,
          50.51882573469387,
          25.90102668831169,
          19.24763931972789,
          29.030458724489794,
          95.42508445578231,
          35.20480448979592,
          15.650714387755102,
          14.390015646258503,
          14.889365047619048,
          11.184854081632652,
          11.104806727891157,
          23.231189285714283,
          16.896866836734695,
          19.591411292517005,
          19.050213979591835,
          14.308836428571428,
          13.686795918367347,
          8.124785823129253,
          10.250294523809524,
          9.886541904761904,
          9.423877959183674,
          13.441527265306123,
          8.770451163265307,
          11.36984548979592,
          9.575377748299319,
          20.157118707482994,
          11.77447238095238,
          12.232381904761905,
          13.752625476190476,
          14.15236676190476,
          11.483910722222221,
          8.637402047619048,
          9.26779836734694,
          10.375700306122448,
          12.479625476190478,
          14.862016360544219,
          16.473666408163265,
          20.42335930952381,
          9.865235459183674,
          16.28623918367347,
          6.880120367346939,
          10.64048612244898,
          9.383840714285713,
          14.218204795918368,
          20.23380714285714,
          10.891803843537415,
          26.968783673469385,
          21.62138972789116,
          18.484926367346937,
          34.54361380952381,
          26.97210551020408,
          19.315815680272106,
          18.80480765873016,
          22.05120414285714,
          25.118555714285716,
          13.369516340136057,
          30.141861462585037,
          36.19708265306123,
          14.04527469387755,
          29.42734836734694,
          32.86788568027211,
          15.588124285714285,
          9.553220408163266,
          35.22055367346939,
          21.50918442176871,
          15.889049551020408,
          13.506990272108842,
          10.219828163265305,
          7.818204285714286,
          13.565396836734694,
          7.830420510204081,
          12.87502448979592,
          10.353351020408164,
          11.876593265306123,
          17.196499591836734,
          9.660195544217686,
          14.338456972789116,
          17.187095340136054,
          9.407836013605444,
          11.89606700680272,
          9.690135,
          16.21979979591837,
          9.42090581632653,
          22.36138336734694,
          11.951377068027211,
          11.324549166666667,
          15.369811265306122,
          11.262669693877552,
          8.198633557823129,
          7.579632040816327,
          9.7331031292517,
          18.653410204081634,
          21.42455107482993,
          20.72094843537415,
          40.115717687074834,
          16.809367210884353,
          16.54368425170068,
          15.76965838095238,
          9.86712268707483,
          36.903768163265305,
          9.697275510204081,
          31.386954897959185,
          12.671642346938777,
          23.30447418367347,
          28.16454625,
          26.40657830357143,
          13.431741258503402,
          21.34097404761905,
          30.480739972789113,
          22.154517517006802,
          16.006503816326532,
          20.707145340136055,
          12.261293265306122,
          27.769463265306122,
          18.935768965986394,
          9.16886149659864,
          15.328361448979592,
          18.22799486394558,
          11.514370340136054,
          14.794386666666668,
          20.18651186394558,
          19.97043527210884,
          16.643692891156462,
          14.207926040816327,
          8.878354285714286,
          15.282081673469389,
          21.506890408163265,
          16.523296040816327,
          13.834329877551019,
          11.109013979591836,
          9.0404457414966,
          12.430036564625851,
          10.590905510204081,
          13.76803081632653,
          13.774894013605442,
          17.42649493197279,
          18.230562904761904,
          11.996790238095238,
          15.9637768707483,
          9.18602393537415,
          12.139893795918367,
          18.709303265306122,
          19.062833469387755,
          10.670876408163265,
          11.217445,
          29.08829775510204,
          30.1819399659864,
          17.30395095238095,
          15.28210100340136,
          17.59314387755102,
          15.926464897959184,
          10.636562340136054,
          16.678012578231293,
          23.910953149659864,
          16.22049856462585,
          25.06684332653061,
          26.466780816326526,
          20.865619232142855,
          23.394940238095238,
          20.026495918367345,
          21.025054285714283,
          11.333629727891156,
          21.263650510204084,
          24.95190561904762,
          56.03696537414966,
          33.655603367346934,
          27.389144795918366,
          15.368625714285713,
          12.923313843537414,
          12.576380108843537,
          15.82590393877551,
          14.757305714285716,
          15.906072585034014,
          26.652428278911565,
          9.376502707482993,
          7.4243652380952385,
          7.0761730952380955,
          10.209508503401361,
          7.480442210884354,
          17.294060605442176,
          27.17933897959184,
          15.518465326530613,
          18.329070557823133,
          16.185739285714284,
          9.236464646258502,
          13.122217074829933,
          16.21183457142857,
          11.385585333333335,
          18.141131857142856,
          9.284461190476192,
          14.87387638095238,
          24.33077104761905,
          9.604194918367346,
          10.300676394557824,
          11.50408824489796,
          10.755630612244898,
          9.177373006802721,
          15.882085149659863,
          22.65311919047619,
          22.960593775510205,
          12.986542653061225,
          8.898480204081633,
          8.077718163265306,
          11.846770408163266,
          14.592452680272109,
          22.22924917687075,
          15.791241768707481,
          20.992263095238094,
          13.30604637414966,
          27.309892952380956,
          29.974049387755098,
          35.71124551020408,
          27.503294659863943,
          47.99603734693877,
          30.293909591836734,
          28.038510952380953,
          20.17259132653061,
          18.081362653061227,
          9.433685,
          17.605994336734692,
          17.419233095238095,
          60.11177326530612,
          15.337683673469387,
          21.08970306122449,
          15.605733469387756,
          17.628835918367347,
          8.249368911564627,
          10.09482861904762,
          14.410258571428571,
          11.743318843537415,
          7.65497037414966,
          9.382599115646258,
          7.3823072142857145,
          9.28341788435374,
          12.824783578231292,
          11.03059425170068,
          11.242356632653062,
          8.33864925170068,
          10.6613631292517,
          17.500227278911563,
          13.112879217687075,
          16.359817,
          10.943411857142857,
          13.689184353741497,
          9.064584857142858,
          16.226274571428572,
          19.30015836734694,
          9.554000408163265,
          12.48857081632653,
          11.380059047619048,
          7.332381020408164,
          24.242814081632652,
          19.55139489795918,
          24.21218823809524,
          21.852483673469386,
          13.160392111111113
         ],
         "yaxis": "y"
        }
       ],
       "layout": {
        "legend": {
         "tracegroupgap": 0
        },
        "template": {
         "data": {
          "bar": [
           {
            "error_x": {
             "color": "#2a3f5f"
            },
            "error_y": {
             "color": "#2a3f5f"
            },
            "marker": {
             "line": {
              "color": "#E5ECF6",
              "width": 0.5
             },
             "pattern": {
              "fillmode": "overlay",
              "size": 10,
              "solidity": 0.2
             }
            },
            "type": "bar"
           }
          ],
          "barpolar": [
           {
            "marker": {
             "line": {
              "color": "#E5ECF6",
              "width": 0.5
             },
             "pattern": {
              "fillmode": "overlay",
              "size": 10,
              "solidity": 0.2
             }
            },
            "type": "barpolar"
           }
          ],
          "carpet": [
           {
            "aaxis": {
             "endlinecolor": "#2a3f5f",
             "gridcolor": "white",
             "linecolor": "white",
             "minorgridcolor": "white",
             "startlinecolor": "#2a3f5f"
            },
            "baxis": {
             "endlinecolor": "#2a3f5f",
             "gridcolor": "white",
             "linecolor": "white",
             "minorgridcolor": "white",
             "startlinecolor": "#2a3f5f"
            },
            "type": "carpet"
           }
          ],
          "choropleth": [
           {
            "colorbar": {
             "outlinewidth": 0,
             "ticks": ""
            },
            "type": "choropleth"
           }
          ],
          "contour": [
           {
            "colorbar": {
             "outlinewidth": 0,
             "ticks": ""
            },
            "colorscale": [
             [
              0,
              "#0d0887"
             ],
             [
              0.1111111111111111,
              "#46039f"
             ],
             [
              0.2222222222222222,
              "#7201a8"
             ],
             [
              0.3333333333333333,
              "#9c179e"
             ],
             [
              0.4444444444444444,
              "#bd3786"
             ],
             [
              0.5555555555555556,
              "#d8576b"
             ],
             [
              0.6666666666666666,
              "#ed7953"
             ],
             [
              0.7777777777777778,
              "#fb9f3a"
             ],
             [
              0.8888888888888888,
              "#fdca26"
             ],
             [
              1,
              "#f0f921"
             ]
            ],
            "type": "contour"
           }
          ],
          "contourcarpet": [
           {
            "colorbar": {
             "outlinewidth": 0,
             "ticks": ""
            },
            "type": "contourcarpet"
           }
          ],
          "heatmap": [
           {
            "colorbar": {
             "outlinewidth": 0,
             "ticks": ""
            },
            "colorscale": [
             [
              0,
              "#0d0887"
             ],
             [
              0.1111111111111111,
              "#46039f"
             ],
             [
              0.2222222222222222,
              "#7201a8"
             ],
             [
              0.3333333333333333,
              "#9c179e"
             ],
             [
              0.4444444444444444,
              "#bd3786"
             ],
             [
              0.5555555555555556,
              "#d8576b"
             ],
             [
              0.6666666666666666,
              "#ed7953"
             ],
             [
              0.7777777777777778,
              "#fb9f3a"
             ],
             [
              0.8888888888888888,
              "#fdca26"
             ],
             [
              1,
              "#f0f921"
             ]
            ],
            "type": "heatmap"
           }
          ],
          "heatmapgl": [
           {
            "colorbar": {
             "outlinewidth": 0,
             "ticks": ""
            },
            "colorscale": [
             [
              0,
              "#0d0887"
             ],
             [
              0.1111111111111111,
              "#46039f"
             ],
             [
              0.2222222222222222,
              "#7201a8"
             ],
             [
              0.3333333333333333,
              "#9c179e"
             ],
             [
              0.4444444444444444,
              "#bd3786"
             ],
             [
              0.5555555555555556,
              "#d8576b"
             ],
             [
              0.6666666666666666,
              "#ed7953"
             ],
             [
              0.7777777777777778,
              "#fb9f3a"
             ],
             [
              0.8888888888888888,
              "#fdca26"
             ],
             [
              1,
              "#f0f921"
             ]
            ],
            "type": "heatmapgl"
           }
          ],
          "histogram": [
           {
            "marker": {
             "pattern": {
              "fillmode": "overlay",
              "size": 10,
              "solidity": 0.2
             }
            },
            "type": "histogram"
           }
          ],
          "histogram2d": [
           {
            "colorbar": {
             "outlinewidth": 0,
             "ticks": ""
            },
            "colorscale": [
             [
              0,
              "#0d0887"
             ],
             [
              0.1111111111111111,
              "#46039f"
             ],
             [
              0.2222222222222222,
              "#7201a8"
             ],
             [
              0.3333333333333333,
              "#9c179e"
             ],
             [
              0.4444444444444444,
              "#bd3786"
             ],
             [
              0.5555555555555556,
              "#d8576b"
             ],
             [
              0.6666666666666666,
              "#ed7953"
             ],
             [
              0.7777777777777778,
              "#fb9f3a"
             ],
             [
              0.8888888888888888,
              "#fdca26"
             ],
             [
              1,
              "#f0f921"
             ]
            ],
            "type": "histogram2d"
           }
          ],
          "histogram2dcontour": [
           {
            "colorbar": {
             "outlinewidth": 0,
             "ticks": ""
            },
            "colorscale": [
             [
              0,
              "#0d0887"
             ],
             [
              0.1111111111111111,
              "#46039f"
             ],
             [
              0.2222222222222222,
              "#7201a8"
             ],
             [
              0.3333333333333333,
              "#9c179e"
             ],
             [
              0.4444444444444444,
              "#bd3786"
             ],
             [
              0.5555555555555556,
              "#d8576b"
             ],
             [
              0.6666666666666666,
              "#ed7953"
             ],
             [
              0.7777777777777778,
              "#fb9f3a"
             ],
             [
              0.8888888888888888,
              "#fdca26"
             ],
             [
              1,
              "#f0f921"
             ]
            ],
            "type": "histogram2dcontour"
           }
          ],
          "mesh3d": [
           {
            "colorbar": {
             "outlinewidth": 0,
             "ticks": ""
            },
            "type": "mesh3d"
           }
          ],
          "parcoords": [
           {
            "line": {
             "colorbar": {
              "outlinewidth": 0,
              "ticks": ""
             }
            },
            "type": "parcoords"
           }
          ],
          "pie": [
           {
            "automargin": true,
            "type": "pie"
           }
          ],
          "scatter": [
           {
            "marker": {
             "colorbar": {
              "outlinewidth": 0,
              "ticks": ""
             }
            },
            "type": "scatter"
           }
          ],
          "scatter3d": [
           {
            "line": {
             "colorbar": {
              "outlinewidth": 0,
              "ticks": ""
             }
            },
            "marker": {
             "colorbar": {
              "outlinewidth": 0,
              "ticks": ""
             }
            },
            "type": "scatter3d"
           }
          ],
          "scattercarpet": [
           {
            "marker": {
             "colorbar": {
              "outlinewidth": 0,
              "ticks": ""
             }
            },
            "type": "scattercarpet"
           }
          ],
          "scattergeo": [
           {
            "marker": {
             "colorbar": {
              "outlinewidth": 0,
              "ticks": ""
             }
            },
            "type": "scattergeo"
           }
          ],
          "scattergl": [
           {
            "marker": {
             "colorbar": {
              "outlinewidth": 0,
              "ticks": ""
             }
            },
            "type": "scattergl"
           }
          ],
          "scattermapbox": [
           {
            "marker": {
             "colorbar": {
              "outlinewidth": 0,
              "ticks": ""
             }
            },
            "type": "scattermapbox"
           }
          ],
          "scatterpolar": [
           {
            "marker": {
             "colorbar": {
              "outlinewidth": 0,
              "ticks": ""
             }
            },
            "type": "scatterpolar"
           }
          ],
          "scatterpolargl": [
           {
            "marker": {
             "colorbar": {
              "outlinewidth": 0,
              "ticks": ""
             }
            },
            "type": "scatterpolargl"
           }
          ],
          "scatterternary": [
           {
            "marker": {
             "colorbar": {
              "outlinewidth": 0,
              "ticks": ""
             }
            },
            "type": "scatterternary"
           }
          ],
          "surface": [
           {
            "colorbar": {
             "outlinewidth": 0,
             "ticks": ""
            },
            "colorscale": [
             [
              0,
              "#0d0887"
             ],
             [
              0.1111111111111111,
              "#46039f"
             ],
             [
              0.2222222222222222,
              "#7201a8"
             ],
             [
              0.3333333333333333,
              "#9c179e"
             ],
             [
              0.4444444444444444,
              "#bd3786"
             ],
             [
              0.5555555555555556,
              "#d8576b"
             ],
             [
              0.6666666666666666,
              "#ed7953"
             ],
             [
              0.7777777777777778,
              "#fb9f3a"
             ],
             [
              0.8888888888888888,
              "#fdca26"
             ],
             [
              1,
              "#f0f921"
             ]
            ],
            "type": "surface"
           }
          ],
          "table": [
           {
            "cells": {
             "fill": {
              "color": "#EBF0F8"
             },
             "line": {
              "color": "white"
             }
            },
            "header": {
             "fill": {
              "color": "#C8D4E3"
             },
             "line": {
              "color": "white"
             }
            },
            "type": "table"
           }
          ]
         },
         "layout": {
          "annotationdefaults": {
           "arrowcolor": "#2a3f5f",
           "arrowhead": 0,
           "arrowwidth": 1
          },
          "autotypenumbers": "strict",
          "coloraxis": {
           "colorbar": {
            "outlinewidth": 0,
            "ticks": ""
           }
          },
          "colorscale": {
           "diverging": [
            [
             0,
             "#8e0152"
            ],
            [
             0.1,
             "#c51b7d"
            ],
            [
             0.2,
             "#de77ae"
            ],
            [
             0.3,
             "#f1b6da"
            ],
            [
             0.4,
             "#fde0ef"
            ],
            [
             0.5,
             "#f7f7f7"
            ],
            [
             0.6,
             "#e6f5d0"
            ],
            [
             0.7,
             "#b8e186"
            ],
            [
             0.8,
             "#7fbc41"
            ],
            [
             0.9,
             "#4d9221"
            ],
            [
             1,
             "#276419"
            ]
           ],
           "sequential": [
            [
             0,
             "#0d0887"
            ],
            [
             0.1111111111111111,
             "#46039f"
            ],
            [
             0.2222222222222222,
             "#7201a8"
            ],
            [
             0.3333333333333333,
             "#9c179e"
            ],
            [
             0.4444444444444444,
             "#bd3786"
            ],
            [
             0.5555555555555556,
             "#d8576b"
            ],
            [
             0.6666666666666666,
             "#ed7953"
            ],
            [
             0.7777777777777778,
             "#fb9f3a"
            ],
            [
             0.8888888888888888,
             "#fdca26"
            ],
            [
             1,
             "#f0f921"
            ]
           ],
           "sequentialminus": [
            [
             0,
             "#0d0887"
            ],
            [
             0.1111111111111111,
             "#46039f"
            ],
            [
             0.2222222222222222,
             "#7201a8"
            ],
            [
             0.3333333333333333,
             "#9c179e"
            ],
            [
             0.4444444444444444,
             "#bd3786"
            ],
            [
             0.5555555555555556,
             "#d8576b"
            ],
            [
             0.6666666666666666,
             "#ed7953"
            ],
            [
             0.7777777777777778,
             "#fb9f3a"
            ],
            [
             0.8888888888888888,
             "#fdca26"
            ],
            [
             1,
             "#f0f921"
            ]
           ]
          },
          "colorway": [
           "#636efa",
           "#EF553B",
           "#00cc96",
           "#ab63fa",
           "#FFA15A",
           "#19d3f3",
           "#FF6692",
           "#B6E880",
           "#FF97FF",
           "#FECB52"
          ],
          "font": {
           "color": "#2a3f5f"
          },
          "geo": {
           "bgcolor": "white",
           "lakecolor": "white",
           "landcolor": "#E5ECF6",
           "showlakes": true,
           "showland": true,
           "subunitcolor": "white"
          },
          "hoverlabel": {
           "align": "left"
          },
          "hovermode": "closest",
          "mapbox": {
           "style": "light"
          },
          "paper_bgcolor": "white",
          "plot_bgcolor": "#E5ECF6",
          "polar": {
           "angularaxis": {
            "gridcolor": "white",
            "linecolor": "white",
            "ticks": ""
           },
           "bgcolor": "#E5ECF6",
           "radialaxis": {
            "gridcolor": "white",
            "linecolor": "white",
            "ticks": ""
           }
          },
          "scene": {
           "xaxis": {
            "backgroundcolor": "#E5ECF6",
            "gridcolor": "white",
            "gridwidth": 2,
            "linecolor": "white",
            "showbackground": true,
            "ticks": "",
            "zerolinecolor": "white"
           },
           "yaxis": {
            "backgroundcolor": "#E5ECF6",
            "gridcolor": "white",
            "gridwidth": 2,
            "linecolor": "white",
            "showbackground": true,
            "ticks": "",
            "zerolinecolor": "white"
           },
           "zaxis": {
            "backgroundcolor": "#E5ECF6",
            "gridcolor": "white",
            "gridwidth": 2,
            "linecolor": "white",
            "showbackground": true,
            "ticks": "",
            "zerolinecolor": "white"
           }
          },
          "shapedefaults": {
           "line": {
            "color": "#2a3f5f"
           }
          },
          "ternary": {
           "aaxis": {
            "gridcolor": "white",
            "linecolor": "white",
            "ticks": ""
           },
           "baxis": {
            "gridcolor": "white",
            "linecolor": "white",
            "ticks": ""
           },
           "bgcolor": "#E5ECF6",
           "caxis": {
            "gridcolor": "white",
            "linecolor": "white",
            "ticks": ""
           }
          },
          "title": {
           "x": 0.05
          },
          "xaxis": {
           "automargin": true,
           "gridcolor": "white",
           "linecolor": "white",
           "ticks": "",
           "title": {
            "standoff": 15
           },
           "zerolinecolor": "white",
           "zerolinewidth": 2
          },
          "yaxis": {
           "automargin": true,
           "gridcolor": "white",
           "linecolor": "white",
           "ticks": "",
           "title": {
            "standoff": 15
           },
           "zerolinecolor": "white",
           "zerolinewidth": 2
          }
         }
        },
        "title": {
         "text": "Provincia: Gorizia"
        },
        "xaxis": {
         "anchor": "y",
         "domain": [
          0,
          1
         ],
         "title": {
          "text": "time_idx"
         }
        },
        "yaxis": {
         "anchor": "x",
         "domain": [
          0,
          1
         ],
         "title": {
          "text": "pm10_giornaliera"
         }
        }
       }
      }
     },
     "metadata": {},
     "output_type": "display_data"
    },
    {
     "data": {
      "application/vnd.plotly.v1+json": {
       "config": {
        "plotlyServerURL": "https://plot.ly"
       },
       "data": [
        {
         "hovertemplate": "time_idx=%{x}<br>pm10_giornaliera=%{y}<extra></extra>",
         "legendgroup": "",
         "line": {
          "color": "#636efa",
          "dash": "solid"
         },
         "marker": {
          "symbol": "circle"
         },
         "mode": "lines",
         "name": "",
         "orientation": "v",
         "showlegend": false,
         "type": "scatter",
         "x": [
          0,
          1,
          2,
          3,
          4,
          5,
          6,
          7,
          8,
          9,
          10,
          11,
          12,
          13,
          14,
          15,
          16,
          17,
          18,
          19,
          20,
          21,
          22,
          23,
          24,
          25,
          26,
          27,
          28,
          29,
          30,
          31,
          32,
          33,
          34,
          35,
          36,
          37,
          38,
          39,
          40,
          41,
          42,
          43,
          44,
          45,
          46,
          47,
          48,
          49,
          50,
          51,
          52,
          53,
          54,
          55,
          56,
          57,
          58,
          59,
          60,
          61,
          62,
          63,
          64,
          65,
          66,
          67,
          68,
          69,
          70,
          71,
          72,
          73,
          74,
          75,
          76,
          77,
          78,
          79,
          80,
          81,
          82,
          83,
          84,
          85,
          86,
          87,
          88,
          89,
          90,
          91,
          92,
          93,
          94,
          95,
          96,
          97,
          98,
          99,
          100,
          101,
          102,
          103,
          104,
          105,
          106,
          107,
          108,
          109,
          110,
          111,
          112,
          113,
          114,
          115,
          116,
          117,
          118,
          119,
          120,
          121,
          122,
          123,
          124,
          125,
          126,
          127,
          128,
          129,
          130,
          131,
          132,
          133,
          134,
          135,
          136,
          137,
          138,
          139,
          140,
          141,
          142,
          143,
          144,
          145,
          146,
          147,
          148,
          149,
          150,
          151,
          152,
          153,
          154,
          155,
          156,
          157,
          158,
          159,
          160,
          161,
          162,
          163,
          164,
          165,
          166,
          167,
          168,
          169,
          170,
          171,
          172,
          173,
          174,
          175,
          176,
          177,
          178,
          179,
          180,
          181,
          182,
          183,
          184,
          185,
          186,
          187,
          188,
          189,
          190,
          191,
          192,
          193,
          194,
          195,
          196,
          197,
          198,
          199,
          200,
          201,
          202,
          203,
          204,
          205,
          206,
          207,
          208,
          209,
          210,
          211,
          212,
          213,
          214,
          215,
          216,
          217,
          218,
          219,
          220,
          221,
          222,
          223,
          224,
          225,
          226,
          227,
          228,
          229,
          230,
          231,
          232,
          233,
          234,
          235,
          236,
          237,
          238,
          239,
          240,
          241,
          242,
          243,
          244,
          245,
          246,
          247,
          248,
          249,
          250,
          251,
          252,
          253,
          254,
          255,
          256,
          257,
          258,
          259,
          260,
          261,
          262,
          263,
          264,
          265,
          266,
          267,
          268,
          269,
          270,
          271,
          272,
          273,
          274,
          275,
          276,
          277,
          278,
          279,
          280,
          281,
          282,
          283,
          284,
          285,
          286,
          287,
          288,
          289,
          290,
          291,
          292,
          293,
          294,
          295,
          296,
          297,
          298,
          299,
          300,
          301,
          302,
          303,
          304,
          305,
          306,
          307,
          308,
          309,
          310,
          311,
          312,
          313,
          314,
          315,
          316,
          317,
          318,
          319,
          320,
          321,
          322,
          323,
          324,
          325,
          326,
          327,
          328,
          329,
          330,
          331,
          332,
          333,
          334,
          335,
          336,
          337,
          338,
          339,
          340,
          341,
          342,
          343,
          344,
          345,
          346,
          347,
          348,
          349,
          350,
          351,
          352,
          353,
          354,
          355,
          356,
          357,
          358
         ],
         "xaxis": "x",
         "y": [
          28.248136458333335,
          61.991488476190476,
          33.73083704761905,
          26.79890019047619,
          18.917716095238095,
          19.187346666666667,
          21.52714542857143,
          18.93293614285714,
          22.582055,
          28.034736904761903,
          47.51966119047619,
          48.372769285714284,
          15.875268333333334,
          35.93951152380952,
          19.91128580952381,
          13.528160714285715,
          14.207879285714286,
          12.183530285714285,
          16.070177761904763,
          8.205986571428571,
          18.072279238095238,
          11.334761095238095,
          17.700615142857142,
          15.388079428571428,
          12.35927180952381,
          11.807239214285714,
          9.605887142857142,
          9.000648214285714,
          12.301728928571427,
          10.966707142857144,
          11.334806642857144,
          13.961134285714285,
          9.208891142857142,
          8.404312,
          10.10158057142857,
          14.16693542857143,
          13.183927642857142,
          22.11873514285714,
          18.942991142857142,
          20.934990285714285,
          26.597939142857143,
          29.77047207142857,
          29.864229714285717,
          31.943665785714284,
          27.995759857142854,
          17.532145142857143,
          27.369221285714286,
          31.105679642857144,
          14.376573714285716,
          41.81865142857142,
          41.37411542857143,
          43.383073214285716,
          45.7725785,
          62.917848285714285,
          47.02793035714286,
          33.39711114285714,
          32.969959714285714,
          28.410596857142856,
          41.13852742857143,
          51.36661371428572,
          26.984502285714285,
          26.282290857142858,
          37.84087771428572,
          37.95192142857143,
          21.286205714285718,
          18.526095142857145,
          28.578126285714287,
          24.867665142857142,
          25.383621714285713,
          15.523194571428572,
          17.061277999999998,
          13.84182742857143,
          13.928626,
          15.3938995,
          23.817494285714286,
          25.587006285714285,
          12.836752357142856,
          11.197263214285714,
          20.29631792857143,
          20.607297642857144,
          25.561932285714285,
          22.957879571428574,
          11.788475928571428,
          22.861249714285716,
          25.581119047619048,
          11.4773615,
          17.241784285714285,
          18.39764057142857,
          15.709466857142857,
          25.124341214285714,
          13.615835714285714,
          12.734789642857143,
          12.876323214285716,
          11.173730714285714,
          24.34277321428571,
          24.607570833333334,
          51.14146952380952,
          48.494905714285714,
          48.897462857142855,
          33.39701,
          74.25847999999999,
          61.65537428571429,
          72.16101007142858,
          65.191974,
          56.081925999999996,
          34.82528114285714,
          55.511875999999994,
          120.58482571428571,
          54.370418571428566,
          23.92557464285714,
          19.952052285714284,
          27.595145142857145,
          15.537067238095236,
          16.7297745,
          35.87619685714286,
          29.538914000000002,
          31.080108,
          25.210118571428573,
          20.856821928571428,
          18.663206714285714,
          10.305885714285713,
          13.35434657142857,
          12.976220571428572,
          12.101346642857143,
          19.99515021428571,
          10.945045642857142,
          15.045398857142857,
          13.4140565,
          23.359077142857142,
          15.757174285714285,
          16.034682571428572,
          15.904712,
          20.634244,
          14.286702666666665,
          12.122762428571429,
          11.527218857142858,
          13.285059428571428,
          15.866000857142856,
          20.42605514285714,
          19.633438857142856,
          25.25035557142857,
          14.719525785714286,
          25.544180857142855,
          12.364852857142859,
          17.995225714285716,
          16.576801904761904,
          24.780109500000002,
          30.18333907142857,
          21.10057857142857,
          41.664447142857135,
          31.008059142857146,
          33.68670485714286,
          60.03788600000001,
          54.01058085714286,
          50.04372371428571,
          46.499236499999995,
          47.7490112,
          41.93641485714286,
          25.408451714285714,
          53.875417142857145,
          67.573583,
          26.025637142857143,
          48.19637,
          50.482366000000006,
          27.528164071428574,
          19.718831428571427,
          58.274346571428566,
          36.905338500000006,
          25.994328285714285,
          22.109004285714285,
          16.811434,
          13.810457142857143,
          17.317137142857142,
          11.94318142857143,
          17.21411619047619,
          13.45310142857143,
          16.964984285714287,
          22.232683357142857,
          13.816811,
          22.076366285714283,
          25.563863785714286,
          11.214472642857142,
          14.502994000000001,
          12.748915738095237,
          22.751228357142857,
          11.596919714285715,
          23.547120857142858,
          13.740242357142858,
          13.07272942857143,
          18.594098738095237,
          14.652141428571428,
          11.347204571428572,
          8.85368707142857,
          14.25358507142857,
          22.34763607142857,
          36.74574914285715,
          40.007262000000004,
          55.501982428571424,
          29.284240571428573,
          34.48919178571428,
          21.601593714285713,
          21.773312857142855,
          51.872816857142865,
          22.240277142857142,
          52.65040114285714,
          27.524370857142856,
          49.95155657142857,
          38.9214874375,
          48.5554355625,
          24.739415714285713,
          35.96076519047619,
          59.83397478571429,
          36.76854607142857,
          31.441401857142857,
          38.20728514285714,
          21.094150928571427,
          43.13984742857143,
          33.34092614285714,
          15.982951428571427,
          27.243204357142854,
          30.74900442857143,
          18.86582064285714,
          15.845380857142857,
          26.902582142857145,
          27.153622285714285,
          19.687666500000002,
          17.114072214285716,
          11.226094,
          15.386377428571427,
          26.27397085714286,
          21.861468,
          16.14845257142857,
          14.99767857142857,
          13.543345595238096,
          14.503133,
          12.871797428571428,
          14.156301928571427,
          18.349531285714285,
          23.833155357142857,
          22.50236335714286,
          13.779725428571428,
          19.345515357142858,
          12.272323285714288,
          14.762176857142858,
          25.713882571428574,
          23.493916285714285,
          15.595937857142857,
          12.574666142857142,
          31.347200571428573,
          33.577003857142856,
          28.96301107142857,
          16.999310285714284,
          24.763769071428573,
          29.477858547619046,
          22.351855285714286,
          33.31519114285714,
          39.162586,
          35.12994114285714,
          44.01245290476191,
          54.32435007142857,
          49.984175,
          50.954299428571424,
          35.559501714285716,
          35.0518265,
          23.028792000000003,
          41.44461742857142,
          47.280803999999996,
          82.6536504047619,
          59.940339571428574,
          41.88048285714286,
          33.1892945,
          21.468372,
          21.734015357142855,
          23.554053214285716,
          20.84796057142857,
          21.609173714285713,
          25.048921428571425,
          10.936438857142857,
          12.174934214285715,
          9.224504571428572,
          13.720302571428572,
          9.329633714285714,
          25.175266285714287,
          34.39943342857143,
          20.277276285714287,
          27.240966285714286,
          21.559496285714285,
          12.196126571428573,
          16.200339142857143,
          19.730031142857143,
          13.977612904761903,
          18.804502000000003,
          12.106988333333334,
          17.139135785714284,
          26.250340214285718,
          12.956490857142857,
          13.039305285714287,
          18.42174,
          14.683345142857144,
          15.205028214285715,
          26.175919785714285,
          40.695985071428574,
          30.66609342857143,
          18.157623714285712,
          15.305075142857143,
          11.02317257142857,
          18.719968714285717,
          25.630515142857142,
          34.41402828571429,
          31.388102214285713,
          25.10966942857143,
          32.08502071428571,
          56.987131,
          65.949533,
          50.023255999999996,
          46.581320285714284,
          61.674296000000005,
          48.144208,
          50.12039047619048,
          35.59442083333334,
          39.145553428571425,
          14.148627714285713,
          33.291224285714286,
          28.077161999999998,
          50.82399542857143,
          22.022218285714285,
          25.63107857142857,
          21.73645392857143,
          21.86525685714286,
          11.280670357142856,
          15.179532499999999,
          14.628837214285713,
          16.626282571428572,
          10.586524571428571,
          11.66730242857143,
          9.850689714285712,
          10.843134857142857,
          16.728438285714287,
          13.043967714285714,
          15.533682785714287,
          11.197235642857143,
          13.333138857142858,
          21.344565499999998,
          14.986597928571427,
          17.71503004761905,
          13.032651142857143,
          13.688676642857143,
          12.197259714285712,
          19.202512857142857,
          25.382360714285713,
          12.732784642857142,
          17.33577238095238,
          17.618382500000003,
          13.91450942857143,
          48.864752571428575,
          31.331327714285717,
          35.00999628571429,
          37.96357999999999,
          34.3277315
         ],
         "yaxis": "y"
        }
       ],
       "layout": {
        "legend": {
         "tracegroupgap": 0
        },
        "template": {
         "data": {
          "bar": [
           {
            "error_x": {
             "color": "#2a3f5f"
            },
            "error_y": {
             "color": "#2a3f5f"
            },
            "marker": {
             "line": {
              "color": "#E5ECF6",
              "width": 0.5
             },
             "pattern": {
              "fillmode": "overlay",
              "size": 10,
              "solidity": 0.2
             }
            },
            "type": "bar"
           }
          ],
          "barpolar": [
           {
            "marker": {
             "line": {
              "color": "#E5ECF6",
              "width": 0.5
             },
             "pattern": {
              "fillmode": "overlay",
              "size": 10,
              "solidity": 0.2
             }
            },
            "type": "barpolar"
           }
          ],
          "carpet": [
           {
            "aaxis": {
             "endlinecolor": "#2a3f5f",
             "gridcolor": "white",
             "linecolor": "white",
             "minorgridcolor": "white",
             "startlinecolor": "#2a3f5f"
            },
            "baxis": {
             "endlinecolor": "#2a3f5f",
             "gridcolor": "white",
             "linecolor": "white",
             "minorgridcolor": "white",
             "startlinecolor": "#2a3f5f"
            },
            "type": "carpet"
           }
          ],
          "choropleth": [
           {
            "colorbar": {
             "outlinewidth": 0,
             "ticks": ""
            },
            "type": "choropleth"
           }
          ],
          "contour": [
           {
            "colorbar": {
             "outlinewidth": 0,
             "ticks": ""
            },
            "colorscale": [
             [
              0,
              "#0d0887"
             ],
             [
              0.1111111111111111,
              "#46039f"
             ],
             [
              0.2222222222222222,
              "#7201a8"
             ],
             [
              0.3333333333333333,
              "#9c179e"
             ],
             [
              0.4444444444444444,
              "#bd3786"
             ],
             [
              0.5555555555555556,
              "#d8576b"
             ],
             [
              0.6666666666666666,
              "#ed7953"
             ],
             [
              0.7777777777777778,
              "#fb9f3a"
             ],
             [
              0.8888888888888888,
              "#fdca26"
             ],
             [
              1,
              "#f0f921"
             ]
            ],
            "type": "contour"
           }
          ],
          "contourcarpet": [
           {
            "colorbar": {
             "outlinewidth": 0,
             "ticks": ""
            },
            "type": "contourcarpet"
           }
          ],
          "heatmap": [
           {
            "colorbar": {
             "outlinewidth": 0,
             "ticks": ""
            },
            "colorscale": [
             [
              0,
              "#0d0887"
             ],
             [
              0.1111111111111111,
              "#46039f"
             ],
             [
              0.2222222222222222,
              "#7201a8"
             ],
             [
              0.3333333333333333,
              "#9c179e"
             ],
             [
              0.4444444444444444,
              "#bd3786"
             ],
             [
              0.5555555555555556,
              "#d8576b"
             ],
             [
              0.6666666666666666,
              "#ed7953"
             ],
             [
              0.7777777777777778,
              "#fb9f3a"
             ],
             [
              0.8888888888888888,
              "#fdca26"
             ],
             [
              1,
              "#f0f921"
             ]
            ],
            "type": "heatmap"
           }
          ],
          "heatmapgl": [
           {
            "colorbar": {
             "outlinewidth": 0,
             "ticks": ""
            },
            "colorscale": [
             [
              0,
              "#0d0887"
             ],
             [
              0.1111111111111111,
              "#46039f"
             ],
             [
              0.2222222222222222,
              "#7201a8"
             ],
             [
              0.3333333333333333,
              "#9c179e"
             ],
             [
              0.4444444444444444,
              "#bd3786"
             ],
             [
              0.5555555555555556,
              "#d8576b"
             ],
             [
              0.6666666666666666,
              "#ed7953"
             ],
             [
              0.7777777777777778,
              "#fb9f3a"
             ],
             [
              0.8888888888888888,
              "#fdca26"
             ],
             [
              1,
              "#f0f921"
             ]
            ],
            "type": "heatmapgl"
           }
          ],
          "histogram": [
           {
            "marker": {
             "pattern": {
              "fillmode": "overlay",
              "size": 10,
              "solidity": 0.2
             }
            },
            "type": "histogram"
           }
          ],
          "histogram2d": [
           {
            "colorbar": {
             "outlinewidth": 0,
             "ticks": ""
            },
            "colorscale": [
             [
              0,
              "#0d0887"
             ],
             [
              0.1111111111111111,
              "#46039f"
             ],
             [
              0.2222222222222222,
              "#7201a8"
             ],
             [
              0.3333333333333333,
              "#9c179e"
             ],
             [
              0.4444444444444444,
              "#bd3786"
             ],
             [
              0.5555555555555556,
              "#d8576b"
             ],
             [
              0.6666666666666666,
              "#ed7953"
             ],
             [
              0.7777777777777778,
              "#fb9f3a"
             ],
             [
              0.8888888888888888,
              "#fdca26"
             ],
             [
              1,
              "#f0f921"
             ]
            ],
            "type": "histogram2d"
           }
          ],
          "histogram2dcontour": [
           {
            "colorbar": {
             "outlinewidth": 0,
             "ticks": ""
            },
            "colorscale": [
             [
              0,
              "#0d0887"
             ],
             [
              0.1111111111111111,
              "#46039f"
             ],
             [
              0.2222222222222222,
              "#7201a8"
             ],
             [
              0.3333333333333333,
              "#9c179e"
             ],
             [
              0.4444444444444444,
              "#bd3786"
             ],
             [
              0.5555555555555556,
              "#d8576b"
             ],
             [
              0.6666666666666666,
              "#ed7953"
             ],
             [
              0.7777777777777778,
              "#fb9f3a"
             ],
             [
              0.8888888888888888,
              "#fdca26"
             ],
             [
              1,
              "#f0f921"
             ]
            ],
            "type": "histogram2dcontour"
           }
          ],
          "mesh3d": [
           {
            "colorbar": {
             "outlinewidth": 0,
             "ticks": ""
            },
            "type": "mesh3d"
           }
          ],
          "parcoords": [
           {
            "line": {
             "colorbar": {
              "outlinewidth": 0,
              "ticks": ""
             }
            },
            "type": "parcoords"
           }
          ],
          "pie": [
           {
            "automargin": true,
            "type": "pie"
           }
          ],
          "scatter": [
           {
            "marker": {
             "colorbar": {
              "outlinewidth": 0,
              "ticks": ""
             }
            },
            "type": "scatter"
           }
          ],
          "scatter3d": [
           {
            "line": {
             "colorbar": {
              "outlinewidth": 0,
              "ticks": ""
             }
            },
            "marker": {
             "colorbar": {
              "outlinewidth": 0,
              "ticks": ""
             }
            },
            "type": "scatter3d"
           }
          ],
          "scattercarpet": [
           {
            "marker": {
             "colorbar": {
              "outlinewidth": 0,
              "ticks": ""
             }
            },
            "type": "scattercarpet"
           }
          ],
          "scattergeo": [
           {
            "marker": {
             "colorbar": {
              "outlinewidth": 0,
              "ticks": ""
             }
            },
            "type": "scattergeo"
           }
          ],
          "scattergl": [
           {
            "marker": {
             "colorbar": {
              "outlinewidth": 0,
              "ticks": ""
             }
            },
            "type": "scattergl"
           }
          ],
          "scattermapbox": [
           {
            "marker": {
             "colorbar": {
              "outlinewidth": 0,
              "ticks": ""
             }
            },
            "type": "scattermapbox"
           }
          ],
          "scatterpolar": [
           {
            "marker": {
             "colorbar": {
              "outlinewidth": 0,
              "ticks": ""
             }
            },
            "type": "scatterpolar"
           }
          ],
          "scatterpolargl": [
           {
            "marker": {
             "colorbar": {
              "outlinewidth": 0,
              "ticks": ""
             }
            },
            "type": "scatterpolargl"
           }
          ],
          "scatterternary": [
           {
            "marker": {
             "colorbar": {
              "outlinewidth": 0,
              "ticks": ""
             }
            },
            "type": "scatterternary"
           }
          ],
          "surface": [
           {
            "colorbar": {
             "outlinewidth": 0,
             "ticks": ""
            },
            "colorscale": [
             [
              0,
              "#0d0887"
             ],
             [
              0.1111111111111111,
              "#46039f"
             ],
             [
              0.2222222222222222,
              "#7201a8"
             ],
             [
              0.3333333333333333,
              "#9c179e"
             ],
             [
              0.4444444444444444,
              "#bd3786"
             ],
             [
              0.5555555555555556,
              "#d8576b"
             ],
             [
              0.6666666666666666,
              "#ed7953"
             ],
             [
              0.7777777777777778,
              "#fb9f3a"
             ],
             [
              0.8888888888888888,
              "#fdca26"
             ],
             [
              1,
              "#f0f921"
             ]
            ],
            "type": "surface"
           }
          ],
          "table": [
           {
            "cells": {
             "fill": {
              "color": "#EBF0F8"
             },
             "line": {
              "color": "white"
             }
            },
            "header": {
             "fill": {
              "color": "#C8D4E3"
             },
             "line": {
              "color": "white"
             }
            },
            "type": "table"
           }
          ]
         },
         "layout": {
          "annotationdefaults": {
           "arrowcolor": "#2a3f5f",
           "arrowhead": 0,
           "arrowwidth": 1
          },
          "autotypenumbers": "strict",
          "coloraxis": {
           "colorbar": {
            "outlinewidth": 0,
            "ticks": ""
           }
          },
          "colorscale": {
           "diverging": [
            [
             0,
             "#8e0152"
            ],
            [
             0.1,
             "#c51b7d"
            ],
            [
             0.2,
             "#de77ae"
            ],
            [
             0.3,
             "#f1b6da"
            ],
            [
             0.4,
             "#fde0ef"
            ],
            [
             0.5,
             "#f7f7f7"
            ],
            [
             0.6,
             "#e6f5d0"
            ],
            [
             0.7,
             "#b8e186"
            ],
            [
             0.8,
             "#7fbc41"
            ],
            [
             0.9,
             "#4d9221"
            ],
            [
             1,
             "#276419"
            ]
           ],
           "sequential": [
            [
             0,
             "#0d0887"
            ],
            [
             0.1111111111111111,
             "#46039f"
            ],
            [
             0.2222222222222222,
             "#7201a8"
            ],
            [
             0.3333333333333333,
             "#9c179e"
            ],
            [
             0.4444444444444444,
             "#bd3786"
            ],
            [
             0.5555555555555556,
             "#d8576b"
            ],
            [
             0.6666666666666666,
             "#ed7953"
            ],
            [
             0.7777777777777778,
             "#fb9f3a"
            ],
            [
             0.8888888888888888,
             "#fdca26"
            ],
            [
             1,
             "#f0f921"
            ]
           ],
           "sequentialminus": [
            [
             0,
             "#0d0887"
            ],
            [
             0.1111111111111111,
             "#46039f"
            ],
            [
             0.2222222222222222,
             "#7201a8"
            ],
            [
             0.3333333333333333,
             "#9c179e"
            ],
            [
             0.4444444444444444,
             "#bd3786"
            ],
            [
             0.5555555555555556,
             "#d8576b"
            ],
            [
             0.6666666666666666,
             "#ed7953"
            ],
            [
             0.7777777777777778,
             "#fb9f3a"
            ],
            [
             0.8888888888888888,
             "#fdca26"
            ],
            [
             1,
             "#f0f921"
            ]
           ]
          },
          "colorway": [
           "#636efa",
           "#EF553B",
           "#00cc96",
           "#ab63fa",
           "#FFA15A",
           "#19d3f3",
           "#FF6692",
           "#B6E880",
           "#FF97FF",
           "#FECB52"
          ],
          "font": {
           "color": "#2a3f5f"
          },
          "geo": {
           "bgcolor": "white",
           "lakecolor": "white",
           "landcolor": "#E5ECF6",
           "showlakes": true,
           "showland": true,
           "subunitcolor": "white"
          },
          "hoverlabel": {
           "align": "left"
          },
          "hovermode": "closest",
          "mapbox": {
           "style": "light"
          },
          "paper_bgcolor": "white",
          "plot_bgcolor": "#E5ECF6",
          "polar": {
           "angularaxis": {
            "gridcolor": "white",
            "linecolor": "white",
            "ticks": ""
           },
           "bgcolor": "#E5ECF6",
           "radialaxis": {
            "gridcolor": "white",
            "linecolor": "white",
            "ticks": ""
           }
          },
          "scene": {
           "xaxis": {
            "backgroundcolor": "#E5ECF6",
            "gridcolor": "white",
            "gridwidth": 2,
            "linecolor": "white",
            "showbackground": true,
            "ticks": "",
            "zerolinecolor": "white"
           },
           "yaxis": {
            "backgroundcolor": "#E5ECF6",
            "gridcolor": "white",
            "gridwidth": 2,
            "linecolor": "white",
            "showbackground": true,
            "ticks": "",
            "zerolinecolor": "white"
           },
           "zaxis": {
            "backgroundcolor": "#E5ECF6",
            "gridcolor": "white",
            "gridwidth": 2,
            "linecolor": "white",
            "showbackground": true,
            "ticks": "",
            "zerolinecolor": "white"
           }
          },
          "shapedefaults": {
           "line": {
            "color": "#2a3f5f"
           }
          },
          "ternary": {
           "aaxis": {
            "gridcolor": "white",
            "linecolor": "white",
            "ticks": ""
           },
           "baxis": {
            "gridcolor": "white",
            "linecolor": "white",
            "ticks": ""
           },
           "bgcolor": "#E5ECF6",
           "caxis": {
            "gridcolor": "white",
            "linecolor": "white",
            "ticks": ""
           }
          },
          "title": {
           "x": 0.05
          },
          "xaxis": {
           "automargin": true,
           "gridcolor": "white",
           "linecolor": "white",
           "ticks": "",
           "title": {
            "standoff": 15
           },
           "zerolinecolor": "white",
           "zerolinewidth": 2
          },
          "yaxis": {
           "automargin": true,
           "gridcolor": "white",
           "linecolor": "white",
           "ticks": "",
           "title": {
            "standoff": 15
           },
           "zerolinecolor": "white",
           "zerolinewidth": 2
          }
         }
        },
        "title": {
         "text": "Provincia: Pordenone"
        },
        "xaxis": {
         "anchor": "y",
         "domain": [
          0,
          1
         ],
         "title": {
          "text": "time_idx"
         }
        },
        "yaxis": {
         "anchor": "x",
         "domain": [
          0,
          1
         ],
         "title": {
          "text": "pm10_giornaliera"
         }
        }
       }
      }
     },
     "metadata": {},
     "output_type": "display_data"
    },
    {
     "data": {
      "application/vnd.plotly.v1+json": {
       "config": {
        "plotlyServerURL": "https://plot.ly"
       },
       "data": [
        {
         "hovertemplate": "time_idx=%{x}<br>pm10_giornaliera=%{y}<extra></extra>",
         "legendgroup": "",
         "line": {
          "color": "#636efa",
          "dash": "solid"
         },
         "marker": {
          "symbol": "circle"
         },
         "mode": "lines",
         "name": "",
         "orientation": "v",
         "showlegend": false,
         "type": "scatter",
         "x": [
          0,
          1,
          2,
          3,
          4,
          5,
          6,
          7,
          8,
          9,
          10,
          11,
          12,
          13,
          14,
          15,
          16,
          17,
          18,
          19,
          20,
          21,
          22,
          23,
          24,
          25,
          26,
          27,
          28,
          29,
          30,
          31,
          32,
          33,
          34,
          35,
          36,
          37,
          38,
          39,
          40,
          41,
          42,
          43,
          44,
          45,
          46,
          47,
          48,
          49,
          50,
          51,
          52,
          53,
          54,
          55,
          56,
          57,
          58,
          59,
          60,
          61,
          62,
          63,
          64,
          65,
          66,
          67,
          68,
          69,
          70,
          71,
          72,
          73,
          74,
          75,
          76,
          77,
          78,
          79,
          80,
          81,
          82,
          83,
          84,
          85,
          86,
          87,
          88,
          89,
          90,
          91,
          92,
          93,
          94,
          95,
          96,
          97,
          98,
          99,
          100,
          101,
          102,
          103,
          104,
          105,
          106,
          107,
          108,
          109,
          110,
          111,
          112,
          113,
          114,
          115,
          116,
          117,
          118,
          119,
          120,
          121,
          122,
          123,
          124,
          125,
          126,
          127,
          128,
          129,
          130,
          131,
          132,
          133,
          134,
          135,
          136,
          137,
          138,
          139,
          140,
          141,
          142,
          143,
          144,
          145,
          146,
          147,
          148,
          149,
          150,
          151,
          152,
          153,
          154,
          155,
          156,
          157,
          158,
          159,
          160,
          161,
          162,
          163,
          164,
          165,
          166,
          167,
          168,
          169,
          170,
          171,
          172,
          173,
          174,
          175,
          176,
          177,
          178,
          179,
          180,
          181,
          182,
          183,
          184,
          185,
          186,
          187,
          188,
          189,
          190,
          191,
          192,
          193,
          194,
          195,
          196,
          197,
          198,
          199,
          200,
          201,
          202,
          203,
          204,
          205,
          206,
          207,
          208,
          209,
          210,
          211,
          212,
          213,
          214,
          215,
          216,
          217,
          218,
          219,
          220,
          221,
          222,
          223,
          224,
          225,
          226,
          227,
          228,
          229,
          230,
          231,
          232,
          233,
          234,
          235,
          236,
          237,
          238,
          239,
          240,
          241,
          242,
          243,
          244,
          245,
          246,
          247,
          248,
          249,
          250,
          251,
          252,
          253,
          254,
          255,
          256,
          257,
          258,
          259,
          260,
          261,
          262,
          263,
          264,
          265,
          266,
          267,
          268,
          269,
          270,
          271,
          272,
          273,
          274,
          275,
          276,
          277,
          278,
          279,
          280,
          281,
          282,
          283,
          284,
          285,
          286,
          287,
          288,
          289,
          290,
          291,
          292,
          293,
          294,
          295,
          296,
          297,
          298,
          299,
          300,
          301,
          302,
          303,
          304,
          305,
          306,
          307,
          308,
          309,
          310,
          311,
          312,
          313,
          314,
          315,
          316,
          317,
          318,
          319,
          320,
          321,
          322,
          323,
          324,
          325,
          326,
          327,
          328,
          329,
          330,
          331,
          332,
          333,
          334,
          335,
          336,
          337,
          338,
          339,
          340,
          341,
          342,
          343,
          344,
          345,
          346,
          347,
          348,
          349,
          350,
          351,
          352,
          353,
          354,
          355,
          356,
          357,
          358
         ],
         "xaxis": "x",
         "y": [
          20.310690625,
          58.22371428571429,
          32.90814976190476,
          17.141516666666668,
          17.83608738095238,
          18.417361333333332,
          16.984608095238094,
          23.938982142857146,
          18.59887080952381,
          22.626585523809524,
          40.49975785714286,
          40.58296104761905,
          17.503190714285715,
          36.09635819047619,
          16.351266190476192,
          11.711953571428571,
          14.845209523809524,
          16.349246904761905,
          16.42476723809524,
          8.067846857142857,
          21.15940942857143,
          13.54156776190476,
          21.16240995238095,
          19.916744857142856,
          16.611769095238095,
          17.55875957142857,
          15.213638285714286,
          13.894543285714287,
          16.38724357142857,
          13.899224333333333,
          11.43827019047619,
          13.071316999999999,
          12.575150285714287,
          10.873188809523809,
          11.842745952380952,
          14.30059238095238,
          14.83711657142857,
          20.279756023809522,
          18.04422357142857,
          20.518333809523806,
          25.095426190476193,
          23.145602285714286,
          16.573679428571428,
          19.92513119047619,
          24.58348357142857,
          21.212280095238096,
          20.469860285714283,
          29.44874661904762,
          9.161624333333334,
          26.640598333333333,
          32.86380785714286,
          41.42484466666667,
          29.970075416666667,
          45.88523214285715,
          33.58009104761905,
          15.097140476190477,
          10.435440857142856,
          12.7048095,
          28.99480285714286,
          35.769326428571425,
          14.902119523809523,
          14.04321523809524,
          24.462458095238098,
          34.999604738095236,
          28.42356604761905,
          16.365360428571428,
          20.317834285714287,
          19.53550095238095,
          28.593824,
          18.475727142857142,
          21.895349619047618,
          16.38930033333333,
          17.53924119047619,
          15.223945,
          26.280640714285713,
          29.597823333333334,
          14.218013333333333,
          12.761775095238095,
          25.73412533333333,
          26.218029285714287,
          27.038733095238094,
          26.27502619047619,
          15.774799761904761,
          31.319581238095235,
          35.14500523809524,
          15.950824547619048,
          27.85829095238095,
          19.148443714285715,
          13.93814119047619,
          31.33140966666667,
          11.183465428571427,
          14.114230857142857,
          13.032283333333334,
          12.752253904761904,
          13.065584761904761,
          22.09536261904762,
          45.11141921428571,
          51.262731952380946,
          37.10714671428571,
          15.124054714285714,
          47.13308630952381,
          33.9350194047619,
          40.21128852380952,
          63.38156923809523,
          28.465339272727274,
          18.868913428571428,
          27.064662,
          94.27005742857143,
          39.63903273809524,
          20.873274047619045,
          16.864640285714284,
          17.875143952380956,
          13.355425952380953,
          12.572110142857143,
          27.54846719047619,
          18.956392952380952,
          24.882664353741497,
          24.679889115646258,
          18.860097040816328,
          15.829930204081633,
          11.76679857142857,
          12.219685544217686,
          14.380084217687074,
          11.219576088435375,
          15.74638217687075,
          13.31450019897959,
          15.802367210884354,
          15.617845926870746,
          23.23790071428571,
          16.00946336734694,
          14.844536428571429,
          18.282489761904763,
          20.866369591836733,
          16.72668642857143,
          13.173790408163265,
          12.841486734693877,
          14.390594081632653,
          16.264480510204084,
          19.432895877551022,
          20.155324070294785,
          27.46952863945578,
          12.778071746031745,
          21.184346394557824,
          8.967288262471655,
          16.186013843537417,
          12.250822063492064,
          18.144962281746032,
          21.722647876984126,
          11.550314909297052,
          27.728133052721088,
          24.838936635487528,
          19.843920790816327,
          35.388485918367344,
          25.755406760204078,
          19.714424285714284,
          17.17317357142857,
          22.48765033333333,
          24.74228712585034,
          16.387129214285714,
          29.429577523809524,
          43.45628452380952,
          17.323410170068026,
          38.99827697278912,
          45.79658765306122,
          20.72783612244898,
          13.136552857142858,
          46.616544653061226,
          33.87840919047619,
          25.702387755102045,
          20.29461568027211,
          16.822040068027214,
          10.967498163265306,
          18.473448673469388,
          13.159772142857141,
          17.455142591836736,
          14.16349044217687,
          17.31982057823129,
          21.07242614965986,
          14.904729666666666,
          18.839254285714283,
          25.4858724744898,
          17.004527857142858,
          18.77744010884354,
          14.03621731292517,
          24.34451586734694,
          14.83523275510204,
          30.14660716836735,
          19.332937168367348,
          15.51303086734694,
          19.976289285714284,
          13.69389612244898,
          11.109114668367349,
          11.695644489795919,
          12.464732380952382,
          18.52219954931973,
          22.21113375,
          28.045112525510202,
          42.63337644557823,
          17.31467205272109,
          15.047393979591837,
          14.989486122448978,
          9.297087020408162,
          33.19669793367347,
          8.92137943877551,
          28.992480034013607,
          12.36523738095238,
          19.702323095238093,
          22.92618494642857,
          22.868204583333334,
          13.734754081632653,
          20.329386122448977,
          28.806380680272106,
          24.220307013605442,
          16.18116367346939,
          19.586105306122448,
          13.56357037414966,
          28.276339693877553,
          23.457371020408164,
          13.54817411564626,
          17.38887425170068,
          23.721711598639455,
          16.824990190476193,
          19.837483142857142,
          25.53935136054422,
          27.558080714285715,
          23.311473503401363,
          18.685558537414966,
          10.915533027210884,
          18.448918129251698,
          29.163419013605445,
          21.164898095238097,
          15.237975884353741,
          13.552309353741496,
          11.949899387755101,
          18.077760612244898,
          15.622560442176871,
          18.596753605442178,
          19.79083799319728,
          20.920898571428573,
          23.454774585034013,
          15.558297176870749,
          21.25322236734694,
          12.499617020408163,
          16.65798260544218,
          23.46882265306122,
          22.96444819727891,
          11.130910204081632,
          12.91174731292517,
          30.89562261904762,
          31.10317192857143,
          18.5598925170068,
          18.42207693877551,
          19.6067006122449,
          17.697308945578232,
          10.106023707482994,
          15.432458013605443,
          25.28062994557823,
          14.68847057142857,
          23.750535809523807,
          28.63888742857143,
          14.888720714285714,
          17.714626,
          18.556566047619047,
          19.76024764285714,
          9.392243666666667,
          16.33589119047619,
          29.224536357142856,
          58.2543555170068,
          38.11809836734694,
          32.15547870748299,
          16.43907306122449,
          14.71890401360544,
          16.529670340136054,
          19.406168367346936,
          16.643585918367346,
          21.488627210884353,
          32.82944578231292,
          10.599304761904762,
          10.710688979591836,
          7.533569387755102,
          14.453085850340136,
          11.742112959183673,
          22.07179857142857,
          33.347027414965986,
          19.133886190476193,
          20.256761632653063,
          20.38309029931973,
          11.797605727891156,
          16.485236972789117,
          21.527615027210885,
          17.061898523809525,
          20.92251980952381,
          12.372043210884355,
          17.137529455782314,
          27.49460607142857,
          11.495906520408164,
          12.086993673469388,
          13.673337346938776,
          13.134475102040815,
          11.859395176870748,
          17.150833523809524,
          25.451675231292516,
          27.61712036734694,
          14.768317789115645,
          10.37452156462585,
          10.459034741496598,
          11.381994421768708,
          15.204197142857142,
          18.958714285714283,
          13.474603265306124,
          19.593654217687078,
          11.325951700680273,
          24.120486285714286,
          21.264144489795918,
          30.257807755102043,
          23.402424285714286,
          49.03236404761905,
          28.74464955102041,
          26.309529591836736,
          11.663621020408161,
          12.299732857142857,
          9.427855986394558,
          18.50703693877551,
          20.21723237414966,
          60.6786824829932,
          16.37708,
          22.369015782312925,
          16.162446394557822,
          16.997148163265305,
          9.700361551020409,
          10.633339761904763,
          16.55494386734694,
          12.7417771292517,
          7.934199591836735,
          11.189185918367347,
          8.446223707482993,
          9.841179591836735,
          13.28874055782313,
          10.838407952380951,
          11.351909166666667,
          8.749039166666666,
          11.817462,
          19.698189714285714,
          14.673750071428572,
          17.185188571428572,
          12.091210214285715,
          13.666955071428571,
          9.212591857142856,
          16.661690142857143,
          17.486159965986396,
          10.560221857142858,
          13.649443142857143,
          12.858505034013605,
          6.7676411632653055,
          18.82375268707483,
          18.627227585034014,
          20.83309265306122,
          19.332998843537414,
          10.994018333333335
         ],
         "yaxis": "y"
        }
       ],
       "layout": {
        "legend": {
         "tracegroupgap": 0
        },
        "template": {
         "data": {
          "bar": [
           {
            "error_x": {
             "color": "#2a3f5f"
            },
            "error_y": {
             "color": "#2a3f5f"
            },
            "marker": {
             "line": {
              "color": "#E5ECF6",
              "width": 0.5
             },
             "pattern": {
              "fillmode": "overlay",
              "size": 10,
              "solidity": 0.2
             }
            },
            "type": "bar"
           }
          ],
          "barpolar": [
           {
            "marker": {
             "line": {
              "color": "#E5ECF6",
              "width": 0.5
             },
             "pattern": {
              "fillmode": "overlay",
              "size": 10,
              "solidity": 0.2
             }
            },
            "type": "barpolar"
           }
          ],
          "carpet": [
           {
            "aaxis": {
             "endlinecolor": "#2a3f5f",
             "gridcolor": "white",
             "linecolor": "white",
             "minorgridcolor": "white",
             "startlinecolor": "#2a3f5f"
            },
            "baxis": {
             "endlinecolor": "#2a3f5f",
             "gridcolor": "white",
             "linecolor": "white",
             "minorgridcolor": "white",
             "startlinecolor": "#2a3f5f"
            },
            "type": "carpet"
           }
          ],
          "choropleth": [
           {
            "colorbar": {
             "outlinewidth": 0,
             "ticks": ""
            },
            "type": "choropleth"
           }
          ],
          "contour": [
           {
            "colorbar": {
             "outlinewidth": 0,
             "ticks": ""
            },
            "colorscale": [
             [
              0,
              "#0d0887"
             ],
             [
              0.1111111111111111,
              "#46039f"
             ],
             [
              0.2222222222222222,
              "#7201a8"
             ],
             [
              0.3333333333333333,
              "#9c179e"
             ],
             [
              0.4444444444444444,
              "#bd3786"
             ],
             [
              0.5555555555555556,
              "#d8576b"
             ],
             [
              0.6666666666666666,
              "#ed7953"
             ],
             [
              0.7777777777777778,
              "#fb9f3a"
             ],
             [
              0.8888888888888888,
              "#fdca26"
             ],
             [
              1,
              "#f0f921"
             ]
            ],
            "type": "contour"
           }
          ],
          "contourcarpet": [
           {
            "colorbar": {
             "outlinewidth": 0,
             "ticks": ""
            },
            "type": "contourcarpet"
           }
          ],
          "heatmap": [
           {
            "colorbar": {
             "outlinewidth": 0,
             "ticks": ""
            },
            "colorscale": [
             [
              0,
              "#0d0887"
             ],
             [
              0.1111111111111111,
              "#46039f"
             ],
             [
              0.2222222222222222,
              "#7201a8"
             ],
             [
              0.3333333333333333,
              "#9c179e"
             ],
             [
              0.4444444444444444,
              "#bd3786"
             ],
             [
              0.5555555555555556,
              "#d8576b"
             ],
             [
              0.6666666666666666,
              "#ed7953"
             ],
             [
              0.7777777777777778,
              "#fb9f3a"
             ],
             [
              0.8888888888888888,
              "#fdca26"
             ],
             [
              1,
              "#f0f921"
             ]
            ],
            "type": "heatmap"
           }
          ],
          "heatmapgl": [
           {
            "colorbar": {
             "outlinewidth": 0,
             "ticks": ""
            },
            "colorscale": [
             [
              0,
              "#0d0887"
             ],
             [
              0.1111111111111111,
              "#46039f"
             ],
             [
              0.2222222222222222,
              "#7201a8"
             ],
             [
              0.3333333333333333,
              "#9c179e"
             ],
             [
              0.4444444444444444,
              "#bd3786"
             ],
             [
              0.5555555555555556,
              "#d8576b"
             ],
             [
              0.6666666666666666,
              "#ed7953"
             ],
             [
              0.7777777777777778,
              "#fb9f3a"
             ],
             [
              0.8888888888888888,
              "#fdca26"
             ],
             [
              1,
              "#f0f921"
             ]
            ],
            "type": "heatmapgl"
           }
          ],
          "histogram": [
           {
            "marker": {
             "pattern": {
              "fillmode": "overlay",
              "size": 10,
              "solidity": 0.2
             }
            },
            "type": "histogram"
           }
          ],
          "histogram2d": [
           {
            "colorbar": {
             "outlinewidth": 0,
             "ticks": ""
            },
            "colorscale": [
             [
              0,
              "#0d0887"
             ],
             [
              0.1111111111111111,
              "#46039f"
             ],
             [
              0.2222222222222222,
              "#7201a8"
             ],
             [
              0.3333333333333333,
              "#9c179e"
             ],
             [
              0.4444444444444444,
              "#bd3786"
             ],
             [
              0.5555555555555556,
              "#d8576b"
             ],
             [
              0.6666666666666666,
              "#ed7953"
             ],
             [
              0.7777777777777778,
              "#fb9f3a"
             ],
             [
              0.8888888888888888,
              "#fdca26"
             ],
             [
              1,
              "#f0f921"
             ]
            ],
            "type": "histogram2d"
           }
          ],
          "histogram2dcontour": [
           {
            "colorbar": {
             "outlinewidth": 0,
             "ticks": ""
            },
            "colorscale": [
             [
              0,
              "#0d0887"
             ],
             [
              0.1111111111111111,
              "#46039f"
             ],
             [
              0.2222222222222222,
              "#7201a8"
             ],
             [
              0.3333333333333333,
              "#9c179e"
             ],
             [
              0.4444444444444444,
              "#bd3786"
             ],
             [
              0.5555555555555556,
              "#d8576b"
             ],
             [
              0.6666666666666666,
              "#ed7953"
             ],
             [
              0.7777777777777778,
              "#fb9f3a"
             ],
             [
              0.8888888888888888,
              "#fdca26"
             ],
             [
              1,
              "#f0f921"
             ]
            ],
            "type": "histogram2dcontour"
           }
          ],
          "mesh3d": [
           {
            "colorbar": {
             "outlinewidth": 0,
             "ticks": ""
            },
            "type": "mesh3d"
           }
          ],
          "parcoords": [
           {
            "line": {
             "colorbar": {
              "outlinewidth": 0,
              "ticks": ""
             }
            },
            "type": "parcoords"
           }
          ],
          "pie": [
           {
            "automargin": true,
            "type": "pie"
           }
          ],
          "scatter": [
           {
            "marker": {
             "colorbar": {
              "outlinewidth": 0,
              "ticks": ""
             }
            },
            "type": "scatter"
           }
          ],
          "scatter3d": [
           {
            "line": {
             "colorbar": {
              "outlinewidth": 0,
              "ticks": ""
             }
            },
            "marker": {
             "colorbar": {
              "outlinewidth": 0,
              "ticks": ""
             }
            },
            "type": "scatter3d"
           }
          ],
          "scattercarpet": [
           {
            "marker": {
             "colorbar": {
              "outlinewidth": 0,
              "ticks": ""
             }
            },
            "type": "scattercarpet"
           }
          ],
          "scattergeo": [
           {
            "marker": {
             "colorbar": {
              "outlinewidth": 0,
              "ticks": ""
             }
            },
            "type": "scattergeo"
           }
          ],
          "scattergl": [
           {
            "marker": {
             "colorbar": {
              "outlinewidth": 0,
              "ticks": ""
             }
            },
            "type": "scattergl"
           }
          ],
          "scattermapbox": [
           {
            "marker": {
             "colorbar": {
              "outlinewidth": 0,
              "ticks": ""
             }
            },
            "type": "scattermapbox"
           }
          ],
          "scatterpolar": [
           {
            "marker": {
             "colorbar": {
              "outlinewidth": 0,
              "ticks": ""
             }
            },
            "type": "scatterpolar"
           }
          ],
          "scatterpolargl": [
           {
            "marker": {
             "colorbar": {
              "outlinewidth": 0,
              "ticks": ""
             }
            },
            "type": "scatterpolargl"
           }
          ],
          "scatterternary": [
           {
            "marker": {
             "colorbar": {
              "outlinewidth": 0,
              "ticks": ""
             }
            },
            "type": "scatterternary"
           }
          ],
          "surface": [
           {
            "colorbar": {
             "outlinewidth": 0,
             "ticks": ""
            },
            "colorscale": [
             [
              0,
              "#0d0887"
             ],
             [
              0.1111111111111111,
              "#46039f"
             ],
             [
              0.2222222222222222,
              "#7201a8"
             ],
             [
              0.3333333333333333,
              "#9c179e"
             ],
             [
              0.4444444444444444,
              "#bd3786"
             ],
             [
              0.5555555555555556,
              "#d8576b"
             ],
             [
              0.6666666666666666,
              "#ed7953"
             ],
             [
              0.7777777777777778,
              "#fb9f3a"
             ],
             [
              0.8888888888888888,
              "#fdca26"
             ],
             [
              1,
              "#f0f921"
             ]
            ],
            "type": "surface"
           }
          ],
          "table": [
           {
            "cells": {
             "fill": {
              "color": "#EBF0F8"
             },
             "line": {
              "color": "white"
             }
            },
            "header": {
             "fill": {
              "color": "#C8D4E3"
             },
             "line": {
              "color": "white"
             }
            },
            "type": "table"
           }
          ]
         },
         "layout": {
          "annotationdefaults": {
           "arrowcolor": "#2a3f5f",
           "arrowhead": 0,
           "arrowwidth": 1
          },
          "autotypenumbers": "strict",
          "coloraxis": {
           "colorbar": {
            "outlinewidth": 0,
            "ticks": ""
           }
          },
          "colorscale": {
           "diverging": [
            [
             0,
             "#8e0152"
            ],
            [
             0.1,
             "#c51b7d"
            ],
            [
             0.2,
             "#de77ae"
            ],
            [
             0.3,
             "#f1b6da"
            ],
            [
             0.4,
             "#fde0ef"
            ],
            [
             0.5,
             "#f7f7f7"
            ],
            [
             0.6,
             "#e6f5d0"
            ],
            [
             0.7,
             "#b8e186"
            ],
            [
             0.8,
             "#7fbc41"
            ],
            [
             0.9,
             "#4d9221"
            ],
            [
             1,
             "#276419"
            ]
           ],
           "sequential": [
            [
             0,
             "#0d0887"
            ],
            [
             0.1111111111111111,
             "#46039f"
            ],
            [
             0.2222222222222222,
             "#7201a8"
            ],
            [
             0.3333333333333333,
             "#9c179e"
            ],
            [
             0.4444444444444444,
             "#bd3786"
            ],
            [
             0.5555555555555556,
             "#d8576b"
            ],
            [
             0.6666666666666666,
             "#ed7953"
            ],
            [
             0.7777777777777778,
             "#fb9f3a"
            ],
            [
             0.8888888888888888,
             "#fdca26"
            ],
            [
             1,
             "#f0f921"
            ]
           ],
           "sequentialminus": [
            [
             0,
             "#0d0887"
            ],
            [
             0.1111111111111111,
             "#46039f"
            ],
            [
             0.2222222222222222,
             "#7201a8"
            ],
            [
             0.3333333333333333,
             "#9c179e"
            ],
            [
             0.4444444444444444,
             "#bd3786"
            ],
            [
             0.5555555555555556,
             "#d8576b"
            ],
            [
             0.6666666666666666,
             "#ed7953"
            ],
            [
             0.7777777777777778,
             "#fb9f3a"
            ],
            [
             0.8888888888888888,
             "#fdca26"
            ],
            [
             1,
             "#f0f921"
            ]
           ]
          },
          "colorway": [
           "#636efa",
           "#EF553B",
           "#00cc96",
           "#ab63fa",
           "#FFA15A",
           "#19d3f3",
           "#FF6692",
           "#B6E880",
           "#FF97FF",
           "#FECB52"
          ],
          "font": {
           "color": "#2a3f5f"
          },
          "geo": {
           "bgcolor": "white",
           "lakecolor": "white",
           "landcolor": "#E5ECF6",
           "showlakes": true,
           "showland": true,
           "subunitcolor": "white"
          },
          "hoverlabel": {
           "align": "left"
          },
          "hovermode": "closest",
          "mapbox": {
           "style": "light"
          },
          "paper_bgcolor": "white",
          "plot_bgcolor": "#E5ECF6",
          "polar": {
           "angularaxis": {
            "gridcolor": "white",
            "linecolor": "white",
            "ticks": ""
           },
           "bgcolor": "#E5ECF6",
           "radialaxis": {
            "gridcolor": "white",
            "linecolor": "white",
            "ticks": ""
           }
          },
          "scene": {
           "xaxis": {
            "backgroundcolor": "#E5ECF6",
            "gridcolor": "white",
            "gridwidth": 2,
            "linecolor": "white",
            "showbackground": true,
            "ticks": "",
            "zerolinecolor": "white"
           },
           "yaxis": {
            "backgroundcolor": "#E5ECF6",
            "gridcolor": "white",
            "gridwidth": 2,
            "linecolor": "white",
            "showbackground": true,
            "ticks": "",
            "zerolinecolor": "white"
           },
           "zaxis": {
            "backgroundcolor": "#E5ECF6",
            "gridcolor": "white",
            "gridwidth": 2,
            "linecolor": "white",
            "showbackground": true,
            "ticks": "",
            "zerolinecolor": "white"
           }
          },
          "shapedefaults": {
           "line": {
            "color": "#2a3f5f"
           }
          },
          "ternary": {
           "aaxis": {
            "gridcolor": "white",
            "linecolor": "white",
            "ticks": ""
           },
           "baxis": {
            "gridcolor": "white",
            "linecolor": "white",
            "ticks": ""
           },
           "bgcolor": "#E5ECF6",
           "caxis": {
            "gridcolor": "white",
            "linecolor": "white",
            "ticks": ""
           }
          },
          "title": {
           "x": 0.05
          },
          "xaxis": {
           "automargin": true,
           "gridcolor": "white",
           "linecolor": "white",
           "ticks": "",
           "title": {
            "standoff": 15
           },
           "zerolinecolor": "white",
           "zerolinewidth": 2
          },
          "yaxis": {
           "automargin": true,
           "gridcolor": "white",
           "linecolor": "white",
           "ticks": "",
           "title": {
            "standoff": 15
           },
           "zerolinecolor": "white",
           "zerolinewidth": 2
          }
         }
        },
        "title": {
         "text": "Provincia: Trieste"
        },
        "xaxis": {
         "anchor": "y",
         "domain": [
          0,
          1
         ],
         "title": {
          "text": "time_idx"
         }
        },
        "yaxis": {
         "anchor": "x",
         "domain": [
          0,
          1
         ],
         "title": {
          "text": "pm10_giornaliera"
         }
        }
       }
      }
     },
     "metadata": {},
     "output_type": "display_data"
    },
    {
     "data": {
      "application/vnd.plotly.v1+json": {
       "config": {
        "plotlyServerURL": "https://plot.ly"
       },
       "data": [
        {
         "hovertemplate": "time_idx=%{x}<br>pm10_giornaliera=%{y}<extra></extra>",
         "legendgroup": "",
         "line": {
          "color": "#636efa",
          "dash": "solid"
         },
         "marker": {
          "symbol": "circle"
         },
         "mode": "lines",
         "name": "",
         "orientation": "v",
         "showlegend": false,
         "type": "scatter",
         "x": [
          0,
          1,
          2,
          3,
          4,
          5,
          6,
          7,
          8,
          9,
          10,
          11,
          12,
          13,
          14,
          15,
          16,
          17,
          18,
          19,
          20,
          21,
          22,
          23,
          24,
          25,
          26,
          27,
          28,
          29,
          30,
          31,
          32,
          33,
          34,
          35,
          36,
          37,
          38,
          39,
          40,
          41,
          42,
          43,
          44,
          45,
          46,
          47,
          48,
          49,
          50,
          51,
          52,
          53,
          54,
          55,
          56,
          57,
          58,
          59,
          60,
          61,
          62,
          63,
          64,
          65,
          66,
          67,
          68,
          69,
          70,
          71,
          72,
          73,
          74,
          75,
          76,
          77,
          78,
          79,
          80,
          81,
          82,
          83,
          84,
          85,
          86,
          87,
          88,
          89,
          90,
          91,
          92,
          93,
          94,
          95,
          96,
          97,
          98,
          99,
          100,
          101,
          102,
          103,
          104,
          105,
          106,
          107,
          108,
          109,
          110,
          111,
          112,
          113,
          114,
          115,
          116,
          117,
          118,
          119,
          120,
          121,
          122,
          123,
          124,
          125,
          126,
          127,
          128,
          129,
          130,
          131,
          132,
          133,
          134,
          135,
          136,
          137,
          138,
          139,
          140,
          141,
          142,
          143,
          144,
          145,
          146,
          147,
          148,
          149,
          150,
          151,
          152,
          153,
          154,
          155,
          156,
          157,
          158,
          159,
          160,
          161,
          162,
          163,
          164,
          165,
          166,
          167,
          168,
          169,
          170,
          171,
          172,
          173,
          174,
          175,
          176,
          177,
          178,
          179,
          180,
          181,
          182,
          183,
          184,
          185,
          186,
          187,
          188,
          189,
          190,
          191,
          192,
          193,
          194,
          195,
          196,
          197,
          198,
          199,
          200,
          201,
          202,
          203,
          204,
          205,
          206,
          207,
          208,
          209,
          210,
          211,
          212,
          213,
          214,
          215,
          216,
          217,
          218,
          219,
          220,
          221,
          222,
          223,
          224,
          225,
          226,
          227,
          228,
          229,
          230,
          231,
          232,
          233,
          234,
          235,
          236,
          237,
          238,
          239,
          240,
          241,
          242,
          243,
          244,
          245,
          246,
          247,
          248,
          249,
          250,
          251,
          252,
          253,
          254,
          255,
          256,
          257,
          258,
          259,
          260,
          261,
          262,
          263,
          264,
          265,
          266,
          267,
          268,
          269,
          270,
          271,
          272,
          273,
          274,
          275,
          276,
          277,
          278,
          279,
          280,
          281,
          282,
          283,
          284,
          285,
          286,
          287,
          288,
          289,
          290,
          291,
          292,
          293,
          294,
          295,
          296,
          297,
          298,
          299,
          300,
          301,
          302,
          303,
          304,
          305,
          306,
          307,
          308,
          309,
          310,
          311,
          312,
          313,
          314,
          315,
          316,
          317,
          318,
          319,
          320,
          321,
          322,
          323,
          324,
          325,
          326,
          327,
          328,
          329,
          330,
          331,
          332,
          333,
          334,
          335,
          336,
          337,
          338,
          339,
          340,
          341,
          342,
          343,
          344,
          345,
          346,
          347,
          348,
          349,
          350,
          351,
          352,
          353,
          354,
          355,
          356,
          357,
          358
         ],
         "xaxis": "x",
         "y": [
          23.951955486111114,
          57.2200487755102,
          31.913618605442178,
          22.015431428571425,
          22.193216394557822,
          18.160448455782312,
          17.353763775510206,
          17.532875911564627,
          21.40675620408163,
          25.143167542517006,
          48.023870909863945,
          47.53047791950114,
          16.35370797335601,
          37.63763020691609,
          17.909376984126986,
          12.284483531746032,
          12.16631367063492,
          12.338895170068028,
          15.17908751984127,
          7.303379186507938,
          18.396800734126987,
          11.603310144557824,
          16.433622522675737,
          16.160487463151927,
          13.53455716553288,
          13.099561706349206,
          11.047907142857143,
          10.112389441609977,
          14.380453869047619,
          12.504433239795917,
          12.271073378684807,
          13.526998475056688,
          11.559985218253969,
          9.5944562414966,
          12.83440263888889,
          16.080003585600906,
          16.214018185941043,
          21.71824595238095,
          17.401876686507936,
          19.007060357142855,
          24.264701634920637,
          21.15918168253968,
          20.469598873015872,
          21.673994698412695,
          20.511309126984127,
          17.602629936507935,
          18.571050857142858,
          25.04690857142857,
          12.723722138888888,
          31.161879350907032,
          32.40452621428572,
          35.086345102040816,
          28.716959499999998,
          44.84650057142857,
          38.508179670634924,
          23.91841009126984,
          22.175398706349206,
          21.00703941269841,
          33.673119349206345,
          40.31706507936508,
          16.953690555555557,
          16.875312603174603,
          28.66378526984127,
          32.65846885714286,
          21.50892101984127,
          14.201251833333334,
          21.897553285714284,
          20.153521206349208,
          20.56190034920635,
          15.701298571428572,
          15.81088561904762,
          13.08573561904762,
          12.91560861904762,
          14.198479444444445,
          20.512790929705215,
          23.780108894557824,
          12.079710385487529,
          10.462545392857143,
          20.425460333333337,
          20.29092273015873,
          22.40460017460317,
          21.07995780442177,
          10.380151269841269,
          22.246269984126986,
          27.64879987301587,
          12.780629857142857,
          17.73808211111111,
          17.57798667063492,
          13.363026571428573,
          23.480610793650794,
          11.169886365079366,
          12.090893714285714,
          9.342172214285714,
          10.224134027777778,
          15.996992563492062,
          20.540925571428573,
          33.33673455555556,
          40.29535152380952,
          36.13168858730158,
          22.145723,
          50.545867,
          38.29741825396825,
          43.11330471428572,
          46.41486328571428,
          31.88181383080808,
          24.12119831746032,
          35.401576666666664,
          90.08383182539683,
          36.11959514285714,
          18.626007777777776,
          16.976833222222222,
          20.289088142857143,
          13.872478865079364,
          13.010661698412699,
          26.543381,
          23.189806,
          25.323650714285716,
          21.746419206349206,
          16.582556043650793,
          15.499358742063492,
          9.21191146825397,
          10.835977666666667,
          11.752440333333334,
          11.274193285714286,
          16.51048952777778,
          9.304846238095237,
          12.262131365079366,
          11.539042444444444,
          20.323665134920635,
          13.53408365873016,
          13.561086488095238,
          14.229407793650793,
          16.7464471984127,
          11.615927333333332,
          10.551896428571428,
          10.374867444444444,
          21.61934180952381,
          16.126658015873016,
          16.232364047619047,
          15.81640188888889,
          21.74758879761905,
          12.215295095238094,
          20.245542666666665,
          9.038578571428571,
          13.43830842857143,
          11.123313761904763,
          16.989684040249433,
          24.0441235515873,
          15.789827400793651,
          31.52840374603175,
          29.175657206349204,
          24.965430230158727,
          39.434724238095235,
          34.087091825396826,
          28.33630580952381,
          26.532651777777776,
          29.99286808333333,
          33.55643497222222,
          17.057843015873015,
          35.38950985714286,
          42.26964287698412,
          18.533094507936507,
          36.00902011111111,
          40.05191685714285,
          20.290947,
          13.377440619047618,
          45.58678414285714,
          29.17156957142857,
          20.346162142857143,
          16.697183142857142,
          13.009845380952381,
          10.371841031746031,
          15.075259297619047,
          9.353680190476192,
          14.35049888888889,
          11.705392920634921,
          13.71121842857143,
          19.232941063492063,
          10.429632916666666,
          17.542585761904764,
          19.781292238095237,
          9.40073165079365,
          13.327540968253969,
          11.436242714285713,
          18.891982650793654,
          9.608312137755101,
          21.759218603174606,
          12.940201950113378,
          12.336074209183673,
          17.536946285714286,
          12.789489952380952,
          8.927590031746032,
          7.294351281746032,
          11.04136732142857,
          18.947515805555554,
          28.61138053968254,
          26.006596920634923,
          41.73167031746032,
          17.663446714285715,
          23.074032444444445,
          16.175992841269842,
          12.63284407936508,
          36.01429465873016,
          13.649714984126986,
          34.334403015873015,
          16.86021837698413,
          29.02720557142857,
          27.009072347222222,
          31.091905458333333,
          18.543468999999998,
          23.818119571428575,
          36.057691257936504,
          23.55292698015873,
          20.14526519047619,
          25.456897936507936,
          13.114334265873016,
          31.628703932539683,
          24.35205314285714,
          10.892950976190477,
          19.68621653968254,
          23.11273195238095,
          13.329579571428571,
          13.63391250793651,
          21.110250968253972,
          22.591895666666666,
          17.492394285714287,
          13.675399753968254,
          10.520857126984128,
          13.007970928571428,
          22.38932957142857,
          18.422705206349207,
          13.556073841269841,
          12.82382585714286,
          9.919951285714287,
          12.500188214285714,
          10.804833476190478,
          13.487286095238094,
          15.311595936507937,
          19.806336269841267,
          20.67638596825397,
          12.033073603174604,
          16.826069761904762,
          10.640501479591837,
          12.366404773242632,
          19.594386065192744,
          19.353386714285712,
          10.003792253968255,
          11.115111365079363,
          27.872190484126982,
          28.353429095238095,
          19.30373985714286,
          14.468555321428571,
          19.98084442857143,
          18.821292952380954,
          12.36986209637188,
          18.98131228571429,
          25.623807120181404,
          19.82793171825397,
          27.838400980158728,
          32.65191579761905,
          28.34397648611111,
          33.09254085714286,
          24.49573188888889,
          23.741118761904765,
          16.044040603174604,
          26.83716465079365,
          28.112969174603172,
          55.93504971428571,
          41.257639047619044,
          30.89472010714286,
          21.625721411564626,
          14.055062648526077,
          14.266537,
          17.52999042857143,
          16.65937000510204,
          17.335805746031745,
          24.6600880952381,
          8.977658313492062,
          9.312933634920636,
          7.6759202222222225,
          10.479221142857144,
          8.203286714285714,
          20.842633904761904,
          29.72308111111111,
          15.819163285714286,
          20.628001428571427,
          16.80958480952381,
          9.852880126984127,
          12.721864186507938,
          17.330736607142857,
          11.694807,
          16.24296265873016,
          10.401186924603175,
          17.025148767006804,
          23.77994707482993,
          10.742921616780047,
          12.16825197505669,
          13.111943126984128,
          10.425509476190475,
          10.665606285714286,
          17.89214073015873,
          26.48424930952381,
          22.578957777777777,
          12.879899285714286,
          10.319089795918368,
          8.689771176870748,
          13.087707341269843,
          16.62676931746032,
          22.035999396825396,
          18.170099253968253,
          19.457418384920633,
          19.587307928571427,
          33.0199702,
          35.58479657142857,
          34.647851214285716,
          29.182247142857143,
          42.71545707936507,
          31.686263571428572,
          32.97824442857143,
          25.182330714285715,
          24.983763142857146,
          11.061965142857144,
          22.556395142857145,
          21.39448768253968,
          47.20650657142858,
          16.789744365079365,
          20.220667,
          17.673400238095237,
          17.950977333333334,
          9.666948492063492,
          12.88821084126984,
          12.822418253968253,
          12.198165650793651,
          7.925810670634919,
          9.752080857142857,
          8.462954,
          9.828467714285713,
          14.093135857142856,
          11.192580285714286,
          12.438745351473923,
          8.989105702380952,
          11.907787012471656,
          17.277161563492065,
          12.96520098526077,
          15.49448246031746,
          11.70067557142857,
          12.274739049886621,
          10.307959476190476,
          16.97735271428571,
          19.601779764172335,
          10.272943,
          13.448161142857142,
          13.068847250000001,
          9.068184571428572,
          32.82434585714286,
          19.789031976190476,
          24.522095031746034,
          22.998695714285713,
          18.144670666666666
         ],
         "yaxis": "y"
        }
       ],
       "layout": {
        "legend": {
         "tracegroupgap": 0
        },
        "template": {
         "data": {
          "bar": [
           {
            "error_x": {
             "color": "#2a3f5f"
            },
            "error_y": {
             "color": "#2a3f5f"
            },
            "marker": {
             "line": {
              "color": "#E5ECF6",
              "width": 0.5
             },
             "pattern": {
              "fillmode": "overlay",
              "size": 10,
              "solidity": 0.2
             }
            },
            "type": "bar"
           }
          ],
          "barpolar": [
           {
            "marker": {
             "line": {
              "color": "#E5ECF6",
              "width": 0.5
             },
             "pattern": {
              "fillmode": "overlay",
              "size": 10,
              "solidity": 0.2
             }
            },
            "type": "barpolar"
           }
          ],
          "carpet": [
           {
            "aaxis": {
             "endlinecolor": "#2a3f5f",
             "gridcolor": "white",
             "linecolor": "white",
             "minorgridcolor": "white",
             "startlinecolor": "#2a3f5f"
            },
            "baxis": {
             "endlinecolor": "#2a3f5f",
             "gridcolor": "white",
             "linecolor": "white",
             "minorgridcolor": "white",
             "startlinecolor": "#2a3f5f"
            },
            "type": "carpet"
           }
          ],
          "choropleth": [
           {
            "colorbar": {
             "outlinewidth": 0,
             "ticks": ""
            },
            "type": "choropleth"
           }
          ],
          "contour": [
           {
            "colorbar": {
             "outlinewidth": 0,
             "ticks": ""
            },
            "colorscale": [
             [
              0,
              "#0d0887"
             ],
             [
              0.1111111111111111,
              "#46039f"
             ],
             [
              0.2222222222222222,
              "#7201a8"
             ],
             [
              0.3333333333333333,
              "#9c179e"
             ],
             [
              0.4444444444444444,
              "#bd3786"
             ],
             [
              0.5555555555555556,
              "#d8576b"
             ],
             [
              0.6666666666666666,
              "#ed7953"
             ],
             [
              0.7777777777777778,
              "#fb9f3a"
             ],
             [
              0.8888888888888888,
              "#fdca26"
             ],
             [
              1,
              "#f0f921"
             ]
            ],
            "type": "contour"
           }
          ],
          "contourcarpet": [
           {
            "colorbar": {
             "outlinewidth": 0,
             "ticks": ""
            },
            "type": "contourcarpet"
           }
          ],
          "heatmap": [
           {
            "colorbar": {
             "outlinewidth": 0,
             "ticks": ""
            },
            "colorscale": [
             [
              0,
              "#0d0887"
             ],
             [
              0.1111111111111111,
              "#46039f"
             ],
             [
              0.2222222222222222,
              "#7201a8"
             ],
             [
              0.3333333333333333,
              "#9c179e"
             ],
             [
              0.4444444444444444,
              "#bd3786"
             ],
             [
              0.5555555555555556,
              "#d8576b"
             ],
             [
              0.6666666666666666,
              "#ed7953"
             ],
             [
              0.7777777777777778,
              "#fb9f3a"
             ],
             [
              0.8888888888888888,
              "#fdca26"
             ],
             [
              1,
              "#f0f921"
             ]
            ],
            "type": "heatmap"
           }
          ],
          "heatmapgl": [
           {
            "colorbar": {
             "outlinewidth": 0,
             "ticks": ""
            },
            "colorscale": [
             [
              0,
              "#0d0887"
             ],
             [
              0.1111111111111111,
              "#46039f"
             ],
             [
              0.2222222222222222,
              "#7201a8"
             ],
             [
              0.3333333333333333,
              "#9c179e"
             ],
             [
              0.4444444444444444,
              "#bd3786"
             ],
             [
              0.5555555555555556,
              "#d8576b"
             ],
             [
              0.6666666666666666,
              "#ed7953"
             ],
             [
              0.7777777777777778,
              "#fb9f3a"
             ],
             [
              0.8888888888888888,
              "#fdca26"
             ],
             [
              1,
              "#f0f921"
             ]
            ],
            "type": "heatmapgl"
           }
          ],
          "histogram": [
           {
            "marker": {
             "pattern": {
              "fillmode": "overlay",
              "size": 10,
              "solidity": 0.2
             }
            },
            "type": "histogram"
           }
          ],
          "histogram2d": [
           {
            "colorbar": {
             "outlinewidth": 0,
             "ticks": ""
            },
            "colorscale": [
             [
              0,
              "#0d0887"
             ],
             [
              0.1111111111111111,
              "#46039f"
             ],
             [
              0.2222222222222222,
              "#7201a8"
             ],
             [
              0.3333333333333333,
              "#9c179e"
             ],
             [
              0.4444444444444444,
              "#bd3786"
             ],
             [
              0.5555555555555556,
              "#d8576b"
             ],
             [
              0.6666666666666666,
              "#ed7953"
             ],
             [
              0.7777777777777778,
              "#fb9f3a"
             ],
             [
              0.8888888888888888,
              "#fdca26"
             ],
             [
              1,
              "#f0f921"
             ]
            ],
            "type": "histogram2d"
           }
          ],
          "histogram2dcontour": [
           {
            "colorbar": {
             "outlinewidth": 0,
             "ticks": ""
            },
            "colorscale": [
             [
              0,
              "#0d0887"
             ],
             [
              0.1111111111111111,
              "#46039f"
             ],
             [
              0.2222222222222222,
              "#7201a8"
             ],
             [
              0.3333333333333333,
              "#9c179e"
             ],
             [
              0.4444444444444444,
              "#bd3786"
             ],
             [
              0.5555555555555556,
              "#d8576b"
             ],
             [
              0.6666666666666666,
              "#ed7953"
             ],
             [
              0.7777777777777778,
              "#fb9f3a"
             ],
             [
              0.8888888888888888,
              "#fdca26"
             ],
             [
              1,
              "#f0f921"
             ]
            ],
            "type": "histogram2dcontour"
           }
          ],
          "mesh3d": [
           {
            "colorbar": {
             "outlinewidth": 0,
             "ticks": ""
            },
            "type": "mesh3d"
           }
          ],
          "parcoords": [
           {
            "line": {
             "colorbar": {
              "outlinewidth": 0,
              "ticks": ""
             }
            },
            "type": "parcoords"
           }
          ],
          "pie": [
           {
            "automargin": true,
            "type": "pie"
           }
          ],
          "scatter": [
           {
            "marker": {
             "colorbar": {
              "outlinewidth": 0,
              "ticks": ""
             }
            },
            "type": "scatter"
           }
          ],
          "scatter3d": [
           {
            "line": {
             "colorbar": {
              "outlinewidth": 0,
              "ticks": ""
             }
            },
            "marker": {
             "colorbar": {
              "outlinewidth": 0,
              "ticks": ""
             }
            },
            "type": "scatter3d"
           }
          ],
          "scattercarpet": [
           {
            "marker": {
             "colorbar": {
              "outlinewidth": 0,
              "ticks": ""
             }
            },
            "type": "scattercarpet"
           }
          ],
          "scattergeo": [
           {
            "marker": {
             "colorbar": {
              "outlinewidth": 0,
              "ticks": ""
             }
            },
            "type": "scattergeo"
           }
          ],
          "scattergl": [
           {
            "marker": {
             "colorbar": {
              "outlinewidth": 0,
              "ticks": ""
             }
            },
            "type": "scattergl"
           }
          ],
          "scattermapbox": [
           {
            "marker": {
             "colorbar": {
              "outlinewidth": 0,
              "ticks": ""
             }
            },
            "type": "scattermapbox"
           }
          ],
          "scatterpolar": [
           {
            "marker": {
             "colorbar": {
              "outlinewidth": 0,
              "ticks": ""
             }
            },
            "type": "scatterpolar"
           }
          ],
          "scatterpolargl": [
           {
            "marker": {
             "colorbar": {
              "outlinewidth": 0,
              "ticks": ""
             }
            },
            "type": "scatterpolargl"
           }
          ],
          "scatterternary": [
           {
            "marker": {
             "colorbar": {
              "outlinewidth": 0,
              "ticks": ""
             }
            },
            "type": "scatterternary"
           }
          ],
          "surface": [
           {
            "colorbar": {
             "outlinewidth": 0,
             "ticks": ""
            },
            "colorscale": [
             [
              0,
              "#0d0887"
             ],
             [
              0.1111111111111111,
              "#46039f"
             ],
             [
              0.2222222222222222,
              "#7201a8"
             ],
             [
              0.3333333333333333,
              "#9c179e"
             ],
             [
              0.4444444444444444,
              "#bd3786"
             ],
             [
              0.5555555555555556,
              "#d8576b"
             ],
             [
              0.6666666666666666,
              "#ed7953"
             ],
             [
              0.7777777777777778,
              "#fb9f3a"
             ],
             [
              0.8888888888888888,
              "#fdca26"
             ],
             [
              1,
              "#f0f921"
             ]
            ],
            "type": "surface"
           }
          ],
          "table": [
           {
            "cells": {
             "fill": {
              "color": "#EBF0F8"
             },
             "line": {
              "color": "white"
             }
            },
            "header": {
             "fill": {
              "color": "#C8D4E3"
             },
             "line": {
              "color": "white"
             }
            },
            "type": "table"
           }
          ]
         },
         "layout": {
          "annotationdefaults": {
           "arrowcolor": "#2a3f5f",
           "arrowhead": 0,
           "arrowwidth": 1
          },
          "autotypenumbers": "strict",
          "coloraxis": {
           "colorbar": {
            "outlinewidth": 0,
            "ticks": ""
           }
          },
          "colorscale": {
           "diverging": [
            [
             0,
             "#8e0152"
            ],
            [
             0.1,
             "#c51b7d"
            ],
            [
             0.2,
             "#de77ae"
            ],
            [
             0.3,
             "#f1b6da"
            ],
            [
             0.4,
             "#fde0ef"
            ],
            [
             0.5,
             "#f7f7f7"
            ],
            [
             0.6,
             "#e6f5d0"
            ],
            [
             0.7,
             "#b8e186"
            ],
            [
             0.8,
             "#7fbc41"
            ],
            [
             0.9,
             "#4d9221"
            ],
            [
             1,
             "#276419"
            ]
           ],
           "sequential": [
            [
             0,
             "#0d0887"
            ],
            [
             0.1111111111111111,
             "#46039f"
            ],
            [
             0.2222222222222222,
             "#7201a8"
            ],
            [
             0.3333333333333333,
             "#9c179e"
            ],
            [
             0.4444444444444444,
             "#bd3786"
            ],
            [
             0.5555555555555556,
             "#d8576b"
            ],
            [
             0.6666666666666666,
             "#ed7953"
            ],
            [
             0.7777777777777778,
             "#fb9f3a"
            ],
            [
             0.8888888888888888,
             "#fdca26"
            ],
            [
             1,
             "#f0f921"
            ]
           ],
           "sequentialminus": [
            [
             0,
             "#0d0887"
            ],
            [
             0.1111111111111111,
             "#46039f"
            ],
            [
             0.2222222222222222,
             "#7201a8"
            ],
            [
             0.3333333333333333,
             "#9c179e"
            ],
            [
             0.4444444444444444,
             "#bd3786"
            ],
            [
             0.5555555555555556,
             "#d8576b"
            ],
            [
             0.6666666666666666,
             "#ed7953"
            ],
            [
             0.7777777777777778,
             "#fb9f3a"
            ],
            [
             0.8888888888888888,
             "#fdca26"
            ],
            [
             1,
             "#f0f921"
            ]
           ]
          },
          "colorway": [
           "#636efa",
           "#EF553B",
           "#00cc96",
           "#ab63fa",
           "#FFA15A",
           "#19d3f3",
           "#FF6692",
           "#B6E880",
           "#FF97FF",
           "#FECB52"
          ],
          "font": {
           "color": "#2a3f5f"
          },
          "geo": {
           "bgcolor": "white",
           "lakecolor": "white",
           "landcolor": "#E5ECF6",
           "showlakes": true,
           "showland": true,
           "subunitcolor": "white"
          },
          "hoverlabel": {
           "align": "left"
          },
          "hovermode": "closest",
          "mapbox": {
           "style": "light"
          },
          "paper_bgcolor": "white",
          "plot_bgcolor": "#E5ECF6",
          "polar": {
           "angularaxis": {
            "gridcolor": "white",
            "linecolor": "white",
            "ticks": ""
           },
           "bgcolor": "#E5ECF6",
           "radialaxis": {
            "gridcolor": "white",
            "linecolor": "white",
            "ticks": ""
           }
          },
          "scene": {
           "xaxis": {
            "backgroundcolor": "#E5ECF6",
            "gridcolor": "white",
            "gridwidth": 2,
            "linecolor": "white",
            "showbackground": true,
            "ticks": "",
            "zerolinecolor": "white"
           },
           "yaxis": {
            "backgroundcolor": "#E5ECF6",
            "gridcolor": "white",
            "gridwidth": 2,
            "linecolor": "white",
            "showbackground": true,
            "ticks": "",
            "zerolinecolor": "white"
           },
           "zaxis": {
            "backgroundcolor": "#E5ECF6",
            "gridcolor": "white",
            "gridwidth": 2,
            "linecolor": "white",
            "showbackground": true,
            "ticks": "",
            "zerolinecolor": "white"
           }
          },
          "shapedefaults": {
           "line": {
            "color": "#2a3f5f"
           }
          },
          "ternary": {
           "aaxis": {
            "gridcolor": "white",
            "linecolor": "white",
            "ticks": ""
           },
           "baxis": {
            "gridcolor": "white",
            "linecolor": "white",
            "ticks": ""
           },
           "bgcolor": "#E5ECF6",
           "caxis": {
            "gridcolor": "white",
            "linecolor": "white",
            "ticks": ""
           }
          },
          "title": {
           "x": 0.05
          },
          "xaxis": {
           "automargin": true,
           "gridcolor": "white",
           "linecolor": "white",
           "ticks": "",
           "title": {
            "standoff": 15
           },
           "zerolinecolor": "white",
           "zerolinewidth": 2
          },
          "yaxis": {
           "automargin": true,
           "gridcolor": "white",
           "linecolor": "white",
           "ticks": "",
           "title": {
            "standoff": 15
           },
           "zerolinecolor": "white",
           "zerolinewidth": 2
          }
         }
        },
        "title": {
         "text": "Provincia: Udine"
        },
        "xaxis": {
         "anchor": "y",
         "domain": [
          0,
          1
         ],
         "title": {
          "text": "time_idx"
         }
        },
        "yaxis": {
         "anchor": "x",
         "domain": [
          0,
          1
         ],
         "title": {
          "text": "pm10_giornaliera"
         }
        }
       }
      }
     },
     "metadata": {},
     "output_type": "display_data"
    }
   ],
   "source": [
    "import plotly.express as px\n",
    "for provincia in list(df_settimanale[\"provincia\"].unique()):\n",
    "    plot_df = df_settimanale[df_settimanale[\"provincia\"]==provincia][[\"time_idx\",\"pm10_giornaliera\"]]\n",
    "    fig = px.line(plot_df, x=\"time_idx\",y=\"pm10_giornaliera\", title=\"Provincia: {}\".format(provincia))\n",
    "    fig.show()"
   ]
  }
 ],
 "metadata": {
  "interpreter": {
   "hash": "4f3b078249380ea762697f4f8f6aea77b3d6e43cbb1b18cbb73d8cde5aa597e7"
  },
  "kernelspec": {
   "display_name": "Python 3.9.7 64-bit (system)",
   "language": "python",
   "name": "python3"
  },
  "language_info": {
   "codemirror_mode": {
    "name": "ipython",
    "version": 3
   },
   "file_extension": ".py",
   "mimetype": "text/x-python",
   "name": "python",
   "nbconvert_exporter": "python",
   "pygments_lexer": "ipython3",
   "version": "3.7.3"
  },
  "orig_nbformat": 4
 },
 "nbformat": 4,
 "nbformat_minor": 2
}

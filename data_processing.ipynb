{
 "cells": [
  {
   "cell_type": "code",
   "execution_count": null,
   "metadata": {},
   "outputs": [],
   "source": [
    "import numpy as np\n",
    "import pandas as pd\n",
    "pd.set_option(\"max_colwidth\", None)\n",
    "import os"
   ]
  },
  {
   "cell_type": "markdown",
   "metadata": {},
   "source": [
    "# CARICAMENTO DATI"
   ]
  },
  {
   "cell_type": "markdown",
   "metadata": {},
   "source": [
    "## Dati aria"
   ]
  },
  {
   "cell_type": "code",
   "execution_count": null,
   "metadata": {},
   "outputs": [],
   "source": [
    "path_data = \"Data/\"\n",
    "\n",
    "biossido_azoto_df = pd.read_csv(os.path.join(path_data, \"Aria_-_Biossido_d_Azoto_split.csv\"))\n",
    "biossido_zolfo_df = pd.read_csv(os.path.join(path_data, \"Aria_-_Biossido_di_Zolfo_split.csv\"))\n",
    "monossido_carbonio_df = pd.read_csv(os.path.join(path_data, \"Aria_-_Monossido_di_Carbonio_split.csv\"))\n",
    "ozono_df = pd.read_csv(os.path.join(path_data, \"Aria_-_Ozono_split.csv\"))\n",
    "pm2dot5_df = pd.read_csv(os.path.join(path_data, \"Aria_-_Particelle_Sospese_PM2.5_split.csv\"))\n",
    "pm10_df = pd.read_csv(os.path.join(path_data, \"Aria_-_Particelle_Sospese_PM10_split.csv\"))\n",
    "pts_df = pd.read_csv(os.path.join(path_data, \"Aria_-_Particolato_Totale_Sospeso_split.csv\"))\n",
    "pollini_df = pd.read_csv(os.path.join(path_data, \"Aria_-_Pollini_split.csv\"))\n"
   ]
  },
  {
   "cell_type": "markdown",
   "metadata": {},
   "source": [
    "## Altri dati"
   ]
  },
  {
   "cell_type": "code",
   "execution_count": null,
   "metadata": {},
   "outputs": [],
   "source": [
    "siti_inquinati_df = pd.read_csv(os.path.join(path_data, \"Censimento_dei_siti_inquinati_split.csv\"))\n",
    "trattamento_rifiuti_df = pd.read_csv(os.path.join(path_data, \"Impianti_attivi_trattamento_rifiuti_split.csv\"))"
   ]
  },
  {
   "cell_type": "markdown",
   "metadata": {},
   "source": [
    "## Analisi preliminare\n",
    "Controllo che non vi siano errori nei dati dei campi di interesse"
   ]
  },
  {
   "cell_type": "markdown",
   "metadata": {},
   "source": [
    "### Biossido di Azoto"
   ]
  },
  {
   "cell_type": "code",
   "execution_count": null,
   "metadata": {},
   "outputs": [],
   "source": [
    "dim = len(biossido_azoto_df.index)\n",
    "um = biossido_azoto_df[\"UNITA' MISURA\"].unique()\n",
    "città = biossido_azoto_df[\"RETE\"].unique()\n",
    "biossido_azoto_df[\"DATI INSUFF.\"] = biossido_zolfo_df[\"DATI INSUFF.\"].astype(str)\n",
    "dati_insuff = biossido_azoto_df[\"DATI INSUFF.\"].unique()\n",
    "ubicazioni = biossido_azoto_df[\"UBICAZIONE\"].unique()\n",
    "\n",
    "print(dim)\n",
    "print(um)\n",
    "print(città)\n",
    "print(dati_insuff)\n",
    "print(ubicazioni)"
   ]
  },
  {
   "cell_type": "markdown",
   "metadata": {},
   "source": [
    "### Biossido di Zolfo"
   ]
  },
  {
   "cell_type": "code",
   "execution_count": null,
   "metadata": {},
   "outputs": [],
   "source": [
    "dim = len(biossido_zolfo_df.index)\n",
    "um = biossido_zolfo_df[\"UNITA' MISURA\"].unique()\n",
    "città = biossido_zolfo_df[\"RETE\"].unique()\n",
    "biossido_zolfo_df[\"DATI INSUFF.\"] = biossido_zolfo_df[\"DATI INSUFF.\"].astype(str)\n",
    "dati_insuff = biossido_zolfo_df[\"DATI INSUFF.\"].unique()\n",
    "ubicazioni = biossido_zolfo_df[\"UBICAZIONE\"].unique()\n",
    "\n",
    "print(dim)\n",
    "print(um)\n",
    "print(città)\n",
    "print(dati_insuff)\n",
    "print(ubicazioni)"
   ]
  },
  {
   "cell_type": "markdown",
   "metadata": {},
   "source": [
    "### Monossido di Carbonio"
   ]
  },
  {
   "cell_type": "code",
   "execution_count": null,
   "metadata": {},
   "outputs": [],
   "source": [
    "dim = len(monossido_carbonio_df.index)\n",
    "um = monossido_carbonio_df[\"UNITA' MISURA\"].unique()\n",
    "città = monossido_carbonio_df[\"RETE\"].unique()\n",
    "monossido_carbonio_df[\"DATI INSUFF.\"] = biossido_zolfo_df[\"DATI INSUFF.\"].astype(str)\n",
    "dati_insuff = monossido_carbonio_df[\"DATI INSUFF.\"].unique()\n",
    "ubicazioni = monossido_carbonio_df[\"UBICAZIONE\"].unique()\n",
    "\n",
    "print(dim)\n",
    "print(um)\n",
    "print(città)\n",
    "print(dati_insuff)\n",
    "print(ubicazioni)"
   ]
  },
  {
   "cell_type": "markdown",
   "metadata": {},
   "source": [
    "### Ozono"
   ]
  },
  {
   "cell_type": "code",
   "execution_count": null,
   "metadata": {},
   "outputs": [],
   "source": [
    "dim = len(ozono_df.index)\n",
    "um = ozono_df[\"UNITA' MISURA\"].unique()\n",
    "città = ozono_df[\"RETE\"].unique()\n",
    "ozono_df[\"DATI INSUFF.\"] = ozono_df[\"DATI INSUFF.\"].astype(str)\n",
    "dati_insuff = ozono_df[\"DATI INSUFF.\"].unique()\n",
    "ubicazioni = ozono_df[\"UBICAZIONE\"].unique()\n",
    "\n",
    "print(dim)\n",
    "print(um)\n",
    "print(città)\n",
    "print(dati_insuff)\n",
    "print(ubicazioni)"
   ]
  },
  {
   "cell_type": "markdown",
   "metadata": {},
   "source": [
    "### PM2.5"
   ]
  },
  {
   "cell_type": "code",
   "execution_count": null,
   "metadata": {},
   "outputs": [],
   "source": [
    "dim = len(pm2dot5_df.index)\n",
    "um = pm2dot5_df[\"UNITA' MISURA\"].unique()\n",
    "città = pm2dot5_df[\"RETE\"].unique()\n",
    "pm2dot5_df[\"DATI INSUFF.\"] = pm2dot5_df[\"DATI INSUFF.\"].astype(str)\n",
    "dati_insuff = pm2dot5_df[\"DATI INSUFF.\"].unique()\n",
    "ubicazioni = pm2dot5_df[\"UBICAZIONE\"].unique()\n",
    "\n",
    "print(dim)\n",
    "print(um)\n",
    "print(città)\n",
    "print(dati_insuff)\n",
    "print(ubicazioni)"
   ]
  },
  {
   "cell_type": "markdown",
   "metadata": {},
   "source": [
    "### PM10"
   ]
  },
  {
   "cell_type": "code",
   "execution_count": null,
   "metadata": {},
   "outputs": [],
   "source": [
    "dim = len(pm10_df.index)\n",
    "um = pm10_df[\"UNITA' MISURA\"].unique()\n",
    "città = pm10_df[\"RETE\"].unique()\n",
    "pm10_df[\"DATI INSUFF.\"] = pm10_df[\"DATI INSUFF.\"].astype(str)\n",
    "dati_insuff = pm10_df[\"DATI INSUFF.\"].unique()\n",
    "ubicazioni = pm10_df[\"UBICAZIONE\"].unique()\n",
    "\n",
    "print(dim)\n",
    "print(um)\n",
    "print(città)\n",
    "print(dati_insuff)\n",
    "print(ubicazioni)\n"
   ]
  },
  {
   "cell_type": "markdown",
   "metadata": {},
   "source": [
    "### Particolato totale sospeso\n",
    "Tutto il materiale non gassoso presente nell'aria (anche pollini, ecc...). Non viene quindi preso in considerazione dal momento che consideriamo PM10 come indice per l'inquinamento."
   ]
  },
  {
   "cell_type": "code",
   "execution_count": null,
   "metadata": {},
   "outputs": [],
   "source": [
    "dim = len(pts_df.index)\n",
    "um = pts_df[\"UNITA' MISURA\"].unique()\n",
    "città = pts_df[\"RETE\"].unique()\n",
    "pts_df[\"DATI INSUFF.\"] = pts_df[\"DATI INSUFF.\"].astype(str)\n",
    "dati_insuff = pts_df[\"DATI INSUFF.\"].unique()\n",
    "ubicazioni = pts_df[\"UBICAZIONE\"].unique()\n",
    "\n",
    "print(dim)\n",
    "print(um)\n",
    "print(città)\n",
    "print(dati_insuff)\n",
    "print(ubicazioni)"
   ]
  },
  {
   "cell_type": "markdown",
   "metadata": {},
   "source": [
    "### Pollini"
   ]
  },
  {
   "cell_type": "markdown",
   "metadata": {},
   "source": [
    "Difficile gestione del campo relativo alla data, per ora questo dataset viene trascurato."
   ]
  },
  {
   "cell_type": "code",
   "execution_count": null,
   "metadata": {},
   "outputs": [],
   "source": [
    "dim = len(pollini_df.index)\n",
    "genere = pollini_df[\"GENERE\"].unique()\n",
    "famiglia = pollini_df[\"FAMIGLIA\"].unique()\n",
    "città = pollini_df[\"PROVINCIA\"].unique()\n",
    "\n",
    "print(dim)\n",
    "print(um)\n",
    "print(città)\n",
    "print(dati_insuff)\n",
    "print(ubicazioni)\n"
   ]
  },
  {
   "cell_type": "markdown",
   "metadata": {},
   "source": [
    "# Elaborazione dei dati"
   ]
  },
  {
   "cell_type": "markdown",
   "metadata": {},
   "source": [
    "Selezione dei campi di interesse e filtraggio per dati sufficienti"
   ]
  },
  {
   "cell_type": "code",
   "execution_count": null,
   "metadata": {},
   "outputs": [],
   "source": [
    "biossido_azoto_df = biossido_azoto_df[(biossido_azoto_df[\"DATI INSUFF.\"] == 'Falso') | (biossido_azoto_df[\"DATI INSUFF.\"] == 'False')][[\"DATA MISURA\", \"RETE\", \"MEDIA ORARIA MAX\"]]\n",
    "biossido_zolfo_df = biossido_zolfo_df[(biossido_zolfo_df[\"DATI INSUFF.\"] == 'Falso') | (biossido_zolfo_df[\"DATI INSUFF.\"] == 'False')][[\"DATA MISURA\", \"RETE\", \"MEDIA GIORNALIERA\"]]\n",
    "monossido_carbonio_df = monossido_carbonio_df[(monossido_carbonio_df[\"DATI INSUFF.\"] == 'Falso') | (monossido_carbonio_df[\"DATI INSUFF.\"] == 'False')][[\"DATA MISURA\", \"RETE\", \"MEDIA MOBILE 8h MAX\"]]\n",
    "ozono_df = ozono_df[(ozono_df[\"DATI INSUFF.\"] == 'Falso') | (ozono_df[\"DATI INSUFF.\"] == 'False')][[\"DATA MISURA\", \"RETE\", \"MEDIA MOBILE 8h MAX\"]]\n",
    "pm2dot5_df = pm2dot5_df[(pm2dot5_df[\"DATI INSUFF.\"] == 'Falso') | (pm2dot5_df[\"DATI INSUFF.\"] == 'False')][[\"DATA MISURA\", \"RETE\", \"MEDIA GIORNALIERA\"]]\n",
    "pm10_df = pm10_df[(pm10_df[\"DATI INSUFF.\"] == 'Falso') | (pm10_df[\"DATI INSUFF.\"] == 'False')][[\"DATA MISURA\", \"RETE\", \"MEDIA GIORNALIERA\"]]\n"
   ]
  },
  {
   "cell_type": "markdown",
   "metadata": {},
   "source": [
    "Selezione dell'intervallo di tempo e creazione dell'indice temporale. Sono presenti dati nei seguenti range temporali:\n",
    "- biossido di azoto:  2005-01-01 ---> 2020-11-18\n",
    "- biossido di zolfo:  2005-01-01 ---> 2021-10-18\n",
    "- monossido di carbonio:  2005-01-01 ---> 2021-11-18\n",
    "- ozono:  2005-01-01 ---> 2021-10-18\n",
    "- pm2.5:  2012-11-18 --->2021-10-18\n",
    "- pm10:  2005-01-01 --->2021-10-18"
   ]
  },
  {
   "cell_type": "code",
   "execution_count": null,
   "metadata": {},
   "outputs": [],
   "source": [
    "biossido_azoto_df['DATA MISURA']= pd.to_datetime(biossido_azoto_df['DATA MISURA'],dayfirst=True)\n",
    "biossido_azoto_df = biossido_azoto_df[biossido_azoto_df['DATA MISURA'].notna()]\n",
    "biossido_zolfo_df['DATA MISURA']= pd.to_datetime(biossido_zolfo_df['DATA MISURA'],dayfirst=True)\n",
    "biossido_zolfo_df = biossido_zolfo_df[biossido_zolfo_df['DATA MISURA'].notna()]\n",
    "monossido_carbonio_df['DATA MISURA']= pd.to_datetime(monossido_carbonio_df['DATA MISURA'],dayfirst=True)\n",
    "monossido_carbonio_df = monossido_carbonio_df[monossido_carbonio_df['DATA MISURA'].notna()]\n",
    "ozono_df['DATA MISURA']= pd.to_datetime(ozono_df['DATA MISURA'],dayfirst=True)\n",
    "ozono_df = ozono_df[ozono_df['DATA MISURA'].notna()]\n",
    "pm2dot5_df['DATA MISURA']= pd.to_datetime(pm2dot5_df['DATA MISURA'],dayfirst=True)\n",
    "pm2dot5_df = pm2dot5_df[pm2dot5_df['DATA MISURA'].notna()]\n",
    "pm10_df['DATA MISURA']= pd.to_datetime(pm10_df['DATA MISURA'],dayfirst=True)\n",
    "pm10_df = pm10_df[pm10_df['DATA MISURA'].notna()]"
   ]
  },
  {
   "cell_type": "code",
   "execution_count": null,
   "metadata": {},
   "outputs": [],
   "source": [
    "biossido_azoto_df=biossido_azoto_df.sort_values(by='DATA MISURA')\n",
    "biossido_zolfo_df=biossido_zolfo_df.sort_values(by='DATA MISURA')\n",
    "monossido_carbonio_df=monossido_carbonio_df.sort_values(by='DATA MISURA')\n",
    "ozono_df=ozono_df.sort_values(by='DATA MISURA')\n",
    "pm2dot5_df=pm2dot5_df.sort_values(by='DATA MISURA')\n",
    "pm10_df=pm10_df.sort_values(by='DATA MISURA')"
   ]
  },
  {
   "cell_type": "code",
   "execution_count": null,
   "metadata": {},
   "outputs": [],
   "source": [
    "biossido_azoto_df[\"DATA MISURA\"]"
   ]
  },
  {
   "cell_type": "markdown",
   "metadata": {},
   "source": [
    "Selezione del range temporale in cui ho tutti i dati (01/01/2014 - 18/11/2020)"
   ]
  },
  {
   "cell_type": "code",
   "execution_count": null,
   "metadata": {},
   "outputs": [],
   "source": [
    "biossido_azoto_df=biossido_azoto_df[(biossido_azoto_df['DATA MISURA'] >= '2014-01-01') & (biossido_azoto_df['DATA MISURA'] <= biossido_azoto_df['DATA MISURA'].max())]\n",
    "biossido_zolfo_df=biossido_zolfo_df[(biossido_zolfo_df['DATA MISURA'] >=  '2014-01-01') & (biossido_zolfo_df['DATA MISURA'] <= biossido_azoto_df['DATA MISURA'].max())]\n",
    "monossido_carbonio_df=monossido_carbonio_df[(monossido_carbonio_df['DATA MISURA'] >=  '2014-01-01') & (monossido_carbonio_df['DATA MISURA'] <= biossido_azoto_df['DATA MISURA'].max())]\n",
    "ozono_df=ozono_df[(ozono_df['DATA MISURA'] >= '2014-01-01') & (ozono_df['DATA MISURA'] <= biossido_azoto_df['DATA MISURA'].max())]\n",
    "pm2dot5_df=pm2dot5_df[(pm2dot5_df['DATA MISURA'] >= '2014-01-01') & (pm2dot5_df['DATA MISURA'] <= biossido_azoto_df['DATA MISURA'].max())]\n",
    "pm10_df=pm10_df[(pm10_df['DATA MISURA'] >= '2014-01-01') & (pm10_df['DATA MISURA'] <= biossido_azoto_df['DATA MISURA'].max())]"
   ]
  },
  {
   "cell_type": "markdown",
   "metadata": {},
   "source": [
    "Rinomina dei campi"
   ]
  },
  {
   "cell_type": "code",
   "execution_count": null,
   "metadata": {},
   "outputs": [],
   "source": [
    "biossido_azoto_df = biossido_azoto_df.rename(columns={\n",
    "    'DATA MISURA': 'data',\n",
    "    'RETE': 'provincia',\n",
    "    'MEDIA ORARIA MAX': 'azoto_oraria_max'\n",
    "})\n",
    "biossido_zolfo_df = biossido_zolfo_df.rename(columns={\n",
    "    'DATA MISURA': 'data',\n",
    "    'RETE': 'provincia',\n",
    "    'MEDIA GIORNALIERA': 'zolfo_giornaliera'\n",
    "})\n",
    "monossido_carbonio_df = monossido_carbonio_df.rename(columns={\n",
    "    'DATA MISURA': 'data',\n",
    "    'RETE': 'provincia',\n",
    "    'MEDIA MOBILE 8h MAX': 'carbonio_8h_max'\n",
    "})\n",
    "ozono_df = ozono_df.rename(columns={\n",
    "    'DATA MISURA': 'data',\n",
    "    'RETE': 'provincia',\n",
    "    'MEDIA MOBILE 8h MAX': 'ozono_8h_max'\n",
    "})\n",
    "pm2dot5_df = pm2dot5_df.rename(columns={\n",
    "    'DATA MISURA': 'data',\n",
    "    'RETE': 'provincia',\n",
    "    'MEDIA GIORNALIERA': 'pm2dot5_giornaliera'\n",
    "})\n",
    "pm10_df = pm10_df.rename(columns={\n",
    "    'DATA MISURA': 'data',\n",
    "    'RETE': 'provincia',\n",
    "    'MEDIA GIORNALIERA': 'pm10_giornaliera'\n",
    "})\n",
    "\n",
    "biossido_azoto_df['azoto_oraria_max']=biossido_azoto_df['azoto_oraria_max'].astype(float)\n",
    "biossido_zolfo_df['zolfo_giornaliera']=biossido_zolfo_df['zolfo_giornaliera'].astype(float)\n",
    "monossido_carbonio_df['carbonio_8h_max']=monossido_carbonio_df['carbonio_8h_max'].astype(float)\n",
    "ozono_df['ozono_8h_max']=ozono_df['ozono_8h_max'].astype(float)\n",
    "pm2dot5_df['pm2dot5_giornaliera']=pm2dot5_df['pm2dot5_giornaliera'].astype(float)\n",
    "pm10_df['pm10_giornaliera']=pm10_df['pm10_giornaliera'].astype(float)\n"
   ]
  },
  {
   "cell_type": "markdown",
   "metadata": {},
   "source": [
    "Aggregazione dati per provincia e data"
   ]
  },
  {
   "cell_type": "code",
   "execution_count": null,
   "metadata": {},
   "outputs": [],
   "source": [
    "biossido_azoto_df=biossido_azoto_df.groupby(by=['data', 'provincia']).agg({\"azoto_oraria_max\":\"mean\"})\n",
    "biossido_zolfo_df=biossido_zolfo_df.groupby(by=['data', 'provincia']).agg({\"zolfo_giornaliera\":\"mean\"})\n",
    "monossido_carbonio_df=monossido_carbonio_df.groupby(by=['data', 'provincia']).agg({\"carbonio_8h_max\":\"mean\"})\n",
    "ozono_df=ozono_df.groupby(by=['data', 'provincia']).agg({\"ozono_8h_max\":\"mean\"})\n",
    "pm2dot5_df=pm2dot5_df.groupby(by=['data', 'provincia']).agg({\"pm2dot5_giornaliera\":\"mean\"})\n",
    "pm10_df=pm10_df.groupby(by=['data', 'provincia']).agg({\"pm10_giornaliera\":\"mean\"})"
   ]
  },
  {
   "cell_type": "markdown",
   "metadata": {},
   "source": [
    "Unione dei datasets"
   ]
  },
  {
   "cell_type": "code",
   "execution_count": null,
   "metadata": {},
   "outputs": [],
   "source": [
    "df = pd.merge(biossido_azoto_df, biossido_zolfo_df, how='outer', on=[\"data\", \"provincia\"]).sort_values(['data', 'provincia'])\n",
    "df = pd.merge(df, monossido_carbonio_df, how='outer', on=[\"data\", \"provincia\"]).sort_values(['data', 'provincia'])\n",
    "df = pd.merge(df, ozono_df, how='outer', on=[\"data\", \"provincia\"]).sort_values(['data', 'provincia'])\n",
    "df = pd.merge(df, pm2dot5_df, how='outer', on=[\"data\", \"provincia\"]).sort_values(['data', 'provincia'])\n",
    "df = pd.merge(df, pm10_df, how='outer', on=[\"data\", \"provincia\"]).sort_values(['data', 'provincia'])\n",
    "\n",
    "df=df.reset_index()"
   ]
  },
  {
   "cell_type": "markdown",
   "metadata": {},
   "source": [
    "Creazione degli indici temporali"
   ]
  },
  {
   "cell_type": "code",
   "execution_count": null,
   "metadata": {},
   "outputs": [],
   "source": [
    "df_new = df.copy()\n",
    "df_new[\"time_idx\"] = (df_new['data'].dt.year * 52) + df_new['data'].dt.isocalendar().week\n",
    "df_new[\"relative_time_w\"] = df_new['data'].dt.isocalendar().week\n",
    "df_new[\"relative_time_m\"] = df_new['data'].dt.month\n",
    "df_new[\"relative_time_y\"] = df_new['data'].dt.year\n",
    "df_new[\"time_idx\"] -= df_new[\"time_idx\"].min()\n",
    "df_new[\"time_idx\"] = df_new[\"time_idx\"].astype(int)\n",
    "\n",
    "df_new=df_new.drop(\"data\", axis=1)"
   ]
  },
  {
   "cell_type": "code",
   "execution_count": null,
   "metadata": {},
   "outputs": [],
   "source": [
    "df_new"
   ]
  },
  {
   "cell_type": "markdown",
   "metadata": {},
   "source": [
    "Fill settimanale dei dati"
   ]
  },
  {
   "cell_type": "code",
   "execution_count": null,
   "metadata": {},
   "outputs": [],
   "source": [
    "dense_df = pd.DataFrame()\n",
    "for time in range(df_new[\"time_idx\"].min(),df_new[\"time_idx\"].max()+1):\n",
    "    dense_df = dense_df.append({\"time_idx\":time,\"provincia\":df_new[\"provincia\"].unique()},ignore_index=True)\n",
    "    dense_df = dense_df.explode(\"provincia\")\n",
    "dense_df = dense_df.set_index([\"time_idx\",\"provincia\"]).join(df_new.set_index([\"time_idx\",\"provincia\"]),how='outer')\n",
    "dense_df = dense_df.reset_index()\n",
    "dense_df = dense_df.sort_values(by=[\"provincia\",\"time_idx\",\"relative_time_w\"])\n",
    "dense_df = dense_df.ffill()\n",
    "dense_df"
   ]
  },
  {
   "cell_type": "markdown",
   "metadata": {},
   "source": [
    "Raggruppamento settimanale dei dati"
   ]
  },
  {
   "cell_type": "code",
   "execution_count": null,
   "metadata": {},
   "outputs": [],
   "source": [
    "df_settimanale = dense_df.groupby(by=[\"provincia\",\"time_idx\"]).agg({\"azoto_oraria_max\":\"mean\", \"zolfo_giornaliera\":\"mean\", \"carbonio_8h_max\":\"mean\", \"ozono_8h_max\":\"mean\", \"pm2dot5_giornaliera\":\"mean\", \"pm10_giornaliera\":\"mean\", \"relative_time_w\":\"mean\",\"relative_time_y\":\"mean\", \"relative_time_m\":\"mean\"})\n",
    "df_settimanale = df_settimanale.reset_index()\n",
    "df_settimanale"
   ]
  },
  {
   "cell_type": "markdown",
   "metadata": {},
   "source": [
    "## Visualizzazione delle serie temporali"
   ]
  },
  {
   "cell_type": "code",
   "execution_count": null,
   "metadata": {},
   "outputs": [],
   "source": [
    "import plotly.express as px\n",
    "for provincia in list(df_settimanale[\"provincia\"].unique()):\n",
    "    plot_df = df_settimanale[df_settimanale[\"provincia\"]==provincia][[\"time_idx\",\"pm10_giornaliera\"]]\n",
    "    fig = px.line(plot_df, x=\"time_idx\",y=\"pm10_giornaliera\", title=\"Provincia: {}\".format(provincia))\n",
    "    fig.show()"
   ]
  },
  {
   "cell_type": "code",
   "execution_count": null,
   "metadata": {},
   "outputs": [],
   "source": [
    "import plotly.express as px\n",
    "for provincia in list(df_settimanale[\"provincia\"].unique()):\n",
    "    plot_df = df_settimanale[df_settimanale[\"provincia\"]==provincia][[\"time_idx\",\"pm2dot5_giornaliera\"]]\n",
    "    fig = px.line(plot_df, x=\"time_idx\",y=\"pm2dot5_giornaliera\", title=\"Provincia: {}\".format(provincia))\n",
    "    fig.show()"
   ]
  },
  {
   "cell_type": "code",
   "execution_count": null,
   "metadata": {},
   "outputs": [],
   "source": [
    "import plotly.express as px\n",
    "for provincia in list(df_settimanale[\"provincia\"].unique()):\n",
    "    plot_df = df_settimanale[df_settimanale[\"provincia\"]==provincia][[\"time_idx\",\"carbonio_8h_max\"]]\n",
    "    fig = px.line(plot_df, x=\"time_idx\",y=\"carbonio_8h_max\", title=\"Provincia: {}\".format(provincia))\n",
    "    fig.show()"
   ]
  },
  {
   "cell_type": "code",
   "execution_count": null,
   "metadata": {},
   "outputs": [],
   "source": [
    "import plotly.express as px\n",
    "for provincia in list(df_settimanale[\"provincia\"].unique()):\n",
    "    plot_df = df_settimanale[df_settimanale[\"provincia\"]==provincia][[\"time_idx\",\"azoto_oraria_max\"]]\n",
    "    fig = px.line(plot_df, x=\"time_idx\",y=\"azoto_oraria_max\", title=\"Provincia: {}\".format(provincia))\n",
    "    fig.show()"
   ]
  },
  {
   "cell_type": "code",
   "execution_count": null,
   "metadata": {},
   "outputs": [],
   "source": [
    "import plotly.express as px\n",
    "for provincia in list(df_settimanale[\"provincia\"].unique()):\n",
    "    plot_df = df_settimanale[df_settimanale[\"provincia\"]==provincia][[\"time_idx\",\"zolfo_giornaliera\"]]\n",
    "    fig = px.line(plot_df, x=\"time_idx\",y=\"zolfo_giornaliera\", title=\"Provincia: {}\".format(provincia))\n",
    "    fig.show()"
   ]
  },
  {
   "cell_type": "code",
   "execution_count": null,
   "metadata": {},
   "outputs": [],
   "source": [
    "import plotly.express as px\n",
    "for provincia in list(df_settimanale[\"provincia\"].unique()):\n",
    "    plot_df = df_settimanale[df_settimanale[\"provincia\"]==provincia][[\"time_idx\",\"ozono_8h_max\"]]\n",
    "    fig = px.line(plot_df, x=\"time_idx\",y=\"ozono_8h_max\", title=\"Provincia: {}\".format(provincia))\n",
    "    fig.show()"
   ]
  },
  {
   "cell_type": "markdown",
   "metadata": {},
   "source": [
    "Tolgo i dati relativi al carbonio che sembrano essere danneggiati per Gorizia e Pordenone. Anche i dati relativi allo zolfo non sono validi per Pordenone, ma essendo un valore costante non dovrebbe danneggiare il training, se non ci mettiamo a predire proprio lo zolfo."
   ]
  },
  {
   "cell_type": "code",
   "execution_count": null,
   "metadata": {},
   "outputs": [],
   "source": [
    "df_settimanale=df_settimanale.drop(columns=[\"carbonio_8h_max\"])"
   ]
  },
  {
   "cell_type": "code",
   "execution_count": null,
   "metadata": {},
   "outputs": [],
   "source": [
    "df_settimanale"
   ]
  },
  {
   "cell_type": "markdown",
   "metadata": {},
   "source": [
    "## Integrazione dati impianti di trattamento rifiuti\n",
    "\n",
    "Semplice idea: aggiungo ad ogni riga un campo contenente il numero di impianti ubicati nella provincia di ciascuna rilevazione (colonna non in forma normale: è un problema?"
   ]
  },
  {
   "cell_type": "code",
   "execution_count": null,
   "metadata": {},
   "outputs": [],
   "source": [
    "def getProvinceInitials(province):\n",
    "    if province == \"Trieste\":\n",
    "        return \"TS\"\n",
    "    elif province == \"Pordenone\":\n",
    "        return \"PN\"\n",
    "    elif province == \"Gorizia\":\n",
    "        return \"GO\"\n",
    "    else:\n",
    "        return province\n",
    "\n",
    "# Rimuovo tutte le colonne, tranne la sigla della provincia, e la rinomino\n",
    "trattamento_rifiuti_solo_prov_df = trattamento_rifiuti_df\n",
    "for col in trattamento_rifiuti_solo_prov_df:\n",
    "    if col != \"Prov.\":\n",
    "        trattamento_rifiuti_solo_prov_df.drop(columns=col, inplace=True)\n",
    "\n",
    "trattamento_rifiuti_solo_prov_df = trattamento_rifiuti_solo_prov_df.rename(columns={'Prov.': 'sigla_provincia'})\n",
    "\n",
    "# Sicuramente esiste un modo più intelligente per fare ciò che segue :)\n",
    "# Aggiungo una colonna di soli '1'\n",
    "trattamento_rifiuti_solo_prov_df[\"numero\"] = 1\n",
    "# Riduzione della colonna contando le comparse di ciascuna sigla\n",
    "trattamento_rifiuti_per_prov_df = trattamento_rifiuti_solo_prov_df.groupby(by=\"sigla_provincia\").agg({\"numero\":\"sum\"})\n",
    "\n",
    "# Aggiungo la relativa colonna al df_settimanale\n",
    "df_settimanale = df_settimanale.assign(impianti_rifiuti=[trattamento_rifiuti_per_prov_df.loc[getProvinceInitials(line[\"provincia\"])].numero for line in df_settimanale.iloc])\n",
    "\n",
    "df_settimanale"
   ]
  },
  {
   "cell_type": "code",
   "execution_count": null,
   "metadata": {},
   "outputs": [],
   "source": [
    "trattamento_rifiuti_per_prov_df"
   ]
  },
  {
   "cell_type": "markdown",
   "metadata": {},
   "source": [
    "## Integrazione dati siti inquinati"
   ]
  },
  {
   "cell_type": "code",
   "execution_count": null,
   "metadata": {},
   "outputs": [],
   "source": [
    "siti_inquinati_df.drop(columns=['comune', 'Unnamed: 0'], inplace=True)\n",
    "siti_inquinati_df[\"numero\"] = 1\n",
    "# Riduzione della colonna contando le comparse di ciascuna sigla\n",
    "siti_inquinati_df = siti_inquinati_df.groupby(by=\"provincia\").agg({\"numero\":\"sum\"})\n",
    "\n",
    "# Aggiungo la relativa colonna al df_settimanale\n",
    "df_settimanale = df_settimanale.assign(siti_inquinati=[siti_inquinati_df.loc[line[\"provincia\"]].numero for line in df_settimanale.iloc])\n",
    "\n",
    "df_settimanale"
   ]
  },
  {
   "cell_type": "markdown",
   "metadata": {},
   "source": [
    "## Salvataggio dati"
   ]
  },
  {
   "cell_type": "code",
   "execution_count": null,
   "metadata": {},
   "outputs": [],
   "source": [
    "df_settimanale.to_csv(\"processed_data/first_dataset.csv\")"
   ]
  }
 ],
 "metadata": {
  "interpreter": {
   "hash": "3e8ba394dfecf69ab3b214a23e7e279956d3407d86cf3cc4fe5cfb6d1f0e6e68"
  },
  "kernelspec": {
   "display_name": "Python 3 (ipykernel)",
   "language": "python",
   "name": "python3"
  },
  "language_info": {
   "codemirror_mode": {
    "name": "ipython",
    "version": 3
   },
   "file_extension": ".py",
   "mimetype": "text/x-python",
   "name": "python",
   "nbconvert_exporter": "python",
   "pygments_lexer": "ipython3",
   "version": "3.8.12"
  }
 },
 "nbformat": 4,
 "nbformat_minor": 2
}
